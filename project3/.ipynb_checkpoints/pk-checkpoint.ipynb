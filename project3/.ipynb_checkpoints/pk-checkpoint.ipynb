{
 "cells": [
  {
   "cell_type": "code",
   "execution_count": 4,
   "metadata": {},
   "outputs": [],
   "source": "from classy import Class\nimport math\nimport matplotlib.pyplot as plt\nfrom math import pi\nimport numpy as np"
  },
  {
   "cell_type": "markdown",
   "metadata": {},
   "source": "#### Initiate CLASS"
  },
  {
   "cell_type": "code",
   "execution_count": 2,
   "metadata": {},
   "outputs": [],
   "source": "LambdaCDM = Class()\nLambdaCDM.set({'output':'tCl,pCl,lCl,mPk','P_k_max_1/Mpc':10.0,'z_pk':2.})\nLambdaCDM.compute()"
  },
  {
   "cell_type": "markdown",
   "metadata": {},
   "source": "#### Initialize variables for $V_{eff}$ calculation"
  },
  {
   "cell_type": "code",
   "execution_count": 144,
   "metadata": {},
   "outputs": [],
   "source": "# SDSS values\nh = LambdaCDM.h()\nVsurv_sdss = 1e9\nmeann_sdss = 1e-4\nz_sdss = 0.3\nkmax_sdss = 0.1"
  },
  {
   "cell_type": "markdown",
   "metadata": {},
   "source": "#### Compute and plot 2D power spectrum: $P(k,z)$"
  },
  {
   "cell_type": "code",
   "execution_count": 145,
   "metadata": {},
   "outputs": [],
   "source": "def pk(kmax,z):\n    kk = np.logspace(-4,np.log10(kmax),1000) # k in h/Mpc\n    Pk0 = [] # default, z=0\n    Pk = [] # for varied z\n    for k in kk:\n        Pk0.append(LambdaCDM.pk(k,0.)) \n        Pk.append(LambdaCDM.pk(k,z)) \n    if 0: \n        plt.figure(2)\n        plt.xlim(kk[0],kk[-1])\n        plt.xlabel(r'$k \\,\\,\\,\\, [h/\\mathrm{Mpc}]$')\n        plt.ylabel(r'$P(k) \\,\\,\\,\\, [\\mathrm{Mpc}/h]^3$')\n        plt.loglog(kk,Pk0,'b-')\n        plt.loglog(kk,Pk,'r-')\n        plt.show()\n    \n    return kk,Pk0,Pk"
  },
  {
   "cell_type": "code",
   "execution_count": 146,
   "metadata": {},
   "outputs": [],
   "source": "kk, Pk0, Pk = pk(0.5,z_sdss)"
  },
  {
   "cell_type": "markdown",
   "metadata": {},
   "source": "#### Compute and plot 2D effective volume: $V_{eff}$"
  },
  {
   "cell_type": "code",
   "execution_count": 147,
   "metadata": {},
   "outputs": [],
   "source": "def Veff(k,z,kmax,Vsurv):\n    kk,Pk0,Pk = pk(kmax,z)\n    index = np.where(kk==k)[0][0]\n    return pow((meann*Pk[index])/(meann*Pk[index]+1),2.)*Vsurv"
  },
  {
   "cell_type": "code",
   "execution_count": 149,
   "metadata": {},
   "outputs": [],
   "source": "Vs = []\nfor k in kk:\n    Vs.append(Veff(k,z_sdss,0.5,Vsurv_sdss))"
  },
  {
   "cell_type": "code",
   "execution_count": 150,
   "metadata": {},
   "outputs": [
    {
     "data": {},
     "execution_count": 150,
     "metadata": {},
     "output_type": "execute_result"
    }
   ],
   "source": "Vs"
  },
  {
   "cell_type": "code",
   "execution_count": 151,
   "metadata": {},
   "outputs": [
    {
     "data": {},
     "execution_count": 151,
     "metadata": {},
     "output_type": "execute_result"
    },
    {
     "data": {
      "image/png": "[encoded data removed]"
     },
     "metadata": {
      "needs_background": "light"
     },
     "output_type": "display_data"
    }
   ],
   "source": "plt.xlim(0.01,1)\nplt.ylim(1e7,1e9)\nplt.loglog(kk,Vs)"
  },
  {
   "cell_type": "code",
   "execution_count": null,
   "metadata": {},
   "outputs": [],
   "source": ""
  },
  {
   "cell_type": "markdown",
   "metadata": {},
   "source": "---"
  },
  {
   "cell_type": "code",
   "execution_count": 55,
   "metadata": {},
   "outputs": [],
   "source": "omm=0.27\nomb=0.046\noml=1.0-omm\nwl = oml\nwr = 0\nMnu=0.3\nh=0.72\nomnu=0.2/h/h\ntau=0.1\nnscal=0.963\nalpha=0.0\nascal2=29.5\nascal2*=0.9\nts=0.0\nw0=-1.0\nw = w0\nw1=0.0\nwa = w1\nsigma8=0.809\nomega0 = 0.3\nlambda0 = 0.7    \nomegak=1.0-omega0+lambda0"
  },
  {
   "cell_type": "code",
   "execution_count": 44,
   "metadata": {},
   "outputs": [],
   "source": "def coordDistance(zCall):\n    if (abs(omega0-1.0) < 1.0e-5 and abs(lambda0) < 1.0e-5):\n        cDist = 2.0*(1.0 - 1.0/sqrt(1.0 + zCall))\n    elif (abs(omega0 + lambda0 - 1.0) < 1.0e-5):\n        cDist = confTime(0.0) - confTime(zCall)\n    elif (omega0 < 1.0 and abs(lambda0) < 1.0e-5):\n        cDist = 2.0*(omega0*zCall + (omega0 - 2.0)*(sqrt(1.0+omega0*zCall) - 1.0))\n        cDist /= omega0*omega0*(1.0 + zCall)\n    else:\n        print(\"Invalid cosmology in coordDistance!\")\n        cDist=coordDistanceNum(zCall)\n        return cDist\n    return cDist"
  },
  {
   "cell_type": "code",
   "execution_count": 45,
   "metadata": {},
   "outputs": [],
   "source": "def angDiamDist(zCall):\n    cDist=coordDistance(zCall)\n\n    if(omegak>1.0e-5):\n        return sinh(sqrt(omegak)*cDist)/(1.0+zCall)/sqrt(omegak)\n    elif(omegak<1.0e-5):\n        return sin(sqrt(-omegak)*cDist)/(1.0+zCall)/sqrt(-omegak)\n    else:\n        return cDist/(1.0+zCall)    "
  },
  {
   "cell_type": "code",
   "execution_count": 46,
   "metadata": {},
   "outputs": [],
   "source": "def Omegamz(z,wm):\n    return wm * pow(1+z,3)"
  },
  {
   "cell_type": "code",
   "execution_count": 47,
   "metadata": {},
   "outputs": [],
   "source": "def OmegaLambdaz(z,wl,w,wa):\n    if (wa !=0):\n        lamZ = wl*pow(1+z,3.0*(1.0+w+wa)) * math.exp(-3.0*wa*z/(1+z))\n    else:\n        lamZ= wl *pow(1+z,3*(1+w))\n    return lamZ   "
  },
  {
   "cell_type": "code",
   "execution_count": 48,
   "metadata": {},
   "outputs": [],
   "source": "def Eofz(wm,wl,wr,w,wa,z):\n    return math.sqrt(Omegamz(z,wm) + OmegaLambdaz(z,wl,w, wa)+ wr*pow(1+z,4))"
  },
  {
   "cell_type": "code",
   "execution_count": 49,
   "metadata": {},
   "outputs": [],
   "source": "def fff(x):\n    return pow(x,3)*(log(1.0+1.0/x)-1.0/(1.0+x))"
  },
  {
   "cell_type": "code",
   "execution_count": 50,
   "metadata": {},
   "outputs": [],
   "source": "def M200toM500(M200):\n    a = [0.5116,-0.4283,-3.13e-3,-3.52e-5]\n    c=5.0\n    f_h=200.0/500.0 *fff(1.0/c)\n    p=a[1] + a[2]*log(f_h)+a[3]*log(f_h)*log(f_h)\n    xoff=1.0/sqrt(a[0]*pow(f_h,2.0*p)+9.0/16.0) +2.0*f_h\n    return M200*500/200 * pow(c*xoff,3.0)"
  },
  {
   "cell_type": "code",
   "execution_count": 51,
   "metadata": {},
   "outputs": [],
   "source": "def mlim(ommhh, wl, wr, w, wa, z):\n    omhh = ommhh\n\n    h = math.sqrt(omhh/(1-wl))\n    wm = omhh/(h*h)\n    da = angDiamDist(z)*cl*1e-5\n    E = Eofz(wm,wl,wr,w,wa, z)\n    mlim=0\n    Ylim_planck=2e-3\n    masscut=8e13\n    \n    if(z != 0):\n        mlim=(1e15)*pow(da*da*pow(E,-2./3.)*(Ylim_planck*pow(d2r/60,2)/2.504e-4), 1./1.876)\n    \n    mmin=M200toM500(mlim)\n    \n    if (mmin <= masscut):\n        return masscut\n    else:\n        return mmin"
  },
  {
   "cell_type": "code",
   "execution_count": 52,
   "metadata": {},
   "outputs": [],
   "source": "def NFR(frflag,h,wa,w,wmmmhh, wlll, wbbbhh,\n        wrrr,  sigmaa8, nspecc, zzz1, zzz2, \n        Mmm1, Mmm2,Bm0, sigma0, alpha, beta):\n    zz= zzz1\n    intz= (zzz2-zzz1)/50.\n    \n    for k in range(50):\n        ml=cal_mlim(wmmmhh,wlll,wrrr,w,wa,zz)\n        result += NofzFR(frflag,wa,w,wmmmhh,wlll,wbbbhh,wrrr,sigmaa8,nspecc,zz,Mmm1,ml,Bm0,sigma0,alpha,beta) * intz\n        zz +=intz \n\n    return result"
  },
  {
   "cell_type": "code",
   "execution_count": 53,
   "metadata": {},
   "outputs": [
    {
     "ename": "SyntaxError",
     "evalue": "invalid syntax (<ipython-input-53-a28406b36b6b>, line 4)",
     "output_type": "error",
     "traceback": [
      "\u001b[0;36m  File \u001b[0;32m\"<ipython-input-53-a28406b36b6b>\"\u001b[0;36m, line \u001b[0;32m4\u001b[0m\n\u001b[0;31m    double MassF=0,\u001b[0m\n\u001b[0m               ^\u001b[0m\n\u001b[0;31mSyntaxError\u001b[0m\u001b[0;31m:\u001b[0m invalid syntax\n"
     ]
    }
   ],
   "source": "#todo\ndef NofzFR(frflag, wa, w, wmmmhh, wlll, wbbbhh, wrrr, sigmaa8,\n           nspecc, zzz, Mmm1, Mmm2, Bm0, sigma0, alpha, beta):\n    double MassF=0, \n    deltaM=pow(10,0.05),\n    xm1=0, \n    xm2=0, \n    Bm=0.1, \n    sigmaMM=0.1, \n    Md=0\n    double NNN=0,\n    nn=1\n    double omnu = 0.0\n    double h=sqrt(wmmmhh/(1-wlll))\n    Cosmology my_cosmo(wmmmhh/(h*h), wlll, wbbbhh/(h*h), h, sigmaa8, nspecc, omnu, w, wa)\n\n    Bm=Bm0*pow((1+zzz),alpha)\n    sigmaMM=sigma0*pow((1+zzz),beta)\n    Md=1e13\n\n    for k in range(100):\n    if (frflag) nn=findNnn(zzz,Md,FR_name, wmmmhh/(h*h))\n    if (nn <1) nn=1\n    MassF=nn*my_cosmo.dndlMTinker(zzz,Md)/Md\n    xm1=(log(Mmm1)-Bm-log(Md))/(sqrt(2)*sigmaMM)\n    xm2=(log(Mmm2)-Bm-log(Md))/(sqrt(2)*sigmaMM)\n    NNN +=MassF*Md *(deltaM-1) *(erfc(xm2)-erfc(xm1))\n    Md *=deltaM\n\n    return NNN*ComovingVolume(zzz,wmmmhh,wrrr,wlll,w, wa)/2.0"
  },
  {
   "cell_type": "code",
   "execution_count": 54,
   "metadata": {
    "scrolled": true
   },
   "outputs": [
    {
     "ename": "NameError",
     "evalue": "global name 'omega0' is not defined",
     "output_type": "error",
     "traceback": [
      "\u001b[0;31m---------------------------------------------------------------------------\u001b[0m",
      "\u001b[0;31mNameError\u001b[0m                                 Traceback (most recent call last)",
      "\u001b[0;32m<ipython-input-54-bb782c1d033e>\u001b[0m in \u001b[0;36m<module>\u001b[0;34m()\u001b[0m\n\u001b[0;32m----> 1\u001b[0;31m \u001b[0mmlim\u001b[0m\u001b[0;34m(\u001b[0m\u001b[0momm\u001b[0m\u001b[0;34m*\u001b[0m\u001b[0mh\u001b[0m\u001b[0;34m*\u001b[0m\u001b[0mh\u001b[0m\u001b[0;34m,\u001b[0m \u001b[0mwl\u001b[0m\u001b[0;34m,\u001b[0m \u001b[0mwr\u001b[0m\u001b[0;34m,\u001b[0m \u001b[0mw\u001b[0m\u001b[0;34m,\u001b[0m \u001b[0mwa\u001b[0m\u001b[0;34m,\u001b[0m \u001b[0;36m0.1\u001b[0m\u001b[0;34m)\u001b[0m\u001b[0;34m\u001b[0m\u001b[0;34m\u001b[0m\u001b[0m\n\u001b[0m",
      "\u001b[0;32m<ipython-input-51-0d4754c98619>\u001b[0m in \u001b[0;36mmlim\u001b[0;34m(ommhh, wl, wr, w, wa, z)\u001b[0m\n\u001b[1;32m      4\u001b[0m     \u001b[0mh\u001b[0m \u001b[0;34m=\u001b[0m \u001b[0mmath\u001b[0m\u001b[0;34m.\u001b[0m\u001b[0msqrt\u001b[0m\u001b[0;34m(\u001b[0m\u001b[0momhh\u001b[0m\u001b[0;34m/\u001b[0m\u001b[0;34m(\u001b[0m\u001b[0;36m1\u001b[0m\u001b[0;34m-\u001b[0m\u001b[0mwl\u001b[0m\u001b[0;34m)\u001b[0m\u001b[0;34m)\u001b[0m\u001b[0;34m\u001b[0m\u001b[0;34m\u001b[0m\u001b[0m\n\u001b[1;32m      5\u001b[0m     \u001b[0mwm\u001b[0m \u001b[0;34m=\u001b[0m \u001b[0momhh\u001b[0m\u001b[0;34m/\u001b[0m\u001b[0;34m(\u001b[0m\u001b[0mh\u001b[0m\u001b[0;34m*\u001b[0m\u001b[0mh\u001b[0m\u001b[0;34m)\u001b[0m\u001b[0;34m\u001b[0m\u001b[0;34m\u001b[0m\u001b[0m\n\u001b[0;32m----> 6\u001b[0;31m     \u001b[0mda\u001b[0m \u001b[0;34m=\u001b[0m \u001b[0mangDiamDist\u001b[0m\u001b[0;34m(\u001b[0m\u001b[0mz\u001b[0m\u001b[0;34m)\u001b[0m\u001b[0;34m*\u001b[0m\u001b[0mcl\u001b[0m\u001b[0;34m*\u001b[0m\u001b[0;36m1e-5\u001b[0m\u001b[0;34m\u001b[0m\u001b[0;34m\u001b[0m\u001b[0m\n\u001b[0m\u001b[1;32m      7\u001b[0m     \u001b[0mE\u001b[0m \u001b[0;34m=\u001b[0m \u001b[0mEofz\u001b[0m\u001b[0;34m(\u001b[0m\u001b[0mwm\u001b[0m\u001b[0;34m,\u001b[0m\u001b[0mwl\u001b[0m\u001b[0;34m,\u001b[0m\u001b[0mwr\u001b[0m\u001b[0;34m,\u001b[0m\u001b[0mw\u001b[0m\u001b[0;34m,\u001b[0m\u001b[0mwa\u001b[0m\u001b[0;34m,\u001b[0m \u001b[0mz\u001b[0m\u001b[0;34m)\u001b[0m\u001b[0;34m\u001b[0m\u001b[0;34m\u001b[0m\u001b[0m\n\u001b[1;32m      8\u001b[0m     \u001b[0mmlim\u001b[0m\u001b[0;34m=\u001b[0m\u001b[0;36m0\u001b[0m\u001b[0;34m\u001b[0m\u001b[0;34m\u001b[0m\u001b[0m\n",
      "\u001b[0;32m<ipython-input-45-b6ee968d72ec>\u001b[0m in \u001b[0;36mangDiamDist\u001b[0;34m(zCall)\u001b[0m\n\u001b[1;32m      3\u001b[0m     \u001b[0mlambda0\u001b[0m \u001b[0;34m=\u001b[0m \u001b[0;36m0.7\u001b[0m\u001b[0;34m\u001b[0m\u001b[0;34m\u001b[0m\u001b[0m\n\u001b[1;32m      4\u001b[0m     \u001b[0momegak\u001b[0m\u001b[0;34m=\u001b[0m\u001b[0;36m1.0\u001b[0m\u001b[0;34m-\u001b[0m\u001b[0momega0\u001b[0m\u001b[0;34m+\u001b[0m\u001b[0mlambda0\u001b[0m\u001b[0;34m\u001b[0m\u001b[0;34m\u001b[0m\u001b[0m\n\u001b[0;32m----> 5\u001b[0;31m     \u001b[0mcDist\u001b[0m\u001b[0;34m=\u001b[0m\u001b[0mcoordDistance\u001b[0m\u001b[0;34m(\u001b[0m\u001b[0mzCall\u001b[0m\u001b[0;34m)\u001b[0m\u001b[0;34m\u001b[0m\u001b[0;34m\u001b[0m\u001b[0m\n\u001b[0m\u001b[1;32m      6\u001b[0m \u001b[0;34m\u001b[0m\u001b[0m\n\u001b[1;32m      7\u001b[0m     \u001b[0;32mif\u001b[0m\u001b[0;34m(\u001b[0m\u001b[0momegak\u001b[0m\u001b[0;34m>\u001b[0m\u001b[0;36m1.0e-5\u001b[0m\u001b[0;34m)\u001b[0m\u001b[0;34m:\u001b[0m\u001b[0;34m\u001b[0m\u001b[0;34m\u001b[0m\u001b[0m\n",
      "\u001b[0;32m<ipython-input-44-19b432896261>\u001b[0m in \u001b[0;36mcoordDistance\u001b[0;34m(zCall)\u001b[0m\n\u001b[1;32m      1\u001b[0m \u001b[0;32mdef\u001b[0m \u001b[0mcoordDistance\u001b[0m\u001b[0;34m(\u001b[0m\u001b[0mzCall\u001b[0m\u001b[0;34m)\u001b[0m\u001b[0;34m:\u001b[0m\u001b[0;34m\u001b[0m\u001b[0;34m\u001b[0m\u001b[0m\n\u001b[0;32m----> 2\u001b[0;31m     \u001b[0;32mif\u001b[0m \u001b[0;34m(\u001b[0m\u001b[0mabs\u001b[0m\u001b[0;34m(\u001b[0m\u001b[0momega0\u001b[0m\u001b[0;34m-\u001b[0m\u001b[0;36m1.0\u001b[0m\u001b[0;34m)\u001b[0m \u001b[0;34m<\u001b[0m \u001b[0;36m1.0e-5\u001b[0m \u001b[0;32mand\u001b[0m \u001b[0mabs\u001b[0m\u001b[0;34m(\u001b[0m\u001b[0mlambda0\u001b[0m\u001b[0;34m)\u001b[0m \u001b[0;34m<\u001b[0m \u001b[0;36m1.0e-5\u001b[0m\u001b[0;34m)\u001b[0m\u001b[0;34m:\u001b[0m\u001b[0;34m\u001b[0m\u001b[0;34m\u001b[0m\u001b[0m\n\u001b[0m\u001b[1;32m      3\u001b[0m         \u001b[0mcDist\u001b[0m \u001b[0;34m=\u001b[0m \u001b[0;36m2.0\u001b[0m\u001b[0;34m*\u001b[0m\u001b[0;34m(\u001b[0m\u001b[0;36m1.0\u001b[0m \u001b[0;34m-\u001b[0m \u001b[0;36m1.0\u001b[0m\u001b[0;34m/\u001b[0m\u001b[0msqrt\u001b[0m\u001b[0;34m(\u001b[0m\u001b[0;36m1.0\u001b[0m \u001b[0;34m+\u001b[0m \u001b[0mzCall\u001b[0m\u001b[0;34m)\u001b[0m\u001b[0;34m)\u001b[0m\u001b[0;34m\u001b[0m\u001b[0;34m\u001b[0m\u001b[0m\n\u001b[1;32m      4\u001b[0m     \u001b[0;32melif\u001b[0m \u001b[0;34m(\u001b[0m\u001b[0mabs\u001b[0m\u001b[0;34m(\u001b[0m\u001b[0momega0\u001b[0m \u001b[0;34m+\u001b[0m \u001b[0mlambda0\u001b[0m \u001b[0;34m-\u001b[0m \u001b[0;36m1.0\u001b[0m\u001b[0;34m)\u001b[0m \u001b[0;34m<\u001b[0m \u001b[0;36m1.0e-5\u001b[0m\u001b[0;34m)\u001b[0m\u001b[0;34m:\u001b[0m\u001b[0;34m\u001b[0m\u001b[0;34m\u001b[0m\u001b[0m\n\u001b[1;32m      5\u001b[0m         \u001b[0mcDist\u001b[0m \u001b[0;34m=\u001b[0m \u001b[0mconfTime\u001b[0m\u001b[0;34m(\u001b[0m\u001b[0;36m0.0\u001b[0m\u001b[0;34m)\u001b[0m \u001b[0;34m-\u001b[0m \u001b[0mconfTime\u001b[0m\u001b[0;34m(\u001b[0m\u001b[0mzCall\u001b[0m\u001b[0;34m)\u001b[0m\u001b[0;34m\u001b[0m\u001b[0;34m\u001b[0m\u001b[0m\n",
      "\u001b[0;31mNameError\u001b[0m: global name 'omega0' is not defined"
     ]
    }
   ],
   "source": "mlim(omm*h*h, wl, wr, w, wa, 0.1)"
  },
  {
   "cell_type": "markdown",
   "metadata": {},
   "source": "---"
  },
  {
   "cell_type": "code",
   "execution_count": 5,
   "metadata": {},
   "outputs": [
    {
     "data": {
      "text/html": "<div>\n<style scoped>\n    .dataframe tbody tr th:only-of-type {\n        vertical-align: middle;\n    }\n\n    .dataframe tbody tr th {\n        vertical-align: top;\n    }\n\n    .dataframe thead th {\n        text-align: right;\n    }\n</style>\n<table border=\"1\" class=\"dataframe\">\n  <thead>\n    <tr style=\"text-align: right;\">\n      <th></th>\n      <th>0</th>\n      <th>1</th>\n    </tr>\n  </thead>\n  <tbody>\n    <tr>\n      <th>0</th>\n      <td>0.0</td>\n      <td>0.000</td>\n    </tr>\n    <tr>\n      <th>1</th>\n      <td>0.1</td>\n      <td>9405.870</td>\n    </tr>\n    <tr>\n      <th>2</th>\n      <td>0.2</td>\n      <td>2623.000</td>\n    </tr>\n    <tr>\n      <th>3</th>\n      <td>0.3</td>\n      <td>1140.740</td>\n    </tr>\n    <tr>\n      <th>4</th>\n      <td>0.4</td>\n      <td>613.838</td>\n    </tr>\n  </tbody>\n</table>\n</div>",
      "text/plain": "     0         1\n0  0.0     0.000\n1  0.1  9405.870\n2  0.2  2623.000\n3  0.3  1140.740\n4  0.4   613.838"
     },
     "execution_count": 5,
     "metadata": {},
     "output_type": "execute_result"
    }
   ],
   "source": "import pandas as pd\ndf = pd.read_csv('example.csv',header=-1)\ndf.head()"
  },
  {
   "cell_type": "code",
   "execution_count": null,
   "metadata": {},
   "outputs": [],
   "source": ""
  }
 ],
 "metadata": {
  "kernelspec": {
   "display_name": "Python 2",
   "language": "python",
   "name": "python2"
  },
  "language_info": {
   "codemirror_mode": {
    "name": "ipython",
    "version": 2
   },
   "file_extension": ".py",
   "mimetype": "text/x-python",
   "name": "python",
   "nbconvert_exporter": "python",
   "pygments_lexer": "ipython2",
   "version": "2.7.15+"
  }
 },
 "nbformat": 4,
 "nbformat_minor": 1
}
