{
 "cells": [
  {
   "cell_type": "code",
   "execution_count": 35,
   "id": "800607c5",
   "metadata": {},
   "outputs": [],
   "source": [
    "# Importing the libraries\n",
    "import numpy as np\n",
    "import matplotlib.pyplot as plt\n",
    "import pandas as pd\n",
    "from sklearn import linear_model\n",
    "from multiprocessing import Pool\n",
    "import healpy as hp\n",
    "from astropy.coordinates import SkyCoord\n",
    "from sklearn.pipeline import make_pipeline\n",
    "from sklearn.preprocessing import StandardScaler\n",
    "# %matplotlib notebook\n",
    "\n",
    "import matplotlib.pyplot as plt\n",
    "from mpl_toolkits.mplot3d import axes3d    \n",
    "import random\n",
    "from sklearn.svm import SVC\n",
    "from sklearn import svm\n",
    "from sklearn.pipeline import make_pipeline\n",
    "import matplotlib\n",
    "matplotlib.rcParams['mathtext.fontset'] = 'stix'\n",
    "matplotlib.rcParams['font.family'] = 'STIXGeneral'\n",
    "\n",
    "import warnings\n",
    "warnings.filterwarnings('ignore')"
   ]
  },
  {
   "cell_type": "code",
   "execution_count": 36,
   "id": "6b19b6b6",
   "metadata": {},
   "outputs": [],
   "source": [
    "df = pd.read_csv('data/awd.csv', skiprows = 0, index_col=0)\n",
    "df['i100'] = np.loadtxt('output/510/pr100.csv',delimiter=', ')\n",
    "df['i143'] = np.loadtxt('output/510/pr143.csv',delimiter=', ')\n",
    "df['i217'] = np.loadtxt('output/510/pr217.csv',delimiter=', ')\n",
    "df['i353'] = np.loadtxt('output/510/pr353.csv',delimiter=', ')\n",
    "df['i545'] = np.loadtxt('output/510/pr545.csv',delimiter=', ')\n",
    "df['i857'] = np.loadtxt('output/510/pr857.csv',delimiter=', ')\n",
    "df['i090'] = np.loadtxt('output/510/ar90.csv',delimiter=', ')\n",
    "df['i150'] = np.loadtxt('output/510/ar150.csv',delimiter=', ')\n",
    "df['i220'] = np.loadtxt('output/510/ar220.csv',delimiter=', ')\n",
    "df['iros'] = np.loadtxt('output/510/rr.csv',delimiter=', ')\n",
    "df['cluster'] = 1\n",
    "\n",
    "df2 = pd.read_csv('data/voids.csv', skiprows = 0, index_col=0)\n",
    "df2['i100'] = np.loadtxt('output/510/pv100.csv',delimiter=', ')\n",
    "df2['i143'] = np.loadtxt('output/510/pv143.csv',delimiter=', ')\n",
    "df2['i217'] = np.loadtxt('output/510/pv217.csv',delimiter=', ')\n",
    "df2['i353'] = np.loadtxt('output/510/pv353.csv',delimiter=', ')\n",
    "df2['i545'] = np.loadtxt('output/510/pv545.csv',delimiter=', ')\n",
    "df2['i857'] = np.loadtxt('output/510/pv857.csv',delimiter=', ')\n",
    "df2['i090'] = np.loadtxt('output/510/av90.csv',delimiter=', ')\n",
    "df2['i150'] = np.loadtxt('output/510/av150.csv',delimiter=', ')\n",
    "df2['i220'] = np.loadtxt('output/510/av220.csv',delimiter=', ')\n",
    "df2['iros'] = np.loadtxt('output/510/rv.csv',delimiter=', ')\n",
    "df2['cluster'] = 0\n",
    "\n",
    "df3 = df.append(df2, ignore_index=True).reset_index(drop=True)"
   ]
  },
  {
   "cell_type": "code",
   "execution_count": 38,
   "id": "786cdea4",
   "metadata": {},
   "outputs": [
    {
     "data": {
      "text/plain": [
       "<matplotlib.legend.Legend at 0x7fad255dd880>"
      ]
     },
     "execution_count": 38,
     "metadata": {},
     "output_type": "execute_result"
    },
    {
     "data": {
      "image/png": "[encoded data removed]",
      "text/plain": [
       "<Figure size 432x288 with 1 Axes>"
      ]
     },
     "metadata": {
      "needs_background": "light"
     },
     "output_type": "display_data"
    }
   ],
   "source": [
    "plt.hist(df[df.i220!=-9999].i220,density=True,bins=100,range=(-1000,1000),label='real')\n",
    "plt.hist(df2[df2.i220!=-9999].i220,density=True,bins=100,alpha=0.5,range=(-1000,1000),label='nonclust')\n",
    "plt.xlim(-1000,1000)\n",
    "plt.legend()"
   ]
  },
  {
   "cell_type": "code",
   "execution_count": 39,
   "id": "9dea1154",
   "metadata": {},
   "outputs": [],
   "source": [
    "df5 = pd.read_csv('data/awd.csv', skiprows = 0, index_col=0)\n",
    "df5['i100'] = np.loadtxt('output/beam/pr100.csv',delimiter=', ')\n",
    "df5['i143'] = np.loadtxt('output/beam/pr143.csv',delimiter=', ')\n",
    "df5['i217'] = np.loadtxt('output/beam/pr217.csv',delimiter=', ')\n",
    "df5['i353'] = np.loadtxt('output/beam/pr353.csv',delimiter=', ')\n",
    "df5['i545'] = np.loadtxt('output/beam/pr545.csv',delimiter=', ')\n",
    "df5['i857'] = np.loadtxt('output/beam/pr857.csv',delimiter=', ')\n",
    "df5['i090'] = np.loadtxt('output/beam/ar90.csv',delimiter=', ')\n",
    "df5['i150'] = np.loadtxt('output/beam/ar150.csv',delimiter=', ')\n",
    "df5['i220'] = np.loadtxt('output/beam/ar220.csv',delimiter=', ')\n",
    "df5['iros'] = np.loadtxt('output/beam/rr.csv',delimiter=', ')\n",
    "df5['cluster'] = 1\n",
    "\n",
    "df4 = pd.read_csv('data/voids.csv', skiprows = 0, index_col=0)\n",
    "df4['i100'] = np.loadtxt('output/beam/pv100.csv',delimiter=', ')\n",
    "df4['i143'] = np.loadtxt('output/beam/pv143.csv',delimiter=', ')\n",
    "df4['i217'] = np.loadtxt('output/beam/pv217.csv',delimiter=', ')\n",
    "df4['i353'] = np.loadtxt('output/beam/pv353.csv',delimiter=', ')\n",
    "df4['i545'] = np.loadtxt('output/beam/pv545.csv',delimiter=', ')\n",
    "df4['i857'] = np.loadtxt('output/beam/pv857.csv',delimiter=', ')\n",
    "df4['i090'] = np.loadtxt('output/beam/av90.csv',delimiter=', ')\n",
    "df4['i150'] = np.loadtxt('output/beam/av150.csv',delimiter=', ')\n",
    "df4['i220'] = np.loadtxt('output/beam/av220.csv',delimiter=', ')\n",
    "df4['iros'] = np.loadtxt('output/beam/rv.csv',delimiter=', ')\n",
    "df4['cluster'] = 0\n",
    "\n",
    "df6 = df5.append(df4, ignore_index=True).reset_index(drop=True)"
   ]
  },
  {
   "cell_type": "code",
   "execution_count": 47,
   "id": "8b278e17",
   "metadata": {},
   "outputs": [
    {
     "data": {
      "text/plain": [
       "<matplotlib.legend.Legend at 0x7fad24725130>"
      ]
     },
     "execution_count": 47,
     "metadata": {},
     "output_type": "execute_result"
    },
    {
     "data": {
      "image/png": "[encoded data removed]",
      "text/plain": [
       "<Figure size 432x288 with 1 Axes>"
      ]
     },
     "metadata": {
      "needs_background": "light"
     },
     "output_type": "display_data"
    }
   ],
   "source": [
    "plt.hist(df2[df2.i220!=-9999].i220,density=True,bins=100,range=(-1000,1000),label='rad=5')\n",
    "plt.hist(df4[df4.i220!=-9999].i220,density=True,bins=100,alpha=0.5,range=(-1000,1000),label='rad=1.4')\n",
    "plt.xlim(-1000,1000)\n",
    "plt.legend()"
   ]
  },
  {
   "cell_type": "code",
   "execution_count": null,
   "id": "3f55b6cf",
   "metadata": {},
   "outputs": [],
   "source": []
  }
 ],
 "metadata": {
  "kernelspec": {
   "display_name": "Python 3 (ipykernel)",
   "language": "python",
   "name": "python3"
  },
  "language_info": {
   "codemirror_mode": {
    "name": "ipython",
    "version": 3
   },
   "file_extension": ".py",
   "mimetype": "text/x-python",
   "name": "python",
   "nbconvert_exporter": "python",
   "pygments_lexer": "ipython3",
   "version": "3.9.12"
  }
 },
 "nbformat": 4,
 "nbformat_minor": 5
}
