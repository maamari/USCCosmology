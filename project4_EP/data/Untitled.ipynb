{
 "cells": [
  {
   "cell_type": "code",
   "execution_count": null,
   "metadata": {},
   "outputs": [],
   "source": [
    "from astropy.coordinates import SkyCoord\n",
    "from astropy.io import fits\n",
    "import healpy as hp\n",
    "import matplotlib.pyplot as plt\n",
    "import time\n",
    "import sys\n",
    "from pixell import enmap, enplot, reproject, utils, curvedsky, wcsutils\n",
    "from matplotlib import cm\n",
    "from scipy.optimize import curve_fit\n",
    "from scipy.linalg import sqrtm\n",
    "from tqdm import tqdm\n",
    "from mpl_toolkits.axes_grid1.anchored_artists import AnchoredSizeBar\n",
    "import numpy as np\n",
    "import pandas as pd\n",
    "\n",
    "maps = [\"../data/act_dr5.01_s08s18_AA_f090_daynight_map.fits\",\n",
    "        \"../data/act_dr5.01_s08s18_AA_f150_daynight_map.fits\",\n",
    "        \"../data/act_dr5.01_s08s18_AA_f220_daynight_map.fits\"]\n",
    "\n",
    "for x in range(len(maps)):\n",
    "    beam = 1.4\n",
    "    filepath = maps[x]\n",
    "    \n",
    "    map_pix = enmap.read_map(filepath)\n",
    "    return map_pix\n",
    "\n",
    "    awd_not_adv = pd.read_csv('../data/awd_not_adv.csv', skiprows = 0)\n",
    "\n",
    "    zs = [0, 0.32, 100]\n",
    "    rhs = [0, 27, 100000]\n",
    "\n",
    "    stacks = []\n",
    "    lens = []\n",
    "    riches = []\n",
    "    reds = []\n",
    "\n",
    "    for j in range(len(zs)):\n",
    "        for k in range(len(rhs)):\n",
    "            stack_CMB_kSZ           = 0\n",
    "            stack_CMB_kSZ_deproject = 0\n",
    "            c = 0\n",
    "            riches.append(rhs[k])\n",
    "            reds.append(zs[j])\n",
    "            if j == len(zs)-1:\n",
    "                if k == len(rhs)-1:\n",
    "                    ras = awd_not_adv[(awd_not_adv.amf_z<zs[j]) & (awd_not_adv.amf_z>0) & (awd_not_adv.amf_rh<rhs[k]) & (awd_not_adv.amf_rh>0)]['amf_ra'].reset_index(drop=True)\n",
    "                    decs = awd_not_adv[(awd_not_adv.amf_z<zs[j]) & (awd_not_adv.amf_z>0) & (awd_not_adv.amf_rh<rhs[k]) & (awd_not_adv.amf_rh>0)]['amf_dec'].reset_index(drop=True)\n",
    "                else:\n",
    "                    ras = awd_not_adv[(awd_not_adv.amf_z<zs[j]) & (awd_not_adv.amf_z>0) & (awd_not_adv.amf_rh<rhs[k+1]) & (awd_not_adv.amf_rh>rhs[k])]['amf_ra'].reset_index(drop=True)\n",
    "                    decs = awd_not_adv[(awd_not_adv.amf_z<zs[j]) & (awd_not_adv.amf_z>0) & (awd_not_adv.amf_rh<rhs[k+1]) & (awd_not_adv.amf_rh>rhs[k])]['amf_dec'].reset_index(drop=True)\n",
    "            elif k == len(rhs)-1:\n",
    "                ras = awd_not_adv[(awd_not_adv.amf_z<zs[j+1]) & (awd_not_adv.amf_z>zs[j]) & (awd_not_adv.amf_rh<rhs[k]) & (awd_not_adv.amf_rh>0)]['amf_ra'].reset_index(drop=True)\n",
    "                decs = awd_not_adv[(awd_not_adv.amf_z<zs[j+1]) & (awd_not_adv.amf_z>zs[j]) & (awd_not_adv.amf_rh<rhs[k]) & (awd_not_adv.amf_rh>0)]['amf_dec'].reset_index(drop=True)\n",
    "            else:\n",
    "                ras = awd_not_adv[(awd_not_adv.amf_z<zs[j+1]) & (awd_not_adv.amf_z>zs[j]) & (awd_not_adv.amf_rh<rhs[k+1]) & (awd_not_adv.amf_rh>rhs[k])]['amf_ra'].reset_index(drop=True)\n",
    "                decs = awd_not_adv[(awd_not_adv.amf_z<zs[j+1]) & (awd_not_adv.amf_z>zs[j]) & (awd_not_adv.amf_rh<rhs[k+1]) & (awd_not_adv.amf_rh>rhs[k])]['amf_dec'].reset_index(drop=True)\n",
    "\n",
    "            N = len(ras)\n",
    "            lens.append(N)\n",
    "\n",
    "            for i in range(N):\n",
    "                stamp = reproject.thumbnails(map_pix,coords = np.deg2rad([decs[i], ras[i]]),r=beam*utils.arcmin)\n",
    "\n",
    "                if stamp is None:\n",
    "                    continue\n",
    "                elif stamp[0][0][0]==0.0:\n",
    "                    continue\n",
    "                else:\n",
    "                    stack_CMB_kSZ += np.array(stamp)\n",
    "                    c+=1\n",
    "\n",
    "            # Normalize the stamps\n",
    "            stack_CMB_kSZ /= c\n",
    "            stack_CMB_kSZ_deproject /= c\n",
    "\n",
    "            stacks.append(stack_CMB_kSZ[0])\n",
    "\n",
    "    f, ax = plt.subplots(nrows=3, ncols=3,figsize=(15,15))\n",
    "    i = 0\n",
    "\n",
    "    for j,row in enumerate(ax):\n",
    "        for k, col in enumerate(row):\n",
    "            f1 = col.imshow(stacks[i])\n",
    "            col.get_xaxis().set_visible(False)\n",
    "            col.get_yaxis().set_visible(False)\n",
    "            plt.colorbar(mappable = f1, ax = col,orientation='horizontal',fraction=0.047, pad=0.02)\n",
    "\n",
    "            col.text(3,4,\"N={}\".format(lens[i]),color='red')\n",
    "            if j==0 and k==0:\n",
    "                col.text(-15,20,\"z<0.32\",size=15)\n",
    "            if j==1 and k==0:\n",
    "                col.text(-15,20,\"z>0.32\",size=15)\n",
    "            if j==2 and k==0:\n",
    "                col.text(-15,20,\"all z\",size=15)\n",
    "            if k==0 and j==0:\n",
    "                col.text(15,-5,\"rh<27\",size=15)\n",
    "            if k==1 and j==0:\n",
    "                col.text(15,-5,\"rh>27\",size=15)\n",
    "            if k==2 and j==0:\n",
    "                col.text(15,-5,\"all rh\",size=15)\n",
    "\n",
    "            i+=1\n",
    "\n",
    "    plt.savefig(\"rosat_{}.png\".format(x))"
   ]
  },
  {
   "cell_type": "code",
   "execution_count": 4,
   "metadata": {},
   "outputs": [],
   "source": [
    "import numpy as np\n",
    "arr = np.array([[1,2],[3,4]])"
   ]
  },
  {
   "cell_type": "code",
   "execution_count": 5,
   "metadata": {},
   "outputs": [
    {
     "data": {
      "text/plain": [
       "array([[0, 1],\n",
       "       [2, 3]])"
      ]
     },
     "execution_count": 5,
     "metadata": {},
     "output_type": "execute_result"
    }
   ],
   "source": [
    "arr-1"
   ]
  },
  {
   "cell_type": "code",
   "execution_count": null,
   "metadata": {},
   "outputs": [],
   "source": []
  }
 ],
 "metadata": {
  "kernelspec": {
   "display_name": "Python 3",
   "language": "python",
   "name": "python3"
  },
  "language_info": {
   "codemirror_mode": {
    "name": "ipython",
    "version": 3
   },
   "file_extension": ".py",
   "mimetype": "text/x-python",
   "name": "python",
   "nbconvert_exporter": "python",
   "pygments_lexer": "ipython3",
   "version": "3.7.6"
  }
 },
 "nbformat": 4,
 "nbformat_minor": 4
}
