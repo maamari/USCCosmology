{
 "cells": [
  {
   "cell_type": "code",
   "execution_count": 1,
   "metadata": {},
   "outputs": [],
   "source": [
    "import pandas as pd\n",
    "import math\n",
    "import numpy as np\n",
    "from astropy.coordinates import SkyCoord\n",
    "from astropy.io import fits\n",
    "import healpy as hp\n",
    "import matplotlib.pyplot as plt\n",
    "import time\n",
    "import sys\n",
    "from pixell import enmap, enplot, reproject, utils, curvedsky, wcsutils\n",
    "from matplotlib import cm\n",
    "from scipy.optimize import curve_fit\n",
    "from scipy.linalg import sqrtm\n",
    "from tqdm import tqdm"
   ]
  },
  {
   "cell_type": "markdown",
   "metadata": {},
   "source": [
    "---"
   ]
  },
  {
   "cell_type": "code",
   "execution_count": 30,
   "metadata": {},
   "outputs": [],
   "source": [
    "ard_not_adv = pd.read_csv('ard_not_adv.csv', skiprows = 0)\n",
    "# ard_not_adv.columns = ['indx','level_0','index','amf_no','amf_ra','amf_dec','amf_z','amf_lk','amf_rh','amf_r200','amf_rc','amf_c','amf_str_rh','bax_id','mcxc_id','red_id','whl_id','glat','glon','amf_sn']"
   ]
  },
  {
   "cell_type": "code",
   "execution_count": 31,
   "metadata": {},
   "outputs": [
    {
     "data": {
      "text/html": [
       "<div>\n",
       "<style scoped>\n",
       "    .dataframe tbody tr th:only-of-type {\n",
       "        vertical-align: middle;\n",
       "    }\n",
       "\n",
       "    .dataframe tbody tr th {\n",
       "        vertical-align: top;\n",
       "    }\n",
       "\n",
       "    .dataframe thead th {\n",
       "        text-align: right;\n",
       "    }\n",
       "</style>\n",
       "<table border=\"1\" class=\"dataframe\">\n",
       "  <thead>\n",
       "    <tr style=\"text-align: right;\">\n",
       "      <th></th>\n",
       "      <th>Unnamed: 0</th>\n",
       "      <th>Unnamed: 0.1</th>\n",
       "      <th>indx</th>\n",
       "      <th>level_0</th>\n",
       "      <th>index</th>\n",
       "      <th>amf_no</th>\n",
       "      <th>amf_ra</th>\n",
       "      <th>amf_dec</th>\n",
       "      <th>amf_z</th>\n",
       "      <th>amf_lk</th>\n",
       "      <th>...</th>\n",
       "      <th>amf_str_rh</th>\n",
       "      <th>bax_id</th>\n",
       "      <th>mcxc_id</th>\n",
       "      <th>red_id</th>\n",
       "      <th>whl_id</th>\n",
       "      <th>glat</th>\n",
       "      <th>glon</th>\n",
       "      <th>amf_sn</th>\n",
       "      <th>intensity100</th>\n",
       "      <th>intensity857</th>\n",
       "    </tr>\n",
       "  </thead>\n",
       "  <tbody>\n",
       "    <tr>\n",
       "      <th>0</th>\n",
       "      <td>0</td>\n",
       "      <td>0</td>\n",
       "      <td>0</td>\n",
       "      <td>0</td>\n",
       "      <td>0.0</td>\n",
       "      <td>5.0</td>\n",
       "      <td>260.6324</td>\n",
       "      <td>32.1398</td>\n",
       "      <td>0.2252</td>\n",
       "      <td>222.1219</td>\n",
       "      <td>...</td>\n",
       "      <td>35.0001</td>\n",
       "      <td>ABELL2261</td>\n",
       "      <td>J1722.4+3208</td>\n",
       "      <td>RMJ172227.2+320757.2</td>\n",
       "      <td>J172227.2+320757</td>\n",
       "      <td>31.846666</td>\n",
       "      <td>55.602221</td>\n",
       "      <td>24.655148</td>\n",
       "      <td>-0.000048</td>\n",
       "      <td>1.978746</td>\n",
       "    </tr>\n",
       "    <tr>\n",
       "      <th>1</th>\n",
       "      <td>1</td>\n",
       "      <td>1</td>\n",
       "      <td>1</td>\n",
       "      <td>1</td>\n",
       "      <td>2.0</td>\n",
       "      <td>7.0</td>\n",
       "      <td>250.1485</td>\n",
       "      <td>46.6917</td>\n",
       "      <td>0.2248</td>\n",
       "      <td>225.9874</td>\n",
       "      <td>...</td>\n",
       "      <td>36.0001</td>\n",
       "      <td>ABELL2219</td>\n",
       "      <td>J1640.3+4642</td>\n",
       "      <td>RMJ164019.8+464241.5</td>\n",
       "      <td>J164019.8+464242</td>\n",
       "      <td>41.429880</td>\n",
       "      <td>72.599428</td>\n",
       "      <td>44.674799</td>\n",
       "      <td>-0.000269</td>\n",
       "      <td>1.196847</td>\n",
       "    </tr>\n",
       "    <tr>\n",
       "      <th>2</th>\n",
       "      <td>2</td>\n",
       "      <td>0</td>\n",
       "      <td>0</td>\n",
       "      <td>0</td>\n",
       "      <td>0.0</td>\n",
       "      <td>0.0</td>\n",
       "      <td>0.0000</td>\n",
       "      <td>0.0000</td>\n",
       "      <td>0.0000</td>\n",
       "      <td>0.0000</td>\n",
       "      <td>...</td>\n",
       "      <td>0.0000</td>\n",
       "      <td>0</td>\n",
       "      <td>0</td>\n",
       "      <td>0</td>\n",
       "      <td>0</td>\n",
       "      <td>0.000000</td>\n",
       "      <td>0.000000</td>\n",
       "      <td>0.000000</td>\n",
       "      <td>0.000175</td>\n",
       "      <td>1.783996</td>\n",
       "    </tr>\n",
       "    <tr>\n",
       "      <th>3</th>\n",
       "      <td>3</td>\n",
       "      <td>3</td>\n",
       "      <td>3</td>\n",
       "      <td>3</td>\n",
       "      <td>5.0</td>\n",
       "      <td>10.0</td>\n",
       "      <td>203.1873</td>\n",
       "      <td>50.5346</td>\n",
       "      <td>0.3110</td>\n",
       "      <td>164.8704</td>\n",
       "      <td>...</td>\n",
       "      <td>31.0001</td>\n",
       "      <td>ABELL1758A</td>\n",
       "      <td>J1332.7+5032</td>\n",
       "      <td>RMJ133238.4+503336.0</td>\n",
       "      <td>J133252.1+503134</td>\n",
       "      <td>65.305106</td>\n",
       "      <td>107.103759</td>\n",
       "      <td>25.696075</td>\n",
       "      <td>-0.000124</td>\n",
       "      <td>1.019871</td>\n",
       "    </tr>\n",
       "    <tr>\n",
       "      <th>4</th>\n",
       "      <td>4</td>\n",
       "      <td>4</td>\n",
       "      <td>4</td>\n",
       "      <td>4</td>\n",
       "      <td>7.0</td>\n",
       "      <td>12.0</td>\n",
       "      <td>350.2432</td>\n",
       "      <td>29.2029</td>\n",
       "      <td>0.5231</td>\n",
       "      <td>165.0015</td>\n",
       "      <td>...</td>\n",
       "      <td>69.0001</td>\n",
       "      <td>-9999</td>\n",
       "      <td>-9999</td>\n",
       "      <td>RMJ232104.1+291134.5</td>\n",
       "      <td>J232104.1+291134</td>\n",
       "      <td>-29.646780</td>\n",
       "      <td>100.211077</td>\n",
       "      <td>13.793623</td>\n",
       "      <td>0.000047</td>\n",
       "      <td>4.913466</td>\n",
       "    </tr>\n",
       "    <tr>\n",
       "      <th>...</th>\n",
       "      <td>...</td>\n",
       "      <td>...</td>\n",
       "      <td>...</td>\n",
       "      <td>...</td>\n",
       "      <td>...</td>\n",
       "      <td>...</td>\n",
       "      <td>...</td>\n",
       "      <td>...</td>\n",
       "      <td>...</td>\n",
       "      <td>...</td>\n",
       "      <td>...</td>\n",
       "      <td>...</td>\n",
       "      <td>...</td>\n",
       "      <td>...</td>\n",
       "      <td>...</td>\n",
       "      <td>...</td>\n",
       "      <td>...</td>\n",
       "      <td>...</td>\n",
       "      <td>...</td>\n",
       "      <td>...</td>\n",
       "      <td>...</td>\n",
       "    </tr>\n",
       "    <tr>\n",
       "      <th>21533</th>\n",
       "      <td>21533</td>\n",
       "      <td>21533</td>\n",
       "      <td>21533</td>\n",
       "      <td>21533</td>\n",
       "      <td>31526.0</td>\n",
       "      <td>54265.0</td>\n",
       "      <td>117.7965</td>\n",
       "      <td>28.4314</td>\n",
       "      <td>0.4498</td>\n",
       "      <td>21.3133</td>\n",
       "      <td>...</td>\n",
       "      <td>32.1136</td>\n",
       "      <td>-9999</td>\n",
       "      <td>-9999</td>\n",
       "      <td>-9999</td>\n",
       "      <td>J075110.0+282537</td>\n",
       "      <td>24.760679</td>\n",
       "      <td>192.272829</td>\n",
       "      <td>0.235375</td>\n",
       "      <td>-0.000085</td>\n",
       "      <td>1.742793</td>\n",
       "    </tr>\n",
       "    <tr>\n",
       "      <th>21534</th>\n",
       "      <td>21534</td>\n",
       "      <td>21534</td>\n",
       "      <td>21534</td>\n",
       "      <td>21534</td>\n",
       "      <td>31527.0</td>\n",
       "      <td>54266.0</td>\n",
       "      <td>10.2234</td>\n",
       "      <td>16.4729</td>\n",
       "      <td>0.3325</td>\n",
       "      <td>7.5789</td>\n",
       "      <td>...</td>\n",
       "      <td>75.0967</td>\n",
       "      <td>-9999</td>\n",
       "      <td>-9999</td>\n",
       "      <td>-9999</td>\n",
       "      <td>J004043.6+162754</td>\n",
       "      <td>-46.323866</td>\n",
       "      <td>119.270217</td>\n",
       "      <td>1.128670</td>\n",
       "      <td>-0.000071</td>\n",
       "      <td>1.821485</td>\n",
       "    </tr>\n",
       "    <tr>\n",
       "      <th>21535</th>\n",
       "      <td>21535</td>\n",
       "      <td>21535</td>\n",
       "      <td>21535</td>\n",
       "      <td>21535</td>\n",
       "      <td>31529.0</td>\n",
       "      <td>54272.0</td>\n",
       "      <td>332.5373</td>\n",
       "      <td>16.8053</td>\n",
       "      <td>0.2720</td>\n",
       "      <td>19.0528</td>\n",
       "      <td>...</td>\n",
       "      <td>73.0856</td>\n",
       "      <td>-9999</td>\n",
       "      <td>-9999</td>\n",
       "      <td>-9999</td>\n",
       "      <td>J221009.3+165449</td>\n",
       "      <td>-31.180104</td>\n",
       "      <td>76.542726</td>\n",
       "      <td>0.327218</td>\n",
       "      <td>-0.000112</td>\n",
       "      <td>2.181500</td>\n",
       "    </tr>\n",
       "    <tr>\n",
       "      <th>21536</th>\n",
       "      <td>21536</td>\n",
       "      <td>21536</td>\n",
       "      <td>21536</td>\n",
       "      <td>21536</td>\n",
       "      <td>31530.0</td>\n",
       "      <td>54273.0</td>\n",
       "      <td>321.0614</td>\n",
       "      <td>-5.5885</td>\n",
       "      <td>0.4036</td>\n",
       "      <td>7.3319</td>\n",
       "      <td>...</td>\n",
       "      <td>85.1216</td>\n",
       "      <td>-9999</td>\n",
       "      <td>-9999</td>\n",
       "      <td>-9999</td>\n",
       "      <td>J212412.8-053647</td>\n",
       "      <td>-36.312474</td>\n",
       "      <td>46.861993</td>\n",
       "      <td>0.906488</td>\n",
       "      <td>0.000283</td>\n",
       "      <td>3.162386</td>\n",
       "    </tr>\n",
       "    <tr>\n",
       "      <th>21537</th>\n",
       "      <td>21537</td>\n",
       "      <td>21537</td>\n",
       "      <td>21537</td>\n",
       "      <td>21537</td>\n",
       "      <td>31534.0</td>\n",
       "      <td>54277.0</td>\n",
       "      <td>200.4356</td>\n",
       "      <td>56.8381</td>\n",
       "      <td>0.1359</td>\n",
       "      <td>16.1046</td>\n",
       "      <td>...</td>\n",
       "      <td>33.1023</td>\n",
       "      <td>-9999</td>\n",
       "      <td>-9999</td>\n",
       "      <td>-9999</td>\n",
       "      <td>J132144.4+564833</td>\n",
       "      <td>59.802483</td>\n",
       "      <td>114.688269</td>\n",
       "      <td>0.527056</td>\n",
       "      <td>-0.000005</td>\n",
       "      <td>1.012472</td>\n",
       "    </tr>\n",
       "  </tbody>\n",
       "</table>\n",
       "<p>21538 rows × 24 columns</p>\n",
       "</div>"
      ],
      "text/plain": [
       "       Unnamed: 0  Unnamed: 0.1   indx  level_0    index   amf_no    amf_ra  \\\n",
       "0               0             0      0        0      0.0      5.0  260.6324   \n",
       "1               1             1      1        1      2.0      7.0  250.1485   \n",
       "2               2             0      0        0      0.0      0.0    0.0000   \n",
       "3               3             3      3        3      5.0     10.0  203.1873   \n",
       "4               4             4      4        4      7.0     12.0  350.2432   \n",
       "...           ...           ...    ...      ...      ...      ...       ...   \n",
       "21533       21533         21533  21533    21533  31526.0  54265.0  117.7965   \n",
       "21534       21534         21534  21534    21534  31527.0  54266.0   10.2234   \n",
       "21535       21535         21535  21535    21535  31529.0  54272.0  332.5373   \n",
       "21536       21536         21536  21536    21536  31530.0  54273.0  321.0614   \n",
       "21537       21537         21537  21537    21537  31534.0  54277.0  200.4356   \n",
       "\n",
       "       amf_dec   amf_z    amf_lk  ...  amf_str_rh      bax_id       mcxc_id  \\\n",
       "0      32.1398  0.2252  222.1219  ...     35.0001   ABELL2261  J1722.4+3208   \n",
       "1      46.6917  0.2248  225.9874  ...     36.0001   ABELL2219  J1640.3+4642   \n",
       "2       0.0000  0.0000    0.0000  ...      0.0000           0             0   \n",
       "3      50.5346  0.3110  164.8704  ...     31.0001  ABELL1758A  J1332.7+5032   \n",
       "4      29.2029  0.5231  165.0015  ...     69.0001       -9999         -9999   \n",
       "...        ...     ...       ...  ...         ...         ...           ...   \n",
       "21533  28.4314  0.4498   21.3133  ...     32.1136       -9999         -9999   \n",
       "21534  16.4729  0.3325    7.5789  ...     75.0967       -9999         -9999   \n",
       "21535  16.8053  0.2720   19.0528  ...     73.0856       -9999         -9999   \n",
       "21536  -5.5885  0.4036    7.3319  ...     85.1216       -9999         -9999   \n",
       "21537  56.8381  0.1359   16.1046  ...     33.1023       -9999         -9999   \n",
       "\n",
       "                     red_id            whl_id       glat        glon  \\\n",
       "0      RMJ172227.2+320757.2  J172227.2+320757  31.846666   55.602221   \n",
       "1      RMJ164019.8+464241.5  J164019.8+464242  41.429880   72.599428   \n",
       "2                         0                 0   0.000000    0.000000   \n",
       "3      RMJ133238.4+503336.0  J133252.1+503134  65.305106  107.103759   \n",
       "4      RMJ232104.1+291134.5  J232104.1+291134 -29.646780  100.211077   \n",
       "...                     ...               ...        ...         ...   \n",
       "21533                 -9999  J075110.0+282537  24.760679  192.272829   \n",
       "21534                 -9999  J004043.6+162754 -46.323866  119.270217   \n",
       "21535                 -9999  J221009.3+165449 -31.180104   76.542726   \n",
       "21536                 -9999  J212412.8-053647 -36.312474   46.861993   \n",
       "21537                 -9999  J132144.4+564833  59.802483  114.688269   \n",
       "\n",
       "          amf_sn intensity100  intensity857  \n",
       "0      24.655148    -0.000048      1.978746  \n",
       "1      44.674799    -0.000269      1.196847  \n",
       "2       0.000000     0.000175      1.783996  \n",
       "3      25.696075    -0.000124      1.019871  \n",
       "4      13.793623     0.000047      4.913466  \n",
       "...          ...          ...           ...  \n",
       "21533   0.235375    -0.000085      1.742793  \n",
       "21534   1.128670    -0.000071      1.821485  \n",
       "21535   0.327218    -0.000112      2.181500  \n",
       "21536   0.906488     0.000283      3.162386  \n",
       "21537   0.527056    -0.000005      1.012472  \n",
       "\n",
       "[21538 rows x 24 columns]"
      ]
     },
     "execution_count": 31,
     "metadata": {},
     "output_type": "execute_result"
    }
   ],
   "source": [
    "ard_not_adv"
   ]
  },
  {
   "cell_type": "code",
   "execution_count": 3,
   "metadata": {},
   "outputs": [],
   "source": [
    "ard_not_adv[ard_not_adv.amf_sn=='--']=0\n",
    "ard_not_adv['amf_sn'] = pd.to_numeric(ard_not_adv['amf_sn'])"
   ]
  },
  {
   "cell_type": "code",
   "execution_count": 4,
   "metadata": {},
   "outputs": [],
   "source": [
    "intensity = pd.read_csv('intensity.csv',skiprows=0)"
   ]
  },
  {
   "cell_type": "code",
   "execution_count": 5,
   "metadata": {},
   "outputs": [],
   "source": [
    "ard_not_adv['intensity100']=intensity['intensity']"
   ]
  },
  {
   "cell_type": "markdown",
   "metadata": {},
   "source": [
    "---"
   ]
  },
  {
   "cell_type": "code",
   "execution_count": 7,
   "metadata": {},
   "outputs": [
    {
     "data": {
      "image/png": "[encoded data removed]",
      "text/plain": [
       "<Figure size 432x288 with 1 Axes>"
      ]
     },
     "metadata": {
      "needs_background": "light"
     },
     "output_type": "display_data"
    }
   ],
   "source": [
    "s = ard_not_adv[(ard_not_adv.intensity100!=0) & (ard_not_adv.glat<0)]['intensity100']\n",
    "p = s.plot(kind='hist', bins=100, color='orange')\n",
    "p.patches[34].set_color('b')\n",
    "\n",
    "plt.show()"
   ]
  },
  {
   "cell_type": "markdown",
   "metadata": {},
   "source": [
    "---"
   ]
  },
  {
   "cell_type": "code",
   "execution_count": 8,
   "metadata": {},
   "outputs": [],
   "source": [
    "# mask = hp.read_map('../../project1_PB/fitsData/HFI_PCCS_SZ-selfunc-inter-cosmo_2.02.fits')\n",
    "\n",
    "# # Get the nside and number of pixels in your map\n",
    "# nside = hp.get_nside(mask)\n",
    "# npix = hp.nside2npix(nside)\n",
    "# maskedPixels, = np.where(mask == 0)\n",
    "\n",
    "# # Use pix2ang to get the (l, b) coordinates for each pixel\n",
    "# glons, glats = hp.pix2ang(nside, maskedPixels, lonlat=True)\n",
    "# maskedArray = pd.DataFrame({'glon': np.around(glons,1), 'glat': np.around(glats,1)})\n",
    "# maskedArray = maskedArray[(maskedArray.glat > 12)|((maskedArray.glat<-12) & (maskedArray.glon<180))].reset_index()"
   ]
  },
  {
   "cell_type": "code",
   "execution_count": 9,
   "metadata": {},
   "outputs": [],
   "source": [
    "# intersec = pd.DataFrame()\n",
    "# intersec = pd.DataFrame(data=ard_not_adv, columns=ard_not_adv.columns)"
   ]
  },
  {
   "cell_type": "code",
   "execution_count": 10,
   "metadata": {},
   "outputs": [],
   "source": [
    "# intersec = intersec.iloc[0:0]\n",
    "\n",
    "# for i in tqdm(range(ard_not_adv.shape[0])):\n",
    "#     matches = maskedArray.loc[(maskedArray['glat'].sub(ard_not_adv.iloc[i]['glat']).abs()<1) & (maskedArray['glon'].sub(ard_not_adv.iloc[i]['glon']).abs()<1)]\n",
    "#     if len(matches)!=0:     \n",
    "#         intersec.loc[len(intersec)] = ard_not_adv.iloc[i]\n",
    "\n",
    "# print(len(intersec))\n",
    "# print(len(intersec[intersec.amf_rh>50]))"
   ]
  },
  {
   "cell_type": "code",
   "execution_count": 11,
   "metadata": {},
   "outputs": [],
   "source": [
    "# hp.mollview(mask,norm='hist',coord=['G'],title='Masked S/N map')\n",
    "# # hp.visufunc.projscatter(ard_not_adv['glon'],ard_not_adv['glat'],c='b',lonlat=True,s=10)\n",
    "# hp.visufunc.projscatter(maskedArray.glon,maskedArray.glat,c='w',lonlat=True,s=0.1)\n",
    "# hp.visufunc.projscatter(intersec.glon,intersec.glat,c='k',lonlat=True,s=10)"
   ]
  },
  {
   "cell_type": "markdown",
   "metadata": {},
   "source": [
    "---"
   ]
  },
  {
   "cell_type": "code",
   "execution_count": 12,
   "metadata": {},
   "outputs": [],
   "source": [
    "# plt.scatter(ard_not_adv[ard_not_adv.amf_rh>1]['amf_sn'],ard_not_adv[ard_not_adv.amf_rh>1]['amf_rh'],s=0.1)\n",
    "# plt.xlabel('sn')\n",
    "# plt.ylabel('richness')"
   ]
  },
  {
   "cell_type": "code",
   "execution_count": 13,
   "metadata": {},
   "outputs": [],
   "source": [
    "# plt.scatter(ard_not_adv['amf_sn'],ard_not_adv['intensity'],s=0.1)\n",
    "# plt.xlabel('sn')\n",
    "# plt.ylabel('intensity')"
   ]
  },
  {
   "cell_type": "markdown",
   "metadata": {},
   "source": [
    "---"
   ]
  },
  {
   "cell_type": "code",
   "execution_count": 14,
   "metadata": {},
   "outputs": [
    {
     "name": "stderr",
     "output_type": "stream",
     "text": [
      "/home/maamari/Documents/Other/Anaconda/lib/python3.7/site-packages/healpy/fitsfunc.py:352: UserWarning: If you are not specifying the input dtype and using the default np.float64 dtype of read_map(), please consider that it will change in a future version to None as to keep the same dtype of the input file: please explicitly set the dtype if it is important to you.\n",
      "  \"If you are not specifying the input dtype and using the default \"\n"
     ]
    },
    {
     "name": "stdout",
     "output_type": "stream",
     "text": [
      "NSIDE = 4096\n",
      "ORDERING = RING in fits file\n",
      "INDXSCHM = IMPLICIT\n",
      "NSIDE = 2048\n",
      "ORDERING = NESTED in fits file\n",
      "INDXSCHM = IMPLICIT\n"
     ]
    },
    {
     "name": "stderr",
     "output_type": "stream",
     "text": [
      "/home/maamari/Documents/Other/Anaconda/lib/python3.7/site-packages/healpy/fitsfunc.py:403: UserWarning: No INDXSCHM keyword in header file : assume IMPLICIT\n",
      "  warnings.warn(\"No INDXSCHM keyword in header file : \" \"assume {}\".format(schm))\n"
     ]
    },
    {
     "name": "stdout",
     "output_type": "stream",
     "text": [
      "Ordering converted to RING\n",
      "NSIDE = 4096\n",
      "ORDERING = RING in fits file\n",
      "INDXSCHM = IMPLICIT\n"
     ]
    }
   ],
   "source": [
    "# actmap = enmap.read_map(\"act_dr5.01_s08s18_AA_f090_daynight_map.fits\")\n",
    "ros = hp.read_map(\"rass_healpix_countsec.fits\")\n",
    "pl = hp.read_map(\"HFI_SkyMap_857-field-Int_2048_R3.00_full.fits\")\n",
    "mask = hp.read_map(\"mask_comprass.fits\")\n",
    "\n",
    "pl[pl<-1e23]=0\n",
    "ros[ros<-1e23]=0"
   ]
  },
  {
   "cell_type": "code",
   "execution_count": 15,
   "metadata": {},
   "outputs": [],
   "source": [
    "# masked_ros = []\n",
    "# for i in tqdm(range(len(mask))):\n",
    "#     masked_ros.append(0)\n",
    "#     if mask[i]:\n",
    "#         masked_ros[i]=ros[i]\n",
    "        \n",
    "# masked_ros = np.array(masked_ros)"
   ]
  },
  {
   "cell_type": "code",
   "execution_count": 16,
   "metadata": {},
   "outputs": [],
   "source": [
    "shape,wcs = enmap.fullsky_geometry(res=5.0 * utils.arcmin,proj='car')"
   ]
  },
  {
   "cell_type": "code",
   "execution_count": 17,
   "metadata": {},
   "outputs": [
    {
     "name": "stdout",
     "output_type": "stream",
     "text": [
      "Preparing SHT\n",
      "T -> alm\n",
      "float64 complex128\n",
      "Computing pixel positions\n",
      "Computing rotated positions\n",
      "Projecting\n"
     ]
    }
   ],
   "source": [
    "map_pix = reproject.enmap_from_healpix(pl,shape=shape,wcs=wcs)\n",
    "# map_pix = reproject.enmap_from_healpix(ros,shape=shape,wcs=wcs)"
   ]
  },
  {
   "cell_type": "markdown",
   "metadata": {},
   "source": [
    "---"
   ]
  },
  {
   "cell_type": "code",
   "execution_count": 24,
   "metadata": {},
   "outputs": [
    {
     "name": "stderr",
     "output_type": "stream",
     "text": [
      "100%|██████████| 21538/21538 [02:10<00:00, 164.77it/s]\n"
     ]
    }
   ],
   "source": [
    "stamps90 = []\n",
    "\n",
    "ras  = ard_not_adv['amf_ra']\n",
    "decs = ard_not_adv['amf_dec']\n",
    "#ras = ard_not_adv[(ard_not_adv.amf_rh<25) & (ard_not_adv.amf_rh>0)]['amf_ra'].reset_index(drop=True)\n",
    "#decs = ard_not_adv[(ard_not_adv.amf_rh<25) & (ard_not_adv.amf_rh>0)]['amf_dec'].reset_index(drop=True)\n",
    "\n",
    "N = len(ras)\n",
    "# N=200\n",
    "stack_CMB_kSZ           = 0\n",
    "stack_CMB_kSZ_deproject = 0\n",
    "c = 0\n",
    "\n",
    "for i in tqdm(range(N)):\n",
    "#     print(decs[i],ras[i])\n",
    "    stamp = reproject.thumbnails(map_pix,coords = np.deg2rad([decs[i], ras[i]]),r=3*utils.arcmin)\n",
    "#     stamp_1arc = reproject.thumbnails(planck_pix,coords = np.deg2rad([decs[i], ras[i]]),r=5*utils.arcmin)\n",
    "    \n",
    "    if stamp is None:\n",
    "        continue\n",
    "    elif stamp[0][0][0]==0.0:\n",
    "        continue\n",
    "        \n",
    "    stamps90.append(sum(sum(stamp[0]))/9)\n",
    "    \n",
    "    stack_CMB_kSZ += stamp \n",
    "    c += 1\n",
    "#     plt.imshow(stamp[0])\n",
    "\n",
    "#     print(\"SUM:\", sum(sum(stamp[0])))\n",
    "#     plt.show()"
   ]
  },
  {
   "cell_type": "code",
   "execution_count": 27,
   "metadata": {},
   "outputs": [
    {
     "data": {
      "text/plain": [
       "21538"
      ]
     },
     "execution_count": 27,
     "metadata": {},
     "output_type": "execute_result"
    }
   ],
   "source": [
    "ard_not_adv['intensity857']=stamps90\n",
    "len(stamps90)"
   ]
  },
  {
   "cell_type": "code",
   "execution_count": 29,
   "metadata": {},
   "outputs": [],
   "source": [
    "ard_not_adv.to_csv(\"ard_not_adv.csv\")"
   ]
  },
  {
   "cell_type": "markdown",
   "metadata": {},
   "source": [
    "---"
   ]
  },
  {
   "cell_type": "code",
   "execution_count": 22,
   "metadata": {},
   "outputs": [
    {
     "data": {
      "image/png": "[encoded data removed]",
      "text/plain": [
       "<Figure size 720x360 with 3 Axes>"
      ]
     },
     "metadata": {
      "needs_background": "light"
     },
     "output_type": "display_data"
    },
    {
     "data": {
      "text/plain": [
       "<Figure size 432x288 with 0 Axes>"
      ]
     },
     "metadata": {},
     "output_type": "display_data"
    }
   ],
   "source": [
    "    \n",
    "# Normalize the stamps\n",
    "stack_CMB_kSZ /= c\n",
    "stack_CMB_kSZ_deproject /= c\n",
    "\n",
    "# Now we can plot both of these and compare\n",
    "from mpl_toolkits.axes_grid1.anchored_artists import AnchoredSizeBar\n",
    "\n",
    "f, ax = plt.subplots(1,2, figsize=(10, 5))\n",
    "\n",
    "f1 = ax[0].imshow(stack_CMB_kSZ[0])\n",
    "ax[0].get_xaxis().set_visible(False)\n",
    "ax[0].get_yaxis().set_visible(False)\n",
    "\n",
    "# scalebar = AnchoredSizeBar(ax[0].transData,\n",
    "#                            19.8, '', 'center left', \n",
    "#                            pad=0.1,\n",
    "#                            color='white',\n",
    "#                            frameon=False,\n",
    "#                            size_vertical=0.1)\n",
    "# ax[0].add_artist(scalebar)\n",
    "# ax[0].text(1,22,\"5 arcmin\",color='white')\n",
    "\n",
    "ax[0].set_title(\"Stacked sources: Planck 857 GHz\", fontsize = 16)\n",
    "plt.colorbar(mappable = f1, ax = ax[0],orientation='horizontal')\n",
    "\n",
    "plt.show()\n",
    "plt.savefig(\"pl_857.png\")"
   ]
  },
  {
   "cell_type": "markdown",
   "metadata": {},
   "source": [
    "---"
   ]
  }
 ],
 "metadata": {
  "kernelspec": {
   "display_name": "Python 3",
   "language": "python",
   "name": "python3"
  },
  "language_info": {
   "codemirror_mode": {
    "name": "ipython",
    "version": 3
   },
   "file_extension": ".py",
   "mimetype": "text/x-python",
   "name": "python",
   "nbconvert_exporter": "python",
   "pygments_lexer": "ipython3",
   "version": "3.7.6"
  }
 },
 "nbformat": 4,
 "nbformat_minor": 4
}
