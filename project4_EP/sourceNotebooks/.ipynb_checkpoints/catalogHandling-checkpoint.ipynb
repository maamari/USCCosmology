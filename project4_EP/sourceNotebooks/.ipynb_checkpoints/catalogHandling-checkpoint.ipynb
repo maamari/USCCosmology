{
 "cells": [
  {
   "cell_type": "markdown",
   "metadata": {},
   "source": [
    "Dependencies"
   ]
  },
  {
   "cell_type": "code",
   "execution_count": 12,
   "metadata": {},
   "outputs": [],
   "source": [
    "import pandas as pd\n",
    "from astropy.io import fits"
   ]
  },
  {
   "cell_type": "markdown",
   "metadata": {},
   "source": [
    "Note: For all catalogs, I have provided a subset of the possible parameters which I figured would be most useful. If you run into any parameters in the papers not included below which you would like, please let me know and I can send you updated versions of the data"
   ]
  },
  {
   "cell_type": "markdown",
   "metadata": {},
   "source": [
    "---"
   ]
  },
  {
   "cell_type": "markdown",
   "metadata": {},
   "source": [
    "### Optical"
   ]
  },
  {
   "cell_type": "markdown",
   "metadata": {},
   "source": [
    "AMF DR9"
   ]
  },
  {
   "cell_type": "markdown",
   "metadata": {},
   "source": [
    "Each row represents a new cluster. For each cluster (row):<br>\n",
    "1. RA, dec - location of cluster (right ascension, declination in degrees)\n",
    "2. AMF9 - the name of the cluster\n",
    "3. z - the redshift of the cluster\n",
    "4. Lk - cluster likelihood\n",
    "5. Lambda200 - cluster richness\n",
    "6. c - conentration parameter of cluster\n",
    "7. str-rh - Richness order of the cluster within its stripe"
   ]
  },
  {
   "cell_type": "code",
   "execution_count": 18,
   "metadata": {},
   "outputs": [
    {
     "data": {
      "text/html": [
       "<div>\n",
       "<style scoped>\n",
       "    .dataframe tbody tr th:only-of-type {\n",
       "        vertical-align: middle;\n",
       "    }\n",
       "\n",
       "    .dataframe tbody tr th {\n",
       "        vertical-align: top;\n",
       "    }\n",
       "\n",
       "    .dataframe thead th {\n",
       "        text-align: right;\n",
       "    }\n",
       "</style>\n",
       "<table border=\"1\" class=\"dataframe\">\n",
       "  <thead>\n",
       "    <tr style=\"text-align: right;\">\n",
       "      <th></th>\n",
       "      <th>RA</th>\n",
       "      <th>dec</th>\n",
       "      <th>ID</th>\n",
       "      <th>AMF9</th>\n",
       "      <th>z</th>\n",
       "      <th>Lk</th>\n",
       "      <th>Lambda200</th>\n",
       "      <th>r200</th>\n",
       "      <th>rc</th>\n",
       "      <th>c</th>\n",
       "      <th>str-rh</th>\n",
       "    </tr>\n",
       "  </thead>\n",
       "  <tbody>\n",
       "    <tr>\n",
       "      <th>0</th>\n",
       "      <td>23.9128</td>\n",
       "      <td>20.7465</td>\n",
       "      <td>4</td>\n",
       "      <td>J013539.1+204447</td>\n",
       "      <td>0.0601</td>\n",
       "      <td>176.9125</td>\n",
       "      <td>219.3663</td>\n",
       "      <td>1.946</td>\n",
       "      <td>0.925</td>\n",
       "      <td>2.104</td>\n",
       "      <td>73.0001</td>\n",
       "    </tr>\n",
       "    <tr>\n",
       "      <th>1</th>\n",
       "      <td>260.6324</td>\n",
       "      <td>32.1398</td>\n",
       "      <td>5</td>\n",
       "      <td>J172231.8+320823</td>\n",
       "      <td>0.2252</td>\n",
       "      <td>222.1219</td>\n",
       "      <td>200.7117</td>\n",
       "      <td>1.784</td>\n",
       "      <td>0.625</td>\n",
       "      <td>2.856</td>\n",
       "      <td>35.0001</td>\n",
       "    </tr>\n",
       "    <tr>\n",
       "      <th>2</th>\n",
       "      <td>197.8796</td>\n",
       "      <td>-1.3356</td>\n",
       "      <td>6</td>\n",
       "      <td>J131131.1-012008</td>\n",
       "      <td>0.2042</td>\n",
       "      <td>171.6872</td>\n",
       "      <td>192.0829</td>\n",
       "      <td>1.773</td>\n",
       "      <td>0.227</td>\n",
       "      <td>7.792</td>\n",
       "      <td>9.0001</td>\n",
       "    </tr>\n",
       "    <tr>\n",
       "      <th>3</th>\n",
       "      <td>250.1485</td>\n",
       "      <td>46.6917</td>\n",
       "      <td>7</td>\n",
       "      <td>J164035.6+464130</td>\n",
       "      <td>0.2248</td>\n",
       "      <td>225.9874</td>\n",
       "      <td>182.3373</td>\n",
       "      <td>1.725</td>\n",
       "      <td>0.495</td>\n",
       "      <td>3.483</td>\n",
       "      <td>36.0001</td>\n",
       "    </tr>\n",
       "    <tr>\n",
       "      <th>4</th>\n",
       "      <td>346.3402</td>\n",
       "      <td>21.0378</td>\n",
       "      <td>8</td>\n",
       "      <td>J230521.6+210216</td>\n",
       "      <td>0.1453</td>\n",
       "      <td>121.0124</td>\n",
       "      <td>182.2769</td>\n",
       "      <td>1.775</td>\n",
       "      <td>0.440</td>\n",
       "      <td>4.034</td>\n",
       "      <td>72.0001</td>\n",
       "    </tr>\n",
       "  </tbody>\n",
       "</table>\n",
       "</div>"
      ],
      "text/plain": [
       "         RA      dec  ID              AMF9       z        Lk  Lambda200  \\\n",
       "0   23.9128  20.7465   4  J013539.1+204447  0.0601  176.9125   219.3663   \n",
       "1  260.6324  32.1398   5  J172231.8+320823  0.2252  222.1219   200.7117   \n",
       "2  197.8796  -1.3356   6  J131131.1-012008  0.2042  171.6872   192.0829   \n",
       "3  250.1485  46.6917   7  J164035.6+464130  0.2248  225.9874   182.3373   \n",
       "4  346.3402  21.0378   8  J230521.6+210216  0.1453  121.0124   182.2769   \n",
       "\n",
       "    r200     rc      c   str-rh  \n",
       "0  1.946  0.925  2.104  73.0001  \n",
       "1  1.784  0.625  2.856  35.0001  \n",
       "2  1.773  0.227  7.792   9.0001  \n",
       "3  1.725  0.495  3.483  36.0001  \n",
       "4  1.775  0.440  4.034  72.0001  "
      ]
     },
     "execution_count": 18,
     "metadata": {},
     "output_type": "execute_result"
    }
   ],
   "source": [
    "# Read in amf catalog\n",
    "amf = pd.read_csv('amf.tsv',sep='\\t',header=None)\n",
    "amf.columns = ['RA','dec','AMF9','z','Lk','Lambda200','r200','rc','c','str-rh']\n",
    "amf.head()"
   ]
  },
  {
   "cell_type": "markdown",
   "metadata": {},
   "source": [
    "SDSS"
   ]
  },
  {
   "cell_type": "markdown",
   "metadata": {},
   "source": [
    "Each row represents a new **source**, which can either be a galaxy or a star. For each source (row):<br>\n",
    "1. RA, dec - location of source (right ascension, declination in degrees)\n",
    "2. Class - type of object (3=galaxy, 6=star)\n",
    "3. SDSS-DR9 - name of the object\n",
    "4. Q - quality of the object\n",
    "\n",
    "This is only a small subset of the total catalog"
   ]
  },
  {
   "cell_type": "code",
   "execution_count": 19,
   "metadata": {},
   "outputs": [
    {
     "data": {
      "text/html": [
       "<div>\n",
       "<style scoped>\n",
       "    .dataframe tbody tr th:only-of-type {\n",
       "        vertical-align: middle;\n",
       "    }\n",
       "\n",
       "    .dataframe tbody tr th {\n",
       "        vertical-align: top;\n",
       "    }\n",
       "\n",
       "    .dataframe thead th {\n",
       "        text-align: right;\n",
       "    }\n",
       "</style>\n",
       "<table border=\"1\" class=\"dataframe\">\n",
       "  <thead>\n",
       "    <tr style=\"text-align: right;\">\n",
       "      <th></th>\n",
       "      <th>RA</th>\n",
       "      <th>dec</th>\n",
       "      <th>Class</th>\n",
       "      <th>SDSS-DR9</th>\n",
       "      <th>Q</th>\n",
       "      <th>zsp</th>\n",
       "    </tr>\n",
       "  </thead>\n",
       "  <tbody>\n",
       "    <tr>\n",
       "      <th>0</th>\n",
       "      <td>127.338857</td>\n",
       "      <td>47.153671</td>\n",
       "      <td>3</td>\n",
       "      <td>J082921.32+470913.2</td>\n",
       "      <td>3</td>\n",
       "      <td>NaN</td>\n",
       "    </tr>\n",
       "    <tr>\n",
       "      <th>1</th>\n",
       "      <td>127.017014</td>\n",
       "      <td>46.773664</td>\n",
       "      <td>3</td>\n",
       "      <td>J082804.08+464625.1</td>\n",
       "      <td>3</td>\n",
       "      <td>NaN</td>\n",
       "    </tr>\n",
       "    <tr>\n",
       "      <th>2</th>\n",
       "      <td>127.008106</td>\n",
       "      <td>46.779394</td>\n",
       "      <td>6</td>\n",
       "      <td>J082801.94+464645.8</td>\n",
       "      <td>3</td>\n",
       "      <td>NaN</td>\n",
       "    </tr>\n",
       "    <tr>\n",
       "      <th>3</th>\n",
       "      <td>127.006288</td>\n",
       "      <td>46.783849</td>\n",
       "      <td>3</td>\n",
       "      <td>J082801.50+464701.8</td>\n",
       "      <td>3</td>\n",
       "      <td>NaN</td>\n",
       "    </tr>\n",
       "    <tr>\n",
       "      <th>4</th>\n",
       "      <td>127.014814</td>\n",
       "      <td>46.787381</td>\n",
       "      <td>6</td>\n",
       "      <td>J082803.55+464714.5</td>\n",
       "      <td>3</td>\n",
       "      <td>NaN</td>\n",
       "    </tr>\n",
       "  </tbody>\n",
       "</table>\n",
       "</div>"
      ],
      "text/plain": [
       "           RA        dec  Class             SDSS-DR9  Q  zsp\n",
       "0  127.338857  47.153671      3  J082921.32+470913.2  3  NaN\n",
       "1  127.017014  46.773664      3  J082804.08+464625.1  3  NaN\n",
       "2  127.008106  46.779394      6  J082801.94+464645.8  3  NaN\n",
       "3  127.006288  46.783849      3  J082801.50+464701.8  3  NaN\n",
       "4  127.014814  46.787381      6  J082803.55+464714.5  3  NaN"
      ]
     },
     "execution_count": 19,
     "metadata": {},
     "output_type": "execute_result"
    }
   ],
   "source": [
    "# Read in amf catalog\n",
    "sdss = pd.read_csv('sdss.tsv',sep='\\t',header=None)\n",
    "sdss.columns = ['RA','dec','Class','SDSS-DR9','Q']\n",
    "sdss.head()"
   ]
  },
  {
   "cell_type": "markdown",
   "metadata": {},
   "source": [
    "---"
   ]
  },
  {
   "cell_type": "markdown",
   "metadata": {},
   "source": [
    "### SZ"
   ]
  },
  {
   "cell_type": "markdown",
   "metadata": {},
   "source": [
    "AdvACT"
   ]
  },
  {
   "cell_type": "markdown",
   "metadata": {},
   "source": [
    "Each row represents a new cluster. For each cluster (row):<br>\n",
    "1. Name - name of the cluster\n",
    "2. RA, dec - location of cluster (right ascension, declination in degrees)\n",
    "3. SNR - Signal to noise ratio\n",
    "4. z - redshift of the cluster"
   ]
  },
  {
   "cell_type": "code",
   "execution_count": 25,
   "metadata": {},
   "outputs": [
    {
     "data": {
      "text/html": [
       "<div>\n",
       "<style scoped>\n",
       "    .dataframe tbody tr th:only-of-type {\n",
       "        vertical-align: middle;\n",
       "    }\n",
       "\n",
       "    .dataframe tbody tr th {\n",
       "        vertical-align: top;\n",
       "    }\n",
       "\n",
       "    .dataframe thead th {\n",
       "        text-align: right;\n",
       "    }\n",
       "</style>\n",
       "<table border=\"1\" class=\"dataframe\">\n",
       "  <thead>\n",
       "    <tr style=\"text-align: right;\">\n",
       "      <th></th>\n",
       "      <th>Name</th>\n",
       "      <th>RA</th>\n",
       "      <th>dec</th>\n",
       "      <th>SNR</th>\n",
       "      <th>z</th>\n",
       "    </tr>\n",
       "  </thead>\n",
       "  <tbody>\n",
       "    <tr>\n",
       "      <th>0</th>\n",
       "      <td>ACT-CL J0000.0-3837</td>\n",
       "      <td>0.020898</td>\n",
       "      <td>-38.626732</td>\n",
       "      <td>4.793987</td>\n",
       "      <td>0.300599</td>\n",
       "    </tr>\n",
       "    <tr>\n",
       "      <th>1</th>\n",
       "      <td>ACT-CL J0000.2-4357</td>\n",
       "      <td>0.060601</td>\n",
       "      <td>-43.955494</td>\n",
       "      <td>7.678747</td>\n",
       "      <td>0.878131</td>\n",
       "    </tr>\n",
       "    <tr>\n",
       "      <th>2</th>\n",
       "      <td>ACT-CL J0000.3-2805</td>\n",
       "      <td>0.089900</td>\n",
       "      <td>-28.091249</td>\n",
       "      <td>5.665297</td>\n",
       "      <td>0.282570</td>\n",
       "    </tr>\n",
       "    <tr>\n",
       "      <th>3</th>\n",
       "      <td>ACT-CL J0000.3-3936</td>\n",
       "      <td>0.083333</td>\n",
       "      <td>-39.604169</td>\n",
       "      <td>4.058639</td>\n",
       "      <td>0.356218</td>\n",
       "    </tr>\n",
       "    <tr>\n",
       "      <th>4</th>\n",
       "      <td>ACT-CL J0000.4-0102</td>\n",
       "      <td>0.113533</td>\n",
       "      <td>-1.044811</td>\n",
       "      <td>4.997832</td>\n",
       "      <td>0.438800</td>\n",
       "    </tr>\n",
       "  </tbody>\n",
       "</table>\n",
       "</div>"
      ],
      "text/plain": [
       "                  Name        RA        dec       SNR         z\n",
       "0  ACT-CL J0000.0-3837  0.020898 -38.626732  4.793987  0.300599\n",
       "1  ACT-CL J0000.2-4357  0.060601 -43.955494  7.678747  0.878131\n",
       "2  ACT-CL J0000.3-2805  0.089900 -28.091249  5.665297  0.282570\n",
       "3  ACT-CL J0000.3-3936  0.083333 -39.604169  4.058639  0.356218\n",
       "4  ACT-CL J0000.4-0102  0.113533  -1.044811  4.997832  0.438800"
      ]
     },
     "execution_count": 25,
     "metadata": {},
     "output_type": "execute_result"
    }
   ],
   "source": [
    "hdul = fits.open(\"../overlaps/masks/DR5_cluster-catalog_v1.1.fits\")\n",
    "data = hdul[1].data\n",
    "adv = pd.DataFrame({'Name':data['name'],\n",
    "                    'RA':data['RADeg'],\n",
    "                    'dec':data['decDeg'],\n",
    "                    'SNR':data['SNR'],\n",
    "                    'z':data['redshift']})\n",
    "adv.head()"
   ]
  },
  {
   "cell_type": "markdown",
   "metadata": {},
   "source": [
    "---"
   ]
  },
  {
   "cell_type": "markdown",
   "metadata": {},
   "source": [
    "If you'd like to save any of the above to a csv, uncomment and use the following:"
   ]
  },
  {
   "cell_type": "code",
   "execution_count": 26,
   "metadata": {},
   "outputs": [],
   "source": [
    "# adv.to_csv('adv.csv', header=None, index=False)"
   ]
  },
  {
   "cell_type": "code",
   "execution_count": 27,
   "metadata": {},
   "outputs": [],
   "source": [
    "# amf.to_csv('amf.csv', header=None, index=False)"
   ]
  },
  {
   "cell_type": "code",
   "execution_count": 28,
   "metadata": {},
   "outputs": [],
   "source": [
    "# sdss.to_csv('sdss.csv', header=None, index=False)"
   ]
  }
 ],
 "metadata": {
  "kernelspec": {
   "display_name": "Python 3",
   "language": "python",
   "name": "python3"
  },
  "language_info": {
   "codemirror_mode": {
    "name": "ipython",
    "version": 3
   },
   "file_extension": ".py",
   "mimetype": "text/x-python",
   "name": "python",
   "nbconvert_exporter": "python",
   "pygments_lexer": "ipython3",
   "version": "3.7.6"
  }
 },
 "nbformat": 4,
 "nbformat_minor": 4
}
