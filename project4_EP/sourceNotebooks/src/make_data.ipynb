{
 "cells": [
  {
   "cell_type": "code",
   "execution_count": 1,
   "metadata": {},
   "outputs": [],
   "source": [
    "import pandas as pd\n",
    "import math\n",
    "import numpy as np\n",
    "from astropy.coordinates import SkyCoord\n",
    "from astropy.io import fits\n",
    "import healpy as hp\n",
    "import matplotlib.pyplot as plt\n",
    "import time\n",
    "import sys\n",
    "from pixell import enmap, enplot, reproject, utils, curvedsky, wcsutils\n",
    "from matplotlib import cm\n",
    "from scipy.optimize import curve_fit\n",
    "from scipy.linalg import sqrtm\n",
    "from tqdm import tqdm\n",
    "import random\n",
    "import time\n",
    "import multiprocessing as mp\n",
    "import numpy as np\n",
    "import random\n",
    "import time\n",
    "import multiprocessing as mp\n",
    "import numpy as np"
   ]
  },
  {
   "cell_type": "markdown",
   "metadata": {},
   "source": [
    "---"
   ]
  },
  {
   "cell_type": "markdown",
   "metadata": {},
   "source": [
    "# Read in data"
   ]
  },
  {
   "cell_type": "markdown",
   "metadata": {},
   "source": [
    "#### Catalog"
   ]
  },
  {
   "cell_type": "code",
   "execution_count": 2,
   "metadata": {},
   "outputs": [],
   "source": [
    "ard_not_adv = pd.read_csv('../data/ard_not_adv.csv', skiprows = 0)"
   ]
  },
  {
   "cell_type": "code",
   "execution_count": 3,
   "metadata": {},
   "outputs": [],
   "source": [
    "# ras_good = []\n",
    "# decs_good = []"
   ]
  },
  {
   "cell_type": "code",
   "execution_count": 4,
   "metadata": {},
   "outputs": [],
   "source": [
    "# ras_fake = ard_not_adv['amf_ra']+random.uniform(-1,1)\n",
    "# decs_fake = ard_not_adv['amf_dec']+random.uniform(-1,1)\n",
    "\n",
    "# for i in tqdm(range(len(ras_fake))):\n",
    "#     matches = ard_not_adv.loc[(ard_not_adv['amf_ra'].sub(ras_fake[i]).abs()<1) & (ard_not_adv['amf_dec'].sub(decs_fake[i]).abs()<1)]\n",
    "#     if len(matches)==0:  \n",
    "#         ras_good.append(ras_fake[i])\n",
    "#         decs_good.append(decs_fake[i])"
   ]
  },
  {
   "cell_type": "code",
   "execution_count": 5,
   "metadata": {},
   "outputs": [],
   "source": [
    "# plt.scatter(ard_not_adv['amf_ra'],ard_not_adv['amf_dec'],s=0.1)\n",
    "# plt.scatter(ras_good,decs_good,s=0.1,color='red')\n",
    "# # plt.xlim(100,250)"
   ]
  },
  {
   "cell_type": "code",
   "execution_count": 6,
   "metadata": {},
   "outputs": [],
   "source": [
    "# len(ras_good)"
   ]
  },
  {
   "cell_type": "markdown",
   "metadata": {},
   "source": [
    "---"
   ]
  },
  {
   "cell_type": "markdown",
   "metadata": {},
   "source": [
    "#### Planck"
   ]
  },
  {
   "cell_type": "code",
   "execution_count": 7,
   "metadata": {},
   "outputs": [],
   "source": [
    "# pl = hp.read_map(\"../data/HFI_SkyMap_217-field-IQU_2048_R3.00_full.fits\")\n",
    "# pl[pl<-1e23]=0\n",
    "\n",
    "# shape,wcs = enmap.fullsky_geometry(res=5.0 * utils.arcmin,proj='car')\n",
    "# map_pix = reproject.enmap_from_healpix(pl,shape=shape,wcs=wcs)"
   ]
  },
  {
   "cell_type": "markdown",
   "metadata": {},
   "source": [
    "#### ROSAT"
   ]
  },
  {
   "cell_type": "code",
   "execution_count": 8,
   "metadata": {},
   "outputs": [],
   "source": [
    "# ros = hp.read_map(\"../data/rass_healpix_countsec.fits\")\n",
    "# mask = hp.read_map(\"../data/mask_comprass.fits\")\n",
    "\n",
    "# ros[ros<-1e23]=0\n",
    "\n",
    "# masked_ros = []\n",
    "# for i in tqdm(range(len(mask))):\n",
    "#     masked_ros.append(0)\n",
    "#     if mask[i]:\n",
    "#         masked_ros[i]=ros[i]\n",
    "\n",
    "# masked_ros = np.array(masked_ros)\n",
    "\n",
    "# shape,wcs = enmap.fullsky_geometry(res=5.0 * utils.arcmin,proj='car')\n",
    "# map_pix = reproject.enmap_from_healpix(masked_ros,shape=shape,wcs=wcs)"
   ]
  },
  {
   "cell_type": "markdown",
   "metadata": {},
   "source": [
    "#### ACT"
   ]
  },
  {
   "cell_type": "code",
   "execution_count": 9,
   "metadata": {},
   "outputs": [],
   "source": [
    "map_pix = enmap.read_map(\"../data/act_dr5.01_s08s18_AA_f090_daynight_map.fits\")"
   ]
  },
  {
   "cell_type": "markdown",
   "metadata": {},
   "source": [
    "---"
   ]
  },
  {
   "cell_type": "markdown",
   "metadata": {},
   "source": [
    "# Intensity extraction"
   ]
  },
  {
   "cell_type": "code",
   "execution_count": 10,
   "metadata": {},
   "outputs": [],
   "source": [
    "# Full\n",
    "# ras = np.linspace(0,360,142)\n",
    "# decs1 = np.linspace(-90,-25,71)\n",
    "# decs2 = np.linspace(25,90,71)\n",
    "# decs = np.concatenate((decs1,decs2))\n",
    "\n",
    "# Fake\n",
    "# ras = np.loadtxt('fakeras.csv',delimiter=', ')\n",
    "# decs = np.loadtxt('fakedecs.csv',delimiter=', ')\n",
    "\n",
    "# Real\n",
    "ras  = ard_not_adv['amf_ra']\n",
    "decs = ard_not_adv['amf_dec']\n",
    "\n",
    "N = len(ras)\n",
    "stack_CMB_kSZ           = 0\n",
    "stack_CMB_kSZ_deproject = 0\n",
    "c = 0"
   ]
  },
  {
   "cell_type": "code",
   "execution_count": 11,
   "metadata": {},
   "outputs": [
    {
     "name": "stderr",
     "output_type": "stream",
     "text": [
      "100%|██████████| 21006/21006 [04:46<00:00, 73.42it/s]\n"
     ]
    }
   ],
   "source": [
    "signal = []\n",
    "\n",
    "# Full map\n",
    "# for j in tqdm(range(N)):\n",
    "#     for i in range(N):\n",
    "#         stamp = reproject.thumbnails(map_pix,coords = np.deg2rad([decs[j], ras[i]]),r=3*utils.arcmin)\n",
    "\n",
    "#         if stamp is None:\n",
    "#             signal.append(0)\n",
    "#             continue\n",
    "#         elif stamp[0][0][0]==0.0:\n",
    "#             signal.append(0)\n",
    "#             continue\n",
    "\n",
    "#         signal.append(sum(sum(stamp[0]))/9)\n",
    "#         ras_temp.append(ras[i])\n",
    "#         decs_temp.append(decs[j])\n",
    "\n",
    "# Fake\n",
    "for i in tqdm(range(N)):\n",
    "    stamp = reproject.thumbnails(map_pix,coords = np.deg2rad([decs[i], ras[i]]),r=3*utils.arcmin)\n",
    "    if stamp is None: signal.append(-9999)\n",
    "    elif stamp[0][0][0]==0.0: signal.append(-9999)\n",
    "    else: signal.append(sum(sum(stamp[0]))/(25*25))\n",
    "#     plt.imshow(stamp[0])\n",
    "#     plt.show()\n",
    "\n",
    "# Real\n",
    "# for i in tqdm(range(N)):\n",
    "#     stamp = reproject.thumbnails(map_pix,coords = np.deg2rad([decs[i], ras[i]]),r=3*utils.arcmin)\n",
    "\n",
    "#     if stamp is None:\n",
    "#         signal.append(0)\n",
    "#         continue\n",
    "#     elif stamp[0][0][0]==0.0:\n",
    "#         signal.append(0)\n",
    "#         continue\n",
    "\n",
    "#     signal.append(sum(sum(stamp[0]))/9)"
   ]
  },
  {
   "cell_type": "code",
   "execution_count": 12,
   "metadata": {},
   "outputs": [
    {
     "data": {
      "text/plain": [
       "21006"
      ]
     },
     "execution_count": 12,
     "metadata": {},
     "output_type": "execute_result"
    }
   ],
   "source": [
    "len(signal)"
   ]
  },
  {
   "cell_type": "code",
   "execution_count": 13,
   "metadata": {},
   "outputs": [],
   "source": [
    "np.savetxt(\"act_intensity090.csv\",\n",
    "           signal,\n",
    "           delimiter=\", \",\n",
    "           fmt='% s')\n",
    "\n",
    "# np.savetxt(\"fakeras.csv\",\n",
    "#            ras_good,\n",
    "#            delimiter=\", \",\n",
    "#            fmt='% s')\n",
    "\n",
    "# np.savetxt(\"fakedecs.csv\",\n",
    "#            decs_good,\n",
    "#            delimiter=\", \",\n",
    "#            fmt='% s')"
   ]
  },
  {
   "cell_type": "code",
   "execution_count": null,
   "metadata": {},
   "outputs": [],
   "source": []
  },
  {
   "cell_type": "code",
   "execution_count": null,
   "metadata": {},
   "outputs": [],
   "source": []
  }
 ],
 "metadata": {
  "kernelspec": {
   "display_name": "Python 3",
   "language": "python",
   "name": "python3"
  },
  "language_info": {
   "codemirror_mode": {
    "name": "ipython",
    "version": 3
   },
   "file_extension": ".py",
   "mimetype": "text/x-python",
   "name": "python",
   "nbconvert_exporter": "python",
   "pygments_lexer": "ipython3",
   "version": "3.7.6"
  }
 },
 "nbformat": 4,
 "nbformat_minor": 4
}
