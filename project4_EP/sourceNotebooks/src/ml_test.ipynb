{
 "cells": [
  {
   "cell_type": "code",
   "execution_count": 26,
   "metadata": {},
   "outputs": [],
   "source": [
    "# Importing the libraries\n",
    "import numpy as np\n",
    "import matplotlib.pyplot as plt\n",
    "import pandas as pd\n",
    "from sklearn import linear_model\n",
    "from multiprocessing import Pool\n",
    "from astropy.coordinates import SkyCoord\n",
    "import healpy as hp\n",
    "\n",
    "# %matplotlib notebook\n",
    "\n",
    "import matplotlib.pyplot as plt\n",
    "from mpl_toolkits.mplot3d import axes3d    \n",
    "import random"
   ]
  },
  {
   "cell_type": "code",
   "execution_count": 2,
   "metadata": {},
   "outputs": [
    {
     "data": {
      "text/html": [
       "<div>\n",
       "<style scoped>\n",
       "    .dataframe tbody tr th:only-of-type {\n",
       "        vertical-align: middle;\n",
       "    }\n",
       "\n",
       "    .dataframe tbody tr th {\n",
       "        vertical-align: top;\n",
       "    }\n",
       "\n",
       "    .dataframe thead th {\n",
       "        text-align: right;\n",
       "    }\n",
       "</style>\n",
       "<table border=\"1\" class=\"dataframe\">\n",
       "  <thead>\n",
       "    <tr style=\"text-align: right;\">\n",
       "      <th></th>\n",
       "      <th>Unnamed: 0</th>\n",
       "      <th>Unnamed: 0.1</th>\n",
       "      <th>amf_no</th>\n",
       "      <th>amf_ra</th>\n",
       "      <th>amf_dec</th>\n",
       "      <th>amf_z</th>\n",
       "      <th>amf_lk</th>\n",
       "      <th>amf_rh</th>\n",
       "      <th>amf_r200</th>\n",
       "      <th>amf_rc</th>\n",
       "      <th>...</th>\n",
       "      <th>red_id</th>\n",
       "      <th>whl_id</th>\n",
       "      <th>glat</th>\n",
       "      <th>glon</th>\n",
       "      <th>amf_sn</th>\n",
       "      <th>intensity100</th>\n",
       "      <th>intensity857</th>\n",
       "      <th>intensity143</th>\n",
       "      <th>intensity353</th>\n",
       "      <th>cluster</th>\n",
       "    </tr>\n",
       "  </thead>\n",
       "  <tbody>\n",
       "    <tr>\n",
       "      <th>0</th>\n",
       "      <td>0</td>\n",
       "      <td>0</td>\n",
       "      <td>5.0</td>\n",
       "      <td>260.6324</td>\n",
       "      <td>32.1398</td>\n",
       "      <td>0.2252</td>\n",
       "      <td>222.1219</td>\n",
       "      <td>200.7117</td>\n",
       "      <td>1.784</td>\n",
       "      <td>0.625</td>\n",
       "      <td>...</td>\n",
       "      <td>RMJ172227.2+320757.2</td>\n",
       "      <td>J172227.2+320757</td>\n",
       "      <td>31.846666</td>\n",
       "      <td>55.602221</td>\n",
       "      <td>24.655148</td>\n",
       "      <td>-0.000048</td>\n",
       "      <td>1.978746</td>\n",
       "      <td>-0.000006</td>\n",
       "      <td>0.001062</td>\n",
       "      <td>1</td>\n",
       "    </tr>\n",
       "    <tr>\n",
       "      <th>1</th>\n",
       "      <td>1</td>\n",
       "      <td>1</td>\n",
       "      <td>7.0</td>\n",
       "      <td>250.1485</td>\n",
       "      <td>46.6917</td>\n",
       "      <td>0.2248</td>\n",
       "      <td>225.9874</td>\n",
       "      <td>182.3373</td>\n",
       "      <td>1.725</td>\n",
       "      <td>0.495</td>\n",
       "      <td>...</td>\n",
       "      <td>RMJ164019.8+464241.5</td>\n",
       "      <td>J164019.8+464242</td>\n",
       "      <td>41.429880</td>\n",
       "      <td>72.599428</td>\n",
       "      <td>44.674799</td>\n",
       "      <td>-0.000269</td>\n",
       "      <td>1.196847</td>\n",
       "      <td>-0.000215</td>\n",
       "      <td>0.000722</td>\n",
       "      <td>1</td>\n",
       "    </tr>\n",
       "    <tr>\n",
       "      <th>2</th>\n",
       "      <td>3</td>\n",
       "      <td>3</td>\n",
       "      <td>10.0</td>\n",
       "      <td>203.1873</td>\n",
       "      <td>50.5346</td>\n",
       "      <td>0.3110</td>\n",
       "      <td>164.8704</td>\n",
       "      <td>179.1883</td>\n",
       "      <td>1.663</td>\n",
       "      <td>0.422</td>\n",
       "      <td>...</td>\n",
       "      <td>RMJ133238.4+503336.0</td>\n",
       "      <td>J133252.1+503134</td>\n",
       "      <td>65.305106</td>\n",
       "      <td>107.103759</td>\n",
       "      <td>25.696075</td>\n",
       "      <td>-0.000124</td>\n",
       "      <td>1.019871</td>\n",
       "      <td>-0.000129</td>\n",
       "      <td>0.000580</td>\n",
       "      <td>1</td>\n",
       "    </tr>\n",
       "    <tr>\n",
       "      <th>3</th>\n",
       "      <td>4</td>\n",
       "      <td>4</td>\n",
       "      <td>12.0</td>\n",
       "      <td>350.2432</td>\n",
       "      <td>29.2029</td>\n",
       "      <td>0.5231</td>\n",
       "      <td>165.0015</td>\n",
       "      <td>174.7108</td>\n",
       "      <td>1.518</td>\n",
       "      <td>0.390</td>\n",
       "      <td>...</td>\n",
       "      <td>RMJ232104.1+291134.5</td>\n",
       "      <td>J232104.1+291134</td>\n",
       "      <td>-29.646780</td>\n",
       "      <td>100.211077</td>\n",
       "      <td>13.793623</td>\n",
       "      <td>0.000047</td>\n",
       "      <td>4.913466</td>\n",
       "      <td>0.000091</td>\n",
       "      <td>0.001929</td>\n",
       "      <td>1</td>\n",
       "    </tr>\n",
       "    <tr>\n",
       "      <th>4</th>\n",
       "      <td>5</td>\n",
       "      <td>5</td>\n",
       "      <td>13.0</td>\n",
       "      <td>139.4938</td>\n",
       "      <td>51.7236</td>\n",
       "      <td>0.2574</td>\n",
       "      <td>169.5809</td>\n",
       "      <td>172.6889</td>\n",
       "      <td>1.676</td>\n",
       "      <td>0.199</td>\n",
       "      <td>...</td>\n",
       "      <td>RMJ091753.4+514337.5</td>\n",
       "      <td>J091753.4+514338</td>\n",
       "      <td>43.387615</td>\n",
       "      <td>166.090009</td>\n",
       "      <td>20.839521</td>\n",
       "      <td>0.000029</td>\n",
       "      <td>1.074994</td>\n",
       "      <td>0.000060</td>\n",
       "      <td>0.000894</td>\n",
       "      <td>1</td>\n",
       "    </tr>\n",
       "    <tr>\n",
       "      <th>...</th>\n",
       "      <td>...</td>\n",
       "      <td>...</td>\n",
       "      <td>...</td>\n",
       "      <td>...</td>\n",
       "      <td>...</td>\n",
       "      <td>...</td>\n",
       "      <td>...</td>\n",
       "      <td>...</td>\n",
       "      <td>...</td>\n",
       "      <td>...</td>\n",
       "      <td>...</td>\n",
       "      <td>...</td>\n",
       "      <td>...</td>\n",
       "      <td>...</td>\n",
       "      <td>...</td>\n",
       "      <td>...</td>\n",
       "      <td>...</td>\n",
       "      <td>...</td>\n",
       "      <td>...</td>\n",
       "      <td>...</td>\n",
       "      <td>...</td>\n",
       "    </tr>\n",
       "    <tr>\n",
       "      <th>21001</th>\n",
       "      <td>21533</td>\n",
       "      <td>21533</td>\n",
       "      <td>54265.0</td>\n",
       "      <td>117.7965</td>\n",
       "      <td>28.4314</td>\n",
       "      <td>0.4498</td>\n",
       "      <td>21.3133</td>\n",
       "      <td>20.0019</td>\n",
       "      <td>0.721</td>\n",
       "      <td>0.090</td>\n",
       "      <td>...</td>\n",
       "      <td>-9999</td>\n",
       "      <td>J075110.0+282537</td>\n",
       "      <td>24.760679</td>\n",
       "      <td>192.272829</td>\n",
       "      <td>0.235375</td>\n",
       "      <td>-0.000085</td>\n",
       "      <td>1.742793</td>\n",
       "      <td>-0.000074</td>\n",
       "      <td>0.000728</td>\n",
       "      <td>1</td>\n",
       "    </tr>\n",
       "    <tr>\n",
       "      <th>21002</th>\n",
       "      <td>21534</td>\n",
       "      <td>21534</td>\n",
       "      <td>54266.0</td>\n",
       "      <td>10.2234</td>\n",
       "      <td>16.4729</td>\n",
       "      <td>0.3325</td>\n",
       "      <td>7.5789</td>\n",
       "      <td>20.0018</td>\n",
       "      <td>0.754</td>\n",
       "      <td>0.420</td>\n",
       "      <td>...</td>\n",
       "      <td>-9999</td>\n",
       "      <td>J004043.6+162754</td>\n",
       "      <td>-46.323866</td>\n",
       "      <td>119.270217</td>\n",
       "      <td>1.128670</td>\n",
       "      <td>-0.000071</td>\n",
       "      <td>1.821485</td>\n",
       "      <td>-0.000079</td>\n",
       "      <td>0.000611</td>\n",
       "      <td>1</td>\n",
       "    </tr>\n",
       "    <tr>\n",
       "      <th>21003</th>\n",
       "      <td>21535</td>\n",
       "      <td>21535</td>\n",
       "      <td>54272.0</td>\n",
       "      <td>332.5373</td>\n",
       "      <td>16.8053</td>\n",
       "      <td>0.2720</td>\n",
       "      <td>19.0528</td>\n",
       "      <td>20.0008</td>\n",
       "      <td>0.774</td>\n",
       "      <td>0.059</td>\n",
       "      <td>...</td>\n",
       "      <td>-9999</td>\n",
       "      <td>J221009.3+165449</td>\n",
       "      <td>-31.180104</td>\n",
       "      <td>76.542726</td>\n",
       "      <td>0.327218</td>\n",
       "      <td>-0.000112</td>\n",
       "      <td>2.181500</td>\n",
       "      <td>-0.000118</td>\n",
       "      <td>0.000789</td>\n",
       "      <td>1</td>\n",
       "    </tr>\n",
       "    <tr>\n",
       "      <th>21004</th>\n",
       "      <td>21536</td>\n",
       "      <td>21536</td>\n",
       "      <td>54273.0</td>\n",
       "      <td>321.0614</td>\n",
       "      <td>-5.5885</td>\n",
       "      <td>0.4036</td>\n",
       "      <td>7.3319</td>\n",
       "      <td>20.0008</td>\n",
       "      <td>0.734</td>\n",
       "      <td>0.260</td>\n",
       "      <td>...</td>\n",
       "      <td>-9999</td>\n",
       "      <td>J212412.8-053647</td>\n",
       "      <td>-36.312474</td>\n",
       "      <td>46.861993</td>\n",
       "      <td>0.906488</td>\n",
       "      <td>0.000283</td>\n",
       "      <td>3.162386</td>\n",
       "      <td>0.000297</td>\n",
       "      <td>0.001527</td>\n",
       "      <td>1</td>\n",
       "    </tr>\n",
       "    <tr>\n",
       "      <th>21005</th>\n",
       "      <td>21537</td>\n",
       "      <td>21537</td>\n",
       "      <td>54277.0</td>\n",
       "      <td>200.4356</td>\n",
       "      <td>56.8381</td>\n",
       "      <td>0.1359</td>\n",
       "      <td>16.1046</td>\n",
       "      <td>20.0000</td>\n",
       "      <td>0.810</td>\n",
       "      <td>0.210</td>\n",
       "      <td>...</td>\n",
       "      <td>-9999</td>\n",
       "      <td>J132144.4+564833</td>\n",
       "      <td>59.802483</td>\n",
       "      <td>114.688269</td>\n",
       "      <td>0.527056</td>\n",
       "      <td>-0.000005</td>\n",
       "      <td>1.012472</td>\n",
       "      <td>-0.000006</td>\n",
       "      <td>0.000502</td>\n",
       "      <td>1</td>\n",
       "    </tr>\n",
       "  </tbody>\n",
       "</table>\n",
       "<p>21006 rows × 24 columns</p>\n",
       "</div>"
      ],
      "text/plain": [
       "       Unnamed: 0  Unnamed: 0.1   amf_no    amf_ra  amf_dec   amf_z    amf_lk  \\\n",
       "0               0             0      5.0  260.6324  32.1398  0.2252  222.1219   \n",
       "1               1             1      7.0  250.1485  46.6917  0.2248  225.9874   \n",
       "2               3             3     10.0  203.1873  50.5346  0.3110  164.8704   \n",
       "3               4             4     12.0  350.2432  29.2029  0.5231  165.0015   \n",
       "4               5             5     13.0  139.4938  51.7236  0.2574  169.5809   \n",
       "...           ...           ...      ...       ...      ...     ...       ...   \n",
       "21001       21533         21533  54265.0  117.7965  28.4314  0.4498   21.3133   \n",
       "21002       21534         21534  54266.0   10.2234  16.4729  0.3325    7.5789   \n",
       "21003       21535         21535  54272.0  332.5373  16.8053  0.2720   19.0528   \n",
       "21004       21536         21536  54273.0  321.0614  -5.5885  0.4036    7.3319   \n",
       "21005       21537         21537  54277.0  200.4356  56.8381  0.1359   16.1046   \n",
       "\n",
       "         amf_rh  amf_r200  amf_rc  ...                red_id  \\\n",
       "0      200.7117     1.784   0.625  ...  RMJ172227.2+320757.2   \n",
       "1      182.3373     1.725   0.495  ...  RMJ164019.8+464241.5   \n",
       "2      179.1883     1.663   0.422  ...  RMJ133238.4+503336.0   \n",
       "3      174.7108     1.518   0.390  ...  RMJ232104.1+291134.5   \n",
       "4      172.6889     1.676   0.199  ...  RMJ091753.4+514337.5   \n",
       "...         ...       ...     ...  ...                   ...   \n",
       "21001   20.0019     0.721   0.090  ...                 -9999   \n",
       "21002   20.0018     0.754   0.420  ...                 -9999   \n",
       "21003   20.0008     0.774   0.059  ...                 -9999   \n",
       "21004   20.0008     0.734   0.260  ...                 -9999   \n",
       "21005   20.0000     0.810   0.210  ...                 -9999   \n",
       "\n",
       "                 whl_id       glat        glon     amf_sn intensity100  \\\n",
       "0      J172227.2+320757  31.846666   55.602221  24.655148    -0.000048   \n",
       "1      J164019.8+464242  41.429880   72.599428  44.674799    -0.000269   \n",
       "2      J133252.1+503134  65.305106  107.103759  25.696075    -0.000124   \n",
       "3      J232104.1+291134 -29.646780  100.211077  13.793623     0.000047   \n",
       "4      J091753.4+514338  43.387615  166.090009  20.839521     0.000029   \n",
       "...                 ...        ...         ...        ...          ...   \n",
       "21001  J075110.0+282537  24.760679  192.272829   0.235375    -0.000085   \n",
       "21002  J004043.6+162754 -46.323866  119.270217   1.128670    -0.000071   \n",
       "21003  J221009.3+165449 -31.180104   76.542726   0.327218    -0.000112   \n",
       "21004  J212412.8-053647 -36.312474   46.861993   0.906488     0.000283   \n",
       "21005  J132144.4+564833  59.802483  114.688269   0.527056    -0.000005   \n",
       "\n",
       "       intensity857  intensity143  intensity353  cluster  \n",
       "0          1.978746     -0.000006      0.001062        1  \n",
       "1          1.196847     -0.000215      0.000722        1  \n",
       "2          1.019871     -0.000129      0.000580        1  \n",
       "3          4.913466      0.000091      0.001929        1  \n",
       "4          1.074994      0.000060      0.000894        1  \n",
       "...             ...           ...           ...      ...  \n",
       "21001      1.742793     -0.000074      0.000728        1  \n",
       "21002      1.821485     -0.000079      0.000611        1  \n",
       "21003      2.181500     -0.000118      0.000789        1  \n",
       "21004      3.162386      0.000297      0.001527        1  \n",
       "21005      1.012472     -0.000006      0.000502        1  \n",
       "\n",
       "[21006 rows x 24 columns]"
      ]
     },
     "execution_count": 2,
     "metadata": {},
     "output_type": "execute_result"
    }
   ],
   "source": [
    " # Importing the dataset containing optical clusters\n",
    "df = pd.read_csv('../data/ard_not_adv.csv', skiprows = 0)\n",
    "df = df[df.amf_sn!=0]\n",
    "df.sort_values(by=['amf_rh'],ascending=False)"
   ]
  },
  {
   "cell_type": "code",
   "execution_count": 33,
   "metadata": {},
   "outputs": [
    {
     "data": {
      "text/html": [
       "<div>\n",
       "<style scoped>\n",
       "    .dataframe tbody tr th:only-of-type {\n",
       "        vertical-align: middle;\n",
       "    }\n",
       "\n",
       "    .dataframe tbody tr th {\n",
       "        vertical-align: top;\n",
       "    }\n",
       "\n",
       "    .dataframe thead th {\n",
       "        text-align: right;\n",
       "    }\n",
       "</style>\n",
       "<table border=\"1\" class=\"dataframe\">\n",
       "  <thead>\n",
       "    <tr style=\"text-align: right;\">\n",
       "      <th></th>\n",
       "      <th>Unnamed: 0</th>\n",
       "      <th>Unnamed: 0.1</th>\n",
       "      <th>amf_no</th>\n",
       "      <th>amf_ra</th>\n",
       "      <th>amf_dec</th>\n",
       "      <th>amf_z</th>\n",
       "      <th>amf_lk</th>\n",
       "      <th>amf_rh</th>\n",
       "      <th>amf_r200</th>\n",
       "      <th>amf_rc</th>\n",
       "      <th>...</th>\n",
       "      <th>red_id</th>\n",
       "      <th>whl_id</th>\n",
       "      <th>glat</th>\n",
       "      <th>glon</th>\n",
       "      <th>amf_sn</th>\n",
       "      <th>intensity100</th>\n",
       "      <th>intensity857</th>\n",
       "      <th>intensity143</th>\n",
       "      <th>intensity353</th>\n",
       "      <th>cluster</th>\n",
       "    </tr>\n",
       "  </thead>\n",
       "  <tbody>\n",
       "    <tr>\n",
       "      <th>0</th>\n",
       "      <td>0</td>\n",
       "      <td>0</td>\n",
       "      <td>0.0</td>\n",
       "      <td>0.0</td>\n",
       "      <td>0.0</td>\n",
       "      <td>0.0</td>\n",
       "      <td>0.0</td>\n",
       "      <td>0.0</td>\n",
       "      <td>0.0</td>\n",
       "      <td>0.0</td>\n",
       "      <td>...</td>\n",
       "      <td>0</td>\n",
       "      <td>0</td>\n",
       "      <td>0.0</td>\n",
       "      <td>0.0</td>\n",
       "      <td>0.0</td>\n",
       "      <td>1.643247e-06</td>\n",
       "      <td>0.0</td>\n",
       "      <td>0.000009</td>\n",
       "      <td>0.000062</td>\n",
       "      <td>0</td>\n",
       "    </tr>\n",
       "    <tr>\n",
       "      <th>1</th>\n",
       "      <td>1</td>\n",
       "      <td>0</td>\n",
       "      <td>0.0</td>\n",
       "      <td>0.0</td>\n",
       "      <td>0.0</td>\n",
       "      <td>0.0</td>\n",
       "      <td>0.0</td>\n",
       "      <td>0.0</td>\n",
       "      <td>0.0</td>\n",
       "      <td>0.0</td>\n",
       "      <td>...</td>\n",
       "      <td>0</td>\n",
       "      <td>0</td>\n",
       "      <td>0.0</td>\n",
       "      <td>0.0</td>\n",
       "      <td>0.0</td>\n",
       "      <td>3.520869e-05</td>\n",
       "      <td>0.0</td>\n",
       "      <td>0.000005</td>\n",
       "      <td>0.000062</td>\n",
       "      <td>0</td>\n",
       "    </tr>\n",
       "    <tr>\n",
       "      <th>2</th>\n",
       "      <td>2</td>\n",
       "      <td>0</td>\n",
       "      <td>0.0</td>\n",
       "      <td>0.0</td>\n",
       "      <td>0.0</td>\n",
       "      <td>0.0</td>\n",
       "      <td>0.0</td>\n",
       "      <td>0.0</td>\n",
       "      <td>0.0</td>\n",
       "      <td>0.0</td>\n",
       "      <td>...</td>\n",
       "      <td>0</td>\n",
       "      <td>0</td>\n",
       "      <td>0.0</td>\n",
       "      <td>0.0</td>\n",
       "      <td>0.0</td>\n",
       "      <td>3.651370e-07</td>\n",
       "      <td>0.0</td>\n",
       "      <td>0.000011</td>\n",
       "      <td>0.000762</td>\n",
       "      <td>0</td>\n",
       "    </tr>\n",
       "    <tr>\n",
       "      <th>3</th>\n",
       "      <td>3</td>\n",
       "      <td>0</td>\n",
       "      <td>0.0</td>\n",
       "      <td>0.0</td>\n",
       "      <td>0.0</td>\n",
       "      <td>0.0</td>\n",
       "      <td>0.0</td>\n",
       "      <td>0.0</td>\n",
       "      <td>0.0</td>\n",
       "      <td>0.0</td>\n",
       "      <td>...</td>\n",
       "      <td>0</td>\n",
       "      <td>0</td>\n",
       "      <td>0.0</td>\n",
       "      <td>0.0</td>\n",
       "      <td>0.0</td>\n",
       "      <td>-4.041828e-06</td>\n",
       "      <td>0.0</td>\n",
       "      <td>-0.000002</td>\n",
       "      <td>0.000065</td>\n",
       "      <td>0</td>\n",
       "    </tr>\n",
       "    <tr>\n",
       "      <th>4</th>\n",
       "      <td>4</td>\n",
       "      <td>0</td>\n",
       "      <td>0.0</td>\n",
       "      <td>0.0</td>\n",
       "      <td>0.0</td>\n",
       "      <td>0.0</td>\n",
       "      <td>0.0</td>\n",
       "      <td>0.0</td>\n",
       "      <td>0.0</td>\n",
       "      <td>0.0</td>\n",
       "      <td>...</td>\n",
       "      <td>0</td>\n",
       "      <td>0</td>\n",
       "      <td>0.0</td>\n",
       "      <td>0.0</td>\n",
       "      <td>0.0</td>\n",
       "      <td>3.175163e-05</td>\n",
       "      <td>0.0</td>\n",
       "      <td>0.000005</td>\n",
       "      <td>0.000057</td>\n",
       "      <td>0</td>\n",
       "    </tr>\n",
       "    <tr>\n",
       "      <th>...</th>\n",
       "      <td>...</td>\n",
       "      <td>...</td>\n",
       "      <td>...</td>\n",
       "      <td>...</td>\n",
       "      <td>...</td>\n",
       "      <td>...</td>\n",
       "      <td>...</td>\n",
       "      <td>...</td>\n",
       "      <td>...</td>\n",
       "      <td>...</td>\n",
       "      <td>...</td>\n",
       "      <td>...</td>\n",
       "      <td>...</td>\n",
       "      <td>...</td>\n",
       "      <td>...</td>\n",
       "      <td>...</td>\n",
       "      <td>...</td>\n",
       "      <td>...</td>\n",
       "      <td>...</td>\n",
       "      <td>...</td>\n",
       "      <td>...</td>\n",
       "    </tr>\n",
       "    <tr>\n",
       "      <th>21533</th>\n",
       "      <td>21533</td>\n",
       "      <td>0</td>\n",
       "      <td>0.0</td>\n",
       "      <td>0.0</td>\n",
       "      <td>0.0</td>\n",
       "      <td>0.0</td>\n",
       "      <td>0.0</td>\n",
       "      <td>0.0</td>\n",
       "      <td>0.0</td>\n",
       "      <td>0.0</td>\n",
       "      <td>...</td>\n",
       "      <td>0</td>\n",
       "      <td>0</td>\n",
       "      <td>0.0</td>\n",
       "      <td>0.0</td>\n",
       "      <td>0.0</td>\n",
       "      <td>-2.045637e-05</td>\n",
       "      <td>0.0</td>\n",
       "      <td>-0.000005</td>\n",
       "      <td>0.000082</td>\n",
       "      <td>0</td>\n",
       "    </tr>\n",
       "    <tr>\n",
       "      <th>21534</th>\n",
       "      <td>21534</td>\n",
       "      <td>0</td>\n",
       "      <td>0.0</td>\n",
       "      <td>0.0</td>\n",
       "      <td>0.0</td>\n",
       "      <td>0.0</td>\n",
       "      <td>0.0</td>\n",
       "      <td>0.0</td>\n",
       "      <td>0.0</td>\n",
       "      <td>0.0</td>\n",
       "      <td>...</td>\n",
       "      <td>0</td>\n",
       "      <td>0</td>\n",
       "      <td>0.0</td>\n",
       "      <td>0.0</td>\n",
       "      <td>0.0</td>\n",
       "      <td>2.398245e-06</td>\n",
       "      <td>0.0</td>\n",
       "      <td>0.000008</td>\n",
       "      <td>0.000102</td>\n",
       "      <td>0</td>\n",
       "    </tr>\n",
       "    <tr>\n",
       "      <th>21535</th>\n",
       "      <td>21535</td>\n",
       "      <td>0</td>\n",
       "      <td>0.0</td>\n",
       "      <td>0.0</td>\n",
       "      <td>0.0</td>\n",
       "      <td>0.0</td>\n",
       "      <td>0.0</td>\n",
       "      <td>0.0</td>\n",
       "      <td>0.0</td>\n",
       "      <td>0.0</td>\n",
       "      <td>...</td>\n",
       "      <td>0</td>\n",
       "      <td>0</td>\n",
       "      <td>0.0</td>\n",
       "      <td>0.0</td>\n",
       "      <td>0.0</td>\n",
       "      <td>5.235123e-06</td>\n",
       "      <td>0.0</td>\n",
       "      <td>-0.000021</td>\n",
       "      <td>0.000107</td>\n",
       "      <td>0</td>\n",
       "    </tr>\n",
       "    <tr>\n",
       "      <th>21536</th>\n",
       "      <td>21536</td>\n",
       "      <td>0</td>\n",
       "      <td>0.0</td>\n",
       "      <td>0.0</td>\n",
       "      <td>0.0</td>\n",
       "      <td>0.0</td>\n",
       "      <td>0.0</td>\n",
       "      <td>0.0</td>\n",
       "      <td>0.0</td>\n",
       "      <td>0.0</td>\n",
       "      <td>...</td>\n",
       "      <td>0</td>\n",
       "      <td>0</td>\n",
       "      <td>0.0</td>\n",
       "      <td>0.0</td>\n",
       "      <td>0.0</td>\n",
       "      <td>4.473348e-06</td>\n",
       "      <td>0.0</td>\n",
       "      <td>0.000028</td>\n",
       "      <td>0.000153</td>\n",
       "      <td>0</td>\n",
       "    </tr>\n",
       "    <tr>\n",
       "      <th>21537</th>\n",
       "      <td>21537</td>\n",
       "      <td>0</td>\n",
       "      <td>0.0</td>\n",
       "      <td>0.0</td>\n",
       "      <td>0.0</td>\n",
       "      <td>0.0</td>\n",
       "      <td>0.0</td>\n",
       "      <td>0.0</td>\n",
       "      <td>0.0</td>\n",
       "      <td>0.0</td>\n",
       "      <td>...</td>\n",
       "      <td>0</td>\n",
       "      <td>0</td>\n",
       "      <td>0.0</td>\n",
       "      <td>0.0</td>\n",
       "      <td>0.0</td>\n",
       "      <td>-8.811109e-06</td>\n",
       "      <td>0.0</td>\n",
       "      <td>0.000016</td>\n",
       "      <td>0.000039</td>\n",
       "      <td>0</td>\n",
       "    </tr>\n",
       "  </tbody>\n",
       "</table>\n",
       "<p>21538 rows × 24 columns</p>\n",
       "</div>"
      ],
      "text/plain": [
       "       Unnamed: 0  Unnamed: 0.1  amf_no  amf_ra  amf_dec  amf_z  amf_lk  \\\n",
       "0               0             0     0.0     0.0      0.0    0.0     0.0   \n",
       "1               1             0     0.0     0.0      0.0    0.0     0.0   \n",
       "2               2             0     0.0     0.0      0.0    0.0     0.0   \n",
       "3               3             0     0.0     0.0      0.0    0.0     0.0   \n",
       "4               4             0     0.0     0.0      0.0    0.0     0.0   \n",
       "...           ...           ...     ...     ...      ...    ...     ...   \n",
       "21533       21533             0     0.0     0.0      0.0    0.0     0.0   \n",
       "21534       21534             0     0.0     0.0      0.0    0.0     0.0   \n",
       "21535       21535             0     0.0     0.0      0.0    0.0     0.0   \n",
       "21536       21536             0     0.0     0.0      0.0    0.0     0.0   \n",
       "21537       21537             0     0.0     0.0      0.0    0.0     0.0   \n",
       "\n",
       "       amf_rh  amf_r200  amf_rc  ...  red_id  whl_id  glat  glon  amf_sn  \\\n",
       "0         0.0       0.0     0.0  ...       0       0   0.0   0.0     0.0   \n",
       "1         0.0       0.0     0.0  ...       0       0   0.0   0.0     0.0   \n",
       "2         0.0       0.0     0.0  ...       0       0   0.0   0.0     0.0   \n",
       "3         0.0       0.0     0.0  ...       0       0   0.0   0.0     0.0   \n",
       "4         0.0       0.0     0.0  ...       0       0   0.0   0.0     0.0   \n",
       "...       ...       ...     ...  ...     ...     ...   ...   ...     ...   \n",
       "21533     0.0       0.0     0.0  ...       0       0   0.0   0.0     0.0   \n",
       "21534     0.0       0.0     0.0  ...       0       0   0.0   0.0     0.0   \n",
       "21535     0.0       0.0     0.0  ...       0       0   0.0   0.0     0.0   \n",
       "21536     0.0       0.0     0.0  ...       0       0   0.0   0.0     0.0   \n",
       "21537     0.0       0.0     0.0  ...       0       0   0.0   0.0     0.0   \n",
       "\n",
       "       intensity100  intensity857  intensity143  intensity353  cluster  \n",
       "0      1.643247e-06           0.0      0.000009      0.000062        0  \n",
       "1      3.520869e-05           0.0      0.000005      0.000062        0  \n",
       "2      3.651370e-07           0.0      0.000011      0.000762        0  \n",
       "3     -4.041828e-06           0.0     -0.000002      0.000065        0  \n",
       "4      3.175163e-05           0.0      0.000005      0.000057        0  \n",
       "...             ...           ...           ...           ...      ...  \n",
       "21533 -2.045637e-05           0.0     -0.000005      0.000082        0  \n",
       "21534  2.398245e-06           0.0      0.000008      0.000102        0  \n",
       "21535  5.235123e-06           0.0     -0.000021      0.000107        0  \n",
       "21536  4.473348e-06           0.0      0.000028      0.000153        0  \n",
       "21537 -8.811109e-06           0.0      0.000016      0.000039        0  \n",
       "\n",
       "[21538 rows x 24 columns]"
      ]
     },
     "execution_count": 33,
     "metadata": {},
     "output_type": "execute_result"
    }
   ],
   "source": [
    "# Importing the dataset containing non-clusters\n",
    "df2 = pd.read_csv('../data/fake_data.csv', skiprows = 0)\n",
    "df2"
   ]
  },
  {
   "cell_type": "code",
   "execution_count": 4,
   "metadata": {},
   "outputs": [
    {
     "data": {
      "text/plain": [
       "<matplotlib.collections.PathCollection at 0x7f6793e05550>"
      ]
     },
     "execution_count": 4,
     "metadata": {},
     "output_type": "execute_result"
    },
    {
     "data": {
      "image/png": "[encoded data removed]",
      "text/plain": [
       "<Figure size 432x288 with 1 Axes>"
      ]
     },
     "metadata": {
      "needs_background": "light"
     },
     "output_type": "display_data"
    }
   ],
   "source": [
    "plt.scatter(df2['glon'],df2['glat'])"
   ]
  },
  {
   "cell_type": "code",
   "execution_count": 5,
   "metadata": {},
   "outputs": [],
   "source": [
    "# Combine real and fake data\n",
    "df3 = df.append(df2, ignore_index=True)"
   ]
  },
  {
   "cell_type": "markdown",
   "metadata": {},
   "source": [
    "---"
   ]
  },
  {
   "cell_type": "markdown",
   "metadata": {},
   "source": [
    "# Predicting signal in one frequency based on signal in others"
   ]
  },
  {
   "cell_type": "markdown",
   "metadata": {},
   "source": [
    "#### Training"
   ]
  },
  {
   "cell_type": "code",
   "execution_count": 6,
   "metadata": {},
   "outputs": [
    {
     "data": {
      "text/plain": [
       "LinearRegression(copy_X=True, fit_intercept=True, n_jobs=None, normalize=False)"
      ]
     },
     "execution_count": 6,
     "metadata": {},
     "output_type": "execute_result"
    }
   ],
   "source": [
    "# From the signal in the 100Ghz image and 353Ghz image, determine the expected signal in 143Ghz\n",
    "# 50 percent of the sample has richness over 27, use the richer sample for training\n",
    "X = df[df.amf_rh>27][['intensity100', 'intensity353']]\n",
    "y = df[df.amf_rh>27]['intensity143']\n",
    "\n",
    "regr = linear_model.LinearRegression()\n",
    "regr.fit(X, y)"
   ]
  },
  {
   "cell_type": "markdown",
   "metadata": {},
   "source": [
    "#### Validation"
   ]
  },
  {
   "cell_type": "code",
   "execution_count": 7,
   "metadata": {},
   "outputs": [],
   "source": [
    "# Build array of predictions for the half of the sample not used in training\n",
    "X_val = df[df.amf_rh<27][['intensity100', 'intensity353']]\n",
    "\n",
    "intensity143 = [regr.predict([[i,j]]) for i, j in X_val.values]"
   ]
  },
  {
   "cell_type": "code",
   "execution_count": 8,
   "metadata": {
    "scrolled": false
   },
   "outputs": [
    {
     "data": {
      "image/png": "[encoded data removed]",
      "text/plain": [
       "<Figure size 360x360 with 1 Axes>"
      ]
     },
     "metadata": {
      "needs_background": "light"
     },
     "output_type": "display_data"
    }
   ],
   "source": [
    "# Plot actual data vs predictions in three dimensions\n",
    "fig = plt.figure(figsize=(5, 5))\n",
    "ax = fig.add_subplot(projection='3d')\n",
    "\n",
    "ax.scatter(df[df.amf_rh<27]['intensity100'], df[df.amf_rh<27]['intensity353'], df[df.amf_rh<27]['intensity143'],s=5,c='b', alpha=0.2)\n",
    "ax.scatter(df[df.amf_rh<27]['intensity100'], df[df.amf_rh<27]['intensity353'], intensity143, s=5, c='r', alpha=0.2)\n",
    "plt.show()"
   ]
  },
  {
   "cell_type": "markdown",
   "metadata": {},
   "source": [
    "---"
   ]
  },
  {
   "cell_type": "markdown",
   "metadata": {},
   "source": [
    "# Classification of clusters vs non clusters"
   ]
  },
  {
   "cell_type": "code",
   "execution_count": 9,
   "metadata": {},
   "outputs": [
    {
     "data": {
      "text/plain": [
       "LinearRegression(copy_X=True, fit_intercept=True, n_jobs=None, normalize=False)"
      ]
     },
     "execution_count": 9,
     "metadata": {},
     "output_type": "execute_result"
    }
   ],
   "source": [
    "# From the signal in the 100Ghz image and 353Ghz image, determine the expected signal in 143Ghz\n",
    "# 50 percent of the sample has richness over 27, use the richer sample for training\n",
    "X = df[['intensity100', 'intensity143', 'intensity353']]\n",
    "X_f = df2[['intensity100', 'intensity143', 'intensity353']]\n",
    "X2 = df3[['intensity100', 'intensity143', 'intensity353']]\n",
    "y2 = df3['cluster']\n",
    "\n",
    "regr = linear_model.LinearRegression()\n",
    "regr.fit(X2, y2)"
   ]
  },
  {
   "cell_type": "code",
   "execution_count": 10,
   "metadata": {},
   "outputs": [],
   "source": [
    "cluster = np.array([regr.predict([[i,j,k]]) for i, j, k in X.values]).flatten()"
   ]
  },
  {
   "cell_type": "code",
   "execution_count": 11,
   "metadata": {},
   "outputs": [],
   "source": [
    "no_cluster = np.array([regr.predict([[i,j,k]]) for i, j, k in X_f.values]).flatten()"
   ]
  },
  {
   "cell_type": "code",
   "execution_count": 12,
   "metadata": {},
   "outputs": [
    {
     "data": {
      "text/plain": [
       "(0.0, 4.0)"
      ]
     },
     "execution_count": 12,
     "metadata": {},
     "output_type": "execute_result"
    },
    {
     "data": {
      "image/png": "[encoded data removed]",
      "text/plain": [
       "<Figure size 432x288 with 1 Axes>"
      ]
     },
     "metadata": {
      "needs_background": "light"
     },
     "output_type": "display_data"
    }
   ],
   "source": [
    "plt.hist(cluster,bins=100,range=(0,1),density=True)\n",
    "plt.vlines(0.5,0,2000,color='r',linestyles='dotted')\n",
    "plt.ylim(0,4)"
   ]
  },
  {
   "cell_type": "code",
   "execution_count": 13,
   "metadata": {},
   "outputs": [
    {
     "data": {
      "text/plain": [
       "(0.0, 9.0)"
      ]
     },
     "execution_count": 13,
     "metadata": {},
     "output_type": "execute_result"
    },
    {
     "data": {
      "image/png": "[encoded data removed]",
      "text/plain": [
       "<Figure size 432x288 with 1 Axes>"
      ]
     },
     "metadata": {
      "needs_background": "light"
     },
     "output_type": "display_data"
    }
   ],
   "source": [
    "plt.hist(no_cluster,bins=100,range=(0,1),density=True)\n",
    "plt.vlines(0.5,0,2000,color='r',linestyles='dotted')\n",
    "plt.ylim(0,9)"
   ]
  },
  {
   "cell_type": "markdown",
   "metadata": {},
   "source": [
    "---"
   ]
  },
  {
   "cell_type": "markdown",
   "metadata": {},
   "source": [
    "# Identification of clusters"
   ]
  },
  {
   "cell_type": "code",
   "execution_count": 14,
   "metadata": {},
   "outputs": [],
   "source": [
    "# Csv importer wrapped in a function that can be mapped for parallelization\n",
    "def read_csv(filename):\n",
    "    return pd.DataFrame(np.loadtxt(filename,delimiter=', ')).T"
   ]
  },
  {
   "cell_type": "code",
   "execution_count": 15,
   "metadata": {},
   "outputs": [],
   "source": [
    "links100 = ['../data/results100_1.csv','../data/results100_2.csv','../data/results100_3.csv',\n",
    "         '../data/results100_4.csv','../data/results100_5.csv','../data/results100_6.csv',\n",
    "         '../data/results100_7.csv','../data/results100_8.csv','../data/results100_9.csv',\n",
    "         '../data/results100_10.csv']\n",
    "links143 = ['../data/results143_1.csv','../data/results143_2.csv','../data/results143_3.csv',\n",
    "         '../data/results143_4.csv','../data/results143_5.csv','../data/results143_6.csv',\n",
    "         '../data/results143_7.csv','../data/results143_8.csv','../data/results143_9.csv',\n",
    "         '../data/results143_10.csv']\n",
    "links353 = ['../data/results353_1.csv','../data/results353_2.csv','../data/results353_3.csv',\n",
    "         '../data/results353_4.csv','../data/results353_5.csv','../data/results353_6.csv',\n",
    "         '../data/results353_7.csv','../data/results353_8.csv','../data/results353_9.csv',\n",
    "         '../data/results353_10.csv']"
   ]
  },
  {
   "cell_type": "code",
   "execution_count": 16,
   "metadata": {},
   "outputs": [
    {
     "data": {
      "text/plain": [
       "['../data/results100_1.csv',\n",
       " '../data/results100_2.csv',\n",
       " '../data/results100_3.csv',\n",
       " '../data/results100_4.csv',\n",
       " '../data/results100_5.csv',\n",
       " '../data/results100_6.csv',\n",
       " '../data/results100_7.csv',\n",
       " '../data/results100_8.csv',\n",
       " '../data/results100_9.csv',\n",
       " '../data/results100_10.csv']"
      ]
     },
     "execution_count": 16,
     "metadata": {},
     "output_type": "execute_result"
    }
   ],
   "source": [
    "links100"
   ]
  },
  {
   "cell_type": "code",
   "execution_count": 17,
   "metadata": {},
   "outputs": [],
   "source": [
    "data100 = pd.DataFrame()\n",
    "data143 = pd.DataFrame()\n",
    "data353 = pd.DataFrame()\n",
    "\n",
    "for links in [links100,links143,links353]:\n",
    "    if links==links100:\n",
    "        for link in links:\n",
    "            data100 = pd.concat([data100,pd.DataFrame(np.loadtxt(link,delimiter=', ')).T])\n",
    "    if links==links143:\n",
    "        for link in links:\n",
    "            data143 = pd.concat([data143,pd.DataFrame(np.loadtxt(link,delimiter=', ')).T])\n",
    "    if links==links353:\n",
    "        for link in links:\n",
    "            data353 = pd.concat([data353,pd.DataFrame(np.loadtxt(link,delimiter=', ')).T])"
   ]
  },
  {
   "cell_type": "code",
   "execution_count": 18,
   "metadata": {},
   "outputs": [
    {
     "data": {
      "text/html": [
       "<div>\n",
       "<style scoped>\n",
       "    .dataframe tbody tr th:only-of-type {\n",
       "        vertical-align: middle;\n",
       "    }\n",
       "\n",
       "    .dataframe tbody tr th {\n",
       "        vertical-align: top;\n",
       "    }\n",
       "\n",
       "    .dataframe thead th {\n",
       "        text-align: right;\n",
       "    }\n",
       "</style>\n",
       "<table border=\"1\" class=\"dataframe\">\n",
       "  <thead>\n",
       "    <tr style=\"text-align: right;\">\n",
       "      <th></th>\n",
       "      <th>0</th>\n",
       "      <th>1</th>\n",
       "      <th>2</th>\n",
       "    </tr>\n",
       "  </thead>\n",
       "  <tbody>\n",
       "    <tr>\n",
       "      <th>0</th>\n",
       "      <td>-0.000073</td>\n",
       "      <td>0.000000</td>\n",
       "      <td>-90.0</td>\n",
       "    </tr>\n",
       "    <tr>\n",
       "      <th>1</th>\n",
       "      <td>-0.000074</td>\n",
       "      <td>3.636364</td>\n",
       "      <td>-90.0</td>\n",
       "    </tr>\n",
       "    <tr>\n",
       "      <th>2</th>\n",
       "      <td>-0.000074</td>\n",
       "      <td>7.272727</td>\n",
       "      <td>-90.0</td>\n",
       "    </tr>\n",
       "    <tr>\n",
       "      <th>3</th>\n",
       "      <td>-0.000075</td>\n",
       "      <td>10.909091</td>\n",
       "      <td>-90.0</td>\n",
       "    </tr>\n",
       "    <tr>\n",
       "      <th>4</th>\n",
       "      <td>-0.000076</td>\n",
       "      <td>14.545455</td>\n",
       "      <td>-90.0</td>\n",
       "    </tr>\n",
       "    <tr>\n",
       "      <th>...</th>\n",
       "      <td>...</td>\n",
       "      <td>...</td>\n",
       "      <td>...</td>\n",
       "    </tr>\n",
       "    <tr>\n",
       "      <th>9995</th>\n",
       "      <td>0.000031</td>\n",
       "      <td>345.454545</td>\n",
       "      <td>90.0</td>\n",
       "    </tr>\n",
       "    <tr>\n",
       "      <th>9996</th>\n",
       "      <td>0.000032</td>\n",
       "      <td>349.090909</td>\n",
       "      <td>90.0</td>\n",
       "    </tr>\n",
       "    <tr>\n",
       "      <th>9997</th>\n",
       "      <td>0.000032</td>\n",
       "      <td>352.727273</td>\n",
       "      <td>90.0</td>\n",
       "    </tr>\n",
       "    <tr>\n",
       "      <th>9998</th>\n",
       "      <td>0.000031</td>\n",
       "      <td>356.363636</td>\n",
       "      <td>90.0</td>\n",
       "    </tr>\n",
       "    <tr>\n",
       "      <th>9999</th>\n",
       "      <td>0.000031</td>\n",
       "      <td>360.000000</td>\n",
       "      <td>90.0</td>\n",
       "    </tr>\n",
       "  </tbody>\n",
       "</table>\n",
       "<p>60000 rows × 3 columns</p>\n",
       "</div>"
      ],
      "text/plain": [
       "             0           1     2\n",
       "0    -0.000073    0.000000 -90.0\n",
       "1    -0.000074    3.636364 -90.0\n",
       "2    -0.000074    7.272727 -90.0\n",
       "3    -0.000075   10.909091 -90.0\n",
       "4    -0.000076   14.545455 -90.0\n",
       "...        ...         ...   ...\n",
       "9995  0.000031  345.454545  90.0\n",
       "9996  0.000032  349.090909  90.0\n",
       "9997  0.000032  352.727273  90.0\n",
       "9998  0.000031  356.363636  90.0\n",
       "9999  0.000031  360.000000  90.0\n",
       "\n",
       "[60000 rows x 3 columns]"
      ]
     },
     "execution_count": 18,
     "metadata": {},
     "output_type": "execute_result"
    }
   ],
   "source": [
    "data100"
   ]
  },
  {
   "cell_type": "code",
   "execution_count": 28,
   "metadata": {},
   "outputs": [
    {
     "name": "stdout",
     "output_type": "stream",
     "text": [
      "NSIDE = 2048\n",
      "ORDERING = NESTED in fits file\n",
      "INDXSCHM = IMPLICIT\n"
     ]
    },
    {
     "name": "stderr",
     "output_type": "stream",
     "text": [
      "/home/maamari/Documents/Other/Anaconda/lib/python3.7/site-packages/healpy/fitsfunc.py:403: UserWarning: No INDXSCHM keyword in header file : assume IMPLICIT\n",
      "  warnings.warn(\"No INDXSCHM keyword in header file : \" \"assume {}\".format(schm))\n"
     ]
    },
    {
     "name": "stdout",
     "output_type": "stream",
     "text": [
      "Ordering converted to RING\n"
     ]
    }
   ],
   "source": [
    "pl143 = hp.read_map('../data/HFI_SkyMap_217-field-IQU_2048_R3.00_full.fits')"
   ]
  },
  {
   "cell_type": "code",
   "execution_count": 20,
   "metadata": {},
   "outputs": [],
   "source": [
    "# Convert the RA and DEC to galactic coordinates\n",
    "c = SkyCoord(data100[1],data100[2],frame='icrs',unit='deg')\n",
    "data100['glat'] = c.galactic.b.degree\n",
    "data100['glon'] = c.galactic.l.degree\n",
    "\n",
    "c = SkyCoord(data143[1],data143[2],frame='icrs',unit='deg')\n",
    "data143['glat'] = c.galactic.b.degree\n",
    "data143['glon'] = c.galactic.l.degree\n",
    "\n",
    "c = SkyCoord(data353[1],data353[2],frame='icrs',unit='deg')\n",
    "data353['glat'] = c.galactic.b.degree\n",
    "data353['glon'] = c.galactic.l.degree"
   ]
  },
  {
   "cell_type": "code",
   "execution_count": 21,
   "metadata": {},
   "outputs": [],
   "source": [
    "# initialize data of lists.\n",
    "data_all = {'int100':data100[0],\n",
    "            'int143':data143[0],\n",
    "            'int353':data353[0]}\n",
    " \n",
    "intensity_all = pd.DataFrame(data_all)"
   ]
  },
  {
   "cell_type": "code",
   "execution_count": 22,
   "metadata": {},
   "outputs": [],
   "source": [
    "cluster_prob = np.array([regr.predict([[i,j,k]]) for i, j, k in intensity_all[['int100', 'int143', 'int353']].values]).flatten()"
   ]
  },
  {
   "cell_type": "code",
   "execution_count": 23,
   "metadata": {},
   "outputs": [],
   "source": [
    "data100['cluster']=cluster_prob"
   ]
  },
  {
   "cell_type": "code",
   "execution_count": 32,
   "metadata": {
    "scrolled": false
   },
   "outputs": [
    {
     "data": {
      "text/plain": [
       "<matplotlib.collections.PathCollection at 0x7f677fd4ad90>"
      ]
     },
     "execution_count": 32,
     "metadata": {},
     "output_type": "execute_result"
    },
    {
     "data": {
      "image/png": "[encoded data removed]",
      "text/plain": [
       "<Figure size 432x288 with 1 Axes>"
      ]
     },
     "metadata": {
      "needs_background": "light"
     },
     "output_type": "display_data"
    }
   ],
   "source": [
    "# hp.mollview(pl143,norm='hist',cmap='Greys',coord=['G'],title='Masked S/N map')\n",
    "# hp.visufunc.projscatter(data100['glon'],data100['glat'],c=data100.cluster,cmap='plasma',lonlat=True,s=10)\n",
    "plt.scatter(data100['glon'],data100['glat'],c=data100.cluster,cmap='plasma',s=3)\n",
    "plt.scatter(df['glon'],df['glat'],c='r')"
   ]
  },
  {
   "cell_type": "code",
   "execution_count": null,
   "metadata": {},
   "outputs": [],
   "source": []
  },
  {
   "cell_type": "code",
   "execution_count": null,
   "metadata": {},
   "outputs": [],
   "source": []
  }
 ],
 "metadata": {
  "kernelspec": {
   "display_name": "Python 3",
   "language": "python",
   "name": "python3"
  },
  "language_info": {
   "codemirror_mode": {
    "name": "ipython",
    "version": 3
   },
   "file_extension": ".py",
   "mimetype": "text/x-python",
   "name": "python",
   "nbconvert_exporter": "python",
   "pygments_lexer": "ipython3",
   "version": "3.7.6"
  }
 },
 "nbformat": 4,
 "nbformat_minor": 4
}
