{
 "cells": [
  {
   "cell_type": "code",
   "execution_count": 1,
   "id": "a7ab99a6",
   "metadata": {},
   "outputs": [],
   "source": [
    "# Importing the libraries\n",
    "import numpy as np\n",
    "import matplotlib.pyplot as plt\n",
    "import pandas as pd\n",
    "from sklearn import linear_model\n",
    "from multiprocessing import Pool\n",
    "import healpy as hp\n",
    "from astropy.coordinates import SkyCoord\n",
    "from sklearn.pipeline import make_pipeline\n",
    "from sklearn.preprocessing import StandardScaler\n",
    "# %matplotlib notebook\n",
    "\n",
    "import matplotlib.pyplot as plt\n",
    "from mpl_toolkits.mplot3d import axes3d    \n",
    "import random\n",
    "from sklearn.svm import SVC\n",
    "from sklearn import svm\n",
    "from sklearn.pipeline import make_pipeline\n",
    "import matplotlib\n",
    "matplotlib.rcParams['mathtext.fontset'] = 'stix'\n",
    "matplotlib.rcParams['font.family'] = 'STIXGeneral'\n",
    "\n",
    "import warnings\n",
    "warnings.filterwarnings('ignore')"
   ]
  },
  {
   "cell_type": "markdown",
   "id": "f8d0e22c",
   "metadata": {},
   "source": [
    "---"
   ]
  },
  {
   "cell_type": "markdown",
   "id": "4f16558a",
   "metadata": {},
   "source": [
    "# 5, 10"
   ]
  },
  {
   "cell_type": "code",
   "execution_count": 12,
   "id": "8b6cc31d",
   "metadata": {},
   "outputs": [],
   "source": [
    "df = pd.read_csv('data/awd.csv', skiprows = 0, index_col=0)\n",
    "df['i100'] = np.loadtxt('output/510/pr100.csv',delimiter=', ')\n",
    "df['i143'] = np.loadtxt('output/510/pr143.csv',delimiter=', ')\n",
    "df['i217'] = np.loadtxt('output/510/pr217.csv',delimiter=', ')\n",
    "df['i353'] = np.loadtxt('output/510/pr353.csv',delimiter=', ')\n",
    "df['i545'] = np.loadtxt('output/510/pr545.csv',delimiter=', ')\n",
    "df['i857'] = np.loadtxt('output/510/pr857.csv',delimiter=', ')\n",
    "df['i090'] = np.loadtxt('output/510/ar90.csv',delimiter=', ')\n",
    "df['i150'] = np.loadtxt('output/510/ar150.csv',delimiter=', ')\n",
    "df['i220'] = np.loadtxt('output/510/ar220.csv',delimiter=', ')\n",
    "df['iros'] = np.loadtxt('output/510/rr.csv',delimiter=', ')\n",
    "df['cluster'] = 1"
   ]
  },
  {
   "cell_type": "code",
   "execution_count": 13,
   "id": "9b8c8a82",
   "metadata": {},
   "outputs": [],
   "source": [
    "df2 = pd.read_csv('data/voids.csv', skiprows = 0, index_col=0)\n",
    "df2['i100'] = np.loadtxt('output/510/pv100.csv',delimiter=', ')\n",
    "df2['i143'] = np.loadtxt('output/510/pv143.csv',delimiter=', ')\n",
    "df2['i217'] = np.loadtxt('output/510/pv217.csv',delimiter=', ')\n",
    "df2['i353'] = np.loadtxt('output/510/pv353.csv',delimiter=', ')\n",
    "df2['i545'] = np.loadtxt('output/510/pv545.csv',delimiter=', ')\n",
    "df2['i857'] = np.loadtxt('output/510/pv857.csv',delimiter=', ')\n",
    "df2['i090'] = np.loadtxt('output/510/av90.csv',delimiter=', ')\n",
    "df2['i150'] = np.loadtxt('output/510/av150.csv',delimiter=', ')\n",
    "df2['i220'] = np.loadtxt('output/510/av220.csv',delimiter=', ')\n",
    "df2['iros'] = np.loadtxt('output/510/rv.csv',delimiter=', ')\n",
    "df2['cluster'] = 0"
   ]
  },
  {
   "cell_type": "code",
   "execution_count": 14,
   "id": "86dc0072",
   "metadata": {},
   "outputs": [],
   "source": [
    "df3 = df.append(df2, ignore_index=True).reset_index(drop=True)"
   ]
  },
  {
   "cell_type": "code",
   "execution_count": 17,
   "id": "0c7cb4b6",
   "metadata": {},
   "outputs": [
    {
     "data": {
      "text/html": [
       "<style>#sk-container-id-1 {color: black;background-color: white;}#sk-container-id-1 pre{padding: 0;}#sk-container-id-1 div.sk-toggleable {background-color: white;}#sk-container-id-1 label.sk-toggleable__label {cursor: pointer;display: block;width: 100%;margin-bottom: 0;padding: 0.3em;box-sizing: border-box;text-align: center;}#sk-container-id-1 label.sk-toggleable__label-arrow:before {content: \"▸\";float: left;margin-right: 0.25em;color: #696969;}#sk-container-id-1 label.sk-toggleable__label-arrow:hover:before {color: black;}#sk-container-id-1 div.sk-estimator:hover label.sk-toggleable__label-arrow:before {color: black;}#sk-container-id-1 div.sk-toggleable__content {max-height: 0;max-width: 0;overflow: hidden;text-align: left;background-color: #f0f8ff;}#sk-container-id-1 div.sk-toggleable__content pre {margin: 0.2em;color: black;border-radius: 0.25em;background-color: #f0f8ff;}#sk-container-id-1 input.sk-toggleable__control:checked~div.sk-toggleable__content {max-height: 200px;max-width: 100%;overflow: auto;}#sk-container-id-1 input.sk-toggleable__control:checked~label.sk-toggleable__label-arrow:before {content: \"▾\";}#sk-container-id-1 div.sk-estimator input.sk-toggleable__control:checked~label.sk-toggleable__label {background-color: #d4ebff;}#sk-container-id-1 div.sk-label input.sk-toggleable__control:checked~label.sk-toggleable__label {background-color: #d4ebff;}#sk-container-id-1 input.sk-hidden--visually {border: 0;clip: rect(1px 1px 1px 1px);clip: rect(1px, 1px, 1px, 1px);height: 1px;margin: -1px;overflow: hidden;padding: 0;position: absolute;width: 1px;}#sk-container-id-1 div.sk-estimator {font-family: monospace;background-color: #f0f8ff;border: 1px dotted black;border-radius: 0.25em;box-sizing: border-box;margin-bottom: 0.5em;}#sk-container-id-1 div.sk-estimator:hover {background-color: #d4ebff;}#sk-container-id-1 div.sk-parallel-item::after {content: \"\";width: 100%;border-bottom: 1px solid gray;flex-grow: 1;}#sk-container-id-1 div.sk-label:hover label.sk-toggleable__label {background-color: #d4ebff;}#sk-container-id-1 div.sk-serial::before {content: \"\";position: absolute;border-left: 1px solid gray;box-sizing: border-box;top: 0;bottom: 0;left: 50%;z-index: 0;}#sk-container-id-1 div.sk-serial {display: flex;flex-direction: column;align-items: center;background-color: white;padding-right: 0.2em;padding-left: 0.2em;position: relative;}#sk-container-id-1 div.sk-item {position: relative;z-index: 1;}#sk-container-id-1 div.sk-parallel {display: flex;align-items: stretch;justify-content: center;background-color: white;position: relative;}#sk-container-id-1 div.sk-item::before, #sk-container-id-1 div.sk-parallel-item::before {content: \"\";position: absolute;border-left: 1px solid gray;box-sizing: border-box;top: 0;bottom: 0;left: 50%;z-index: -1;}#sk-container-id-1 div.sk-parallel-item {display: flex;flex-direction: column;z-index: 1;position: relative;background-color: white;}#sk-container-id-1 div.sk-parallel-item:first-child::after {align-self: flex-end;width: 50%;}#sk-container-id-1 div.sk-parallel-item:last-child::after {align-self: flex-start;width: 50%;}#sk-container-id-1 div.sk-parallel-item:only-child::after {width: 0;}#sk-container-id-1 div.sk-dashed-wrapped {border: 1px dashed gray;margin: 0 0.4em 0.5em 0.4em;box-sizing: border-box;padding-bottom: 0.4em;background-color: white;}#sk-container-id-1 div.sk-label label {font-family: monospace;font-weight: bold;display: inline-block;line-height: 1.2em;}#sk-container-id-1 div.sk-label-container {text-align: center;}#sk-container-id-1 div.sk-container {/* jupyter's `normalize.less` sets `[hidden] { display: none; }` but bootstrap.min.css set `[hidden] { display: none !important; }` so we also need the `!important` here to be able to override the default hidden behavior on the sphinx rendered scikit-learn.org. See: https://github.com/scikit-learn/scikit-learn/issues/21755 */display: inline-block !important;position: relative;}#sk-container-id-1 div.sk-text-repr-fallback {display: none;}</style><div id=\"sk-container-id-1\" class=\"sk-top-container\"><div class=\"sk-text-repr-fallback\"><pre>Pipeline(steps=[(&#x27;standardscaler&#x27;, StandardScaler()),\n",
       "                (&#x27;svc&#x27;, SVC(gamma=&#x27;auto&#x27;))])</pre><b>In a Jupyter environment, please rerun this cell to show the HTML representation or trust the notebook. <br />On GitHub, the HTML representation is unable to render, please try loading this page with nbviewer.org.</b></div><div class=\"sk-container\" hidden><div class=\"sk-item sk-dashed-wrapped\"><div class=\"sk-label-container\"><div class=\"sk-label sk-toggleable\"><input class=\"sk-toggleable__control sk-hidden--visually\" id=\"sk-estimator-id-1\" type=\"checkbox\" ><label for=\"sk-estimator-id-1\" class=\"sk-toggleable__label sk-toggleable__label-arrow\">Pipeline</label><div class=\"sk-toggleable__content\"><pre>Pipeline(steps=[(&#x27;standardscaler&#x27;, StandardScaler()),\n",
       "                (&#x27;svc&#x27;, SVC(gamma=&#x27;auto&#x27;))])</pre></div></div></div><div class=\"sk-serial\"><div class=\"sk-item\"><div class=\"sk-estimator sk-toggleable\"><input class=\"sk-toggleable__control sk-hidden--visually\" id=\"sk-estimator-id-2\" type=\"checkbox\" ><label for=\"sk-estimator-id-2\" class=\"sk-toggleable__label sk-toggleable__label-arrow\">StandardScaler</label><div class=\"sk-toggleable__content\"><pre>StandardScaler()</pre></div></div></div><div class=\"sk-item\"><div class=\"sk-estimator sk-toggleable\"><input class=\"sk-toggleable__control sk-hidden--visually\" id=\"sk-estimator-id-3\" type=\"checkbox\" ><label for=\"sk-estimator-id-3\" class=\"sk-toggleable__label sk-toggleable__label-arrow\">SVC</label><div class=\"sk-toggleable__content\"><pre>SVC(gamma=&#x27;auto&#x27;)</pre></div></div></div></div></div></div></div>"
      ],
      "text/plain": [
       "Pipeline(steps=[('standardscaler', StandardScaler()),\n",
       "                ('svc', SVC(gamma='auto'))])"
      ]
     },
     "execution_count": 17,
     "metadata": {},
     "output_type": "execute_result"
    }
   ],
   "source": [
    "#################################################################################################\n",
    "\n",
    "# ACT only\n",
    "intensity_clusters_act = df[(df.i090!=-9999)&(df.i150!=-9999)&(df.i220!=-9999)][['i090','i150','i220']][::2].reset_index(drop=True)\n",
    "intensity_voids_act = df2[(df2.i090!=-9999)&(df2.i150!=-9999)&(df2.i220!=-9999)][['i090','i150','i220']][::2].reset_index(drop=True)\n",
    "intensity_combined_act = df3[(df3.i090!=-9999)&(df3.i150!=-9999)&(df3.i220!=-9999)][['i090','i150','i220']][::2].reset_index(drop=True)\n",
    "cluster_tag_act = df3[(df3.i090!=-9999)&(df3.i150!=-9999)&(df3.i220!=-9999)]['cluster'][::2].reset_index(drop=True)\n",
    "\n",
    "# Fit full sample with their associated classficiation\n",
    "clf_act = make_pipeline(StandardScaler(), SVC(gamma='auto'))\n",
    "clf_act.fit(intensity_combined_act, cluster_tag_act)\n",
    "\n",
    "###################################################\n",
    "\n",
    "# Planck low-freq\n",
    "intensity_clusters_pl_low = df[['i100','i143','i217','i353']][::2]\n",
    "intensity_voids_pl_low = df2[['i100','i143','i217','i353']][::2]\n",
    "intensity_combined_pl_low = df3[['i100','i143','i217','i353']][::2]\n",
    "cluster_tag_pl_low = df3['cluster'][::2]\n",
    "\n",
    "# Fit full sample with their associated classficiation\n",
    "clf_pl_low = make_pipeline(StandardScaler(), SVC(gamma='auto'))\n",
    "clf_pl_low.fit(intensity_combined_pl_low, cluster_tag_pl_low)\n",
    "\n",
    "#################################################################################################\n",
    "\n",
    "# Planck-only\n",
    "intensity_clusters_pl = df[['i100','i143','i217','i353','i545','i857']][::2]\n",
    "intensity_voids_pl = df2[['i100','i143','i217','i353','i545','i857']][::2]\n",
    "intensity_combined_pl = df3[['i100','i143','i217','i353','i545','i857']][::2]\n",
    "cluster_tag_pl = df3['cluster'][::2]\n",
    "\n",
    "# Fit full sample with their associated classficiation\n",
    "clf_pl = make_pipeline(StandardScaler(), SVC(gamma='auto'))\n",
    "clf_pl.fit(intensity_combined_pl, cluster_tag_pl)\n",
    "\n",
    "#####################################################################################################\n",
    "\n",
    "# Planck+ACT\n",
    "intensity_clusters_pl_act = df[(df.i090!=-9999)&(df.i150!=-9999)&(df.i220!=-9999)][['i100','i143','i217','i353','i545','i857', 'i090', 'i150', 'i220']][::2]\n",
    "intensity_voids_pl_act = df2[(df2.i090!=-9999)&(df2.i150!=-9999)&(df2.i220!=-9999)][['i100','i143','i217','i353','i545','i857', 'i090', 'i150', 'i220']][::2]\n",
    "intensity_combined_pl_act = df3[(df3.i090!=-9999)&(df3.i150!=-9999)&(df3.i220!=-9999)][['i100','i143','i217','i353','i545','i857', 'i090', 'i150', 'i220']][::2]\n",
    "cluster_tag_pl_act = df3[(df3.i090!=-9999)&(df3.i150!=-9999)&(df3.i220!=-9999)]['cluster'][::2]\n",
    "\n",
    "# Fit full sample with their associated classficiation\n",
    "clf_pl_act = make_pipeline(StandardScaler(), SVC(gamma='auto'))\n",
    "clf_pl_act.fit(intensity_combined_pl_act, cluster_tag_pl_act)\n",
    "\n",
    "##########################################################################################################\n",
    "\n",
    "# Planck+ROSAT\n",
    "intensity_clusters_pl_ros = df[['i100','i143','i217','i353','i545','i857', 'iros']][::2]\n",
    "intensity_voids_pl_ros = df2[['i100','i143','i217','i353','i545','i857', 'iros']][::2]\n",
    "intensity_combined_pl_ros = df3[['i100','i143','i217','i353','i545','i857', 'iros']][::2]\n",
    "cluster_tag_pl_ros = df3['cluster'][::2]\n",
    "\n",
    "# Fit full sample with their associated classficiation\n",
    "clf_pl_ros = make_pipeline(StandardScaler(), SVC(gamma='auto'))\n",
    "clf_pl_ros.fit(intensity_combined_pl_ros, cluster_tag_pl_ros)\n",
    "\n",
    "########################################################################################################\n",
    "\n",
    "# Full\n",
    "intensity_clusters_full = df[(df.i090!=-9999)&(df.i150!=-9999)&(df.i220!=-9999)][['i090','i100','i143','i150','i217','i220','i353','i545','i857','iros']][::2]\n",
    "intensity_voids_full = df2[(df2.i090!=-9999)&(df2.i150!=-9999)&(df2.i220!=-9999)][['i090','i100','i143','i150','i217','i220','i353','i545','i857','iros']][::2]\n",
    "intensity_combined_full = df3[(df3.i090!=-9999)&(df3.i150!=-9999)&(df3.i220!=-9999)][['i090','i100','i143','i150','i217','i220','i353','i545','i857','iros']][::2]\n",
    "cluster_tag_full = df3[(df3.i090!=-9999)&(df3.i150!=-9999)&(df3.i220!=-9999)]['cluster'][::2]\n",
    "\n",
    "# Fit full sample with their associated classficiation\n",
    "clf_full = make_pipeline(StandardScaler(), SVC(gamma='auto'))\n",
    "clf_full.fit(intensity_combined_full, cluster_tag_full)"
   ]
  },
  {
   "cell_type": "code",
   "execution_count": 18,
   "id": "afb6f807",
   "metadata": {},
   "outputs": [],
   "source": [
    "# ACT-only\n",
    "cluster_act = np.array([clf_act.predict([[i090, i150, i220]]) for i090, i150, i220 in intensity_clusters_act[1::2].values]).flatten()\n",
    "\n",
    "# Low-freq Planck\n",
    "cluster_pl_low = np.array([clf_pl_low.predict([[i100, i143, i217, i353]]) for i100, i143, i217, i353 in intensity_clusters_pl_low[1::2].values]).flatten()\n",
    "\n",
    "# Planck-only\n",
    "cluster_pl = np.array([clf_pl.predict([[i100, i143, i217, i353, i545, i857]]) for i100, i143, i217, i353, i545, i857 in intensity_clusters_pl[1::2].values]).flatten()\n",
    "\n",
    "# Planck+ACT\n",
    "cluster_pl_act = np.array([clf_pl_act.predict([[i100, i143, i217, i353, i545, i857, i090, i150, i220]]) for i100, i143, i217, i353, i545, i857, i090, i150, i220 in intensity_clusters_pl_act[1::2].values]).flatten()\n",
    "\n",
    "# Planck+ROSAT\n",
    "cluster_pl_ros = np.array([clf_pl_ros.predict([[i100, i143, i217, i353, i545, i857, irosat]]) for i100, i143, i217, i353, i545, i857, irosat in intensity_clusters_pl_ros[1::2].values]).flatten()\n",
    "\n",
    "# Full\n",
    "cluster_full = np.array([clf_full.predict([[i090, i100, i143, i150, i217, i220, i353, i545, i857, irosat]]) for i090, i100, i143, i150, i217, i220, i353, i545, i857, irosat in intensity_clusters_full[1::2].values]).flatten()"
   ]
  },
  {
   "cell_type": "code",
   "execution_count": 19,
   "id": "280a553a",
   "metadata": {},
   "outputs": [
    {
     "data": {
      "image/png": "[encoded data removed]",
      "text/plain": [
       "<Figure size 1152x648 with 6 Axes>"
      ]
     },
     "metadata": {
      "needs_background": "light"
     },
     "output_type": "display_data"
    }
   ],
   "source": [
    "fig, ax = plt.subplots(3,2,figsize=(16,9),sharey=True)\n",
    "\n",
    "ax[0,0].hist(cluster_full,bins=100,range=(0,1),color='cadetblue',density=True,label='Full')\n",
    "ax[0,0].get_xaxis().set_visible(False)\n",
    "ax[0,0].set_title(\"Classification of clusters: All\")\n",
    "\n",
    "ax[1,0].hist(cluster_pl_ros,bins=100,range=(0,1),color='cadetblue',density=True,label='Planck+ROS')\n",
    "ax[1,0].get_xaxis().set_visible(False)\n",
    "ax[1,0].set_title(\"Classification of clusters: Planck+ROS\")\n",
    "\n",
    "ax[2,0].hist(cluster_pl_act,bins=100,range=(0,1),color='cadetblue',density=True,label='Planck+ACT')\n",
    "ax[2,0].get_xaxis().set_visible(False)\n",
    "ax[2,0].set_title(\"Classification of clusters: Planck+advACT\")\n",
    "\n",
    "ax[0,1].hist(cluster_pl,bins=100,range=(0,1),color='cadetblue',density=True,label='Pl')\n",
    "ax[0,1].get_xaxis().set_visible(False)\n",
    "ax[0,1].set_title(\"Classification of clusters: Planck\")\n",
    "\n",
    "ax[1,1].hist(cluster_pl_low,bins=100,range=(0,1),color='cadetblue',density=True,label='Pl (100-353)')\n",
    "ax[1,1].get_xaxis().set_visible(False)\n",
    "ax[1,1].set_title(\"Classification of clusters: Planck (100-353 GHz)\")\n",
    "\n",
    "ax[2,1].hist(cluster_act,bins=100,range=(0,1),color='cadetblue',density=True,label='ACT')\n",
    "ax[2,1].get_xaxis().set_visible(False)\n",
    "ax[2,1].set_title(\"Classification of clusters: Planck (545-857 GHz) + advACT\")\n",
    "\n",
    "plt.savefig('output/classification_510.png')\n",
    "plt.show()"
   ]
  },
  {
   "cell_type": "markdown",
   "id": "c79c998b",
   "metadata": {},
   "source": [
    "---"
   ]
  },
  {
   "cell_type": "markdown",
   "id": "22699348",
   "metadata": {},
   "source": [
    "---"
   ]
  },
  {
   "cell_type": "markdown",
   "id": "b1d6a346",
   "metadata": {},
   "source": [
    "---"
   ]
  },
  {
   "cell_type": "markdown",
   "id": "990716ae",
   "metadata": {},
   "source": [
    "----"
   ]
  },
  {
   "cell_type": "markdown",
   "id": "2cce0726",
   "metadata": {},
   "source": [
    "# Beam"
   ]
  },
  {
   "cell_type": "code",
   "execution_count": 12,
   "id": "716f24b3",
   "metadata": {},
   "outputs": [],
   "source": [
    "df = pd.read_csv('data/awd.csv', skiprows = 0, index_col=0)\n",
    "df['i100'] = np.loadtxt('output/beam/pr100.csv',delimiter=', ')\n",
    "df['i143'] = np.loadtxt('output/beam/pr143.csv',delimiter=', ')\n",
    "df['i217'] = np.loadtxt('output/beam/pr217.csv',delimiter=', ')\n",
    "df['i353'] = np.loadtxt('output/beam/pr353.csv',delimiter=', ')\n",
    "df['i545'] = np.loadtxt('output/beam/pr545.csv',delimiter=', ')\n",
    "df['i857'] = np.loadtxt('output/beam/pr857.csv',delimiter=', ')\n",
    "df['i090'] = np.loadtxt('output/beam/ar90.csv',delimiter=', ')\n",
    "df['i150'] = np.loadtxt('output/beam/ar150.csv',delimiter=', ')\n",
    "df['i220'] = np.loadtxt('output/beam/ar220.csv',delimiter=', ')\n",
    "df['iros'] = np.loadtxt('output/beam/rr.csv',delimiter=', ')\n",
    "df['cluster'] = 1"
   ]
  },
  {
   "cell_type": "code",
   "execution_count": 13,
   "id": "6b44a52f",
   "metadata": {},
   "outputs": [],
   "source": [
    "df2 = pd.read_csv('data/voids.csv', skiprows = 0, index_col=0)\n",
    "df2['i100'] = np.loadtxt('output/beam/pv100.csv',delimiter=', ')\n",
    "df2['i143'] = np.loadtxt('output/beam/pv143.csv',delimiter=', ')\n",
    "df2['i217'] = np.loadtxt('output/beam/pv217.csv',delimiter=', ')\n",
    "df2['i353'] = np.loadtxt('output/beam/pv353.csv',delimiter=', ')\n",
    "df2['i545'] = np.loadtxt('output/beam/pv545.csv',delimiter=', ')\n",
    "df2['i857'] = np.loadtxt('output/beam/pv857.csv',delimiter=', ')\n",
    "df2['i090'] = np.loadtxt('output/beam/av90.csv',delimiter=', ')\n",
    "df2['i150'] = np.loadtxt('output/beam/av150.csv',delimiter=', ')\n",
    "df2['i220'] = np.loadtxt('output/beam/av220.csv',delimiter=', ')\n",
    "df2['iros'] = np.loadtxt('output/beam/rv.csv',delimiter=', ')\n",
    "df2['cluster'] = 0"
   ]
  },
  {
   "cell_type": "code",
   "execution_count": 14,
   "id": "10c181c0",
   "metadata": {},
   "outputs": [],
   "source": [
    "df3 = df.append(df2, ignore_index=True).reset_index(drop=True)"
   ]
  },
  {
   "cell_type": "code",
   "execution_count": 17,
   "id": "30fd868c",
   "metadata": {},
   "outputs": [
    {
     "data": {
      "text/html": [
       "<style>#sk-container-id-1 {color: black;background-color: white;}#sk-container-id-1 pre{padding: 0;}#sk-container-id-1 div.sk-toggleable {background-color: white;}#sk-container-id-1 label.sk-toggleable__label {cursor: pointer;display: block;width: 100%;margin-bottom: 0;padding: 0.3em;box-sizing: border-box;text-align: center;}#sk-container-id-1 label.sk-toggleable__label-arrow:before {content: \"▸\";float: left;margin-right: 0.25em;color: #696969;}#sk-container-id-1 label.sk-toggleable__label-arrow:hover:before {color: black;}#sk-container-id-1 div.sk-estimator:hover label.sk-toggleable__label-arrow:before {color: black;}#sk-container-id-1 div.sk-toggleable__content {max-height: 0;max-width: 0;overflow: hidden;text-align: left;background-color: #f0f8ff;}#sk-container-id-1 div.sk-toggleable__content pre {margin: 0.2em;color: black;border-radius: 0.25em;background-color: #f0f8ff;}#sk-container-id-1 input.sk-toggleable__control:checked~div.sk-toggleable__content {max-height: 200px;max-width: 100%;overflow: auto;}#sk-container-id-1 input.sk-toggleable__control:checked~label.sk-toggleable__label-arrow:before {content: \"▾\";}#sk-container-id-1 div.sk-estimator input.sk-toggleable__control:checked~label.sk-toggleable__label {background-color: #d4ebff;}#sk-container-id-1 div.sk-label input.sk-toggleable__control:checked~label.sk-toggleable__label {background-color: #d4ebff;}#sk-container-id-1 input.sk-hidden--visually {border: 0;clip: rect(1px 1px 1px 1px);clip: rect(1px, 1px, 1px, 1px);height: 1px;margin: -1px;overflow: hidden;padding: 0;position: absolute;width: 1px;}#sk-container-id-1 div.sk-estimator {font-family: monospace;background-color: #f0f8ff;border: 1px dotted black;border-radius: 0.25em;box-sizing: border-box;margin-bottom: 0.5em;}#sk-container-id-1 div.sk-estimator:hover {background-color: #d4ebff;}#sk-container-id-1 div.sk-parallel-item::after {content: \"\";width: 100%;border-bottom: 1px solid gray;flex-grow: 1;}#sk-container-id-1 div.sk-label:hover label.sk-toggleable__label {background-color: #d4ebff;}#sk-container-id-1 div.sk-serial::before {content: \"\";position: absolute;border-left: 1px solid gray;box-sizing: border-box;top: 0;bottom: 0;left: 50%;z-index: 0;}#sk-container-id-1 div.sk-serial {display: flex;flex-direction: column;align-items: center;background-color: white;padding-right: 0.2em;padding-left: 0.2em;position: relative;}#sk-container-id-1 div.sk-item {position: relative;z-index: 1;}#sk-container-id-1 div.sk-parallel {display: flex;align-items: stretch;justify-content: center;background-color: white;position: relative;}#sk-container-id-1 div.sk-item::before, #sk-container-id-1 div.sk-parallel-item::before {content: \"\";position: absolute;border-left: 1px solid gray;box-sizing: border-box;top: 0;bottom: 0;left: 50%;z-index: -1;}#sk-container-id-1 div.sk-parallel-item {display: flex;flex-direction: column;z-index: 1;position: relative;background-color: white;}#sk-container-id-1 div.sk-parallel-item:first-child::after {align-self: flex-end;width: 50%;}#sk-container-id-1 div.sk-parallel-item:last-child::after {align-self: flex-start;width: 50%;}#sk-container-id-1 div.sk-parallel-item:only-child::after {width: 0;}#sk-container-id-1 div.sk-dashed-wrapped {border: 1px dashed gray;margin: 0 0.4em 0.5em 0.4em;box-sizing: border-box;padding-bottom: 0.4em;background-color: white;}#sk-container-id-1 div.sk-label label {font-family: monospace;font-weight: bold;display: inline-block;line-height: 1.2em;}#sk-container-id-1 div.sk-label-container {text-align: center;}#sk-container-id-1 div.sk-container {/* jupyter's `normalize.less` sets `[hidden] { display: none; }` but bootstrap.min.css set `[hidden] { display: none !important; }` so we also need the `!important` here to be able to override the default hidden behavior on the sphinx rendered scikit-learn.org. See: https://github.com/scikit-learn/scikit-learn/issues/21755 */display: inline-block !important;position: relative;}#sk-container-id-1 div.sk-text-repr-fallback {display: none;}</style><div id=\"sk-container-id-1\" class=\"sk-top-container\"><div class=\"sk-text-repr-fallback\"><pre>Pipeline(steps=[(&#x27;standardscaler&#x27;, StandardScaler()),\n",
       "                (&#x27;svc&#x27;, SVC(gamma=&#x27;auto&#x27;))])</pre><b>In a Jupyter environment, please rerun this cell to show the HTML representation or trust the notebook. <br />On GitHub, the HTML representation is unable to render, please try loading this page with nbviewer.org.</b></div><div class=\"sk-container\" hidden><div class=\"sk-item sk-dashed-wrapped\"><div class=\"sk-label-container\"><div class=\"sk-label sk-toggleable\"><input class=\"sk-toggleable__control sk-hidden--visually\" id=\"sk-estimator-id-1\" type=\"checkbox\" ><label for=\"sk-estimator-id-1\" class=\"sk-toggleable__label sk-toggleable__label-arrow\">Pipeline</label><div class=\"sk-toggleable__content\"><pre>Pipeline(steps=[(&#x27;standardscaler&#x27;, StandardScaler()),\n",
       "                (&#x27;svc&#x27;, SVC(gamma=&#x27;auto&#x27;))])</pre></div></div></div><div class=\"sk-serial\"><div class=\"sk-item\"><div class=\"sk-estimator sk-toggleable\"><input class=\"sk-toggleable__control sk-hidden--visually\" id=\"sk-estimator-id-2\" type=\"checkbox\" ><label for=\"sk-estimator-id-2\" class=\"sk-toggleable__label sk-toggleable__label-arrow\">StandardScaler</label><div class=\"sk-toggleable__content\"><pre>StandardScaler()</pre></div></div></div><div class=\"sk-item\"><div class=\"sk-estimator sk-toggleable\"><input class=\"sk-toggleable__control sk-hidden--visually\" id=\"sk-estimator-id-3\" type=\"checkbox\" ><label for=\"sk-estimator-id-3\" class=\"sk-toggleable__label sk-toggleable__label-arrow\">SVC</label><div class=\"sk-toggleable__content\"><pre>SVC(gamma=&#x27;auto&#x27;)</pre></div></div></div></div></div></div></div>"
      ],
      "text/plain": [
       "Pipeline(steps=[('standardscaler', StandardScaler()),\n",
       "                ('svc', SVC(gamma='auto'))])"
      ]
     },
     "execution_count": 17,
     "metadata": {},
     "output_type": "execute_result"
    }
   ],
   "source": [
    "#################################################################################################\n",
    "\n",
    "# ACT only\n",
    "intensity_clusters_act = df[(df.i090!=-9999)&(df.i150!=-9999)&(df.i220!=-9999)][['i090','i150','i220']][::2].reset_index(drop=True)\n",
    "intensity_voids_act = df2[(df2.i090!=-9999)&(df2.i150!=-9999)&(df2.i220!=-9999)][['i090','i150','i220']][::2].reset_index(drop=True)\n",
    "intensity_combined_act = df3[(df3.i090!=-9999)&(df3.i150!=-9999)&(df3.i220!=-9999)][['i090','i150','i220']][::2].reset_index(drop=True)\n",
    "cluster_tag_act = df3[(df3.i090!=-9999)&(df3.i150!=-9999)&(df3.i220!=-9999)]['cluster'][::2].reset_index(drop=True)\n",
    "\n",
    "# Fit full sample with their associated classficiation\n",
    "clf_act = make_pipeline(StandardScaler(), SVC(gamma='auto'))\n",
    "clf_act.fit(intensity_combined_act, cluster_tag_act)\n",
    "\n",
    "###################################################\n",
    "\n",
    "# Planck low-freq\n",
    "intensity_clusters_pl_low = df[['i100','i143','i217','i353']][::2]\n",
    "intensity_voids_pl_low = df2[['i100','i143','i217','i353']][::2]\n",
    "intensity_combined_pl_low = df3[['i100','i143','i217','i353']][::2]\n",
    "cluster_tag_pl_low = df3['cluster'][::2]\n",
    "\n",
    "# Fit full sample with their associated classficiation\n",
    "clf_pl_low = make_pipeline(StandardScaler(), SVC(gamma='auto'))\n",
    "clf_pl_low.fit(intensity_combined_pl_low, cluster_tag_pl_low)\n",
    "\n",
    "#################################################################################################\n",
    "\n",
    "# Planck-only\n",
    "intensity_clusters_pl = df[['i100','i143','i217','i353','i545','i857']][::2]\n",
    "intensity_voids_pl = df2[['i100','i143','i217','i353','i545','i857']][::2]\n",
    "intensity_combined_pl = df3[['i100','i143','i217','i353','i545','i857']][::2]\n",
    "cluster_tag_pl = df3['cluster'][::2]\n",
    "\n",
    "# Fit full sample with their associated classficiation\n",
    "clf_pl = make_pipeline(StandardScaler(), SVC(gamma='auto'))\n",
    "clf_pl.fit(intensity_combined_pl, cluster_tag_pl)\n",
    "\n",
    "#####################################################################################################\n",
    "\n",
    "# Planck+ACT\n",
    "intensity_clusters_pl_act = df[(df.i090!=-9999)&(df.i150!=-9999)&(df.i220!=-9999)][['i100','i143','i217','i353','i545','i857', 'i090', 'i150', 'i220']][::2]\n",
    "intensity_voids_pl_act = df2[(df2.i090!=-9999)&(df2.i150!=-9999)&(df2.i220!=-9999)][['i100','i143','i217','i353','i545','i857', 'i090', 'i150', 'i220']][::2]\n",
    "intensity_combined_pl_act = df3[(df3.i090!=-9999)&(df3.i150!=-9999)&(df3.i220!=-9999)][['i100','i143','i217','i353','i545','i857', 'i090', 'i150', 'i220']][::2]\n",
    "cluster_tag_pl_act = df3[(df3.i090!=-9999)&(df3.i150!=-9999)&(df3.i220!=-9999)]['cluster'][::2]\n",
    "\n",
    "# Fit full sample with their associated classficiation\n",
    "clf_pl_act = make_pipeline(StandardScaler(), SVC(gamma='auto'))\n",
    "clf_pl_act.fit(intensity_combined_pl_act, cluster_tag_pl_act)\n",
    "\n",
    "##########################################################################################################\n",
    "\n",
    "# Planck+ROSAT\n",
    "intensity_clusters_pl_ros = df[['i100','i143','i217','i353','i545','i857', 'iros']][::2]\n",
    "intensity_voids_pl_ros = df2[['i100','i143','i217','i353','i545','i857', 'iros']][::2]\n",
    "intensity_combined_pl_ros = df3[['i100','i143','i217','i353','i545','i857', 'iros']][::2]\n",
    "cluster_tag_pl_ros = df3['cluster'][::2]\n",
    "\n",
    "# Fit full sample with their associated classficiation\n",
    "clf_pl_ros = make_pipeline(StandardScaler(), SVC(gamma='auto'))\n",
    "clf_pl_ros.fit(intensity_combined_pl_ros, cluster_tag_pl_ros)\n",
    "\n",
    "########################################################################################################\n",
    "\n",
    "# Full\n",
    "intensity_clusters_full = df[(df.i090!=-9999)&(df.i150!=-9999)&(df.i220!=-9999)][['i090','i100','i143','i150','i217','i220','i353','i545','i857','iros']][::2]\n",
    "intensity_voids_full = df2[(df2.i090!=-9999)&(df2.i150!=-9999)&(df2.i220!=-9999)][['i090','i100','i143','i150','i217','i220','i353','i545','i857','iros']][::2]\n",
    "intensity_combined_full = df3[(df3.i090!=-9999)&(df3.i150!=-9999)&(df3.i220!=-9999)][['i090','i100','i143','i150','i217','i220','i353','i545','i857','iros']][::2]\n",
    "cluster_tag_full = df3[(df3.i090!=-9999)&(df3.i150!=-9999)&(df3.i220!=-9999)]['cluster'][::2]\n",
    "\n",
    "# Fit full sample with their associated classficiation\n",
    "clf_full = make_pipeline(StandardScaler(), SVC(gamma='auto'))\n",
    "clf_full.fit(intensity_combined_full, cluster_tag_full)"
   ]
  },
  {
   "cell_type": "code",
   "execution_count": 18,
   "id": "fab764de",
   "metadata": {},
   "outputs": [],
   "source": [
    "# ACT-only\n",
    "cluster_act = np.array([clf_act.predict([[i090, i150, i220]]) for i090, i150, i220 in intensity_clusters_act[1::2].values]).flatten()\n",
    "\n",
    "# Low-freq Planck\n",
    "cluster_pl_low = np.array([clf_pl_low.predict([[i100, i143, i217, i353]]) for i100, i143, i217, i353 in intensity_clusters_pl_low[1::2].values]).flatten()\n",
    "\n",
    "# Planck-only\n",
    "cluster_pl = np.array([clf_pl.predict([[i100, i143, i217, i353, i545, i857]]) for i100, i143, i217, i353, i545, i857 in intensity_clusters_pl[1::2].values]).flatten()\n",
    "\n",
    "# Planck+ACT\n",
    "cluster_pl_act = np.array([clf_pl_act.predict([[i100, i143, i217, i353, i545, i857, i090, i150, i220]]) for i100, i143, i217, i353, i545, i857, i090, i150, i220 in intensity_clusters_pl_act[1::2].values]).flatten()\n",
    "\n",
    "# Planck+ROSAT\n",
    "cluster_pl_ros = np.array([clf_pl_ros.predict([[i100, i143, i217, i353, i545, i857, irosat]]) for i100, i143, i217, i353, i545, i857, irosat in intensity_clusters_pl_ros[1::2].values]).flatten()\n",
    "\n",
    "# Full\n",
    "cluster_full = np.array([clf_full.predict([[i090, i100, i143, i150, i217, i220, i353, i545, i857, irosat]]) for i090, i100, i143, i150, i217, i220, i353, i545, i857, irosat in intensity_clusters_full[1::2].values]).flatten()"
   ]
  },
  {
   "cell_type": "code",
   "execution_count": 19,
   "id": "84c0e991",
   "metadata": {
    "scrolled": true
   },
   "outputs": [
    {
     "data": {
      "image/png": "[encoded data removed]",
      "text/plain": [
       "<Figure size 1152x648 with 6 Axes>"
      ]
     },
     "metadata": {
      "needs_background": "light"
     },
     "output_type": "display_data"
    }
   ],
   "source": [
    "fig, ax = plt.subplots(3,2,figsize=(16,9),sharey=True)\n",
    "\n",
    "ax[0,0].hist(cluster_full,bins=100,range=(0,1),color='cadetblue',density=True,label='Full')\n",
    "ax[0,0].get_xaxis().set_visible(False)\n",
    "ax[0,0].set_title(\"Classification of clusters: All\")\n",
    "\n",
    "ax[1,0].hist(cluster_pl_ros,bins=100,range=(0,1),color='cadetblue',density=True,label='Planck+ROS')\n",
    "ax[1,0].get_xaxis().set_visible(False)\n",
    "ax[1,0].set_title(\"Classification of clusters: Planck+ROS\")\n",
    "\n",
    "ax[2,0].hist(cluster_pl_act,bins=100,range=(0,1),color='cadetblue',density=True,label='Planck+ACT')\n",
    "ax[2,0].get_xaxis().set_visible(False)\n",
    "ax[2,0].set_title(\"Classification of clusters: Planck+advACT\")\n",
    "\n",
    "ax[0,1].hist(cluster_pl,bins=100,range=(0,1),color='cadetblue',density=True,label='Pl')\n",
    "ax[0,1].get_xaxis().set_visible(False)\n",
    "ax[0,1].set_title(\"Classification of clusters: Planck\")\n",
    "\n",
    "ax[1,1].hist(cluster_pl_low,bins=100,range=(0,1),color='cadetblue',density=True,label='Pl (100-353)')\n",
    "ax[1,1].get_xaxis().set_visible(False)\n",
    "ax[1,1].set_title(\"Classification of clusters: Planck (100-353 GHz)\")\n",
    "\n",
    "ax[2,1].hist(cluster_act,bins=100,range=(0,1),color='cadetblue',density=True,label='ACT')\n",
    "ax[2,1].get_xaxis().set_visible(False)\n",
    "ax[2,1].set_title(\"Classification of clusters: Planck (545-857 GHz) + advACT\")\n",
    "\n",
    "plt.savefig('output/classification_beam.png')\n",
    "plt.show()"
   ]
  },
  {
   "cell_type": "markdown",
   "id": "cd91c3b2",
   "metadata": {},
   "source": [
    "---"
   ]
  },
  {
   "cell_type": "markdown",
   "id": "98a12ce6",
   "metadata": {},
   "source": [
    "---"
   ]
  },
  {
   "cell_type": "markdown",
   "id": "0c0082f8",
   "metadata": {},
   "source": [
    "---"
   ]
  },
  {
   "cell_type": "markdown",
   "id": "14669634",
   "metadata": {},
   "source": [
    "----"
   ]
  },
  {
   "cell_type": "code",
   "execution_count": null,
   "id": "bab7feb9",
   "metadata": {},
   "outputs": [],
   "source": []
  }
 ],
 "metadata": {
  "kernelspec": {
   "display_name": "Python 3 (ipykernel)",
   "language": "python",
   "name": "python3"
  },
  "language_info": {
   "codemirror_mode": {
    "name": "ipython",
    "version": 3
   },
   "file_extension": ".py",
   "mimetype": "text/x-python",
   "name": "python",
   "nbconvert_exporter": "python",
   "pygments_lexer": "ipython3",
   "version": "3.9.12"
  }
 },
 "nbformat": 4,
 "nbformat_minor": 5
}
