{
 "cells": [
  {
   "cell_type": "code",
   "execution_count": 1,
   "metadata": {},
   "outputs": [],
   "source": [
    "# Importing the libraries\n",
    "import numpy as np\n",
    "import matplotlib.pyplot as plt\n",
    "import pandas as pd\n",
    "from sklearn import linear_model\n",
    "from multiprocessing import Pool\n",
    "import healpy as hp\n",
    "from astropy.coordinates import SkyCoord\n",
    "from sklearn.pipeline import make_pipeline\n",
    "from sklearn.preprocessing import StandardScaler\n",
    "# %matplotlib notebook\n",
    "\n",
    "import matplotlib.pyplot as plt\n",
    "from mpl_toolkits.mplot3d import axes3d    \n",
    "import random\n",
    "from sklearn.svm import SVC\n",
    "from sklearn import svm\n",
    "from sklearn.pipeline import make_pipeline\n",
    "import matplotlib\n",
    "matplotlib.rcParams['mathtext.fontset'] = 'stix'\n",
    "matplotlib.rcParams['font.family'] = 'STIXGeneral'"
   ]
  },
  {
   "cell_type": "code",
   "execution_count": 3,
   "metadata": {},
   "outputs": [],
   "source": [
    "def make_dfs(i):\n",
    "    # Importing the dataset containing optical clusters\n",
    "    df = pd.read_csv('awd.csv', skiprows = 0, index_col=0)\n",
    "    df['intensity100'] = np.loadtxt('../data/new2/planck_real_100.csv',delimiter=', ')\n",
    "    df['intensity143'] = np.loadtxt('../data/new2/planck_real_143.csv',delimiter=', ')\n",
    "    df['intensity217'] = np.loadtxt('../data/new2/planck_real_217.csv',delimiter=', ')\n",
    "    df['intensity353'] = np.loadtxt('../data/new2/planck_real_353.csv',delimiter=', ')\n",
    "    df['intensity545'] = np.loadtxt('../data/new2/planck_real_545.csv',delimiter=', ')\n",
    "    df['intensity857'] = np.loadtxt('../data/new2/planck_real_857.csv',delimiter=', ')\n",
    "    df['intensity090_act'] = np.loadtxt('../data/new2/090_real.csv',delimiter=', ')\n",
    "    df['intensity150_act'] = np.loadtxt('../data/new2/150_real.csv',delimiter=', ')\n",
    "    df['intensity220_act'] = np.loadtxt('../data/new2/220_real.csv',delimiter=', ')\n",
    "    df['intensity_rosat'] = np.loadtxt('../data/new2/rosat_real.csv',delimiter=', ')\n",
    "    df['cluster'] = 1    \n",
    "    print(len(df))\n",
    "    \n",
    "    # df = pd.read_csv('../data/new/awd_not_psz.csv', skiprows = 0, index_col=0)\n",
    "    # df['intensity100'] = np.loadtxt('../data/new/planck_100_rv2_1.csv',delimiter=', ')\n",
    "    # df['intensity143'] = np.loadtxt('../data/new/planck_143_rv1_1.csv',delimiter=', ')\n",
    "    # df['intensity217'] = np.loadtxt('../data/new/planck_217_rv0_1.csv',delimiter=', ')\n",
    "    # df['intensity353'] = np.loadtxt('../data/new/planck_353_2_1.csv',delimiter=', ')\n",
    "    # df['intensity545'] = np.loadtxt('../data/new/planck_545_1_1.csv',delimiter=', ')\n",
    "    # df['intensity857'] = np.loadtxt('../data/new/planck_857_0_1.csv',delimiter=', ')\n",
    "    # df['intensity090_act'] = np.loadtxt('../data/new/act_090_real.csv',delimiter=', ')\n",
    "    # df['intensity150_act'] = np.loadtxt('../data/new/act_150_real.csv',delimiter=', ')\n",
    "    # df['intensity220_act'] = np.loadtxt('../data/new/act_220_real.csv',delimiter=', ')\n",
    "    # df['intensity_rosat'] = np.loadtxt('../data/new/rosat_real.csv',delimiter=', ')\n",
    "    # df['cluster'] = 1\n",
    "\n",
    "    # df = pd.read_csv('ml_sample_real.csv', skiprows = 0, index_col=0)\n",
    "    # df['intensity100'] = np.loadtxt('../data/beam/real_planck_100.csv',delimiter=', ')\n",
    "    # df['intensity143'] = np.loadtxt('../data/beam/real_planck_143.csv',delimiter=', ')\n",
    "    # df['intensity217'] = np.loadtxt('../data/beam/real_planck_217.csv',delimiter=', ')\n",
    "    # df['intensity353'] = np.loadtxt('../data/beam/real_planck_353.csv',delimiter=', ')\n",
    "    # df['intensity545'] = np.loadtxt('../data/beam/real_planck_545.csv',delimiter=', ')\n",
    "    # df['intensity857'] = np.loadtxt('../data/beam/real_planck_857.csv',delimiter=', ')\n",
    "    # df['intensity090_act'] = np.loadtxt('../data/beam/real_act_090.csv',delimiter=', ')\n",
    "    # df['intensity150_act'] = np.loadtxt('../data/beam/real_act_150.csv',delimiter=', ')\n",
    "    # df['intensity220_act'] = np.loadtxt('../data/beam/real_act_220.csv',delimiter=', ')\n",
    "    # df['intensity_rosat'] = np.loadtxt('../data/beam/real_rosat.csv',delimiter=', ')\n",
    "\n",
    "    #####################################\n",
    "    \n",
    "    # Importing the dataset containing non-clusters\n",
    "    # df2 = pd.read_csv('../data/voids_complete.csv', skiprows = 0, index_col=0)\n",
    "    # df2['intensity100'] = np.loadtxt('../data/beam/fake_planck_100.csv',delimiter=', ')\n",
    "    # df2['intensity143'] = np.loadtxt('../data/beam/fake_planck_143.csv',delimiter=', ')\n",
    "    # df2['intensity217'] = np.loadtxt('../data/beam/fake_planck_217.csv',delimiter=', ')\n",
    "    # df2['intensity353'] = np.loadtxt('../data/beam/fake_planck_353.csv',delimiter=', ')\n",
    "    # # df2['intensity545'] = np.loadtxt('../data/beam/fake_planck_545.csv',delimiter=', ')\n",
    "    # # df2['intensity857'] = np.loadtxt('../data/beam/fake_planck_857.csv',delimiter=', ')\n",
    "    # df2['intensity090_act'] = np.loadtxt('../data/beam/fake_act_090.csv',delimiter=', ')\n",
    "    # df2['intensity150_act'] = np.loadtxt('../data/beam/fake_act_150.csv',delimiter=', ')\n",
    "    # df2['intensity220_act'] = np.loadtxt('../data/beam/fake_act_220.csv',delimiter=', ')\n",
    "    # df2['intensity_rosat'] = np.loadtxt('../data/beam/fake_rosat.csv',delimiter=', ')\n",
    "\n",
    "    df2 = df.copy()\n",
    "    df2 = pd.concat([df2,df2,df2])\n",
    "    df2[:] = 0\n",
    "    df2 = df2[:len(np.loadtxt('../../../ras_planck_voidsx.csv',delimiter=', '))].reset_index(drop=True)\n",
    "    len(df2)\n",
    "\n",
    "    ras = np.loadtxt('../../../ras_planck_voidsx.csv',delimiter=', ')\n",
    "    decs = np.loadtxt('../../../decs_planck_voidsx.csv',delimiter=', ')\n",
    "    c = SkyCoord(ras,decs,frame='icrs',unit='deg')\n",
    "    glats = np.array(c.galactic.b.degree)\n",
    "    glons = np.array(c.galactic.l.degree)\n",
    "\n",
    "    df2['glon'] = glons\n",
    "    df2['glat'] = glats\n",
    "    df2['intensity100'] = np.loadtxt('../../../planck_voidsx_100.csv',delimiter=', ')\n",
    "    df2['intensity143'] = np.loadtxt('../../../planck_voidsx_143.csv',delimiter=', ')\n",
    "    df2['intensity217'] = np.loadtxt('../../../planck_voidsx_217.csv',delimiter=', ')\n",
    "    df2['intensity353'] = np.loadtxt('../../../planck_voidsx_353.csv',delimiter=', ')\n",
    "    df2['intensity545'] = np.loadtxt('../../../planck_voidsx_545.csv',delimiter=', ')\n",
    "    df2['intensity857'] = np.loadtxt('../../../planck_voidsx_857.csv',delimiter=', ')\n",
    "    df2['intensity090_act'] = np.loadtxt('../../../090_voids_test.csv',delimiter=', ')\n",
    "    df2['intensity150_act'] = np.loadtxt('../../../150_voids_test.csv',delimiter=', ')\n",
    "    df2['intensity220_act'] = np.loadtxt('../../../220_voids_test.csv',delimiter=', ')\n",
    "    df2['intensity_rosat'] = np.loadtxt('../../../rosat_voids_test.csv',delimiter=', ')\n",
    "    \n",
    "    df2 = df2[:len(df)]\n",
    "    \n",
    "#     df2_scaled_up = df2.copy()\n",
    "#     df2_scaled_up['intensity090_act'] = df2['intensity090_act']*i\n",
    "#     df2_scaled_up['intensity100'] = df2['intensity100']*i\n",
    "#     df2_scaled_up['intensity143'] = df2['intensity143']*i\n",
    "#     df2_scaled_up['intensity150_act'] = df2['intensity150_act']*i\n",
    "#     df2_scaled_up['intensity217'] = df2['intensity217']*i\n",
    "#     df2_scaled_up['intensity220_act'] = df2['intensity220_act']*i\n",
    "#     df2_scaled_up['intensity353'] = df2['intensity353']*i\n",
    "#     df2_scaled_up['intensity545'] = df2['intensity545']*i\n",
    "#     df2_scaled_up['intensity857'] = df2['intensity857']*i\n",
    "#     df2_scaled_up['intensity_rosat'] = df2['intensity_rosat']*i\n",
    "\n",
    "#     df2_scaled_down = df2.copy()\n",
    "#     df2_scaled_down['intensity090_act'] = df2['intensity090_act']/i\n",
    "#     df2_scaled_down['intensity100'] = df2['intensity100']/i\n",
    "#     df2_scaled_down['intensity143'] = df2['intensity143']/i\n",
    "#     df2_scaled_down['intensity150_act'] = df2['intensity150_act']/i\n",
    "#     df2_scaled_down['intensity217'] = df2['intensity217']/i\n",
    "#     df2_scaled_down['intensity220_act'] = df2['intensity220_act']/i\n",
    "#     df2_scaled_down['intensity353'] = df2['intensity353']/i\n",
    "#     df2_scaled_down['intensity545'] = df2['intensity545']/i\n",
    "#     df2_scaled_down['intensity857'] = df2['intensity857']/i\n",
    "#     df2_scaled_down['intensity_rosat'] = df2['intensity_rosat']/i\n",
    "\n",
    "#     df2 = pd.concat([df2, df2_scaled_up])#, df2_scaled_down])\n",
    "    \n",
    "    ###############################################################\n",
    "    \n",
    "    # Combine real and fake data\n",
    "    df3 = df.append(df2, ignore_index=True)\n",
    "    \n",
    "    ##########################################################\n",
    "    \n",
    "    return df, df2, df3"
   ]
  },
  {
   "cell_type": "markdown",
   "metadata": {},
   "source": [
    "---"
   ]
  },
  {
   "cell_type": "markdown",
   "metadata": {},
   "source": [
    "# Classification of clusters vs non clusters"
   ]
  },
  {
   "cell_type": "code",
   "execution_count": 9,
   "metadata": {},
   "outputs": [],
   "source": [
    "def make_svms(df, df2, df3):\n",
    "    # ACT+High Frequency Planck only\n",
    "    intensity_clusters_act = df[(df.intensity090_act!=-9999)&(df.intensity150_act!=-9999)&(df.intensity220_act!=-9999)][['intensity090_act','intensity150_act','intensity220_act', 'intensity545', 'intensity857']][::2].reset_index(drop=True)\n",
    "    intensity_voids_act = df2[(df2.intensity090_act!=-9999)&(df2.intensity150_act!=-9999)&(df2.intensity220_act!=-9999)][['intensity090_act','intensity150_act','intensity220_act', 'intensity545', 'intensity857']][::2].reset_index(drop=True)\n",
    "    intensity_combined_act = df3[(df3.intensity090_act!=-9999)&(df3.intensity150_act!=-9999)&(df3.intensity220_act!=-9999)][['intensity090_act','intensity150_act','intensity220_act', 'intensity545', 'intensity857']][::2].reset_index(drop=True)\n",
    "    cluster_tag_act = df3[(df3.intensity090_act!=-9999)&(df3.intensity150_act!=-9999)&(df3.intensity220_act!=-9999)]['cluster'][::2].reset_index(drop=True)\n",
    "\n",
    "    # Fit full sample with their associated classficiation\n",
    "    clf_act = make_pipeline(StandardScaler(), SVC(C=1,gamma='auto'))\n",
    "    clf_act.fit(intensity_combined_act, cluster_tag_act)\n",
    "\n",
    "    ####################################################\n",
    "\n",
    "    # Planck low-freq\n",
    "    intensity_clusters_pl_low = df[['intensity100','intensity143','intensity217','intensity353']][::2]\n",
    "    intensity_voids_pl_low = df2[['intensity100','intensity143','intensity217','intensity353']][::2]\n",
    "    intensity_combined_pl_low = df3[['intensity100','intensity143','intensity217','intensity353']][::2]\n",
    "    cluster_tag_pl_low = df3['cluster'][::2]\n",
    "\n",
    "    # Fit full sample with their associated classficiation\n",
    "    clf_pl_low = make_pipeline(StandardScaler(), SVC(C=1,gamma='auto'))\n",
    "    clf_pl_low.fit(intensity_combined_pl_low, cluster_tag_pl_low)\n",
    "\n",
    "    #################################################################################################\n",
    "\n",
    "    # Planck-only\n",
    "    intensity_clusters_pl = df[['intensity100','intensity143','intensity217','intensity353','intensity545','intensity857']][::2]\n",
    "    intensity_voids_pl = df2[['intensity100','intensity143','intensity217','intensity353','intensity545','intensity857']][::2]\n",
    "    intensity_combined_pl = df3[['intensity100','intensity143','intensity217','intensity353','intensity545','intensity857']][::2]\n",
    "    cluster_tag_pl = df3['cluster'][::2]\n",
    "\n",
    "    # Fit full sample with their associated classficiation\n",
    "    clf_pl = make_pipeline(StandardScaler(), SVC(C=1,gamma='auto'))\n",
    "    clf_pl.fit(intensity_combined_pl, cluster_tag_pl)\n",
    "\n",
    "    #####################################################################################################\n",
    "\n",
    "    # Planck+ACT\n",
    "    intensity_clusters_pl_act = df[(df.intensity090_act!=-9999)&(df.intensity150_act!=-9999)&(df.intensity220_act!=-9999)][['intensity100','intensity143','intensity217','intensity353','intensity545','intensity857', 'intensity090_act', 'intensity150_act', 'intensity220_act']][::2]\n",
    "    intensity_voids_pl_act = df2[(df2.intensity090_act!=-9999)&(df2.intensity150_act!=-9999)&(df2.intensity220_act!=-9999)][['intensity100','intensity143','intensity217','intensity353','intensity545','intensity857', 'intensity090_act', 'intensity150_act', 'intensity220_act']][::2]\n",
    "    intensity_combined_pl_act = df3[(df3.intensity090_act!=-9999)&(df3.intensity150_act!=-9999)&(df3.intensity220_act!=-9999)][['intensity100','intensity143','intensity217','intensity353','intensity545','intensity857', 'intensity090_act', 'intensity150_act', 'intensity220_act']][::2]\n",
    "    cluster_tag_pl_act = df3[(df3.intensity090_act!=-9999)&(df3.intensity150_act!=-9999)&(df3.intensity220_act!=-9999)]['cluster'][::2]\n",
    "\n",
    "    # Fit full sample with their associated classficiation\n",
    "    clf_pl_act = make_pipeline(StandardScaler(), SVC(C=1,gamma='auto'))\n",
    "    clf_pl_act.fit(intensity_combined_pl_act, cluster_tag_pl_act)\n",
    "\n",
    "    ##########################################################################################################\n",
    "\n",
    "    # Planck+ROSAT\n",
    "    intensity_clusters_pl_ros = df[['intensity100','intensity143','intensity217','intensity353','intensity545','intensity857', 'intensity_rosat']][::2]\n",
    "    intensity_voids_pl_ros = df2[['intensity100','intensity143','intensity217','intensity353','intensity545','intensity857', 'intensity_rosat']][::2]\n",
    "    intensity_combined_pl_ros = df3[['intensity100','intensity143','intensity217','intensity353','intensity545','intensity857', 'intensity_rosat']][::2]\n",
    "    cluster_tag_pl_ros = df3['cluster'][::2]\n",
    "\n",
    "    # Fit full sample with their associated classficiation\n",
    "    clf_pl_ros = make_pipeline(StandardScaler(), SVC(C=1,gamma='auto'))\n",
    "    clf_pl_ros.fit(intensity_combined_pl_ros, cluster_tag_pl_ros)\n",
    "\n",
    "    ########################################################################################################\n",
    "\n",
    "    # Full\n",
    "    intensity_clusters_full = df[(df.intensity090_act!=-9999)&(df.intensity150_act!=-9999)&(df.intensity220_act!=-9999)][['intensity090_act','intensity100','intensity143','intensity150_act','intensity217','intensity220_act','intensity353','intensity545','intensity857','intensity_rosat']][::2]\n",
    "    intensity_voids_full = df2[(df2.intensity090_act!=-9999)&(df2.intensity150_act!=-9999)&(df2.intensity220_act!=-9999)][['intensity090_act','intensity100','intensity143','intensity150_act','intensity217','intensity220_act','intensity353','intensity545','intensity857','intensity_rosat']][::2]\n",
    "    intensity_combined_full = df3[(df3.intensity090_act!=-9999)&(df3.intensity150_act!=-9999)&(df3.intensity220_act!=-9999)][['intensity090_act','intensity100','intensity143','intensity150_act','intensity217','intensity220_act','intensity353','intensity545','intensity857','intensity_rosat']][::2]\n",
    "    cluster_tag_full = df3[(df3.intensity090_act!=-9999)&(df3.intensity150_act!=-9999)&(df3.intensity220_act!=-9999)]['cluster'][::2]\n",
    "\n",
    "    # Fit full sample with their associated classficiation\n",
    "    clf_full = make_pipeline(StandardScaler(), SVC(C=1,gamma='auto'))\n",
    "    clf_full.fit(intensity_combined_full, cluster_tag_full)\n",
    "    \n",
    "    return clf_act, clf_pl_low, clf_pl, clf_pl_act, clf_pl_ros, clf_full, intensity_clusters_act, intensity_voids_act, intensity_combined_act, intensity_clusters_pl_low,intensity_voids_pl_low,intensity_combined_pl_low, intensity_clusters_pl, intensity_voids_pl,intensity_combined_pl,intensity_clusters_pl_act,intensity_voids_pl_act, intensity_combined_pl_act, intensity_clusters_pl_ros, intensity_voids_pl_ros, intensity_combined_pl_ros, intensity_clusters_full, intensity_voids_full, intensity_combined_full"
   ]
  },
  {
   "cell_type": "code",
   "execution_count": 10,
   "metadata": {},
   "outputs": [],
   "source": [
    "def make_cluster_samples(clf_act, clf_pl_low, clf_pl, clf_pl_act, clf_pl_ros, clf_full, intensity_clusters_act, intensity_voids_act, intensity_combined_act, intensity_clusters_pl_low,intensity_voids_pl_low,intensity_combined_pl_low, intensity_clusters_pl, intensity_voids_pl,intensity_combined_pl,intensity_clusters_pl_act,intensity_voids_pl_act, intensity_combined_pl_act, intensity_clusters_pl_ros, intensity_voids_pl_ros, intensity_combined_pl_ros, intensity_clusters_full, intensity_voids_full, intensity_combined_full):\n",
    "    # ACT-only\n",
    "    cluster_act = np.array([clf_act.predict([[i090, i150, i220, i545, i857]]) for i090, i150, i220, i545, i857 in intensity_clusters_act[1::2].values]).flatten()\n",
    "\n",
    "    # Low-freq Planck\n",
    "    cluster_pl_low = np.array([clf_pl_low.predict([[i100, i143, i217, i353]]) for i100, i143, i217, i353 in intensity_clusters_pl_low[1::2].values]).flatten()\n",
    "\n",
    "    # Planck-only\n",
    "    cluster_pl = np.array([clf_pl.predict([[i100, i143, i217, i353, i545, i857]]) for i100, i143, i217, i353, i545, i857 in intensity_clusters_pl[1::2].values]).flatten()\n",
    "\n",
    "    # Planck+ACT\n",
    "    cluster_pl_act = np.array([clf_pl_act.predict([[i100, i143, i217, i353, i545, i857, i090, i150, i220]]) for i100, i143, i217, i353, i545, i857, i090, i150, i220 in intensity_clusters_pl_act[1::2].values]).flatten()\n",
    "\n",
    "    # Planck+ROSAT\n",
    "    cluster_pl_ros = np.array([clf_pl_ros.predict([[i100, i143, i217, i353, i545, i857, irosat]]) for i100, i143, i217, i353, i545, i857, irosat in intensity_clusters_pl_ros[1::2].values]).flatten()\n",
    "\n",
    "    # Full\n",
    "    cluster_full = np.array([clf_full.predict([[i090, i100, i143, i150, i217, i220, i353, i545, i857, irosat]]) for i090, i100, i143, i150, i217, i220, i353, i545, i857, irosat in intensity_clusters_full[1::2].values]).flatten()\n",
    "\n",
    "    # ACT-only\n",
    "    no_cluster_act = np.array([clf_act.predict([[i090, i150, i220, i545, i857]]) for i090, i150, i220, i545, i857 in intensity_voids_act[1::2].values]).flatten()\n",
    "\n",
    "    # # Low-freq Planck\n",
    "    no_cluster_pl_low = np.array([clf_pl_low.predict([[i100, i143, i217, i353]]) for i100, i143, i217, i353 in intensity_voids_pl_low[1::2].values]).flatten()\n",
    "\n",
    "    # Planck-only\n",
    "    no_cluster_pl = np.array([clf_pl.predict([[i100, i143, i217, i353, i545, i857]]) for i100, i143, i217, i353, i545, i857 in intensity_voids_pl[1::2].values]).flatten()\n",
    "\n",
    "    # Planck+ACT\n",
    "    no_cluster_pl_act = np.array([clf_pl_act.predict([[i100, i143, i217, i353, i545, i857, i090, i150, i220]]) for i100, i143, i217, i353, i545, i857, i090, i150, i220 in intensity_voids_pl_act[1::2].values]).flatten()\n",
    "\n",
    "    # Planck+ROSAT\n",
    "    no_cluster_pl_ros = np.array([clf_pl_ros.predict([[i100, i143, i217, i353, i545, i857, irosat]]) for i100, i143, i217, i353, i545, i857, irosat in intensity_voids_pl_ros[1::2].values]).flatten()\n",
    "\n",
    "    # Full\n",
    "    no_cluster_full = np.array([clf_full.predict([[i090, i100, i143, i150, i217, i220, i353, i545, i857, irosat]]) for i090, i100, i143, i150, i217, i220, i353, i545, i857, irosat in intensity_voids_full[1::2].values]).flatten()\n",
    "    \n",
    "    return cluster_act, cluster_pl_low, cluster_pl, cluster_pl_act, cluster_pl_ros, cluster_full, no_cluster_act, no_cluster_pl_low, no_cluster_pl, no_cluster_pl_act, no_cluster_pl_ros, no_cluster_full"
   ]
  },
  {
   "cell_type": "code",
   "execution_count": 11,
   "metadata": {},
   "outputs": [],
   "source": [
    "def make_plots(cluster_act, cluster_pl_low, cluster_pl, cluster_pl_act, cluster_pl_ros, cluster_full, no_cluster_act, no_cluster_pl_low, no_cluster_pl, no_cluster_pl_act, no_cluster_pl_ros, no_cluster_full):\n",
    "    fig, ax = plt.subplots(3,2,figsize=(16,9),sharey=True)\n",
    "    frac_full = len(cluster_full[cluster_full<0.5])/len(cluster_full)\n",
    "    ax[0,0].hist(cluster_full,bins=100,range=(0,1),color='cadetblue',density=True,label='Full')\n",
    "    ax[0,0].get_xaxis().set_visible(False)\n",
    "    ax[0,0].set_title(\"Classification of clusters: All\")\n",
    "\n",
    "    frac_pl_ros = len(cluster_pl_ros[cluster_pl_ros<0.5])/len(cluster_pl_ros)\n",
    "    ax[1,0].hist(cluster_pl_ros,bins=100,range=(0,1),color='cadetblue',density=True,label='Planck+ROS')\n",
    "    ax[1,0].get_xaxis().set_visible(False)\n",
    "    ax[1,0].set_title(\"Classification of clusters: Planck+ROS\")\n",
    "\n",
    "    frac_pl_act = len(cluster_pl_act[cluster_pl_act<0.5])/len(cluster_pl_act)\n",
    "    ax[2,0].hist(cluster_pl_act,bins=100,range=(0,1),color='cadetblue',density=True,label='Planck+ACT')\n",
    "    ax[2,0].get_xaxis().set_visible(False)\n",
    "    ax[2,0].set_title(\"Classification of clusters: Planck+advACT\")\n",
    "\n",
    "    frac_pl = len(cluster_pl[cluster_pl<0.5])/len(cluster_pl)\n",
    "    ax[0,1].hist(cluster_pl,bins=100,range=(0,1),color='cadetblue',density=True,label='Pl')\n",
    "    ax[0,1].get_xaxis().set_visible(False)\n",
    "    ax[0,1].set_title(\"Classification of clusters: Planck\")\n",
    "\n",
    "    frac_pl_low = len(cluster_pl_low[cluster_pl_low<0.5])/len(cluster_pl_low)\n",
    "    ax[1,1].hist(cluster_pl_low,bins=100,range=(0,1),color='cadetblue',density=True,label='Pl (100-353)')\n",
    "    ax[1,1].get_xaxis().set_visible(False)\n",
    "    ax[1,1].set_title(\"Classification of clusters: Planck (100-353 GHz)\")\n",
    "\n",
    "    frac_act = len(cluster_act[cluster_act<0.5])/len(cluster_act)\n",
    "    ax[2,1].hist(cluster_act,bins=100,range=(0,1),color='cadetblue',density=True,label='ACT')\n",
    "    ax[2,1].get_xaxis().set_visible(False)\n",
    "    ax[2,1].set_title(\"Classification of clusters: Planck (545-857 GHz) + advACT\")\n",
    "    plt.show()\n",
    "    \n",
    "    fig, ax = plt.subplots(3,2,figsize=(16,9),sharey=True)\n",
    "    frac_no_full = len(no_cluster_full[no_cluster_full>0.5])/len(no_cluster_full)\n",
    "    ax[0,0].hist(no_cluster_full,bins=100,range=(0,1),color='darksalmon',density=True,label='Full')\n",
    "    ax[0,0].get_xaxis().set_visible(False)\n",
    "    ax[0,0].set_title(\"Classification of non clusters: All\")\n",
    "\n",
    "    frac_no_pl_ros = len(no_cluster_pl_ros[no_cluster_pl_ros>0.5])/len(no_cluster_pl_ros)\n",
    "    ax[1,0].hist(no_cluster_pl_ros,bins=100,range=(0,1),color='darksalmon',density=True,label='Pl+ROS')\n",
    "    ax[1,0].get_xaxis().set_visible(False)\n",
    "    ax[1,0].set_title(\"Classification of non clusters: Planck+ROS\")\n",
    "\n",
    "    frac_no_pl_act = len(no_cluster_pl_act[no_cluster_pl_act>0.5])/len(no_cluster_pl_act)\n",
    "    ax[2,0].hist(no_cluster_pl_act,bins=100,range=(0,1),color='darksalmon',density=True,label='Pl+ACT')\n",
    "    ax[2,0].get_xaxis().set_visible(False)\n",
    "    ax[2,0].set_title(\"Classification of non clusters: Planck+advACT\")\n",
    "\n",
    "    frac_no_pl = len(no_cluster_pl[no_cluster_pl>0.5])/len(no_cluster_pl)\n",
    "    ax[0,1].hist(no_cluster_pl,bins=100,range=(0,1),color='darksalmon',density=True,label='Pl')\n",
    "    ax[0,1].get_xaxis().set_visible(False)\n",
    "    ax[0,1].set_title(\"Classification of non clusters: Planck\")\n",
    "\n",
    "    frac_no_pl_low = len(no_cluster_pl_low[no_cluster_pl_low>0.5])/len(no_cluster_pl_low)\n",
    "    ax[1,1].hist(no_cluster_pl_low,bins=100,range=(0,1),color='darksalmon',density=True,label='Pl (100-353)')\n",
    "    ax[1,1].get_xaxis().set_visible(False)\n",
    "    ax[1,1].set_title(\"Classification of non clusters: Pl (100-353 GHz)\")\n",
    "\n",
    "    frac_no_act = len(no_cluster_act[no_cluster_act>0.5])/len(no_cluster_act)\n",
    "    ax[2,1].hist(no_cluster_act,bins=100,range=(0,1),color='darksalmon',density=True,label='ACT')\n",
    "    ax[2,1].get_xaxis().set_visible(False)\n",
    "    ax[2,1].set_title(\"Classification of non clusters: Planck (545-857 GHz) + advACT\")\n",
    "\n",
    "    plt.show()    \n",
    "    \n",
    "    print(1-frac_full,1-frac_pl_ros,1-frac_pl_act,1-frac_pl,1-frac_pl_low,1-frac_act)\n",
    "    print(1-frac_no_full,1-frac_no_pl_ros,1-frac_no_pl_act,1-frac_no_pl,1-frac_no_pl_low,1-frac_no_act)"
   ]
  },
  {
   "cell_type": "code",
   "execution_count": 12,
   "metadata": {
    "scrolled": true
   },
   "outputs": [],
   "source": [
    "# for i in np.linspace(1,10,50):\n",
    "#     print(\"alpha={}\".format(i))\n",
    "#     df,df2,df3 = make_dfs(i)\n",
    "#     clf_act, clf_pl_low, clf_pl, clf_pl_act, clf_pl_ros, clf_full, intensity_clusters_act, intensity_voids_act, intensity_combined_act, intensity_clusters_pl_low,intensity_voids_pl_low,intensity_combined_pl_low, intensity_clusters_pl, intensity_voids_pl,intensity_combined_pl,intensity_clusters_pl_act,intensity_voids_pl_act, intensity_combined_pl_act, intensity_clusters_pl_ros, intensity_voids_pl_ros, intensity_combined_pl_ros, intensity_clusters_full, intensity_voids_full, intensity_combined_full = make_svms(df,df2,df3)\n",
    "#     cluster_act, cluster_pl_low, cluster_pl, cluster_pl_act, cluster_pl_ros, cluster_full, no_cluster_act, no_cluster_pl_low, no_cluster_pl, no_cluster_pl_act, no_cluster_pl_ros, no_cluster_full = make_cluster_samples(clf_act, clf_pl_low, clf_pl, clf_pl_act, clf_pl_ros, clf_full, intensity_clusters_act, intensity_voids_act, intensity_combined_act, intensity_clusters_pl_low,intensity_voids_pl_low,intensity_combined_pl_low, intensity_clusters_pl, intensity_voids_pl,intensity_combined_pl,intensity_clusters_pl_act,intensity_voids_pl_act, intensity_combined_pl_act, intensity_clusters_pl_ros, intensity_voids_pl_ros, intensity_combined_pl_ros, intensity_clusters_full, intensity_voids_full, intensity_combined_full)\n",
    "#     make_plots(cluster_act, cluster_pl_low, cluster_pl, cluster_pl_act, cluster_pl_ros, cluster_full, no_cluster_act, no_cluster_pl_low, no_cluster_pl, no_cluster_pl_act, no_cluster_pl_ros, no_cluster_full)"
   ]
  },
  {
   "cell_type": "code",
   "execution_count": 13,
   "metadata": {},
   "outputs": [
    {
     "name": "stdout",
     "output_type": "stream",
     "text": [
      "alpha=1\n",
      "31535\n"
     ]
    },
    {
     "data": {
      "image/png": "[encoded data removed]",
      "text/plain": [
       "<Figure size 1152x648 with 6 Axes>"
      ]
     },
     "metadata": {
      "needs_background": "light"
     },
     "output_type": "display_data"
    },
    {
     "data": {
      "image/png": "[encoded data removed]",
      "text/plain": [
       "<Figure size 1152x648 with 6 Axes>"
      ]
     },
     "metadata": {
      "needs_background": "light"
     },
     "output_type": "display_data"
    },
    {
     "name": "stdout",
     "output_type": "stream",
     "text": [
      "0.9080355110402913 0.8857179096905125 0.9385385841110858 0.8729071537290716 0.8720192795535261 0.9745048941497837\n",
      "0.7569637883008357 0.7598934550989346 0.648096564531105 0.6386352105530188 0.6350837138508372 0.43546889507892295\n"
     ]
    }
   ],
   "source": [
    "i=1\n",
    "print(\"alpha={}\".format(i))\n",
    "df,df2,df3 = make_dfs(i)\n",
    "clf_act, clf_pl_low, clf_pl, clf_pl_act, clf_pl_ros, clf_full, intensity_clusters_act, intensity_voids_act, intensity_combined_act, intensity_clusters_pl_low,intensity_voids_pl_low,intensity_combined_pl_low, intensity_clusters_pl, intensity_voids_pl,intensity_combined_pl,intensity_clusters_pl_act,intensity_voids_pl_act, intensity_combined_pl_act, intensity_clusters_pl_ros, intensity_voids_pl_ros, intensity_combined_pl_ros, intensity_clusters_full, intensity_voids_full, intensity_combined_full = make_svms(df,df2,df3)\n",
    "cluster_act, cluster_pl_low, cluster_pl, cluster_pl_act, cluster_pl_ros, cluster_full, no_cluster_act, no_cluster_pl_low, no_cluster_pl, no_cluster_pl_act, no_cluster_pl_ros, no_cluster_full = make_cluster_samples(clf_act, clf_pl_low, clf_pl, clf_pl_act, clf_pl_ros, clf_full, intensity_clusters_act, intensity_voids_act, intensity_combined_act, intensity_clusters_pl_low,intensity_voids_pl_low,intensity_combined_pl_low, intensity_clusters_pl, intensity_voids_pl,intensity_combined_pl,intensity_clusters_pl_act,intensity_voids_pl_act, intensity_combined_pl_act, intensity_clusters_pl_ros, intensity_voids_pl_ros, intensity_combined_pl_ros, intensity_clusters_full, intensity_voids_full, intensity_combined_full)\n",
    "make_plots(cluster_act, cluster_pl_low, cluster_pl, cluster_pl_act, cluster_pl_ros, cluster_full, no_cluster_act, no_cluster_pl_low, no_cluster_pl, no_cluster_pl_act, no_cluster_pl_ros, no_cluster_full)"
   ]
  },
  {
   "cell_type": "markdown",
   "metadata": {},
   "source": [
    "---"
   ]
  },
  {
   "cell_type": "markdown",
   "metadata": {},
   "source": [
    "# Identification of clusters"
   ]
  },
  {
   "cell_type": "code",
   "execution_count": null,
   "metadata": {},
   "outputs": [],
   "source": [
    "# Csv importer wrapped in a function that can be mapped for parallelization\n",
    "def read_csv(filename):\n",
    "    return pd.DataFrame(np.loadtxt(filename,delimiter=', ')).T"
   ]
  },
  {
   "cell_type": "code",
   "execution_count": null,
   "metadata": {},
   "outputs": [],
   "source": [
    "fsky = pd.DataFrame()\n",
    "fsky['ras'] = np.loadtxt('../data/new/ras_voids_plfsky.csv',delimiter=', ')\n",
    "fsky['decs'] = np.loadtxt('../data/new/decs_voids_plfsky.csv',delimiter=', ')\n",
    "\n",
    "# Convert the RA and DEC to galactic coordinates\n",
    "c = SkyCoord(fsky['ras'],fsky['decs'],frame='icrs',unit='deg')\n",
    "fsky['glat'] = c.galactic.b.degree\n",
    "fsky['glon'] = c.galactic.l.degree"
   ]
  },
  {
   "cell_type": "code",
   "execution_count": null,
   "metadata": {},
   "outputs": [],
   "source": [
    "fsky['int100'] = np.loadtxt('../data/new/_planck_fsky_100.csv',delimiter=', ')\n",
    "fsky['int143'] = np.loadtxt('../data/new/_planck_fsky_143.csv',delimiter=', ')\n",
    "fsky['int217'] = np.loadtxt('../data/new/_planck_fsky_217.csv',delimiter=', ')\n",
    "fsky['int353'] = np.loadtxt('../data/new/_planck_fsky_353.csv',delimiter=', ')\n",
    "fsky['int545'] = np.loadtxt('../data/new/_planck_fsky_545.csv',delimiter=', ')\n",
    "fsky['int857'] = np.loadtxt('../data/new/_planck_fsky_857.csv',delimiter=', ')\n",
    "fsky['int090'] = np.loadtxt('../data/new/_act_090_fsky.csv',delimiter=', ')\n",
    "fsky['int150'] = np.loadtxt('../data/new/_act_150_fsky.csv',delimiter=', ')\n",
    "fsky['int220'] = np.loadtxt('../data/new/_act_220_fsky.csv',delimiter=', ')\n",
    "fsky['introsat'] = np.loadtxt('../data/new/_rosat_voids.csv',delimiter=', ')"
   ]
  },
  {
   "cell_type": "code",
   "execution_count": null,
   "metadata": {},
   "outputs": [],
   "source": [
    "fsky"
   ]
  },
  {
   "cell_type": "code",
   "execution_count": null,
   "metadata": {},
   "outputs": [],
   "source": [
    "# All\n",
    "cluster_prob_full = np.array([clf_full.predict([[i090, i100, i143, i150, i217, i220, i353, i545, i857, irosat]]) for i090, i100, i143, i150, i217, i220, i353, i545, i857, irosat in fsky[['int100','int143','int217','int353', 'int545', 'int857', 'int090', 'int150', 'int220', 'introsat']].values]).flatten()\n",
    "\n",
    "# Planck+ROSAT\n",
    "cluster_prob_pl_ros = np.array([clf_pl_ros.predict([[i100, i143, i217, i353, i545, i857, irosat]]) for i100, i143, i217, i353, i545, i857, irosat in fsky[['int100','int143','int217','int353', 'int545', 'int857', 'introsat']].values]).flatten()\n",
    "\n",
    "# Planck+ACT\n",
    "cluster_prob_pl_act = np.array([clf_pl_act.predict([[i100, i143, i217, i353, i545, i857, i090, i150, i150]]) for i100, i143, i217, i353, i545, i857, i090, i150, i220 in fsky[['int100','int143','int217','int353', 'int545', 'int857', 'int090', 'int150', 'int220']].values]).flatten()\n",
    "\n",
    "# Planck-only\n",
    "cluster_prob_pl = np.array([clf_pl.predict([[i100, i143, i217, i353, i545, i857]]) for i100, i143, i217, i353, i545, i857 in fsky[['int100','int143','int217','int353', 'int545', 'int857']].values]).flatten()\n",
    "\n",
    "# # ACT-only\n",
    "cluster_prob_act = np.array([clf_act.predict([[i090, i150, i220, i545, i857]]) for i090,i150,i220,i545,i857 in fsky[['int090','int150','int220', 'int545', 'int857']].values]).flatten()\n",
    "\n",
    "# Low-freq Planck\n",
    "cluster_prob_pl_low = np.array([clf_pl_low.predict([[i100, i143, i217, i353]]) for i100, i143, i217, i353 in fsky[['int100','int143','int217','int353']].values]).flatten()"
   ]
  },
  {
   "cell_type": "code",
   "execution_count": null,
   "metadata": {},
   "outputs": [],
   "source": [
    "voids = pd.read_csv('voids_complete.csv', skiprows = 0, index_col=0)\n",
    "ras_voids = voids['amf_ra'].reset_index(drop=True)\n",
    "decs_voids = voids['amf_dec'].reset_index(drop=True)\n",
    "\n",
    "real = pd.read_csv('../data/ard_not_adv.csv',skiprows=0,index_col=0)\n",
    "ras_real = real['amf_ra'].reset_index(drop=True)\n",
    "decs_real = real['amf_dec'].reset_index(drop=True)"
   ]
  },
  {
   "cell_type": "code",
   "execution_count": null,
   "metadata": {},
   "outputs": [],
   "source": [
    "fsky[fsky.glon.isin(real['glon'].values)]"
   ]
  },
  {
   "cell_type": "code",
   "execution_count": null,
   "metadata": {},
   "outputs": [],
   "source": [
    "fsky['cluster_full'] = cluster_prob_full\n",
    "fsky['cluster_pl_ros'] = cluster_prob_pl_ros\n",
    "fsky['cluster_pl_act'] = cluster_prob_pl_act\n",
    "fsky['cluster_pl'] = cluster_prob_pl\n",
    "fsky['cluster_pl_low'] = cluster_prob_pl_low\n",
    "fsky['cluster_act'] = cluster_prob_act"
   ]
  },
  {
   "cell_type": "code",
   "execution_count": null,
   "metadata": {},
   "outputs": [],
   "source": [
    "pl143 = hp.read_map('../data/HFI_SkyMap_143-field-IQU_2048_R3.00_full.fits')"
   ]
  },
  {
   "cell_type": "code",
   "execution_count": null,
   "metadata": {
    "scrolled": false
   },
   "outputs": [],
   "source": [
    "hp.mollview(pl143,norm='hist',cmap='Greys',coord=['G'],title='Full')\n",
    "hp.visufunc.projscatter(fsky[(fsky.glon.isin(real['glon'].values)) & (fsky.int090!=-9999)&(fsky.int150!=-9999)&(fsky.int220!=-9999)]['glon'],fsky[(fsky.glon.isin(real['glon'].values)) &(fsky.int090!=-9999)&(fsky.int150!=-9999)&(fsky.int220!=-9999)]['glat'],c=fsky[(fsky.glon.isin(real['glon'].values)) &(fsky.int090!=-9999)&(fsky.int150!=-9999)&(fsky.int220!=-9999)]['cluster_full'],lonlat=True,s=10)\n",
    "# plt.scatter(fsky['glon'],fsky['glat'],c=fsky.cluster,s=1)"
   ]
  },
  {
   "cell_type": "code",
   "execution_count": null,
   "metadata": {},
   "outputs": [],
   "source": [
    "hp.mollview(pl143,norm='hist',cmap='Greys',coord=['G'],title='Pl+ROS')\n",
    "hp.visufunc.projscatter(fsky['glon'],fsky['glat'],c=cluster_prob_pl_ros,lonlat=True,s=10)\n",
    "# plt.scatter(fsky['glon'],fsky['glat'],c=fsky.cluster,s=1)"
   ]
  },
  {
   "cell_type": "code",
   "execution_count": null,
   "metadata": {},
   "outputs": [],
   "source": [
    "hp.mollview(pl143,norm='hist',cmap='Greys',coord=['G'],title='Pl+ACT')\n",
    "hp.visufunc.projscatter(fsky[(fsky.int090!=-9999)&(fsky.int150!=-9999)&(fsky.int220!=-9999)]['glon'],fsky[(fsky.int090!=-9999)&(fsky.int150!=-9999)&(fsky.int220!=-9999)]['glat'],c=fsky[(fsky.int090!=-9999)&(fsky.int150!=-9999)&(fsky.int220!=-9999)]['cluster_pl_act'],lonlat=True,s=10)\n",
    "# plt.scatter(fsky['glon'],fsky['glat'],c=fsky.cluster,s=1)"
   ]
  },
  {
   "cell_type": "code",
   "execution_count": null,
   "metadata": {},
   "outputs": [],
   "source": [
    "hp.mollview(pl143,norm='hist',cmap='Greys',coord=['G'],title='Pl')\n",
    "hp.visufunc.projscatter(fsky['glon'],fsky['glat'],c=cluster_prob_pl,lonlat=True,s=10)\n",
    "# plt.scatter(fsky['glon'],fsky['glat'],c=fsky.cluster,s=1)"
   ]
  },
  {
   "cell_type": "code",
   "execution_count": null,
   "metadata": {},
   "outputs": [],
   "source": [
    "hp.mollview(pl143,norm='hist',cmap='Greys',coord=['G'],title='Pl (100-353)')\n",
    "hp.visufunc.projscatter(fsky['glon'],fsky['glat'],c=cluster_prob_pl_low,lonlat=True,s=10)\n",
    "# plt.scatter(fsky['glon'],fsky['glat'],c=fsky.cluster,s=1)"
   ]
  },
  {
   "cell_type": "code",
   "execution_count": null,
   "metadata": {},
   "outputs": [],
   "source": [
    "hp.mollview(pl143,norm='hist',cmap='Greys',coord=['G'],title='ACT')\n",
    "hp.visufunc.projscatter(fsky[(fsky.int090!=-9999)&(fsky.int150!=-9999)&(fsky.int220!=-9999)]['glon'],fsky[(fsky.int090!=-9999)&(fsky.int150!=-9999)&(fsky.int220!=-9999)]['glat'],c=fsky[(fsky.int090!=-9999)&(fsky.int150!=-9999)&(fsky.int220!=-9999)]['cluster_act'],lonlat=True,s=10)\n",
    "# plt.scatter(fsky['glon'],fsky['glat'],c=fsky.cluster,s=1)"
   ]
  },
  {
   "cell_type": "code",
   "execution_count": null,
   "metadata": {},
   "outputs": [],
   "source": []
  }
 ],
 "metadata": {
  "kernelspec": {
   "display_name": "Python 3",
   "language": "python",
   "name": "python3"
  },
  "language_info": {
   "codemirror_mode": {
    "name": "ipython",
    "version": 3
   },
   "file_extension": ".py",
   "mimetype": "text/x-python",
   "name": "python",
   "nbconvert_exporter": "python",
   "pygments_lexer": "ipython3",
   "version": "3.7.6"
  }
 },
 "nbformat": 4,
 "nbformat_minor": 4
}
