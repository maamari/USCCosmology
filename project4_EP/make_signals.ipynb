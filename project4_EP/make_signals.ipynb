{
 "cells": [
  {
   "cell_type": "code",
   "execution_count": 2,
   "id": "6485064d",
   "metadata": {},
   "outputs": [],
   "source": [
    "import pandas as pd\n",
    "import math\n",
    "import numpy as np\n",
    "from astropy.coordinates import SkyCoord\n",
    "from astropy.io import fits\n",
    "import healpy as hp\n",
    "import matplotlib.pyplot as plt\n",
    "import time\n",
    "import sys\n",
    "from pixell import enmap, enplot, reproject, utils, curvedsky, wcsutils\n",
    "from matplotlib import cm\n",
    "from scipy.optimize import curve_fit\n",
    "from scipy.linalg import sqrtm\n",
    "from tqdm import tqdm\n",
    "import random\n",
    "import time\n",
    "import multiprocessing as mp\n",
    "import numpy as np\n",
    "import random\n",
    "import time\n",
    "import multiprocessing as mp\n",
    "import numpy as np"
   ]
  },
  {
   "cell_type": "markdown",
   "id": "a2d6dff5",
   "metadata": {},
   "source": [
    "# Rad: 5, 10"
   ]
  },
  {
   "cell_type": "code",
   "execution_count": 157,
   "id": "6d5e792e",
   "metadata": {},
   "outputs": [],
   "source": [
    "def import_map(filepath, beam):\n",
    "    pl = hp.read_map(filepath)\n",
    "    pl[(pl==-32768) | np.isnan(pl)] = 0\n",
    "    try:\n",
    "        shape,wcs = enmap.fullsky_geometry(res=int(beam)*utils.arcmin,proj='car')\n",
    "        map_pix = reproject.enmap_from_healpix(pl,shape=shape,wcs=wcs)\n",
    "    except:\n",
    "        shape,wcs = enmap.fullsky_geometry(res=int(beam+1)*utils.arcmin,proj='car')\n",
    "        map_pix = reproject.enmap_from_healpix(pl,shape=shape,wcs=wcs)\n",
    "    return map_pix\n",
    "\n",
    "\n",
    "def extract_intensity(map_pix, ras, decs, beam):\n",
    "    N = len(ras)\n",
    "    stack_CMB_kSZ           = 0\n",
    "    stack_CMB_kSZ_deproject = 0\n",
    "    c = 0\n",
    "\n",
    "    signal = []\n",
    "    signal_ring = []\n",
    "    ras_used = []\n",
    "    decs_used = []\n",
    "    for i in tqdm(range(N)):\n",
    "        stamp = reproject.thumbnails(map_pix,coords = np.deg2rad([decs[i], ras[i]]),r=beam*utils.arcmin)\n",
    "        stamp2 = reproject.thumbnails(map_pix,coords = np.deg2rad([decs[i], ras[i]]),r=beam*2*utils.arcmin)\n",
    "\n",
    "        if stamp is None:\n",
    "            signal.append(-9999)\n",
    "            signal_ring.append(-9999)\n",
    "        elif stamp[0][0][0]==0.0:\n",
    "            signal.append(-9999)\n",
    "            signal_ring.append(-9999)\n",
    "        else:\n",
    "            signal_sum = sum(sum(stamp[0]))\n",
    "            signal2_sum = sum(sum(stamp2[0]))\n",
    "            num_pix_signal = len(stamp[0][0])*len(stamp[0][0])\n",
    "            num_pix_signal2 = len(stamp2[0][0])*len(stamp2[0][0])            \n",
    "            signal.append(signal_sum/num_pix_signal)\n",
    "            signal_ring.append((signal2_sum-signal_sum)/(num_pix_signal2-num_pix_signal))\n",
    "        ras_used.append(ras[i])\n",
    "        decs_used.append(decs[i])\n",
    "\n",
    "    return signal, signal_ring, ras_used, decs_used\n",
    "\n",
    "\n",
    "def output_signal(signal,signal_ring,output_fp,output_fp_signal):\n",
    "    np.savetxt(output_fp,\n",
    "               signal,\n",
    "               delimiter=\", \",\n",
    "               fmt='% s')\n",
    "    np.savetxt(output_fp_signal,\n",
    "               signal_ring,\n",
    "               delimiter=\", \",\n",
    "               fmt='% s')"
   ]
  },
  {
   "cell_type": "code",
   "execution_count": 158,
   "id": "8d5707aa",
   "metadata": {},
   "outputs": [
    {
     "name": "stdout",
     "output_type": "stream",
     "text": [
      "Preparing SHT\n",
      "T -> alm\n",
      "float64 complex128\n",
      "Computing pixel positions\n",
      "Computing rotated positions\n",
      "Projecting\n"
     ]
    },
    {
     "name": "stderr",
     "output_type": "stream",
     "text": [
      "100%|█████████████████████████████████████| 36908/36908 [06:32<00:00, 93.93it/s]\n"
     ]
    }
   ],
   "source": [
    "real = pd.read_csv('data/union.csv',skiprows=0,index_col=0)\n",
    "ras_real = real['amf_ra'][::20].reset_index(drop=True)\n",
    "decs_real = real['amf_dec'][::20].reset_index(drop=True)\n",
    "\n",
    "ras_all = ras_real\n",
    "decs_all = decs_real\n",
    "\n",
    "maps = \"data/IRIS_nohole_1_2048_v2.fits\"\n",
    "beam=10\n",
    "map_pix = import_map(maps, int(beam))\n",
    "\n",
    "outputs = \"output/510u/ir12.csv\"\n",
    "outputs2 = \"output/510u/ir12_r.csv\"\n",
    "\n",
    "signal, signal_ring, ras_used, decs_used = extract_intensity(map_pix, ras_all, decs_all, beam)\n",
    "output_signal(signal, signal_ring, outputs, outputs2)"
   ]
  },
  {
   "cell_type": "code",
   "execution_count": 159,
   "id": "6111375f",
   "metadata": {},
   "outputs": [
    {
     "name": "stdout",
     "output_type": "stream",
     "text": [
      "Preparing SHT\n",
      "T -> alm\n",
      "float64 complex128\n",
      "Computing pixel positions\n",
      "Computing rotated positions\n",
      "Projecting\n"
     ]
    },
    {
     "name": "stderr",
     "output_type": "stream",
     "text": [
      "100%|████████████████████████████████████| 36908/36908 [06:00<00:00, 102.24it/s]\n"
     ]
    }
   ],
   "source": [
    "real = pd.read_csv('data/union.csv',skiprows=0,index_col=0)\n",
    "ras_real = real['amf_ra'][::20].reset_index(drop=True)\n",
    "decs_real = real['amf_dec'][::20].reset_index(drop=True)\n",
    "\n",
    "ras_all = ras_real\n",
    "decs_all = decs_real\n",
    "\n",
    "maps = \"data/IRIS_nohole_2_2048_v2.fits\"\n",
    "beam=10\n",
    "map_pix = import_map(maps, int(beam))\n",
    "\n",
    "outputs = \"output/510u/ir25.csv\"\n",
    "outputs2 = \"output/510u/ir25_r.csv\"\n",
    "\n",
    "signal, signal_ring, ras_used, decs_used = extract_intensity(map_pix, ras_all, decs_all, beam)\n",
    "output_signal(signal, signal_ring, outputs, outputs2)"
   ]
  },
  {
   "cell_type": "code",
   "execution_count": 160,
   "id": "6598379b",
   "metadata": {},
   "outputs": [
    {
     "name": "stdout",
     "output_type": "stream",
     "text": [
      "Preparing SHT\n",
      "T -> alm\n",
      "float64 complex128\n",
      "Computing pixel positions\n",
      "Computing rotated positions\n",
      "Projecting\n"
     ]
    },
    {
     "name": "stderr",
     "output_type": "stream",
     "text": [
      "100%|████████████████████████████████████| 36908/36908 [05:42<00:00, 107.80it/s]\n"
     ]
    }
   ],
   "source": [
    "real = pd.read_csv('data/union.csv',skiprows=0,index_col=0)\n",
    "ras_real = real['amf_ra'][::20].reset_index(drop=True)\n",
    "decs_real = real['amf_dec'][::20].reset_index(drop=True)\n",
    "\n",
    "ras_all = ras_real\n",
    "decs_all = decs_real\n",
    "\n",
    "maps = \"data/IRIS_nohole_3_2048_v2.fits\"\n",
    "beam=10\n",
    "map_pix = import_map(maps, int(beam))\n",
    "\n",
    "outputs = \"output/510u/ir60.csv\"\n",
    "outputs2 = \"output/510u/ir60_r.csv\"\n",
    "\n",
    "signal, signal_ring, ras_used, decs_used = extract_intensity(map_pix, ras_all, decs_all, beam)\n",
    "output_signal(signal, signal_ring, outputs, outputs2)"
   ]
  },
  {
   "cell_type": "code",
   "execution_count": 161,
   "id": "c5d2940d",
   "metadata": {},
   "outputs": [
    {
     "name": "stdout",
     "output_type": "stream",
     "text": [
      "Preparing SHT\n",
      "T -> alm\n",
      "float64 complex128\n",
      "Computing pixel positions\n",
      "Computing rotated positions\n",
      "Projecting\n"
     ]
    },
    {
     "name": "stderr",
     "output_type": "stream",
     "text": [
      "100%|█████████████████████████████████████| 36908/36908 [06:38<00:00, 92.66it/s]\n"
     ]
    }
   ],
   "source": [
    "real = pd.read_csv('data/union.csv',skiprows=0,index_col=0)\n",
    "ras_real = real['amf_ra'][::20].reset_index(drop=True)\n",
    "decs_real = real['amf_dec'][::20].reset_index(drop=True)\n",
    "\n",
    "ras_all = ras_real\n",
    "decs_all = decs_real\n",
    "\n",
    "maps = \"data/IRIS_nohole_4_2048_v2.fits\"\n",
    "beam=10\n",
    "map_pix = import_map(maps, int(beam))\n",
    "\n",
    "outputs = \"output/510u/ir100.csv\"\n",
    "outputs2 = \"output/510u/ir100_r.csv\"\n",
    "\n",
    "signal, signal_ring, ras_used, decs_used = extract_intensity(map_pix, ras_all, decs_all, beam)\n",
    "output_signal(signal, signal_ring, outputs, outputs2)"
   ]
  },
  {
   "cell_type": "markdown",
   "id": "eb8993d3",
   "metadata": {},
   "source": [
    "---"
   ]
  },
  {
   "cell_type": "code",
   "execution_count": 162,
   "id": "18fc9a8d",
   "metadata": {},
   "outputs": [
    {
     "name": "stdout",
     "output_type": "stream",
     "text": [
      "Preparing SHT\n",
      "T -> alm\n",
      "float64 complex128\n",
      "Computing pixel positions\n",
      "Computing rotated positions\n",
      "Projecting\n"
     ]
    },
    {
     "name": "stderr",
     "output_type": "stream",
     "text": [
      "100%|████████████████████████████████████| 47231/47231 [07:21<00:00, 107.07it/s]\n"
     ]
    }
   ],
   "source": [
    "voids = pd.read_csv('data/voids.csv',skiprows=0,index_col=0)\n",
    "ras_voids = voids['ras'].reset_index(drop=True)\n",
    "decs_voids = voids['decs'].reset_index(drop=True)\n",
    "\n",
    "ras_all = ras_voids\n",
    "decs_all = decs_voids\n",
    "\n",
    "maps = \"data/IRIS_nohole_1_2048_v2.fits\"\n",
    "beam=10\n",
    "map_pix = import_map(maps, int(beam))\n",
    "\n",
    "outputs = \"output/510u/iv12.csv\"\n",
    "outputs2 = \"output/510u/iv12_r.csv\"\n",
    "\n",
    "signal, signal_ring, ras_used, decs_used = extract_intensity(map_pix, ras_all, decs_all, beam)\n",
    "output_signal(signal, signal_ring, outputs, outputs2)"
   ]
  },
  {
   "cell_type": "code",
   "execution_count": 163,
   "id": "8c4017c7",
   "metadata": {},
   "outputs": [
    {
     "name": "stdout",
     "output_type": "stream",
     "text": [
      "Preparing SHT\n",
      "T -> alm\n",
      "float64 complex128\n",
      "Computing pixel positions\n",
      "Computing rotated positions\n",
      "Projecting\n"
     ]
    },
    {
     "name": "stderr",
     "output_type": "stream",
     "text": [
      "100%|████████████████████████████████████| 47231/47231 [07:48<00:00, 100.87it/s]\n"
     ]
    }
   ],
   "source": [
    "voids = pd.read_csv('data/voids.csv',skiprows=0,index_col=0)\n",
    "ras_voids = voids['ras'].reset_index(drop=True)\n",
    "decs_voids = voids['decs'].reset_index(drop=True)\n",
    "\n",
    "ras_all = ras_voids\n",
    "decs_all = decs_voids\n",
    "\n",
    "maps = \"data/IRIS_nohole_2_2048_v2.fits\"\n",
    "beam=10\n",
    "map_pix = import_map(maps, int(beam))\n",
    "\n",
    "outputs = \"output/510u/iv25.csv\"\n",
    "outputs2 = \"output/510u/iv25_r.csv\"\n",
    "\n",
    "signal, signal_ring, ras_used, decs_used = extract_intensity(map_pix, ras_all, decs_all, beam)\n",
    "output_signal(signal, signal_ring, outputs, outputs2)"
   ]
  },
  {
   "cell_type": "code",
   "execution_count": 164,
   "id": "39955440",
   "metadata": {},
   "outputs": [
    {
     "name": "stdout",
     "output_type": "stream",
     "text": [
      "Preparing SHT\n",
      "T -> alm\n",
      "float64 complex128\n",
      "Computing pixel positions\n",
      "Computing rotated positions\n",
      "Projecting\n"
     ]
    },
    {
     "name": "stderr",
     "output_type": "stream",
     "text": [
      "100%|█████████████████████████████████████| 47231/47231 [08:16<00:00, 95.09it/s]\n"
     ]
    }
   ],
   "source": [
    "voids = pd.read_csv('data/voids.csv',skiprows=0,index_col=0)\n",
    "ras_voids = voids['ras'].reset_index(drop=True)\n",
    "decs_voids = voids['decs'].reset_index(drop=True)\n",
    "\n",
    "ras_all = ras_voids\n",
    "decs_all = decs_voids\n",
    "\n",
    "maps = \"data/IRIS_nohole_3_2048_v2.fits\"\n",
    "beam=10\n",
    "map_pix = import_map(maps, int(beam))\n",
    "\n",
    "outputs = \"output/510u/iv60.csv\"\n",
    "outputs2 = \"output/510u/iv60_r.csv\"\n",
    "\n",
    "signal, signal_ring, ras_used, decs_used = extract_intensity(map_pix, ras_all, decs_all, beam)\n",
    "output_signal(signal, signal_ring, outputs, outputs2)"
   ]
  },
  {
   "cell_type": "code",
   "execution_count": 165,
   "id": "d28fdc6b",
   "metadata": {},
   "outputs": [
    {
     "name": "stdout",
     "output_type": "stream",
     "text": [
      "Preparing SHT\n",
      "T -> alm\n",
      "float64 complex128\n",
      "Computing pixel positions\n",
      "Computing rotated positions\n",
      "Projecting\n"
     ]
    },
    {
     "name": "stderr",
     "output_type": "stream",
     "text": [
      "100%|████████████████████████████████████| 47231/47231 [07:19<00:00, 107.41it/s]\n"
     ]
    }
   ],
   "source": [
    "voids = pd.read_csv('data/voids.csv',skiprows=0,index_col=0) \n",
    "ras_voids = voids['ras'].reset_index(drop=True)\n",
    "decs_voids = voids['decs'].reset_index(drop=True)\n",
    "\n",
    "ras_all = ras_voids\n",
    "decs_all = decs_voids\n",
    "\n",
    "maps = \"data/IRIS_nohole_4_2048_v2.fits\"\n",
    "beam=10\n",
    "map_pix = import_map(maps, int(beam))\n",
    "\n",
    "outputs = \"output/510u/iv100.csv\"\n",
    "outputs2 = \"output/510u/iv100_r.csv\"\n",
    "\n",
    "signal, signal_ring, ras_used, decs_used = extract_intensity(map_pix, ras_all, decs_all, beam)\n",
    "output_signal(signal, signal_ring, outputs, outputs2)"
   ]
  },
  {
   "cell_type": "code",
   "execution_count": 166,
   "id": "7683458e",
   "metadata": {},
   "outputs": [],
   "source": [
    "ras = []\n",
    "decs = []\n",
    "for ra in np.linspace(0,5,200):\n",
    "    for dec in np.linspace(0,5,200):\n",
    "        ras.append(ra)\n",
    "        decs.append(dec)"
   ]
  },
  {
   "cell_type": "markdown",
   "id": "0db31942",
   "metadata": {},
   "source": [
    "## Planck"
   ]
  },
  {
   "cell_type": "markdown",
   "id": "e2186534",
   "metadata": {},
   "source": [
    "### Real"
   ]
  },
  {
   "cell_type": "code",
   "execution_count": 4,
   "id": "dc2c4a5c",
   "metadata": {},
   "outputs": [],
   "source": [
    "def import_map(filepath, beam):\n",
    "    pl = hp.read_map(filepath)\n",
    "    pl[pl<-1e23]=0\n",
    "    try:\n",
    "        shape,wcs = enmap.fullsky_geometry(res=int(beam)*utils.arcmin,proj='car')\n",
    "        map_pix = reproject.enmap_from_healpix(pl,shape=shape,wcs=wcs)\n",
    "    except:\n",
    "        shape,wcs = enmap.fullsky_geometry(res=int(beam+1)*utils.arcmin,proj='car')\n",
    "        map_pix = reproject.enmap_from_healpix(pl,shape=shape,wcs=wcs)\n",
    "    return map_pix\n",
    "\n",
    "\n",
    "def extract_intensity(map_pix, ras, decs, beam):\n",
    "    N = len(ras)\n",
    "    stack_CMB_kSZ           = 0\n",
    "    stack_CMB_kSZ_deproject = 0\n",
    "    c = 0\n",
    "\n",
    "    signal = []\n",
    "    signal_ring = []\n",
    "    ras_used = []\n",
    "    decs_used = []\n",
    "    for i in tqdm(range(N)):\n",
    "        stamp = reproject.thumbnails(map_pix,coords = np.deg2rad([decs[i], ras[i]]),r=beam*utils.arcmin)\n",
    "        stamp2 = reproject.thumbnails(map_pix,coords = np.deg2rad([decs[i], ras[i]]),r=beam*2*utils.arcmin)\n",
    "\n",
    "        if stamp is None:\n",
    "            signal.append(-9999)\n",
    "        elif stamp[0][0][0]==0.0:\n",
    "            signal.append(-9999)\n",
    "        else:\n",
    "            signal_sum = sum(sum(stamp[0]))\n",
    "            signal2_sum = sum(sum(stamp2[0]))\n",
    "            num_pix_signal = len(stamp[0][0])*len(stamp[0][0])\n",
    "            num_pix_signal2 = len(stamp2[0][0])*len(stamp2[0][0])            \n",
    "            signal.append(signal_sum/num_pix_signal)\n",
    "            signal_ring.append((signal2_sum-signal_sum)/(num_pix_signal2-num_pix_signal))\n",
    "        ras_used.append(ras[i])\n",
    "        decs_used.append(decs[i])\n",
    "\n",
    "    return signal, signal_ring, ras_used, decs_used\n",
    "\n",
    "\n",
    "def output_signal(signal,signal_ring,output_fp,output_fp_signal):\n",
    "    np.savetxt(output_fp,\n",
    "               signal,\n",
    "               delimiter=\", \",\n",
    "               fmt='% s')\n",
    "    np.savetxt(output_fp_signal,\n",
    "               signal_ring,\n",
    "               delimiter=\", \",\n",
    "               fmt='% s')"
   ]
  },
  {
   "cell_type": "code",
   "execution_count": 8,
   "id": "be827061",
   "metadata": {},
   "outputs": [
    {
     "name": "stdout",
     "output_type": "stream",
     "text": [
      "Preparing SHT\n",
      "T -> alm\n",
      "float64 complex128\n",
      "Computing pixel positions\n",
      "Computing rotated positions\n",
      "Projecting\n"
     ]
    },
    {
     "name": "stderr",
     "output_type": "stream",
     "text": [
      "100%|████████████████████████████████████| 36908/36908 [05:28<00:00, 112.31it/s]\n"
     ]
    }
   ],
   "source": [
    "real = pd.read_csv('data/union.csv',skiprows=0,index_col=0)\n",
    "ras_real = real['amf_ra'][::20].reset_index(drop=True)\n",
    "decs_real = real['amf_dec'][::20].reset_index(drop=True)\n",
    "\n",
    "ras_all = ras_real\n",
    "decs_all = decs_real\n",
    "\n",
    "maps = \"data/HFI_SkyMap_100-field-IQU_2048_R3.00_full.fits\"\n",
    "beam = 10\n",
    "map_pix = import_map(maps, int(beam))\n",
    "\n",
    "outputs = \"output/510u/pr100.csv\"\n",
    "outputs2 = \"output/510u/pr100_r.csv\"\n",
    "\n",
    "signal, signal_ring, ras_used, decs_used = extract_intensity(map_pix, ras_all, decs_all, beam)\n",
    "output_signal(signal, signal_ring, outputs, outputs2)"
   ]
  },
  {
   "cell_type": "code",
   "execution_count": 9,
   "id": "470d5268",
   "metadata": {},
   "outputs": [
    {
     "name": "stdout",
     "output_type": "stream",
     "text": [
      "Preparing SHT\n",
      "T -> alm\n",
      "float64 complex128\n",
      "Computing pixel positions\n",
      "Computing rotated positions\n",
      "Projecting\n"
     ]
    },
    {
     "name": "stderr",
     "output_type": "stream",
     "text": [
      "100%|████████████████████████████████████| 36908/36908 [05:44<00:00, 107.15it/s]\n"
     ]
    }
   ],
   "source": [
    "real = pd.read_csv('data/union.csv',skiprows=0,index_col=0)\n",
    "ras_real = real['amf_ra'][::20].reset_index(drop=True)\n",
    "decs_real = real['amf_dec'][::20].reset_index(drop=True)\n",
    "\n",
    "ras_all = ras_real\n",
    "decs_all = decs_real\n",
    "\n",
    "maps = \"data/HFI_SkyMap_143-field-IQU_2048_R3.00_full.fits\"\n",
    "beam = 10\n",
    "map_pix = import_map(maps, int(beam))\n",
    "\n",
    "outputs = \"output/510u/pr143.csv\"\n",
    "outputs2 = \"output/510u/pr143_r.csv\"\n",
    "\n",
    "signal, signal_ring, ras_used, decs_used = extract_intensity(map_pix, ras_all, decs_all, beam)\n",
    "output_signal(signal, signal_ring, outputs, outputs2)"
   ]
  },
  {
   "cell_type": "code",
   "execution_count": 10,
   "id": "75eb3af7",
   "metadata": {},
   "outputs": [
    {
     "name": "stdout",
     "output_type": "stream",
     "text": [
      "Preparing SHT\n",
      "T -> alm\n",
      "float64 complex128\n",
      "Computing pixel positions\n",
      "Computing rotated positions\n",
      "Projecting\n"
     ]
    },
    {
     "name": "stderr",
     "output_type": "stream",
     "text": [
      "100%|████████████████████████████████████| 36908/36908 [05:26<00:00, 113.11it/s]\n"
     ]
    }
   ],
   "source": [
    "real = pd.read_csv('data/union.csv',skiprows=0,index_col=0)\n",
    "ras_real = real['amf_ra'][::20].reset_index(drop=True)\n",
    "decs_real = real['amf_dec'][::20].reset_index(drop=True)\n",
    "\n",
    "ras_all = ras_real\n",
    "decs_all = decs_real\n",
    "\n",
    "maps = \"data/HFI_SkyMap_217-field-IQU_2048_R3.00_full.fits\"\n",
    "beam = 10\n",
    "map_pix = import_map(maps, int(beam))\n",
    "\n",
    "outputs = \"output/510u/pr217.csv\"\n",
    "outputs2 = \"output/510u/pr217_r.csv\"\n",
    "\n",
    "signal, signal_ring, ras_used, decs_used = extract_intensity(map_pix, ras_all, decs_all, beam)\n",
    "output_signal(signal, signal_ring, outputs, outputs2)"
   ]
  },
  {
   "cell_type": "code",
   "execution_count": 11,
   "id": "4bedeb40",
   "metadata": {},
   "outputs": [
    {
     "name": "stdout",
     "output_type": "stream",
     "text": [
      "Preparing SHT\n",
      "T -> alm\n",
      "float64 complex128\n",
      "Computing pixel positions\n",
      "Computing rotated positions\n",
      "Projecting\n"
     ]
    },
    {
     "name": "stderr",
     "output_type": "stream",
     "text": [
      "100%|████████████████████████████████████| 36908/36908 [05:34<00:00, 110.38it/s]\n"
     ]
    }
   ],
   "source": [
    "real = pd.read_csv('data/union.csv',skiprows=0,index_col=0)\n",
    "ras_real = real['amf_ra'][::20].reset_index(drop=True)\n",
    "decs_real = real['amf_dec'][::20].reset_index(drop=True)\n",
    "\n",
    "ras_all = ras_real\n",
    "decs_all = decs_real\n",
    "\n",
    "maps = \"data/HFI_SkyMap_353-psb-field-IQU_2048_R3.00_full.fits\"\n",
    "beam = 10\n",
    "map_pix = import_map(maps, int(beam))\n",
    "\n",
    "outputs = \"output/510u/pr353.csv\"\n",
    "outputs2 = \"output/510u/pr353_r.csv\"\n",
    "\n",
    "signal, signal_ring, ras_used, decs_used = extract_intensity(map_pix, ras_all, decs_all, beam)\n",
    "output_signal(signal, signal_ring, outputs, outputs2)"
   ]
  },
  {
   "cell_type": "code",
   "execution_count": 12,
   "id": "231389e2",
   "metadata": {},
   "outputs": [],
   "source": [
    "def extract_intensity(map_pix, ras, decs, beam):\n",
    "    N = len(ras)\n",
    "    stack_CMB_kSZ           = 0\n",
    "    stack_CMB_kSZ_deproject = 0\n",
    "    c = 0\n",
    "\n",
    "    signal = []\n",
    "    signal_ring = []\n",
    "    ras_used = []\n",
    "    decs_used = []\n",
    "    for i in range(N):\n",
    "        dust = reproject.thumbnails(map_pix,coords = np.deg2rad([decs[i], ras[i]]),r=30*utils.arcmin)\n",
    "        stamp = reproject.thumbnails(map_pix,coords = np.deg2rad([decs[i], ras[i]]),r=beam*utils.arcmin)\n",
    "        stamp2 = reproject.thumbnails(map_pix,coords = np.deg2rad([decs[i], ras[i]]),r=2*beam*utils.arcmin)\n",
    "\n",
    "        if stamp is None:\n",
    "            signal.append(-9999)\n",
    "        elif stamp[0][0][0]==0.0:\n",
    "            signal.append(-9999)\n",
    "        elif dust is None:\n",
    "            signal.append(-9999)\n",
    "        elif dust[0][0][0]==0.0:\n",
    "            signal.append(-9999)\n",
    "        else:\n",
    "            dust_sum = sum(sum(dust[0]))\n",
    "            num_pix_dust = len(dust[0][0])*len(dust[0][0])\n",
    "            signal_sum = sum(sum(stamp[0]))\n",
    "            num_pix_signal = len(stamp[0][0])*len(stamp[0][0])\n",
    "            signal2_sum = sum(sum(stamp2[0]))\n",
    "            num_pix_signal2 = len(stamp2[0][0])*len(stamp2[0][0])            \n",
    "                        \n",
    "            signal.append((signal_sum/num_pix_signal)-(dust_sum/num_pix_dust))\n",
    "            signal_ring.append(((signal2_sum-signal_sum)/(num_pix_signal2-num_pix_signal))-(dust_sum/num_pix_dust))\n",
    "            \n",
    "        ras_used.append(ras[i])\n",
    "        decs_used.append(decs[i])\n",
    "\n",
    "    return signal, signal_ring, ras_used, decs_used"
   ]
  },
  {
   "cell_type": "code",
   "execution_count": 13,
   "id": "1ecf0347",
   "metadata": {},
   "outputs": [
    {
     "name": "stdout",
     "output_type": "stream",
     "text": [
      "Preparing SHT\n",
      "T -> alm\n",
      "float64 complex128\n",
      "Computing pixel positions\n",
      "Computing rotated positions\n",
      "Projecting\n"
     ]
    }
   ],
   "source": [
    "real = pd.read_csv('data/union.csv',skiprows=0,index_col=0)\n",
    "ras_real = real['amf_ra'][::20].reset_index(drop=True)\n",
    "decs_real = real['amf_dec'][::20].reset_index(drop=True)\n",
    "\n",
    "ras_all = ras_real\n",
    "decs_all = decs_real\n",
    "\n",
    "maps = \"data/HFI_SkyMap_545-field-Int_2048_R3.00_full.fits\"\n",
    "beam = 10\n",
    "map_pix = import_map(maps, int(beam))\n",
    "\n",
    "outputs = \"output/510u/pr545.csv\"\n",
    "outputs2 = \"output/510u/pr545_r.csv\"\n",
    "\n",
    "signal, signal_ring, ras_used, decs_used = extract_intensity(map_pix, ras_all, decs_all, beam)\n",
    "output_signal(signal, signal_ring, outputs, outputs2)"
   ]
  },
  {
   "cell_type": "code",
   "execution_count": 14,
   "id": "5e02427c",
   "metadata": {},
   "outputs": [
    {
     "name": "stdout",
     "output_type": "stream",
     "text": [
      "Preparing SHT\n",
      "T -> alm\n",
      "float64 complex128\n",
      "Computing pixel positions\n",
      "Computing rotated positions\n",
      "Projecting\n"
     ]
    }
   ],
   "source": [
    "real = pd.read_csv('data/union.csv',skiprows=0,index_col=0)\n",
    "ras_real = real['amf_ra'][::20].reset_index(drop=True)\n",
    "decs_real = real['amf_dec'][::20].reset_index(drop=True)\n",
    "\n",
    "ras_all = ras_real\n",
    "decs_all = decs_real\n",
    "\n",
    "maps = \"data/HFI_SkyMap_857-field-Int_2048_R3.00_full.fits\"\n",
    "beam = 10\n",
    "map_pix = import_map(maps, int(beam))\n",
    "\n",
    "outputs = \"output/510u/pr857.csv\"\n",
    "outputs2 = \"output/510u/pr857_r.csv\"\n",
    "\n",
    "signal, signal_ring, ras_used, decs_used = extract_intensity(map_pix, ras_all, decs_all, beam)\n",
    "output_signal(signal, signal_ring, outputs, outputs2)"
   ]
  },
  {
   "cell_type": "markdown",
   "id": "7b230279",
   "metadata": {},
   "source": [
    "### Non-clusters"
   ]
  },
  {
   "cell_type": "code",
   "execution_count": 15,
   "id": "0bf0ce28",
   "metadata": {},
   "outputs": [],
   "source": [
    "def import_map(filepath, beam):\n",
    "    pl = hp.read_map(filepath)\n",
    "    pl[pl<-1e23]=0\n",
    "    try:\n",
    "        shape,wcs = enmap.fullsky_geometry(res=int(beam)*utils.arcmin,proj='car')\n",
    "        map_pix = reproject.enmap_from_healpix(pl,shape=shape,wcs=wcs)\n",
    "    except:\n",
    "        shape,wcs = enmap.fullsky_geometry(res=int(beam+1)*utils.arcmin,proj='car')\n",
    "        map_pix = reproject.enmap_from_healpix(pl,shape=shape,wcs=wcs)\n",
    "    return map_pix\n",
    "\n",
    "\n",
    "def extract_intensity(map_pix, ras, decs, beam):\n",
    "    N = len(ras)\n",
    "    stack_CMB_kSZ           = 0\n",
    "    stack_CMB_kSZ_deproject = 0\n",
    "    c = 0\n",
    "\n",
    "    signal = []\n",
    "    signal_ring = []\n",
    "    ras_used = []\n",
    "    decs_used = []\n",
    "    for i in range(N):\n",
    "        stamp = reproject.thumbnails(map_pix,coords = np.deg2rad([decs[i], ras[i]]),r=beam*utils.arcmin)\n",
    "        stamp2 = reproject.thumbnails(map_pix,coords = np.deg2rad([decs[i], ras[i]]),r=beam*2*utils.arcmin)\n",
    "\n",
    "        if stamp is None:\n",
    "            signal.append(-9999)\n",
    "        elif stamp[0][0][0]==0.0:\n",
    "            signal.append(-9999)\n",
    "        else:\n",
    "            signal_sum = sum(sum(stamp[0]))\n",
    "            signal2_sum = sum(sum(stamp2[0]))\n",
    "            num_pix_signal = len(stamp[0][0])*len(stamp[0][0])\n",
    "            num_pix_signal2 = len(stamp2[0][0])*len(stamp2[0][0])            \n",
    "            signal.append(signal_sum/num_pix_signal)\n",
    "            signal_ring.append((signal2_sum-signal_sum)/(num_pix_signal2-num_pix_signal))\n",
    "        ras_used.append(ras[i])\n",
    "        decs_used.append(decs[i])\n",
    "\n",
    "    return signal, signal_ring, ras_used, decs_used\n",
    "\n",
    "\n",
    "def output_signal(signal,signal_ring,output_fp,output_fp_signal):\n",
    "    np.savetxt(output_fp,\n",
    "               signal,\n",
    "               delimiter=\", \",\n",
    "               fmt='% s')\n",
    "    np.savetxt(output_fp_signal,\n",
    "               signal_ring,\n",
    "               delimiter=\", \",\n",
    "               fmt='% s')"
   ]
  },
  {
   "cell_type": "code",
   "execution_count": 16,
   "id": "83e08a71",
   "metadata": {},
   "outputs": [
    {
     "name": "stdout",
     "output_type": "stream",
     "text": [
      "Preparing SHT\n",
      "T -> alm\n",
      "float64 complex128\n",
      "Computing pixel positions\n",
      "Computing rotated positions\n",
      "Projecting\n"
     ]
    },
    {
     "name": "stderr",
     "output_type": "stream",
     "text": [
      "\n",
      "KeyboardInterrupt\n",
      "\n"
     ]
    }
   ],
   "source": [
    "voids = pd.read_csv('data/voids.csv',skiprows=0,index_col=0)\n",
    "ras_voids = voids['ras'].reset_index(drop=True)\n",
    "decs_voids = voids['decs'].reset_index(drop=True)\n",
    "\n",
    "ras_all = ras_voids\n",
    "decs_all = decs_voids\n",
    "\n",
    "maps = \"data/HFI_SkyMap_100-field-IQU_2048_R3.00_full.fits\"\n",
    "beam = 10\n",
    "map_pix = import_map(maps, int(beam))\n",
    "\n",
    "outputs = \"output/510u/pv100.csv\"\n",
    "outputs2 = \"output/510u/pv100_r.csv\"\n",
    "\n",
    "signal, signal_ring, ras_used, decs_used = extract_intensity(map_pix, ras_all, decs_all, beam)\n",
    "output_signal(signal, signal_ring, outputs, outputs2)"
   ]
  },
  {
   "cell_type": "code",
   "execution_count": null,
   "id": "27b843a2",
   "metadata": {},
   "outputs": [],
   "source": [
    "voids = pd.read_csv('data/voids.csv',skiprows=0,index_col=0)\n",
    "ras_voids = voids['ras'].reset_index(drop=True)\n",
    "decs_voids = voids['decs'].reset_index(drop=True)\n",
    "\n",
    "ras_all = ras_voids\n",
    "decs_all = decs_voids\n",
    "\n",
    "maps = \"data/HFI_SkyMap_143-field-IQU_2048_R3.00_full.fits\"\n",
    "beam = 10\n",
    "map_pix = import_map(maps, int(beam))\n",
    "\n",
    "outputs = \"output/510u/pv143.csv\"\n",
    "outputs2 = \"output/510u/pv143_r.csv\"\n",
    "\n",
    "signal, signal_ring, ras_used, decs_used = extract_intensity(map_pix, ras_all, decs_all, beam)\n",
    "output_signal(signal, signal_ring, outputs, outputs2)"
   ]
  },
  {
   "cell_type": "code",
   "execution_count": null,
   "id": "ecf0031a",
   "metadata": {},
   "outputs": [],
   "source": [
    "voids = pd.read_csv('data/voids.csv',skiprows=0,index_col=0)\n",
    "ras_voids = voids['ras'].reset_index(drop=True)\n",
    "decs_voids = voids['decs'].reset_index(drop=True)\n",
    "\n",
    "ras_all = ras_voids\n",
    "decs_all = decs_voids\n",
    "\n",
    "maps = \"data/HFI_SkyMap_217-field-IQU_2048_R3.00_full.fits\"\n",
    "beam = 10\n",
    "map_pix = import_map(maps, int(beam))\n",
    "\n",
    "outputs = \"output/510u/pv217.csv\"\n",
    "outputs2 = \"output/510u/pv217_r.csv\"\n",
    "\n",
    "signal, signal_ring, ras_used, decs_used = extract_intensity(map_pix, ras_all, decs_all, beam)\n",
    "output_signal(signal, signal_ring, outputs, outputs2)"
   ]
  },
  {
   "cell_type": "code",
   "execution_count": null,
   "id": "128f8af0",
   "metadata": {},
   "outputs": [],
   "source": [
    "voids = pd.read_csv('data/voids.csv',skiprows=0,index_col=0)\n",
    "ras_voids = voids['ras'].reset_index(drop=True)\n",
    "decs_voids = voids['decs'].reset_index(drop=True)\n",
    "\n",
    "ras_all = ras_voids\n",
    "decs_all = decs_voids\n",
    "\n",
    "maps = \"data/HFI_SkyMap_353-psb-field-IQU_2048_R3.00_full.fits\"\n",
    "beam = 10\n",
    "map_pix = import_map(maps, int(beam))\n",
    "\n",
    "outputs = \"output/510u/pv353.csv\"\n",
    "outputs2 = \"output/510u/pv353_r.csv\"\n",
    "\n",
    "signal, signal_ring, ras_used, decs_used = extract_intensity(map_pix, ras_all, decs_all, beam)\n",
    "output_signal(signal, signal_ring, outputs, outputs2)"
   ]
  },
  {
   "cell_type": "code",
   "execution_count": null,
   "id": "2bfece4e",
   "metadata": {},
   "outputs": [],
   "source": [
    "def extract_intensity(map_pix, ras, decs, beam):\n",
    "    N = len(ras)\n",
    "    stack_CMB_kSZ           = 0\n",
    "    stack_CMB_kSZ_deproject = 0\n",
    "    c = 0\n",
    "\n",
    "    signal = []\n",
    "    signal_ring = []\n",
    "    ras_used = []\n",
    "    decs_used = []\n",
    "    for i in range(N):\n",
    "        dust = reproject.thumbnails(map_pix,coords = np.deg2rad([decs[i], ras[i]]),r=30*utils.arcmin)\n",
    "        stamp = reproject.thumbnails(map_pix,coords = np.deg2rad([decs[i], ras[i]]),r=beam*utils.arcmin)\n",
    "        stamp2 = reproject.thumbnails(map_pix,coords = np.deg2rad([decs[i], ras[i]]),r=2*beam*utils.arcmin)\n",
    "\n",
    "        if stamp is None:\n",
    "            signal.append(-9999)\n",
    "        elif stamp[0][0][0]==0.0:\n",
    "            signal.append(-9999)\n",
    "        elif dust is None:\n",
    "            signal.append(-9999)\n",
    "        elif dust[0][0][0]==0.0:\n",
    "            signal.append(-9999)\n",
    "        else:\n",
    "            dust_sum = sum(sum(dust[0]))\n",
    "            num_pix_dust = len(dust[0][0])*len(dust[0][0])\n",
    "            signal_sum = sum(sum(stamp[0]))\n",
    "            num_pix_signal = len(stamp[0][0])*len(stamp[0][0])\n",
    "            signal2_sum = sum(sum(stamp2[0]))\n",
    "            num_pix_signal2 = len(stamp2[0][0])*len(stamp2[0][0])            \n",
    "                        \n",
    "            signal.append((signal_sum/num_pix_signal)-(dust_sum/num_pix_dust))\n",
    "            signal_ring.append(((signal2_sum-signal_sum)/(num_pix_signal2-num_pix_signal))-(dust_sum/num_pix_dust))\n",
    "            \n",
    "        ras_used.append(ras[i])\n",
    "        decs_used.append(decs[i])\n",
    "\n",
    "    return signal, signal_ring, ras_used, decs_used"
   ]
  },
  {
   "cell_type": "code",
   "execution_count": null,
   "id": "1c536d4c",
   "metadata": {},
   "outputs": [],
   "source": [
    "voids = pd.read_csv('data/voids.csv',skiprows=0,index_col=0)\n",
    "ras_voids = voids['ras'].reset_index(drop=True)\n",
    "decs_voids = voids['decs'].reset_index(drop=True)\n",
    "\n",
    "ras_all = ras_voids\n",
    "decs_all = decs_voids\n",
    "\n",
    "maps = \"data/HFI_SkyMap_545-field-Int_2048_R3.00_full.fits\"\n",
    "beam = 10\n",
    "map_pix = import_map(maps, int(beam))\n",
    "\n",
    "outputs = \"output/510u/pv545.csv\"\n",
    "outputs2 = \"output/510u/pv545_r.csv\"\n",
    "\n",
    "signal, signal_ring, ras_used, decs_used = extract_intensity(map_pix, ras_all, decs_all, beam)\n",
    "output_signal(signal, signal_ring, outputs, outputs2)"
   ]
  },
  {
   "cell_type": "code",
   "execution_count": null,
   "id": "e0d17a30",
   "metadata": {},
   "outputs": [],
   "source": [
    "voids = pd.read_csv('data/voids.csv',skiprows=0,index_col=0)\n",
    "ras_voids = voids['ras'].reset_index(drop=True)\n",
    "decs_voids = voids['decs'].reset_index(drop=True)\n",
    "\n",
    "ras_all = ras_voids\n",
    "decs_all = decs_voids\n",
    "\n",
    "maps = \"data/HFI_SkyMap_857-field-Int_2048_R3.00_full.fits\"\n",
    "beam = 10\n",
    "map_pix = import_map(maps, int(beam))\n",
    "\n",
    "outputs = \"output/510u/pv857.csv\"\n",
    "outputs2 = \"output/510u/pv857_r.csv\"\n",
    "\n",
    "signal, signal_ring, ras_used, decs_used = extract_intensity(map_pix, ras_all, decs_all, beam)\n",
    "output_signal(signal, signal_ring, outputs, outputs2)"
   ]
  },
  {
   "cell_type": "markdown",
   "id": "55c48d8a",
   "metadata": {},
   "source": [
    "---"
   ]
  },
  {
   "cell_type": "markdown",
   "id": "9fed9586",
   "metadata": {},
   "source": [
    "### Fullsky"
   ]
  },
  {
   "cell_type": "code",
   "execution_count": 167,
   "id": "bc401343",
   "metadata": {},
   "outputs": [],
   "source": [
    "def import_map(filepath, beam):\n",
    "    pl = hp.read_map(filepath)\n",
    "    pl[pl<-1e23]=0\n",
    "    try:\n",
    "        shape,wcs = enmap.fullsky_geometry(res=int(beam)*utils.arcmin,proj='car')\n",
    "        map_pix = reproject.enmap_from_healpix(pl,shape=shape,wcs=wcs)\n",
    "    except:\n",
    "        shape,wcs = enmap.fullsky_geometry(res=int(beam+1)*utils.arcmin,proj='car')\n",
    "        map_pix = reproject.enmap_from_healpix(pl,shape=shape,wcs=wcs)\n",
    "    return map_pix\n",
    "\n",
    "\n",
    "def extract_intensity(map_pix, ras, decs, beam):\n",
    "    N = len(ras)\n",
    "    stack_CMB_kSZ           = 0\n",
    "    stack_CMB_kSZ_deproject = 0\n",
    "    c = 0\n",
    "\n",
    "    signal = []\n",
    "    signal_ring = []\n",
    "    ras_used = []\n",
    "    decs_used = []\n",
    "    for i in tqdm(range(N)):\n",
    "        stamp = reproject.thumbnails(map_pix,coords = np.deg2rad([decs[i], ras[i]]),r=beam*utils.arcmin)\n",
    "        stamp2 = reproject.thumbnails(map_pix,coords = np.deg2rad([decs[i], ras[i]]),r=beam*2*utils.arcmin)\n",
    "\n",
    "        if stamp is None:\n",
    "            signal.append(-9999)\n",
    "        elif stamp[0][0][0]==0.0:\n",
    "            signal.append(-9999)\n",
    "        else:\n",
    "            signal_sum = sum(sum(stamp[0]))\n",
    "            signal2_sum = sum(sum(stamp2[0]))\n",
    "            num_pix_signal = len(stamp[0][0])*len(stamp[0][0])\n",
    "            num_pix_signal2 = len(stamp2[0][0])*len(stamp2[0][0])            \n",
    "            signal.append(signal_sum/num_pix_signal)\n",
    "            signal_ring.append((signal2_sum-signal_sum)/(num_pix_signal2-num_pix_signal))\n",
    "        ras_used.append(ras[i])\n",
    "        decs_used.append(decs[i])\n",
    "\n",
    "    return signal, signal_ring, ras_used, decs_used\n",
    "\n",
    "\n",
    "def output_signal(signal,signal_ring,output_fp,output_fp_signal):\n",
    "    np.savetxt(output_fp,\n",
    "               signal,\n",
    "               delimiter=\", \",\n",
    "               fmt='% s')\n",
    "    np.savetxt(output_fp_signal,\n",
    "               signal_ring,\n",
    "               delimiter=\", \",\n",
    "               fmt='% s')"
   ]
  },
  {
   "cell_type": "code",
   "execution_count": 168,
   "id": "bc97ebe2",
   "metadata": {},
   "outputs": [
    {
     "name": "stdout",
     "output_type": "stream",
     "text": [
      "Preparing SHT\n",
      "T -> alm\n",
      "float64 complex128\n",
      "Computing pixel positions\n",
      "Computing rotated positions\n",
      "Projecting\n"
     ]
    },
    {
     "name": "stderr",
     "output_type": "stream",
     "text": [
      "100%|████████████████████████████████████| 40000/40000 [06:12<00:00, 107.45it/s]\n"
     ]
    }
   ],
   "source": [
    "ras_fsky = pd.read_csv('data/full_sky_ras.csv').reset_index(drop=True)\n",
    "decs_fsky = pd.read_csv('data/full_sky_decs.csv').reset_index(drop=True)\n",
    "\n",
    "ras_all = np.array(ras)#np.array(ras)#ras_fsky['ras'].values\n",
    "decs_all = np.array(decs)#decs_fsky['decs'].values\n",
    "\n",
    "maps = \"data/HFI_SkyMap_100-field-IQU_2048_R3.00_full.fits\"\n",
    "beam = 10\n",
    "map_pix = import_map(maps, int(beam))\n",
    "\n",
    "outputs = \"output/510u/pf100.csv\"\n",
    "outputs2 = \"output/510u/pf100_r.csv\"\n",
    "\n",
    "signal, signal_ring, ras_used, decs_used = extract_intensity(map_pix, ras_all, decs_all, beam)\n",
    "output_signal(signal, signal_ring, outputs, outputs2)"
   ]
  },
  {
   "cell_type": "code",
   "execution_count": 169,
   "id": "ae6a7dd5",
   "metadata": {},
   "outputs": [
    {
     "name": "stdout",
     "output_type": "stream",
     "text": [
      "Preparing SHT\n",
      "T -> alm\n",
      "float64 complex128\n",
      "Computing pixel positions\n",
      "Computing rotated positions\n",
      "Projecting\n"
     ]
    },
    {
     "name": "stderr",
     "output_type": "stream",
     "text": [
      "100%|████████████████████████████████████| 40000/40000 [06:01<00:00, 110.68it/s]\n"
     ]
    }
   ],
   "source": [
    "ras_fsky = pd.read_csv('data/full_sky_ras.csv').reset_index(drop=True)\n",
    "decs_fsky = pd.read_csv('data/full_sky_decs.csv').reset_index(drop=True)\n",
    "\n",
    "ras_all = np.array(ras)#np.array(ras)#ras_fsky['ras'].values\n",
    "decs_all = np.array(decs)#decs_fsky['decs'].values\n",
    "\n",
    "maps = \"data/HFI_SkyMap_143-field-IQU_2048_R3.00_full.fits\"\n",
    "beam = 10\n",
    "map_pix = import_map(maps, int(beam))\n",
    "\n",
    "outputs = \"output/510u/pf143.csv\"\n",
    "outputs2 = \"output/510u/pf143_r.csv\"\n",
    "\n",
    "signal, signal_ring, ras_used, decs_used = extract_intensity(map_pix, ras_all, decs_all, beam)\n",
    "output_signal(signal, signal_ring, outputs, outputs2)"
   ]
  },
  {
   "cell_type": "code",
   "execution_count": 170,
   "id": "1963ab44",
   "metadata": {},
   "outputs": [
    {
     "name": "stdout",
     "output_type": "stream",
     "text": [
      "Preparing SHT\n",
      "T -> alm\n",
      "float64 complex128\n",
      "Computing pixel positions\n",
      "Computing rotated positions\n",
      "Projecting\n"
     ]
    },
    {
     "name": "stderr",
     "output_type": "stream",
     "text": [
      "100%|████████████████████████████████████| 40000/40000 [06:02<00:00, 110.35it/s]\n"
     ]
    }
   ],
   "source": [
    "ras_fsky = pd.read_csv('data/full_sky_ras.csv').reset_index(drop=True)\n",
    "decs_fsky = pd.read_csv('data/full_sky_decs.csv').reset_index(drop=True)\n",
    "\n",
    "ras_all = np.array(ras)#np.array(ras)#ras_fsky['ras'].values\n",
    "decs_all = np.array(decs)#decs_fsky['decs'].values\n",
    "\n",
    "maps = \"data/HFI_SkyMap_217-field-IQU_2048_R3.00_full.fits\"\n",
    "beam = 10\n",
    "map_pix = import_map(maps, int(beam))\n",
    "\n",
    "outputs = \"output/510u/pf217.csv\"\n",
    "outputs2 = \"output/510u/pf217_r.csv\"\n",
    "\n",
    "signal, signal_ring, ras_used, decs_used = extract_intensity(map_pix, ras_all, decs_all, beam)\n",
    "output_signal(signal, signal_ring, outputs, outputs2)"
   ]
  },
  {
   "cell_type": "code",
   "execution_count": 171,
   "id": "c9dfb0a3",
   "metadata": {},
   "outputs": [
    {
     "name": "stdout",
     "output_type": "stream",
     "text": [
      "Preparing SHT\n",
      "T -> alm\n",
      "float64 complex128\n",
      "Computing pixel positions\n",
      "Computing rotated positions\n",
      "Projecting\n"
     ]
    },
    {
     "name": "stderr",
     "output_type": "stream",
     "text": [
      "100%|████████████████████████████████████| 40000/40000 [06:18<00:00, 105.55it/s]\n"
     ]
    }
   ],
   "source": [
    "ras_fsky = pd.read_csv('data/full_sky_ras.csv').reset_index(drop=True)\n",
    "decs_fsky = pd.read_csv('data/full_sky_decs.csv').reset_index(drop=True)\n",
    "\n",
    "ras_all = np.array(ras)#np.array(ras)#ras_fsky['ras'].values\n",
    "decs_all = np.array(decs)#decs_fsky['decs'].values\n",
    "\n",
    "maps = \"data/HFI_SkyMap_353-psb-field-IQU_2048_R3.00_full.fits\"\n",
    "beam = 10\n",
    "map_pix = import_map(maps, int(beam))\n",
    "\n",
    "outputs = \"output/510u/pf353.csv\"\n",
    "outputs2 = \"output/510u/pf353_r.csv\"\n",
    "\n",
    "signal, signal_ring, ras_used, decs_used = extract_intensity(map_pix, ras_all, decs_all, beam)\n",
    "output_signal(signal, signal_ring, outputs, outputs2)"
   ]
  },
  {
   "cell_type": "code",
   "execution_count": 172,
   "id": "453eb1c7",
   "metadata": {},
   "outputs": [],
   "source": [
    "def extract_intensity(map_pix, ras, decs, beam):\n",
    "    N = len(ras)\n",
    "    stack_CMB_kSZ           = 0\n",
    "    stack_CMB_kSZ_deproject = 0\n",
    "    c = 0\n",
    "\n",
    "    signal = []\n",
    "    signal_ring = []\n",
    "    ras_used = []\n",
    "    decs_used = []\n",
    "    for i in tqdm(range(N)):\n",
    "        dust = reproject.thumbnails(map_pix,coords = np.deg2rad([decs[i], ras[i]]),r=30*utils.arcmin)\n",
    "        stamp = reproject.thumbnails(map_pix,coords = np.deg2rad([decs[i], ras[i]]),r=beam*utils.arcmin)\n",
    "        stamp2 = reproject.thumbnails(map_pix,coords = np.deg2rad([decs[i], ras[i]]),r=2*beam*utils.arcmin)\n",
    "\n",
    "        if stamp is None:\n",
    "            signal.append(-9999)\n",
    "        elif stamp[0][0][0]==0.0:\n",
    "            signal.append(-9999)\n",
    "        elif dust is None:\n",
    "            signal.append(-9999)\n",
    "        elif dust[0][0][0]==0.0:\n",
    "            signal.append(-9999)\n",
    "        else:\n",
    "            dust_sum = sum(sum(dust[0]))\n",
    "            num_pix_dust = len(dust[0][0])*len(dust[0][0])\n",
    "            signal_sum = sum(sum(stamp[0]))\n",
    "            num_pix_signal = len(stamp[0][0])*len(stamp[0][0])\n",
    "            signal2_sum = sum(sum(stamp2[0]))\n",
    "            num_pix_signal2 = len(stamp2[0][0])*len(stamp2[0][0])            \n",
    "                        \n",
    "            signal.append((signal_sum/num_pix_signal)-(dust_sum/num_pix_dust))\n",
    "            signal_ring.append(((signal2_sum-signal_sum)/(num_pix_signal2-num_pix_signal))-(dust_sum/num_pix_dust))\n",
    "            \n",
    "        ras_used.append(ras[i])\n",
    "        decs_used.append(decs[i])\n",
    "\n",
    "    return signal, signal_ring, ras_used, decs_used"
   ]
  },
  {
   "cell_type": "code",
   "execution_count": 173,
   "id": "9337c9c7",
   "metadata": {},
   "outputs": [
    {
     "name": "stdout",
     "output_type": "stream",
     "text": [
      "Preparing SHT\n",
      "T -> alm\n",
      "float64 complex128\n",
      "Computing pixel positions\n",
      "Computing rotated positions\n",
      "Projecting\n"
     ]
    },
    {
     "name": "stderr",
     "output_type": "stream",
     "text": [
      "100%|█████████████████████████████████████| 40000/40000 [12:18<00:00, 54.14it/s]\n"
     ]
    }
   ],
   "source": [
    "ras_fsky = pd.read_csv('data/full_sky_ras.csv').reset_index(drop=True)\n",
    "decs_fsky = pd.read_csv('data/full_sky_decs.csv').reset_index(drop=True)\n",
    "\n",
    "ras_all = np.array(ras)#np.array(ras)#ras_fsky['ras'].values\n",
    "decs_all = np.array(decs)#decs_fsky['decs'].values\n",
    "\n",
    "maps = \"data/HFI_SkyMap_545-field-Int_2048_R3.00_full.fits\"\n",
    "beam = 10\n",
    "map_pix = import_map(maps, int(beam))\n",
    "\n",
    "outputs = \"output/510u/pf545.csv\"\n",
    "outputs2 = \"output/510u/pf545_r.csv\"\n",
    "\n",
    "signal, signal_ring, ras_used, decs_used = extract_intensity(map_pix, ras_all, decs_all, beam)\n",
    "output_signal(signal, signal_ring, outputs, outputs2)"
   ]
  },
  {
   "cell_type": "code",
   "execution_count": 174,
   "id": "09a8fe0e",
   "metadata": {},
   "outputs": [
    {
     "name": "stdout",
     "output_type": "stream",
     "text": [
      "Preparing SHT\n",
      "T -> alm\n",
      "float64 complex128\n",
      "Computing pixel positions\n",
      "Computing rotated positions\n",
      "Projecting\n"
     ]
    },
    {
     "name": "stderr",
     "output_type": "stream",
     "text": [
      "100%|█████████████████████████████████████| 40000/40000 [13:23<00:00, 49.81it/s]\n"
     ]
    }
   ],
   "source": [
    "ras_fsky = pd.read_csv('data/full_sky_ras.csv').reset_index(drop=True)\n",
    "decs_fsky = pd.read_csv('data/full_sky_decs.csv').reset_index(drop=True)\n",
    "\n",
    "ras_all = np.array(ras)#np.array(ras)#ras_fsky['ras'].values\n",
    "decs_all = np.array(decs)#decs_fsky['decs'].values\n",
    "\n",
    "maps = \"data/HFI_SkyMap_857-field-Int_2048_R3.00_full.fits\"\n",
    "beam = 10\n",
    "map_pix = import_map(maps, int(beam))\n",
    "\n",
    "outputs = \"output/510u/pf857.csv\"\n",
    "outputs2 = \"output/510u/pf857_r.csv\"\n",
    "\n",
    "signal, signal_ring, ras_used, decs_used = extract_intensity(map_pix, ras_all, decs_all, beam)\n",
    "output_signal(signal, signal_ring, outputs, outputs2)"
   ]
  },
  {
   "cell_type": "markdown",
   "id": "7160cdce",
   "metadata": {},
   "source": [
    "---"
   ]
  },
  {
   "cell_type": "markdown",
   "id": "2ca5ca15",
   "metadata": {},
   "source": [
    "### ACT"
   ]
  },
  {
   "cell_type": "markdown",
   "id": "1dc42c1f",
   "metadata": {},
   "source": [
    "### Real"
   ]
  },
  {
   "cell_type": "code",
   "execution_count": 175,
   "id": "9a834b45",
   "metadata": {},
   "outputs": [],
   "source": [
    "def import_map(filepath, beam):\n",
    "    pl = hp.read_map(filepath)\n",
    "    pl[pl<-1e23]=0\n",
    "    try:\n",
    "        shape,wcs = enmap.fullsky_geometry(res=int(beam)*utils.arcmin,proj='car')\n",
    "        map_pix = reproject.enmap_from_healpix(pl,shape=shape,wcs=wcs)\n",
    "    except:\n",
    "        shape,wcs = enmap.fullsky_geometry(res=int(beam+1)*utils.arcmin,proj='car')\n",
    "        map_pix = reproject.enmap_from_healpix(pl,shape=shape,wcs=wcs)\n",
    "    return map_pix\n",
    "\n",
    "\n",
    "def extract_intensity(map_pix, ras, decs, beam):\n",
    "    N = len(ras)\n",
    "    stack_CMB_kSZ           = 0\n",
    "    stack_CMB_kSZ_deproject = 0\n",
    "    c = 0\n",
    "\n",
    "    signal = []\n",
    "    signal_ring = []\n",
    "    ras_used = []\n",
    "    decs_used = []\n",
    "    for i in tqdm(range(N)):\n",
    "        stamp = reproject.thumbnails(map_pix,coords = np.deg2rad([decs[i], ras[i]]),r=beam*utils.arcmin)\n",
    "        stamp2 = reproject.thumbnails(map_pix,coords = np.deg2rad([decs[i], ras[i]]),r=beam*2*utils.arcmin)\n",
    "\n",
    "        if stamp is None:\n",
    "            signal.append(-9999)\n",
    "            signal_ring.append(-9999)\n",
    "        elif stamp[0][0][0]==0.0:\n",
    "            signal.append(-9999)\n",
    "            signal_ring.append(-9999)\n",
    "        else:\n",
    "            signal_sum = sum(sum(stamp[0]))\n",
    "            signal2_sum = sum(sum(stamp2[0]))\n",
    "            num_pix_signal = len(stamp[0][0])*len(stamp[0][0])\n",
    "            num_pix_signal2 = len(stamp2[0][0])*len(stamp2[0][0])            \n",
    "            signal.append(signal_sum/num_pix_signal)\n",
    "            signal_ring.append((signal2_sum-signal_sum)/(num_pix_signal2-num_pix_signal))\n",
    "        ras_used.append(ras[i])\n",
    "        decs_used.append(decs[i])\n",
    "\n",
    "    return signal, signal_ring, ras_used, decs_used\n",
    "\n",
    "\n",
    "def output_signal(signal,signal_ring,output_fp,output_fp_signal):\n",
    "    np.savetxt(output_fp,\n",
    "               signal,\n",
    "               delimiter=\", \",\n",
    "               fmt='% s')\n",
    "    np.savetxt(output_fp_signal,\n",
    "               signal_ring,\n",
    "               delimiter=\", \",\n",
    "               fmt='% s')"
   ]
  },
  {
   "cell_type": "code",
   "execution_count": 18,
   "id": "4fed0c5d",
   "metadata": {},
   "outputs": [
    {
     "name": "stderr",
     "output_type": "stream",
     "text": [
      "100%|███████████████████████████████████| 36908/36908 [1:24:05<00:00,  7.31it/s]\n"
     ]
    }
   ],
   "source": [
    "real = pd.read_csv('data/union.csv',skiprows=0,index_col=0)\n",
    "ras_real = real['amf_ra'][::20].reset_index(drop=True)\n",
    "decs_real = real['amf_dec'][::20].reset_index(drop=True)\n",
    "\n",
    "ras_all = ras_real\n",
    "decs_all = decs_real\n",
    "\n",
    "beam = 5\n",
    "map_pix = enmap.read_map(\"data/act_dr5.01_s08s18_AA_f090_daynight_map.fits\")\n",
    "outputs = \"output/510u/ar90.csv\"\n",
    "outputs2 = \"output/510u/ar90_r.csv\"\n",
    "\n",
    "signal, signal_ring, ras_used, decs_used = extract_intensity(map_pix, ras_all, decs_all, beam)\n",
    "output_signal(signal, signal_ring, outputs, outputs2)"
   ]
  },
  {
   "cell_type": "code",
   "execution_count": 19,
   "id": "935f247d",
   "metadata": {},
   "outputs": [
    {
     "name": "stderr",
     "output_type": "stream",
     "text": [
      "100%|█████████████████████████████████████| 36908/36908 [21:10<00:00, 29.05it/s]\n"
     ]
    }
   ],
   "source": [
    "real = pd.read_csv('data/union.csv',skiprows=0,index_col=0)\n",
    "ras_real = real['amf_ra'][::20].reset_index(drop=True)\n",
    "decs_real = real['amf_dec'][::20].reset_index(drop=True)\n",
    "\n",
    "ras_all = ras_real\n",
    "decs_all = decs_real\n",
    "\n",
    "beam = 5\n",
    "map_pix = enmap.read_map(\"data/act_dr5.01_s08s18_AA_f150_daynight_map.fits\")\n",
    "outputs = \"output/510u/ar150.csv\"\n",
    "outputs2 = \"output/510u/ar150_r.csv\"\n",
    "\n",
    "signal, signal_ring, ras_used, decs_used = extract_intensity(map_pix, ras_all, decs_all, beam)\n",
    "output_signal(signal, signal_ring, outputs, outputs2)"
   ]
  },
  {
   "cell_type": "code",
   "execution_count": 20,
   "id": "16e69809",
   "metadata": {},
   "outputs": [
    {
     "name": "stderr",
     "output_type": "stream",
     "text": [
      "100%|███████████████████████████████████| 36908/36908 [7:33:02<00:00,  1.36it/s]\n"
     ]
    }
   ],
   "source": [
    "real = pd.read_csv('data/union.csv',skiprows=0,index_col=0)\n",
    "ras_real = real['amf_ra'][::20].reset_index(drop=True)\n",
    "decs_real = real['amf_dec'][::20].reset_index(drop=True)\n",
    "\n",
    "ras_all = ras_real\n",
    "decs_all = decs_real\n",
    "\n",
    "beam = 5\n",
    "map_pix = enmap.read_map(\"data/act_dr5.01_s08s18_AA_f220_daynight_map.fits\")\n",
    "outputs = \"output/510u/ar220.csv\"\n",
    "outputs2 = \"output/510u/ar220_r.csv\"\n",
    "\n",
    "signal, signal_ring, ras_used, decs_used = extract_intensity(map_pix, ras_all, decs_all, beam)\n",
    "output_signal(signal, signal_ring, outputs, outputs2)"
   ]
  },
  {
   "cell_type": "markdown",
   "id": "274dd483",
   "metadata": {},
   "source": [
    "### Non-clusters"
   ]
  },
  {
   "cell_type": "code",
   "execution_count": null,
   "id": "e695d7d2",
   "metadata": {},
   "outputs": [],
   "source": [
    "voids = pd.read_csv('data/voids.csv',skiprows=0,index_col=0)\n",
    "ras_voids = voids['ras'].reset_index(drop=True)\n",
    "decs_voids = voids['decs'].reset_index(drop=True)\n",
    "\n",
    "ras_all = ras_voids\n",
    "decs_all = decs_voids\n",
    "\n",
    "beam = 5\n",
    "map_pix = enmap.read_map(\"data/act_dr5.01_s08s18_AA_f090_daynight_map.fits\")\n",
    "outputs = \"output/510u/av90.csv\"\n",
    "outputs2 = \"output/510u/av90_r.csv\"\n",
    "\n",
    "signal, signal_ring, ras_used, decs_used = extract_intensity(map_pix, ras_all, decs_all, beam)\n",
    "output_signal(signal, signal_ring, outputs, outputs2)"
   ]
  },
  {
   "cell_type": "code",
   "execution_count": null,
   "id": "3f007a01",
   "metadata": {},
   "outputs": [],
   "source": [
    "voids = pd.read_csv('data/voids.csv',skiprows=0,index_col=0)\n",
    "ras_voids = voids['ras'].reset_index(drop=True)\n",
    "decs_voids = voids['decs'].reset_index(drop=True)\n",
    "\n",
    "ras_all = ras_voids\n",
    "decs_all = decs_voids\n",
    "\n",
    "beam = 5\n",
    "map_pix = enmap.read_map(\"data/act_dr5.01_s08s18_AA_f150_daynight_map.fits\")\n",
    "outputs = \"output/510u/av150.csv\"\n",
    "outputs2 = \"output/510u/av150_r.csv\"\n",
    "\n",
    "signal, signal_ring, ras_used, decs_used = extract_intensity(map_pix, ras_all, decs_all, beam)\n",
    "output_signal(signal, signal_ring, outputs, outputs2)"
   ]
  },
  {
   "cell_type": "code",
   "execution_count": null,
   "id": "dd02bd09",
   "metadata": {},
   "outputs": [],
   "source": [
    "voids = pd.read_csv('data/voids.csv',skiprows=0,index_col=0)\n",
    "ras_voids = voids['ras'].reset_index(drop=True)\n",
    "decs_voids = voids['decs'].reset_index(drop=True)\n",
    "\n",
    "ras_all = ras_voids\n",
    "decs_all = decs_voids\n",
    "\n",
    "beam = 5\n",
    "map_pix = enmap.read_map(\"data/act_dr5.01_s08s18_AA_f220_daynight_map.fits\")\n",
    "outputs = \"output/510u/av220.csv\"\n",
    "outputs2 = \"output/510u/av220_r.csv\"\n",
    "\n",
    "signal, signal_ring, ras_used, decs_used = extract_intensity(map_pix, ras_all, decs_all, beam)\n",
    "output_signal(signal, signal_ring, outputs, outputs2)"
   ]
  },
  {
   "cell_type": "markdown",
   "id": "650c9e9c",
   "metadata": {},
   "source": [
    "---"
   ]
  },
  {
   "cell_type": "markdown",
   "id": "09b78f44",
   "metadata": {},
   "source": [
    "### Fullsky"
   ]
  },
  {
   "cell_type": "code",
   "execution_count": 176,
   "id": "b235750c",
   "metadata": {},
   "outputs": [
    {
     "name": "stderr",
     "output_type": "stream",
     "text": [
      "100%|█████████████████████████████████████| 40000/40000 [23:59<00:00, 27.78it/s]\n"
     ]
    }
   ],
   "source": [
    "ras_fsky = pd.read_csv('data/full_sky_ras.csv').reset_index(drop=True)\n",
    "decs_fsky = pd.read_csv('data/full_sky_decs.csv').reset_index(drop=True)\n",
    "\n",
    "ras_all = np.array(ras)#np.array(ras)#ras_fsky['ras'].values\n",
    "decs_all = np.array(decs)#decs_fsky['decs'].values\n",
    "\n",
    "beam = 5\n",
    "map_pix = enmap.read_map(\"data/act_dr5.01_s08s18_AA_f090_daynight_map.fits\")\n",
    "outputs = \"output/510u/af90.csv\"\n",
    "outputs2 = \"output/510u/af90_r.csv\"\n",
    "\n",
    "signal, signal_ring, ras_used, decs_used = extract_intensity(map_pix, ras_all, decs_all, beam)\n",
    "output_signal(signal, signal_ring, outputs, outputs2)"
   ]
  },
  {
   "cell_type": "code",
   "execution_count": 177,
   "id": "f4d3836c",
   "metadata": {},
   "outputs": [
    {
     "name": "stderr",
     "output_type": "stream",
     "text": [
      "100%|█████████████████████████████████████| 40000/40000 [22:02<00:00, 30.25it/s]\n"
     ]
    }
   ],
   "source": [
    "ras_fsky = pd.read_csv('data/full_sky_ras.csv').reset_index(drop=True)\n",
    "decs_fsky = pd.read_csv('data/full_sky_decs.csv').reset_index(drop=True)\n",
    "\n",
    "ras_all = np.array(ras)#np.array(ras)#ras_fsky['ras'].values\n",
    "decs_all = np.array(decs)#decs_fsky['decs'].values\n",
    "\n",
    "beam = 5\n",
    "map_pix = enmap.read_map(\"data/act_dr5.01_s08s18_AA_f150_daynight_map.fits\")\n",
    "outputs = \"output/510u/af150.csv\"\n",
    "outputs2 = \"output/510u/af150_r.csv\"\n",
    "\n",
    "signal, signal_ring, ras_used, decs_used = extract_intensity(map_pix, ras_all, decs_all, beam)\n",
    "output_signal(signal, signal_ring, outputs, outputs2)"
   ]
  },
  {
   "cell_type": "code",
   "execution_count": 178,
   "id": "354de666",
   "metadata": {},
   "outputs": [
    {
     "name": "stderr",
     "output_type": "stream",
     "text": [
      "100%|█████████████████████████████████████| 40000/40000 [28:09<00:00, 23.67it/s]\n"
     ]
    }
   ],
   "source": [
    "ras_fsky = pd.read_csv('data/full_sky_ras.csv').reset_index(drop=True)\n",
    "decs_fsky = pd.read_csv('data/full_sky_decs.csv').reset_index(drop=True)\n",
    "\n",
    "ras_all = np.array(ras)#np.array(ras)#ras_fsky['ras'].values\n",
    "decs_all = np.array(decs)#decs_fsky['decs'].values\n",
    "\n",
    "beam = 5\n",
    "map_pix = enmap.read_map(\"data/act_dr5.01_s08s18_AA_f220_daynight_map.fits\")\n",
    "outputs = \"output/510u/af220.csv\"\n",
    "outputs2 = \"output/510u/af220_r.csv\"\n",
    "\n",
    "signal, signal_ring, ras_used, decs_used = extract_intensity(map_pix, ras_all, decs_all, beam)\n",
    "output_signal(signal, signal_ring, outputs, outputs2)"
   ]
  },
  {
   "cell_type": "markdown",
   "id": "f1431f66",
   "metadata": {},
   "source": [
    "---"
   ]
  },
  {
   "cell_type": "markdown",
   "id": "37e60643",
   "metadata": {},
   "source": [
    "## Rosat"
   ]
  },
  {
   "cell_type": "markdown",
   "id": "ae6ca883",
   "metadata": {},
   "source": [
    "### Real"
   ]
  },
  {
   "cell_type": "code",
   "execution_count": 179,
   "id": "d2c347ba",
   "metadata": {},
   "outputs": [],
   "source": [
    "def import_map(beam):\n",
    "    ros = hp.read_map(\"data/rass_healpix_countsec.fits\")\n",
    "    mask = hp.read_map(\"data/mask_comprass.fits\")\n",
    "\n",
    "    ros[ros<-1e23]=0\n",
    "\n",
    "    masked_ros = []\n",
    "    for i in tqdm(range(len(mask))):\n",
    "        masked_ros.append(0)\n",
    "        if mask[i]:\n",
    "            masked_ros[i]=ros[i]\n",
    "\n",
    "    masked_ros = np.array(masked_ros)\n",
    "\n",
    "    shape,wcs = enmap.fullsky_geometry(res=beam * utils.arcmin,proj='car')\n",
    "    map_pix = reproject.enmap_from_healpix(masked_ros,shape=shape,wcs=wcs)\n",
    "\n",
    "    return map_pix"
   ]
  },
  {
   "cell_type": "code",
   "execution_count": 22,
   "id": "4b14582b",
   "metadata": {},
   "outputs": [
    {
     "name": "stderr",
     "output_type": "stream",
     "text": [
      "100%|████████████████████████| 201326592/201326592 [01:42<00:00, 1967555.84it/s]\n"
     ]
    },
    {
     "name": "stdout",
     "output_type": "stream",
     "text": [
      "Preparing SHT\n",
      "T -> alm\n",
      "float64 complex128\n",
      "Computing pixel positions\n",
      "Computing rotated positions\n",
      "Projecting\n"
     ]
    },
    {
     "name": "stderr",
     "output_type": "stream",
     "text": [
      "100%|█████████████████████████████████████| 36908/36908 [18:19<00:00, 33.57it/s]\n"
     ]
    }
   ],
   "source": [
    "real = pd.read_csv('data/union.csv',skiprows=0,index_col=0)\n",
    "ras_real = real['amf_ra'][::20].reset_index(drop=True)\n",
    "decs_real = real['amf_dec'][::20].reset_index(drop=True)\n",
    "\n",
    "ras_all = ras_real\n",
    "decs_all = decs_real\n",
    "\n",
    "beam = 5\n",
    "map_pix = import_map(int(beam))\n",
    "outputs = \"output/510u/rr.csv\"\n",
    "outputs2 = \"output/510u/rr_r.csv\"\n",
    "\n",
    "signal, signal_ring, ras_used, decs_used = extract_intensity(map_pix, ras_all, decs_all, beam)\n",
    "output_signal(signal, signal_ring, outputs, outputs2)"
   ]
  },
  {
   "cell_type": "code",
   "execution_count": null,
   "id": "67e3757c",
   "metadata": {
    "scrolled": false
   },
   "outputs": [],
   "source": [
    "voids = pd.read_csv('data/voids.csv',skiprows=0,index_col=0)\n",
    "ras_voids = voids['ras'].reset_index(drop=True)\n",
    "decs_voids = voids['decs'].reset_index(drop=True)\n",
    "\n",
    "ras_all = ras_voids\n",
    "decs_all = decs_voids\n",
    "\n",
    "beam = 5\n",
    "map_pix = import_map(int(beam))\n",
    "outputs = \"output/510u/rv.csv\"\n",
    "outputs2 = \"output/510u/rv_r.csv\"\n",
    "\n",
    "signal, signal_ring, ras_used, decs_used = extract_intensity(map_pix, ras_all, decs_all, beam)\n",
    "output_signal(signal, signal_ring, outputs, outputs2)"
   ]
  },
  {
   "cell_type": "code",
   "execution_count": null,
   "id": "523078e7",
   "metadata": {
    "scrolled": true
   },
   "outputs": [
    {
     "name": "stderr",
     "output_type": "stream",
     "text": [
      "100%|████████████████████████| 201326592/201326592 [01:06<00:00, 3015366.54it/s]\n"
     ]
    },
    {
     "name": "stdout",
     "output_type": "stream",
     "text": [
      "Preparing SHT\n",
      "T -> alm\n",
      "float64 complex128\n",
      "Computing pixel positions\n",
      "Computing rotated positions\n",
      "Projecting\n"
     ]
    }
   ],
   "source": [
    "ras_fsky = pd.read_csv('data/full_sky_ras.csv').reset_index(drop=True)\n",
    "decs_fsky = pd.read_csv('data/full_sky_decs.csv').reset_index(drop=True)\n",
    "\n",
    "ras_all = np.array(ras)#np.array(ras)#ras_fsky['ras'].values\n",
    "decs_all = np.array(decs)#decs_fsky['decs'].values\n",
    "\n",
    "beam = 5\n",
    "map_pix = import_map(int(beam))\n",
    "outputs = \"output/510u/rf.csv\"\n",
    "outputs2 = \"output/510u/rf_r.csv\"\n",
    "\n",
    "signal, signal_ring, ras_used, decs_used = extract_intensity(map_pix, ras_all, decs_all, beam)\n",
    "output_signal(signal, signal_ring, outputs, outputs2)"
   ]
  },
  {
   "cell_type": "markdown",
   "id": "96b52b86",
   "metadata": {},
   "source": [
    "---"
   ]
  },
  {
   "cell_type": "markdown",
   "id": "75201be1",
   "metadata": {},
   "source": [
    "---"
   ]
  },
  {
   "cell_type": "markdown",
   "id": "6aba6d3a",
   "metadata": {},
   "source": [
    "---"
   ]
  },
  {
   "cell_type": "markdown",
   "id": "3e3e3fdc",
   "metadata": {},
   "source": [
    "---"
   ]
  },
  {
   "cell_type": "markdown",
   "id": "0090610d",
   "metadata": {},
   "source": [
    "# Rad: Beam"
   ]
  },
  {
   "cell_type": "markdown",
   "id": "3d07e7aa",
   "metadata": {},
   "source": [
    "## Planck"
   ]
  },
  {
   "cell_type": "markdown",
   "id": "6ead3666",
   "metadata": {},
   "source": [
    "### Real"
   ]
  },
  {
   "cell_type": "code",
   "execution_count": 2,
   "id": "0f801d44",
   "metadata": {},
   "outputs": [],
   "source": [
    "def import_map(filepath, beam):\n",
    "    pl = hp.read_map(filepath)\n",
    "    pl[pl<-1e23]=0\n",
    "    try:\n",
    "        shape,wcs = enmap.fullsky_geometry(res=int(beam)*utils.arcmin,proj='car')\n",
    "        map_pix = reproject.enmap_from_healpix(pl,shape=shape,wcs=wcs)\n",
    "    except:\n",
    "        shape,wcs = enmap.fullsky_geometry(res=int(beam+1)*utils.arcmin,proj='car')\n",
    "        map_pix = reproject.enmap_from_healpix(pl,shape=shape,wcs=wcs)\n",
    "    return map_pix\n",
    "\n",
    "\n",
    "def extract_intensity(map_pix, ras, decs, beam):\n",
    "    N = len(ras)\n",
    "    stack_CMB_kSZ           = 0\n",
    "    stack_CMB_kSZ_deproject = 0\n",
    "    c = 0\n",
    "\n",
    "    signal = []\n",
    "    signal_ring = []\n",
    "    ras_used = []\n",
    "    decs_used = []\n",
    "    for i in range(N):\n",
    "        stamp = reproject.thumbnails(map_pix,coords = np.deg2rad([decs[i], ras[i]]),r=beam*utils.arcmin)\n",
    "        stamp2 = reproject.thumbnails(map_pix,coords = np.deg2rad([decs[i], ras[i]]),r=beam*2*utils.arcmin)\n",
    "\n",
    "        if stamp is None:\n",
    "            signal.append(-9999)\n",
    "        elif stamp[0][0][0]==0.0:\n",
    "            signal.append(-9999)\n",
    "        else:\n",
    "            signal_sum = sum(sum(stamp[0]))\n",
    "            signal2_sum = sum(sum(stamp2[0]))\n",
    "            num_pix_signal = len(stamp[0][0])*len(stamp[0][0])\n",
    "            num_pix_signal2 = len(stamp2[0][0])*len(stamp2[0][0])            \n",
    "            signal.append(signal_sum/num_pix_signal)\n",
    "            signal_ring.append((signal2_sum-signal_sum)/(num_pix_signal2-num_pix_signal))\n",
    "        ras_used.append(ras[i])\n",
    "        decs_used.append(decs[i])\n",
    "\n",
    "    return signal, signal_ring, ras_used, decs_used\n",
    "\n",
    "\n",
    "def output_signal(signal,signal_ring,output_fp,output_fp_signal):\n",
    "    np.savetxt(output_fp,\n",
    "               signal,\n",
    "               delimiter=\", \",\n",
    "               fmt='% s')\n",
    "    np.savetxt(output_fp_signal,\n",
    "               signal_ring,\n",
    "               delimiter=\", \",\n",
    "               fmt='% s')"
   ]
  },
  {
   "cell_type": "code",
   "execution_count": 3,
   "id": "73c6e876",
   "metadata": {},
   "outputs": [
    {
     "name": "stdout",
     "output_type": "stream",
     "text": [
      "Preparing SHT\n",
      "T -> alm\n",
      "float64 complex128\n",
      "Computing pixel positions\n",
      "Computing rotated positions\n",
      "Projecting\n"
     ]
    }
   ],
   "source": [
    "real = pd.read_csv('data/awd.csv',skiprows=0,index_col=0)\n",
    "ras_real = real['amf_ra'].reset_index(drop=True)\n",
    "decs_real = real['amf_dec'].reset_index(drop=True)\n",
    "\n",
    "ras_all = ras_real\n",
    "decs_all = decs_real\n",
    "\n",
    "maps = \"data/HFI_SkyMap_100-field-IQU_2048_R3.00_full.fits\"\n",
    "beam = \n",
    "map_pix = import_map(maps, int(beam))\n",
    "\n",
    "outputs = \"output/beam/pr100.csv\"\n",
    "outputs2 = \"output/beam/pr100_r.csv\"\n",
    "\n",
    "signal, signal_ring, ras_used, decs_used = extract_intensity(map_pix, ras_all, decs_all, beam)\n",
    "output_signal(signal, signal_ring, outputs, outputs2)"
   ]
  },
  {
   "cell_type": "code",
   "execution_count": 4,
   "id": "ad17f3ec",
   "metadata": {},
   "outputs": [
    {
     "name": "stdout",
     "output_type": "stream",
     "text": [
      "Preparing SHT\n",
      "T -> alm\n",
      "float64 complex128\n",
      "Computing pixel positions\n",
      "Computing rotated positions\n",
      "Projecting\n"
     ]
    }
   ],
   "source": [
    "real = pd.read_csv('data/awd.csv',skiprows=0,index_col=0)\n",
    "ras_real = real['amf_ra'].reset_index(drop=True)\n",
    "decs_real = real['amf_dec'].reset_index(drop=True)\n",
    "\n",
    "ras_all = ras_real\n",
    "decs_all = decs_real\n",
    "\n",
    "maps = \"data/HFI_SkyMap_143-field-IQU_2048_R3.00_full.fits\"\n",
    "beam = \n",
    "map_pix = import_map(maps, int(beam))\n",
    "\n",
    "outputs = \"output/beam/pr143.csv\"\n",
    "outputs2 = \"output/beam/pr143_r.csv\"\n",
    "\n",
    "signal, signal_ring, ras_used, decs_used = extract_intensity(map_pix, ras_all, decs_all, beam)\n",
    "output_signal(signal, signal_ring, outputs, outputs2)"
   ]
  },
  {
   "cell_type": "code",
   "execution_count": 5,
   "id": "cef5c099",
   "metadata": {},
   "outputs": [
    {
     "name": "stdout",
     "output_type": "stream",
     "text": [
      "Preparing SHT\n",
      "T -> alm\n",
      "float64 complex128\n",
      "Computing pixel positions\n",
      "Computing rotated positions\n",
      "Projecting\n"
     ]
    }
   ],
   "source": [
    "real = pd.read_csv('data/awd.csv',skiprows=0,index_col=0)\n",
    "ras_real = real['amf_ra'].reset_index(drop=True)\n",
    "decs_real = real['amf_dec'].reset_index(drop=True)\n",
    "\n",
    "ras_all = ras_real\n",
    "decs_all = decs_real\n",
    "\n",
    "maps = \"data/HFI_SkyMap_217-field-IQU_2048_R3.00_full.fits\"\n",
    "beam = \n",
    "map_pix = import_map(maps, int(beam))\n",
    "\n",
    "outputs = \"output/beam/pr217.csv\"\n",
    "outputs2 = \"output/beam/pr217_r.csv\"\n",
    "\n",
    "signal, signal_ring, ras_used, decs_used = extract_intensity(map_pix, ras_all, decs_all, beam)\n",
    "output_signal(signal, signal_ring, outputs, outputs2)"
   ]
  },
  {
   "cell_type": "code",
   "execution_count": 6,
   "id": "a270f763",
   "metadata": {},
   "outputs": [
    {
     "name": "stdout",
     "output_type": "stream",
     "text": [
      "Preparing SHT\n",
      "T -> alm\n",
      "float64 complex128\n",
      "Computing pixel positions\n",
      "Computing rotated positions\n",
      "Projecting\n"
     ]
    }
   ],
   "source": [
    "real = pd.read_csv('data/awd.csv',skiprows=0,index_col=0)\n",
    "ras_real = real['amf_ra'].reset_index(drop=True)\n",
    "decs_real = real['amf_dec'].reset_index(drop=True)\n",
    "\n",
    "ras_all = ras_real\n",
    "decs_all = decs_real\n",
    "\n",
    "maps = \"data/HFI_SkyMap_353-psb-field-IQU_2048_R3.00_full.fits\"\n",
    "beam = \n",
    "map_pix = import_map(maps, int(beam))\n",
    "\n",
    "outputs = \"output/beam/pr353.csv\"\n",
    "outputs2 = \"output/beam/pr353_r.csv\"\n",
    "\n",
    "signal, signal_ring, ras_used, decs_used = extract_intensity(map_pix, ras_all, decs_all, beam)\n",
    "output_signal(signal, signal_ring, outputs, outputs2)"
   ]
  },
  {
   "cell_type": "code",
   "execution_count": 7,
   "id": "7c9814de",
   "metadata": {},
   "outputs": [],
   "source": [
    "def extract_intensity(map_pix, ras, decs, beam):\n",
    "    N = len(ras)\n",
    "    stack_CMB_kSZ           = 0\n",
    "    stack_CMB_kSZ_deproject = 0\n",
    "    c = 0\n",
    "\n",
    "    signal = []\n",
    "    signal_ring = []\n",
    "    ras_used = []\n",
    "    decs_used = []\n",
    "    for i in range(N):\n",
    "        dust = reproject.thumbnails(map_pix,coords = np.deg2rad([decs[i], ras[i]]),r=30*utils.arcmin)\n",
    "        stamp = reproject.thumbnails(map_pix,coords = np.deg2rad([decs[i], ras[i]]),r=beam*utils.arcmin)\n",
    "        stamp2 = reproject.thumbnails(map_pix,coords = np.deg2rad([decs[i], ras[i]]),r=2*beam*utils.arcmin)\n",
    "\n",
    "        if stamp is None:\n",
    "            signal.append(-9999)\n",
    "        elif stamp[0][0][0]==0.0:\n",
    "            signal.append(-9999)\n",
    "        elif dust is None:\n",
    "            signal.append(-9999)\n",
    "        elif dust[0][0][0]==0.0:\n",
    "            signal.append(-9999)\n",
    "        else:\n",
    "            dust_sum = sum(sum(dust[0]))\n",
    "            num_pix_dust = len(dust[0][0])*len(dust[0][0])\n",
    "            signal_sum = sum(sum(stamp[0]))\n",
    "            num_pix_signal = len(stamp[0][0])*len(stamp[0][0])\n",
    "            signal2_sum = sum(sum(stamp2[0]))\n",
    "            num_pix_signal2 = len(stamp2[0][0])*len(stamp2[0][0])            \n",
    "                        \n",
    "            signal.append((signal_sum/num_pix_signal)-(dust_sum/num_pix_dust))\n",
    "            signal_ring.append(((signal2_sum-signal_sum)/(num_pix_signal2-num_pix_signal))-(dust_sum/num_pix_dust))\n",
    "            \n",
    "        ras_used.append(ras[i])\n",
    "        decs_used.append(decs[i])\n",
    "\n",
    "    return signal, signal_ring, ras_used, decs_used"
   ]
  },
  {
   "cell_type": "code",
   "execution_count": 8,
   "id": "c0b11429",
   "metadata": {},
   "outputs": [
    {
     "name": "stdout",
     "output_type": "stream",
     "text": [
      "Preparing SHT\n",
      "T -> alm\n",
      "float64 complex128\n",
      "Computing pixel positions\n",
      "Computing rotated positions\n",
      "Projecting\n"
     ]
    }
   ],
   "source": [
    "real = pd.read_csv('data/awd.csv',skiprows=0,index_col=0)\n",
    "ras_real = real['amf_ra'].reset_index(drop=True)\n",
    "decs_real = real['amf_dec'].reset_index(drop=True)\n",
    "\n",
    "ras_all = ras_real\n",
    "decs_all = decs_real\n",
    "\n",
    "maps = \"data/HFI_SkyMap_545-field-Int_2048_R3.00_full.fits\"\n",
    "beam = \n",
    "map_pix = import_map(maps, int(beam))\n",
    "\n",
    "outputs = \"output/beam/pr545.csv\"\n",
    "outputs2 = \"output/beam/pr545_r.csv\"\n",
    "\n",
    "signal, signal_ring, ras_used, decs_used = extract_intensity(map_pix, ras_all, decs_all, beam)\n",
    "output_signal(signal, signal_ring, outputs, outputs2)"
   ]
  },
  {
   "cell_type": "code",
   "execution_count": 9,
   "id": "ae11eaf1",
   "metadata": {},
   "outputs": [
    {
     "name": "stdout",
     "output_type": "stream",
     "text": [
      "Preparing SHT\n",
      "T -> alm\n",
      "float64 complex128\n",
      "Computing pixel positions\n",
      "Computing rotated positions\n",
      "Projecting\n"
     ]
    }
   ],
   "source": [
    "real = pd.read_csv('data/awd.csv',skiprows=0,index_col=0)\n",
    "ras_real = real['amf_ra'].reset_index(drop=True)\n",
    "decs_real = real['amf_dec'].reset_index(drop=True)\n",
    "\n",
    "ras_all = ras_real\n",
    "decs_all = decs_real\n",
    "\n",
    "maps = \"data/HFI_SkyMap_857-field-Int_2048_R3.00_full.fits\"\n",
    "beam = \n",
    "map_pix = import_map(maps, int(beam))\n",
    "\n",
    "outputs = \"output/beam/pr857.csv\"\n",
    "outputs2 = \"output/beam/pr857_r.csv\"\n",
    "\n",
    "signal, signal_ring, ras_used, decs_used = extract_intensity(map_pix, ras_all, decs_all, beam)\n",
    "output_signal(signal, signal_ring, outputs, outputs2)"
   ]
  },
  {
   "cell_type": "markdown",
   "id": "dcef50ed",
   "metadata": {},
   "source": [
    "### Non-clusters"
   ]
  },
  {
   "cell_type": "code",
   "execution_count": 10,
   "id": "649a26fe",
   "metadata": {},
   "outputs": [],
   "source": [
    "def import_map(filepath, beam):\n",
    "    pl = hp.read_map(filepath)\n",
    "    pl[pl<-1e23]=0\n",
    "    try:\n",
    "        shape,wcs = enmap.fullsky_geometry(res=int(beam)*utils.arcmin,proj='car')\n",
    "        map_pix = reproject.enmap_from_healpix(pl,shape=shape,wcs=wcs)\n",
    "    except:\n",
    "        shape,wcs = enmap.fullsky_geometry(res=int(beam+1)*utils.arcmin,proj='car')\n",
    "        map_pix = reproject.enmap_from_healpix(pl,shape=shape,wcs=wcs)\n",
    "    return map_pix\n",
    "\n",
    "\n",
    "def extract_intensity(map_pix, ras, decs, beam):\n",
    "    N = len(ras)\n",
    "    stack_CMB_kSZ           = 0\n",
    "    stack_CMB_kSZ_deproject = 0\n",
    "    c = 0\n",
    "\n",
    "    signal = []\n",
    "    signal_ring = []\n",
    "    ras_used = []\n",
    "    decs_used = []\n",
    "    for i in range(N):\n",
    "        stamp = reproject.thumbnails(map_pix,coords = np.deg2rad([decs[i], ras[i]]),r=beam*utils.arcmin)\n",
    "        stamp2 = reproject.thumbnails(map_pix,coords = np.deg2rad([decs[i], ras[i]]),r=beam*2*utils.arcmin)\n",
    "\n",
    "        if stamp is None:\n",
    "            signal.append(-9999)\n",
    "        elif stamp[0][0][0]==0.0:\n",
    "            signal.append(-9999)\n",
    "        else:\n",
    "            signal_sum = sum(sum(stamp[0]))\n",
    "            signal2_sum = sum(sum(stamp2[0]))\n",
    "            num_pix_signal = len(stamp[0][0])*len(stamp[0][0])\n",
    "            num_pix_signal2 = len(stamp2[0][0])*len(stamp2[0][0])            \n",
    "            signal.append(signal_sum/num_pix_signal)\n",
    "            signal_ring.append((signal2_sum-signal_sum)/(num_pix_signal2-num_pix_signal))\n",
    "        ras_used.append(ras[i])\n",
    "        decs_used.append(decs[i])\n",
    "\n",
    "    return signal, signal_ring, ras_used, decs_used\n",
    "\n",
    "\n",
    "def output_signal(signal,signal_ring,output_fp,output_fp_signal):\n",
    "    np.savetxt(output_fp,\n",
    "               signal,\n",
    "               delimiter=\", \",\n",
    "               fmt='% s')\n",
    "    np.savetxt(output_fp_signal,\n",
    "               signal_ring,\n",
    "               delimiter=\", \",\n",
    "               fmt='% s')"
   ]
  },
  {
   "cell_type": "code",
   "execution_count": 11,
   "id": "18b5700d",
   "metadata": {},
   "outputs": [
    {
     "name": "stdout",
     "output_type": "stream",
     "text": [
      "Preparing SHT\n",
      "T -> alm\n",
      "float64 complex128\n",
      "Computing pixel positions\n",
      "Computing rotated positions\n",
      "Projecting\n"
     ]
    }
   ],
   "source": [
    "voids = pd.read_csv('data/voids.csv',skiprows=0,index_col=0)\n",
    "ras_voids = voids['ras'].reset_index(drop=True)\n",
    "decs_voids = voids['decs'].reset_index(drop=True)\n",
    "\n",
    "ras_all = ras_voids\n",
    "decs_all = decs_voids\n",
    "\n",
    "maps = \"data/HFI_SkyMap_100-field-IQU_2048_R3.00_full.fits\"\n",
    "beam = \n",
    "map_pix = import_map(maps, int(beam))\n",
    "\n",
    "outputs = \"output/beam/pv100.csv\"\n",
    "outputs2 = \"output/beam/pv100_r.csv\"\n",
    "\n",
    "signal, signal_ring, ras_used, decs_used = extract_intensity(map_pix, ras_all, decs_all, beam)\n",
    "output_signal(signal, signal_ring, outputs, outputs2)"
   ]
  },
  {
   "cell_type": "code",
   "execution_count": 12,
   "id": "75e0945d",
   "metadata": {},
   "outputs": [
    {
     "name": "stdout",
     "output_type": "stream",
     "text": [
      "Preparing SHT\n",
      "T -> alm\n",
      "float64 complex128\n",
      "Computing pixel positions\n",
      "Computing rotated positions\n",
      "Projecting\n"
     ]
    }
   ],
   "source": [
    "voids = pd.read_csv('data/voids.csv',skiprows=0,index_col=0)\n",
    "ras_voids = voids['ras'].reset_index(drop=True)\n",
    "decs_voids = voids['decs'].reset_index(drop=True)\n",
    "\n",
    "ras_all = ras_voids\n",
    "decs_all = decs_voids\n",
    "\n",
    "maps = \"data/HFI_SkyMap_143-field-IQU_2048_R3.00_full.fits\"\n",
    "beam = \n",
    "map_pix = import_map(maps, int(beam))\n",
    "\n",
    "outputs = \"output/beam/pv143.csv\"\n",
    "outputs2 = \"output/beam/pv143_r.csv\"\n",
    "\n",
    "signal, signal_ring, ras_used, decs_used = extract_intensity(map_pix, ras_all, decs_all, beam)\n",
    "output_signal(signal, signal_ring, outputs, outputs2)"
   ]
  },
  {
   "cell_type": "code",
   "execution_count": 13,
   "id": "a59a469f",
   "metadata": {},
   "outputs": [
    {
     "name": "stdout",
     "output_type": "stream",
     "text": [
      "Preparing SHT\n",
      "T -> alm\n",
      "float64 complex128\n",
      "Computing pixel positions\n",
      "Computing rotated positions\n",
      "Projecting\n"
     ]
    }
   ],
   "source": [
    "voids = pd.read_csv('data/voids.csv',skiprows=0,index_col=0)\n",
    "ras_voids = voids['ras'].reset_index(drop=True)\n",
    "decs_voids = voids['decs'].reset_index(drop=True)\n",
    "\n",
    "ras_all = ras_voids\n",
    "decs_all = decs_voids\n",
    "\n",
    "maps = \"data/HFI_SkyMap_217-field-IQU_2048_R3.00_full.fits\"\n",
    "beam = \n",
    "map_pix = import_map(maps, int(beam))\n",
    "\n",
    "outputs = \"output/beam/pv217.csv\"\n",
    "outputs2 = \"output/beam/pv217_r.csv\"\n",
    "\n",
    "signal, signal_ring, ras_used, decs_used = extract_intensity(map_pix, ras_all, decs_all, beam)\n",
    "output_signal(signal, signal_ring, outputs, outputs2)"
   ]
  },
  {
   "cell_type": "code",
   "execution_count": 14,
   "id": "d656d956",
   "metadata": {},
   "outputs": [
    {
     "name": "stdout",
     "output_type": "stream",
     "text": [
      "Preparing SHT\n",
      "T -> alm\n",
      "float64 complex128\n",
      "Computing pixel positions\n",
      "Computing rotated positions\n",
      "Projecting\n"
     ]
    }
   ],
   "source": [
    "voids = pd.read_csv('data/voids.csv',skiprows=0,index_col=0)\n",
    "ras_voids = voids['ras'].reset_index(drop=True)\n",
    "decs_voids = voids['decs'].reset_index(drop=True)\n",
    "\n",
    "ras_all = ras_voids\n",
    "decs_all = decs_voids\n",
    "\n",
    "maps = \"data/HFI_SkyMap_353-psb-field-IQU_2048_R3.00_full.fits\"\n",
    "beam = \n",
    "map_pix = import_map(maps, int(beam))\n",
    "\n",
    "outputs = \"output/beam/pv353.csv\"\n",
    "outputs2 = \"output/beam/pv353_r.csv\"\n",
    "\n",
    "signal, signal_ring, ras_used, decs_used = extract_intensity(map_pix, ras_all, decs_all, beam)\n",
    "output_signal(signal, signal_ring, outputs, outputs2)"
   ]
  },
  {
   "cell_type": "code",
   "execution_count": 15,
   "id": "ac853e9c",
   "metadata": {},
   "outputs": [],
   "source": [
    "def extract_intensity(map_pix, ras, decs, beam):\n",
    "    N = len(ras)\n",
    "    stack_CMB_kSZ           = 0\n",
    "    stack_CMB_kSZ_deproject = 0\n",
    "    c = 0\n",
    "\n",
    "    signal = []\n",
    "    signal_ring = []\n",
    "    ras_used = []\n",
    "    decs_used = []\n",
    "    for i in range(N):\n",
    "        dust = reproject.thumbnails(map_pix,coords = np.deg2rad([decs[i], ras[i]]),r=30*utils.arcmin)\n",
    "        stamp = reproject.thumbnails(map_pix,coords = np.deg2rad([decs[i], ras[i]]),r=beam*utils.arcmin)\n",
    "        stamp2 = reproject.thumbnails(map_pix,coords = np.deg2rad([decs[i], ras[i]]),r=2*beam*utils.arcmin)\n",
    "\n",
    "        if stamp is None:\n",
    "            signal.append(-9999)\n",
    "        elif stamp[0][0][0]==0.0:\n",
    "            signal.append(-9999)\n",
    "        elif dust is None:\n",
    "            signal.append(-9999)\n",
    "        elif dust[0][0][0]==0.0:\n",
    "            signal.append(-9999)\n",
    "        else:\n",
    "            dust_sum = sum(sum(dust[0]))\n",
    "            num_pix_dust = len(dust[0][0])*len(dust[0][0])\n",
    "            signal_sum = sum(sum(stamp[0]))\n",
    "            num_pix_signal = len(stamp[0][0])*len(stamp[0][0])\n",
    "            signal2_sum = sum(sum(stamp2[0]))\n",
    "            num_pix_signal2 = len(stamp2[0][0])*len(stamp2[0][0])            \n",
    "                        \n",
    "            signal.append((signal_sum/num_pix_signal)-(dust_sum/num_pix_dust))\n",
    "            signal_ring.append(((signal2_sum-signal_sum)/(num_pix_signal2-num_pix_signal))-(dust_sum/num_pix_dust))\n",
    "            \n",
    "        ras_used.append(ras[i])\n",
    "        decs_used.append(decs[i])\n",
    "\n",
    "    return signal, signal_ring, ras_used, decs_used"
   ]
  },
  {
   "cell_type": "code",
   "execution_count": 16,
   "id": "f96b7ad2",
   "metadata": {},
   "outputs": [
    {
     "name": "stdout",
     "output_type": "stream",
     "text": [
      "Preparing SHT\n",
      "T -> alm\n",
      "float64 complex128\n",
      "Computing pixel positions\n",
      "Computing rotated positions\n",
      "Projecting\n"
     ]
    }
   ],
   "source": [
    "voids = pd.read_csv('data/voids.csv',skiprows=0,index_col=0)\n",
    "ras_voids = voids['ras'].reset_index(drop=True)\n",
    "decs_voids = voids['decs'].reset_index(drop=True)\n",
    "\n",
    "ras_all = ras_voids\n",
    "decs_all = decs_voids\n",
    "\n",
    "maps = \"data/HFI_SkyMap_545-field-Int_2048_R3.00_full.fits\"\n",
    "beam = \n",
    "map_pix = import_map(maps, int(beam))\n",
    "\n",
    "outputs = \"output/beam/pv545.csv\"\n",
    "outputs2 = \"output/beam/pv545_r.csv\"\n",
    "\n",
    "signal, signal_ring, ras_used, decs_used = extract_intensity(map_pix, ras_all, decs_all, beam)\n",
    "output_signal(signal, signal_ring, outputs, outputs2)"
   ]
  },
  {
   "cell_type": "code",
   "execution_count": 17,
   "id": "f1d4cbbe",
   "metadata": {},
   "outputs": [
    {
     "name": "stdout",
     "output_type": "stream",
     "text": [
      "Preparing SHT\n",
      "T -> alm\n",
      "float64 complex128\n",
      "Computing pixel positions\n",
      "Computing rotated positions\n",
      "Projecting\n"
     ]
    }
   ],
   "source": [
    "voids = pd.read_csv('data/voids.csv',skiprows=0,index_col=0)\n",
    "ras_voids = voids['ras'].reset_index(drop=True)\n",
    "decs_voids = voids['decs'].reset_index(drop=True)\n",
    "\n",
    "ras_all = ras_voids\n",
    "decs_all = decs_voids\n",
    "\n",
    "maps = \"data/HFI_SkyMap_857-field-Int_2048_R3.00_full.fits\"\n",
    "beam = \n",
    "map_pix = import_map(maps, int(beam))\n",
    "\n",
    "outputs = \"output/beam/pv857.csv\"\n",
    "outputs2 = \"output/beam/pv857_r.csv\"\n",
    "\n",
    "signal, signal_ring, ras_used, decs_used = extract_intensity(map_pix, ras_all, decs_all, beam)\n",
    "output_signal(signal, signal_ring, outputs, outputs2)"
   ]
  },
  {
   "cell_type": "markdown",
   "id": "041a9ab2",
   "metadata": {},
   "source": [
    "---"
   ]
  },
  {
   "cell_type": "markdown",
   "id": "2e9bd8d6",
   "metadata": {},
   "source": [
    "### ACT"
   ]
  },
  {
   "cell_type": "markdown",
   "id": "2c531e2f",
   "metadata": {},
   "source": [
    "### Real"
   ]
  },
  {
   "cell_type": "code",
   "execution_count": 19,
   "id": "e49dd740",
   "metadata": {},
   "outputs": [],
   "source": [
    "def import_map(filepath, beam):\n",
    "    pl = hp.read_map(filepath)\n",
    "    pl[pl<-1e23]=0\n",
    "    try:\n",
    "        shape,wcs = enmap.fullsky_geometry(res=int(beam)*utils.arcmin,proj='car')\n",
    "        map_pix = reproject.enmap_from_healpix(pl,shape=shape,wcs=wcs)\n",
    "    except:\n",
    "        shape,wcs = enmap.fullsky_geometry(res=int(beam+1)*utils.arcmin,proj='car')\n",
    "        map_pix = reproject.enmap_from_healpix(pl,shape=shape,wcs=wcs)\n",
    "    return map_pix\n",
    "\n",
    "\n",
    "def extract_intensity(map_pix, ras, decs, beam):\n",
    "    N = len(ras)\n",
    "    stack_CMB_kSZ           = 0\n",
    "    stack_CMB_kSZ_deproject = 0\n",
    "    c = 0\n",
    "\n",
    "    signal = []\n",
    "    signal_ring = []\n",
    "    ras_used = []\n",
    "    decs_used = []\n",
    "    for i in tqdm(range(N)):\n",
    "        stamp = reproject.thumbnails(map_pix,coords = np.deg2rad([decs[i], ras[i]]),r=beam*utils.arcmin)\n",
    "        stamp2 = reproject.thumbnails(map_pix,coords = np.deg2rad([decs[i], ras[i]]),r=beam*2*utils.arcmin)\n",
    "\n",
    "        if stamp is None:\n",
    "            signal.append(-9999)\n",
    "            signal_ring.append(-9999)\n",
    "        elif stamp[0][0][0]==0.0:\n",
    "            signal.append(-9999)\n",
    "            signal_ring.append(-9999)\n",
    "        else:\n",
    "            signal_sum = sum(sum(stamp[0]))\n",
    "            signal2_sum = sum(sum(stamp2[0]))\n",
    "            num_pix_signal = len(stamp[0][0])*len(stamp[0][0])\n",
    "            num_pix_signal2 = len(stamp2[0][0])*len(stamp2[0][0])            \n",
    "            signal.append(signal_sum/num_pix_signal)\n",
    "            signal_ring.append((signal2_sum-signal_sum)/(num_pix_signal2-num_pix_signal))\n",
    "        ras_used.append(ras[i])\n",
    "        decs_used.append(decs[i])\n",
    "\n",
    "    return signal, signal_ring, ras_used, decs_used\n",
    "\n",
    "\n",
    "def output_signal(signal,signal_ring,output_fp,output_fp_signal):\n",
    "    np.savetxt(output_fp,\n",
    "               signal,\n",
    "               delimiter=\", \",\n",
    "               fmt='% s')\n",
    "    np.savetxt(output_fp_signal,\n",
    "               signal_ring,\n",
    "               delimiter=\", \",\n",
    "               fmt='% s')"
   ]
  },
  {
   "cell_type": "code",
   "execution_count": 21,
   "id": "c196ee7b",
   "metadata": {},
   "outputs": [
    {
     "name": "stderr",
     "output_type": "stream",
     "text": [
      "100%|████████████████████████████████████████████████████████████████████████████████████████████████████████████████████████████████████████████████████████████████████████| 31535/31535 [17:07<00:00, 30.68it/s]\n"
     ]
    }
   ],
   "source": [
    "real = pd.read_csv('data/awd.csv',skiprows=0,index_col=0)\n",
    "ras_real = real['amf_ra'].reset_index(drop=True)\n",
    "decs_real = real['amf_dec'].reset_index(drop=True)\n",
    "\n",
    "ras_all = ras_real\n",
    "decs_all = decs_real\n",
    "\n",
    "beam = \n",
    "map_pix = enmap.read_map(\"data/act_dr5.01_s08s18_AA_f090_daynight_map.fits\")\n",
    "outputs = \"output/beam/ar90.csv\"\n",
    "outputs2 = \"output/beam/ar90_r.csv\"\n",
    "\n",
    "signal, signal_ring, ras_used, decs_used = extract_intensity(map_pix, ras_all, decs_all, beam)\n",
    "output_signal(signal, signal_ring, outputs, outputs2)"
   ]
  },
  {
   "cell_type": "code",
   "execution_count": 22,
   "id": "678f3e51",
   "metadata": {},
   "outputs": [
    {
     "name": "stderr",
     "output_type": "stream",
     "text": [
      "100%|████████████████████████████████████████████████████████████████████████████████████████████████████████████████████████████████████████████████████████████████████████| 31535/31535 [18:30<00:00, 28.39it/s]\n"
     ]
    }
   ],
   "source": [
    "real = pd.read_csv('data/awd.csv',skiprows=0,index_col=0)\n",
    "ras_real = real['amf_ra'].reset_index(drop=True)\n",
    "decs_real = real['amf_dec'].reset_index(drop=True)\n",
    "\n",
    "ras_all = ras_real\n",
    "decs_all = decs_real\n",
    "\n",
    "beam = \n",
    "map_pix = enmap.read_map(\"data/act_dr5.01_s08s18_AA_f150_daynight_map.fits\")\n",
    "outputs = \"output/beam/ar150.csv\"\n",
    "outputs2 = \"output/beam/ar150_r.csv\"\n",
    "\n",
    "signal, signal_ring, ras_used, decs_used = extract_intensity(map_pix, ras_all, decs_all, beam)\n",
    "output_signal(signal, signal_ring, outputs, outputs2)"
   ]
  },
  {
   "cell_type": "code",
   "execution_count": 23,
   "id": "13eb042f",
   "metadata": {},
   "outputs": [
    {
     "name": "stderr",
     "output_type": "stream",
     "text": [
      "100%|████████████████████████████████████████████████████████████████████████████████████████████████████████████████████████████████████████████████████████████████████████| 31535/31535 [18:01<00:00, 29.15it/s]\n"
     ]
    }
   ],
   "source": [
    "real = pd.read_csv('data/awd.csv',skiprows=0,index_col=0)\n",
    "ras_real = real['amf_ra'].reset_index(drop=True)\n",
    "decs_real = real['amf_dec'].reset_index(drop=True)\n",
    "\n",
    "ras_all = ras_real\n",
    "decs_all = decs_real\n",
    "\n",
    "beam = \n",
    "map_pix = enmap.read_map(\"data/act_dr5.01_s08s18_AA_f220_daynight_map.fits\")\n",
    "outputs = \"output/beam/ar220.csv\"\n",
    "outputs2 = \"output/beam/ar220_r.csv\"\n",
    "\n",
    "signal, signal_ring, ras_used, decs_used = extract_intensity(map_pix, ras_all, decs_all, beam)\n",
    "output_signal(signal, signal_ring, outputs, outputs2)"
   ]
  },
  {
   "cell_type": "markdown",
   "id": "0add1663",
   "metadata": {},
   "source": [
    "### Non-clusters"
   ]
  },
  {
   "cell_type": "code",
   "execution_count": 24,
   "id": "8a4e6977",
   "metadata": {},
   "outputs": [
    {
     "name": "stderr",
     "output_type": "stream",
     "text": [
      "100%|████████████████████████████████████████████████████████████████████████████████████████████████████████████████████████████████████████████████████████████████████████| 47231/47231 [46:24<00:00, 16.96it/s]\n"
     ]
    }
   ],
   "source": [
    "voids = pd.read_csv('data/voids.csv',skiprows=0,index_col=0)\n",
    "ras_voids = voids['ras'].reset_index(drop=True)\n",
    "decs_voids = voids['decs'].reset_index(drop=True)\n",
    "\n",
    "ras_all = ras_voids\n",
    "decs_all = decs_voids\n",
    "\n",
    "beam = \n",
    "map_pix = enmap.read_map(\"data/act_dr5.01_s08s18_AA_f090_daynight_map.fits\")\n",
    "outputs = \"output/beam/av90.csv\"\n",
    "outputs2 = \"output/beam/av90_r.csv\"\n",
    "\n",
    "signal, signal_ring, ras_used, decs_used = extract_intensity(map_pix, ras_all, decs_all, beam)\n",
    "output_signal(signal, signal_ring, outputs, outputs2)"
   ]
  },
  {
   "cell_type": "code",
   "execution_count": 25,
   "id": "906ced41",
   "metadata": {},
   "outputs": [
    {
     "name": "stderr",
     "output_type": "stream",
     "text": [
      "100%|████████████████████████████████████████████████████████████████████████████████████████████████████████████████████████████████████████████████████████████████████████| 47231/47231 [26:54<00:00, 29.25it/s]\n"
     ]
    }
   ],
   "source": [
    "voids = pd.read_csv('data/voids.csv',skiprows=0,index_col=0)\n",
    "ras_voids = voids['ras'].reset_index(drop=True)\n",
    "decs_voids = voids['decs'].reset_index(drop=True)\n",
    "\n",
    "ras_all = ras_voids\n",
    "decs_all = decs_voids\n",
    "\n",
    "beam = \n",
    "map_pix = enmap.read_map(\"data/act_dr5.01_s08s18_AA_f150_daynight_map.fits\")\n",
    "outputs = \"output/beam/av150.csv\"\n",
    "outputs2 = \"output/beam/av150_r.csv\"\n",
    "\n",
    "signal, signal_ring, ras_used, decs_used = extract_intensity(map_pix, ras_all, decs_all, beam)\n",
    "output_signal(signal, signal_ring, outputs, outputs2)"
   ]
  },
  {
   "cell_type": "code",
   "execution_count": 26,
   "id": "732231da",
   "metadata": {},
   "outputs": [
    {
     "name": "stderr",
     "output_type": "stream",
     "text": [
      "100%|████████████████████████████████████████████████████████████████████████████████████████████████████████████████████████████████████████████████████████████████████████| 47231/47231 [26:27<00:00, 29.75it/s]\n"
     ]
    }
   ],
   "source": [
    "voids = pd.read_csv('data/voids.csv',skiprows=0,index_col=0)\n",
    "ras_voids = voids['ras'].reset_index(drop=True)\n",
    "decs_voids = voids['decs'].reset_index(drop=True)\n",
    "\n",
    "ras_all = ras_voids\n",
    "decs_all = decs_voids\n",
    "\n",
    "beam = \n",
    "map_pix = enmap.read_map(\"data/act_dr5.01_s08s18_AA_f220_daynight_map.fits\")\n",
    "outputs = \"output/beam/av220.csv\"\n",
    "outputs2 = \"output/beam/av220_r.csv\"\n",
    "\n",
    "signal, signal_ring, ras_used, decs_used = extract_intensity(map_pix, ras_all, decs_all, beam)\n",
    "output_signal(signal, signal_ring, outputs, outputs2)"
   ]
  },
  {
   "cell_type": "markdown",
   "id": "a582826e",
   "metadata": {},
   "source": [
    "---"
   ]
  },
  {
   "cell_type": "markdown",
   "id": "c18a8f13",
   "metadata": {},
   "source": [
    "## Rosat"
   ]
  },
  {
   "cell_type": "markdown",
   "id": "7e0d153a",
   "metadata": {},
   "source": [
    "### Real"
   ]
  },
  {
   "cell_type": "code",
   "execution_count": 3,
   "id": "0084ad48",
   "metadata": {},
   "outputs": [],
   "source": [
    "def import_map(beam):\n",
    "    ros = hp.read_map(\"data/rass_healpix_countsec.fits\")\n",
    "    mask = hp.read_map(\"data/mask_comprass.fits\")\n",
    "\n",
    "    ros[ros<-1e23]=0\n",
    "\n",
    "    masked_ros = []\n",
    "    for i in tqdm(range(len(mask))):\n",
    "        masked_ros.append(0)\n",
    "        if mask[i]:\n",
    "            masked_ros[i]=ros[i]\n",
    "\n",
    "    masked_ros = np.array(masked_ros)\n",
    "\n",
    "    shape,wcs = enmap.fullsky_geometry(res=beam * utils.arcmin,proj='car')\n",
    "    map_pix = reproject.enmap_from_healpix(masked_ros,shape=shape,wcs=wcs)\n",
    "\n",
    "    return map_pix"
   ]
  },
  {
   "cell_type": "code",
   "execution_count": 28,
   "id": "fec147f0",
   "metadata": {},
   "outputs": [
    {
     "name": "stderr",
     "output_type": "stream",
     "text": [
      "100%|███████████████████████████████████████████████████████████████████████████████████████████████████████████████████████████████████████████████████████████| 201326592/201326592 [00:41<00:00, 4909771.51it/s]\n"
     ]
    },
    {
     "name": "stdout",
     "output_type": "stream",
     "text": [
      "Preparing SHT\n",
      "T -> alm\n",
      "float64 complex128\n",
      "Computing pixel positions\n",
      "Computing rotated positions\n",
      "Projecting\n"
     ]
    },
    {
     "name": "stderr",
     "output_type": "stream",
     "text": [
      "100%|████████████████████████████████████████████████████████████████████████████████████████████████████████████████████████████████████████████████████████████████████████| 31535/31535 [05:17<00:00, 99.42it/s]\n"
     ]
    }
   ],
   "source": [
    "real = pd.read_csv('data/awd.csv',skiprows=0,index_col=0)\n",
    "ras_real = real['amf_ra'].reset_index(drop=True)\n",
    "decs_real = real['amf_dec'].reset_index(drop=True)\n",
    "\n",
    "ras_all = ras_real\n",
    "decs_all = decs_real\n",
    "\n",
    "beam = \n",
    "map_pix = import_map(int(beam))\n",
    "outputs = \"output/beam/rr.csv\"\n",
    "outputs2 = \"output/beam/rr_r.csv\"\n",
    "\n",
    "signal, signal_ring, ras_used, decs_used = extract_intensity(map_pix, ras_all, decs_all, beam)\n",
    "output_signal(signal, signal_ring, outputs, outputs2)"
   ]
  },
  {
   "cell_type": "code",
   "execution_count": null,
   "id": "079e2d39",
   "metadata": {},
   "outputs": [],
   "source": [
    "voids = pd.read_csv('data/voids.csv',skiprows=0,index_col=0)\n",
    "ras_voids = voids['ras'].reset_index(drop=True)\n",
    "decs_voids = voids['decs'].reset_index(drop=True)\n",
    "\n",
    "ras_all = ras_voids\n",
    "decs_all = decs_voids\n",
    "\n",
    "beam = \n",
    "map_pix = import_map(int(beam))\n",
    "outputs = \"output/beam/rv.csv\"\n",
    "outputs2 = \"output/beam/rv_r.csv\"\n",
    "\n",
    "signal, signal_ring, ras_used, decs_used = extract_intensity(map_pix, ras_all, decs_all, beam)\n",
    "output_signal(signal, signal_ring, outputs, outputs2)"
   ]
  },
  {
   "cell_type": "markdown",
   "id": "03dee3b6",
   "metadata": {},
   "source": [
    "----"
   ]
  },
  {
   "cell_type": "markdown",
   "id": "e74d796b",
   "metadata": {},
   "source": [
    "----"
   ]
  },
  {
   "cell_type": "markdown",
   "id": "06ee1681",
   "metadata": {},
   "source": [
    "----"
   ]
  },
  {
   "cell_type": "markdown",
   "id": "758203bf",
   "metadata": {},
   "source": [
    "----"
   ]
  },
  {
   "cell_type": "markdown",
   "id": "86cee6d0",
   "metadata": {},
   "source": [
    "# Rad: Double beam"
   ]
  },
  {
   "cell_type": "markdown",
   "id": "fa8ffb5a",
   "metadata": {},
   "source": [
    "## Planck"
   ]
  },
  {
   "cell_type": "markdown",
   "id": "db1116ca",
   "metadata": {},
   "source": [
    "### Real"
   ]
  },
  {
   "cell_type": "code",
   "execution_count": 4,
   "id": "52db9c60",
   "metadata": {},
   "outputs": [],
   "source": [
    "def import_map(filepath, beam):\n",
    "    pl = hp.read_map(filepath)\n",
    "    pl[pl<-1e23]=0\n",
    "    try:\n",
    "        shape,wcs = enmap.fullsky_geometry(res=int(beam)*utils.arcmin,proj='car')\n",
    "        map_pix = reproject.enmap_from_healpix(pl,shape=shape,wcs=wcs)\n",
    "    except:\n",
    "        shape,wcs = enmap.fullsky_geometry(res=int(beam+1)*utils.arcmin,proj='car')\n",
    "        map_pix = reproject.enmap_from_healpix(pl,shape=shape,wcs=wcs)\n",
    "    return map_pix\n",
    "\n",
    "\n",
    "def extract_intensity(map_pix, ras, decs, beam):\n",
    "    N = len(ras)\n",
    "    stack_CMB_kSZ           = 0\n",
    "    stack_CMB_kSZ_deproject = 0\n",
    "    c = 0\n",
    "\n",
    "    signal = []\n",
    "    signal_ring = []\n",
    "    ras_used = []\n",
    "    decs_used = []\n",
    "    for i in range(N):\n",
    "        stamp = reproject.thumbnails(map_pix,coords = np.deg2rad([decs[i], ras[i]]),r=beam*utils.arcmin)\n",
    "        stamp2 = reproject.thumbnails(map_pix,coords = np.deg2rad([decs[i], ras[i]]),r=beam*2*utils.arcmin)\n",
    "\n",
    "        if stamp is None:\n",
    "            signal.append(-9999)\n",
    "            signal_ring.append(-9999)\n",
    "        elif stamp[0][0][0]==0.0:\n",
    "            signal.append(-9999)\n",
    "            signal_ring.append(-9999)\n",
    "        else:\n",
    "            signal_sum = sum(sum(stamp[0]))\n",
    "            signal2_sum = sum(sum(stamp2[0]))\n",
    "            num_pix_signal = len(stamp[0][0])*len(stamp[0][0])\n",
    "            num_pix_signal2 = len(stamp2[0][0])*len(stamp2[0][0])            \n",
    "            signal.append(signal_sum/num_pix_signal)\n",
    "            signal_ring.append((signal2_sum-signal_sum)/(num_pix_signal2-num_pix_signal))\n",
    "        ras_used.append(ras[i])\n",
    "        decs_used.append(decs[i])\n",
    "\n",
    "    return signal, signal_ring, ras_used, decs_used\n",
    "\n",
    "\n",
    "def output_signal(signal,signal_ring,output_fp,output_fp_signal):\n",
    "    np.savetxt(output_fp,\n",
    "               signal,\n",
    "               delimiter=\", \",\n",
    "               fmt='% s')\n",
    "    np.savetxt(output_fp_signal,\n",
    "               signal_ring,\n",
    "               delimiter=\", \",\n",
    "               fmt='% s')"
   ]
  },
  {
   "cell_type": "code",
   "execution_count": 5,
   "id": "a2164b19",
   "metadata": {},
   "outputs": [
    {
     "name": "stdout",
     "output_type": "stream",
     "text": [
      "Preparing SHT\n",
      "T -> alm\n",
      "float64 complex128\n",
      "Computing pixel positions\n",
      "Computing rotated positions\n",
      "Projecting\n"
     ]
    }
   ],
   "source": [
    "real = pd.read_csv('data/awd.csv',skiprows=0,index_col=0)\n",
    "ras_real = real['amf_ra'].reset_index(drop=True)\n",
    "decs_real = real['amf_dec'].reset_index(drop=True)\n",
    "\n",
    "ras_all = ras_real\n",
    "decs_all = decs_real\n",
    "\n",
    "maps = \"data/HFI_SkyMap_100-field-IQU_2048_R3.00_full.fits\"\n",
    "beam = 2*9.659\n",
    "map_pix = import_map(maps, int(beam))\n",
    "\n",
    "outputs = \"output/doublebeam/pr100.csv\"\n",
    "outputs2 = \"output/doublebeam/pr100_r.csv\"\n",
    "\n",
    "signal, signal_ring, ras_used, decs_used = extract_intensity(map_pix, ras_all, decs_all, beam)\n",
    "output_signal(signal, signal_ring, outputs, outputs2)"
   ]
  },
  {
   "cell_type": "code",
   "execution_count": 4,
   "id": "83f0c593",
   "metadata": {},
   "outputs": [
    {
     "name": "stdout",
     "output_type": "stream",
     "text": [
      "Preparing SHT\n",
      "T -> alm\n",
      "float64 complex128\n",
      "Computing pixel positions\n",
      "Computing rotated positions\n",
      "Projecting\n"
     ]
    }
   ],
   "source": [
    "real = pd.read_csv('data/awd.csv',skiprows=0,index_col=0)\n",
    "ras_real = real['amf_ra'].reset_index(drop=True)\n",
    "decs_real = real['amf_dec'].reset_index(drop=True)\n",
    "\n",
    "ras_all = ras_real\n",
    "decs_all = decs_real\n",
    "\n",
    "maps = \"data/HFI_SkyMap_143-field-IQU_2048_R3.00_full.fits\"\n",
    "beam = \n",
    "map_pix = import_map(maps, int(beam))\n",
    "\n",
    "outputs = \"output/doublebeam/pr143.csv\"\n",
    "outputs2 = \"output/doublebeam/pr143_r.csv\"\n",
    "\n",
    "signal, signal_ring, ras_used, decs_used = extract_intensity(map_pix, ras_all, decs_all, beam)\n",
    "output_signal(signal, signal_ring, outputs, outputs2)"
   ]
  },
  {
   "cell_type": "code",
   "execution_count": 5,
   "id": "fa0fbe29",
   "metadata": {},
   "outputs": [
    {
     "name": "stdout",
     "output_type": "stream",
     "text": [
      "Preparing SHT\n",
      "T -> alm\n",
      "float64 complex128\n",
      "Computing pixel positions\n",
      "Computing rotated positions\n",
      "Projecting\n"
     ]
    }
   ],
   "source": [
    "real = pd.read_csv('data/awd.csv',skiprows=0,index_col=0)\n",
    "ras_real = real['amf_ra'].reset_index(drop=True)\n",
    "decs_real = real['amf_dec'].reset_index(drop=True)\n",
    "\n",
    "ras_all = ras_real\n",
    "decs_all = decs_real\n",
    "\n",
    "maps = \"data/HFI_SkyMap_217-field-IQU_2048_R3.00_full.fits\"\n",
    "beam = \n",
    "map_pix = import_map(maps, int(beam))\n",
    "\n",
    "outputs = \"output/doublebeam/pr217.csv\"\n",
    "outputs2 = \"output/doublebeam/pr217_r.csv\"\n",
    "\n",
    "signal, signal_ring, ras_used, decs_used = extract_intensity(map_pix, ras_all, decs_all, beam)\n",
    "output_signal(signal, signal_ring, outputs, outputs2)"
   ]
  },
  {
   "cell_type": "code",
   "execution_count": 6,
   "id": "379cab15",
   "metadata": {},
   "outputs": [
    {
     "name": "stdout",
     "output_type": "stream",
     "text": [
      "Preparing SHT\n",
      "T -> alm\n",
      "float64 complex128\n",
      "Computing pixel positions\n",
      "Computing rotated positions\n",
      "Projecting\n"
     ]
    }
   ],
   "source": [
    "real = pd.read_csv('data/awd.csv',skiprows=0,index_col=0)\n",
    "ras_real = real['amf_ra'].reset_index(drop=True)\n",
    "decs_real = real['amf_dec'].reset_index(drop=True)\n",
    "\n",
    "ras_all = ras_real\n",
    "decs_all = decs_real\n",
    "\n",
    "maps = \"data/HFI_SkyMap_353-psb-field-IQU_2048_R3.00_full.fits\"\n",
    "beam = \n",
    "map_pix = import_map(maps, int(beam))\n",
    "\n",
    "outputs = \"output/doublebeam/pr353.csv\"\n",
    "outputs2 = \"output/doublebeam/pr353_r.csv\"\n",
    "\n",
    "signal, signal_ring, ras_used, decs_used = extract_intensity(map_pix, ras_all, decs_all, beam)\n",
    "output_signal(signal, signal_ring, outputs, outputs2)"
   ]
  },
  {
   "cell_type": "code",
   "execution_count": 6,
   "id": "a7dd5fd1",
   "metadata": {},
   "outputs": [],
   "source": [
    "def extract_intensity(map_pix, ras, decs, beam):\n",
    "    N = len(ras)\n",
    "    stack_CMB_kSZ           = 0\n",
    "    stack_CMB_kSZ_deproject = 0\n",
    "    c = 0\n",
    "\n",
    "    signal = []\n",
    "    signal_ring = []\n",
    "    ras_used = []\n",
    "    decs_used = []\n",
    "    for i in range(N):\n",
    "        dust = reproject.thumbnails(map_pix,coords = np.deg2rad([decs[i], ras[i]]),r=30*utils.arcmin)\n",
    "        stamp = reproject.thumbnails(map_pix,coords = np.deg2rad([decs[i], ras[i]]),r=beam*utils.arcmin)\n",
    "        stamp2 = reproject.thumbnails(map_pix,coords = np.deg2rad([decs[i], ras[i]]),r=2*beam*utils.arcmin)\n",
    "\n",
    "        if stamp is None:\n",
    "            signal.append(-9999)\n",
    "            signal_ring.append(-9999)\n",
    "        elif stamp[0][0][0]==0.0:\n",
    "            signal.append(-9999)\n",
    "            signal_ring.append(-9999)\n",
    "        elif dust is None:\n",
    "            signal.append(-9999)\n",
    "            signal_ring.append(-9999)\n",
    "        elif dust[0][0][0]==0.0:\n",
    "            signal.append(-9999)\n",
    "            signal_ring.append(-9999)\n",
    "        else:\n",
    "            dust_sum = sum(sum(dust[0]))\n",
    "            num_pix_dust = len(dust[0][0])*len(dust[0][0])\n",
    "            signal_sum = sum(sum(stamp[0]))\n",
    "            num_pix_signal = len(stamp[0][0])*len(stamp[0][0])\n",
    "            signal2_sum = sum(sum(stamp2[0]))\n",
    "            num_pix_signal2 = len(stamp2[0][0])*len(stamp2[0][0])            \n",
    "                        \n",
    "            signal.append((signal_sum/num_pix_signal)-(dust_sum/num_pix_dust))\n",
    "            signal_ring.append(((signal2_sum-signal_sum)/(num_pix_signal2-num_pix_signal))-(dust_sum/num_pix_dust))\n",
    "            \n",
    "        ras_used.append(ras[i])\n",
    "        decs_used.append(decs[i])\n",
    "\n",
    "    return signal, signal_ring, ras_used, decs_used"
   ]
  },
  {
   "cell_type": "code",
   "execution_count": 7,
   "id": "933ff642",
   "metadata": {},
   "outputs": [
    {
     "name": "stdout",
     "output_type": "stream",
     "text": [
      "Preparing SHT\n",
      "T -> alm\n",
      "float64 complex128\n",
      "Computing pixel positions\n",
      "Computing rotated positions\n",
      "Projecting\n"
     ]
    }
   ],
   "source": [
    "real = pd.read_csv('data/awd.csv',skiprows=0,index_col=0)\n",
    "ras_real = real['amf_ra'].reset_index(drop=True)\n",
    "decs_real = real['amf_dec'].reset_index(drop=True)\n",
    "\n",
    "ras_all = ras_real\n",
    "decs_all = decs_real\n",
    "\n",
    "maps = \"data/HFI_SkyMap_545-field-Int_2048_R3.00_full.fits\"\n",
    "beam = 2*4.675\n",
    "map_pix = import_map(maps, int(beam))\n",
    "\n",
    "outputs = \"output/doublebeam/pr545.csv\"\n",
    "outputs2 = \"output/doublebeam/pr545_r.csv\"\n",
    "\n",
    "signal, signal_ring, ras_used, decs_used = extract_intensity(map_pix, ras_all, decs_all, beam)\n",
    "output_signal(signal, signal_ring, outputs, outputs2)"
   ]
  },
  {
   "cell_type": "code",
   "execution_count": 8,
   "id": "16b51276",
   "metadata": {},
   "outputs": [
    {
     "name": "stdout",
     "output_type": "stream",
     "text": [
      "Preparing SHT\n",
      "T -> alm\n",
      "float64 complex128\n",
      "Computing pixel positions\n",
      "Computing rotated positions\n",
      "Projecting\n"
     ]
    }
   ],
   "source": [
    "real = pd.read_csv('data/awd.csv',skiprows=0,index_col=0)\n",
    "ras_real = real['amf_ra'].reset_index(drop=True)\n",
    "decs_real = real['amf_dec'].reset_index(drop=True)\n",
    "\n",
    "ras_all = ras_real\n",
    "decs_all = decs_real\n",
    "\n",
    "maps = \"data/HFI_SkyMap_857-field-Int_2048_R3.00_full.fits\"\n",
    "beam = 2*4.216\n",
    "map_pix = import_map(maps, int(beam))\n",
    "\n",
    "outputs = \"output/doublebeam/pr857.csv\"\n",
    "outputs2 = \"output/doublebeam/pr857_r.csv\"\n",
    "\n",
    "signal, signal_ring, ras_used, decs_used = extract_intensity(map_pix, ras_all, decs_all, beam)\n",
    "output_signal(signal, signal_ring, outputs, outputs2)"
   ]
  },
  {
   "cell_type": "markdown",
   "id": "640b56d3",
   "metadata": {},
   "source": [
    "### Non-clusters"
   ]
  },
  {
   "cell_type": "code",
   "execution_count": 9,
   "id": "c04066aa",
   "metadata": {},
   "outputs": [],
   "source": [
    "def import_map(filepath, beam):\n",
    "    pl = hp.read_map(filepath)\n",
    "    pl[pl<-1e23]=0\n",
    "    try:\n",
    "        shape,wcs = enmap.fullsky_geometry(res=int(beam)*utils.arcmin,proj='car')\n",
    "        map_pix = reproject.enmap_from_healpix(pl,shape=shape,wcs=wcs)\n",
    "    except:\n",
    "        shape,wcs = enmap.fullsky_geometry(res=int(beam+1)*utils.arcmin,proj='car')\n",
    "        map_pix = reproject.enmap_from_healpix(pl,shape=shape,wcs=wcs)\n",
    "    return map_pix\n",
    "\n",
    "\n",
    "def extract_intensity(map_pix, ras, decs, beam):\n",
    "    N = len(ras)\n",
    "    stack_CMB_kSZ           = 0\n",
    "    stack_CMB_kSZ_deproject = 0\n",
    "    c = 0\n",
    "\n",
    "    signal = []\n",
    "    signal_ring = []\n",
    "    ras_used = []\n",
    "    decs_used = []\n",
    "    for i in range(N):\n",
    "        stamp = reproject.thumbnails(map_pix,coords = np.deg2rad([decs[i], ras[i]]),r=beam*utils.arcmin)\n",
    "        stamp2 = reproject.thumbnails(map_pix,coords = np.deg2rad([decs[i], ras[i]]),r=beam*2*utils.arcmin)\n",
    "\n",
    "        if stamp is None:\n",
    "            signal.append(-9999)\n",
    "            signal_ring.append(-9999)\n",
    "        elif stamp[0][0][0]==0.0:\n",
    "            signal.append(-9999)\n",
    "            signal_ring.append(-9999)\n",
    "        else:\n",
    "            signal_sum = sum(sum(stamp[0]))\n",
    "            signal2_sum = sum(sum(stamp2[0]))\n",
    "            num_pix_signal = len(stamp[0][0])*len(stamp[0][0])\n",
    "            num_pix_signal2 = len(stamp2[0][0])*len(stamp2[0][0])            \n",
    "            signal.append(signal_sum/num_pix_signal)\n",
    "            signal_ring.append((signal2_sum-signal_sum)/(num_pix_signal2-num_pix_signal))\n",
    "        ras_used.append(ras[i])\n",
    "        decs_used.append(decs[i])\n",
    "\n",
    "    return signal, signal_ring, ras_used, decs_used\n",
    "\n",
    "\n",
    "def output_signal(signal,signal_ring,output_fp,output_fp_signal):\n",
    "    np.savetxt(output_fp,\n",
    "               signal,\n",
    "               delimiter=\", \",\n",
    "               fmt='% s')\n",
    "    np.savetxt(output_fp_signal,\n",
    "               signal_ring,\n",
    "               delimiter=\", \",\n",
    "               fmt='% s')"
   ]
  },
  {
   "cell_type": "code",
   "execution_count": 10,
   "id": "1be9c642",
   "metadata": {},
   "outputs": [
    {
     "name": "stdout",
     "output_type": "stream",
     "text": [
      "Preparing SHT\n",
      "T -> alm\n",
      "float64 complex128\n",
      "Computing pixel positions\n",
      "Computing rotated positions\n",
      "Projecting\n"
     ]
    }
   ],
   "source": [
    "voids = pd.read_csv('data/voids.csv',skiprows=0,index_col=0)\n",
    "ras_voids = voids['ras'].reset_index(drop=True)\n",
    "decs_voids = voids['decs'].reset_index(drop=True)\n",
    "\n",
    "ras_all = ras_voids\n",
    "decs_all = decs_voids\n",
    "\n",
    "maps = \"data/HFI_SkyMap_100-field-IQU_2048_R3.00_full.fits\"\n",
    "beam = 2*9.659\n",
    "map_pix = import_map(maps, int(beam))\n",
    "\n",
    "outputs = \"output/doublebeam/pv100.csv\"\n",
    "outputs2 = \"output/doublebeam/pv100_r.csv\"\n",
    "\n",
    "signal, signal_ring, ras_used, decs_used = extract_intensity(map_pix, ras_all, decs_all, beam)\n",
    "output_signal(signal, signal_ring, outputs, outputs2)"
   ]
  },
  {
   "cell_type": "code",
   "execution_count": 12,
   "id": "a11a62b9",
   "metadata": {},
   "outputs": [
    {
     "name": "stdout",
     "output_type": "stream",
     "text": [
      "Preparing SHT\n",
      "T -> alm\n",
      "float64 complex128\n",
      "Computing pixel positions\n",
      "Computing rotated positions\n",
      "Projecting\n"
     ]
    }
   ],
   "source": [
    "voids = pd.read_csv('data/voids.csv',skiprows=0,index_col=0)\n",
    "ras_voids = voids['ras'].reset_index(drop=True)\n",
    "decs_voids = voids['decs'].reset_index(drop=True)\n",
    "\n",
    "ras_all = ras_voids\n",
    "decs_all = decs_voids\n",
    "\n",
    "maps = \"data/HFI_SkyMap_143-field-IQU_2048_R3.00_full.fits\"\n",
    "beam = \n",
    "map_pix = import_map(maps, int(beam))\n",
    "\n",
    "outputs = \"output/doublebeam/pv143.csv\"\n",
    "outputs2 = \"output/doublebeam/pv143_r.csv\"\n",
    "\n",
    "signal, signal_ring, ras_used, decs_used = extract_intensity(map_pix, ras_all, decs_all, beam)\n",
    "output_signal(signal, signal_ring, outputs, outputs2)"
   ]
  },
  {
   "cell_type": "code",
   "execution_count": 13,
   "id": "ca212654",
   "metadata": {},
   "outputs": [
    {
     "name": "stdout",
     "output_type": "stream",
     "text": [
      "Preparing SHT\n",
      "T -> alm\n",
      "float64 complex128\n",
      "Computing pixel positions\n",
      "Computing rotated positions\n",
      "Projecting\n"
     ]
    }
   ],
   "source": [
    "voids = pd.read_csv('data/voids.csv',skiprows=0,index_col=0)\n",
    "ras_voids = voids['ras'].reset_index(drop=True)\n",
    "decs_voids = voids['decs'].reset_index(drop=True)\n",
    "\n",
    "ras_all = ras_voids\n",
    "decs_all = decs_voids\n",
    "\n",
    "maps = \"data/HFI_SkyMap_217-field-IQU_2048_R3.00_full.fits\"\n",
    "beam = \n",
    "map_pix = import_map(maps, int(beam))\n",
    "\n",
    "outputs = \"output/doublebeam/pv217.csv\"\n",
    "outputs2 = \"output/doublebeam/pv217_r.csv\"\n",
    "\n",
    "signal, signal_ring, ras_used, decs_used = extract_intensity(map_pix, ras_all, decs_all, beam)\n",
    "output_signal(signal, signal_ring, outputs, outputs2)"
   ]
  },
  {
   "cell_type": "code",
   "execution_count": 14,
   "id": "bcfdcdb2",
   "metadata": {},
   "outputs": [
    {
     "name": "stdout",
     "output_type": "stream",
     "text": [
      "Preparing SHT\n",
      "T -> alm\n",
      "float64 complex128\n",
      "Computing pixel positions\n",
      "Computing rotated positions\n",
      "Projecting\n"
     ]
    }
   ],
   "source": [
    "voids = pd.read_csv('data/voids.csv',skiprows=0,index_col=0)\n",
    "ras_voids = voids['ras'].reset_index(drop=True)\n",
    "decs_voids = voids['decs'].reset_index(drop=True)\n",
    "\n",
    "ras_all = ras_voids\n",
    "decs_all = decs_voids\n",
    "\n",
    "maps = \"data/HFI_SkyMap_353-psb-field-IQU_2048_R3.00_full.fits\"\n",
    "beam = \n",
    "map_pix = import_map(maps, int(beam))\n",
    "\n",
    "outputs = \"output/doublebeam/pv353.csv\"\n",
    "outputs2 = \"output/doublebeam/pv353_r.csv\"\n",
    "\n",
    "signal, signal_ring, ras_used, decs_used = extract_intensity(map_pix, ras_all, decs_all, beam)\n",
    "output_signal(signal, signal_ring, outputs, outputs2)"
   ]
  },
  {
   "cell_type": "code",
   "execution_count": 11,
   "id": "12512616",
   "metadata": {},
   "outputs": [],
   "source": [
    "def extract_intensity(map_pix, ras, decs, beam):\n",
    "    N = len(ras)\n",
    "    stack_CMB_kSZ           = 0\n",
    "    stack_CMB_kSZ_deproject = 0\n",
    "    c = 0\n",
    "\n",
    "    signal = []\n",
    "    signal_ring = []\n",
    "    ras_used = []\n",
    "    decs_used = []\n",
    "    for i in range(N):\n",
    "        dust = reproject.thumbnails(map_pix,coords = np.deg2rad([decs[i], ras[i]]),r=30*utils.arcmin)\n",
    "        stamp = reproject.thumbnails(map_pix,coords = np.deg2rad([decs[i], ras[i]]),r=beam*utils.arcmin)\n",
    "        stamp2 = reproject.thumbnails(map_pix,coords = np.deg2rad([decs[i], ras[i]]),r=2*beam*utils.arcmin)\n",
    "\n",
    "        if stamp is None:\n",
    "            signal.append(-9999)\n",
    "            signal_ring.append(-9999)\n",
    "        elif stamp[0][0][0]==0.0:\n",
    "            signal.append(-9999)\n",
    "            signal_ring.append(-9999)\n",
    "        elif dust is None:\n",
    "            signal.append(-9999)\n",
    "            signal_ring.append(-9999)\n",
    "        elif dust[0][0][0]==0.0:\n",
    "            signal.append(-9999)\n",
    "            signal_ring.append(-9999)\n",
    "        else:\n",
    "            dust_sum = sum(sum(dust[0]))\n",
    "            num_pix_dust = len(dust[0][0])*len(dust[0][0])\n",
    "            signal_sum = sum(sum(stamp[0]))\n",
    "            num_pix_signal = len(stamp[0][0])*len(stamp[0][0])\n",
    "            signal2_sum = sum(sum(stamp2[0]))\n",
    "            num_pix_signal2 = len(stamp2[0][0])*len(stamp2[0][0])            \n",
    "                        \n",
    "            signal.append((signal_sum/num_pix_signal)-(dust_sum/num_pix_dust))\n",
    "            signal_ring.append(((signal2_sum-signal_sum)/(num_pix_signal2-num_pix_signal))-(dust_sum/num_pix_dust))\n",
    "            \n",
    "        ras_used.append(ras[i])\n",
    "        decs_used.append(decs[i])\n",
    "\n",
    "    return signal, signal_ring, ras_used, decs_used"
   ]
  },
  {
   "cell_type": "code",
   "execution_count": 12,
   "id": "ac68bba4",
   "metadata": {},
   "outputs": [
    {
     "name": "stdout",
     "output_type": "stream",
     "text": [
      "Preparing SHT\n",
      "T -> alm\n",
      "float64 complex128\n",
      "Computing pixel positions\n",
      "Computing rotated positions\n",
      "Projecting\n"
     ]
    }
   ],
   "source": [
    "voids = pd.read_csv('data/voids.csv',skiprows=0,index_col=0)\n",
    "ras_voids = voids['ras'].reset_index(drop=True)\n",
    "decs_voids = voids['decs'].reset_index(drop=True)\n",
    "\n",
    "ras_all = ras_voids\n",
    "decs_all = decs_voids\n",
    "\n",
    "maps = \"data/HFI_SkyMap_545-field-Int_2048_R3.00_full.fits\"\n",
    "beam = 2*4.675\n",
    "map_pix = import_map(maps, int(beam))\n",
    "\n",
    "outputs = \"output/doublebeam/pv545.csv\"\n",
    "outputs2 = \"output/doublebeam/pv545_r.csv\"\n",
    "\n",
    "signal, signal_ring, ras_used, decs_used = extract_intensity(map_pix, ras_all, decs_all, beam)\n",
    "output_signal(signal, signal_ring, outputs, outputs2)"
   ]
  },
  {
   "cell_type": "code",
   "execution_count": 13,
   "id": "f3b50271",
   "metadata": {},
   "outputs": [
    {
     "name": "stdout",
     "output_type": "stream",
     "text": [
      "Preparing SHT\n",
      "T -> alm\n",
      "float64 complex128\n",
      "Computing pixel positions\n",
      "Computing rotated positions\n",
      "Projecting\n"
     ]
    }
   ],
   "source": [
    "voids = pd.read_csv('data/voids.csv',skiprows=0,index_col=0)\n",
    "ras_voids = voids['ras'].reset_index(drop=True)\n",
    "decs_voids = voids['decs'].reset_index(drop=True)\n",
    "\n",
    "ras_all = ras_voids\n",
    "decs_all = decs_voids\n",
    "\n",
    "maps = \"data/HFI_SkyMap_857-field-Int_2048_R3.00_full.fits\"\n",
    "beam = 2*4.216\n",
    "map_pix = import_map(maps, int(beam))\n",
    "\n",
    "outputs = \"output/doublebeam/pv857.csv\"\n",
    "outputs2 = \"output/doublebeam/pv857_r.csv\"\n",
    "\n",
    "signal, signal_ring, ras_used, decs_used = extract_intensity(map_pix, ras_all, decs_all, beam)\n",
    "output_signal(signal, signal_ring, outputs, outputs2)"
   ]
  },
  {
   "cell_type": "markdown",
   "id": "1d085af4",
   "metadata": {},
   "source": [
    "---"
   ]
  },
  {
   "cell_type": "markdown",
   "id": "3361a7ce",
   "metadata": {},
   "source": [
    "### ACT"
   ]
  },
  {
   "cell_type": "markdown",
   "id": "28b2c1b4",
   "metadata": {},
   "source": [
    "### Real"
   ]
  },
  {
   "cell_type": "code",
   "execution_count": 19,
   "id": "83302845",
   "metadata": {},
   "outputs": [],
   "source": [
    "def import_map(filepath, beam):\n",
    "    pl = hp.read_map(filepath)\n",
    "    pl[pl<-1e23]=0\n",
    "    try:\n",
    "        shape,wcs = enmap.fullsky_geometry(res=int(beam)*utils.arcmin,proj='car')\n",
    "        map_pix = reproject.enmap_from_healpix(pl,shape=shape,wcs=wcs)\n",
    "    except:\n",
    "        shape,wcs = enmap.fullsky_geometry(res=int(beam+1)*utils.arcmin,proj='car')\n",
    "        map_pix = reproject.enmap_from_healpix(pl,shape=shape,wcs=wcs)\n",
    "    return map_pix\n",
    "\n",
    "\n",
    "def extract_intensity(map_pix, ras, decs, beam):\n",
    "    N = len(ras)\n",
    "    stack_CMB_kSZ           = 0\n",
    "    stack_CMB_kSZ_deproject = 0\n",
    "    c = 0\n",
    "\n",
    "    signal = []\n",
    "    signal_ring = []\n",
    "    ras_used = []\n",
    "    decs_used = []\n",
    "    for i in tqdm(range(N)):\n",
    "        stamp = reproject.thumbnails(map_pix,coords = np.deg2rad([decs[i], ras[i]]),r=beam*utils.arcmin)\n",
    "        stamp2 = reproject.thumbnails(map_pix,coords = np.deg2rad([decs[i], ras[i]]),r=beam*2*utils.arcmin)\n",
    "\n",
    "        if stamp is None:\n",
    "            signal.append(-9999)\n",
    "            signal_ring.append(-9999)\n",
    "        elif stamp[0][0][0]==0.0:\n",
    "            signal.append(-9999)\n",
    "            signal_ring.append(-9999)\n",
    "        else:\n",
    "            signal_sum = sum(sum(stamp[0]))\n",
    "            signal2_sum = sum(sum(stamp2[0]))\n",
    "            num_pix_signal = len(stamp[0][0])*len(stamp[0][0])\n",
    "            num_pix_signal2 = len(stamp2[0][0])*len(stamp2[0][0])            \n",
    "            signal.append(signal_sum/num_pix_signal)\n",
    "            signal_ring.append((signal2_sum-signal_sum)/(num_pix_signal2-num_pix_signal))\n",
    "        ras_used.append(ras[i])\n",
    "        decs_used.append(decs[i])\n",
    "\n",
    "    return signal, signal_ring, ras_used, decs_used\n",
    "\n",
    "\n",
    "def output_signal(signal,signal_ring,output_fp,output_fp_signal):\n",
    "    np.savetxt(output_fp,\n",
    "               signal,\n",
    "               delimiter=\", \",\n",
    "               fmt='% s')\n",
    "    np.savetxt(output_fp_signal,\n",
    "               signal_ring,\n",
    "               delimiter=\", \",\n",
    "               fmt='% s')"
   ]
  },
  {
   "cell_type": "code",
   "execution_count": 21,
   "id": "cf795c39",
   "metadata": {},
   "outputs": [
    {
     "name": "stderr",
     "output_type": "stream",
     "text": [
      "100%|████████████████████████████████████████████████████████████████████████████████████████████████████████████████████████████████████████████████████████████████████████| 31535/31535 [17:07<00:00, 30.68it/s]\n"
     ]
    }
   ],
   "source": [
    "real = pd.read_csv('data/awd.csv',skiprows=0,index_col=0)\n",
    "ras_real = real['amf_ra'].reset_index(drop=True)\n",
    "decs_real = real['amf_dec'].reset_index(drop=True)\n",
    "\n",
    "ras_all = ras_real\n",
    "decs_all = decs_real\n",
    "\n",
    "beam = \n",
    "map_pix = enmap.read_map(\"data/act_dr5.01_s08s18_AA_f090_daynight_map.fits\")\n",
    "outputs = \"output/doublebeam/ar90.csv\"\n",
    "outputs2 = \"output/doublebeam/ar90_r.csv\"\n",
    "\n",
    "signal, signal_ring, ras_used, decs_used = extract_intensity(map_pix, ras_all, decs_all, beam)\n",
    "output_signal(signal, signal_ring, outputs, outputs2)"
   ]
  },
  {
   "cell_type": "code",
   "execution_count": 22,
   "id": "ceaa919a",
   "metadata": {},
   "outputs": [
    {
     "name": "stderr",
     "output_type": "stream",
     "text": [
      "100%|████████████████████████████████████████████████████████████████████████████████████████████████████████████████████████████████████████████████████████████████████████| 31535/31535 [18:30<00:00, 28.39it/s]\n"
     ]
    }
   ],
   "source": [
    "real = pd.read_csv('data/awd.csv',skiprows=0,index_col=0)\n",
    "ras_real = real['amf_ra'].reset_index(drop=True)\n",
    "decs_real = real['amf_dec'].reset_index(drop=True)\n",
    "\n",
    "ras_all = ras_real\n",
    "decs_all = decs_real\n",
    "\n",
    "beam = \n",
    "map_pix = enmap.read_map(\"data/act_dr5.01_s08s18_AA_f150_daynight_map.fits\")\n",
    "outputs = \"output/doublebeam/ar150.csv\"\n",
    "outputs2 = \"output/doublebeam/ar150_r.csv\"\n",
    "\n",
    "signal, signal_ring, ras_used, decs_used = extract_intensity(map_pix, ras_all, decs_all, beam)\n",
    "output_signal(signal, signal_ring, outputs, outputs2)"
   ]
  },
  {
   "cell_type": "code",
   "execution_count": 23,
   "id": "dee64db9",
   "metadata": {},
   "outputs": [
    {
     "name": "stderr",
     "output_type": "stream",
     "text": [
      "100%|████████████████████████████████████████████████████████████████████████████████████████████████████████████████████████████████████████████████████████████████████████| 31535/31535 [18:01<00:00, 29.15it/s]\n"
     ]
    }
   ],
   "source": [
    "real = pd.read_csv('data/awd.csv',skiprows=0,index_col=0)\n",
    "ras_real = real['amf_ra'].reset_index(drop=True)\n",
    "decs_real = real['amf_dec'].reset_index(drop=True)\n",
    "\n",
    "ras_all = ras_real\n",
    "decs_all = decs_real\n",
    "\n",
    "beam = \n",
    "map_pix = enmap.read_map(\"data/act_dr5.01_s08s18_AA_f220_daynight_map.fits\")\n",
    "outputs = \"output/doublebeam/ar220.csv\"\n",
    "outputs2 = \"output/doublebeam/ar220_r.csv\"\n",
    "\n",
    "signal, signal_ring, ras_used, decs_used = extract_intensity(map_pix, ras_all, decs_all, beam)\n",
    "output_signal(signal, signal_ring, outputs, outputs2)"
   ]
  },
  {
   "cell_type": "markdown",
   "id": "d86e5392",
   "metadata": {},
   "source": [
    "### Non-clusters"
   ]
  },
  {
   "cell_type": "code",
   "execution_count": 24,
   "id": "e3b662ae",
   "metadata": {},
   "outputs": [
    {
     "name": "stderr",
     "output_type": "stream",
     "text": [
      "100%|████████████████████████████████████████████████████████████████████████████████████████████████████████████████████████████████████████████████████████████████████████| 47231/47231 [46:24<00:00, 16.96it/s]\n"
     ]
    }
   ],
   "source": [
    "voids = pd.read_csv('data/voids.csv',skiprows=0,index_col=0)\n",
    "ras_voids = voids['ras'].reset_index(drop=True)\n",
    "decs_voids = voids['decs'].reset_index(drop=True)\n",
    "\n",
    "ras_all = ras_voids\n",
    "decs_all = decs_voids\n",
    "\n",
    "beam = \n",
    "map_pix = enmap.read_map(\"data/act_dr5.01_s08s18_AA_f090_daynight_map.fits\")\n",
    "outputs = \"output/doublebeam/av90.csv\"\n",
    "outputs2 = \"output/doublebeam/av90_r.csv\"\n",
    "\n",
    "signal, signal_ring, ras_used, decs_used = extract_intensity(map_pix, ras_all, decs_all, beam)\n",
    "output_signal(signal, signal_ring, outputs, outputs2)"
   ]
  },
  {
   "cell_type": "code",
   "execution_count": 25,
   "id": "66eb6a89",
   "metadata": {},
   "outputs": [
    {
     "name": "stderr",
     "output_type": "stream",
     "text": [
      "100%|████████████████████████████████████████████████████████████████████████████████████████████████████████████████████████████████████████████████████████████████████████| 47231/47231 [26:54<00:00, 29.25it/s]\n"
     ]
    }
   ],
   "source": [
    "voids = pd.read_csv('data/voids.csv',skiprows=0,index_col=0)\n",
    "ras_voids = voids['ras'].reset_index(drop=True)\n",
    "decs_voids = voids['decs'].reset_index(drop=True)\n",
    "\n",
    "ras_all = ras_voids\n",
    "decs_all = decs_voids\n",
    "\n",
    "beam = \n",
    "map_pix = enmap.read_map(\"data/act_dr5.01_s08s18_AA_f150_daynight_map.fits\")\n",
    "outputs = \"output/doublebeam/av150.csv\"\n",
    "outputs2 = \"output/doublebeam/av150_r.csv\"\n",
    "\n",
    "signal, signal_ring, ras_used, decs_used = extract_intensity(map_pix, ras_all, decs_all, beam)\n",
    "output_signal(signal, signal_ring, outputs, outputs2)"
   ]
  },
  {
   "cell_type": "code",
   "execution_count": 26,
   "id": "35050b86",
   "metadata": {},
   "outputs": [
    {
     "name": "stderr",
     "output_type": "stream",
     "text": [
      "100%|████████████████████████████████████████████████████████████████████████████████████████████████████████████████████████████████████████████████████████████████████████| 47231/47231 [26:27<00:00, 29.75it/s]\n"
     ]
    }
   ],
   "source": [
    "voids = pd.read_csv('data/voids.csv',skiprows=0,index_col=0)\n",
    "ras_voids = voids['ras'].reset_index(drop=True)\n",
    "decs_voids = voids['decs'].reset_index(drop=True)\n",
    "\n",
    "ras_all = ras_voids\n",
    "decs_all = decs_voids\n",
    "\n",
    "beam = \n",
    "map_pix = enmap.read_map(\"data/act_dr5.01_s08s18_AA_f220_daynight_map.fits\")\n",
    "outputs = \"output/doublebeam/av220.csv\"\n",
    "outputs2 = \"output/doublebeam/av220_r.csv\"\n",
    "\n",
    "signal, signal_ring, ras_used, decs_used = extract_intensity(map_pix, ras_all, decs_all, beam)\n",
    "output_signal(signal, signal_ring, outputs, outputs2)"
   ]
  },
  {
   "cell_type": "markdown",
   "id": "fdb4a5e0",
   "metadata": {},
   "source": [
    "---"
   ]
  },
  {
   "cell_type": "markdown",
   "id": "3b983050",
   "metadata": {},
   "source": [
    "## Rosat"
   ]
  },
  {
   "cell_type": "markdown",
   "id": "9ddfb623",
   "metadata": {},
   "source": [
    "### Real"
   ]
  },
  {
   "cell_type": "code",
   "execution_count": 27,
   "id": "e852a09d",
   "metadata": {},
   "outputs": [],
   "source": [
    "def import_map(beam):\n",
    "    ros = hp.read_map(\"data/rass_healpix_countsec.fits\")\n",
    "    mask = hp.read_map(\"data/mask_comprass.fits\")\n",
    "\n",
    "    ros[ros<-1e23]=0\n",
    "\n",
    "    masked_ros = []\n",
    "    for i in tqdm(range(len(mask))):\n",
    "        masked_ros.append(0)\n",
    "        if mask[i]:\n",
    "            masked_ros[i]=ros[i]\n",
    "\n",
    "    masked_ros = np.array(masked_ros)\n",
    "\n",
    "    shape,wcs = enmap.fullsky_geometry(res=beam * utils.arcmin,proj='car')\n",
    "    map_pix = reproject.enmap_from_healpix(masked_ros,shape=shape,wcs=wcs)\n",
    "\n",
    "    return map_pix"
   ]
  },
  {
   "cell_type": "code",
   "execution_count": 28,
   "id": "b1d3f10c",
   "metadata": {},
   "outputs": [
    {
     "name": "stderr",
     "output_type": "stream",
     "text": [
      "100%|███████████████████████████████████████████████████████████████████████████████████████████████████████████████████████████████████████████████████████████| 201326592/201326592 [00:41<00:00, 4909771.51it/s]\n"
     ]
    },
    {
     "name": "stdout",
     "output_type": "stream",
     "text": [
      "Preparing SHT\n",
      "T -> alm\n",
      "float64 complex128\n",
      "Computing pixel positions\n",
      "Computing rotated positions\n",
      "Projecting\n"
     ]
    },
    {
     "name": "stderr",
     "output_type": "stream",
     "text": [
      "100%|████████████████████████████████████████████████████████████████████████████████████████████████████████████████████████████████████████████████████████████████████████| 31535/31535 [05:17<00:00, 99.42it/s]\n"
     ]
    }
   ],
   "source": [
    "real = pd.read_csv('data/awd.csv',skiprows=0,index_col=0)\n",
    "ras_real = real['amf_ra'].reset_index(drop=True)\n",
    "decs_real = real['amf_dec'].reset_index(drop=True)\n",
    "\n",
    "ras_all = ras_real\n",
    "decs_all = decs_real\n",
    "\n",
    "beam = \n",
    "map_pix = import_map(int(beam))\n",
    "outputs = \"output/doublebeam/rr.csv\"\n",
    "outputs2 = \"output/doublebeam/rr_r.csv\"\n",
    "\n",
    "signal, signal_ring, ras_used, decs_used = extract_intensity(map_pix, ras_all, decs_all, beam)\n",
    "output_signal(signal, signal_ring, outputs, outputs2)"
   ]
  },
  {
   "cell_type": "code",
   "execution_count": null,
   "id": "62c4fa89",
   "metadata": {},
   "outputs": [],
   "source": [
    "voids = pd.read_csv('data/voids.csv',skiprows=0,index_col=0)\n",
    "ras_voids = voids['ras'].reset_index(drop=True)\n",
    "decs_voids = voids['decs'].reset_index(drop=True)\n",
    "\n",
    "ras_all = ras_voids\n",
    "decs_all = decs_voids\n",
    "\n",
    "beam = \n",
    "map_pix = import_map(int(beam))\n",
    "outputs = \"output/doublebeam/rv.csv\"\n",
    "outputs2 = \"output/doublebeam/rv_r.csv\"\n",
    "\n",
    "signal, signal_ring, ras_used, decs_used = extract_intensity(map_pix, ras_all, decs_all, beam)\n",
    "output_signal(signal, signal_ring, outputs, outputs2)"
   ]
  },
  {
   "cell_type": "code",
   "execution_count": null,
   "id": "639a5c63",
   "metadata": {},
   "outputs": [],
   "source": []
  }
 ],
 "metadata": {
  "kernelspec": {
   "display_name": "Python 3 (ipykernel)",
   "language": "python",
   "name": "python3"
  },
  "language_info": {
   "codemirror_mode": {
    "name": "ipython",
    "version": 3
   },
   "file_extension": ".py",
   "mimetype": "text/x-python",
   "name": "python",
   "nbconvert_exporter": "python",
   "pygments_lexer": "ipython3",
   "version": "3.9.12"
  }
 },
 "nbformat": 4,
 "nbformat_minor": 5
}
