{
 "cells": [
  {
   "cell_type": "code",
   "execution_count": 1,
   "metadata": {},
   "outputs": [],
   "source": [
    "import pandas as pd\n",
    "import math\n",
    "import numpy as np\n",
    "from astropy.coordinates import SkyCoord\n",
    "from astropy.io import fits\n",
    "import healpy as hp\n",
    "import matplotlib.pyplot as plt\n",
    "import time\n",
    "import sys\n",
    "from pixell import enmap, enplot, reproject, utils, curvedsky, wcsutils\n",
    "from matplotlib import cm\n",
    "from scipy.optimize import curve_fit\n",
    "from scipy.linalg import sqrtm\n",
    "from tqdm import tqdm"
   ]
  },
  {
   "cell_type": "code",
   "execution_count": 87,
   "metadata": {},
   "outputs": [],
   "source": [
    "amf = pd.read_csv('../../data/dr9_main_complete.csv', header=None)\n",
    "amf.columns = ['amf_no','amf_ra','amf_dec','amf_z','amf_lk','amf_rh','amf_r200','amf_rc','amf_c','amf_str_rh','bax_id','mcxc_id','red_id','whl_id']\n",
    "\n",
    "c = SkyCoord(amf['amf_ra'],amf['amf_dec'],frame='icrs',unit='deg')\n",
    "amf['glat'] = c.galactic.b.degree\n",
    "amf['glon'] = c.galactic.l.degree\n",
    "amf['cat'] = 0\n",
    "amf_whl = amf[(amf.whl_id!='-9999')]"
   ]
  },
  {
   "cell_type": "code",
   "execution_count": 88,
   "metadata": {},
   "outputs": [],
   "source": [
    "hdul = fits.open(\"../../data/galaxy_clusters_desdr2.fits\")\n",
    "data = hdul[1].data\n",
    "zou1 = pd.DataFrame({'ra':data['RA_PEAK'],\n",
    "                    'dec':data['DEC_PEAK'],\n",
    "                    'z':data['PHOTO_Z_PEAK'],\n",
    "                    'rh':data['RICHNESS']})\n",
    "c = SkyCoord(zou1['ra'],zou1['dec'],frame='icrs',unit='deg')\n",
    "zou1['glat'] = c.galactic.b.degree\n",
    "zou1['glon'] = c.galactic.l.degree\n",
    "zou1['cat'] = 1"
   ]
  },
  {
   "cell_type": "code",
   "execution_count": 89,
   "metadata": {},
   "outputs": [],
   "source": [
    "hdul = fits.open(\"../../data/galaxy_clusters_desidr9.fits\")\n",
    "data = hdul[1].data\n",
    "zou2 = pd.DataFrame({'ra':data['RA_PEAK'],\n",
    "                    'dec':data['DEC_PEAK'],\n",
    "                    'z':data['PHOTO_Z_PEAK'],\n",
    "                    'rh':data['RICHNESS']})\n",
    "c = SkyCoord(zou2['ra'],zou2['dec'],frame='icrs',unit='deg')\n",
    "zou2['glat'] = c.galactic.b.degree\n",
    "zou2['glon'] = c.galactic.l.degree\n",
    "zou2['cat'] = 2"
   ]
  },
  {
   "cell_type": "code",
   "execution_count": 116,
   "metadata": {},
   "outputs": [
    {
     "data": {
      "text/html": [
       "<div>\n",
       "<style scoped>\n",
       "    .dataframe tbody tr th:only-of-type {\n",
       "        vertical-align: middle;\n",
       "    }\n",
       "\n",
       "    .dataframe tbody tr th {\n",
       "        vertical-align: top;\n",
       "    }\n",
       "\n",
       "    .dataframe thead th {\n",
       "        text-align: right;\n",
       "    }\n",
       "</style>\n",
       "<table border=\"1\" class=\"dataframe\">\n",
       "  <thead>\n",
       "    <tr style=\"text-align: right;\">\n",
       "      <th></th>\n",
       "      <th>ra</th>\n",
       "      <th>dec</th>\n",
       "      <th>z</th>\n",
       "      <th>rh</th>\n",
       "      <th>glat</th>\n",
       "      <th>glon</th>\n",
       "      <th>cat</th>\n",
       "    </tr>\n",
       "  </thead>\n",
       "  <tbody>\n",
       "    <tr>\n",
       "      <th>0</th>\n",
       "      <td>214.233624</td>\n",
       "      <td>52.908531</td>\n",
       "      <td>1.171777</td>\n",
       "      <td>97.716247</td>\n",
       "      <td>59.717726</td>\n",
       "      <td>97.090269</td>\n",
       "      <td>3</td>\n",
       "    </tr>\n",
       "    <tr>\n",
       "      <th>1</th>\n",
       "      <td>214.244321</td>\n",
       "      <td>53.084990</td>\n",
       "      <td>0.935550</td>\n",
       "      <td>236.463383</td>\n",
       "      <td>59.578309</td>\n",
       "      <td>97.304716</td>\n",
       "      <td>3</td>\n",
       "    </tr>\n",
       "    <tr>\n",
       "      <th>2</th>\n",
       "      <td>214.095757</td>\n",
       "      <td>52.893964</td>\n",
       "      <td>1.307441</td>\n",
       "      <td>248.589667</td>\n",
       "      <td>59.782274</td>\n",
       "      <td>97.198288</td>\n",
       "      <td>3</td>\n",
       "    </tr>\n",
       "    <tr>\n",
       "      <th>3</th>\n",
       "      <td>214.132952</td>\n",
       "      <td>52.864502</td>\n",
       "      <td>1.269002</td>\n",
       "      <td>276.290641</td>\n",
       "      <td>59.790493</td>\n",
       "      <td>97.126519</td>\n",
       "      <td>3</td>\n",
       "    </tr>\n",
       "    <tr>\n",
       "      <th>4</th>\n",
       "      <td>213.401525</td>\n",
       "      <td>52.763087</td>\n",
       "      <td>0.095811</td>\n",
       "      <td>33.717130</td>\n",
       "      <td>60.149420</td>\n",
       "      <td>97.680603</td>\n",
       "      <td>3</td>\n",
       "    </tr>\n",
       "    <tr>\n",
       "      <th>...</th>\n",
       "      <td>...</td>\n",
       "      <td>...</td>\n",
       "      <td>...</td>\n",
       "      <td>...</td>\n",
       "      <td>...</td>\n",
       "      <td>...</td>\n",
       "      <td>...</td>\n",
       "    </tr>\n",
       "    <tr>\n",
       "      <th>36561</th>\n",
       "      <td>37.121633</td>\n",
       "      <td>-7.040413</td>\n",
       "      <td>0.762745</td>\n",
       "      <td>93.215806</td>\n",
       "      <td>-59.446130</td>\n",
       "      <td>176.275838</td>\n",
       "      <td>3</td>\n",
       "    </tr>\n",
       "    <tr>\n",
       "      <th>36562</th>\n",
       "      <td>37.505307</td>\n",
       "      <td>-6.801662</td>\n",
       "      <td>1.233534</td>\n",
       "      <td>103.779296</td>\n",
       "      <td>-59.006203</td>\n",
       "      <td>176.456392</td>\n",
       "      <td>3</td>\n",
       "    </tr>\n",
       "    <tr>\n",
       "      <th>36563</th>\n",
       "      <td>37.351173</td>\n",
       "      <td>-6.656354</td>\n",
       "      <td>1.232472</td>\n",
       "      <td>63.698972</td>\n",
       "      <td>-59.015181</td>\n",
       "      <td>176.046844</td>\n",
       "      <td>3</td>\n",
       "    </tr>\n",
       "    <tr>\n",
       "      <th>36564</th>\n",
       "      <td>37.213823</td>\n",
       "      <td>-6.731959</td>\n",
       "      <td>0.764592</td>\n",
       "      <td>119.749692</td>\n",
       "      <td>-59.165654</td>\n",
       "      <td>175.966990</td>\n",
       "      <td>3</td>\n",
       "    </tr>\n",
       "    <tr>\n",
       "      <th>36565</th>\n",
       "      <td>36.916042</td>\n",
       "      <td>-6.992600</td>\n",
       "      <td>0.927941</td>\n",
       "      <td>62.783612</td>\n",
       "      <td>-59.559292</td>\n",
       "      <td>175.928248</td>\n",
       "      <td>3</td>\n",
       "    </tr>\n",
       "  </tbody>\n",
       "</table>\n",
       "<p>36566 rows × 7 columns</p>\n",
       "</div>"
      ],
      "text/plain": [
       "               ra        dec         z          rh       glat        glon  cat\n",
       "0      214.233624  52.908531  1.171777   97.716247  59.717726   97.090269    3\n",
       "1      214.244321  53.084990  0.935550  236.463383  59.578309   97.304716    3\n",
       "2      214.095757  52.893964  1.307441  248.589667  59.782274   97.198288    3\n",
       "3      214.132952  52.864502  1.269002  276.290641  59.790493   97.126519    3\n",
       "4      213.401525  52.763087  0.095811   33.717130  60.149420   97.680603    3\n",
       "...           ...        ...       ...         ...        ...         ...  ...\n",
       "36561   37.121633  -7.040413  0.762745   93.215806 -59.446130  176.275838    3\n",
       "36562   37.505307  -6.801662  1.233534  103.779296 -59.006203  176.456392    3\n",
       "36563   37.351173  -6.656354  1.232472   63.698972 -59.015181  176.046844    3\n",
       "36564   37.213823  -6.731959  0.764592  119.749692 -59.165654  175.966990    3\n",
       "36565   36.916042  -6.992600  0.927941   62.783612 -59.559292  175.928248    3\n",
       "\n",
       "[36566 rows x 7 columns]"
      ]
     },
     "execution_count": 116,
     "metadata": {},
     "output_type": "execute_result"
    }
   ],
   "source": [
    "zou3"
   ]
  },
  {
   "cell_type": "code",
   "execution_count": 90,
   "metadata": {},
   "outputs": [],
   "source": [
    "hdul = fits.open(\"../../data/galaxy_clusters_hscpdr3_wide.fits\")\n",
    "data = hdul[1].data\n",
    "zou3 = pd.DataFrame({'ra':data['RA_PEAK'],\n",
    "                    'dec':data['DEC_PEAK'],\n",
    "                    'z':data['PHOTO_Z_PEAK'],\n",
    "                    'rh':data['RICHNESS']})\n",
    "c = SkyCoord(zou3['ra'],zou3['dec'],frame='icrs',unit='deg')\n",
    "zou3['glat'] = c.galactic.b.degree\n",
    "zou3['glon'] = c.galactic.l.degree\n",
    "zou3['cat'] = 3"
   ]
  },
  {
   "cell_type": "code",
   "execution_count": 91,
   "metadata": {},
   "outputs": [],
   "source": [
    "zou = pd.concat([zou1,zou2,zou3])"
   ]
  },
  {
   "cell_type": "code",
   "execution_count": 92,
   "metadata": {},
   "outputs": [],
   "source": [
    "# Mass in 10^14\n",
    "wh22 = pd.read_csv('../../data/cluster_DESunWISE.dat', sep='\\s+', header=None, usecols=[3,4,5,10,11])\n",
    "wh22.columns = ['ra','dec','z','rh','m']\n",
    "c = SkyCoord(wh22['ra'],wh22['dec'],frame='icrs',unit='deg')\n",
    "wh22['glat'] = c.galactic.b.degree\n",
    "wh22['glon'] = c.galactic.l.degree\n",
    "wh22['cat'] = 4"
   ]
  },
  {
   "cell_type": "code",
   "execution_count": 93,
   "metadata": {},
   "outputs": [],
   "source": [
    "# wh22.to_csv('wh22.csv')\n",
    "# wh22 = pd.read_csv('../../data/wh22.csv')"
   ]
  },
  {
   "cell_type": "code",
   "execution_count": 94,
   "metadata": {},
   "outputs": [],
   "source": [
    "# dcl.z = np.array(dcl.z).byteswap().newbyteorder()"
   ]
  },
  {
   "cell_type": "markdown",
   "metadata": {},
   "source": [
    "show counts for each"
   ]
  },
  {
   "cell_type": "code",
   "execution_count": 154,
   "metadata": {},
   "outputs": [
    {
     "data": {
      "text/plain": [
       "(array([3.8498e+04, 3.6476e+04, 9.5210e+03, 1.8530e+03, 4.5100e+02,\n",
       "        1.1000e+02, 3.2000e+01, 1.6000e+01, 4.0000e+00, 2.0000e+00]),\n",
       " array([6.45937209e-03, 8.25858252e+01, 1.65165191e+02, 2.47744557e+02,\n",
       "        3.30323923e+02, 4.12903289e+02, 4.95482654e+02, 5.78062020e+02,\n",
       "        6.60641386e+02, 7.43220752e+02, 8.25800118e+02]),\n",
       " <BarContainer object of 10 artists>)"
      ]
     },
     "execution_count": 154,
     "metadata": {},
     "output_type": "execute_result"
    },
    {
     "data": {
      "image/png": "[encoded data removed]",
      "text/plain": [
       "<Figure size 432x288 with 1 Axes>"
      ]
     },
     "metadata": {
      "needs_background": "light"
     },
     "output_type": "display_data"
    }
   ],
   "source": [
    "plt.hist(zou1.rh)"
   ]
  },
  {
   "cell_type": "code",
   "execution_count": 153,
   "metadata": {},
   "outputs": [
    {
     "data": {
      "text/plain": [
       "(array([ 2935., 12104., 13680., 18314., 13313., 10577.,  5286.,  3978.,\n",
       "         6430.,   346.]),\n",
       " array([0.02984642, 0.16462612, 0.29940584, 0.43418553, 0.56896526,\n",
       "        0.70374495, 0.83852464, 0.97330433, 1.1080841 , 1.2428638 ,\n",
       "        1.3776435 ], dtype=float32),\n",
       " <BarContainer object of 10 artists>)"
      ]
     },
     "execution_count": 153,
     "metadata": {},
     "output_type": "execute_result"
    },
    {
     "data": {
      "image/png": "[encoded data removed]",
      "text/plain": [
       "<Figure size 432x288 with 1 Axes>"
      ]
     },
     "metadata": {
      "needs_background": "light"
     },
     "output_type": "display_data"
    }
   ],
   "source": [
    "plt.hist(zou1.z)"
   ]
  },
  {
   "cell_type": "code",
   "execution_count": 146,
   "metadata": {},
   "outputs": [
    {
     "data": {
      "text/html": [
       "<div>\n",
       "<style scoped>\n",
       "    .dataframe tbody tr th:only-of-type {\n",
       "        vertical-align: middle;\n",
       "    }\n",
       "\n",
       "    .dataframe tbody tr th {\n",
       "        vertical-align: top;\n",
       "    }\n",
       "\n",
       "    .dataframe thead th {\n",
       "        text-align: right;\n",
       "    }\n",
       "</style>\n",
       "<table border=\"1\" class=\"dataframe\">\n",
       "  <thead>\n",
       "    <tr style=\"text-align: right;\">\n",
       "      <th></th>\n",
       "      <th>amf_ra</th>\n",
       "      <th>amf_dec</th>\n",
       "      <th>z</th>\n",
       "      <th>rh</th>\n",
       "      <th>cat</th>\n",
       "    </tr>\n",
       "  </thead>\n",
       "  <tbody>\n",
       "    <tr>\n",
       "      <th>0</th>\n",
       "      <td>135.576658</td>\n",
       "      <td>84.282097</td>\n",
       "      <td>0.672224</td>\n",
       "      <td>71.125599</td>\n",
       "      <td>2</td>\n",
       "    </tr>\n",
       "    <tr>\n",
       "      <th>4</th>\n",
       "      <td>159.441977</td>\n",
       "      <td>84.470371</td>\n",
       "      <td>0.774722</td>\n",
       "      <td>131.296879</td>\n",
       "      <td>2</td>\n",
       "    </tr>\n",
       "    <tr>\n",
       "      <th>6</th>\n",
       "      <td>169.336282</td>\n",
       "      <td>84.745055</td>\n",
       "      <td>0.739466</td>\n",
       "      <td>186.789902</td>\n",
       "      <td>2</td>\n",
       "    </tr>\n",
       "    <tr>\n",
       "      <th>7</th>\n",
       "      <td>170.173343</td>\n",
       "      <td>84.497271</td>\n",
       "      <td>0.739765</td>\n",
       "      <td>123.796251</td>\n",
       "      <td>2</td>\n",
       "    </tr>\n",
       "    <tr>\n",
       "      <th>14</th>\n",
       "      <td>209.629132</td>\n",
       "      <td>84.575575</td>\n",
       "      <td>0.714163</td>\n",
       "      <td>61.195763</td>\n",
       "      <td>2</td>\n",
       "    </tr>\n",
       "    <tr>\n",
       "      <th>...</th>\n",
       "      <td>...</td>\n",
       "      <td>...</td>\n",
       "      <td>...</td>\n",
       "      <td>...</td>\n",
       "      <td>...</td>\n",
       "    </tr>\n",
       "    <tr>\n",
       "      <th>532787</th>\n",
       "      <td>65.460255</td>\n",
       "      <td>-66.866127</td>\n",
       "      <td>0.772272</td>\n",
       "      <td>90.605660</td>\n",
       "      <td>2</td>\n",
       "    </tr>\n",
       "    <tr>\n",
       "      <th>532788</th>\n",
       "      <td>65.332630</td>\n",
       "      <td>-66.820162</td>\n",
       "      <td>0.742248</td>\n",
       "      <td>75.869274</td>\n",
       "      <td>2</td>\n",
       "    </tr>\n",
       "    <tr>\n",
       "      <th>532789</th>\n",
       "      <td>66.479394</td>\n",
       "      <td>-67.250996</td>\n",
       "      <td>0.704453</td>\n",
       "      <td>94.599666</td>\n",
       "      <td>2</td>\n",
       "    </tr>\n",
       "    <tr>\n",
       "      <th>532790</th>\n",
       "      <td>67.524140</td>\n",
       "      <td>-66.458386</td>\n",
       "      <td>0.674120</td>\n",
       "      <td>69.780400</td>\n",
       "      <td>2</td>\n",
       "    </tr>\n",
       "    <tr>\n",
       "      <th>532799</th>\n",
       "      <td>60.941722</td>\n",
       "      <td>-67.484142</td>\n",
       "      <td>0.629147</td>\n",
       "      <td>73.851681</td>\n",
       "      <td>2</td>\n",
       "    </tr>\n",
       "  </tbody>\n",
       "</table>\n",
       "<p>208348 rows × 5 columns</p>\n",
       "</div>"
      ],
      "text/plain": [
       "            amf_ra    amf_dec         z          rh  cat\n",
       "0       135.576658  84.282097  0.672224   71.125599    2\n",
       "4       159.441977  84.470371  0.774722  131.296879    2\n",
       "6       169.336282  84.745055  0.739466  186.789902    2\n",
       "7       170.173343  84.497271  0.739765  123.796251    2\n",
       "14      209.629132  84.575575  0.714163   61.195763    2\n",
       "...            ...        ...       ...         ...  ...\n",
       "532787   65.460255 -66.866127  0.772272   90.605660    2\n",
       "532788   65.332630 -66.820162  0.742248   75.869274    2\n",
       "532789   66.479394 -67.250996  0.704453   94.599666    2\n",
       "532790   67.524140 -66.458386  0.674120   69.780400    2\n",
       "532799   60.941722 -67.484142  0.629147   73.851681    2\n",
       "\n",
       "[208348 rows x 5 columns]"
      ]
     },
     "execution_count": 146,
     "metadata": {},
     "output_type": "execute_result"
    }
   ],
   "source": [
    "zou0[(zou0.cat==2) & (zou0.z>0.6)& (zou0.z<1)]"
   ]
  },
  {
   "cell_type": "code",
   "execution_count": 95,
   "metadata": {},
   "outputs": [],
   "source": [
    "amf0 = amf.rename(columns={'amf_ra':'amf_ra','amf_dec':'amf_dec','amf_z':'z','amf_rh':'rh'})[['amf_ra','amf_dec','z','rh','cat']]\n",
    "zou0 = zou.rename(columns={'ra':'amf_ra','dec':'amf_dec'})[['amf_ra','amf_dec','z','rh','cat']]\n",
    "wh220 = wh22.rename(columns={'ra':'amf_ra','dec':'amf_dec'})[['amf_ra','amf_dec','z','rh','cat']]\n",
    "\n",
    "union = pd.concat([amf0,zou0,wh220])#.to_csv('../../data/union.csv')"
   ]
  },
  {
   "cell_type": "code",
   "execution_count": 96,
   "metadata": {},
   "outputs": [],
   "source": [
    "# df = union.sort_values(['amf_ra','amf_dec'])\n",
    "# df = df.sort_values(['amf_ra', 'amf_dec'])\n",
    "# diff_a = df['amf_ra'].diff().abs()\n",
    "# diff_b = df['amf_dec'].diff().abs()\n",
    "# mask = (diff_a < 1e-4) & (diff_b < 1e-4)\n",
    "# mask[0] = True\n",
    "# df_filtered = df[mask]\n",
    "# df_filtered.reset_index(drop=True, inplace=True)\n",
    "# # df_filtered.to_csv('../../data/union2.csv')"
   ]
  },
  {
   "cell_type": "code",
   "execution_count": 121,
   "metadata": {},
   "outputs": [],
   "source": [
    "import pandas as pd\n",
    "import numpy as np\n",
    "from scipy.spatial import KDTree\n",
    "\n",
    "# Assuming you already have a DataFrame named 'df' with columns 'x' and 'y'\n",
    "df = union.copy()\n",
    "coords = df[['amf_ra', 'amf_dec','z']].values\n",
    "\n",
    "# Create a k-d tree from the coordinates\n",
    "tree = KDTree(coords)\n",
    "\n",
    "# Query the k-d tree for nearest neighbors within 0.5 distance\n",
    "# Note that each point will find itself as the nearest neighbor with distance 0\n",
    "distances, indices = tree.query(coords, k=2, distance_upper_bound=1e-2)\n",
    "\n",
    "# Check if there's any point within 0.5 distance for each row, excluding the point itself (hence k=2)\n",
    "# We can do this by checking if the second smallest distance is <= 0.5\n",
    "df['Match'] = distances[:, 1] <= 1e-2"
   ]
  },
  {
   "cell_type": "code",
   "execution_count": 130,
   "metadata": {},
   "outputs": [
    {
     "data": {
      "text/html": [
       "<div>\n",
       "<style scoped>\n",
       "    .dataframe tbody tr th:only-of-type {\n",
       "        vertical-align: middle;\n",
       "    }\n",
       "\n",
       "    .dataframe tbody tr th {\n",
       "        vertical-align: top;\n",
       "    }\n",
       "\n",
       "    .dataframe thead th {\n",
       "        text-align: right;\n",
       "    }\n",
       "</style>\n",
       "<table border=\"1\" class=\"dataframe\">\n",
       "  <thead>\n",
       "    <tr style=\"text-align: right;\">\n",
       "      <th></th>\n",
       "      <th>amf_ra</th>\n",
       "      <th>amf_dec</th>\n",
       "      <th>z</th>\n",
       "      <th>rh</th>\n",
       "      <th>cat</th>\n",
       "      <th>Match</th>\n",
       "    </tr>\n",
       "  </thead>\n",
       "  <tbody>\n",
       "    <tr>\n",
       "      <th>22</th>\n",
       "      <td>347.1</td>\n",
       "      <td>-2.2</td>\n",
       "      <td>0.3</td>\n",
       "      <td>149.3</td>\n",
       "      <td>0</td>\n",
       "      <td>True</td>\n",
       "    </tr>\n",
       "    <tr>\n",
       "      <th>44</th>\n",
       "      <td>326.5</td>\n",
       "      <td>20.5</td>\n",
       "      <td>0.3</td>\n",
       "      <td>133.4</td>\n",
       "      <td>0</td>\n",
       "      <td>True</td>\n",
       "    </tr>\n",
       "    <tr>\n",
       "      <th>58</th>\n",
       "      <td>341.4</td>\n",
       "      <td>28.1</td>\n",
       "      <td>0.4</td>\n",
       "      <td>128.8</td>\n",
       "      <td>0</td>\n",
       "      <td>True</td>\n",
       "    </tr>\n",
       "    <tr>\n",
       "      <th>62</th>\n",
       "      <td>192.4</td>\n",
       "      <td>49.9</td>\n",
       "      <td>0.3</td>\n",
       "      <td>126.5</td>\n",
       "      <td>0</td>\n",
       "      <td>True</td>\n",
       "    </tr>\n",
       "    <tr>\n",
       "      <th>63</th>\n",
       "      <td>16.2</td>\n",
       "      <td>0.1</td>\n",
       "      <td>0.3</td>\n",
       "      <td>126.5</td>\n",
       "      <td>0</td>\n",
       "      <td>True</td>\n",
       "    </tr>\n",
       "    <tr>\n",
       "      <th>...</th>\n",
       "      <td>...</td>\n",
       "      <td>...</td>\n",
       "      <td>...</td>\n",
       "      <td>...</td>\n",
       "      <td>...</td>\n",
       "      <td>...</td>\n",
       "    </tr>\n",
       "    <tr>\n",
       "      <th>150554</th>\n",
       "      <td>359.1</td>\n",
       "      <td>2.4</td>\n",
       "      <td>0.4</td>\n",
       "      <td>25.5</td>\n",
       "      <td>4</td>\n",
       "      <td>True</td>\n",
       "    </tr>\n",
       "    <tr>\n",
       "      <th>150617</th>\n",
       "      <td>359.2</td>\n",
       "      <td>2.5</td>\n",
       "      <td>0.4</td>\n",
       "      <td>16.9</td>\n",
       "      <td>4</td>\n",
       "      <td>True</td>\n",
       "    </tr>\n",
       "    <tr>\n",
       "      <th>150635</th>\n",
       "      <td>359.3</td>\n",
       "      <td>-42.2</td>\n",
       "      <td>0.9</td>\n",
       "      <td>44.9</td>\n",
       "      <td>4</td>\n",
       "      <td>True</td>\n",
       "    </tr>\n",
       "    <tr>\n",
       "      <th>150680</th>\n",
       "      <td>359.3</td>\n",
       "      <td>-0.5</td>\n",
       "      <td>1.0</td>\n",
       "      <td>44.8</td>\n",
       "      <td>4</td>\n",
       "      <td>True</td>\n",
       "    </tr>\n",
       "    <tr>\n",
       "      <th>151035</th>\n",
       "      <td>359.8</td>\n",
       "      <td>0.1</td>\n",
       "      <td>0.6</td>\n",
       "      <td>29.3</td>\n",
       "      <td>4</td>\n",
       "      <td>True</td>\n",
       "    </tr>\n",
       "  </tbody>\n",
       "</table>\n",
       "<p>14789 rows × 6 columns</p>\n",
       "</div>"
      ],
      "text/plain": [
       "        amf_ra  amf_dec    z     rh  cat  Match\n",
       "22       347.1     -2.2  0.3  149.3    0   True\n",
       "44       326.5     20.5  0.3  133.4    0   True\n",
       "58       341.4     28.1  0.4  128.8    0   True\n",
       "62       192.4     49.9  0.3  126.5    0   True\n",
       "63        16.2      0.1  0.3  126.5    0   True\n",
       "...        ...      ...  ...    ...  ...    ...\n",
       "150554   359.1      2.4  0.4   25.5    4   True\n",
       "150617   359.2      2.5  0.4   16.9    4   True\n",
       "150635   359.3    -42.2  0.9   44.9    4   True\n",
       "150680   359.3     -0.5  1.0   44.8    4   True\n",
       "151035   359.8      0.1  0.6   29.3    4   True\n",
       "\n",
       "[14789 rows x 6 columns]"
      ]
     },
     "execution_count": 130,
     "metadata": {},
     "output_type": "execute_result"
    }
   ],
   "source": [
    "df[df['Match']].round(1).drop_duplicates(subset=['amf_ra','amf_dec','z'])"
   ]
  },
  {
   "cell_type": "code",
   "execution_count": 125,
   "metadata": {},
   "outputs": [
    {
     "name": "stderr",
     "output_type": "stream",
     "text": [
      "/tmp/ipykernel_408944/2086346163.py:19: SettingWithCopyWarning: \n",
      "A value is trying to be set on a copy of a slice from a DataFrame.\n",
      "Try using .loc[row_indexer,col_indexer] = value instead\n",
      "\n",
      "See the caveats in the documentation: https://pandas.pydata.org/pandas-docs/stable/user_guide/indexing.html#returning-a-view-versus-a-copy\n",
      "  deswh['Match'] = distances[:, 1] <= 1e-2\n"
     ]
    }
   ],
   "source": [
    "deswh = union[(union.cat.isin([1,4]))]\n",
    "\n",
    "import pandas as pd\n",
    "import numpy as np\n",
    "from scipy.spatial import KDTree\n",
    "\n",
    "# Assuming you already have a DataFrame named 'deswh' with columns 'x' and 'y'\n",
    "coords = deswh[['amf_ra', 'amf_dec','z']].values\n",
    "\n",
    "# Create a k-d tree from the coordinates\n",
    "tree = KDTree(coords)\n",
    "\n",
    "# Query the k-d tree for nearest neighbors within 0.5 distance\n",
    "# Note that each point will find itself as the nearest neighbor with distance 0\n",
    "distances, indices = tree.query(coords, k=2, distance_upper_bound=1e-2)\n",
    "\n",
    "# Check if there's any point within 0.5 distance for each row, excluding the point itself (hence k=2)\n",
    "# We can do this by checking if the second smallest distance is <= 0.5\n",
    "deswh['Match'] = distances[:, 1] <= 1e-2"
   ]
  },
  {
   "cell_type": "markdown",
   "metadata": {},
   "source": [
    "add counts to paper"
   ]
  },
  {
   "cell_type": "code",
   "execution_count": 141,
   "metadata": {},
   "outputs": [
    {
     "ename": "ValueError",
     "evalue": "Big-endian buffer not supported on little-endian compiler",
     "output_type": "error",
     "traceback": [
      "\u001b[0;31m---------------------------------------------------------------------------\u001b[0m",
      "\u001b[0;31mValueError\u001b[0m                                Traceback (most recent call last)",
      "Input \u001b[0;32mIn [141]\u001b[0m, in \u001b[0;36m<cell line: 1>\u001b[0;34m()\u001b[0m\n\u001b[0;32m----> 1\u001b[0m \u001b[43mzou1\u001b[49m\u001b[43m[\u001b[49m\u001b[43mzou1\u001b[49m\u001b[38;5;241;43m.\u001b[39;49m\u001b[43mreset_index\u001b[49m\u001b[43m(\u001b[49m\u001b[43mdrop\u001b[49m\u001b[38;5;241;43m=\u001b[39;49m\u001b[38;5;28;43;01mTrue\u001b[39;49;00m\u001b[43m)\u001b[49m\u001b[38;5;241;43m.\u001b[39;49m\u001b[43mz\u001b[49m\u001b[38;5;241;43m>\u001b[39;49m\u001b[38;5;241;43m0.6\u001b[39;49m\u001b[43m]\u001b[49m\n",
      "File \u001b[0;32m~/Documents/Other/anaconda3/envs/cosmo/lib/python3.9/site-packages/pandas/core/frame.py:3496\u001b[0m, in \u001b[0;36mDataFrame.__getitem__\u001b[0;34m(self, key)\u001b[0m\n\u001b[1;32m   3494\u001b[0m \u001b[38;5;66;03m# Do we have a (boolean) 1d indexer?\u001b[39;00m\n\u001b[1;32m   3495\u001b[0m \u001b[38;5;28;01mif\u001b[39;00m com\u001b[38;5;241m.\u001b[39mis_bool_indexer(key):\n\u001b[0;32m-> 3496\u001b[0m     \u001b[38;5;28;01mreturn\u001b[39;00m \u001b[38;5;28;43mself\u001b[39;49m\u001b[38;5;241;43m.\u001b[39;49m\u001b[43m_getitem_bool_array\u001b[49m\u001b[43m(\u001b[49m\u001b[43mkey\u001b[49m\u001b[43m)\u001b[49m\n\u001b[1;32m   3498\u001b[0m \u001b[38;5;66;03m# We are left with two options: a single key, and a collection of keys,\u001b[39;00m\n\u001b[1;32m   3499\u001b[0m \u001b[38;5;66;03m# We interpret tuples as collections only for non-MultiIndex\u001b[39;00m\n\u001b[1;32m   3500\u001b[0m is_single_key \u001b[38;5;241m=\u001b[39m \u001b[38;5;28misinstance\u001b[39m(key, \u001b[38;5;28mtuple\u001b[39m) \u001b[38;5;129;01mor\u001b[39;00m \u001b[38;5;129;01mnot\u001b[39;00m is_list_like(key)\n",
      "File \u001b[0;32m~/Documents/Other/anaconda3/envs/cosmo/lib/python3.9/site-packages/pandas/core/frame.py:3551\u001b[0m, in \u001b[0;36mDataFrame._getitem_bool_array\u001b[0;34m(self, key)\u001b[0m\n\u001b[1;32m   3549\u001b[0m key \u001b[38;5;241m=\u001b[39m check_bool_indexer(\u001b[38;5;28mself\u001b[39m\u001b[38;5;241m.\u001b[39mindex, key)\n\u001b[1;32m   3550\u001b[0m indexer \u001b[38;5;241m=\u001b[39m key\u001b[38;5;241m.\u001b[39mnonzero()[\u001b[38;5;241m0\u001b[39m]\n\u001b[0;32m-> 3551\u001b[0m \u001b[38;5;28;01mreturn\u001b[39;00m \u001b[38;5;28;43mself\u001b[39;49m\u001b[38;5;241;43m.\u001b[39;49m\u001b[43m_take_with_is_copy\u001b[49m\u001b[43m(\u001b[49m\u001b[43mindexer\u001b[49m\u001b[43m,\u001b[49m\u001b[43m \u001b[49m\u001b[43maxis\u001b[49m\u001b[38;5;241;43m=\u001b[39;49m\u001b[38;5;241;43m0\u001b[39;49m\u001b[43m)\u001b[49m\n",
      "File \u001b[0;32m~/Documents/Other/anaconda3/envs/cosmo/lib/python3.9/site-packages/pandas/core/generic.py:3716\u001b[0m, in \u001b[0;36mNDFrame._take_with_is_copy\u001b[0;34m(self, indices, axis)\u001b[0m\n\u001b[1;32m   3708\u001b[0m \u001b[38;5;28;01mdef\u001b[39;00m \u001b[38;5;21m_take_with_is_copy\u001b[39m(\u001b[38;5;28mself\u001b[39m: NDFrameT, indices, axis\u001b[38;5;241m=\u001b[39m\u001b[38;5;241m0\u001b[39m) \u001b[38;5;241m-\u001b[39m\u001b[38;5;241m>\u001b[39m NDFrameT:\n\u001b[1;32m   3709\u001b[0m     \u001b[38;5;124;03m\"\"\"\u001b[39;00m\n\u001b[1;32m   3710\u001b[0m \u001b[38;5;124;03m    Internal version of the `take` method that sets the `_is_copy`\u001b[39;00m\n\u001b[1;32m   3711\u001b[0m \u001b[38;5;124;03m    attribute to keep track of the parent dataframe (using in indexing\u001b[39;00m\n\u001b[0;32m   (...)\u001b[0m\n\u001b[1;32m   3714\u001b[0m \u001b[38;5;124;03m    See the docstring of `take` for full explanation of the parameters.\u001b[39;00m\n\u001b[1;32m   3715\u001b[0m \u001b[38;5;124;03m    \"\"\"\u001b[39;00m\n\u001b[0;32m-> 3716\u001b[0m     result \u001b[38;5;241m=\u001b[39m \u001b[38;5;28;43mself\u001b[39;49m\u001b[38;5;241;43m.\u001b[39;49m\u001b[43mtake\u001b[49m\u001b[43m(\u001b[49m\u001b[43mindices\u001b[49m\u001b[38;5;241;43m=\u001b[39;49m\u001b[43mindices\u001b[49m\u001b[43m,\u001b[49m\u001b[43m \u001b[49m\u001b[43maxis\u001b[49m\u001b[38;5;241;43m=\u001b[39;49m\u001b[43maxis\u001b[49m\u001b[43m)\u001b[49m\n\u001b[1;32m   3717\u001b[0m     \u001b[38;5;66;03m# Maybe set copy if we didn't actually change the index.\u001b[39;00m\n\u001b[1;32m   3718\u001b[0m     \u001b[38;5;28;01mif\u001b[39;00m \u001b[38;5;129;01mnot\u001b[39;00m result\u001b[38;5;241m.\u001b[39m_get_axis(axis)\u001b[38;5;241m.\u001b[39mequals(\u001b[38;5;28mself\u001b[39m\u001b[38;5;241m.\u001b[39m_get_axis(axis)):\n",
      "File \u001b[0;32m~/Documents/Other/anaconda3/envs/cosmo/lib/python3.9/site-packages/pandas/core/generic.py:3703\u001b[0m, in \u001b[0;36mNDFrame.take\u001b[0;34m(self, indices, axis, is_copy, **kwargs)\u001b[0m\n\u001b[1;32m   3699\u001b[0m nv\u001b[38;5;241m.\u001b[39mvalidate_take((), kwargs)\n\u001b[1;32m   3701\u001b[0m \u001b[38;5;28mself\u001b[39m\u001b[38;5;241m.\u001b[39m_consolidate_inplace()\n\u001b[0;32m-> 3703\u001b[0m new_data \u001b[38;5;241m=\u001b[39m \u001b[38;5;28;43mself\u001b[39;49m\u001b[38;5;241;43m.\u001b[39;49m\u001b[43m_mgr\u001b[49m\u001b[38;5;241;43m.\u001b[39;49m\u001b[43mtake\u001b[49m\u001b[43m(\u001b[49m\n\u001b[1;32m   3704\u001b[0m \u001b[43m    \u001b[49m\u001b[43mindices\u001b[49m\u001b[43m,\u001b[49m\u001b[43m \u001b[49m\u001b[43maxis\u001b[49m\u001b[38;5;241;43m=\u001b[39;49m\u001b[38;5;28;43mself\u001b[39;49m\u001b[38;5;241;43m.\u001b[39;49m\u001b[43m_get_block_manager_axis\u001b[49m\u001b[43m(\u001b[49m\u001b[43maxis\u001b[49m\u001b[43m)\u001b[49m\u001b[43m,\u001b[49m\u001b[43m \u001b[49m\u001b[43mverify\u001b[49m\u001b[38;5;241;43m=\u001b[39;49m\u001b[38;5;28;43;01mTrue\u001b[39;49;00m\n\u001b[1;32m   3705\u001b[0m \u001b[43m\u001b[49m\u001b[43m)\u001b[49m\n\u001b[1;32m   3706\u001b[0m \u001b[38;5;28;01mreturn\u001b[39;00m \u001b[38;5;28mself\u001b[39m\u001b[38;5;241m.\u001b[39m_constructor(new_data)\u001b[38;5;241m.\u001b[39m__finalize__(\u001b[38;5;28mself\u001b[39m, method\u001b[38;5;241m=\u001b[39m\u001b[38;5;124m\"\u001b[39m\u001b[38;5;124mtake\u001b[39m\u001b[38;5;124m\"\u001b[39m)\n",
      "File \u001b[0;32m~/Documents/Other/anaconda3/envs/cosmo/lib/python3.9/site-packages/pandas/core/internals/managers.py:900\u001b[0m, in \u001b[0;36mBaseBlockManager.take\u001b[0;34m(self, indexer, axis, verify)\u001b[0m\n\u001b[1;32m    897\u001b[0m indexer \u001b[38;5;241m=\u001b[39m maybe_convert_indices(indexer, n, verify\u001b[38;5;241m=\u001b[39mverify)\n\u001b[1;32m    899\u001b[0m new_labels \u001b[38;5;241m=\u001b[39m \u001b[38;5;28mself\u001b[39m\u001b[38;5;241m.\u001b[39maxes[axis]\u001b[38;5;241m.\u001b[39mtake(indexer)\n\u001b[0;32m--> 900\u001b[0m \u001b[38;5;28;01mreturn\u001b[39;00m \u001b[38;5;28;43mself\u001b[39;49m\u001b[38;5;241;43m.\u001b[39;49m\u001b[43mreindex_indexer\u001b[49m\u001b[43m(\u001b[49m\n\u001b[1;32m    901\u001b[0m \u001b[43m    \u001b[49m\u001b[43mnew_axis\u001b[49m\u001b[38;5;241;43m=\u001b[39;49m\u001b[43mnew_labels\u001b[49m\u001b[43m,\u001b[49m\n\u001b[1;32m    902\u001b[0m \u001b[43m    \u001b[49m\u001b[43mindexer\u001b[49m\u001b[38;5;241;43m=\u001b[39;49m\u001b[43mindexer\u001b[49m\u001b[43m,\u001b[49m\n\u001b[1;32m    903\u001b[0m \u001b[43m    \u001b[49m\u001b[43maxis\u001b[49m\u001b[38;5;241;43m=\u001b[39;49m\u001b[43maxis\u001b[49m\u001b[43m,\u001b[49m\n\u001b[1;32m    904\u001b[0m \u001b[43m    \u001b[49m\u001b[43mallow_dups\u001b[49m\u001b[38;5;241;43m=\u001b[39;49m\u001b[38;5;28;43;01mTrue\u001b[39;49;00m\u001b[43m,\u001b[49m\n\u001b[1;32m    905\u001b[0m \u001b[43m    \u001b[49m\u001b[43mconsolidate\u001b[49m\u001b[38;5;241;43m=\u001b[39;49m\u001b[38;5;28;43;01mFalse\u001b[39;49;00m\u001b[43m,\u001b[49m\n\u001b[1;32m    906\u001b[0m \u001b[43m\u001b[49m\u001b[43m)\u001b[49m\n",
      "File \u001b[0;32m~/Documents/Other/anaconda3/envs/cosmo/lib/python3.9/site-packages/pandas/core/internals/managers.py:692\u001b[0m, in \u001b[0;36mBaseBlockManager.reindex_indexer\u001b[0;34m(self, new_axis, indexer, axis, fill_value, allow_dups, copy, consolidate, only_slice, use_na_proxy)\u001b[0m\n\u001b[1;32m    685\u001b[0m     new_blocks \u001b[38;5;241m=\u001b[39m \u001b[38;5;28mself\u001b[39m\u001b[38;5;241m.\u001b[39m_slice_take_blocks_ax0(\n\u001b[1;32m    686\u001b[0m         indexer,\n\u001b[1;32m    687\u001b[0m         fill_value\u001b[38;5;241m=\u001b[39mfill_value,\n\u001b[1;32m    688\u001b[0m         only_slice\u001b[38;5;241m=\u001b[39monly_slice,\n\u001b[1;32m    689\u001b[0m         use_na_proxy\u001b[38;5;241m=\u001b[39muse_na_proxy,\n\u001b[1;32m    690\u001b[0m     )\n\u001b[1;32m    691\u001b[0m \u001b[38;5;28;01melse\u001b[39;00m:\n\u001b[0;32m--> 692\u001b[0m     new_blocks \u001b[38;5;241m=\u001b[39m [\n\u001b[1;32m    693\u001b[0m         blk\u001b[38;5;241m.\u001b[39mtake_nd(\n\u001b[1;32m    694\u001b[0m             indexer,\n\u001b[1;32m    695\u001b[0m             axis\u001b[38;5;241m=\u001b[39m\u001b[38;5;241m1\u001b[39m,\n\u001b[1;32m    696\u001b[0m             fill_value\u001b[38;5;241m=\u001b[39m(\n\u001b[1;32m    697\u001b[0m                 fill_value \u001b[38;5;28;01mif\u001b[39;00m fill_value \u001b[38;5;129;01mis\u001b[39;00m \u001b[38;5;129;01mnot\u001b[39;00m \u001b[38;5;28;01mNone\u001b[39;00m \u001b[38;5;28;01melse\u001b[39;00m blk\u001b[38;5;241m.\u001b[39mfill_value\n\u001b[1;32m    698\u001b[0m             ),\n\u001b[1;32m    699\u001b[0m         )\n\u001b[1;32m    700\u001b[0m         \u001b[38;5;28;01mfor\u001b[39;00m blk \u001b[38;5;129;01min\u001b[39;00m \u001b[38;5;28mself\u001b[39m\u001b[38;5;241m.\u001b[39mblocks\n\u001b[1;32m    701\u001b[0m     ]\n\u001b[1;32m    703\u001b[0m new_axes \u001b[38;5;241m=\u001b[39m \u001b[38;5;28mlist\u001b[39m(\u001b[38;5;28mself\u001b[39m\u001b[38;5;241m.\u001b[39maxes)\n\u001b[1;32m    704\u001b[0m new_axes[axis] \u001b[38;5;241m=\u001b[39m new_axis\n",
      "File \u001b[0;32m~/Documents/Other/anaconda3/envs/cosmo/lib/python3.9/site-packages/pandas/core/internals/managers.py:693\u001b[0m, in \u001b[0;36m<listcomp>\u001b[0;34m(.0)\u001b[0m\n\u001b[1;32m    685\u001b[0m     new_blocks \u001b[38;5;241m=\u001b[39m \u001b[38;5;28mself\u001b[39m\u001b[38;5;241m.\u001b[39m_slice_take_blocks_ax0(\n\u001b[1;32m    686\u001b[0m         indexer,\n\u001b[1;32m    687\u001b[0m         fill_value\u001b[38;5;241m=\u001b[39mfill_value,\n\u001b[1;32m    688\u001b[0m         only_slice\u001b[38;5;241m=\u001b[39monly_slice,\n\u001b[1;32m    689\u001b[0m         use_na_proxy\u001b[38;5;241m=\u001b[39muse_na_proxy,\n\u001b[1;32m    690\u001b[0m     )\n\u001b[1;32m    691\u001b[0m \u001b[38;5;28;01melse\u001b[39;00m:\n\u001b[1;32m    692\u001b[0m     new_blocks \u001b[38;5;241m=\u001b[39m [\n\u001b[0;32m--> 693\u001b[0m         \u001b[43mblk\u001b[49m\u001b[38;5;241;43m.\u001b[39;49m\u001b[43mtake_nd\u001b[49m\u001b[43m(\u001b[49m\n\u001b[1;32m    694\u001b[0m \u001b[43m            \u001b[49m\u001b[43mindexer\u001b[49m\u001b[43m,\u001b[49m\n\u001b[1;32m    695\u001b[0m \u001b[43m            \u001b[49m\u001b[43maxis\u001b[49m\u001b[38;5;241;43m=\u001b[39;49m\u001b[38;5;241;43m1\u001b[39;49m\u001b[43m,\u001b[49m\n\u001b[1;32m    696\u001b[0m \u001b[43m            \u001b[49m\u001b[43mfill_value\u001b[49m\u001b[38;5;241;43m=\u001b[39;49m\u001b[43m(\u001b[49m\n\u001b[1;32m    697\u001b[0m \u001b[43m                \u001b[49m\u001b[43mfill_value\u001b[49m\u001b[43m \u001b[49m\u001b[38;5;28;43;01mif\u001b[39;49;00m\u001b[43m \u001b[49m\u001b[43mfill_value\u001b[49m\u001b[43m \u001b[49m\u001b[38;5;129;43;01mis\u001b[39;49;00m\u001b[43m \u001b[49m\u001b[38;5;129;43;01mnot\u001b[39;49;00m\u001b[43m \u001b[49m\u001b[38;5;28;43;01mNone\u001b[39;49;00m\u001b[43m \u001b[49m\u001b[38;5;28;43;01melse\u001b[39;49;00m\u001b[43m \u001b[49m\u001b[43mblk\u001b[49m\u001b[38;5;241;43m.\u001b[39;49m\u001b[43mfill_value\u001b[49m\n\u001b[1;32m    698\u001b[0m \u001b[43m            \u001b[49m\u001b[43m)\u001b[49m\u001b[43m,\u001b[49m\n\u001b[1;32m    699\u001b[0m \u001b[43m        \u001b[49m\u001b[43m)\u001b[49m\n\u001b[1;32m    700\u001b[0m         \u001b[38;5;28;01mfor\u001b[39;00m blk \u001b[38;5;129;01min\u001b[39;00m \u001b[38;5;28mself\u001b[39m\u001b[38;5;241m.\u001b[39mblocks\n\u001b[1;32m    701\u001b[0m     ]\n\u001b[1;32m    703\u001b[0m new_axes \u001b[38;5;241m=\u001b[39m \u001b[38;5;28mlist\u001b[39m(\u001b[38;5;28mself\u001b[39m\u001b[38;5;241m.\u001b[39maxes)\n\u001b[1;32m    704\u001b[0m new_axes[axis] \u001b[38;5;241m=\u001b[39m new_axis\n",
      "File \u001b[0;32m~/Documents/Other/anaconda3/envs/cosmo/lib/python3.9/site-packages/pandas/core/internals/blocks.py:1139\u001b[0m, in \u001b[0;36mBlock.take_nd\u001b[0;34m(self, indexer, axis, new_mgr_locs, fill_value)\u001b[0m\n\u001b[1;32m   1136\u001b[0m \u001b[38;5;28;01melse\u001b[39;00m:\n\u001b[1;32m   1137\u001b[0m     allow_fill \u001b[38;5;241m=\u001b[39m \u001b[38;5;28;01mTrue\u001b[39;00m\n\u001b[0;32m-> 1139\u001b[0m new_values \u001b[38;5;241m=\u001b[39m \u001b[43malgos\u001b[49m\u001b[38;5;241;43m.\u001b[39;49m\u001b[43mtake_nd\u001b[49m\u001b[43m(\u001b[49m\n\u001b[1;32m   1140\u001b[0m \u001b[43m    \u001b[49m\u001b[43mvalues\u001b[49m\u001b[43m,\u001b[49m\u001b[43m \u001b[49m\u001b[43mindexer\u001b[49m\u001b[43m,\u001b[49m\u001b[43m \u001b[49m\u001b[43maxis\u001b[49m\u001b[38;5;241;43m=\u001b[39;49m\u001b[43maxis\u001b[49m\u001b[43m,\u001b[49m\u001b[43m \u001b[49m\u001b[43mallow_fill\u001b[49m\u001b[38;5;241;43m=\u001b[39;49m\u001b[43mallow_fill\u001b[49m\u001b[43m,\u001b[49m\u001b[43m \u001b[49m\u001b[43mfill_value\u001b[49m\u001b[38;5;241;43m=\u001b[39;49m\u001b[43mfill_value\u001b[49m\n\u001b[1;32m   1141\u001b[0m \u001b[43m\u001b[49m\u001b[43m)\u001b[49m\n\u001b[1;32m   1143\u001b[0m \u001b[38;5;66;03m# Called from three places in managers, all of which satisfy\u001b[39;00m\n\u001b[1;32m   1144\u001b[0m \u001b[38;5;66;03m#  this assertion\u001b[39;00m\n\u001b[1;32m   1145\u001b[0m \u001b[38;5;28;01massert\u001b[39;00m \u001b[38;5;129;01mnot\u001b[39;00m (axis \u001b[38;5;241m==\u001b[39m \u001b[38;5;241m0\u001b[39m \u001b[38;5;129;01mand\u001b[39;00m new_mgr_locs \u001b[38;5;129;01mis\u001b[39;00m \u001b[38;5;28;01mNone\u001b[39;00m)\n",
      "File \u001b[0;32m~/Documents/Other/anaconda3/envs/cosmo/lib/python3.9/site-packages/pandas/core/array_algos/take.py:117\u001b[0m, in \u001b[0;36mtake_nd\u001b[0;34m(arr, indexer, axis, fill_value, allow_fill)\u001b[0m\n\u001b[1;32m    114\u001b[0m     \u001b[38;5;28;01mreturn\u001b[39;00m arr\u001b[38;5;241m.\u001b[39mtake(indexer, fill_value\u001b[38;5;241m=\u001b[39mfill_value, allow_fill\u001b[38;5;241m=\u001b[39mallow_fill)\n\u001b[1;32m    116\u001b[0m arr \u001b[38;5;241m=\u001b[39m np\u001b[38;5;241m.\u001b[39masarray(arr)\n\u001b[0;32m--> 117\u001b[0m \u001b[38;5;28;01mreturn\u001b[39;00m \u001b[43m_take_nd_ndarray\u001b[49m\u001b[43m(\u001b[49m\u001b[43marr\u001b[49m\u001b[43m,\u001b[49m\u001b[43m \u001b[49m\u001b[43mindexer\u001b[49m\u001b[43m,\u001b[49m\u001b[43m \u001b[49m\u001b[43maxis\u001b[49m\u001b[43m,\u001b[49m\u001b[43m \u001b[49m\u001b[43mfill_value\u001b[49m\u001b[43m,\u001b[49m\u001b[43m \u001b[49m\u001b[43mallow_fill\u001b[49m\u001b[43m)\u001b[49m\n",
      "File \u001b[0;32m~/Documents/Other/anaconda3/envs/cosmo/lib/python3.9/site-packages/pandas/core/array_algos/take.py:163\u001b[0m, in \u001b[0;36m_take_nd_ndarray\u001b[0;34m(arr, indexer, axis, fill_value, allow_fill)\u001b[0m\n\u001b[1;32m    158\u001b[0m     out \u001b[38;5;241m=\u001b[39m np\u001b[38;5;241m.\u001b[39mempty(out_shape, dtype\u001b[38;5;241m=\u001b[39mdtype)\n\u001b[1;32m    160\u001b[0m func \u001b[38;5;241m=\u001b[39m _get_take_nd_function(\n\u001b[1;32m    161\u001b[0m     arr\u001b[38;5;241m.\u001b[39mndim, arr\u001b[38;5;241m.\u001b[39mdtype, out\u001b[38;5;241m.\u001b[39mdtype, axis\u001b[38;5;241m=\u001b[39maxis, mask_info\u001b[38;5;241m=\u001b[39mmask_info\n\u001b[1;32m    162\u001b[0m )\n\u001b[0;32m--> 163\u001b[0m \u001b[43mfunc\u001b[49m\u001b[43m(\u001b[49m\u001b[43marr\u001b[49m\u001b[43m,\u001b[49m\u001b[43m \u001b[49m\u001b[43mindexer\u001b[49m\u001b[43m,\u001b[49m\u001b[43m \u001b[49m\u001b[43mout\u001b[49m\u001b[43m,\u001b[49m\u001b[43m \u001b[49m\u001b[43mfill_value\u001b[49m\u001b[43m)\u001b[49m\n\u001b[1;32m    165\u001b[0m \u001b[38;5;28;01mif\u001b[39;00m flip_order:\n\u001b[1;32m    166\u001b[0m     out \u001b[38;5;241m=\u001b[39m out\u001b[38;5;241m.\u001b[39mT\n",
      "File \u001b[0;32mpandas/_libs/algos_take_helper.pxi:1729\u001b[0m, in \u001b[0;36mpandas._libs.algos.take_2d_axis0_float32_float32\u001b[0;34m()\u001b[0m\n",
      "\u001b[0;31mValueError\u001b[0m: Big-endian buffer not supported on little-endian compiler"
     ]
    }
   ],
   "source": []
  },
  {
   "cell_type": "code",
   "execution_count": 131,
   "metadata": {
    "scrolled": false
   },
   "outputs": [
    {
     "data": {
      "text/html": [
       "<div>\n",
       "<style scoped>\n",
       "    .dataframe tbody tr th:only-of-type {\n",
       "        vertical-align: middle;\n",
       "    }\n",
       "\n",
       "    .dataframe tbody tr th {\n",
       "        vertical-align: top;\n",
       "    }\n",
       "\n",
       "    .dataframe thead th {\n",
       "        text-align: right;\n",
       "    }\n",
       "</style>\n",
       "<table border=\"1\" class=\"dataframe\">\n",
       "  <thead>\n",
       "    <tr style=\"text-align: right;\">\n",
       "      <th></th>\n",
       "      <th>amf_ra</th>\n",
       "      <th>amf_dec</th>\n",
       "      <th>z</th>\n",
       "      <th>rh</th>\n",
       "      <th>cat</th>\n",
       "      <th>Match</th>\n",
       "    </tr>\n",
       "  </thead>\n",
       "  <tbody>\n",
       "    <tr>\n",
       "      <th>3</th>\n",
       "      <td>0.8</td>\n",
       "      <td>5.3</td>\n",
       "      <td>0.2</td>\n",
       "      <td>112.9</td>\n",
       "      <td>1</td>\n",
       "      <td>True</td>\n",
       "    </tr>\n",
       "    <tr>\n",
       "      <th>44</th>\n",
       "      <td>12.7</td>\n",
       "      <td>4.9</td>\n",
       "      <td>0.5</td>\n",
       "      <td>127.8</td>\n",
       "      <td>1</td>\n",
       "      <td>True</td>\n",
       "    </tr>\n",
       "    <tr>\n",
       "      <th>97</th>\n",
       "      <td>26.6</td>\n",
       "      <td>4.9</td>\n",
       "      <td>0.7</td>\n",
       "      <td>134.4</td>\n",
       "      <td>1</td>\n",
       "      <td>True</td>\n",
       "    </tr>\n",
       "    <tr>\n",
       "      <th>132</th>\n",
       "      <td>32.5</td>\n",
       "      <td>5.0</td>\n",
       "      <td>0.6</td>\n",
       "      <td>151.1</td>\n",
       "      <td>1</td>\n",
       "      <td>True</td>\n",
       "    </tr>\n",
       "    <tr>\n",
       "      <th>141</th>\n",
       "      <td>35.4</td>\n",
       "      <td>5.1</td>\n",
       "      <td>0.8</td>\n",
       "      <td>132.8</td>\n",
       "      <td>1</td>\n",
       "      <td>True</td>\n",
       "    </tr>\n",
       "    <tr>\n",
       "      <th>...</th>\n",
       "      <td>...</td>\n",
       "      <td>...</td>\n",
       "      <td>...</td>\n",
       "      <td>...</td>\n",
       "      <td>...</td>\n",
       "      <td>...</td>\n",
       "    </tr>\n",
       "    <tr>\n",
       "      <th>145143</th>\n",
       "      <td>350.4</td>\n",
       "      <td>0.6</td>\n",
       "      <td>0.8</td>\n",
       "      <td>24.9</td>\n",
       "      <td>4</td>\n",
       "      <td>True</td>\n",
       "    </tr>\n",
       "    <tr>\n",
       "      <th>148011</th>\n",
       "      <td>355.2</td>\n",
       "      <td>-39.8</td>\n",
       "      <td>0.7</td>\n",
       "      <td>48.4</td>\n",
       "      <td>4</td>\n",
       "      <td>True</td>\n",
       "    </tr>\n",
       "    <tr>\n",
       "      <th>148139</th>\n",
       "      <td>355.4</td>\n",
       "      <td>-43.3</td>\n",
       "      <td>0.2</td>\n",
       "      <td>16.0</td>\n",
       "      <td>4</td>\n",
       "      <td>True</td>\n",
       "    </tr>\n",
       "    <tr>\n",
       "      <th>150516</th>\n",
       "      <td>359.1</td>\n",
       "      <td>-1.5</td>\n",
       "      <td>0.6</td>\n",
       "      <td>18.8</td>\n",
       "      <td>4</td>\n",
       "      <td>True</td>\n",
       "    </tr>\n",
       "    <tr>\n",
       "      <th>150680</th>\n",
       "      <td>359.3</td>\n",
       "      <td>-0.5</td>\n",
       "      <td>1.0</td>\n",
       "      <td>44.8</td>\n",
       "      <td>4</td>\n",
       "      <td>True</td>\n",
       "    </tr>\n",
       "  </tbody>\n",
       "</table>\n",
       "<p>2199 rows × 6 columns</p>\n",
       "</div>"
      ],
      "text/plain": [
       "        amf_ra  amf_dec    z     rh  cat  Match\n",
       "3          0.8      5.3  0.2  112.9    1   True\n",
       "44        12.7      4.9  0.5  127.8    1   True\n",
       "97        26.6      4.9  0.7  134.4    1   True\n",
       "132       32.5      5.0  0.6  151.1    1   True\n",
       "141       35.4      5.1  0.8  132.8    1   True\n",
       "...        ...      ...  ...    ...  ...    ...\n",
       "145143   350.4      0.6  0.8   24.9    4   True\n",
       "148011   355.2    -39.8  0.7   48.4    4   True\n",
       "148139   355.4    -43.3  0.2   16.0    4   True\n",
       "150516   359.1     -1.5  0.6   18.8    4   True\n",
       "150680   359.3     -0.5  1.0   44.8    4   True\n",
       "\n",
       "[2199 rows x 6 columns]"
      ]
     },
     "execution_count": 131,
     "metadata": {},
     "output_type": "execute_result"
    }
   ],
   "source": [
    "deswh[deswh['Match']].round(1).drop_duplicates(subset=['amf_ra','amf_dec','z'])"
   ]
  },
  {
   "cell_type": "code",
   "execution_count": 127,
   "metadata": {},
   "outputs": [
    {
     "name": "stderr",
     "output_type": "stream",
     "text": [
      "/tmp/ipykernel_408944/2098961799.py:19: SettingWithCopyWarning: \n",
      "A value is trying to be set on a copy of a slice from a DataFrame.\n",
      "Try using .loc[row_indexer,col_indexer] = value instead\n",
      "\n",
      "See the caveats in the documentation: https://pandas.pydata.org/pandas-docs/stable/user_guide/indexing.html#returning-a-view-versus-a-copy\n",
      "  hscwh['Match'] = distances[:, 1] <= 1e-2\n"
     ]
    }
   ],
   "source": [
    "hscwh = union[(union.cat.isin([3,4]))]\n",
    "\n",
    "import pandas as pd\n",
    "import numpy as np\n",
    "from scipy.spatial import KDTree\n",
    "\n",
    "# Assuming you already have a DataFrame named 'hscwh' with columns 'x' and 'y'\n",
    "coords = hscwh[['amf_ra', 'amf_dec','z']].values\n",
    "\n",
    "# Create a k-d tree from the coordinates\n",
    "tree = KDTree(coords)\n",
    "\n",
    "# Query the k-d tree for nearest neighbors within 0.5 distance\n",
    "# Note that each point will find itself as the nearest neighbor with distance 0\n",
    "distances, indices = tree.query(coords, k=2, distance_upper_bound=1e-2)\n",
    "\n",
    "# Check if there's any point within 0.5 distance for each row, excluding the point itself (hence k=2)\n",
    "# We can do this by checking if the second smallest distance is <= 0.5\n",
    "hscwh['Match'] = distances[:, 1] <= 1e-2"
   ]
  },
  {
   "cell_type": "code",
   "execution_count": 133,
   "metadata": {},
   "outputs": [
    {
     "data": {
      "text/html": [
       "<div>\n",
       "<style scoped>\n",
       "    .dataframe tbody tr th:only-of-type {\n",
       "        vertical-align: middle;\n",
       "    }\n",
       "\n",
       "    .dataframe tbody tr th {\n",
       "        vertical-align: top;\n",
       "    }\n",
       "\n",
       "    .dataframe thead th {\n",
       "        text-align: right;\n",
       "    }\n",
       "</style>\n",
       "<table border=\"1\" class=\"dataframe\">\n",
       "  <thead>\n",
       "    <tr style=\"text-align: right;\">\n",
       "      <th></th>\n",
       "      <th>amf_ra</th>\n",
       "      <th>amf_dec</th>\n",
       "      <th>z</th>\n",
       "      <th>rh</th>\n",
       "      <th>cat</th>\n",
       "      <th>Match</th>\n",
       "    </tr>\n",
       "  </thead>\n",
       "  <tbody>\n",
       "    <tr>\n",
       "      <th>9012</th>\n",
       "      <td>15.7</td>\n",
       "      <td>2.6</td>\n",
       "      <td>0.5</td>\n",
       "      <td>188.7</td>\n",
       "      <td>3</td>\n",
       "      <td>True</td>\n",
       "    </tr>\n",
       "    <tr>\n",
       "      <th>9051</th>\n",
       "      <td>21.2</td>\n",
       "      <td>2.5</td>\n",
       "      <td>0.2</td>\n",
       "      <td>96.1</td>\n",
       "      <td>3</td>\n",
       "      <td>True</td>\n",
       "    </tr>\n",
       "    <tr>\n",
       "      <th>9101</th>\n",
       "      <td>32.2</td>\n",
       "      <td>3.0</td>\n",
       "      <td>0.4</td>\n",
       "      <td>55.6</td>\n",
       "      <td>3</td>\n",
       "      <td>True</td>\n",
       "    </tr>\n",
       "    <tr>\n",
       "      <th>9108</th>\n",
       "      <td>34.0</td>\n",
       "      <td>2.8</td>\n",
       "      <td>0.1</td>\n",
       "      <td>38.4</td>\n",
       "      <td>3</td>\n",
       "      <td>True</td>\n",
       "    </tr>\n",
       "    <tr>\n",
       "      <th>9171</th>\n",
       "      <td>38.9</td>\n",
       "      <td>2.9</td>\n",
       "      <td>0.9</td>\n",
       "      <td>135.0</td>\n",
       "      <td>3</td>\n",
       "      <td>True</td>\n",
       "    </tr>\n",
       "    <tr>\n",
       "      <th>...</th>\n",
       "      <td>...</td>\n",
       "      <td>...</td>\n",
       "      <td>...</td>\n",
       "      <td>...</td>\n",
       "      <td>...</td>\n",
       "      <td>...</td>\n",
       "    </tr>\n",
       "    <tr>\n",
       "      <th>58000</th>\n",
       "      <td>38.9</td>\n",
       "      <td>-1.9</td>\n",
       "      <td>0.7</td>\n",
       "      <td>49.0</td>\n",
       "      <td>4</td>\n",
       "      <td>True</td>\n",
       "    </tr>\n",
       "    <tr>\n",
       "      <th>136799</th>\n",
       "      <td>336.3</td>\n",
       "      <td>-0.4</td>\n",
       "      <td>0.8</td>\n",
       "      <td>41.1</td>\n",
       "      <td>4</td>\n",
       "      <td>True</td>\n",
       "    </tr>\n",
       "    <tr>\n",
       "      <th>137128</th>\n",
       "      <td>336.8</td>\n",
       "      <td>1.0</td>\n",
       "      <td>0.9</td>\n",
       "      <td>26.6</td>\n",
       "      <td>4</td>\n",
       "      <td>True</td>\n",
       "    </tr>\n",
       "    <tr>\n",
       "      <th>140503</th>\n",
       "      <td>342.6</td>\n",
       "      <td>0.8</td>\n",
       "      <td>0.2</td>\n",
       "      <td>17.4</td>\n",
       "      <td>4</td>\n",
       "      <td>True</td>\n",
       "    </tr>\n",
       "    <tr>\n",
       "      <th>151035</th>\n",
       "      <td>359.8</td>\n",
       "      <td>0.1</td>\n",
       "      <td>0.6</td>\n",
       "      <td>29.3</td>\n",
       "      <td>4</td>\n",
       "      <td>True</td>\n",
       "    </tr>\n",
       "  </tbody>\n",
       "</table>\n",
       "<p>227 rows × 6 columns</p>\n",
       "</div>"
      ],
      "text/plain": [
       "        amf_ra  amf_dec    z     rh  cat  Match\n",
       "9012      15.7      2.6  0.5  188.7    3   True\n",
       "9051      21.2      2.5  0.2   96.1    3   True\n",
       "9101      32.2      3.0  0.4   55.6    3   True\n",
       "9108      34.0      2.8  0.1   38.4    3   True\n",
       "9171      38.9      2.9  0.9  135.0    3   True\n",
       "...        ...      ...  ...    ...  ...    ...\n",
       "58000     38.9     -1.9  0.7   49.0    4   True\n",
       "136799   336.3     -0.4  0.8   41.1    4   True\n",
       "137128   336.8      1.0  0.9   26.6    4   True\n",
       "140503   342.6      0.8  0.2   17.4    4   True\n",
       "151035   359.8      0.1  0.6   29.3    4   True\n",
       "\n",
       "[227 rows x 6 columns]"
      ]
     },
     "execution_count": 133,
     "metadata": {},
     "output_type": "execute_result"
    }
   ],
   "source": [
    "hscwh[hscwh['Match']].round(1).drop_duplicates(subset=['amf_ra','amf_dec','z'])"
   ]
  },
  {
   "cell_type": "code",
   "execution_count": 31,
   "metadata": {},
   "outputs": [
    {
     "ename": "AttributeError",
     "evalue": "module 'pandas' has no attribute 'tqdm'",
     "output_type": "error",
     "traceback": [
      "\u001b[0;31m---------------------------------------------------------------------------\u001b[0m",
      "\u001b[0;31mAttributeError\u001b[0m                            Traceback (most recent call last)",
      "Input \u001b[0;32mIn [31]\u001b[0m, in \u001b[0;36m<cell line: 6>\u001b[0;34m()\u001b[0m\n\u001b[1;32m      3\u001b[0m     min_diff \u001b[38;5;241m=\u001b[39m diffs[diffs \u001b[38;5;241m!=\u001b[39m \u001b[38;5;241m0\u001b[39m]\u001b[38;5;241m.\u001b[39mmin()\n\u001b[1;32m      4\u001b[0m     \u001b[38;5;28;01mreturn\u001b[39;00m min_diff\n\u001b[0;32m----> 6\u001b[0m \u001b[43mpd\u001b[49m\u001b[38;5;241;43m.\u001b[39;49m\u001b[43mtqdm\u001b[49m(\u001b[38;5;124m'\u001b[39m\u001b[38;5;124mtesting\u001b[39m\u001b[38;5;124m'\u001b[39m)\n\u001b[1;32m      7\u001b[0m df[\u001b[38;5;124m'\u001b[39m\u001b[38;5;124mclosest_diff\u001b[39m\u001b[38;5;124m'\u001b[39m] \u001b[38;5;241m=\u001b[39m df[\u001b[38;5;124m'\u001b[39m\u001b[38;5;124mamf_ra\u001b[39m\u001b[38;5;124m'\u001b[39m]\u001b[38;5;241m.\u001b[39mapply(find_closest_diff)\n",
      "File \u001b[0;32m~/Documents/Other/anaconda3/envs/cosmo/lib/python3.9/site-packages/pandas/__init__.py:261\u001b[0m, in \u001b[0;36m__getattr__\u001b[0;34m(name)\u001b[0m\n\u001b[1;32m    257\u001b[0m     \u001b[38;5;28;01mfrom\u001b[39;00m \u001b[38;5;21;01mpandas\u001b[39;00m\u001b[38;5;21;01m.\u001b[39;00m\u001b[38;5;21;01mcore\u001b[39;00m\u001b[38;5;21;01m.\u001b[39;00m\u001b[38;5;21;01marrays\u001b[39;00m\u001b[38;5;21;01m.\u001b[39;00m\u001b[38;5;21;01msparse\u001b[39;00m \u001b[38;5;28;01mimport\u001b[39;00m SparseArray \u001b[38;5;28;01mas\u001b[39;00m _SparseArray\n\u001b[1;32m    259\u001b[0m     \u001b[38;5;28;01mreturn\u001b[39;00m _SparseArray\n\u001b[0;32m--> 261\u001b[0m \u001b[38;5;28;01mraise\u001b[39;00m \u001b[38;5;167;01mAttributeError\u001b[39;00m(\u001b[38;5;124mf\u001b[39m\u001b[38;5;124m\"\u001b[39m\u001b[38;5;124mmodule \u001b[39m\u001b[38;5;124m'\u001b[39m\u001b[38;5;124mpandas\u001b[39m\u001b[38;5;124m'\u001b[39m\u001b[38;5;124m has no attribute \u001b[39m\u001b[38;5;124m'\u001b[39m\u001b[38;5;132;01m{\u001b[39;00mname\u001b[38;5;132;01m}\u001b[39;00m\u001b[38;5;124m'\u001b[39m\u001b[38;5;124m\"\u001b[39m)\n",
      "\u001b[0;31mAttributeError\u001b[0m: module 'pandas' has no attribute 'tqdm'"
     ]
    }
   ],
   "source": [
    "medz = df[(df.cat!=0)]\n",
    "\n",
    "import pandas as pd\n",
    "import numpy as np\n",
    "from scipy.spatial import KDTree\n",
    "\n",
    "# Assuming you already have a DataFrame named 'medz' with columns 'x' and 'y'\n",
    "coords = medz[['amf_ra', 'amf_dec','z']].values\n",
    "\n",
    "# Create a k-d tree from the coordinates\n",
    "tree = KDTree(coords)\n",
    "\n",
    "# Query the k-d tree for nearest neighbors within 0.5 distance\n",
    "# Note that each point will find itself as the nearest neighbor with distance 0\n",
    "distances, indices = tree.query(coords, k=2, distance_upper_bound=1e-2)\n",
    "\n",
    "# Check if there's any point within 0.5 distance for each row, excluding the point itself (hence k=2)\n",
    "# We can do this by checking if the second smallest distance is <= 0.5\n",
    "medz['Match'] = distances[:, 1] <= 1e-2"
   ]
  },
  {
   "cell_type": "code",
   "execution_count": 15,
   "metadata": {},
   "outputs": [],
   "source": [
    "ad = pd.DataFrame()\n",
    "ad = pd.DataFrame(data=ad, columns=amf.columns)"
   ]
  },
  {
   "cell_type": "code",
   "execution_count": 16,
   "metadata": {
    "scrolled": true
   },
   "outputs": [
    {
     "name": "stderr",
     "output_type": "stream",
     "text": [
      "100%|████████████████████████████████████████████████████████████████████████████████████████████████████████████████████████████████████████████████████████████████████████| 46479/46479 [13:03<00:00, 59.34it/s]\n"
     ]
    }
   ],
   "source": [
    "ad = ad.iloc[0:0]\n",
    "\n",
    "for i in tqdm(range(amf.shape[0])):\n",
    "    matches = dcl.loc[(dcl['glat'].sub(amf.iloc[i]['glat']).abs()<1) & (dcl['glon'].sub(amf.iloc[i]['glon']).abs()<1)]\n",
    "    if len(matches)!=0:     \n",
    "        ad.loc[len(ad)] = amf.iloc[i]\n",
    "        \n",
    "ad = ad.reset_index()"
   ]
  },
  {
   "cell_type": "code",
   "execution_count": 17,
   "metadata": {},
   "outputs": [],
   "source": [
    "aw22d = pd.DataFrame()\n",
    "aw22d = pd.DataFrame(data=aw22d, columns=ad.columns)"
   ]
  },
  {
   "cell_type": "code",
   "execution_count": 18,
   "metadata": {},
   "outputs": [
    {
     "name": "stderr",
     "output_type": "stream",
     "text": [
      "100%|███████████████████████████████████████████████████████████████████████████████████████████████████████████████████████████████████████████████████████████████████████| 45476/45476 [00:57<00:00, 797.73it/s]\n"
     ]
    }
   ],
   "source": [
    "aw22d = aw22d.iloc[0:0]\n",
    "\n",
    "for i in tqdm(range(ad.shape[0])):\n",
    "    matches = wh22.loc[(wh22['glat'].sub(ad.iloc[i]['glat']).abs()<1) & (wh22['glon'].sub(ad.iloc[i]['glon']).abs()<1)]\n",
    "    if len(matches)!=0:     \n",
    "        aw22d.loc[len(aw22d)] = ad.iloc[i]\n",
    "        \n",
    "aw22d = aw22d.reset_index()"
   ]
  },
  {
   "cell_type": "markdown",
   "metadata": {},
   "source": [
    "---"
   ]
  },
  {
   "cell_type": "code",
   "execution_count": 4,
   "metadata": {},
   "outputs": [],
   "source": [
    "amf_whl_dcl = pd.DataFrame()\n",
    "amf_whl_dcl = pd.DataFrame(data=amf_whl_dcl, columns=amf_whl.columns)"
   ]
  },
  {
   "cell_type": "code",
   "execution_count": 10,
   "metadata": {},
   "outputs": [
    {
     "name": "stderr",
     "output_type": "stream",
     "text": [
      "100%|██████████| 31950/31950 [12:45<00:00, 41.76it/s]\n"
     ]
    }
   ],
   "source": [
    "amf_whl_dcl = amf_whl_dcl.iloc[0:0]\n",
    "\n",
    "for i in tqdm(range(amf_whl.shape[0])):\n",
    "    matches = dcl.loc[(dcl['glat'].sub(amf_whl.iloc[i]['glat']).abs()<1) & (dcl['glon'].sub(amf_whl.iloc[i]['glon']).abs()<1)]\n",
    "    if len(matches)!=0:     \n",
    "        amf_whl_dcl.loc[len(amf_whl_dcl)] = amf_whl.iloc[i]\n",
    "        \n",
    "amf_whl_dcl = amf_whl_dcl.reset_index()"
   ]
  },
  {
   "cell_type": "code",
   "execution_count": 7,
   "metadata": {},
   "outputs": [],
   "source": [
    "amf_whl_dcl.to_csv('awd.csv')"
   ]
  },
  {
   "cell_type": "code",
   "execution_count": 7,
   "metadata": {},
   "outputs": [],
   "source": [
    "amf_whl_dcl = pd.read_csv('../../data/awd.csv')"
   ]
  },
  {
   "cell_type": "code",
   "execution_count": 9,
   "metadata": {},
   "outputs": [],
   "source": [
    "hdul = fits.open(\"../../data/DR5_cluster-catalog_v1.1.fits\")\n",
    "data = hdul[1].data\n",
    "\n",
    "adv = pd.DataFrame({'name':data['name'].byteswap().newbyteorder(),\n",
    "                    'RA':data['RADeg'].byteswap().newbyteorder(),\n",
    "                    'dec':data['decDeg'].byteswap().newbyteorder(),\n",
    "                    'SNR':data['SNR'].byteswap().newbyteorder(),\n",
    "                    'redshift':data['redshift'].byteswap().newbyteorder(),\n",
    "                    'RM':data['RM'].byteswap().newbyteorder()})\n",
    "\n",
    "c = SkyCoord(adv['RA'],adv['dec'],frame='icrs',unit='deg')\n",
    "adv['glat'] = c.galactic.b.degree\n",
    "adv['glon'] = c.galactic.l.degree"
   ]
  },
  {
   "cell_type": "code",
   "execution_count": 48,
   "metadata": {},
   "outputs": [],
   "source": [
    "plsz2 = pd.read_csv('../data/planck_sz2.csv',header=None)\n",
    "plsz2.columns = ['pl_no','pl_name','pl_glon','pl_glat','pl_ra','pl_dec','pl_poserr','pl_sn',\\\n",
    "                   'pl_pipe','pl_pipedet','pl_pccs2','pl_psz','pl_irflag','pl_qneural','pl_y5r500',\\\n",
    "                   'pl_y5r500err','pl_valid','pl_zid','pl_z','pl_msz','pl_mszerrup','pl_mszerrlow',\\\n",
    "                   'pl_mcxc','pl_red','pl_act','pl_spt','pl_wise','pl_ami','pl_cosmo','pl_comment']"
   ]
  },
  {
   "cell_type": "code",
   "execution_count": 10,
   "metadata": {},
   "outputs": [],
   "source": [
    "ard_not_adv = pd.DataFrame(data=amf_whl_dcl, columns=amf_whl_dcl.columns)"
   ]
  },
  {
   "cell_type": "code",
   "execution_count": 12,
   "metadata": {},
   "outputs": [
    {
     "name": "stderr",
     "output_type": "stream",
     "text": [
      "100%|█████████████████████████████████████████████████████████████| 31535/31535 [01:26<00:00, 365.11it/s]\n"
     ]
    }
   ],
   "source": [
    "ard_not_adv = ard_not_adv.iloc[0:0]\n",
    "\n",
    "for i in tqdm(range(amf_whl_dcl.shape[0])):\n",
    "    matches = adv.loc[(adv['glat'].sub(amf_whl_dcl.iloc[i]['glat']).abs()<1) & (adv['glon'].sub(amf_whl_dcl.iloc[i]['glon']).abs()<1)]\n",
    "    if len(matches)==0:     \n",
    "        ard_not_adv.loc[len(ard_not_adv)] = amf_whl_dcl.iloc[i]\n",
    "    else:\n",
    "        pass\n",
    "#         print(round(amf_whl_dcl.iloc[i]['glon'],2),round(amf_whl_dcl.iloc[i]['glat'],2))\n",
    "#         print(matches[['glon','glat']])\n",
    "#         print(\"\\n\")\n",
    "        \n",
    "ard_not_adv = ard_not_adv.reset_index()"
   ]
  },
  {
   "cell_type": "code",
   "execution_count": 14,
   "metadata": {},
   "outputs": [],
   "source": [
    "ard_not_adv.to_csv('../../data/ard_not_adv.csv')"
   ]
  },
  {
   "cell_type": "code",
   "execution_count": 50,
   "metadata": {},
   "outputs": [],
   "source": [
    "wh_not_psz = pd.DataFrame(data=wh22, columns=wh22.columns)"
   ]
  },
  {
   "cell_type": "code",
   "execution_count": 52,
   "metadata": {},
   "outputs": [
    {
     "name": "stderr",
     "output_type": "stream",
     "text": [
      "100%|██████████| 151244/151244 [11:44<00:00, 214.73it/s]\n"
     ]
    }
   ],
   "source": [
    "wh_not_psz = wh_not_psz.iloc[0:0]\n",
    "\n",
    "for i in tqdm(range(wh22.shape[0])):\n",
    "    matches = plsz2.loc[(plsz2['pl_glat'].sub(wh22.iloc[i]['glat']).abs()<1) & (plsz2['pl_glon'].sub(wh22.iloc[i]['glon']).abs()<1)]\n",
    "    if len(matches)==0:     \n",
    "        wh_not_psz.loc[len(wh_not_psz)] = wh22.iloc[i]\n",
    "#     else:\n",
    "#         print(round(wh22.iloc[i]['glon'],2),round(wh22.iloc[i]['glat'],2))\n",
    "#         print(matches[['pl_glon','pl_glat']])\n",
    "#         print(\"\\n\")\n",
    "        \n",
    "wh_not_psz = wh_not_psz.reset_index()"
   ]
  },
  {
   "cell_type": "code",
   "execution_count": 61,
   "metadata": {},
   "outputs": [
    {
     "data": {
      "text/plain": [
       "0.972"
      ]
     },
     "execution_count": 61,
     "metadata": {},
     "output_type": "execute_result"
    }
   ],
   "source": [
    "max(plsz2.pl_z)"
   ]
  },
  {
   "cell_type": "code",
   "execution_count": 134,
   "metadata": {},
   "outputs": [
    {
     "data": {
      "text/plain": [
       "([<matplotlib.axis.XTick at 0x7f8e1b29bed0>,\n",
       "  <matplotlib.axis.XTick at 0x7f8e1b29bc50>,\n",
       "  <matplotlib.axis.XTick at 0x7f8e1b29b4d0>,\n",
       "  <matplotlib.axis.XTick at 0x7f8e1aa426d0>,\n",
       "  <matplotlib.axis.XTick at 0x7f8e1aa42f90>],\n",
       " [Text(0, 0, ''),\n",
       "  Text(0, 0, ''),\n",
       "  Text(0, 0, ''),\n",
       "  Text(0, 0, ''),\n",
       "  Text(0, 0, '')])"
      ]
     },
     "execution_count": 134,
     "metadata": {},
     "output_type": "execute_result"
    },
    {
     "data": {
      "image/png": "[encoded data removed]",
      "text/plain": [
       "<Figure size 432x288 with 1 Axes>"
      ]
     },
     "metadata": {
      "needs_background": "light"
     },
     "output_type": "display_data"
    }
   ],
   "source": [
    "# plt.scatter(plsz2.pl_ra,plsz2.pl_dec)\n",
    "plt.scatter(wh22.ra,wh22.dec)\n",
    "plt.xticks([180,90,0,360,270])\n",
    "# plt.scatter(amf_whl.amf_ra, amf_whl.amf_dec)"
   ]
  },
  {
   "cell_type": "code",
   "execution_count": 121,
   "metadata": {},
   "outputs": [
    {
     "data": {
      "text/plain": [
       "(array([10156., 18544., 21483., 22047., 16552., 16590., 14533.,  8288.,\n",
       "         8428., 14623.]),\n",
       " array([-67.37904 , -60.104874, -52.830708, -45.556542, -38.282376,\n",
       "        -31.00821 , -23.734044, -16.459878,  -9.185712,  -1.911546,\n",
       "          5.36262 ]),\n",
       " <BarContainer object of 10 artists>)"
      ]
     },
     "execution_count": 121,
     "metadata": {},
     "output_type": "execute_result"
    },
    {
     "data": {
      "image/png": "[encoded data removed]",
      "text/plain": [
       "<Figure size 432x288 with 1 Axes>"
      ]
     },
     "metadata": {
      "needs_background": "light"
     },
     "output_type": "display_data"
    }
   ],
   "source": [
    "# plt.hist(plsz2.pl_dec)\n",
    "plt.hist(wh22.dec)"
   ]
  },
  {
   "cell_type": "code",
   "execution_count": null,
   "metadata": {},
   "outputs": [],
   "source": []
  }
 ],
 "metadata": {
  "kernelspec": {
   "display_name": "Python 3 (ipykernel)",
   "language": "python",
   "name": "python3"
  },
  "language_info": {
   "codemirror_mode": {
    "name": "ipython",
    "version": 3
   },
   "file_extension": ".py",
   "mimetype": "text/x-python",
   "name": "python",
   "nbconvert_exporter": "python",
   "pygments_lexer": "ipython3",
   "version": "3.9.12"
  }
 },
 "nbformat": 4,
 "nbformat_minor": 4
}
