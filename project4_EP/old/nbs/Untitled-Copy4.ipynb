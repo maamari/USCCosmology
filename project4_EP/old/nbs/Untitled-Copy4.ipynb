{
 "cells": [
  {
   "cell_type": "code",
   "execution_count": 1,
   "metadata": {},
   "outputs": [],
   "source": [
    "from astropy.io import fits\n",
    "import healpy as hp\n",
    "import matplotlib.pyplot as plt\n",
    "import time\n",
    "import sys\n",
    "from pixell import enmap, enplot, reproject, utils, curvedsky, wcsutils\n",
    "from matplotlib import cm\n",
    "from scipy.optimize import curve_fit\n",
    "from scipy.linalg import sqrtm\n",
    "from tqdm import tqdm\n",
    "import random\n",
    "import time\n",
    "import multiprocessing as mp\n",
    "import numpy as np\n",
    "import random\n",
    "import time\n",
    "import multiprocessing as mp\n",
    "import numpy as np\n",
    "import pandas as pd"
   ]
  },
  {
   "cell_type": "code",
   "execution_count": null,
   "metadata": {},
   "outputs": [
    {
     "name": "stderr",
     "output_type": "stream",
     "text": [
      "/home/maamari/Documents/Other/Anaconda/lib/python3.7/site-packages/healpy/fitsfunc.py:352: UserWarning: If you are not specifying the input dtype and using the default np.float64 dtype of read_map(), please consider that it will change in a future version to None as to keep the same dtype of the input file: please explicitly set the dtype if it is important to you.\n",
      "  \"If you are not specifying the input dtype and using the default \"\n",
      "/home/maamari/Documents/Other/Anaconda/lib/python3.7/site-packages/healpy/fitsfunc.py:403: UserWarning: No INDXSCHM keyword in header file : assume IMPLICIT\n",
      "  warnings.warn(\"No INDXSCHM keyword in header file : \" \"assume {}\".format(schm))\n"
     ]
    },
    {
     "name": "stdout",
     "output_type": "stream",
     "text": [
      "NSIDE = 2048\n",
      "ORDERING = NESTED in fits file\n",
      "INDXSCHM = IMPLICIT\n",
      "Ordering converted to RING\n",
      "Preparing SHT\n",
      "T -> alm\n",
      "float64 complex128\n",
      "Computing pixel positions\n",
      "Computing rotated positions\n",
      "Projecting\n"
     ]
    },
    {
     "name": "stderr",
     "output_type": "stream",
     "text": [
      "\r",
      "  0%|          | 0/3 [00:00<?, ?it/s]"
     ]
    }
   ],
   "source": [
    "from astropy.io import fits\n",
    "import healpy as hp\n",
    "import matplotlib.pyplot as plt\n",
    "import time\n",
    "import sys\n",
    "from pixell import enmap, enplot, reproject, utils, curvedsky, wcsutils\n",
    "from matplotlib import cm\n",
    "from scipy.optimize import curve_fit\n",
    "from scipy.linalg import sqrtm\n",
    "from tqdm import tqdm\n",
    "from mpl_toolkits.axes_grid1.anchored_artists import AnchoredSizeBar\n",
    "import numpy as np\n",
    "import pandas as pd\n",
    "\n",
    "maps =  [\"project4_EP/sourceNotebooks/data/HFI_SkyMap_545-field-Int_2048_R3.00_full.fits\"]\n",
    "\n",
    "for x in range(len(maps)):\n",
    "    beam = 10\n",
    "    filepath = maps[x]\n",
    "\n",
    "    pl = hp.read_map(filepath)\n",
    "    pl[pl<-1e23]=0\n",
    "    shape,wcs = enmap.fullsky_geometry(res=int(beam)*utils.arcmin,proj='car')\n",
    "    map_pix = reproject.enmap_from_healpix(pl,shape=shape,wcs=wcs)\n",
    "\n",
    "    awd_not_psz = pd.read_csv('project4_EP/sourceNotebooks/src/wh22.csv', skiprows = 0)\n",
    "    \n",
    "    zs = [0, 0.72, 100]\n",
    "    masses = [0, 1, 100000]\n",
    "\n",
    "    stacks = []\n",
    "    lens = []\n",
    "    riches = []\n",
    "    reds = []\n",
    "\n",
    "    for j in tqdm(range(len(zs))):\n",
    "        for k in range(len(masses)):\n",
    "            stack_CMB_kSZ           = 0\n",
    "            stack_CMB_kSZ_deproject = 0\n",
    "            c = 0\n",
    "            riches.append(masses[k])\n",
    "            reds.append(zs[j])\n",
    "            if j == len(zs)-1:\n",
    "                if k == len(masses)-1:\n",
    "                    ras = awd_not_psz[(awd_not_psz.z<zs[j]) & (awd_not_psz.z>0) & (awd_not_psz.m<masses[k]) & (awd_not_psz.m>0)]['ra'].reset_index(drop=True)\n",
    "                    decs = awd_not_psz[(awd_not_psz.z<zs[j]) & (awd_not_psz.z>0) & (awd_not_psz.m<masses[k]) & (awd_not_psz.m>0)]['dec'].reset_index(drop=True)\n",
    "                else:\n",
    "                    ras = awd_not_psz[(awd_not_psz.z<zs[j]) & (awd_not_psz.z>0) & (awd_not_psz.m<masses[k+1]) & (awd_not_psz.m>masses[k])]['ra'].reset_index(drop=True)\n",
    "                    decs = awd_not_psz[(awd_not_psz.z<zs[j]) & (awd_not_psz.z>0) & (awd_not_psz.m<masses[k+1]) & (awd_not_psz.m>masses[k])]['dec'].reset_index(drop=True)\n",
    "            elif k == len(masses)-1:\n",
    "                ras = awd_not_psz[(awd_not_psz.z<zs[j+1]) & (awd_not_psz.z>zs[j]) & (awd_not_psz.m<masses[k]) & (awd_not_psz.m>0)]['ra'].reset_index(drop=True)\n",
    "                decs = awd_not_psz[(awd_not_psz.z<zs[j+1]) & (awd_not_psz.z>zs[j]) & (awd_not_psz.m<masses[k]) & (awd_not_psz.m>0)]['dec'].reset_index(drop=True)\n",
    "            else:\n",
    "                ras = awd_not_psz[(awd_not_psz.z<zs[j+1]) & (awd_not_psz.z>zs[j]) & (awd_not_psz.m<masses[k+1]) & (awd_not_psz.m>masses[k])]['ra'].reset_index(drop=True)\n",
    "                decs = awd_not_psz[(awd_not_psz.z<zs[j+1]) & (awd_not_psz.z>zs[j]) & (awd_not_psz.m<masses[k+1]) & (awd_not_psz.m>masses[k])]['dec'].reset_index(drop=True)\n",
    "\n",
    "            N = len(ras)\n",
    "            lens.append(N)\n",
    "\n",
    "            for i in range(N):\n",
    "                stamp = reproject.thumbnails(map_pix,coords = np.deg2rad([decs[i], ras[i]]),r=beam*utils.arcmin)\n",
    "\n",
    "                if stamp is None:\n",
    "                    continue\n",
    "                elif stamp[0][0][0]==0.0:\n",
    "                    continue\n",
    "                else:\n",
    "                    stack_CMB_kSZ += np.array(stamp)\n",
    "                    c+=1\n",
    "\n",
    "            # Normalize the stamps\n",
    "            stack_CMB_kSZ /= c\n",
    "            stack_CMB_kSZ_deproject /= c\n",
    "\n",
    "            stacks.append(stack_CMB_kSZ[0])\n",
    "    np.save('_stacks_act_545_{}.npy'.format(x),stacks)\n",
    "    np.savetxt('lens.txt',lens)"
   ]
  },
  {
   "cell_type": "code",
   "execution_count": 2,
   "metadata": {},
   "outputs": [],
   "source": [
    "def import_map(filepath):\n",
    "    map_pix = enmap.read_map(filepath)\n",
    "    return map_pix\n",
    "\n",
    "def extract_intensity(map_pix, ras, decs, beam):\n",
    "    N = len(ras)\n",
    "    stack_CMB_kSZ           = 0\n",
    "    stack_CMB_kSZ_deproject = 0\n",
    "    c = 0\n",
    "\n",
    "    signal = []\n",
    "    ras_used = []\n",
    "    decs_used = []\n",
    "    for i in tqdm(range(N)):\n",
    "        stamp = reproject.thumbnails(map_pix,coords = np.deg2rad([decs[i], ras[i]]),r=beam*utils.arcmin)\n",
    "        if stamp is None:\n",
    "            signal.append(-9999)\n",
    "        elif stamp[0][0][0]==0.0:\n",
    "            signal.append(-9999)\n",
    "        else:\n",
    "            signal_sum = sum(sum(stamp[0]))\n",
    "            num_pix_signal = len(stamp[0][0])*len(stamp[0][0])\n",
    "            signal.append(signal_sum/num_pix_signal)\n",
    "        ras_used.append(ras[i])\n",
    "        decs_used.append(decs[i])\n",
    "\n",
    "    return signal, ras_used, decs_used\n",
    "\n",
    "\n",
    "def output_signal(signal,output_fp,ras_used,decs_used,output_fp_rasdecs):\n",
    "    np.savetxt(output_fp,\n",
    "               signal,\n",
    "               delimiter=\", \",\n",
    "               fmt='% s')\n",
    "    np.savetxt(output_fp_rasdecs[0],\n",
    "               ras_used,\n",
    "               delimiter=\", \",\n",
    "               fmt='% s')\n",
    "    np.savetxt(output_fp_rasdecs[1],\n",
    "               decs_used,\n",
    "               delimiter=\", \",\n",
    "               fmt='% s')"
   ]
  },
  {
   "cell_type": "code",
   "execution_count": 3,
   "metadata": {},
   "outputs": [
    {
     "name": "stderr",
     "output_type": "stream",
     "text": [
      "100%|██████████| 47231/47231 [11:55<00:00, 65.99it/s]\n"
     ]
    }
   ],
   "source": [
    "if __name__ == \"__main__\":\n",
    "#    voids = pd.read_csv('project4_EP/sourceNotebooks/data/voids_df.csv',skiprows=0,index_col=0)\n",
    "    voids = pd.read_csv('project4_EP/sourceNotebooks/voids_.csv',skiprows=0,index_col=0)\n",
    "    ras_voids = voids['ras'].reset_index(drop=True)\n",
    "    decs_voids = voids['decs'].reset_index(drop=True)\n",
    "\n",
    "    ras_all = ras_voids#, ras_real, ras_fsky]\n",
    "    decs_all = decs_voids#, decs_real, decs_fsky]\n",
    "\n",
    "    beam = 1.4\n",
    "    map_pix = import_map(\"project4_EP/sourceNotebooks/data/act_dr5.01_s08s18_AA_f090_daynight_map.fits\")\n",
    "    outputs = \"090_voids_test.csv\"\n",
    "    rasdecs = [\"ras_090_voids_test.csv\",\"decs_090_voids_test.csv\"]\n",
    "\n",
    "    signal, ras_used, decs_used = extract_intensity(map_pix, ras_all, decs_all, beam)\n",
    "    output_signal(signal, outputs, ras_used, decs_used, rasdecs)"
   ]
  },
  {
   "cell_type": "code",
   "execution_count": 4,
   "metadata": {},
   "outputs": [
    {
     "data": {
      "text/plain": [
       "'/home/maamari/Documents/GitHub/USCCosmology'"
      ]
     },
     "execution_count": 4,
     "metadata": {},
     "output_type": "execute_result"
    }
   ],
   "source": [
    "pwd"
   ]
  },
  {
   "cell_type": "code",
   "execution_count": null,
   "metadata": {},
   "outputs": [],
   "source": []
  }
 ],
 "metadata": {
  "kernelspec": {
   "display_name": "Python 3",
   "language": "python",
   "name": "python3"
  },
  "language_info": {
   "codemirror_mode": {
    "name": "ipython",
    "version": 3
   },
   "file_extension": ".py",
   "mimetype": "text/x-python",
   "name": "python",
   "nbconvert_exporter": "python",
   "pygments_lexer": "ipython3",
   "version": "3.7.6"
  }
 },
 "nbformat": 4,
 "nbformat_minor": 4
}
