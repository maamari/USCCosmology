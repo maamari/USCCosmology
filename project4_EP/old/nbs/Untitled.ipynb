{
 "cells": [
  {
   "cell_type": "code",
   "execution_count": 3,
   "metadata": {},
   "outputs": [],
   "source": [
    "import pandas as pd\n",
    "import math\n",
    "import numpy as np\n",
    "from astropy.coordinates import SkyCoord\n",
    "from astropy.io import fits\n",
    "import healpy as hp\n",
    "import matplotlib.pyplot as plt\n",
    "import time\n",
    "import sys\n",
    "from pixell import enmap, enplot, reproject, utils, curvedsky, wcsutils\n",
    "from matplotlib import cm\n",
    "from scipy.optimize import curve_fit\n",
    "from scipy.linalg import sqrtm\n",
    "from tqdm.auto import tqdm\n",
    "import random\n",
    "import time\n",
    "import multiprocessing as mp\n",
    "import numpy as np\n",
    "import random\n",
    "import time\n",
    "import multiprocessing as mp\n",
    "import numpy as np\n",
    "from matplotlib.ticker import FuncFormatter\n",
    "from mpl_toolkits.axes_grid1.anchored_artists import AnchoredSizeBar\n",
    "import matplotlib.font_manager as fm\n",
    "import matplotlib\n",
    "matplotlib.rcParams['mathtext.fontset'] = 'stix'\n",
    "matplotlib.rcParams['font.family'] = 'STIXGeneral'"
   ]
  },
  {
   "cell_type": "code",
   "execution_count": null,
   "metadata": {
    "scrolled": true
   },
   "outputs": [],
   "source": [
    "from astropy.io import fits\n",
    "import healpy as hp\n",
    "import matplotlib.pyplot as plt\n",
    "import time\n",
    "import sys\n",
    "from pixell import enmap, enplot, reproject, utils, curvedsky, wcsutils\n",
    "from matplotlib import cm\n",
    "from scipy.optimize import curve_fit\n",
    "from scipy.linalg import sqrtm\n",
    "from tqdm import tqdm\n",
    "from mpl_toolkits.axes_grid1.anchored_artists import AnchoredSizeBar\n",
    "import numpy as np\n",
    "import pandas as pd\n",
    "\n",
    "maps =  [\"project4_EP/sourceNotebooks/data/HFI_SkyMap_143-field-IQU_2048_R3.00_full.fits\"]\n",
    "\n",
    "for x in range(len(maps)):\n",
    "    beam = 10\n",
    "    filepath = maps[x]\n",
    "\n",
    "    pl = hp.read_map(filepath)\n",
    "    pl[pl<-1e23]=0\n",
    "    shape,wcs = enmap.fullsky_geometry(res=int(beam)*utils.arcmin,proj='car')\n",
    "    map_pix = reproject.enmap_from_healpix(pl,shape=shape,wcs=wcs)\n",
    "\n",
    "    awd_not_psz = pd.read_csv('project4_EP/sourceNotebooks/src/wh22.csv', skiprows = 0)\n",
    "    awd_not_psz = awd_not_psz[awd_not_psz.z<1.0]\n",
    "\n",
    "    stacks = []\n",
    "    lens = []\n",
    "    riches = []\n",
    "    reds = []\n",
    "\n",
    "    stack_CMB_kSZ           = 0\n",
    "    stack_CMB_kSZ_deproject = 0\n",
    "    c = 0\n",
    "\n",
    "    ras = awd_not_psz['ra'].reset_index(drop=True)\n",
    "    decs = awd_not_psz['dec'].reset_index(drop=True)\n",
    "    N = len(ras)\n",
    "    lens.append(N)\n",
    "\n",
    "    for i in tqdm(range(N)):\n",
    "        stamp = reproject.thumbnails(map_pix,coords = np.deg2rad([decs[i], ras[i]]),r=beam*utils.arcmin)\n",
    "        if stamp is None:\n",
    "            continue\n",
    "        elif stamp[0][0][0]==0.0:\n",
    "            continue\n",
    "        else:\n",
    "            stack_CMB_kSZ += np.array(stamp)\n",
    "            c+=1\n",
    "\n",
    "    # Normalize the stamps\n",
    "    stack_CMB_kSZ /= c\n",
    "    stack_CMB_kSZ_deproject /= c\n",
    "    stacks.append(stack_CMB_kSZ[0])\n",
    "\n",
    "    np.save('143_10_test_new.npy',stacks)\n",
    "    np.savetxt('lens.txt',lens)"
   ]
  },
  {
   "cell_type": "code",
   "execution_count": 2,
   "metadata": {
    "scrolled": true
   },
   "outputs": [
    {
     "data": {
      "application/vnd.jupyter.widget-view+json": {
       "model_id": "38a54cdde94c4cd3a3d72bf747ae0fe1",
       "version_major": 2,
       "version_minor": 0
      },
      "text/plain": [
       "  0%|          | 0/3 [00:00<?, ?it/s]"
      ]
     },
     "metadata": {},
     "output_type": "display_data"
    },
    {
     "data": {
      "application/vnd.jupyter.widget-view+json": {
       "model_id": "c948846341d24f8ea5d714b7d639b721",
       "version_major": 2,
       "version_minor": 0
      },
      "text/plain": [
       "  0%|          | 0/28396 [00:00<?, ?it/s]"
      ]
     },
     "metadata": {},
     "output_type": "display_data"
    },
    {
     "data": {
      "application/vnd.jupyter.widget-view+json": {
       "model_id": "6ab8cd8c8db649b195b57dc94fe3efac",
       "version_major": 2,
       "version_minor": 0
      },
      "text/plain": [
       "  0%|          | 0/31504 [00:00<?, ?it/s]"
      ]
     },
     "metadata": {},
     "output_type": "display_data"
    },
    {
     "data": {
      "application/vnd.jupyter.widget-view+json": {
       "model_id": "454828885f85427489dd17deeefbaa58",
       "version_major": 2,
       "version_minor": 0
      },
      "text/plain": [
       "  0%|          | 0/75021 [00:00<?, ?it/s]"
      ]
     },
     "metadata": {},
     "output_type": "display_data"
    },
    {
     "data": {
      "application/vnd.jupyter.widget-view+json": {
       "model_id": "c27fa203a9d74784a991fe7df9e67cfc",
       "version_major": 2,
       "version_minor": 0
      },
      "text/plain": [
       "  0%|          | 0/22154 [00:00<?, ?it/s]"
      ]
     },
     "metadata": {},
     "output_type": "display_data"
    },
    {
     "data": {
      "application/vnd.jupyter.widget-view+json": {
       "model_id": "41749aa0c2c94be098214fb634ccc407",
       "version_major": 2,
       "version_minor": 0
      },
      "text/plain": [
       "  0%|          | 0/38134 [00:00<?, ?it/s]"
      ]
     },
     "metadata": {},
     "output_type": "display_data"
    },
    {
     "data": {
      "application/vnd.jupyter.widget-view+json": {
       "model_id": "406634d1f16b40f6b611bff609e9bc7b",
       "version_major": 2,
       "version_minor": 0
      },
      "text/plain": [
       "  0%|          | 0/76209 [00:00<?, ?it/s]"
      ]
     },
     "metadata": {},
     "output_type": "display_data"
    },
    {
     "data": {
      "application/vnd.jupyter.widget-view+json": {
       "model_id": "ee8e3fa97cf5468aa87f536274f8f8ad",
       "version_major": 2,
       "version_minor": 0
      },
      "text/plain": [
       "  0%|          | 0/50556 [00:00<?, ?it/s]"
      ]
     },
     "metadata": {},
     "output_type": "display_data"
    },
    {
     "data": {
      "application/vnd.jupyter.widget-view+json": {
       "model_id": "bc191c36934e430594e4cded31deb6fa",
       "version_major": 2,
       "version_minor": 0
      },
      "text/plain": [
       "  0%|          | 0/69645 [00:00<?, ?it/s]"
      ]
     },
     "metadata": {},
     "output_type": "display_data"
    },
    {
     "data": {
      "application/vnd.jupyter.widget-view+json": {
       "model_id": "d45c20abb23d406bad4c280859ad9a2a",
       "version_major": 2,
       "version_minor": 0
      },
      "text/plain": [
       "  0%|          | 0/151244 [00:00<?, ?it/s]"
      ]
     },
     "metadata": {},
     "output_type": "display_data"
    }
   ],
   "source": [
    "from astropy.io import fits\n",
    "import healpy as hp\n",
    "import matplotlib.pyplot as plt\n",
    "import time\n",
    "import sys\n",
    "from pixell import enmap, enplot, reproject, utils, curvedsky, wcsutils\n",
    "from matplotlib import cm\n",
    "from scipy.optimize import curve_fit\n",
    "from scipy.linalg import sqrtm\n",
    "from tqdm.auto import tqdm\n",
    "from mpl_toolkits.axes_grid1.anchored_artists import AnchoredSizeBar\n",
    "import numpy as np\n",
    "import pandas as pd\n",
    "\n",
    "maps =  [\"project4_EP/sourceNotebooks/data/act_dr5.01_s08s18_AA_f090_daynight_map.fits\"]\n",
    "\n",
    "for x in range(len(maps)):\n",
    "    beam = 5\n",
    "    filepath = maps[x]\n",
    "\n",
    "#     pl = hp.read_map(filepath)\n",
    "#     pl[pl<-1e23]=0\n",
    "#     shape,wcs = enmap.fullsky_geometry(res=int(beam)*utils.arcmin,proj='car')\n",
    "#     map_pix = reproject.enmap_from_healpix(pl,shape=shape,wcs=wcs)\n",
    "    map_pix = enmap.read_map(filepath)\n",
    "\n",
    "    awd_not_psz = pd.read_csv('project4_EP/sourceNotebooks/src/wh22.csv', skiprows = 0)\n",
    "    \n",
    "    zs = [0, 0.72, 100]\n",
    "    masses = [0, 1, 100000]\n",
    "\n",
    "    stacks = []\n",
    "    lens = []\n",
    "    riches = []\n",
    "    reds = []\n",
    "\n",
    "    for j in tqdm(range(len(zs))):\n",
    "        for k in range(len(masses)):\n",
    "            stack_CMB_kSZ           = 0\n",
    "            stack_CMB_kSZ_deproject = 0\n",
    "            c = 0\n",
    "            riches.append(masses[k])\n",
    "            reds.append(zs[j])\n",
    "            if j == len(zs)-1:\n",
    "                if k == len(masses)-1:\n",
    "                    ras = awd_not_psz[(awd_not_psz.z<zs[j]) & (awd_not_psz.z>0) & (awd_not_psz.m<masses[k]) & (awd_not_psz.m>=0)]['ra'].reset_index(drop=True)\n",
    "                    decs = awd_not_psz[(awd_not_psz.z<zs[j]) & (awd_not_psz.z>0) & (awd_not_psz.m<masses[k]) & (awd_not_psz.m>=0)]['dec'].reset_index(drop=True)\n",
    "                else:\n",
    "                    ras = awd_not_psz[(awd_not_psz.z<zs[j]) & (awd_not_psz.z>0) & (awd_not_psz.m<masses[k+1]) & (awd_not_psz.m>=masses[k])]['ra'].reset_index(drop=True)\n",
    "                    decs = awd_not_psz[(awd_not_psz.z<zs[j]) & (awd_not_psz.z>0) & (awd_not_psz.m<masses[k+1]) & (awd_not_psz.m>=masses[k])]['dec'].reset_index(drop=True)\n",
    "            elif k == len(masses)-1:\n",
    "                ras = awd_not_psz[(awd_not_psz.z<zs[j+1]) & (awd_not_psz.z>zs[j]) & (awd_not_psz.m<masses[k]) & (awd_not_psz.m>=0)]['ra'].reset_index(drop=True)\n",
    "                decs = awd_not_psz[(awd_not_psz.z<zs[j+1]) & (awd_not_psz.z>zs[j]) & (awd_not_psz.m<masses[k]) & (awd_not_psz.m>=0)]['dec'].reset_index(drop=True)\n",
    "            else:\n",
    "                ras = awd_not_psz[(awd_not_psz.z<zs[j+1]) & (awd_not_psz.z>zs[j]) & (awd_not_psz.m<masses[k+1]) & (awd_not_psz.m>=masses[k])]['ra'].reset_index(drop=True)\n",
    "                decs = awd_not_psz[(awd_not_psz.z<zs[j+1]) & (awd_not_psz.z>zs[j]) & (awd_not_psz.m<masses[k+1]) & (awd_not_psz.m>=masses[k])]['dec'].reset_index(drop=True)\n",
    "\n",
    "            N = len(ras)\n",
    "            lens.append(N)\n",
    "\n",
    "            for i in tqdm(range(N)):\n",
    "                stamp = reproject.thumbnails(map_pix,coords = np.deg2rad([decs[i], ras[i]]),r=beam*utils.arcmin)\n",
    "\n",
    "                if stamp is None:\n",
    "                    continue\n",
    "                elif stamp[0][0][0]==0.0:\n",
    "                    continue\n",
    "                else:\n",
    "                    stack_CMB_kSZ += np.array(stamp)\n",
    "                    c+=1\n",
    "\n",
    "            # Normalize the stamps\n",
    "            stack_CMB_kSZ /= c\n",
    "            stack_CMB_kSZ_deproject /= c\n",
    "\n",
    "            stacks.append(stack_CMB_kSZ[0])\n",
    "    np.save('090_all.npy'.format(x),stacks)\n",
    "    np.savetxt('lens.txt',lens)\n"
   ]
  },
  {
   "cell_type": "code",
   "execution_count": 26,
   "metadata": {},
   "outputs": [],
   "source": [
    "stacks = np.load('150_all_fix2.npy')\n",
    "# stacks3 = np.load('220_all_fix2.npy')\n",
    "\n",
    "# stacks[0] = stacks3[0]\n",
    "# stacks[1] = stacks3[1]\n",
    "# stacks[3] = stacks3[2]\n",
    "# stacks[4] = stacks3[3]\n",
    "# stacks[6] = stacks3[4]\n",
    "# stacks[7] = stacks3[5]\n",
    "\n",
    "lens = [35902,38207,75021,27954,47132,76209,63863,85346,151244]"
   ]
  },
  {
   "cell_type": "code",
   "execution_count": 27,
   "metadata": {},
   "outputs": [
    {
     "data": {
      "image/png": "[encoded data removed]",
      "text/plain": [
       "<Figure size 1080x1080 with 10 Axes>"
      ]
     },
     "metadata": {
      "needs_background": "light"
     },
     "output_type": "display_data"
    }
   ],
   "source": [
    "import matplotlib as mpl\n",
    "from matplotlib.ticker import FuncFormatter\n",
    "mpl.rcParams['mathtext.fontset'] = 'stix'\n",
    "mpl.rcParams['font.family'] = 'STIXGeneral'\n",
    "\n",
    "f, ax = plt.subplots(nrows=3, ncols=3,figsize=(15,15))\n",
    "i = 0\n",
    "\n",
    "def fmt(x, pos):\n",
    "    a, b = '{:.2e}'.format(x).split('e')\n",
    "    b = int(b)\n",
    "    return r'${} \\times 10^{{{}}}$'.format(a, b)\n",
    "\n",
    "for j,row in enumerate(ax):\n",
    "    for k, col in enumerate(row):\n",
    "        f1 = col.imshow(stacks[i]*1e-6)#, vmin=0.000729, vmax=0.000741)\n",
    "        col.get_xaxis().set_visible(False)\n",
    "        col.get_yaxis().set_visible(False)\n",
    "#         plt.colorbar(mappable = f1, ax = col,orientation='horizontal',fraction=0.047, pad=0.02)\n",
    "#         cbar = plt.colorbar(mappable = f1, ax = col,orientation='horizontal',fraction=0.047, pad=0.02)\n",
    "#         cbar.ax.tick_params(rotation=25)\n",
    "\n",
    "        scalebar = AnchoredSizeBar(ax[0][0].transData,\n",
    "                                   20, '', 'center left', \n",
    "                                   pad=0.,\n",
    "                                   sep=-7,\n",
    "                                   color='white',\n",
    "                                   frameon=False,\n",
    "                                   size_vertical=0.02)\n",
    "        ax[0][0].add_artist(scalebar)\n",
    "        ax[0][0].text(0.1, 0.4, 'R = 5$\\,$\\''.format(10), c='white', fontsize=18, transform=ax[0][0].transAxes)\n",
    "\n",
    "        col.text(2.4,4.12,\"N = {}\".format(lens[i]),fontsize=18,color='white',weight=600)\n",
    "#         if j==0 and k==0:\n",
    "#             col.text(-15,20,\"z<0.72\",size=15)\n",
    "#         if j==1 and k==0:\n",
    "#             col.text(-15,20,\"z>0.72\",size=15)\n",
    "#         if j==2 and k==0:\n",
    "#             col.text(-15,20,\"all z\",size=15)\n",
    "#         if k==0 and j==0:\n",
    "#             col.text(15,-5,\"M<1$M_{\\astrosun}$\",size=15)\n",
    "#         if k==1 and j==0:\n",
    "#             col.text(15,-5,\"M>1$M_{\\astrosun}$\",size=15)\n",
    "#         if k==2 and j==0:\n",
    "#             col.text(15,-5,\"all M\",size=15)\n",
    "        if j==0 and k==0:\n",
    "            col.text(-.4,.5,\"z < 0.72\",size=15,transform=col.transAxes)\n",
    "        if j==1 and k==0:\n",
    "            col.text(-.4,.5,\"z $\\geq$ 0.72\",size=15,transform=col.transAxes)\n",
    "        if j==2 and k==0:\n",
    "            col.text(-.4,.5,\"All z\",size=15,transform=col.transAxes)\n",
    "        if k==0 and j==0:\n",
    "            col.text(.4,1.2,\"M < 10$^{14}$ M$_{\\odot}$\",size=15,transform=col.transAxes)\n",
    "        if k==1 and j==0:\n",
    "            col.text(.4,1.2,\"M $\\geq$ 10$^{14}$ M$_{\\odot}$\",size=15,transform=col.transAxes)\n",
    "        if k==2 and j==0:\n",
    "            col.text(.4,1.2,\"All M\",size=15,transform=col.transAxes)\n",
    "\n",
    "        i+=1\n",
    "    \n",
    "f.subplots_adjust(right=0.8)\n",
    "plt.subplots_adjust(wspace=0.05, hspace=-0.25)\n",
    "cbar_ax = f.add_axes([0.85, 0.17, 0.03, 0.66])\n",
    "cbar = f.colorbar(f1, cax=cbar_ax, format=FuncFormatter(fmt))\n",
    "cbar.ax.tick_params(labelsize=15) \n",
    "\n",
    "plt.savefig(\"150.png\")\n"
   ]
  },
  {
   "cell_type": "code",
   "execution_count": 15,
   "metadata": {},
   "outputs": [
    {
     "data": {
      "text/plain": [
       "87381"
      ]
     },
     "execution_count": 15,
     "metadata": {},
     "output_type": "execute_result"
    }
   ],
   "source": [
    "len(awd_not_psz[awd_not_psz.m>=1])"
   ]
  },
  {
   "cell_type": "code",
   "execution_count": 4,
   "metadata": {},
   "outputs": [
    {
     "data": {
      "text/plain": [
       "41"
      ]
     },
     "execution_count": 4,
     "metadata": {},
     "output_type": "execute_result"
    }
   ],
   "source": [
    "len(stacks[0])"
   ]
  },
  {
   "cell_type": "code",
   "execution_count": 4,
   "metadata": {},
   "outputs": [],
   "source": [
    "awd_not_psz = pd.read_csv('project4_EP/sourceNotebooks/src/wh22.csv', skiprows = 0)"
   ]
  },
  {
   "cell_type": "code",
   "execution_count": 20,
   "metadata": {},
   "outputs": [
    {
     "data": {
      "text/html": [
       "<div>\n",
       "<style scoped>\n",
       "    .dataframe tbody tr th:only-of-type {\n",
       "        vertical-align: middle;\n",
       "    }\n",
       "\n",
       "    .dataframe tbody tr th {\n",
       "        vertical-align: top;\n",
       "    }\n",
       "\n",
       "    .dataframe thead th {\n",
       "        text-align: right;\n",
       "    }\n",
       "</style>\n",
       "<table border=\"1\" class=\"dataframe\">\n",
       "  <thead>\n",
       "    <tr style=\"text-align: right;\">\n",
       "      <th></th>\n",
       "      <th>Unnamed: 0</th>\n",
       "      <th>ra</th>\n",
       "      <th>dec</th>\n",
       "      <th>z</th>\n",
       "      <th>glat</th>\n",
       "      <th>glon</th>\n",
       "    </tr>\n",
       "  </thead>\n",
       "  <tbody>\n",
       "    <tr>\n",
       "      <th>0</th>\n",
       "      <td>0</td>\n",
       "      <td>0.00200</td>\n",
       "      <td>2.31979</td>\n",
       "      <td>0.4192</td>\n",
       "      <td>-58.049452</td>\n",
       "      <td>98.087115</td>\n",
       "    </tr>\n",
       "    <tr>\n",
       "      <th>1</th>\n",
       "      <td>1</td>\n",
       "      <td>0.00555</td>\n",
       "      <td>-64.16639</td>\n",
       "      <td>0.6423</td>\n",
       "      <td>-52.047056</td>\n",
       "      <td>312.001004</td>\n",
       "    </tr>\n",
       "    <tr>\n",
       "      <th>2</th>\n",
       "      <td>2</td>\n",
       "      <td>0.00563</td>\n",
       "      <td>-52.33236</td>\n",
       "      <td>0.5829</td>\n",
       "      <td>-63.020377</td>\n",
       "      <td>320.368582</td>\n",
       "    </tr>\n",
       "    <tr>\n",
       "      <th>3</th>\n",
       "      <td>3</td>\n",
       "      <td>0.00943</td>\n",
       "      <td>-47.85358</td>\n",
       "      <td>0.7734</td>\n",
       "      <td>-66.974509</td>\n",
       "      <td>325.361169</td>\n",
       "    </tr>\n",
       "    <tr>\n",
       "      <th>4</th>\n",
       "      <td>4</td>\n",
       "      <td>0.01186</td>\n",
       "      <td>-47.73740</td>\n",
       "      <td>0.3169</td>\n",
       "      <td>-67.075474</td>\n",
       "      <td>325.508485</td>\n",
       "    </tr>\n",
       "    <tr>\n",
       "      <th>...</th>\n",
       "      <td>...</td>\n",
       "      <td>...</td>\n",
       "      <td>...</td>\n",
       "      <td>...</td>\n",
       "      <td>...</td>\n",
       "      <td>...</td>\n",
       "    </tr>\n",
       "    <tr>\n",
       "      <th>151239</th>\n",
       "      <td>151239</td>\n",
       "      <td>359.98911</td>\n",
       "      <td>-6.40920</td>\n",
       "      <td>1.0678</td>\n",
       "      <td>-65.938253</td>\n",
       "      <td>90.050298</td>\n",
       "    </tr>\n",
       "    <tr>\n",
       "      <th>151240</th>\n",
       "      <td>151240</td>\n",
       "      <td>359.99091</td>\n",
       "      <td>-44.66209</td>\n",
       "      <td>0.7684</td>\n",
       "      <td>-69.658934</td>\n",
       "      <td>330.042777</td>\n",
       "    </tr>\n",
       "    <tr>\n",
       "      <th>151241</th>\n",
       "      <td>151241</td>\n",
       "      <td>359.99377</td>\n",
       "      <td>-49.09889</td>\n",
       "      <td>0.6708</td>\n",
       "      <td>-65.887658</td>\n",
       "      <td>323.840195</td>\n",
       "    </tr>\n",
       "    <tr>\n",
       "      <th>151242</th>\n",
       "      <td>151242</td>\n",
       "      <td>359.99503</td>\n",
       "      <td>-37.71075</td>\n",
       "      <td>0.6743</td>\n",
       "      <td>-74.866209</td>\n",
       "      <td>345.359827</td>\n",
       "    </tr>\n",
       "    <tr>\n",
       "      <th>151243</th>\n",
       "      <td>151243</td>\n",
       "      <td>359.99863</td>\n",
       "      <td>-3.43780</td>\n",
       "      <td>0.3101</td>\n",
       "      <td>-63.309142</td>\n",
       "      <td>93.285501</td>\n",
       "    </tr>\n",
       "  </tbody>\n",
       "</table>\n",
       "<p>151244 rows × 6 columns</p>\n",
       "</div>"
      ],
      "text/plain": [
       "        Unnamed: 0         ra       dec       z       glat        glon\n",
       "0                0    0.00200   2.31979  0.4192 -58.049452   98.087115\n",
       "1                1    0.00555 -64.16639  0.6423 -52.047056  312.001004\n",
       "2                2    0.00563 -52.33236  0.5829 -63.020377  320.368582\n",
       "3                3    0.00943 -47.85358  0.7734 -66.974509  325.361169\n",
       "4                4    0.01186 -47.73740  0.3169 -67.075474  325.508485\n",
       "...            ...        ...       ...     ...        ...         ...\n",
       "151239      151239  359.98911  -6.40920  1.0678 -65.938253   90.050298\n",
       "151240      151240  359.99091 -44.66209  0.7684 -69.658934  330.042777\n",
       "151241      151241  359.99377 -49.09889  0.6708 -65.887658  323.840195\n",
       "151242      151242  359.99503 -37.71075  0.6743 -74.866209  345.359827\n",
       "151243      151243  359.99863  -3.43780  0.3101 -63.309142   93.285501\n",
       "\n",
       "[151244 rows x 6 columns]"
      ]
     },
     "execution_count": 20,
     "metadata": {},
     "output_type": "execute_result"
    }
   ],
   "source": [
    "awd_not_psz"
   ]
  },
  {
   "cell_type": "code",
   "execution_count": 22,
   "metadata": {},
   "outputs": [
    {
     "data": {
      "text/plain": [
       "0.5320211049694533"
      ]
     },
     "execution_count": 22,
     "metadata": {},
     "output_type": "execute_result"
    }
   ],
   "source": [
    "len(awd_not_psz[awd_not_psz.z<0.75])/len(awd_not_psz)"
   ]
  },
  {
   "cell_type": "code",
   "execution_count": 62,
   "metadata": {},
   "outputs": [],
   "source": [
    "def make_stacked_plots(all_stacks,all_beams,all_freqs):\n",
    "    f, ax = plt.subplots(nrows=2, ncols=3, figsize=(15,10))\n",
    "    i = 0\n",
    "\n",
    "    for j,row in enumerate(ax):\n",
    "        for k, col in enumerate(row):    \n",
    "            stacks = np.load(all_stacks[j*3+k])\n",
    "            beam = all_beams[j*3+k]\n",
    "            freq = all_freqs[j*3+k]\n",
    "            \n",
    "            if freq=='advACT 150 GHz':\n",
    "                color='k'\n",
    "                stacks[0] *= 1e-6\n",
    "                linelen = 20\n",
    "                linewid = 0.35\n",
    "            else:\n",
    "                if freq=='ROSAT':\n",
    "                    color='k'\n",
    "                else:\n",
    "                    color='w'\n",
    "                linelen = 2.5\n",
    "                linewid = 0.04\n",
    "                \n",
    "            f1 = col.imshow(stacks[0])\n",
    "            col.get_xaxis().set_visible(False)\n",
    "            col.get_yaxis().set_visible(False)\n",
    "            fmt = lambda x, pos: '{:.2e}'.format(x)            \n",
    "            cbar = plt.colorbar(mappable = f1, ax = col,orientation='horizontal',fraction=0.047, pad=0.02, format=FuncFormatter(fmt))\n",
    "            cbar.ax.tick_params(rotation=25)\n",
    "\n",
    "            scalebar = AnchoredSizeBar(col.transData,\n",
    "                                       linelen, '', 'center right', \n",
    "                                       pad=0.,\n",
    "                                       sep=-7,\n",
    "                                       color='white',\n",
    "                                       frameon=False,\n",
    "                                       size_vertical=linewid)\n",
    "            col.add_artist(scalebar)\n",
    "            col.text(0.65, 0.42, 'R = {}\\''.format(beam), c='white', transform=col.transAxes, fontsize=15)\n",
    "            col.text(0.08,0.08,\"{}\".format(freq),color=color,transform=col.transAxes, fontsize=15)\n",
    "\n",
    "            i+=1\n",
    "            \n",
    "    plt.subplots_adjust(wspace=-0.2, hspace=0.2)\n",
    "    plt.savefig(\"stacked_lowres.png\",bbox_inches='tight')\n",
    "    plt.show()"
   ]
  },
  {
   "cell_type": "code",
   "execution_count": 67,
   "metadata": {},
   "outputs": [],
   "source": [
    "beams = [10,5,10,10,10,5]\n",
    "freqs = ['Planck 143 GHz','advACT 150 GHz','Planck 353 GHz','Planck 545 GHz','Planck 857 GHz','ROSAT']\n",
    "files = ['143_10_new.npy','act_stacked_5_test2_150.npy','353_10_new.npy','545_10_new.npy','857_10_new.npy','rosat_stacked_test2_5.npy']"
   ]
  },
  {
   "cell_type": "code",
   "execution_count": 68,
   "metadata": {},
   "outputs": [
    {
     "data": {
      "image/png": "[encoded data removed]",
      "text/plain": [
       "<Figure size 1080x720 with 12 Axes>"
      ]
     },
     "metadata": {
      "needs_background": "light"
     },
     "output_type": "display_data"
    }
   ],
   "source": [
    "make_stacked_plots(files,beams,freqs)"
   ]
  },
  {
   "cell_type": "code",
   "execution_count": 20,
   "metadata": {},
   "outputs": [],
   "source": [
    "awd_not_psz = pd.read_csv('project4_EP/sourceNotebooks/src/awd.csv', skiprows = 0)"
   ]
  },
  {
   "cell_type": "code",
   "execution_count": 49,
   "metadata": {},
   "outputs": [
    {
     "data": {
      "text/plain": [
       "(array([  0.,  25.,  50.,  75., 100., 125., 150., 175., 200., 225.]),\n",
       " [Text(0, 0, ''),\n",
       "  Text(0, 0, ''),\n",
       "  Text(0, 0, ''),\n",
       "  Text(0, 0, ''),\n",
       "  Text(0, 0, ''),\n",
       "  Text(0, 0, ''),\n",
       "  Text(0, 0, ''),\n",
       "  Text(0, 0, ''),\n",
       "  Text(0, 0, ''),\n",
       "  Text(0, 0, '')])"
      ]
     },
     "execution_count": 49,
     "metadata": {},
     "output_type": "execute_result"
    },
    {
     "data": {
      "image/png": "[encoded data removed]",
      "text/plain": [
       "<Figure size 720x720 with 1 Axes>"
      ]
     },
     "metadata": {
      "needs_background": "light"
     },
     "output_type": "display_data"
    }
   ],
   "source": [
    "plt.figure(figsize=(10,10))\n",
    "plt.hist2d(awd_not_psz.amf_z,awd_not_psz.amf_rh)\n",
    "plt.ylabel('# clusters',size=20)\n",
    "plt.xlabel('z',size=20)\n",
    "plt.xticks(size=15)\n",
    "plt.yticks(size=15)"
   ]
  },
  {
   "cell_type": "code",
   "execution_count": 48,
   "metadata": {},
   "outputs": [
    {
     "data": {
      "text/plain": [
       "15230"
      ]
     },
     "execution_count": 48,
     "metadata": {},
     "output_type": "execute_result"
    }
   ],
   "source": [
    "len(awd_not_psz[awd_not_psz.amf_z>0.33])"
   ]
  },
  {
   "cell_type": "code",
   "execution_count": 218,
   "metadata": {},
   "outputs": [
    {
     "name": "stdout",
     "output_type": "stream",
     "text": [
      "NSIDE = 2048\n",
      "ORDERING = NESTED in fits file\n",
      "INDXSCHM = IMPLICIT\n"
     ]
    },
    {
     "name": "stderr",
     "output_type": "stream",
     "text": [
      "/home/maamari/Documents/Other/Anaconda/lib/python3.7/site-packages/healpy/fitsfunc.py:403: UserWarning: No INDXSCHM keyword in header file : assume IMPLICIT\n",
      "  warnings.warn(\"No INDXSCHM keyword in header file : \" \"assume {}\".format(schm))\n"
     ]
    },
    {
     "name": "stdout",
     "output_type": "stream",
     "text": [
      "Ordering converted to RING\n",
      "Preparing SHT\n",
      "T -> alm\n",
      "float64 complex128\n"
     ]
    },
    {
     "ename": "KeyboardInterrupt",
     "evalue": "",
     "output_type": "error",
     "traceback": [
      "\u001b[0;31m---------------------------------------------------------------------------\u001b[0m",
      "\u001b[0;31mKeyboardInterrupt\u001b[0m                         Traceback (most recent call last)",
      "\u001b[0;32m<ipython-input-218-cc6e85f2dff2>\u001b[0m in \u001b[0;36m<module>\u001b[0;34m\u001b[0m\n\u001b[1;32m     22\u001b[0m     \u001b[0mpl\u001b[0m\u001b[0;34m[\u001b[0m\u001b[0mpl\u001b[0m\u001b[0;34m<\u001b[0m\u001b[0;34m-\u001b[0m\u001b[0;36m1e23\u001b[0m\u001b[0;34m]\u001b[0m\u001b[0;34m=\u001b[0m\u001b[0;36m0\u001b[0m\u001b[0;34m\u001b[0m\u001b[0;34m\u001b[0m\u001b[0m\n\u001b[1;32m     23\u001b[0m     \u001b[0mshape\u001b[0m\u001b[0;34m,\u001b[0m\u001b[0mwcs\u001b[0m \u001b[0;34m=\u001b[0m \u001b[0menmap\u001b[0m\u001b[0;34m.\u001b[0m\u001b[0mfullsky_geometry\u001b[0m\u001b[0;34m(\u001b[0m\u001b[0mres\u001b[0m\u001b[0;34m=\u001b[0m\u001b[0mint\u001b[0m\u001b[0;34m(\u001b[0m\u001b[0mbeam\u001b[0m\u001b[0;34m)\u001b[0m\u001b[0;34m*\u001b[0m\u001b[0mutils\u001b[0m\u001b[0;34m.\u001b[0m\u001b[0marcmin\u001b[0m\u001b[0;34m,\u001b[0m\u001b[0mproj\u001b[0m\u001b[0;34m=\u001b[0m\u001b[0;34m'car'\u001b[0m\u001b[0;34m)\u001b[0m\u001b[0;34m\u001b[0m\u001b[0;34m\u001b[0m\u001b[0m\n\u001b[0;32m---> 24\u001b[0;31m     \u001b[0mmap_pix\u001b[0m \u001b[0;34m=\u001b[0m \u001b[0mreproject\u001b[0m\u001b[0;34m.\u001b[0m\u001b[0menmap_from_healpix\u001b[0m\u001b[0;34m(\u001b[0m\u001b[0mpl\u001b[0m\u001b[0;34m,\u001b[0m\u001b[0mshape\u001b[0m\u001b[0;34m=\u001b[0m\u001b[0mshape\u001b[0m\u001b[0;34m,\u001b[0m\u001b[0mwcs\u001b[0m\u001b[0;34m=\u001b[0m\u001b[0mwcs\u001b[0m\u001b[0;34m)\u001b[0m\u001b[0;34m\u001b[0m\u001b[0;34m\u001b[0m\u001b[0m\n\u001b[0m\u001b[1;32m     25\u001b[0m \u001b[0;34m\u001b[0m\u001b[0m\n\u001b[1;32m     26\u001b[0m     \u001b[0mawd_not_psz\u001b[0m \u001b[0;34m=\u001b[0m \u001b[0mpd\u001b[0m\u001b[0;34m.\u001b[0m\u001b[0mread_csv\u001b[0m\u001b[0;34m(\u001b[0m\u001b[0;34m'project4_EP/sourceNotebooks/data/new/awd_not_psz.csv'\u001b[0m\u001b[0;34m,\u001b[0m \u001b[0mskiprows\u001b[0m \u001b[0;34m=\u001b[0m \u001b[0;36m0\u001b[0m\u001b[0;34m)\u001b[0m\u001b[0;34m\u001b[0m\u001b[0;34m\u001b[0m\u001b[0m\n",
      "\u001b[0;32m~/Documents/Other/Anaconda/lib/python3.7/site-packages/pixell/reproject.py\u001b[0m in \u001b[0;36menmap_from_healpix\u001b[0;34m(hp_map, shape, wcs, ncomp, unit, lmax, rot, first, is_alm, return_alm, f_ell)\u001b[0m\n\u001b[1;32m    246\u001b[0m                 \u001b[0mprint\u001b[0m\u001b[0;34m(\u001b[0m\u001b[0;34m\"T -> alm\"\u001b[0m\u001b[0;34m)\u001b[0m\u001b[0;34m\u001b[0m\u001b[0;34m\u001b[0m\u001b[0m\n\u001b[1;32m    247\u001b[0m                 \u001b[0mprint\u001b[0m\u001b[0;34m(\u001b[0m\u001b[0mm\u001b[0m\u001b[0;34m.\u001b[0m\u001b[0mdtype\u001b[0m\u001b[0;34m,\u001b[0m \u001b[0malm\u001b[0m\u001b[0;34m.\u001b[0m\u001b[0mdtype\u001b[0m\u001b[0;34m)\u001b[0m\u001b[0;34m\u001b[0m\u001b[0;34m\u001b[0m\u001b[0m\n\u001b[0;32m--> 248\u001b[0;31m                 \u001b[0msht\u001b[0m\u001b[0;34m.\u001b[0m\u001b[0mmap2alm\u001b[0m\u001b[0;34m(\u001b[0m\u001b[0mm\u001b[0m\u001b[0;34m[\u001b[0m\u001b[0;36m0\u001b[0m\u001b[0;34m]\u001b[0m\u001b[0;34m,\u001b[0m \u001b[0malm\u001b[0m\u001b[0;34m[\u001b[0m\u001b[0;36m0\u001b[0m\u001b[0;34m]\u001b[0m\u001b[0;34m)\u001b[0m\u001b[0;34m\u001b[0m\u001b[0;34m\u001b[0m\u001b[0m\n\u001b[0m\u001b[1;32m    249\u001b[0m                 \u001b[0;32mif\u001b[0m \u001b[0mncomp\u001b[0m \u001b[0;34m==\u001b[0m \u001b[0;36m3\u001b[0m\u001b[0;34m:\u001b[0m\u001b[0;34m\u001b[0m\u001b[0;34m\u001b[0m\u001b[0m\n\u001b[1;32m    250\u001b[0m                         \u001b[0mprint\u001b[0m\u001b[0;34m(\u001b[0m\u001b[0;34m\"P -> alm\"\u001b[0m\u001b[0;34m)\u001b[0m\u001b[0;34m\u001b[0m\u001b[0;34m\u001b[0m\u001b[0m\n",
      "\u001b[0;31mKeyboardInterrupt\u001b[0m: "
     ]
    }
   ],
   "source": [
    "from astropy.io import fits\n",
    "import healpy as hp\n",
    "import matplotlib.pyplot as plt\n",
    "import time\n",
    "import sys\n",
    "from pixell import enmap, enplot, reproject, utils, curvedsky, wcsutils\n",
    "from matplotlib import cm\n",
    "from scipy.optimize import curve_fit\n",
    "from scipy.linalg import sqrtm\n",
    "from tqdm import tqdm\n",
    "from mpl_toolkits.axes_grid1.anchored_artists import AnchoredSizeBar\n",
    "import numpy as np\n",
    "import pandas as pd\n",
    "\n",
    "maps =  ['project4_EP/sourceNotebooks/data/HFI_SkyMap_857-field-Int_2048_R3.00_full.fits']\n",
    "\n",
    "for x in range(len(maps)):\n",
    "    beam = 10\n",
    "    filepath = maps[x]\n",
    "\n",
    "    pl = hp.read_map(filepath)\n",
    "    pl[pl<-1e23]=0\n",
    "    shape,wcs = enmap.fullsky_geometry(res=int(beam)*utils.arcmin,proj='car')\n",
    "    map_pix = reproject.enmap_from_healpix(pl,shape=shape,wcs=wcs)\n",
    "\n",
    "    awd_not_psz = pd.read_csv('project4_EP/sourceNotebooks/data/new/awd_not_psz.csv', skiprows = 0)\n",
    "\n",
    "    stacks = []\n",
    "    lens = []\n",
    "    riches = []\n",
    "    reds = []\n",
    "\n",
    "    stack_CMB_kSZ           = 0\n",
    "    stack_CMB_kSZ_deproject = 0\n",
    "    c = 0\n",
    "\n",
    "    ras = awd_not_psz['amf_ra']\n",
    "    decs = awd_not_psz['amf_dec']\n",
    "    N = len(ras)\n",
    "    lens.append(N)\n",
    "\n",
    "    for i in tqdm(range(N)):\n",
    "        dust = reproject.thumbnails(map_pix,coords = np.deg2rad([decs[i], ras[i]]),r=30*utils.arcmin)\n",
    "        stamp = reproject.thumbnails(map_pix,coords = np.deg2rad([decs[i], ras[i]]),r=beam*utils.arcmin)\n",
    "        if stamp is None:\n",
    "            continue\n",
    "        elif stamp[0][0][0]==0.0:\n",
    "            continue\n",
    "        elif dust is None:\n",
    "            continue\n",
    "        elif dust[0][0][0]==0.0:\n",
    "            continue\n",
    "        else:\n",
    "            dust_sum = sum(sum(dust[0]))\n",
    "            num_pix_dust = len(dust[0][0])*len(dust[0][0])            \n",
    "            stack_CMB_kSZ += (np.array(stamp)-(dust_sum/num_pix_dust))\n",
    "            c+=1\n",
    "\n",
    "    # Normalize the stamps\n",
    "    stack_CMB_kSZ /= c\n",
    "    stack_CMB_kSZ_deproject /= c\n",
    "    stacks.append(stack_CMB_kSZ[0])\n",
    "\n",
    "    np.save('857_10_.npy',stacks)\n",
    "    np.savetxt('lens.txt',lens)\n"
   ]
  },
  {
   "cell_type": "code",
   "execution_count": 1,
   "metadata": {},
   "outputs": [
    {
     "name": "stdout",
     "output_type": "stream",
     "text": [
      "NSIDE = 64\n",
      "ORDERING = RING in fits file\n",
      "INDXSCHM = IMPLICIT\n",
      "NSIDE = 64\n",
      "ORDERING = RING in fits file\n",
      "INDXSCHM = IMPLICIT\n"
     ]
    },
    {
     "name": "stderr",
     "output_type": "stream",
     "text": [
      "/home/maamari/Documents/Other/Anaconda/lib/python3.7/site-packages/healpy/fitsfunc.py:352: UserWarning: If you are not specifying the input dtype and using the default np.float64 dtype of read_map(), please consider that it will change in a future version to None as to keep the same dtype of the input file: please explicitly set the dtype if it is important to you.\n",
      "  \"If you are not specifying the input dtype and using the default \"\n"
     ]
    }
   ],
   "source": [
    "from astropy.io import fits\n",
    "import healpy as hp\n",
    "import matplotlib.pyplot as plt\n",
    "import time\n",
    "import sys\n",
    "from pixell import enmap, enplot, reproject, utils, curvedsky, wcsutils\n",
    "from matplotlib import cm\n",
    "from scipy.optimize import curve_fit\n",
    "from scipy.linalg import sqrtm\n",
    "from tqdm import tqdm\n",
    "from mpl_toolkits.axes_grid1.anchored_artists import AnchoredSizeBar\n",
    "import numpy as np\n",
    "import pandas as pd\n",
    "\n",
    "desi = hp.read_map('project4_EP/overlaps/masks/DESI.fits')\n",
    "act = hp.read_map('project4_EP/overlaps/masks/AdvACT.fits')"
   ]
  },
  {
   "cell_type": "code",
   "execution_count": 2,
   "metadata": {},
   "outputs": [],
   "source": [
    "from matplotlib.colors import ListedColormap\n",
    "cmap = ListedColormap([\"whitesmoke\", \"yellow\", \"steelblue\", \"mediumseagreen\"], \"overlap\")"
   ]
  },
  {
   "cell_type": "code",
   "execution_count": 17,
   "metadata": {},
   "outputs": [
    {
     "name": "stderr",
     "output_type": "stream",
     "text": [
      "/home/maamari/Documents/Other/Anaconda/lib/python3.7/site-packages/ipykernel_launcher.py:4: RuntimeWarning: invalid value encountered in sqrt\n",
      "  after removing the cwd from sys.path.\n",
      "/home/maamari/Documents/Other/Anaconda/lib/python3.7/site-packages/ipykernel_launcher.py:4: RuntimeWarning: divide by zero encountered in true_divide\n",
      "  after removing the cwd from sys.path.\n"
     ]
    }
   ],
   "source": [
    "import numpy as np\n",
    "import fitsio\n",
    "pixweight = fitsio.read('pixweight-1-dark.fits')\n",
    "depth = -2.5*(np.log10((5/np.sqrt(pixweight['GALDEPTH_R'])))-9)"
   ]
  },
  {
   "cell_type": "code",
   "execution_count": 48,
   "metadata": {},
   "outputs": [
    {
     "ename": "ValueError",
     "evalue": "Wrong pixel number (it is not 12*nside**2)",
     "output_type": "error",
     "traceback": [
      "\u001b[0;31m---------------------------------------------------------------------------\u001b[0m",
      "\u001b[0;31mValueError\u001b[0m                                Traceback (most recent call last)",
      "\u001b[0;32m<ipython-input-48-f0915724ab57>\u001b[0m in \u001b[0;36m<module>\u001b[0;34m\u001b[0m\n\u001b[1;32m      1\u001b[0m \u001b[0mmap_test\u001b[0m \u001b[0;34m=\u001b[0m \u001b[0mhp\u001b[0m\u001b[0;34m.\u001b[0m\u001b[0mpix2ang\u001b[0m\u001b[0;34m(\u001b[0m\u001b[0mnside\u001b[0m\u001b[0;34m=\u001b[0m\u001b[0;36m256\u001b[0m\u001b[0;34m,\u001b[0m\u001b[0mipix\u001b[0m\u001b[0;34m=\u001b[0m\u001b[0mpixweight\u001b[0m\u001b[0;34m[\u001b[0m\u001b[0;34m'HPXPIXEL'\u001b[0m\u001b[0;34m]\u001b[0m\u001b[0;34m)\u001b[0m\u001b[0;34m\u001b[0m\u001b[0;34m\u001b[0m\u001b[0m\n\u001b[0;32m----> 2\u001b[0;31m \u001b[0mhp\u001b[0m\u001b[0;34m.\u001b[0m\u001b[0mmollview\u001b[0m\u001b[0;34m(\u001b[0m\u001b[0mmap_test\u001b[0m\u001b[0;34m)\u001b[0m\u001b[0;34m\u001b[0m\u001b[0;34m\u001b[0m\u001b[0m\n\u001b[0m",
      "\u001b[0;32m~/Documents/Other/Anaconda/lib/python3.7/site-packages/healpy/visufunc.py\u001b[0m in \u001b[0;36mmollview\u001b[0;34m(map, fig, rot, coord, unit, xsize, title, nest, min, max, flip, remove_dip, remove_mono, gal_cut, format, format2, cbar, cmap, badcolor, bgcolor, notext, norm, hold, margins, sub, nlocs, return_projected_map)\u001b[0m\n\u001b[1;32m    247\u001b[0m             \u001b[0mbadcolor\u001b[0m\u001b[0;34m=\u001b[0m\u001b[0mbadcolor\u001b[0m\u001b[0;34m,\u001b[0m\u001b[0;34m\u001b[0m\u001b[0;34m\u001b[0m\u001b[0m\n\u001b[1;32m    248\u001b[0m             \u001b[0mbgcolor\u001b[0m\u001b[0;34m=\u001b[0m\u001b[0mbgcolor\u001b[0m\u001b[0;34m,\u001b[0m\u001b[0;34m\u001b[0m\u001b[0;34m\u001b[0m\u001b[0m\n\u001b[0;32m--> 249\u001b[0;31m             \u001b[0mnorm\u001b[0m\u001b[0;34m=\u001b[0m\u001b[0mnorm\u001b[0m\u001b[0;34m,\u001b[0m\u001b[0;34m\u001b[0m\u001b[0;34m\u001b[0m\u001b[0m\n\u001b[0m\u001b[1;32m    250\u001b[0m         )\n\u001b[1;32m    251\u001b[0m         \u001b[0;32mif\u001b[0m \u001b[0mcbar\u001b[0m\u001b[0;34m:\u001b[0m\u001b[0;34m\u001b[0m\u001b[0;34m\u001b[0m\u001b[0m\n",
      "\u001b[0;32m~/Documents/Other/Anaconda/lib/python3.7/site-packages/healpy/projaxes.py\u001b[0m in \u001b[0;36mprojmap\u001b[0;34m(self, map, nest, **kwds)\u001b[0m\n\u001b[1;32m    730\u001b[0m \u001b[0;32mclass\u001b[0m \u001b[0mHpxMollweideAxes\u001b[0m\u001b[0;34m(\u001b[0m\u001b[0mMollweideAxes\u001b[0m\u001b[0;34m)\u001b[0m\u001b[0;34m:\u001b[0m\u001b[0;34m\u001b[0m\u001b[0;34m\u001b[0m\u001b[0m\n\u001b[1;32m    731\u001b[0m     \u001b[0;32mdef\u001b[0m \u001b[0mprojmap\u001b[0m\u001b[0;34m(\u001b[0m\u001b[0mself\u001b[0m\u001b[0;34m,\u001b[0m \u001b[0mmap\u001b[0m\u001b[0;34m,\u001b[0m \u001b[0mnest\u001b[0m\u001b[0;34m=\u001b[0m\u001b[0;32mFalse\u001b[0m\u001b[0;34m,\u001b[0m \u001b[0;34m**\u001b[0m\u001b[0mkwds\u001b[0m\u001b[0;34m)\u001b[0m\u001b[0;34m:\u001b[0m\u001b[0;34m\u001b[0m\u001b[0;34m\u001b[0m\u001b[0m\n\u001b[0;32m--> 732\u001b[0;31m         \u001b[0mnside\u001b[0m \u001b[0;34m=\u001b[0m \u001b[0mpixelfunc\u001b[0m\u001b[0;34m.\u001b[0m\u001b[0mnpix2nside\u001b[0m\u001b[0;34m(\u001b[0m\u001b[0mpixelfunc\u001b[0m\u001b[0;34m.\u001b[0m\u001b[0mget_map_size\u001b[0m\u001b[0;34m(\u001b[0m\u001b[0mmap\u001b[0m\u001b[0;34m)\u001b[0m\u001b[0;34m)\u001b[0m\u001b[0;34m\u001b[0m\u001b[0;34m\u001b[0m\u001b[0m\n\u001b[0m\u001b[1;32m    733\u001b[0m         \u001b[0mf\u001b[0m \u001b[0;34m=\u001b[0m \u001b[0;32mlambda\u001b[0m \u001b[0mx\u001b[0m\u001b[0;34m,\u001b[0m \u001b[0my\u001b[0m\u001b[0;34m,\u001b[0m \u001b[0mz\u001b[0m\u001b[0;34m:\u001b[0m \u001b[0mpixelfunc\u001b[0m\u001b[0;34m.\u001b[0m\u001b[0mvec2pix\u001b[0m\u001b[0;34m(\u001b[0m\u001b[0mnside\u001b[0m\u001b[0;34m,\u001b[0m \u001b[0mx\u001b[0m\u001b[0;34m,\u001b[0m \u001b[0my\u001b[0m\u001b[0;34m,\u001b[0m \u001b[0mz\u001b[0m\u001b[0;34m,\u001b[0m \u001b[0mnest\u001b[0m\u001b[0;34m=\u001b[0m\u001b[0mnest\u001b[0m\u001b[0;34m)\u001b[0m\u001b[0;34m\u001b[0m\u001b[0;34m\u001b[0m\u001b[0m\n\u001b[1;32m    734\u001b[0m         \u001b[0;32mreturn\u001b[0m \u001b[0msuper\u001b[0m\u001b[0;34m(\u001b[0m\u001b[0mHpxMollweideAxes\u001b[0m\u001b[0;34m,\u001b[0m \u001b[0mself\u001b[0m\u001b[0;34m)\u001b[0m\u001b[0;34m.\u001b[0m\u001b[0mprojmap\u001b[0m\u001b[0;34m(\u001b[0m\u001b[0mmap\u001b[0m\u001b[0;34m,\u001b[0m \u001b[0mf\u001b[0m\u001b[0;34m,\u001b[0m \u001b[0;34m**\u001b[0m\u001b[0mkwds\u001b[0m\u001b[0;34m)\u001b[0m\u001b[0;34m\u001b[0m\u001b[0;34m\u001b[0m\u001b[0m\n",
      "\u001b[0;32m~/Documents/Other/Anaconda/lib/python3.7/site-packages/healpy/pixelfunc.py\u001b[0m in \u001b[0;36mget_map_size\u001b[0;34m(m)\u001b[0m\n\u001b[1;32m   1751\u001b[0m             \u001b[0;32mreturn\u001b[0m \u001b[0mlen\u001b[0m\u001b[0;34m(\u001b[0m\u001b[0mm\u001b[0m\u001b[0;34m)\u001b[0m\u001b[0;34m\u001b[0m\u001b[0;34m\u001b[0m\u001b[0m\n\u001b[1;32m   1752\u001b[0m         \u001b[0;32melse\u001b[0m\u001b[0;34m:\u001b[0m\u001b[0;34m\u001b[0m\u001b[0;34m\u001b[0m\u001b[0m\n\u001b[0;32m-> 1753\u001b[0;31m             \u001b[0;32mraise\u001b[0m \u001b[0mValueError\u001b[0m\u001b[0;34m(\u001b[0m\u001b[0;34m\"Wrong pixel number (it is not 12*nside**2)\"\u001b[0m\u001b[0;34m)\u001b[0m\u001b[0;34m\u001b[0m\u001b[0;34m\u001b[0m\u001b[0m\n\u001b[0m\u001b[1;32m   1754\u001b[0m \u001b[0;34m\u001b[0m\u001b[0m\n\u001b[1;32m   1755\u001b[0m \u001b[0;34m\u001b[0m\u001b[0m\n",
      "\u001b[0;31mValueError\u001b[0m: Wrong pixel number (it is not 12*nside**2)"
     ]
    },
    {
     "data": {
      "image/png": "[encoded data removed]",
      "text/plain": [
       "<Figure size 612x388.8 with 1 Axes>"
      ]
     },
     "metadata": {
      "needs_background": "light"
     },
     "output_type": "display_data"
    }
   ],
   "source": [
    "map_test = hp.pix2ang(nside=256,ipix=pixweight['HPXPIXEL'])\n",
    "hp.mollview(map_test)"
   ]
  },
  {
   "cell_type": "code",
   "execution_count": 35,
   "metadata": {},
   "outputs": [
    {
     "data": {
      "text/plain": [
       "786432"
      ]
     },
     "execution_count": 35,
     "metadata": {},
     "output_type": "execute_result"
    }
   ],
   "source": [
    "len(pixweight['HPXPIXEL'])"
   ]
  },
  {
   "cell_type": "code",
   "execution_count": 43,
   "metadata": {},
   "outputs": [
    {
     "data": {
      "text/plain": [
       "786432"
      ]
     },
     "execution_count": 43,
     "metadata": {},
     "output_type": "execute_result"
    }
   ],
   "source": [
    "12*(256**2)"
   ]
  },
  {
   "cell_type": "code",
   "execution_count": 19,
   "metadata": {},
   "outputs": [
    {
     "data": {
      "text/plain": [
       "786432"
      ]
     },
     "execution_count": 19,
     "metadata": {},
     "output_type": "execute_result"
    }
   ],
   "source": [
    "len(depth)"
   ]
  },
  {
   "cell_type": "code",
   "execution_count": 23,
   "metadata": {},
   "outputs": [
    {
     "data": {
      "text/plain": [
       "49152"
      ]
     },
     "execution_count": 23,
     "metadata": {},
     "output_type": "execute_result"
    }
   ],
   "source": [
    "len(overlap_mask)"
   ]
  },
  {
   "cell_type": "code",
   "execution_count": 3,
   "metadata": {},
   "outputs": [
    {
     "name": "stderr",
     "output_type": "stream",
     "text": [
      "/home/maamari/Documents/Other/Anaconda/lib/python3.7/site-packages/healpy/projaxes.py:209: MatplotlibDeprecationWarning: Passing parameters norm and vmin/vmax simultaneously is deprecated since 3.3 and will become an error two minor releases later. Please pass vmin/vmax directly to the norm when creating it.\n",
      "  **kwds\n"
     ]
    },
    {
     "ename": "NameError",
     "evalue": "name 'Bs' is not defined",
     "output_type": "error",
     "traceback": [
      "\u001b[0;31m---------------------------------------------------------------------\u001b[0m",
      "\u001b[0;31mNameError\u001b[0m                           Traceback (most recent call last)",
      "\u001b[0;32m<ipython-input-3-c814ccaebe46>\u001b[0m in \u001b[0;36m<module>\u001b[0;34m\u001b[0m\n\u001b[1;32m      5\u001b[0m \u001b[0;34m\u001b[0m\u001b[0m\n\u001b[1;32m      6\u001b[0m \u001b[0mhp\u001b[0m\u001b[0;34m.\u001b[0m\u001b[0mmollview\u001b[0m\u001b[0;34m(\u001b[0m\u001b[0mdesi\u001b[0m\u001b[0;34m,\u001b[0m\u001b[0mcoord\u001b[0m\u001b[0;34m=\u001b[0m\u001b[0;34m[\u001b[0m\u001b[0;34m'C'\u001b[0m\u001b[0;34m,\u001b[0m\u001b[0;34m'G'\u001b[0m\u001b[0;34m]\u001b[0m\u001b[0;34m,\u001b[0m \u001b[0mfig\u001b[0m\u001b[0;34m=\u001b[0m\u001b[0;36m2\u001b[0m\u001b[0;34m,\u001b[0m \u001b[0mcmap\u001b[0m\u001b[0;34m=\u001b[0m\u001b[0mcmap\u001b[0m\u001b[0;34m,\u001b[0m \u001b[0mmax\u001b[0m\u001b[0;34m=\u001b[0m\u001b[0;36m3\u001b[0m\u001b[0;34m,\u001b[0m \u001b[0mcbar\u001b[0m\u001b[0;34m=\u001b[0m\u001b[0;32mFalse\u001b[0m\u001b[0;34m,\u001b[0m \u001b[0mnotext\u001b[0m\u001b[0;34m=\u001b[0m\u001b[0;32mTrue\u001b[0m\u001b[0;34m,\u001b[0m \u001b[0mtitle\u001b[0m\u001b[0;34m=\u001b[0m\u001b[0;32mNone\u001b[0m\u001b[0;34m)\u001b[0m\u001b[0;34m\u001b[0m\u001b[0;34m\u001b[0m\u001b[0m\n\u001b[0;32m----> 7\u001b[0;31m \u001b[0mhp\u001b[0m\u001b[0;34m.\u001b[0m\u001b[0mprojscatter\u001b[0m\u001b[0;34m(\u001b[0m\u001b[0mBs\u001b[0m\u001b[0;34m.\u001b[0m\u001b[0mx\u001b[0m\u001b[0;34m,\u001b[0m\u001b[0;34m)\u001b[0m\u001b[0;34m\u001b[0m\u001b[0;34m\u001b[0m\u001b[0m\n\u001b[0m\u001b[1;32m      8\u001b[0m \u001b[0mhp\u001b[0m\u001b[0;34m.\u001b[0m\u001b[0mgraticule\u001b[0m\u001b[0;34m(\u001b[0m\u001b[0malpha\u001b[0m\u001b[0;34m=\u001b[0m\u001b[0;36m0.5\u001b[0m\u001b[0;34m)\u001b[0m\u001b[0;34m\u001b[0m\u001b[0;34m\u001b[0m\u001b[0m\n\u001b[1;32m      9\u001b[0m \u001b[0;31m# plt.grid()\u001b[0m\u001b[0;34m\u001b[0m\u001b[0;34m\u001b[0m\u001b[0;34m\u001b[0m\u001b[0m\n",
      "\u001b[0;31mNameError\u001b[0m: name 'Bs' is not defined"
     ]
    },
    {
     "data": {
      "image/png": "[encoded data removed]",
      "text/plain": [
       "<Figure size 612x388.8 with 1 Axes>"
      ]
     },
     "metadata": {
      "needs_background": "light"
     },
     "output_type": "display_data"
    }
   ],
   "source": [
    "overlap_mask = desi + 2*act\n",
    "\n",
    "# overlap_fsky = get_fsky(overlap_only_mask)\n",
    "# st.text(f\"Overlap f_sky = {overlap_fsky:.2f}\")\n",
    "\n",
    "hp.mollview(desi,coord=['C','G'], fig=2, cmap=cmap, max=3, cbar=False, notext=True, title=None)\n",
    "hp.projscatter(Bs.x,)\n",
    "hp.graticule(alpha=0.5)       \n",
    "# plt.grid()\n",
    "# hp.projtext(-0.9,-0.5,'DESI',size=20)\n",
    "# hp.projtext(8.9,-10.,'Intersection',size=20)\n",
    "# hp.projtext(9.1,12,'advACT',size=20)\n",
    "plt.savefig('coverage.png',dpi=1080)"
   ]
  },
  {
   "cell_type": "code",
   "execution_count": null,
   "metadata": {},
   "outputs": [],
   "source": []
  },
  {
   "cell_type": "code",
   "execution_count": 4,
   "metadata": {},
   "outputs": [
    {
     "name": "stderr",
     "output_type": "stream",
     "text": [
      "/home/maamari/Documents/Other/Anaconda/lib/python3.7/site-packages/healpy/fitsfunc.py:352: UserWarning: If you are not specifying the input dtype and using the default np.float64 dtype of read_map(), please consider that it will change in a future version to None as to keep the same dtype of the input file: please explicitly set the dtype if it is important to you.\n",
      "  \"If you are not specifying the input dtype and using the default \"\n",
      "/home/maamari/Documents/Other/Anaconda/lib/python3.7/site-packages/healpy/fitsfunc.py:403: UserWarning: No INDXSCHM keyword in header file : assume IMPLICIT\n",
      "  warnings.warn(\"No INDXSCHM keyword in header file : \" \"assume {}\".format(schm))\n"
     ]
    },
    {
     "name": "stdout",
     "output_type": "stream",
     "text": [
      "NSIDE = 2048\n",
      "ORDERING = NESTED in fits file\n",
      "INDXSCHM = IMPLICIT\n",
      "Ordering converted to RING\n",
      "Preparing SHT\n",
      "T -> alm\n",
      "float64 complex128\n",
      "Computing pixel positions\n",
      "Computing rotated positions\n",
      "Projecting\n"
     ]
    },
    {
     "name": "stderr",
     "output_type": "stream",
     "text": [
      "100%|██████████| 31535/31535 [11:11<00:00, 46.93it/s]\n"
     ]
    },
    {
     "ename": "FileNotFoundError",
     "evalue": "[Errno 2] No such file or directory: 'output/planck_real_857.csv'",
     "output_type": "error",
     "traceback": [
      "\u001b[0;31m---------------------------------------------------------------------------\u001b[0m",
      "\u001b[0;31mFileNotFoundError\u001b[0m                         Traceback (most recent call last)",
      "\u001b[0;32m<ipython-input-4-ba2ff3d3171e>\u001b[0m in \u001b[0;36m<module>\u001b[0;34m\u001b[0m\n\u001b[1;32m    107\u001b[0m \u001b[0;34m\u001b[0m\u001b[0m\n\u001b[1;32m    108\u001b[0m     \u001b[0msignal\u001b[0m\u001b[0;34m,\u001b[0m \u001b[0mras_used\u001b[0m\u001b[0;34m,\u001b[0m \u001b[0mdecs_used\u001b[0m \u001b[0;34m=\u001b[0m \u001b[0mextract_intensity\u001b[0m\u001b[0;34m(\u001b[0m\u001b[0mmap_pix\u001b[0m\u001b[0;34m,\u001b[0m \u001b[0mras_all\u001b[0m\u001b[0;34m,\u001b[0m \u001b[0mdecs_all\u001b[0m\u001b[0;34m,\u001b[0m \u001b[0mbeam\u001b[0m\u001b[0;34m)\u001b[0m\u001b[0;34m\u001b[0m\u001b[0;34m\u001b[0m\u001b[0m\n\u001b[0;32m--> 109\u001b[0;31m     \u001b[0moutput_signal\u001b[0m\u001b[0;34m(\u001b[0m\u001b[0msignal\u001b[0m\u001b[0;34m,\u001b[0m \u001b[0moutputs\u001b[0m\u001b[0;34m,\u001b[0m \u001b[0mras_used\u001b[0m\u001b[0;34m,\u001b[0m \u001b[0mdecs_used\u001b[0m\u001b[0;34m,\u001b[0m \u001b[0mrasdecs\u001b[0m\u001b[0;34m)\u001b[0m\u001b[0;34m\u001b[0m\u001b[0;34m\u001b[0m\u001b[0m\n\u001b[0m",
      "\u001b[0;32m<ipython-input-4-ba2ff3d3171e>\u001b[0m in \u001b[0;36moutput_signal\u001b[0;34m(signal, output_fp, ras_used, decs_used, output_fp_rasdecs)\u001b[0m\n\u001b[1;32m     71\u001b[0m                \u001b[0msignal\u001b[0m\u001b[0;34m,\u001b[0m\u001b[0;34m\u001b[0m\u001b[0;34m\u001b[0m\u001b[0m\n\u001b[1;32m     72\u001b[0m                \u001b[0mdelimiter\u001b[0m\u001b[0;34m=\u001b[0m\u001b[0;34m\", \"\u001b[0m\u001b[0;34m,\u001b[0m\u001b[0;34m\u001b[0m\u001b[0;34m\u001b[0m\u001b[0m\n\u001b[0;32m---> 73\u001b[0;31m                fmt='% s')\n\u001b[0m\u001b[1;32m     74\u001b[0m     np.savetxt(output_fp_rasdecs[0],\n\u001b[1;32m     75\u001b[0m                \u001b[0mras_used\u001b[0m\u001b[0;34m,\u001b[0m\u001b[0;34m\u001b[0m\u001b[0;34m\u001b[0m\u001b[0m\n",
      "\u001b[0;32m<__array_function__ internals>\u001b[0m in \u001b[0;36msavetxt\u001b[0;34m(*args, **kwargs)\u001b[0m\n",
      "\u001b[0;32m~/Documents/Other/Anaconda/lib/python3.7/site-packages/numpy/lib/npyio.py\u001b[0m in \u001b[0;36msavetxt\u001b[0;34m(fname, X, fmt, delimiter, newline, header, footer, comments, encoding)\u001b[0m\n\u001b[1;32m   1366\u001b[0m     \u001b[0;32mif\u001b[0m \u001b[0m_is_string_like\u001b[0m\u001b[0;34m(\u001b[0m\u001b[0mfname\u001b[0m\u001b[0;34m)\u001b[0m\u001b[0;34m:\u001b[0m\u001b[0;34m\u001b[0m\u001b[0;34m\u001b[0m\u001b[0m\n\u001b[1;32m   1367\u001b[0m         \u001b[0;31m# datasource doesn't support creating a new file ...\u001b[0m\u001b[0;34m\u001b[0m\u001b[0;34m\u001b[0m\u001b[0;34m\u001b[0m\u001b[0m\n\u001b[0;32m-> 1368\u001b[0;31m         \u001b[0mopen\u001b[0m\u001b[0;34m(\u001b[0m\u001b[0mfname\u001b[0m\u001b[0;34m,\u001b[0m \u001b[0;34m'wt'\u001b[0m\u001b[0;34m)\u001b[0m\u001b[0;34m.\u001b[0m\u001b[0mclose\u001b[0m\u001b[0;34m(\u001b[0m\u001b[0;34m)\u001b[0m\u001b[0;34m\u001b[0m\u001b[0;34m\u001b[0m\u001b[0m\n\u001b[0m\u001b[1;32m   1369\u001b[0m         \u001b[0mfh\u001b[0m \u001b[0;34m=\u001b[0m \u001b[0mnp\u001b[0m\u001b[0;34m.\u001b[0m\u001b[0mlib\u001b[0m\u001b[0;34m.\u001b[0m\u001b[0m_datasource\u001b[0m\u001b[0;34m.\u001b[0m\u001b[0mopen\u001b[0m\u001b[0;34m(\u001b[0m\u001b[0mfname\u001b[0m\u001b[0;34m,\u001b[0m \u001b[0;34m'wt'\u001b[0m\u001b[0;34m,\u001b[0m \u001b[0mencoding\u001b[0m\u001b[0;34m=\u001b[0m\u001b[0mencoding\u001b[0m\u001b[0;34m)\u001b[0m\u001b[0;34m\u001b[0m\u001b[0;34m\u001b[0m\u001b[0m\n\u001b[1;32m   1370\u001b[0m         \u001b[0mown_fh\u001b[0m \u001b[0;34m=\u001b[0m \u001b[0;32mTrue\u001b[0m\u001b[0;34m\u001b[0m\u001b[0;34m\u001b[0m\u001b[0m\n",
      "\u001b[0;31mFileNotFoundError\u001b[0m: [Errno 2] No such file or directory: 'output/planck_real_857.csv'"
     ]
    }
   ],
   "source": [
    "import pandas as pd\n",
    "import math\n",
    "import numpy as np\n",
    "from astropy.coordinates import SkyCoord\n",
    "from astropy.io import fits\n",
    "import healpy as hp\n",
    "import matplotlib.pyplot as plt\n",
    "import time\n",
    "import sys\n",
    "from pixell import enmap, enplot, reproject, utils, curvedsky, wcsutils\n",
    "from matplotlib import cm\n",
    "from scipy.optimize import curve_fit\n",
    "from scipy.linalg import sqrtm\n",
    "from tqdm import tqdm\n",
    "import random\n",
    "import time\n",
    "import multiprocessing as mp\n",
    "import numpy as np\n",
    "import random\n",
    "import time\n",
    "import multiprocessing as mp\n",
    "import numpy as np\n",
    "\n",
    "\n",
    "def import_map(filepath, beam):\n",
    "    pl = hp.read_map(filepath)\n",
    "    pl[pl<-1e23]=0\n",
    "    try:\n",
    "        shape,wcs = enmap.fullsky_geometry(res=int(beam)*utils.arcmin,proj='car')\n",
    "        map_pix = reproject.enmap_from_healpix(pl,shape=shape,wcs=wcs)\n",
    "    except:\n",
    "        shape,wcs = enmap.fullsky_geometry(res=int(beam+1)*utils.arcmin,proj='car')\n",
    "        map_pix = reproject.enmap_from_healpix(pl,shape=shape,wcs=wcs)\n",
    "    return map_pix\n",
    "\n",
    "\n",
    "def extract_intensity(map_pix, ras, decs, beam):\n",
    "    N = len(ras)\n",
    "    stack_CMB_kSZ           = 0\n",
    "    stack_CMB_kSZ_deproject = 0\n",
    "    c = 0\n",
    "\n",
    "    signal = []\n",
    "    ras_used = []\n",
    "    decs_used = []\n",
    "    for i in tqdm(range(N)):\n",
    "        dust = reproject.thumbnails(map_pix,coords = np.deg2rad([decs[i], ras[i]]),r=30*utils.arcmin)\n",
    "        stamp = reproject.thumbnails(map_pix,coords = np.deg2rad([decs[i], ras[i]]),r=beam*utils.arcmin)\n",
    "        if stamp is None:\n",
    "            signal.append(-9999)\n",
    "        elif stamp[0][0][0]==0.0:\n",
    "            signal.append(-9999)\n",
    "        elif dust is None:\n",
    "            signal.append(-9999)\n",
    "        elif dust[0][0][0]==0.0:\n",
    "            signal.append(-9999)\n",
    "        else:\n",
    "            dust_sum = sum(sum(dust[0]))\n",
    "            num_pix_dust = len(dust[0][0])*len(dust[0][0])\n",
    "            signal_sum = sum(sum(stamp[0]))\n",
    "            num_pix_signal = len(stamp[0][0])*len(stamp[0][0])\n",
    "            signal.append((signal_sum/num_pix_signal)-(dust_sum/num_pix_dust))\n",
    "        ras_used.append(ras[i])\n",
    "        decs_used.append(decs[i])\n",
    "\n",
    "    return signal, ras_used, decs_used\n",
    "\n",
    "\n",
    "def output_signal(signal,output_fp,ras_used,decs_used,output_fp_rasdecs):\n",
    "    np.savetxt(output_fp,\n",
    "               signal,\n",
    "               delimiter=\", \",\n",
    "               fmt='% s')\n",
    "    np.savetxt(output_fp_rasdecs[0],\n",
    "               ras_used,\n",
    "               delimiter=\", \",\n",
    "               fmt='% s')\n",
    "    np.savetxt(output_fp_rasdecs[1],\n",
    "               decs_used,\n",
    "               delimiter=\", \",\n",
    "               fmt='% s')\n",
    "\n",
    "\n",
    "if __name__ == \"__main__\":\n",
    "#     voids = pd.read_csv('project4_EP/sourceNotebooks/data/voids_df.csv',skiprows=0,index_col=0)\n",
    "#     ras_voids = voids['ras'].reset_index(drop=True)\n",
    "#     decs_voids = voids['decs'].reset_index(drop=True)\n",
    "\n",
    "    real = pd.read_csv('project4_EP/sourceNotebooks/src/awd.csv',skiprows=0,index_col=0)\n",
    "    ras_real = real['amf_ra'].reset_index(drop=True)\n",
    "    decs_real = real['amf_dec'].reset_index(drop=True)\n",
    "\n",
    "#     ras_fullsky = pd.read_csv('project4_EP/sourceNotebooks/data/full_sky_ras.csv')\n",
    "#     ras_fsky = pd.concat([ras_fullsky['ras'],real['amf_ra'],voids['ras']]).reset_index(drop=True)\n",
    "#     decs_fullsky = pd.read_csv('project4_EP/sourceNotebooks/data/full_sky_decs.csv')\n",
    "#     decs_fsky = pd.concat([decs_fullsky['decs'],real['amf_dec'],voids['decs']]).reset_index(drop=True)\n",
    "\n",
    "    ras_all = ras_real#, ras_real, ras_fsky]\n",
    "    decs_all = decs_real#, decs_real, decs_fsky]\n",
    "\n",
    "    maps = \"project4_EP/sourceNotebooks/data/HFI_SkyMap_857-field-Int_2048_R3.00_full.fits\"\n",
    "    beam = 4.216\n",
    "    map_pix = import_map(maps, int(beam))\n",
    "#     for i in range(len(ras_all)):\n",
    "    outputs = \"output/planck_real_857.csv\"\n",
    "    rasdecs = [\"output/ras_planck_real.csv\",\"output/decs_planck_real.csv\"]\n",
    "\n",
    "    signal, ras_used, decs_used = extract_intensity(map_pix, ras_all, decs_all, beam)\n",
    "    output_signal(signal, outputs, ras_used, decs_used, rasdecs)"
   ]
  },
  {
   "cell_type": "code",
   "execution_count": null,
   "metadata": {},
   "outputs": [],
   "source": []
  }
 ],
 "metadata": {
  "kernelspec": {
   "display_name": "Python 3",
   "language": "python",
   "name": "python3"
  },
  "language_info": {
   "codemirror_mode": {
    "name": "ipython",
    "version": 3
   },
   "file_extension": ".py",
   "mimetype": "text/x-python",
   "name": "python",
   "nbconvert_exporter": "python",
   "pygments_lexer": "ipython3",
   "version": "3.7.6"
  }
 },
 "nbformat": 4,
 "nbformat_minor": 4
}
