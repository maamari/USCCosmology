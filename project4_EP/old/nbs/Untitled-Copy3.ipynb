{
 "cells": [
  {
   "cell_type": "code",
   "execution_count": 5,
   "metadata": {},
   "outputs": [],
   "source": [
    "from astropy.io import fits\n",
    "import healpy as hp\n",
    "import matplotlib.pyplot as plt\n",
    "import time\n",
    "import sys\n",
    "from pixell import enmap, enplot, reproject, utils, curvedsky, wcsutils\n",
    "from matplotlib import cm\n",
    "from scipy.optimize import curve_fit\n",
    "from scipy.linalg import sqrtm\n",
    "from tqdm.auto import tqdm\n",
    "from mpl_toolkits.axes_grid1.anchored_artists import AnchoredSizeBar\n",
    "import numpy as np\n",
    "import pandas as pd"
   ]
  },
  {
   "cell_type": "code",
   "execution_count": 60,
   "metadata": {},
   "outputs": [
    {
     "name": "stdout",
     "output_type": "stream",
     "text": [
      "NSIDE = 2048\n",
      "ORDERING = NESTED in fits file\n",
      "INDXSCHM = IMPLICIT\n",
      "Ordering converted to RING\n",
      "Preparing SHT\n",
      "T -> alm\n",
      "float64 complex128\n",
      "Computing pixel positions\n",
      "Computing rotated positions\n",
      "Projecting\n"
     ]
    },
    {
     "data": {
      "application/vnd.jupyter.widget-view+json": {
       "model_id": "37f592a76a3c498fb5f29aea8aebd98a",
       "version_major": 2,
       "version_minor": 0
      },
      "text/plain": [
       "  0%|          | 0/3 [00:00<?, ?it/s]"
      ]
     },
     "metadata": {},
     "output_type": "display_data"
    },
    {
     "data": {
      "application/vnd.jupyter.widget-view+json": {
       "model_id": "2aab68ceafcf4ad8b179448702c3b3e3",
       "version_major": 2,
       "version_minor": 0
      },
      "text/plain": [
       "  0%|          | 0/35902 [00:00<?, ?it/s]"
      ]
     },
     "metadata": {},
     "output_type": "display_data"
    },
    {
     "data": {
      "application/vnd.jupyter.widget-view+json": {
       "model_id": "02067746613e426aaed20015cbfb46c8",
       "version_major": 2,
       "version_minor": 0
      },
      "text/plain": [
       "  0%|          | 0/39119 [00:00<?, ?it/s]"
      ]
     },
     "metadata": {},
     "output_type": "display_data"
    },
    {
     "data": {
      "application/vnd.jupyter.widget-view+json": {
       "model_id": "f007413bc92449fba9f2ca0fbd8ac6cb",
       "version_major": 2,
       "version_minor": 0
      },
      "text/plain": [
       "  0%|          | 0/75021 [00:00<?, ?it/s]"
      ]
     },
     "metadata": {},
     "output_type": "display_data"
    },
    {
     "data": {
      "application/vnd.jupyter.widget-view+json": {
       "model_id": "1035a8807a2a4f9989431b520a98940d",
       "version_major": 2,
       "version_minor": 0
      },
      "text/plain": [
       "  0%|          | 0/27954 [00:00<?, ?it/s]"
      ]
     },
     "metadata": {},
     "output_type": "display_data"
    },
    {
     "data": {
      "application/vnd.jupyter.widget-view+json": {
       "model_id": "3869c7fa56c04bca829e6aee6e55b970",
       "version_major": 2,
       "version_minor": 0
      },
      "text/plain": [
       "  0%|          | 0/48255 [00:00<?, ?it/s]"
      ]
     },
     "metadata": {},
     "output_type": "display_data"
    },
    {
     "data": {
      "application/vnd.jupyter.widget-view+json": {
       "model_id": "4927c54e39a74ccaae982677ad7d2806",
       "version_major": 2,
       "version_minor": 0
      },
      "text/plain": [
       "  0%|          | 0/76209 [00:00<?, ?it/s]"
      ]
     },
     "metadata": {},
     "output_type": "display_data"
    },
    {
     "data": {
      "application/vnd.jupyter.widget-view+json": {
       "model_id": "9459205186a14b8fa73ce4fcdac10b36",
       "version_major": 2,
       "version_minor": 0
      },
      "text/plain": [
       "  0%|          | 0/63863 [00:00<?, ?it/s]"
      ]
     },
     "metadata": {},
     "output_type": "display_data"
    },
    {
     "data": {
      "application/vnd.jupyter.widget-view+json": {
       "model_id": "ec92824cd5d9466c9525b5f1aa48c845",
       "version_major": 2,
       "version_minor": 0
      },
      "text/plain": [
       "  0%|          | 0/87381 [00:00<?, ?it/s]"
      ]
     },
     "metadata": {},
     "output_type": "display_data"
    },
    {
     "data": {
      "application/vnd.jupyter.widget-view+json": {
       "model_id": "009be3fb3b824cde822458c83be10503",
       "version_major": 2,
       "version_minor": 0
      },
      "text/plain": [
       "  0%|          | 0/151244 [00:00<?, ?it/s]"
      ]
     },
     "metadata": {},
     "output_type": "display_data"
    }
   ],
   "source": [
    "from astropy.io import fits\n",
    "import healpy as hp\n",
    "import matplotlib.pyplot as plt\n",
    "import time\n",
    "import sys\n",
    "from pixell import enmap, enplot, reproject, utils, curvedsky, wcsutils\n",
    "from matplotlib import cm\n",
    "from scipy.optimize import curve_fit\n",
    "from scipy.linalg import sqrtm\n",
    "from tqdm.auto import tqdm\n",
    "from mpl_toolkits.axes_grid1.anchored_artists import AnchoredSizeBar\n",
    "import numpy as np\n",
    "import pandas as pd\n",
    "\n",
    "maps =  [\"project4_EP/sourceNotebooks/data/HFI_SkyMap_857-field-Int_2048_R3.00_full.fits\"]\n",
    "\n",
    "for x in range(len(maps)):\n",
    "    beam = 10\n",
    "    filepath = maps[x]\n",
    "\n",
    "    pl = hp.read_map(filepath)\n",
    "    pl[pl<-1e23]=0\n",
    "    shape,wcs = enmap.fullsky_geometry(res=int(beam)*utils.arcmin,proj='car')\n",
    "    map_pix = reproject.enmap_from_healpix(pl,shape=shape,wcs=wcs)\n",
    "\n",
    "    awd_not_psz = pd.read_csv('project4_EP/sourceNotebooks/src/wh22.csv', skiprows = 0)\n",
    "    \n",
    "    zs = [0, 0.72, 100]\n",
    "    masses = [0, 1, 100000]\n",
    "\n",
    "    stacks4 = []\n",
    "    lens = []\n",
    "    riches = []\n",
    "    reds = []\n",
    "\n",
    "    for j in tqdm(range(len(zs))):\n",
    "        for k in range(len(masses)):\n",
    "#             if k==1 or k==2:\n",
    "#                 continue\n",
    "            stack_CMB_kSZ           = 0\n",
    "            stack_CMB_kSZ_deproject = 0\n",
    "            c = 0\n",
    "            riches.append(masses[k])\n",
    "            reds.append(zs[j])\n",
    "            if j == len(zs)-1:\n",
    "                if k == len(masses)-1:\n",
    "                    ras = awd_not_psz[(awd_not_psz.z<zs[j]) & (awd_not_psz.z>0) & (awd_not_psz.m<masses[k]) & (awd_not_psz.m>=0)]['ra'].reset_index(drop=True)\n",
    "                    decs = awd_not_psz[(awd_not_psz.z<zs[j]) & (awd_not_psz.z>0) & (awd_not_psz.m<masses[k]) & (awd_not_psz.m>=0)]['dec'].reset_index(drop=True)\n",
    "                else:\n",
    "                    ras = awd_not_psz[(awd_not_psz.z<zs[j]) & (awd_not_psz.z>0) & (awd_not_psz.m<masses[k+1]) & (awd_not_psz.m>=masses[k])]['ra'].reset_index(drop=True)\n",
    "                    decs = awd_not_psz[(awd_not_psz.z<zs[j]) & (awd_not_psz.z>0) & (awd_not_psz.m<masses[k+1]) & (awd_not_psz.m>=masses[k])]['dec'].reset_index(drop=True)\n",
    "            elif k == len(masses)-1:\n",
    "                ras = awd_not_psz[(awd_not_psz.z<zs[j+1]) & (awd_not_psz.z>zs[j]) & (awd_not_psz.m<masses[k]) & (awd_not_psz.m>=0)]['ra'].reset_index(drop=True)\n",
    "                decs = awd_not_psz[(awd_not_psz.z<zs[j+1]) & (awd_not_psz.z>zs[j]) & (awd_not_psz.m<masses[k]) & (awd_not_psz.m>=0)]['dec'].reset_index(drop=True)\n",
    "            else:\n",
    "                ras = awd_not_psz[(awd_not_psz.z<zs[j+1]) & (awd_not_psz.z>zs[j]) & (awd_not_psz.m<masses[k+1]) & (awd_not_psz.m>=masses[k])]['ra'].reset_index(drop=True)\n",
    "                decs = awd_not_psz[(awd_not_psz.z<zs[j+1]) & (awd_not_psz.z>zs[j]) & (awd_not_psz.m<masses[k+1]) & (awd_not_psz.m>=masses[k])]['dec'].reset_index(drop=True)\n",
    "\n",
    "            N = len(ras)\n",
    "            lens.append(N)\n",
    "\n",
    "            for i in tqdm(range(N)):\n",
    "#                 dust = reproject.thumbnails(map_pix,coords = np.deg2rad([decs[i], ras[i]]),r=30*utils.arcmin)\n",
    "                stamp = reproject.thumbnails(map_pix,coords = np.deg2rad([decs[i], ras[i]]),r=beam*utils.arcmin)\n",
    "                if stamp is None:\n",
    "                    continue\n",
    "                elif stamp[0][0][0]==0.0:\n",
    "                    continue\n",
    "#                 elif dust is None:\n",
    "#                     continue\n",
    "#                 elif dust[0][0][0]==0.0:\n",
    "#                     continue\n",
    "                else:\n",
    "#                     dust_sum = sum(sum(dust[0]))\n",
    "#                     num_pix_dust = len(dust[0][0])*len(dust[0][0])            \n",
    "                    stack_CMB_kSZ += (np.array(stamp))#-(dust_sum/num_pix_dust))\n",
    "                    c+=1\n",
    "\n",
    "            # Normalize the stamps\n",
    "            stack_CMB_kSZ /= c\n",
    "            stack_CMB_kSZ_deproject /= c\n",
    "\n",
    "            stacks4.append(stack_CMB_kSZ[0])\n",
    "    np.save('857_fix3.npy'.format(x),stacks4)\n",
    "    np.savetxt('lens3.txt',lens)"
   ]
  },
  {
   "cell_type": "code",
   "execution_count": 46,
   "metadata": {},
   "outputs": [],
   "source": [
    "k=0"
   ]
  },
  {
   "cell_type": "code",
   "execution_count": 47,
   "metadata": {},
   "outputs": [
    {
     "data": {
      "text/plain": [
       "63863"
      ]
     },
     "execution_count": 47,
     "metadata": {},
     "output_type": "execute_result"
    }
   ],
   "source": [
    "len(awd_not_psz[(awd_not_psz.z<zs[j]) & (awd_not_psz.z>0) & (awd_not_psz.m<masses[k+1]) & (awd_not_psz.m>=masses[k])]['ra'].reset_index(drop=True))"
   ]
  },
  {
   "cell_type": "code",
   "execution_count": 61,
   "metadata": {},
   "outputs": [],
   "source": [
    "stacks=stacks4"
   ]
  },
  {
   "cell_type": "code",
   "execution_count": 44,
   "metadata": {},
   "outputs": [],
   "source": [
    "stacks = np.load('_stacks_act_857_0.npy')\n",
    "stacks[1] = stacks2[0]\n",
    "stacks[4] = stacks2[1]\n",
    "stacks[7] = stacks2[2]\n",
    "\n",
    "lens2 = np.loadtxt('lens.txt')\n",
    "lens = [28396, int(lens2[0]), 75021, 22154, int(lens2[1]), 76209, 50556, int(lens2[2]), 151244]"
   ]
  },
  {
   "cell_type": "code",
   "execution_count": 6,
   "metadata": {},
   "outputs": [],
   "source": [
    "# stacks = np.load('_stacks_act_857_0.npy')\n",
    "# stacks2 = np.load('857_fix.npy')\n",
    "# stacks3 = np.load('857_fix2.npy')\n",
    "stacks = np.load('857_fix3.npy')\n",
    "# stacks[0] = stacks3[0]\n",
    "# stacks[1] = stacks2[0]\n",
    "# stacks[3] = stacks3[1]\n",
    "# stacks[4] = stacks2[1]\n",
    "# stacks[6] = stacks3[2]\n",
    "# stacks[7] = stacks2[2]\n",
    "\n",
    "lens = [35902,38207,75021,27954,47132,76209,63863,85346,151244]"
   ]
  },
  {
   "cell_type": "code",
   "execution_count": 7,
   "metadata": {},
   "outputs": [
    {
     "ename": "NameError",
     "evalue": "name 'x' is not defined",
     "output_type": "error",
     "traceback": [
      "\u001b[0;31m---------------------------------------------------------------------------\u001b[0m",
      "\u001b[0;31mNameError\u001b[0m                                 Traceback (most recent call last)",
      "\u001b[0;32m<ipython-input-7-81079257406d>\u001b[0m in \u001b[0;36m<module>\u001b[0;34m\u001b[0m\n\u001b[1;32m     65\u001b[0m \u001b[0mcbar\u001b[0m\u001b[0;34m.\u001b[0m\u001b[0max\u001b[0m\u001b[0;34m.\u001b[0m\u001b[0mtick_params\u001b[0m\u001b[0;34m(\u001b[0m\u001b[0mlabelsize\u001b[0m\u001b[0;34m=\u001b[0m\u001b[0;36m15\u001b[0m\u001b[0;34m)\u001b[0m\u001b[0;34m\u001b[0m\u001b[0;34m\u001b[0m\u001b[0m\n\u001b[1;32m     66\u001b[0m \u001b[0;34m\u001b[0m\u001b[0m\n\u001b[0;32m---> 67\u001b[0;31m \u001b[0mplt\u001b[0m\u001b[0;34m.\u001b[0m\u001b[0msavefig\u001b[0m\u001b[0;34m(\u001b[0m\u001b[0;34m\"857.png\"\u001b[0m\u001b[0;34m.\u001b[0m\u001b[0mformat\u001b[0m\u001b[0;34m(\u001b[0m\u001b[0mx\u001b[0m\u001b[0;34m)\u001b[0m\u001b[0;34m)\u001b[0m\u001b[0;34m\u001b[0m\u001b[0;34m\u001b[0m\u001b[0m\n\u001b[0m",
      "\u001b[0;31mNameError\u001b[0m: name 'x' is not defined"
     ]
    },
    {
     "data": {
      "image/png": "[encoded data removed]",
      "text/plain": [
       "<Figure size 1080x1080 with 10 Axes>"
      ]
     },
     "metadata": {
      "needs_background": "light"
     },
     "output_type": "display_data"
    }
   ],
   "source": [
    "import matplotlib as mpl\n",
    "from matplotlib.ticker import FuncFormatter\n",
    "mpl.rcParams['mathtext.fontset'] = 'stix'\n",
    "mpl.rcParams['font.family'] = 'STIXGeneral'\n",
    "\n",
    "f, ax = plt.subplots(nrows=3, ncols=3,figsize=(15,15))\n",
    "i = 0\n",
    "\n",
    "def fmt(x, pos):\n",
    "    a, b = '{:.2e}'.format(x).split('e')\n",
    "    b = int(b)\n",
    "    return r'${} \\times 10^{{{}}}$'.format(a, b)\n",
    "\n",
    "for j,row in enumerate(ax):\n",
    "    for k, col in enumerate(row):\n",
    "        f1 = col.imshow(stacks[i])\n",
    "        col.get_xaxis().set_visible(False)\n",
    "        col.get_yaxis().set_visible(False)\n",
    "#         plt.colorbar(mappable = f1, ax = col,orientation='horizontal',fraction=0.047, pad=0.02)\n",
    "#         cbar = plt.colorbar(mappable = f1, ax = col,orientation='horizontal',fraction=0.047, pad=0.02)\n",
    "#         cbar.ax.tick_params(rotation=25)\n",
    "\n",
    "        scalebar = AnchoredSizeBar(ax[0][0].transData,\n",
    "                                   2.5, '', 'center left', \n",
    "                                   pad=0.,\n",
    "                                   sep=-7,\n",
    "                                   color='white',\n",
    "                                   frameon=False,\n",
    "                                   size_vertical=0.02)\n",
    "        ax[0][0].add_artist(scalebar)\n",
    "        ax[0][0].text(0.1, 0.4, 'R = 10$\\,$\\''.format(10), c='white', fontsize=18, transform=ax[0][0].transAxes)\n",
    "\n",
    "        col.text(2.4,4.12,\"N = {}\".format(lens[i]),fontsize=18,color='white',weight=600)\n",
    "#         if j==0 and k==0:\n",
    "#             col.text(-15,20,\"z<0.72\",size=15)\n",
    "#         if j==1 and k==0:\n",
    "#             col.text(-15,20,\"z>0.72\",size=15)\n",
    "#         if j==2 and k==0:\n",
    "#             col.text(-15,20,\"all z\",size=15)\n",
    "#         if k==0 and j==0:\n",
    "#             col.text(15,-5,\"M<1$M_{\\astrosun}$\",size=15)\n",
    "#         if k==1 and j==0:\n",
    "#             col.text(15,-5,\"M>1$M_{\\astrosun}$\",size=15)\n",
    "#         if k==2 and j==0:\n",
    "#             col.text(15,-5,\"all M\",size=15)\n",
    "        if j==0 and k==0:\n",
    "            col.text(-.4,.5,\"z < 0.72\",size=15,transform=col.transAxes)\n",
    "        if j==1 and k==0:\n",
    "            col.text(-.4,.5,\"z $\\geq$ 0.72\",size=15,transform=col.transAxes)\n",
    "        if j==2 and k==0:\n",
    "            col.text(-.4,.5,\"All z\",size=15,transform=col.transAxes)\n",
    "        if k==0 and j==0:\n",
    "            col.text(.4,1.2,\"M < 10$^{14}$ M$_{\\odot}$\",size=15,transform=col.transAxes)\n",
    "        if k==1 and j==0:\n",
    "            col.text(.4,1.2,\"M $\\geq$ 10$^{14}$ M$_{\\odot}$\",size=15,transform=col.transAxes)\n",
    "        if k==2 and j==0:\n",
    "            col.text(.4,1.2,\"All M\",size=15,transform=col.transAxes)\n",
    "\n",
    "        i+=1\n",
    "    \n",
    "f.subplots_adjust(right=0.8)\n",
    "plt.subplots_adjust(wspace=0.05, hspace=-0.25)\n",
    "cbar_ax = f.add_axes([0.85, 0.17, 0.03, 0.66])\n",
    "cbar = f.colorbar(f1, cax=cbar_ax, format=FuncFormatter(fmt))\n",
    "cbar.ax.tick_params(labelsize=15) \n",
    "\n",
    "plt.savefig(\"857.png\".format(x))\n"
   ]
  },
  {
   "cell_type": "code",
   "execution_count": 2,
   "metadata": {},
   "outputs": [],
   "source": [
    "def import_map(filepath):\n",
    "    map_pix = enmap.read_map(filepath)\n",
    "    return map_pix\n",
    "\n",
    "def extract_intensity(map_pix, ras, decs, beam):\n",
    "    N = len(ras)\n",
    "    stack_CMB_kSZ           = 0\n",
    "    stack_CMB_kSZ_deproject = 0\n",
    "    c = 0\n",
    "\n",
    "    signal = []\n",
    "    ras_used = []\n",
    "    decs_used = []\n",
    "    for i in tqdm(range(N)):\n",
    "        stamp = reproject.thumbnails(map_pix,coords = np.deg2rad([decs[i], ras[i]]),r=beam*utils.arcmin)\n",
    "        if stamp is None:\n",
    "            signal.append(-9999)\n",
    "        elif stamp[0][0][0]==0.0:\n",
    "            signal.append(-9999)\n",
    "        else:\n",
    "            signal_sum = sum(sum(stamp[0]))\n",
    "            num_pix_signal = len(stamp[0][0])*len(stamp[0][0])\n",
    "            signal.append(signal_sum/num_pix_signal)\n",
    "        ras_used.append(ras[i])\n",
    "        decs_used.append(decs[i])\n",
    "\n",
    "    return signal, ras_used, decs_used\n",
    "\n",
    "\n",
    "def output_signal(signal,output_fp,ras_used,decs_used,output_fp_rasdecs):\n",
    "    np.savetxt(output_fp,\n",
    "               signal,\n",
    "               delimiter=\", \",\n",
    "               fmt='% s')\n",
    "    np.savetxt(output_fp_rasdecs[0],\n",
    "               ras_used,\n",
    "               delimiter=\", \",\n",
    "               fmt='% s')\n",
    "    np.savetxt(output_fp_rasdecs[1],\n",
    "               decs_used,\n",
    "               delimiter=\", \",\n",
    "               fmt='% s')"
   ]
  },
  {
   "cell_type": "code",
   "execution_count": 3,
   "metadata": {},
   "outputs": [
    {
     "name": "stderr",
     "output_type": "stream",
     "text": [
      "100%|██████████| 47231/47231 [11:55<00:00, 65.99it/s]\n"
     ]
    }
   ],
   "source": [
    "if __name__ == \"__main__\":\n",
    "#    voids = pd.read_csv('project4_EP/sourceNotebooks/data/voids_df.csv',skiprows=0,index_col=0)\n",
    "    voids = pd.read_csv('project4_EP/sourceNotebooks/voids_.csv',skiprows=0,index_col=0)\n",
    "    ras_voids = voids['ras'].reset_index(drop=True)\n",
    "    decs_voids = voids['decs'].reset_index(drop=True)\n",
    "\n",
    "    ras_all = ras_voids#, ras_real, ras_fsky]\n",
    "    decs_all = decs_voids#, decs_real, decs_fsky]\n",
    "\n",
    "    beam = 1.4\n",
    "    map_pix = import_map(\"project4_EP/sourceNotebooks/data/act_dr5.01_s08s18_AA_f090_daynight_map.fits\")\n",
    "    outputs = \"090_voids_test.csv\"\n",
    "    rasdecs = [\"ras_090_voids_test.csv\",\"decs_090_voids_test.csv\"]\n",
    "\n",
    "    signal, ras_used, decs_used = extract_intensity(map_pix, ras_all, decs_all, beam)\n",
    "    output_signal(signal, outputs, ras_used, decs_used, rasdecs)"
   ]
  },
  {
   "cell_type": "code",
   "execution_count": 4,
   "metadata": {},
   "outputs": [
    {
     "data": {
      "text/plain": [
       "'/home/maamari/Documents/GitHub/USCCosmology'"
      ]
     },
     "execution_count": 4,
     "metadata": {},
     "output_type": "execute_result"
    }
   ],
   "source": [
    "pwd"
   ]
  },
  {
   "cell_type": "code",
   "execution_count": null,
   "metadata": {},
   "outputs": [],
   "source": []
  }
 ],
 "metadata": {
  "kernelspec": {
   "display_name": "Python 3",
   "language": "python",
   "name": "python3"
  },
  "language_info": {
   "codemirror_mode": {
    "name": "ipython",
    "version": 3
   },
   "file_extension": ".py",
   "mimetype": "text/x-python",
   "name": "python",
   "nbconvert_exporter": "python",
   "pygments_lexer": "ipython3",
   "version": "3.7.6"
  }
 },
 "nbformat": 4,
 "nbformat_minor": 4
}
