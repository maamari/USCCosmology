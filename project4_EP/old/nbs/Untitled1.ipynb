{
 "cells": [
  {
   "cell_type": "code",
   "execution_count": 1,
   "metadata": {},
   "outputs": [],
   "source": [
    "import healpy as hp\n",
    "import matplotlib.pyplot as plt\n",
    "from matplotlib.colors import ListedColormap"
   ]
  },
  {
   "cell_type": "code",
   "execution_count": 2,
   "metadata": {},
   "outputs": [],
   "source": [
    "def load_maps(desi_fp, act_fp):\n",
    "    desi = hp.read_map(desi_fp)\n",
    "    act = hp.read_map(act_fp)\n",
    "    return desi + 2*act"
   ]
  },
  {
   "cell_type": "code",
   "execution_count": 3,
   "metadata": {},
   "outputs": [],
   "source": [
    "def plotter(maps):\n",
    "    cmap = ListedColormap([\"whitesmoke\", \"yellow\", \"steelblue\", \"mediumseagreen\"], \"overlap\")\n",
    "    hp.mollview(maps,coord=['C','G'], fig=2, cmap=cmap, max=3, cbar=False, notext=True, title=None)\n",
    "    hp.graticule(alpha=0.5) \n",
    "    hp.projtext(-0.9,-0.5,'DESI',size=20)\n",
    "    hp.projtext(8.9,-10.,'Intersection',size=20)\n",
    "    hp.projtext(9.1,12,'advACT',size=20)\n",
    "    plt.savefig('coverage_test.png',dpi=1080)"
   ]
  },
  {
   "cell_type": "code",
   "execution_count": null,
   "metadata": {},
   "outputs": [
    {
     "name": "stderr",
     "output_type": "stream",
     "text": [
      "/home/maamari/Documents/Other/Anaconda/envs/cosmoboost/lib/python3.8/site-packages/healpy/fitsfunc.py:368: UserWarning: If you are not specifying the input dtype and using the default np.float64 dtype of read_map(), please consider that it will change in a future version to None as to keep the same dtype of the input file: please explicitly set the dtype if it is important to you.\n",
      "  warnings.warn(\n",
      "/home/maamari/Documents/Other/Anaconda/envs/cosmoboost/lib/python3.8/site-packages/healpy/fitsfunc.py:391: UserWarning: NSIDE = 64\n",
      "  warnings.warn(\"NSIDE = {0:d}\".format(nside))\n",
      "/home/maamari/Documents/Other/Anaconda/envs/cosmoboost/lib/python3.8/site-packages/healpy/fitsfunc.py:400: UserWarning: ORDERING = RING in fits file\n",
      "  warnings.warn(\"ORDERING = {0:s} in fits file\".format(ordering))\n",
      "/home/maamari/Documents/Other/Anaconda/envs/cosmoboost/lib/python3.8/site-packages/healpy/fitsfunc.py:428: UserWarning: INDXSCHM = IMPLICIT\n",
      "  warnings.warn(\"INDXSCHM = {0:s}\".format(schm))\n",
      "/home/maamari/Documents/Other/Anaconda/envs/cosmoboost/lib/python3.8/site-packages/healpy/projaxes.py:202: MatplotlibDeprecationWarning: Passing parameters norm and vmin/vmax simultaneously is deprecated since 3.3 and will become an error two minor releases later. Please pass vmin/vmax directly to the norm when creating it.\n",
      "  aximg = self.imshow(\n",
      "/home/maamari/Documents/Other/Anaconda/envs/cosmoboost/lib/python3.8/site-packages/healpy/projaxes.py:541: UserWarning: 0.0 180.0 -180.0 180.0\n",
      "  warnings.warn(\n",
      "/home/maamari/Documents/Other/Anaconda/envs/cosmoboost/lib/python3.8/site-packages/healpy/projaxes.py:656: UserWarning: The interval between parallels is 30 deg -0.00'.\n",
      "  warnings.warn(\n",
      "/home/maamari/Documents/Other/Anaconda/envs/cosmoboost/lib/python3.8/site-packages/healpy/projaxes.py:664: UserWarning: The interval between meridians is 30 deg -0.00'.\n",
      "  warnings.warn(\n"
     ]
    }
   ],
   "source": [
    "if __name__=='__main__':\n",
    "    maps = load_maps('project4_EP/overlaps/masks/DESI.fits', 'project4_EP/overlaps/masks/AdvACT.fits')\n",
    "    plotter(maps)"
   ]
  },
  {
   "cell_type": "code",
   "execution_count": null,
   "metadata": {},
   "outputs": [],
   "source": []
  }
 ],
 "metadata": {
  "kernelspec": {
   "display_name": "Python 3",
   "language": "python",
   "name": "python3"
  },
  "language_info": {
   "codemirror_mode": {
    "name": "ipython",
    "version": 3
   },
   "file_extension": ".py",
   "mimetype": "text/x-python",
   "name": "python",
   "nbconvert_exporter": "python",
   "pygments_lexer": "ipython3",
   "version": "3.7.6"
  }
 },
 "nbformat": 4,
 "nbformat_minor": 4
}
