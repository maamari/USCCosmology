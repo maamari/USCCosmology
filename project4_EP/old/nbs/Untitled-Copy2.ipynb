{
 "cells": [
  {
   "cell_type": "code",
   "execution_count": 6,
   "metadata": {},
   "outputs": [],
   "source": [
    "from astropy.io import fits\n",
    "import healpy as hp\n",
    "import matplotlib.pyplot as plt\n",
    "import time\n",
    "import sys\n",
    "from pixell import enmap, enplot, reproject, utils, curvedsky, wcsutils\n",
    "from matplotlib import cm\n",
    "from scipy.optimize import curve_fit\n",
    "from scipy.linalg import sqrtm\n",
    "from tqdm.auto import tqdm\n",
    "from mpl_toolkits.axes_grid1.anchored_artists import AnchoredSizeBar\n",
    "import numpy as np\n",
    "import pandas as pd"
   ]
  },
  {
   "cell_type": "code",
   "execution_count": 10,
   "metadata": {},
   "outputs": [
    {
     "name": "stderr",
     "output_type": "stream",
     "text": [
      "/home/maamari/Documents/Other/Anaconda/lib/python3.7/site-packages/healpy/fitsfunc.py:352: UserWarning: If you are not specifying the input dtype and using the default np.float64 dtype of read_map(), please consider that it will change in a future version to None as to keep the same dtype of the input file: please explicitly set the dtype if it is important to you.\n",
      "  \"If you are not specifying the input dtype and using the default \"\n",
      "/home/maamari/Documents/Other/Anaconda/lib/python3.7/site-packages/healpy/fitsfunc.py:403: UserWarning: No INDXSCHM keyword in header file : assume IMPLICIT\n",
      "  warnings.warn(\"No INDXSCHM keyword in header file : \" \"assume {}\".format(schm))\n"
     ]
    },
    {
     "name": "stdout",
     "output_type": "stream",
     "text": [
      "NSIDE = 2048\n",
      "ORDERING = NESTED in fits file\n",
      "INDXSCHM = IMPLICIT\n",
      "Ordering converted to RING\n",
      "Preparing SHT\n",
      "T -> alm\n",
      "float64 complex128\n",
      "Computing pixel positions\n",
      "Computing rotated positions\n",
      "Projecting\n"
     ]
    },
    {
     "data": {
      "application/vnd.jupyter.widget-view+json": {
       "model_id": "e5442813cdb746909cb16fc939c92fc1",
       "version_major": 2,
       "version_minor": 0
      },
      "text/plain": [
       "  0%|          | 0/3 [00:00<?, ?it/s]"
      ]
     },
     "metadata": {},
     "output_type": "display_data"
    },
    {
     "data": {
      "application/vnd.jupyter.widget-view+json": {
       "model_id": "2cee716074794400a38840e66cd0b3d9",
       "version_major": 2,
       "version_minor": 0
      },
      "text/plain": [
       "  0%|          | 0/35902 [00:00<?, ?it/s]"
      ]
     },
     "metadata": {},
     "output_type": "display_data"
    },
    {
     "data": {
      "application/vnd.jupyter.widget-view+json": {
       "model_id": "fb57e202452d4cacad8bc60ec80cd560",
       "version_major": 2,
       "version_minor": 0
      },
      "text/plain": [
       "  0%|          | 0/39119 [00:00<?, ?it/s]"
      ]
     },
     "metadata": {},
     "output_type": "display_data"
    },
    {
     "data": {
      "application/vnd.jupyter.widget-view+json": {
       "model_id": "517dadc83564431b901b49c40f883e3f",
       "version_major": 2,
       "version_minor": 0
      },
      "text/plain": [
       "  0%|          | 0/75021 [00:00<?, ?it/s]"
      ]
     },
     "metadata": {},
     "output_type": "display_data"
    },
    {
     "data": {
      "application/vnd.jupyter.widget-view+json": {
       "model_id": "484f910afa4941adb9cedfbfc75d94ee",
       "version_major": 2,
       "version_minor": 0
      },
      "text/plain": [
       "  0%|          | 0/27954 [00:00<?, ?it/s]"
      ]
     },
     "metadata": {},
     "output_type": "display_data"
    },
    {
     "data": {
      "application/vnd.jupyter.widget-view+json": {
       "model_id": "e0555ac2d7154c0182a0e48961ccde09",
       "version_major": 2,
       "version_minor": 0
      },
      "text/plain": [
       "  0%|          | 0/48255 [00:00<?, ?it/s]"
      ]
     },
     "metadata": {},
     "output_type": "display_data"
    },
    {
     "data": {
      "application/vnd.jupyter.widget-view+json": {
       "model_id": "b9d51f6deab2437ba87e4eed285c8ce6",
       "version_major": 2,
       "version_minor": 0
      },
      "text/plain": [
       "  0%|          | 0/76209 [00:00<?, ?it/s]"
      ]
     },
     "metadata": {},
     "output_type": "display_data"
    },
    {
     "data": {
      "application/vnd.jupyter.widget-view+json": {
       "model_id": "7e7fa10d489b45808d08481c5188d6f0",
       "version_major": 2,
       "version_minor": 0
      },
      "text/plain": [
       "  0%|          | 0/63863 [00:00<?, ?it/s]"
      ]
     },
     "metadata": {},
     "output_type": "display_data"
    },
    {
     "data": {
      "application/vnd.jupyter.widget-view+json": {
       "model_id": "a62de642171b471c8f83f7a5d55a3d77",
       "version_major": 2,
       "version_minor": 0
      },
      "text/plain": [
       "  0%|          | 0/87381 [00:00<?, ?it/s]"
      ]
     },
     "metadata": {},
     "output_type": "display_data"
    },
    {
     "data": {
      "application/vnd.jupyter.widget-view+json": {
       "model_id": "4a58715dcd674ee1a35d0e33b4a3027e",
       "version_major": 2,
       "version_minor": 0
      },
      "text/plain": [
       "  0%|          | 0/151244 [00:00<?, ?it/s]"
      ]
     },
     "metadata": {},
     "output_type": "display_data"
    }
   ],
   "source": [
    "from astropy.io import fits\n",
    "import healpy as hp\n",
    "import matplotlib.pyplot as plt\n",
    "import time\n",
    "import sys\n",
    "from pixell import enmap, enplot, reproject, utils, curvedsky, wcsutils\n",
    "from matplotlib import cm\n",
    "from scipy.optimize import curve_fit\n",
    "from scipy.linalg import sqrtm\n",
    "from tqdm.auto import tqdm\n",
    "from mpl_toolkits.axes_grid1.anchored_artists import AnchoredSizeBar\n",
    "import numpy as np\n",
    "import pandas as pd\n",
    "\n",
    "maps =  [\"project4_EP/sourceNotebooks/data/HFI_SkyMap_545-field-Int_2048_R3.00_full.fits\"]\n",
    "\n",
    "for x in range(len(maps)):\n",
    "    beam = 10\n",
    "    filepath = maps[x]\n",
    "\n",
    "    pl = hp.read_map(filepath)\n",
    "    pl[pl<-1e23]=0\n",
    "    shape,wcs = enmap.fullsky_geometry(res=int(beam)*utils.arcmin,proj='car')\n",
    "    map_pix = reproject.enmap_from_healpix(pl,shape=shape,wcs=wcs)\n",
    "\n",
    "    awd_not_psz = pd.read_csv('project4_EP/sourceNotebooks/src/wh22.csv', skiprows = 0)\n",
    "    \n",
    "    zs = [0, 0.72, 100]\n",
    "    masses = [0, 1, 100000]\n",
    "\n",
    "    stacks4 = []\n",
    "    lens = []\n",
    "    riches = []\n",
    "    reds = []\n",
    "\n",
    "    for j in tqdm(range(len(zs))):\n",
    "        for k in range(len(masses)):\n",
    "#             if k==1 or k==2:\n",
    "#                 continue\n",
    "            stack_CMB_kSZ           = 0\n",
    "            stack_CMB_kSZ_deproject = 0\n",
    "            c = 0\n",
    "            riches.append(masses[k])\n",
    "            reds.append(zs[j])\n",
    "            if j == len(zs)-1:\n",
    "                if k == len(masses)-1:\n",
    "                    ras = awd_not_psz[(awd_not_psz.z<zs[j]) & (awd_not_psz.z>0) & (awd_not_psz.m<masses[k]) & (awd_not_psz.m>=0)]['ra'].reset_index(drop=True)\n",
    "                    decs = awd_not_psz[(awd_not_psz.z<zs[j]) & (awd_not_psz.z>0) & (awd_not_psz.m<masses[k]) & (awd_not_psz.m>=0)]['dec'].reset_index(drop=True)\n",
    "                else:\n",
    "                    ras = awd_not_psz[(awd_not_psz.z<zs[j]) & (awd_not_psz.z>0) & (awd_not_psz.m<masses[k+1]) & (awd_not_psz.m>=masses[k])]['ra'].reset_index(drop=True)\n",
    "                    decs = awd_not_psz[(awd_not_psz.z<zs[j]) & (awd_not_psz.z>0) & (awd_not_psz.m<masses[k+1]) & (awd_not_psz.m>=masses[k])]['dec'].reset_index(drop=True)\n",
    "            elif k == len(masses)-1:\n",
    "                ras = awd_not_psz[(awd_not_psz.z<zs[j+1]) & (awd_not_psz.z>zs[j]) & (awd_not_psz.m<masses[k]) & (awd_not_psz.m>=0)]['ra'].reset_index(drop=True)\n",
    "                decs = awd_not_psz[(awd_not_psz.z<zs[j+1]) & (awd_not_psz.z>zs[j]) & (awd_not_psz.m<masses[k]) & (awd_not_psz.m>=0)]['dec'].reset_index(drop=True)\n",
    "            else:\n",
    "                ras = awd_not_psz[(awd_not_psz.z<zs[j+1]) & (awd_not_psz.z>zs[j]) & (awd_not_psz.m<masses[k+1]) & (awd_not_psz.m>=masses[k])]['ra'].reset_index(drop=True)\n",
    "                decs = awd_not_psz[(awd_not_psz.z<zs[j+1]) & (awd_not_psz.z>zs[j]) & (awd_not_psz.m<masses[k+1]) & (awd_not_psz.m>=masses[k])]['dec'].reset_index(drop=True)\n",
    "\n",
    "            N = len(ras)\n",
    "            lens.append(N)\n",
    "\n",
    "            for i in tqdm(range(N)):\n",
    "#                 dust = reproject.thumbnails(map_pix,coords = np.deg2rad([decs[i], ras[i]]),r=30*utils.arcmin)\n",
    "                stamp = reproject.thumbnails(map_pix,coords = np.deg2rad([decs[i], ras[i]]),r=beam*utils.arcmin)\n",
    "                if stamp is None:\n",
    "                    continue\n",
    "                elif stamp[0][0][0]==0.0:\n",
    "                    continue\n",
    "#                 elif dust is None:\n",
    "#                     continue\n",
    "#                 elif dust[0][0][0]==0.0:\n",
    "#                     continue\n",
    "                else:\n",
    "#                     dust_sum = sum(sum(dust[0]))\n",
    "#                     num_pix_dust = len(dust[0][0])*len(dust[0][0])            \n",
    "                    stack_CMB_kSZ += (np.array(stamp))#-(dust_sum/num_pix_dust))\n",
    "                    c+=1\n",
    "\n",
    "            # Normalize the stamps\n",
    "            stack_CMB_kSZ /= c\n",
    "            stack_CMB_kSZ_deproject /= c\n",
    "\n",
    "            stacks4.append(stack_CMB_kSZ[0])\n",
    "    np.save('545_fix3.npy'.format(x),stacks4)\n",
    "    np.savetxt('lens.txt',lens)"
   ]
  },
  {
   "cell_type": "code",
   "execution_count": null,
   "metadata": {},
   "outputs": [],
   "source": []
  },
  {
   "cell_type": "code",
   "execution_count": 11,
   "metadata": {},
   "outputs": [],
   "source": [
    "# stacks = np.load('_stacks_act_545_0.npy')\n",
    "# stacks2 = np.load('545_fix.npy')\n",
    "# stacks3 = np.load('545_fix2.npy')\n",
    "stacks = stacks4\n",
    "\n",
    "# stacks[0] = stacks3[0]\n",
    "# stacks[1] = stacks2[0]\n",
    "# stacks[3] = stacks3[1]\n",
    "# stacks[4] = stacks2[1]\n",
    "# stacks[6] = stacks3[2]\n",
    "# stacks[7] = stacks2[2]\n",
    "\n",
    "lens = [35902,38207,75021,27954,47132,76209,63863,85346,151244]"
   ]
  },
  {
   "cell_type": "code",
   "execution_count": 12,
   "metadata": {},
   "outputs": [
    {
     "data": {
      "text/plain": [
       "[array([[0.64984473, 0.65125752, 0.65206597, 0.6524694 , 0.65265843],\n",
       "        [0.65041756, 0.65242794, 0.65314928, 0.65284784, 0.65314447],\n",
       "        [0.65101608, 0.65323615, 0.65492915, 0.65390096, 0.65321289],\n",
       "        [0.65113193, 0.65247369, 0.65373063, 0.65360943, 0.65314447],\n",
       "        [0.6509923 , 0.65203829, 0.65274875, 0.65305895, 0.65336345]]),\n",
       " array([[0.64324064, 0.64419596, 0.64511162, 0.64521066, 0.64551924],\n",
       "        [0.64382761, 0.64581889, 0.64731398, 0.64604851, 0.64647495],\n",
       "        [0.64414548, 0.64649463, 0.64952386, 0.64742756, 0.64620365],\n",
       "        [0.64408755, 0.64522802, 0.64734104, 0.64696422, 0.64596891],\n",
       "        [0.64428933, 0.64544079, 0.64608633, 0.6460706 , 0.64636592]]),\n",
       " array([[0.64640109, 0.64757533, 0.64843969, 0.6486844 , 0.64893577],\n",
       "        [0.64698129, 0.64898171, 0.65010652, 0.64930239, 0.64966672],\n",
       "        [0.64743347, 0.64972084, 0.65211061, 0.65052546, 0.64955799],\n",
       "        [0.64745871, 0.6486955 , 0.65039884, 0.65014435, 0.64940284],\n",
       "        [0.6474971 , 0.64859809, 0.64927469, 0.64941494, 0.64971465]]),\n",
       " array([[0.65186176, 0.65320488, 0.65386543, 0.65355037, 0.65431971],\n",
       "        [0.65243285, 0.65479072, 0.65666261, 0.6551481 , 0.65511598],\n",
       "        [0.65301898, 0.6562371 , 0.65953343, 0.65748213, 0.6558232 ],\n",
       "        [0.65297426, 0.65493723, 0.65742944, 0.65661888, 0.65581852],\n",
       "        [0.65277953, 0.65401467, 0.65557247, 0.65519606, 0.6554382 ]]),\n",
       " array([[0.64707381, 0.64900828, 0.65058166, 0.65059234, 0.65056089],\n",
       "        [0.64761843, 0.65167334, 0.65389235, 0.65188299, 0.65160787],\n",
       "        [0.6485696 , 0.65313396, 0.65775348, 0.65417106, 0.65186961],\n",
       "        [0.64854629, 0.65068428, 0.65396726, 0.6530533 , 0.65125273],\n",
       "        [0.64822547, 0.65007613, 0.65122766, 0.65116767, 0.65118135]]),\n",
       " array([[0.64883006, 0.65054762, 0.65178617, 0.65167737, 0.65193965],\n",
       "        [0.64938439, 0.65281682, 0.6549085 , 0.65308066, 0.65289467],\n",
       "        [0.65020166, 0.65427222, 0.65840638, 0.65538558, 0.65331981],\n",
       "        [0.6501705 , 0.65224429, 0.65523721, 0.65436118, 0.65292749],\n",
       "        [0.64989593, 0.65152082, 0.65282137, 0.65264531, 0.65274279]]),\n",
       " array([[0.65071981, 0.65210398, 0.65284799, 0.65293331, 0.65337408],\n",
       "        [0.65129639, 0.65345406, 0.65468051, 0.65384687, 0.65399495],\n",
       "        [0.65188517, 0.65453945, 0.6569362 , 0.65546117, 0.65434538],\n",
       "        [0.65193829, 0.65354655, 0.65534508, 0.65491883, 0.65430274],\n",
       "        [0.65178424, 0.65289906, 0.65397736, 0.6539886 , 0.6542623 ]]),\n",
       " array([[0.6453528 , 0.64684902, 0.64812562, 0.64817819, 0.64830065],\n",
       "        [0.64591542, 0.64904657, 0.65094093, 0.64926586, 0.64930553],\n",
       "        [0.64658324, 0.65015501, 0.65406276, 0.65114849, 0.64932979],\n",
       "        [0.64654465, 0.64823472, 0.65099371, 0.65032267, 0.64888434],\n",
       "        [0.64645832, 0.64799413, 0.64891914, 0.64888105, 0.64902043]]),\n",
       " array([[0.64761903, 0.64906794, 0.65011965, 0.65018605, 0.65044291],\n",
       "        [0.64818754, 0.65090764, 0.65251997, 0.6512002 , 0.65128565],\n",
       "        [0.64882198, 0.65200634, 0.65527608, 0.65296952, 0.65144763],\n",
       "        [0.64882212, 0.65047765, 0.65283108, 0.65226341, 0.65117227],\n",
       "        [0.6487072 , 0.65006524, 0.65105498, 0.65103772, 0.65123382]])]"
      ]
     },
     "execution_count": 12,
     "metadata": {},
     "output_type": "execute_result"
    }
   ],
   "source": [
    "stacks"
   ]
  },
  {
   "cell_type": "code",
   "execution_count": 13,
   "metadata": {},
   "outputs": [
    {
     "data": {
      "image/png": "[encoded data removed]",
      "text/plain": [
       "<Figure size 1080x1080 with 10 Axes>"
      ]
     },
     "metadata": {
      "needs_background": "light"
     },
     "output_type": "display_data"
    }
   ],
   "source": [
    "import matplotlib as mpl\n",
    "from matplotlib.ticker import FuncFormatter\n",
    "mpl.rcParams['mathtext.fontset'] = 'stix'\n",
    "mpl.rcParams['font.family'] = 'STIXGeneral'\n",
    "\n",
    "f, ax = plt.subplots(nrows=3, ncols=3,figsize=(15,15))\n",
    "i = 0\n",
    "\n",
    "def fmt(x, pos):\n",
    "    a, b = '{:.2e}'.format(x).split('e')\n",
    "    b = int(b)\n",
    "    return r'${} \\times 10^{{{}}}$'.format(a, b)\n",
    "\n",
    "for j,row in enumerate(ax):\n",
    "    for k, col in enumerate(row):\n",
    "        f1 = col.imshow(stacks[i])\n",
    "        col.get_xaxis().set_visible(False)\n",
    "        col.get_yaxis().set_visible(False)\n",
    "#         plt.colorbar(mappable = f1, ax = col,orientation='horizontal',fraction=0.047, pad=0.02)\n",
    "#         cbar = plt.colorbar(mappable = f1, ax = col,orientation='horizontal',fraction=0.047, pad=0.02)\n",
    "#         cbar.ax.tick_params(rotation=25)\n",
    "\n",
    "        scalebar = AnchoredSizeBar(ax[0][0].transData,\n",
    "                                   2.5, '', 'center left', \n",
    "                                   pad=0.,\n",
    "                                   sep=-7,\n",
    "                                   color='white',\n",
    "                                   frameon=False,\n",
    "                                   size_vertical=0.02)\n",
    "        ax[0][0].add_artist(scalebar)\n",
    "        ax[0][0].text(0.1, 0.4, 'R = 10$\\,$\\''.format(10), c='white', fontsize=18, transform=ax[0][0].transAxes)\n",
    "\n",
    "        col.text(2.4,4.12,\"N = {}\".format(lens[i]),fontsize=18,color='white',weight=600)\n",
    "#         if j==0 and k==0:\n",
    "#             col.text(-15,20,\"z<0.72\",size=15)\n",
    "#         if j==1 and k==0:\n",
    "#             col.text(-15,20,\"z>0.72\",size=15)\n",
    "#         if j==2 and k==0:\n",
    "#             col.text(-15,20,\"all z\",size=15)\n",
    "#         if k==0 and j==0:\n",
    "#             col.text(15,-5,\"M<1$M_{\\astrosun}$\",size=15)\n",
    "#         if k==1 and j==0:\n",
    "#             col.text(15,-5,\"M>1$M_{\\astrosun}$\",size=15)\n",
    "#         if k==2 and j==0:\n",
    "#             col.text(15,-5,\"all M\",size=15)\n",
    "        if j==0 and k==0:\n",
    "            col.text(-.4,.5,\"z < 0.72\",size=15,transform=col.transAxes)\n",
    "        if j==1 and k==0:\n",
    "            col.text(-.4,.5,\"z $\\geq$ 0.72\",size=15,transform=col.transAxes)\n",
    "        if j==2 and k==0:\n",
    "            col.text(-.4,.5,\"All z\",size=15,transform=col.transAxes)\n",
    "        if k==0 and j==0:\n",
    "            col.text(.4,1.2,\"M < 10$^{14}$ M$_{\\odot}$\",size=15,transform=col.transAxes)\n",
    "        if k==1 and j==0:\n",
    "            col.text(.4,1.2,\"M $\\geq$ 10$^{14}$ M$_{\\odot}$\",size=15,transform=col.transAxes)\n",
    "        if k==2 and j==0:\n",
    "            col.text(.4,1.2,\"All M\",size=15,transform=col.transAxes)\n",
    "\n",
    "        i+=1\n",
    "    \n",
    "f.subplots_adjust(right=0.8)\n",
    "plt.subplots_adjust(wspace=0.05, hspace=-0.25)\n",
    "cbar_ax = f.add_axes([0.85, 0.17, 0.03, 0.66])\n",
    "cbar = f.colorbar(f1, cax=cbar_ax, format=FuncFormatter(fmt))\n",
    "cbar.ax.tick_params(labelsize=15) \n",
    "\n",
    "plt.savefig(\"545.png\".format(x))\n"
   ]
  },
  {
   "cell_type": "code",
   "execution_count": null,
   "metadata": {},
   "outputs": [],
   "source": [
    "def import_map(filepath):\n",
    "    map_pix = enmap.read_map(filepath)\n",
    "    return map_pix\n",
    "\n",
    "def extract_intensity(map_pix, ras, decs, beam):\n",
    "    N = len(ras)\n",
    "    stack_CMB_kSZ           = 0\n",
    "    stack_CMB_kSZ_deproject = 0\n",
    "    c = 0\n",
    "\n",
    "    signal = []\n",
    "    ras_used = []\n",
    "    decs_used = []\n",
    "    for i in tqdm(range(N)):\n",
    "        stamp = reproject.thumbnails(map_pix,coords = np.deg2rad([decs[i], ras[i]]),r=beam*utils.arcmin)\n",
    "        if stamp is None:\n",
    "            signal.append(-9999)\n",
    "        elif stamp[0][0][0]==0.0:\n",
    "            signal.append(-9999)\n",
    "        else:\n",
    "            signal_sum = sum(sum(stamp[0]))\n",
    "            num_pix_signal = len(stamp[0][0])*len(stamp[0][0])\n",
    "            signal.append(signal_sum/num_pix_signal)\n",
    "        ras_used.append(ras[i])\n",
    "        decs_used.append(decs[i])\n",
    "\n",
    "    return signal, ras_used, decs_used\n",
    "\n",
    "\n",
    "def output_signal(signal,output_fp,ras_used,decs_used,output_fp_rasdecs):\n",
    "    np.savetxt(output_fp,\n",
    "               signal,\n",
    "               delimiter=\", \",\n",
    "               fmt='% s')\n",
    "    np.savetxt(output_fp_rasdecs[0],\n",
    "               ras_used,\n",
    "               delimiter=\", \",\n",
    "               fmt='% s')\n",
    "    np.savetxt(output_fp_rasdecs[1],\n",
    "               decs_used,\n",
    "               delimiter=\", \",\n",
    "               fmt='% s')"
   ]
  },
  {
   "cell_type": "code",
   "execution_count": null,
   "metadata": {},
   "outputs": [],
   "source": [
    "if __name__ == \"__main__\":\n",
    "#    voids = pd.read_csv('project4_EP/sourceNotebooks/data/voids_df.csv',skiprows=0,index_col=0)\n",
    "    voids = pd.read_csv('project4_EP/sourceNotebooks/voids_.csv',skiprows=0,index_col=0)\n",
    "    ras_voids = voids['ras'].reset_index(drop=True)\n",
    "    decs_voids = voids['decs'].reset_index(drop=True)\n",
    "\n",
    "    ras_all = ras_voids#, ras_real, ras_fsky]\n",
    "    decs_all = decs_voids#, decs_real, decs_fsky]\n",
    "\n",
    "    beam = 1.4\n",
    "    map_pix = import_map(\"project4_EP/sourceNotebooks/data/act_dr5.01_s08s18_AA_f090_daynight_map.fits\")\n",
    "    outputs = \"090_voids_test.csv\"\n",
    "    rasdecs = [\"ras_090_voids_test.csv\",\"decs_090_voids_test.csv\"]\n",
    "\n",
    "    signal, ras_used, decs_used = extract_intensity(map_pix, ras_all, decs_all, beam)\n",
    "    output_signal(signal, outputs, ras_used, decs_used, rasdecs)"
   ]
  },
  {
   "cell_type": "code",
   "execution_count": null,
   "metadata": {},
   "outputs": [],
   "source": [
    "pwd"
   ]
  },
  {
   "cell_type": "code",
   "execution_count": null,
   "metadata": {},
   "outputs": [],
   "source": []
  }
 ],
 "metadata": {
  "kernelspec": {
   "display_name": "Python 3",
   "language": "python",
   "name": "python3"
  },
  "language_info": {
   "codemirror_mode": {
    "name": "ipython",
    "version": 3
   },
   "file_extension": ".py",
   "mimetype": "text/x-python",
   "name": "python",
   "nbconvert_exporter": "python",
   "pygments_lexer": "ipython3",
   "version": "3.7.6"
  }
 },
 "nbformat": 4,
 "nbformat_minor": 4
}
