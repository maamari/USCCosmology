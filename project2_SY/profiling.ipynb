{
 "cells": [
  {
   "cell_type": "code",
   "execution_count": 1,
   "metadata": {},
   "outputs": [],
   "source": [
    "import matplotlib.pyplot as plt\n",
    "import time\n",
    "import healpy as hp\n",
    "import numpy as np\n",
    "import cosmoboost as cb\n",
    "\n",
    "%load_ext autoreload\n",
    "%autoreload 2\n",
    "\n",
    "%config InlineBackend.figure_format = 'retina'\n",
    "\n",
    "plt.rcParams['font.size']=13\n",
    "plt.rcParams['font.family']='stix'\n",
    "plt.rcParams['text.usetex']=True\n",
    "plt.rcParams['figure.figsize']= (6.5,4)\n",
    "plt.rcParams['figure.dpi']=150\n",
    "\n",
    "pars = cb.DEFAULT_PARS\n",
    "\n",
    "delta_ell = pars['delta_ell']=8\n",
    "pars['d']=1\n",
    "beta=pars['beta']\n",
    "T_0 = pars[\"T_0\"]"
   ]
  },
  {
   "cell_type": "code",
   "execution_count": 2,
   "metadata": {
    "ExecuteTime": {
     "end_time": "2019-08-11T20:16:12.773017Z",
     "start_time": "2019-08-11T20:16:12.739842Z"
    }
   },
   "outputs": [],
   "source": [
    "pars = cb.DEFAULT_PARS"
   ]
  },
  {
   "cell_type": "code",
   "execution_count": 3,
   "metadata": {
    "ExecuteTime": {
     "end_time": "2019-08-11T20:16:13.502364Z",
     "start_time": "2019-08-11T20:16:13.469978Z"
    }
   },
   "outputs": [
    {
     "data": {
      "text/plain": [
       "{'d': 1,\n",
       " 's': 0,\n",
       " 'beta': 0.00123,\n",
       " 'lmin': 0,\n",
       " 'lmax': 1000,\n",
       " 'delta_ell': 8,\n",
       " 'T_0': 2.72548,\n",
       " 'beta_expansion_order': 4,\n",
       " 'derivative_dnu': 1.0,\n",
       " 'normalize': True,\n",
       " 'frequency_function': 'CMB'}"
      ]
     },
     "execution_count": 3,
     "metadata": {},
     "output_type": "execute_result"
    }
   ],
   "source": [
    "pars"
   ]
  },
  {
   "cell_type": "markdown",
   "metadata": {},
   "source": [
    "## Profiling of solveKT"
   ]
  },
  {
   "cell_type": "code",
   "execution_count": 4,
   "metadata": {
    "scrolled": true
   },
   "outputs": [],
   "source": [
    "lmax=pars['lmax']=6000"
   ]
  },
  {
   "cell_type": "code",
   "execution_count": null,
   "metadata": {
    "scrolled": true
   },
   "outputs": [
    {
     "name": "stdout",
     "output_type": "stream",
     "text": [
      "Calculating the index matrices...\n",
      "\n",
      "Solving kernel ODE for d=1\n",
      "==================================================\n",
      "calculating the Doppler and aberration Kernel elements started at 17:04:15 PM\n",
      "\n"
     ]
    }
   ],
   "source": [
    "from memory_profiler import memory_usage, profile\n",
    "memory_usage((cb.Kernel,(pars,)),interval=0.5)"
   ]
  },
  {
   "cell_type": "code",
   "execution_count": null,
   "metadata": {},
   "outputs": [],
   "source": []
  }
 ],
 "metadata": {
  "kernelspec": {
   "display_name": "Python 3",
   "language": "python",
   "name": "python3"
  },
  "language_info": {
   "codemirror_mode": {
    "name": "ipython",
    "version": 3
   },
   "file_extension": ".py",
   "mimetype": "text/x-python",
   "name": "python",
   "nbconvert_exporter": "python",
   "pygments_lexer": "ipython3",
   "version": "3.6.9"
  },
  "latex_envs": {
   "LaTeX_envs_menu_present": true,
   "autoclose": false,
   "autocomplete": true,
   "bibliofile": "biblio.bib",
   "cite_by": "apalike",
   "current_citInitial": 1,
   "eqLabelWithNumbers": true,
   "eqNumInitial": 1,
   "hotkeys": {
    "equation": "Ctrl-E",
    "itemize": "Ctrl-I"
   },
   "labels_anchors": false,
   "latex_user_defs": false,
   "report_style_numbering": false,
   "user_envs_cfg": false
  },
  "toc": {
   "base_numbering": 1,
   "nav_menu": {},
   "number_sections": true,
   "sideBar": true,
   "skip_h1_title": false,
   "title_cell": "Table of Contents",
   "title_sidebar": "Contents",
   "toc_cell": false,
   "toc_position": {
    "height": "calc(100% - 180px)",
    "left": "10px",
    "top": "150px",
    "width": "360px"
   },
   "toc_section_display": true,
   "toc_window_display": true
  },
  "varInspector": {
   "cols": {
    "lenName": 16,
    "lenType": 16,
    "lenVar": 40
   },
   "kernels_config": {
    "python": {
     "delete_cmd_postfix": "",
     "delete_cmd_prefix": "del ",
     "library": "var_list.py",
     "varRefreshCmd": "print(var_dic_list())"
    },
    "r": {
     "delete_cmd_postfix": ") ",
     "delete_cmd_prefix": "rm(",
     "library": "var_list.r",
     "varRefreshCmd": "cat(var_dic_list()) "
    }
   },
   "types_to_exclude": [
    "module",
    "function",
    "builtin_function_or_method",
    "instance",
    "_Feature"
   ],
   "window_display": false
  }
 },
 "nbformat": 4,
 "nbformat_minor": 2
}
