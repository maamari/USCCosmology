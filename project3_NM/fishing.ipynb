{
 "cells": [
  {
   "cell_type": "code",
   "execution_count": 1,
   "metadata": {},
   "outputs": [],
   "source": [
    "from __future__ import division"
   ]
  },
  {
   "cell_type": "code",
   "execution_count": 2,
   "metadata": {},
   "outputs": [],
   "source": [
    "import numpy as np\n",
    "import pandas as pd\n",
    "import matplotlib.pyplot as plt\n",
    "import Phisher\n",
    "from scipy.integrate import simps, trapz, quad, dblquad, nquad\n",
    "from scipy import constants\n",
    "from scipy.special import erfc\n",
    "import camb\n",
    "from camb import model, initialpower\n",
    "import helper_functions as hp\n",
    "from Bias_Scale_Class_perK import Cosmos\n",
    "\n",
    "%matplotlib inline\n",
    "plot_ = True"
   ]
  },
  {
   "cell_type": "markdown",
   "metadata": {},
   "source": [
    "---"
   ]
  },
  {
   "cell_type": "code",
   "execution_count": 3,
   "metadata": {},
   "outputs": [],
   "source": [
    "kmin=0.00012\n",
    "kmax=0.2\n",
    "N=55\n",
    "Ks=np.linspace(kmin, kmax, N)\n",
    "dK=Ks[1]-Ks[0]\n",
    "p = {'H0': 67, 'Omegab0': 0.02256/0.67**2, 'Omegam0': (0.1142+0.02256)/0.67**2, 'fnl': 5}"
   ]
  },
  {
   "cell_type": "code",
   "execution_count": 12,
   "metadata": {},
   "outputs": [],
   "source": [
    "def fisher(ckwargs={},c1kwargs={},c2kwargs={},c3kwargs={}):\n",
    "    \n",
    "    print(list(ckwargs.keys())[0],list(c2kwargs.keys())[0])\n",
    "    \n",
    "    bScale_=False\n",
    "    if (list(ckwargs.keys())[0]=='fnl' or list(c2kwargs.keys())[0]=='fnl'): \n",
    "        print('\\t bScale on')\n",
    "        bScale_=True\n",
    "        \n",
    "    FXX = 0.0\n",
    "\n",
    "    for z in np.linspace(0.1,0.5,5):\n",
    "\n",
    "        c = Cosmos(z, kmin, kmax, N, **ckwargs)\n",
    "        c.setPower()\n",
    "        c.setMlim()\n",
    "\n",
    "        c1 = Cosmos(z, kmin, kmax, N, **c1kwargs)\n",
    "        c1.setPower()\n",
    "        c1.setMlim()\n",
    "\n",
    "        c2 = Cosmos(z, kmin, kmax, N, **c2kwargs)\n",
    "        c2.setPower()\n",
    "        c2.setMlim()\n",
    "\n",
    "        c3 = Cosmos(z, kmin, kmax, N, **c3kwargs)\n",
    "        c3.setPower()\n",
    "        c3.setMlim()\n",
    "\n",
    "        for m in range(2):\n",
    "            for n in range(2):\n",
    "                dlnPhdp1 = (np.log(c1.Ph_mn(m,n,bScale=bScale_))-np.log(c.Ph_mn(m,n,bScale=bScale_)))/((list(ckwargs.values())[0]*0.1))\n",
    "                dlnPhdp2 = (np.log(c3.Ph_mn(m,n,bScale=bScale_))-np.log(c2.Ph_mn(m,n,bScale=bScale_)))/((list(c2kwargs.values())[0]*0.1))            \n",
    "                FXX += np.sum(dlnPhdp1 * dlnPhdp2 * c.Veff_mn(m,n,bScale=bScale_) * Ks**2 * dK)  \n",
    "\n",
    "    print(\"\\t\",FXX)\n",
    "    return FXX"
   ]
  },
  {
   "cell_type": "code",
   "execution_count": 13,
   "metadata": {},
   "outputs": [
    {
     "name": "stdout",
     "output_type": "stream",
     "text": [
      "H0 H0\n",
      "\t 2.4544731144323295e-06\n",
      "H0 Omegab0\n",
      "\t -0.0009900707078571887\n",
      "Omegab0 Omegab0\n",
      "\t 0.4005339321845247\n"
     ]
    }
   ],
   "source": [
    "F00 = fisher({'H0':p['H0']},{'H0':1.1*p['H0']},{'H0':p['H0']},{'H0':1.1*p['H0']})\n",
    "F01 = fisher({'H0':p['H0']},{'H0':1.1*p['H0']},{'Omegab0':p['Omegab0']},{'Omegab0':1.1*p['Omegab0']})\n",
    "# F02 = fisher({'H0':p['H0']},{'H0':1.1*p['H0']},{'Omegam0':p['Omegam0']},{'Omegam0':1.1*p['Omegam0']})\n",
    "# F03 = fisher({'H0':p['H0']},{'H0':1.1*p['H0']},{'fnl':p['fnl']},{'fnl':1.1*p['fnl']})\n",
    "\n",
    "F11 = fisher({'Omegab0':p['Omegab0']},{'Omegab0':1.1*p['Omegab0']},{'Omegab0':p['Omegab0']},{'Omegab0':1.1*p['Omegab0']})\n",
    "# F12 = fisher({'Omegab0':p['Omegab0']},{'Omegab0':1.1*p['Omegab0']},{'Omegam0':p['Omegam0']},{'Omegam0':1.1*p['Omegam0']})\n",
    "# F13 = fisher({'Omegab0':p['Omegab0']},{'Omegab0':1.1*p['Omegab0']},{'fnl':p['fnl']},{'fnl':1.1*p['fnl']})\n",
    "\n",
    "# F22 = fisher({'Omegam0':p['Omegam0']},{'Omegam0':1.1*p['Omegam0']},{'Omegam0':p['Omegam0']},{'Omegam0':1.1*p['Omegam0']})\n",
    "# F23 = fisher({'Omegam0':p['Omegam0']},{'Omegam0':1.1*p['Omegam0']},{'fnl':p['fnl']},{'fnl':1.1*p['fnl']})\n",
    "\n",
    "# F33 = fisher({'fnl':p['fnl']},{'fnl':1.1*p['fnl']},{'fnl':p['fnl']},{'fnl':1.1*p['fnl']})"
   ]
  },
  {
   "cell_type": "markdown",
   "metadata": {},
   "source": [
    "---"
   ]
  },
  {
   "cell_type": "code",
   "execution_count": 6,
   "metadata": {},
   "outputs": [],
   "source": [
    "p00 = ({'$H_0$':p['H0']},{'$H_0$':p['H0']})\n",
    "p01 = ({'$H_0$':p['H0']},{'$\\Omega_b$':p['Omegab0']})\n",
    "p02 = ({'$H_0$':p['H0']},{'$\\Omega_m$':p['Omegam0']})\n",
    "p03 = ({'$H_0$':p['H0']},{'fnl':p['fnl']})\n",
    "p11 = ({'$\\Omega_b$':p['Omegab0']},{'$\\Omega_b$':p['Omegab0']})\n",
    "p12 = ({'$\\Omega_b$':p['Omegab0']},{'$\\Omega_m$':p['Omegam0']})\n",
    "p13 = ({'$\\Omega_b$':p['Omegab0']},{'fnl':p['fnl']})\n",
    "p22 = ({'$\\Omega_m$':p['Omegam0']},{'$\\Omega_m$':p['Omegam0']})\n",
    "p23 = ({'$\\Omega_m$':p['Omegam0']},{'fnl':p['fnl']})\n",
    "p33 = ({'fnl':p['fnl']},{'fnl':p['fnl']})"
   ]
  },
  {
   "cell_type": "code",
   "execution_count": 7,
   "metadata": {},
   "outputs": [],
   "source": [
    "params = np.array([[p00,p01,p02,p03],\n",
    "                   [p01,p11,p12,p13],\n",
    "                   [p02,p12,p22,p23],\n",
    "                   [p03,p13,p23,p33]])"
   ]
  },
  {
   "cell_type": "code",
   "execution_count": 10,
   "metadata": {},
   "outputs": [],
   "source": [
    "def fisherPlotter(index1,index2):\n",
    "    \n",
    "    F = np.array([[F00,F01],\n",
    "                  [F01,F11]])\n",
    "    F_inv = np.linalg.inv(F)\n",
    "    F_inv = np.array([[F_inv[index1, index1], F_inv[index2, index1]], [F_inv[index1, index2], F_inv[index2, index2]]])\n",
    "    F = np.linalg.inv(F_inv)\n",
    "\n",
    "    Phisher.Fisher(F, list(params[index1,index2][0].values())[0], list(params[index1,index2][1].values())[0], \n",
    "                   list(params[index1,index2][0].keys())[0],list(params[index1,index2][1].keys())[0], (7, 7))\n",
    "    plt.scatter(list(params[index1,index2][0].values())[0], list(params[index1,index2][1].values())[0], label = 'Fiducial', color = 'k', s = 50)\n",
    "    plt.legend(prop = {'size': 12})\n",
    "    plt.margins(1.0);\n",
    "    plt.show()"
   ]
  },
  {
   "cell_type": "code",
   "execution_count": 11,
   "metadata": {},
   "outputs": [
    {
     "data": {
      "image/png": "[encoded data removed]",
      "text/plain": [
       "<Figure size 504x504 with 1 Axes>"
      ]
     },
     "metadata": {},
     "output_type": "display_data"
    }
   ],
   "source": [
    "fisherPlotter(0,1)"
   ]
  },
  {
   "cell_type": "code",
   "execution_count": null,
   "metadata": {},
   "outputs": [],
   "source": [
    "fisherPlotter(0,2)"
   ]
  },
  {
   "cell_type": "code",
   "execution_count": null,
   "metadata": {},
   "outputs": [],
   "source": [
    "fisherPlotter(0,3)"
   ]
  },
  {
   "cell_type": "code",
   "execution_count": null,
   "metadata": {},
   "outputs": [],
   "source": []
  }
 ],
 "metadata": {
  "kernelspec": {
   "display_name": "Python 3",
   "language": "python",
   "name": "python3"
  },
  "language_info": {
   "codemirror_mode": {
    "name": "ipython",
    "version": 3
   },
   "file_extension": ".py",
   "mimetype": "text/x-python",
   "name": "python",
   "nbconvert_exporter": "python",
   "pygments_lexer": "ipython3",
   "version": "3.6.9"
  }
 },
 "nbformat": 4,
 "nbformat_minor": 4
}
