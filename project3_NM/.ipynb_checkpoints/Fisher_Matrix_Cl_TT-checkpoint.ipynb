{
 "cells": [
  {
   "cell_type": "code",
   "execution_count": 2,
   "metadata": {},
   "outputs": [],
   "source": [
    "import numpy as np\n",
    "\n",
    "import pandas as pd\n",
    "\n",
    "import matplotlib.pyplot as plt\n",
    "from matplotlib import cm, colors\n",
    "\n",
    "import scipy as sp\n",
    "import scipy.special as special\n",
    "from scipy.integrate import trapz, quad, simps\n",
    "from scipy import constants\n",
    "import scipy.stats as stats\n",
    "\n",
    "from mpl_toolkits.mplot3d import Axes3D\n",
    "\n",
    "import astropy\n",
    "import astropy.time\n",
    "from astropy import units as u\n",
    "from astropy.coordinates import Angle\n",
    "\n",
    "import healpy as hp\n",
    "\n",
    "import hmf\n",
    "\n",
    "import camb\n",
    "from camb import model, initialpower\n",
    "\n",
    "import my_fisher\n",
    "\n",
    "%matplotlib inline "
   ]
  },
  {
   "cell_type": "code",
   "execution_count": 3,
   "metadata": {},
   "outputs": [],
   "source": [
    "h = 69.7/100"
   ]
  },
  {
   "cell_type": "code",
   "execution_count": 4,
   "metadata": {},
   "outputs": [],
   "source": [
    "# Fiducial values\n",
    "P = dict(H0 = 69.7, ombh2 = 0.02256, omch2 = 0.1142, omk = 0.0, ns = 0.971, As = 2.0e-9, w0 = -1.0)"
   ]
  },
  {
   "cell_type": "code",
   "execution_count": 5,
   "metadata": {},
   "outputs": [],
   "source": [
    "ls = np.arange(2551)"
   ]
  },
  {
   "cell_type": "code",
   "execution_count": 6,
   "metadata": {},
   "outputs": [],
   "source": [
    "fsky = 0.85                                      # Sky fraction (DETF use 0.7)\n",
    "Tcmb = 2.7255                                    # Monopole temperature in uK or K?\n",
    "\n",
    "# Planck HFI beams and noise (Table 2 [beams] and Table 6 [noise] of Planck 2013 results I)\n",
    "freq = np.array([70., 100., 143., 217.])         # GHz (DETF use 70 - 143 Ghz channels)\n",
    "\n",
    "fwhm = np.array([13.08, 10.0, 7.10, 5.0])        # Arcmin\n",
    "fwhm *= np.pi/180./60.                           # Arcmin to rad \n",
    "\n",
    "# Noise RMS/px (uK/K) [Planck bluebook Table 1.1]\n",
    "DT_Tcmb_T = np.array([4.7, 2.5, 2.2, 4.8])\n",
    "DT_Tcmb_P = np.array([6.7, 4.0, 4.2, 9.8]) \n",
    "\n",
    "sigma_pT = DT_Tcmb_T * Tcmb                     # Intensity, page 41 Bluebook\n",
    "sigma_pP = DT_Tcmb_P * Tcmb                      # Polarization, page 41"
   ]
  },
  {
   "cell_type": "code",
   "execution_count": 7,
   "metadata": {},
   "outputs": [],
   "source": [
    "def nl(i, Nside = 870):\n",
    "    \"\"\"\n",
    "    \"\"\"\n",
    "    s2 = (ls * (ls) * fwhm[i]**2.)/(8.0 * np.log(2.))         # DIVIDED BY PIXEL SIZE?  \n",
    "    s2[np.where(s2 > 200.)] = 200.                                # Guard against overflow in exp()\n",
    "    Bl = np.exp(-s2)\n",
    "\n",
    "    px_solid_angle = ((4. * np.pi)) / ((12. * Nside**2))                # Noise/px -> noise/solid_angle. hp.nside2npix(1024))\n",
    "    NlTT = (sigma_pT[i]*fwhm[i])**(-2) * Bl#  * px_solid_angle      # Change fwhm[] to 1\n",
    "    NlEE = (sigma_pP[i]*fwhm[i])**(-2) * 2 * Bl * px_solid_angle\n",
    "    NlTE = np.zeros_like(NlTT)                         \n",
    "    #NlTE = (fwhm[i] * sigma_pP[i] * sigma_pT[i])**(-2.) * Bl * px_solid_angle\n",
    "    return NlTT, NlEE, NlTE"
   ]
  },
  {
   "cell_type": "code",
   "execution_count": 8,
   "metadata": {},
   "outputs": [
    {
     "data": {
      "text/plain": [
       "array([2.54551333e+03, 2.54550945e+03, 2.54549779e+03, ...,\n",
       "       1.26848293e-01, 1.25865532e-01, 1.24890003e-01])"
      ]
     },
     "execution_count": 8,
     "metadata": {},
     "output_type": "execute_result"
    }
   ],
   "source": [
    "nl(1)[0]"
   ]
  },
  {
   "cell_type": "code",
   "execution_count": 9,
   "metadata": {},
   "outputs": [],
   "source": [
    "NlTT_100, NlEE_100, NlTE_100 = nl(1)\n",
    "NlTT_143, NlEE_143, NlTE_143 = nl(2)\n",
    "NlTT_217, NlEE_217, NlTE_217 = nl(3)"
   ]
  },
  {
   "cell_type": "code",
   "execution_count": 10,
   "metadata": {},
   "outputs": [],
   "source": [
    "NlTT = (NlTT_100)**(-1) ## + NlTT_143 + NlTT_217)**(-1)\n",
    "NlEE = (NlEE_100)**(-1)## + NlEE_143 + NlEE_217)**(-1)\n",
    "#NlTE = (NlTE_100 + NlTE_143 + NlTE_217)**(-1)"
   ]
  },
  {
   "cell_type": "code",
   "execution_count": 11,
   "metadata": {},
   "outputs": [],
   "source": [
    "def C_ell(H0 = 70, ombh2 = 0.0226, omch2 = 0.112, omk = 0.0, w0 = -1.0, wa = 0.0, ns = 0.96, As = 2.1e-9, \n",
    "          z = 0.0 , lmax = 2500, YHe = 0.24, tau = 0.09):\n",
    "    \"\"\"\n",
    "    \"\"\"\n",
    "    a = 1.0/(1 + z)\n",
    "    w_a = w0 + (1. - a) * wa\n",
    "    \n",
    "    pars = camb.CAMBparams()\n",
    "    #pars.Dolensing = 1\n",
    "    pars.max_l_tensor = 2000\n",
    "    pars.max_eta_k = 5000.0\n",
    "    pars.WantTensors = True\n",
    "    pars.max_eta_k_tensor = 3000.0\n",
    "    pars.num_nu_massless = 3.046\n",
    "    pars.delta_redshift = 1.5\n",
    "    #pars.ombh2, pars.omch2, pars.omk = ombh2, omch2, omk\n",
    "    #pars.H0, pars.YHe, pars.mnu, pars.tau = H0, 0.24, 0.06016, 0.09\n",
    "    #pars.TCMB = 2.7255\n",
    "    pars.set_cosmology(H0=H0, ombh2=ombh2, omch2=omch2, omk=omk, YHe = YHe,\n",
    "                       TCMB = 2.7255, mnu = 0.06016, tau = tau)\n",
    "    \n",
    "    pars.InitPower.set_params(ns = ns, r = 0, As = As)\n",
    "    pars.set_dark_energy(w = w0)\n",
    "    pars.set_for_lmax(lmax = lmax, lens_potential_accuracy = 0)\n",
    "\n",
    "    \n",
    "    results = camb.get_results(pars)\n",
    "    powers = results.get_cmb_power_spectra(pars, CMB_unit='muK', raw_cl = True)\n",
    "    Cl = powers['lensed_scalar']\n",
    "    cl_TT, cl_EE, cl_TE = Cl[:, 0], Cl[:, 1], Cl[:, 3]\n",
    "    \n",
    "    return np.array([cl_TT])\n"
   ]
  },
  {
   "cell_type": "code",
   "execution_count": 12,
   "metadata": {},
   "outputs": [
    {
     "name": "stdout",
     "output_type": "stream",
     "text": [
      "(1, 2551)\n"
     ]
    }
   ],
   "source": [
    "# Fiducial cls\n",
    "x_l = C_ell()\n",
    "print (x_l.shape)"
   ]
  },
  {
   "cell_type": "code",
   "execution_count": 13,
   "metadata": {},
   "outputs": [],
   "source": [
    "DH0 = P['H0'] * 0.1\n",
    "x_l_H0p = C_ell(H0 = P['H0'] + DH0)\n",
    "x_l_H0n = C_ell(H0 = P['H0'] - DH0)\n",
    "\n",
    "dx_l_dH0 = (x_l_H0p - x_l_H0n)/(2.0*DH0)"
   ]
  },
  {
   "cell_type": "code",
   "execution_count": 14,
   "metadata": {},
   "outputs": [],
   "source": [
    "Domc = P['omch2'] * .03\n",
    "x_l_omcp = C_ell(omch2 = P['omch2'] + Domc)\n",
    "x_l_omcn = C_ell(omch2 = P['omch2'] - Domc)\n",
    "\n",
    "dx_l_domc = (x_l_omcp - x_l_omcn)/(2.0*Domc)"
   ]
  },
  {
   "cell_type": "code",
   "execution_count": 15,
   "metadata": {},
   "outputs": [],
   "source": [
    "Domb = P['ombh2'] * .03\n",
    "x_l_ombp = C_ell(ombh2 = P['ombh2'] + Domb)\n",
    "x_l_ombn = C_ell(ombh2 = P['ombh2'] - Domb)\n",
    "\n",
    "dx_l_domb = (x_l_ombp - x_l_ombn)/(2.0*Domb)"
   ]
  },
  {
   "cell_type": "code",
   "execution_count": 16,
   "metadata": {},
   "outputs": [],
   "source": [
    "Dyhe = 0.24 * 0.03\n",
    "x_l_yhep = C_ell(YHe = 0.24 + Dyhe)\n",
    "x_l_yhen = C_ell(YHe = 0.24 - Dyhe)\n",
    "\n",
    "dx_l_dyhe = (x_l_yhep - x_l_yhen)/(2.0*Dyhe)\n",
    "#dx_l_dw0 = dx_l_dw0[:, 3:]"
   ]
  },
  {
   "cell_type": "code",
   "execution_count": 17,
   "metadata": {},
   "outputs": [],
   "source": [
    "Dns = P['ns'] * .03\n",
    "\n",
    "x_l_nsp = C_ell(ns = P['ns'] + Dns)\n",
    "x_l_nsn = C_ell(ns = P['ns'] - Dns)\n",
    "\n",
    "dx_l_dns = (x_l_nsp - x_l_nsn)/(2.0*Dns)\n",
    "#dx_l_dns = dx_l_dns[:, 3:]"
   ]
  },
  {
   "cell_type": "code",
   "execution_count": 18,
   "metadata": {},
   "outputs": [],
   "source": [
    "Dtau = 0.09 * 0.03\n",
    "\n",
    "x_l_tp = C_ell(tau = 0.09 + Dtau)\n",
    "x_l_tn = C_ell(tau = 0.09 - Dtau)\n",
    "\n",
    "dx_l_dtau = (x_l_tp - x_l_tn)/(2.0*Dtau)"
   ]
  },
  {
   "cell_type": "code",
   "execution_count": 19,
   "metadata": {},
   "outputs": [
    {
     "name": "stderr",
     "output_type": "stream",
     "text": [
      "WARNING:root:Currently dark energy parameters are changed globally, not per parameter set\n",
      "WARNING:root:Currently dark energy parameters are changed globally, not per parameter set\n"
     ]
    }
   ],
   "source": [
    "Dw = 0.09 * 0.03\n",
    "\n",
    "x_l_wp = C_ell(w0 = P['w0'] + Dw)\n",
    "x_l_wn = C_ell(w0 = P['w0'] - Dw)\n",
    "\n",
    "dx_l_dw = (x_l_wp - x_l_wn)/(2.0*Dw)"
   ]
  },
  {
   "cell_type": "code",
   "execution_count": 69,
   "metadata": {},
   "outputs": [],
   "source": [
    "DxDp = np.array([dx_l_domb, dx_l_domc, dx_l_dns, dx_l_dH0, dx_l_dw]) # dx_l_dH0, dx_l_domc, dx_l_domb, dx_l_domk])\n",
    "# DxDp = DxDp[:, :, 2:ls.max()]"
   ]
  },
  {
   "cell_type": "code",
   "execution_count": 70,
   "metadata": {},
   "outputs": [],
   "source": [
    "Cl_TT = x_l\n",
    "cov = (Cl_TT + NlTT)"
   ]
  },
  {
   "cell_type": "code",
   "execution_count": 71,
   "metadata": {},
   "outputs": [
    {
     "data": {
      "text/plain": [
       "5"
      ]
     },
     "execution_count": 71,
     "metadata": {},
     "output_type": "execute_result"
    }
   ],
   "source": [
    "N"
   ]
  },
  {
   "cell_type": "code",
   "execution_count": 83,
   "metadata": {},
   "outputs": [],
   "source": [
    "# Construct derivative product matrix\n",
    "N = len(DxDp)\n",
    "F = np.zeros((N, N))\n",
    "\n",
    "for mu in range(N):\n",
    "    \n",
    "    for nu in range(N):\n",
    "        \n",
    "        DxDp_mu = DxDp[mu]\n",
    "        DxDp_nu = DxDp[nu]\n",
    "        \n",
    "        sigma = np.array((0.5 * (2*ls + 1) * fsky) * DxDp_mu * (cov)**(-1) * DxDp_nu * (cov)**(-1)).sum()\n",
    "        \n",
    "        # I think shoud do a backspace tab!!!??\n",
    "        F[mu][nu] = sigma # I think shoud do a backspace tab!!!??\n",
    "        F[nu][mu] = F[mu][nu]"
   ]
  },
  {
   "cell_type": "code",
   "execution_count": 84,
   "metadata": {},
   "outputs": [
    {
     "name": "stdout",
     "output_type": "stream",
     "text": [
      "[[6.78888E+07 -1.05564E+07 -4.73526E+05 -3.24813E+04 -1.12206E+06]\n",
      " [-1.05564E+07 1.09675E+07 -2.29758E+05 1.71264E+04 5.96011E+05]\n",
      " [-4.73526E+05 -2.29758E+05 1.33508E+05 -6.74157E+02 -2.32503E+04]\n",
      " [-3.24813E+04 1.71264E+04 -6.74157E+02 3.69858E+01 1.27803E+03]\n",
      " [-1.12206E+06 5.96011E+05 -2.32503E+04 1.27803E+03 4.41960E+04]]\n"
     ]
    }
   ],
   "source": [
    "np.set_printoptions(formatter={'float': lambda x: format(x, '0.05E')})\n",
    "print(F)"
   ]
  },
  {
   "cell_type": "code",
   "execution_count": 74,
   "metadata": {},
   "outputs": [],
   "source": [
    "np.savetxt('/home/nareg/Desktop/Cosmology/CMB_F.txt', F)"
   ]
  },
  {
   "cell_type": "code",
   "execution_count": 245,
   "metadata": {},
   "outputs": [
    {
     "data": {
      "text/plain": [
       "1.1539666485654874"
      ]
     },
     "execution_count": 245,
     "metadata": {},
     "output_type": "execute_result"
    }
   ],
   "source": [
    "abs(4.4196 - 4.36859929)/4.4196 * 100"
   ]
  },
  {
   "cell_type": "code",
   "execution_count": 24,
   "metadata": {},
   "outputs": [
    {
     "data": {
      "text/plain": [
       "array([6.78888E+07, 1.09675E+07, 1.33508E+05, 3.69858E+01, 4.41960E+04])"
      ]
     },
     "execution_count": 24,
     "metadata": {},
     "output_type": "execute_result"
    }
   ],
   "source": [
    "np.diag(F)"
   ]
  },
  {
   "cell_type": "code",
   "execution_count": 86,
   "metadata": {},
   "outputs": [],
   "source": [
    "F_inv = np.linalg.inv(F)\n",
    "F_inv = np.array([[F_inv[0, 0], F_inv[2, 0]], [F_inv[0, 2], F_inv[2, 2]]])"
   ]
  },
  {
   "cell_type": "code",
   "execution_count": 87,
   "metadata": {},
   "outputs": [],
   "source": [
    "F = np.linalg.inv(F_inv)"
   ]
  },
  {
   "cell_type": "code",
   "execution_count": 88,
   "metadata": {},
   "outputs": [
    {
     "data": {
      "text/plain": [
       "array([[3.15074E+07, -1.20179E+06],\n",
       "       [-1.20179E+06, 1.18812E+05]])"
      ]
     },
     "execution_count": 88,
     "metadata": {},
     "output_type": "execute_result"
    }
   ],
   "source": [
    "F"
   ]
  },
  {
   "cell_type": "code",
   "execution_count": 92,
   "metadata": {},
   "outputs": [
    {
     "data": {
      "text/plain": [
       "<matplotlib.legend.Legend at 0x7f7634909f60>"
      ]
     },
     "execution_count": 92,
     "metadata": {},
     "output_type": "execute_result"
    },
    {
     "data": {
      "image/png": "[encoded data removed]",
      "text/plain": [
       "<Figure size 360x360 with 1 Axes>"
      ]
     },
     "metadata": {
      "needs_background": "light"
     },
     "output_type": "display_data"
    }
   ],
   "source": [
    "my_fisher.Fisher(F, P['ombh2'], P['ombh2'], r'$n_s$', r'$\\tau$', (5, 5))\n",
    "plt.scatter( P['ombh2'], P['ombh2'], label = 'Fiducial', color = 'C1', s = 50)\n",
    "plt.legend(prop = {'size': 14})\n",
    "#plt.xlim([0.96-0.3*0.96, 0.96+0.3])\n",
    "#plt.ylim([0.09-0.08, 0.09+0.08])\n",
    "#plt.ticklabel_format(style='sci', axis='y', scilimits=(0,0));"
   ]
  },
  {
   "cell_type": "code",
   "execution_count": 29,
   "metadata": {},
   "outputs": [],
   "source": [
    "_ns = stats.norm(loc = P['ns'], scale = 4.36e-4)"
   ]
  },
  {
   "cell_type": "code",
   "execution_count": 30,
   "metadata": {},
   "outputs": [
    {
     "data": {
      "text/plain": [
       "<matplotlib.collections.LineCollection at 0x7f76367dacc0>"
      ]
     },
     "execution_count": 30,
     "metadata": {},
     "output_type": "execute_result"
    },
    {
     "data": {
      "image/png": "[encoded data removed]",
      "text/plain": [
       "<Figure size 432x288 with 1 Axes>"
      ]
     },
     "metadata": {
      "needs_background": "light"
     },
     "output_type": "display_data"
    }
   ],
   "source": [
    "plt.plot(np.linspace(0.963, 0.967, 400), _ns.pdf(np.linspace(0.963, 0.967, 400)))\n",
    "plt.vlines(P['ns'], 0.0, _ns.pdf(np.linspace(0.963, 0.967, 400)).max(), linestyle = '--')"
   ]
  },
  {
   "cell_type": "code",
   "execution_count": 272,
   "metadata": {},
   "outputs": [
    {
     "data": {
      "text/plain": [
       "[<matplotlib.lines.Line2D at 0x7efe6e11da58>]"
      ]
     },
     "execution_count": 272,
     "metadata": {},
     "output_type": "execute_result"
    },
    {
     "data": {
      "image/png": "[encoded data removed]",
      "text/plain": [
       "<Figure size 432x288 with 1 Axes>"
      ]
     },
     "metadata": {
      "needs_background": "light"
     },
     "output_type": "display_data"
    }
   ],
   "source": [
    "plt.loglog(ls[5: ], Cl[0][5: ])\n",
    "plt.loglog(ls_omb[5: ], Cl_ns[0][5: ])"
   ]
  },
  {
   "cell_type": "code",
   "execution_count": 41,
   "metadata": {},
   "outputs": [
    {
     "data": {
      "image/png": "[encoded data removed]",
      "text/plain": [
       "<Figure size 432x288 with 1 Axes>"
      ]
     },
     "metadata": {
      "needs_background": "light"
     },
     "output_type": "display_data"
    }
   ],
   "source": [
    "pars = camb.CAMBparams()\n",
    "pars.WantTensors = True\n",
    "results = camb.get_transfer_functions(pars)\n",
    "lmax=2000\n",
    "rs = [0.0, 0.01, 0.05, 0.1, 0.2]\n",
    "for r in rs:\n",
    "    inflation_params = initialpower.InitialPowerParams()\n",
    "    inflation_params.set_params(ns=0.96, r=r)\n",
    "    results.power_spectra_from_transfer(inflation_params)\n",
    "    cl = results.get_total_cls(lmax, CMB_unit='muK')\n",
    "    plt.loglog(np.arange(lmax+1),cl[:,2])\n",
    "plt.xlim([2,lmax])\n",
    "plt.legend([\"$r = %s$\"%r for r in  rs], loc='lower right');\n",
    "plt.ylabel(r'$\\ell(\\ell+1)C_\\ell^{BB}/ (2\\pi \\mu{\\rm K}^2)$')\n",
    "plt.xlabel(r'$\\ell$');"
   ]
  },
  {
   "cell_type": "code",
   "execution_count": 1414,
   "metadata": {},
   "outputs": [],
   "source": [
    "eee = np.array([1, 2., 3.])\n",
    "nnn = np.eye(3)*2"
   ]
  },
  {
   "cell_type": "code",
   "execution_count": 1416,
   "metadata": {},
   "outputs": [
    {
     "data": {
      "text/plain": [
       "28.0"
      ]
     },
     "execution_count": 1416,
     "metadata": {},
     "output_type": "execute_result"
    }
   ],
   "source": [
    "eee@ nnn @ eee.T"
   ]
  },
  {
   "cell_type": "code",
   "execution_count": 18,
   "metadata": {},
   "outputs": [
    {
     "data": {
      "text/plain": [
       "0.16666666666666666"
      ]
     },
     "execution_count": 18,
     "metadata": {},
     "output_type": "execute_result"
    }
   ],
   "source": [
    "(2.0 + 4.0)**(-1)"
   ]
  },
  {
   "cell_type": "code",
   "execution_count": 19,
   "metadata": {},
   "outputs": [
    {
     "data": {
      "text/plain": [
       "0.75"
      ]
     },
     "execution_count": 19,
     "metadata": {},
     "output_type": "execute_result"
    }
   ],
   "source": [
    "(1.0/2.0 + 1.0/4)"
   ]
  },
  {
   "cell_type": "code",
   "execution_count": null,
   "metadata": {},
   "outputs": [],
   "source": []
  }
 ],
 "metadata": {
  "kernelspec": {
   "display_name": "Python 3",
   "language": "python",
   "name": "python3"
  },
  "language_info": {
   "codemirror_mode": {
    "name": "ipython",
    "version": 3
   },
   "file_extension": ".py",
   "mimetype": "text/x-python",
   "name": "python",
   "nbconvert_exporter": "python",
   "pygments_lexer": "ipython3",
   "version": "3.7.6"
  },
  "toc": {
   "base_numbering": 1,
   "nav_menu": {},
   "number_sections": true,
   "sideBar": true,
   "skip_h1_title": false,
   "title_cell": "Table of Contents",
   "title_sidebar": "Contents",
   "toc_cell": false,
   "toc_position": {},
   "toc_section_display": true,
   "toc_window_display": false
  }
 },
 "nbformat": 4,
 "nbformat_minor": 2
}
