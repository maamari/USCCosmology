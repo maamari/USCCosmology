{
 "cells": [
  {
   "cell_type": "code",
   "execution_count": 51,
   "metadata": {},
   "outputs": [],
   "source": [
    "import numpy as np\n",
    "import pandas as pd\n",
    "import matplotlib.pyplot as plt\n",
    "import Phisher2\n",
    "\n",
    "from scipy.integrate import quad, trapz, simps\n",
    "from scipy.stats import chisquare\n",
    "from scipy.special import erfc\n",
    "\n",
    "import camb\n",
    "from camb import model, initialpower\n",
    "\n",
    "from scipy.optimize import curve_fit\n",
    "\n",
    "%precision 4\n",
    "%matplotlib inline"
   ]
  },
  {
   "cell_type": "code",
   "execution_count": 4,
   "metadata": {},
   "outputs": [],
   "source": [
    "# constants\n",
    "delta_crit = 1.686\n",
    "h = 0.697\n",
    "rho_0 = 42285353995.6                        # aka rho_bar_0, M_sun/Mpc^3\n",
    "rho_c0 = 1.37 * 1e11                         # M_sun/Mpc^3\n",
    "delta_vir = 200\n",
    "#D_H = 2997  # Mpc h^-1\n",
    "D_H = 2997/0.7  # Mpc h^-1"
   ]
  },
  {
   "cell_type": "code",
   "execution_count": 5,
   "metadata": {},
   "outputs": [],
   "source": [
    "# Define mass range\n",
    "DeltaM = 10**0.3\n",
    "\n",
    "Md = []\n",
    "Md_ = 1e13/DeltaM\n",
    "\n",
    "for i in range(100):\n",
    "    \n",
    "    Md_ *= DeltaM\n",
    "    Md.append(Md_)\n",
    "\n",
    "Md = np.array(Md)"
   ]
  },
  {
   "cell_type": "code",
   "execution_count": 17,
   "metadata": {
    "code_folding": []
   },
   "outputs": [],
   "source": [
    "class Cosmos():\n",
    "    \n",
    "    \n",
    "    def __init__(self, z, kmin, kmax, N, Y200rhoc=2e-3,\n",
    "                 H0 = 69.7, ombh2 = 0.02256, omch2 = 0.1142, w0 = -1.0, ns = 0.97,\n",
    "                 Ps = None, Mlim = None):\n",
    "        \n",
    "        \n",
    "        self.z = z\n",
    "        self.kmin = kmin\n",
    "        self.kmax = kmax\n",
    "        self.N = N\n",
    "        self.Mlim = Mlim\n",
    "        self.Y200rhoc = Y200rhoc\n",
    "        self.Ps = Ps\n",
    "        \n",
    "        self.H0 = H0\n",
    "        self.ombh2 = ombh2\n",
    "        self.omch2 = omch2\n",
    "        self.w0 = w0\n",
    "        self.ns = ns\n",
    "        \n",
    "    \n",
    "    def Md(self):\n",
    "        \n",
    "        DeltaM = 10**0.3\n",
    "\n",
    "        Md = []\n",
    "        Md_ = 1e13/DeltaM\n",
    "\n",
    "        for i in range(100):\n",
    "\n",
    "            Md_ *= DeltaM\n",
    "            Md.append(Md_)\n",
    "            \n",
    "        return np.array(Md)\n",
    "        \n",
    "    \n",
    "    def Ks(self):\n",
    "        \n",
    "        return np.linspace(self.kmin, self.kmax, self.N)\n",
    "        \n",
    "        \n",
    "    def setPower(self):\n",
    "        \n",
    "        \"\"\"\n",
    "        Change this so the class accepts cosmo parametrs\n",
    "        \n",
    "        \"\"\"\n",
    "        pars = camb.CAMBparams()\n",
    "        pars.set_cosmology(H0 = self.H0, ombh2 = self.ombh2, omch2 = self.omch2)\n",
    "        pars.set_dark_energy(self.w0)\n",
    "        pars.InitPower.set_params(ns = self.ns)\n",
    "        PK = camb.get_matter_power_interpolator(pars, nonlinear = False,\n",
    "                                            hubble_units = False, k_hunit = False, kmax = 5)\n",
    "        ps = PK.P(self.z, np.linspace(self.kmin, self.kmax, self.N))\n",
    "        \n",
    "        self.Ps = ps\n",
    "        \n",
    "        \n",
    "    def E(self, Om = 0.2815):\n",
    "    \n",
    "        \"\"\"\n",
    "        David Hogg, Fist Light...\n",
    "        \"\"\"\n",
    "        return np.sqrt(Om * (1 + self.z)**3 + 1.0 - Om)\n",
    "\n",
    "    \n",
    "    def Xi(self, Om0 = 0.2815):\n",
    "    \n",
    "        \"\"\"\n",
    "        Comoving radial distance\n",
    "        \"\"\"\n",
    "    \n",
    "        return (D_H / h) * quad(lambda z: 1/self.E(Om0), 0, self.z)[0]\n",
    "\n",
    "\n",
    "    def DA(self):\n",
    "    \n",
    "        \"\"\"\n",
    "        Angular diameter distance\n",
    "        \"\"\"\n",
    "    \n",
    "        return (1 + self.z)**(-1) * self.Xi(self.z)\n",
    "    \n",
    "    \n",
    "    def setMlim(self):\n",
    "        \n",
    "        \"\"\"\n",
    "        Equaton 1 from paper \n",
    "        \"\"\"\n",
    "        Y = self.Y200rhoc            # arcmin^2\n",
    "        Y = np.deg2rad(Y/(60)**2)    # arcmin to degree and degree to radian\n",
    "        self.Mlim = 1e14  #(self.DA()**2 * self.E()**(-2/3) * (Y/2.5e-4))**0.533 * 1e15   # M_solar\n",
    "        \n",
    "\n",
    "\n",
    "    def D_plus(self, Om = 0.2815):\n",
    "\n",
    "        \"\"\"\n",
    "        HMF paper\n",
    "        \"\"\"\n",
    "        integrand = lambda z_: (1 + z_)/self.E()**3\n",
    "        I = quad(integrand, self.z, np.inf, limit = 900)[0]\n",
    "\n",
    "        return 5./2 * Om * self.E() * I\n",
    "    \n",
    "    \n",
    "    def D_plus_0(self, Om = 0.2815):\n",
    "\n",
    "        \"\"\"\n",
    "        HMF paper\n",
    "        \"\"\"\n",
    "        integrand = lambda z_: (1 + z_)/self.E()**3\n",
    "        I = quad(integrand, 0.0, np.inf, limit = 900)[0]\n",
    "\n",
    "        return 5./2 * Om * self.E() * I\n",
    "\n",
    "\n",
    "    def d(self):\n",
    "\n",
    "        \"\"\"\n",
    "        Eq.11, HMF paper\n",
    "        \"\"\"\n",
    "        \n",
    "        return self.D_plus()/self.D_plus_0()\n",
    "        \n",
    "        \n",
    "    def R(self, M):\n",
    "    \n",
    "        \"\"\"\n",
    "        Radius of virialized mass\n",
    "        \"\"\"\n",
    "        \n",
    "        return ((3.0 * M)/(4.0 * np.pi * rho_0))**0.33    \n",
    "        \n",
    "        \n",
    "    def W(self, M):\n",
    "    \n",
    "        \"\"\"\n",
    "        Top-hat Window function, M in units of M_sun\n",
    "        \"\"\"\n",
    "        \n",
    "        return 3.0 * (np.sin(self.Ks() * self.R(M)) - (self.Ks()*self.R(M)) * np.cos(self.Ks()*self.R(M)))/(self.Ks()*self.R(M))**3.0\n",
    "        \n",
    "    \n",
    "    def sigma_squared(self, M, j = 0):\n",
    "    \n",
    "        \"\"\"\n",
    "        Mass variance. arXiv:0712.0034v4 eq.1\n",
    "        \"\"\"\n",
    "        K_ = self.Ks()\n",
    "        win = self.W(M)\n",
    "        \n",
    "        I = (K_)**(2. + 2.*j) * self.Ps * win**2\n",
    "    \n",
    "        return 1.0/(2.0*np.pi**2) * trapz(I, x = K_)\n",
    "    \n",
    "    \n",
    "    def nu(self, M):\n",
    "    \n",
    "        \"\"\"\n",
    "        Peak height\n",
    "        \"\"\"\n",
    "        \n",
    "        return delta_crit/np.sqrt(self.sigma_squared(M))\n",
    "    \n",
    "    \n",
    "    def b_L(self, M):\n",
    "    \n",
    "        \"\"\"\n",
    "        Linear bias\n",
    "        \"\"\"\n",
    "        a, p = 0.75, 0.3\n",
    "        \n",
    "        nu_ = delta_crit/np.sqrt(self.sigma_squared(M))\n",
    "\n",
    "        return 1 + (a * nu_**2 - 1)/delta_crit + 2 * p/(delta_crit * (1 + (a * nu_**2)**p))\n",
    "    \n",
    "    \n",
    "    def dW2dM(self, M):\n",
    "    \n",
    "        \"\"\"\n",
    "        From HMF paper\n",
    "        \"\"\"\n",
    "        k = self.Ks()\n",
    "        return (np.sin(k * self.R(M)) - k * self.R(M) * np.cos(k*self.R(M))) * (np.sin(k*self.R(M)) * (1 - 3./(k*self.R(M))**2) \n",
    "                + 3 * np.cos(k*self.R(M))/(k*self.R(M)))\n",
    "\n",
    "\n",
    "    def dlnsdlnM(self, M):\n",
    "\n",
    "        \"\"\"\n",
    "        dlnSigma/dlnM from HMF paper\n",
    "        \"\"\"\n",
    "        K_ = self.Ks()\n",
    "        I = self.Ps/(K_**2) * self.dW2dM(M)\n",
    "        \n",
    "        return (3./(2 * np.pi**2 * self.R(M)**4 * self.sigma_squared(M))) * simps(I, K_)\n",
    "\n",
    "\n",
    "    def f_J(self, M):\n",
    "\n",
    "        \"\"\"\n",
    "        Jenkins fitting function (There is a typo in HMF?)\n",
    "        \"\"\"\n",
    "        s = np.sqrt(self.sigma_squared(M))\n",
    "\n",
    "        return 0.315 * np.exp(-np.absolute(0.61 + np.log(s**(-1.)*self.d()))**(3.8))\n",
    "    \n",
    "    \n",
    "    def f_T(self, M):\n",
    "    \n",
    "        \"\"\"\n",
    "        Tinker fitting function\n",
    "        \"\"\"\n",
    "        \n",
    "        return None\n",
    "\n",
    "\n",
    "    def dndlnM(self, M):\n",
    "\n",
    "        \"\"\"\n",
    "        n(M,z)\n",
    "        \"\"\"\n",
    "        \n",
    "        return (rho_0/M) * self.f_J(M) * np.absolute(self.dlnsdlnM(M))\n",
    "\n",
    "\n",
    "    def dndM(self, M):\n",
    "\n",
    "        \"\"\"\n",
    "        n(M,z)\n",
    "        \"\"\"\n",
    "        return (rho_0/M**2) * self.f_J(M) * np.absolute(self.dlnsdlnM(M))\n",
    "\n",
    "\n",
    "    def b_eff(self, m):     #b_eff(self, M, m):\n",
    "\n",
    "        \"\"\"\n",
    "        \"\"\"\n",
    "        bL = np.array([self.b_L(M_) for M_ in self.Md()])\n",
    "        nM = np.array([self.dndlnM(M_) for M_ in self.Md()])\n",
    "        \n",
    "        ERF = np.array([erfc(xm(self.z, M_, self.Mlim, m)) - erfc(xm(self.z, M_, self.Mlim, m + 1)) for M_ in self.Md()])\n",
    "        bias = trapz(nM * bL * ERF, x = self.Md())/ trapz(nM * ERF, x = self.Md())\n",
    "        \n",
    "        return bias\n",
    "    \n",
    "    \n",
    "    def Ph_mn(self, m, n):\n",
    "        \n",
    "        \"\"\"\n",
    "        Galaxy power spectrum\n",
    "        \"\"\"\n",
    "        \n",
    "        bm = self.b_eff(m)\n",
    "        bn = self.b_eff(n)\n",
    "        \n",
    "        return bm * bn * self.Ps\n",
    "    \n",
    "    \n",
    "    def Veff_mn(self, m, n):\n",
    "    \n",
    "        \"\"\"\n",
    "\n",
    "        \"\"\"\n",
    "\n",
    "        Pmn = self.b_eff(m) * self.b_eff(n) * self.Ps\n",
    "        Pnm = self.b_eff(n) * self.b_eff(m) * self.Ps\n",
    "        Pmm = self.b_eff(m) * self.b_eff(m) * self.Ps\n",
    "        Pnn = self.b_eff(n) * self.b_eff(n) * self.Ps\n",
    "\n",
    "        Mpl = self.Md()[self.Md() < 1e16]\n",
    "        nm = self.dndlnM(Mpl[m])\n",
    "        nn = self.dndlnM(Mpl[n])\n",
    "\n",
    "        n_ = (Pmn)**2 * nm * nn\n",
    "\n",
    "        delta_nm = 1 if n == m else 0\n",
    "        d1 = (nm * Pmm + 1) * (nn * Pnn + 1)    \n",
    "        d2 = nm * nn * (Pnm + delta_nm/nm)**2\n",
    "\n",
    "        return n_/(d1 + d2)\n",
    "    \n",
    "    \n",
    "    def dlnPhdp(self, m, n, some parameter, the delta of that parameter):\n",
    "        \n",
    "        \"\"\"\n",
    "        Karime: This can be the derivative term\n",
    "        use the Ph_mn above to caluclate the log derivative term needed in the Fisher\n",
    "        \n",
    "        \"\"\"\n",
    "        \n",
    "        return np.log(Ph_mn(m,n))\n",
    "    "
   ]
  },
  {
   "cell_type": "code",
   "execution_count": 18,
   "metadata": {
    "code_folding": []
   },
   "outputs": [],
   "source": [
    "def BM(z):\n",
    "    \n",
    "    \"\"\"\n",
    "    Calibration parameter\n",
    "    \"\"\"\n",
    "    BM0 = 0.0\n",
    "    alpha = 0.0\n",
    "    \n",
    "    return BM0 * (1 + alpha)\n",
    "\n",
    "\n",
    "def sigmaLnM(z):\n",
    "    \n",
    "    \"\"\"\n",
    "    Calibration parameter\n",
    "    \"\"\"\n",
    "    beta = 0.0\n",
    "    sLnM0 = 0.2 # random value\n",
    "    \n",
    "    return sLnM0 * (1 + z)**beta\n",
    "\n",
    "\n",
    "def xm(z, M, Mthr, m):\n",
    "    \n",
    "    \"\"\"\n",
    "    \n",
    "    \"\"\"\n",
    "    DlnM = 0.3\n",
    "    #Mthr = 1e14 # what is this\n",
    "    \n",
    "    #return (np.log(Mthr) + (m * np.log(DlnM)) - BM(z) - np.log(M))/np.sqrt(2*sigmaLnM(z)**2)\n",
    "    return (np.log(Mthr) + m * DlnM - BM(z) - np.log(M))/np.sqrt(2*sigmaLnM(z)**2)\n"
   ]
  },
  {
   "cell_type": "code",
   "execution_count": 19,
   "metadata": {},
   "outputs": [],
   "source": [
    "#H0 = 69.7, ombh2 = 0.02256, omch2 = 0.1142\n",
    "# Karime: Create a dict like the way i did with the C_l_TT case for all parameters\n",
    "p = {}"
   ]
  },
  {
   "cell_type": "code",
   "execution_count": 26,
   "metadata": {},
   "outputs": [],
   "source": [
    "kmin, kmax, N = 1e-4, 5.0, 2500\n",
    "Ks = np.linspace(kmin, kmax, N)\n",
    "dK = Ks[333] - Ks[332]\n",
    "z1 = 0.25\n",
    "y200rhoc = 2e-3   # arcmin^2\n",
    "\n",
    "c1 = Cosmos(z1, *[kmin, kmax, N], y200rhoc,\n",
    "            H0 = 119.7, ombh2 = 0.02256, omch2 = 0.1142, w0 = -1.0, ns = 0.97)\n",
    "\n",
    "c1.setPower()\n",
    "c1.setMlim()"
   ]
  },
  {
   "cell_type": "code",
   "execution_count": 27,
   "metadata": {},
   "outputs": [
    {
     "name": "stderr",
     "output_type": "stream",
     "text": [
      "/home/maamari/.local/lib/python3.6/site-packages/ipykernel_launcher.py:104: IntegrationWarning: The integral is probably divergent, or slowly convergent.\n",
      "/home/maamari/.local/lib/python3.6/site-packages/ipykernel_launcher.py:115: IntegrationWarning: The integral is probably divergent, or slowly convergent.\n"
     ]
    }
   ],
   "source": [
    "Ph_11 = c1.Ph_mn(1, 1)\n",
    "Ph_22 = c1.Ph_mn(1, 3)"
   ]
  },
  {
   "cell_type": "code",
   "execution_count": 28,
   "metadata": {},
   "outputs": [
    {
     "data": {
      "image/png": "[encoded data removed]",
      "text/plain": [
       "<Figure size 432x288 with 1 Axes>"
      ]
     },
     "metadata": {
      "needs_background": "light"
     },
     "output_type": "display_data"
    }
   ],
   "source": [
    "plt.loglog(Ks, c1.Ps, label = 'DM power spectrum')\n",
    "plt.loglog(Ks, Ph_11, label = 'Halo power spectrum [11]')\n",
    "plt.loglog(Ks, Ph_22, label = 'Halo power spectrum [22]')\n",
    "\n",
    "plt.legend();"
   ]
  },
  {
   "cell_type": "markdown",
   "metadata": {},
   "source": [
    "\\begin{equation}\n",
    "\\large\n",
    "F_{\\alpha \\beta} = \\frac{1}{(2\\pi)^2} \\sum_{m, n}\\sum_{l, i}\\frac{\\partial \\ln P_{h}^{mn}(k_i, z_l)}{\\partial p_{\\alpha}} \\frac{\\partial \\ln P_{h}^{mn}(k_i, z_l)}{\\partial p_{\\beta}} V^{mn}_{l i}k_i^2 \\Delta k\n",
    "\\end{equation}"
   ]
  },
  {
   "cell_type": "code",
   "execution_count": 132,
   "metadata": {},
   "outputs": [],
   "source": [
    "p = {'H0': 69.7, 'ombh2': 0.02256, 'omch2': 0.1142}\n",
    "kmin, kmax, N = 1e-4, 5.0, 2500\n",
    "Ks = np.linspace(kmin, kmax, N)\n",
    "dK = Ks[333] - Ks[332]\n",
    "zs = [0.1,0.2,0.3]"
   ]
  },
  {
   "cell_type": "code",
   "execution_count": 133,
   "metadata": {},
   "outputs": [
    {
     "name": "stdout",
     "output_type": "stream",
     "text": [
      "m= 0\n",
      "\t n= 0\n"
     ]
    },
    {
     "name": "stderr",
     "output_type": "stream",
     "text": [
      "/home/maamari/.local/lib/python3.6/site-packages/ipykernel_launcher.py:104: IntegrationWarning: The integral is probably divergent, or slowly convergent.\n",
      "/home/maamari/.local/lib/python3.6/site-packages/ipykernel_launcher.py:115: IntegrationWarning: The integral is probably divergent, or slowly convergent.\n"
     ]
    },
    {
     "name": "stdout",
     "output_type": "stream",
     "text": [
      "\t n= 1\n",
      "\t n= 2\n",
      "\t n= 3\n",
      "\t n= 4\n",
      "\t n= 5\n",
      "\t n= 6\n",
      "\t n= 7\n",
      "\t n= 8\n",
      "\t n= 9\n",
      "m= 1\n",
      "\t n= 0\n",
      "\t n= 1\n",
      "\t n= 2\n"
     ]
    },
    {
     "ename": "KeyboardInterrupt",
     "evalue": "",
     "output_type": "error",
     "traceback": [
      "\u001b[0;31m---------------------------------------------------------------------------\u001b[0m",
      "\u001b[0;31mKeyboardInterrupt\u001b[0m                         Traceback (most recent call last)",
      "\u001b[0;32m<ipython-input-133-5c79633c344f>\u001b[0m in \u001b[0;36m<module>\u001b[0;34m\u001b[0m\n\u001b[1;32m     15\u001b[0m         \u001b[0;32mfor\u001b[0m \u001b[0mn\u001b[0m \u001b[0;32min\u001b[0m \u001b[0mrange\u001b[0m\u001b[0;34m(\u001b[0m\u001b[0;36m10\u001b[0m\u001b[0;34m)\u001b[0m\u001b[0;34m:\u001b[0m\u001b[0;34m\u001b[0m\u001b[0;34m\u001b[0m\u001b[0m\n\u001b[1;32m     16\u001b[0m             \u001b[0mprint\u001b[0m\u001b[0;34m(\u001b[0m\u001b[0;34m\"\\t n=\"\u001b[0m\u001b[0;34m,\u001b[0m\u001b[0mn\u001b[0m\u001b[0;34m)\u001b[0m\u001b[0;34m\u001b[0m\u001b[0;34m\u001b[0m\u001b[0m\n\u001b[0;32m---> 17\u001b[0;31m             \u001b[0mdlnPhdp\u001b[0m \u001b[0;34m=\u001b[0m \u001b[0;34m(\u001b[0m\u001b[0mnp\u001b[0m\u001b[0;34m.\u001b[0m\u001b[0mlog\u001b[0m\u001b[0;34m(\u001b[0m\u001b[0mc1\u001b[0m\u001b[0;34m.\u001b[0m\u001b[0mPh_mn\u001b[0m\u001b[0;34m(\u001b[0m\u001b[0mm\u001b[0m\u001b[0;34m,\u001b[0m\u001b[0mn\u001b[0m\u001b[0;34m)\u001b[0m\u001b[0;34m)\u001b[0m\u001b[0;34m-\u001b[0m\u001b[0mnp\u001b[0m\u001b[0;34m.\u001b[0m\u001b[0mlog\u001b[0m\u001b[0;34m(\u001b[0m\u001b[0mc\u001b[0m\u001b[0;34m.\u001b[0m\u001b[0mPh_mn\u001b[0m\u001b[0;34m(\u001b[0m\u001b[0mm\u001b[0m\u001b[0;34m,\u001b[0m\u001b[0mn\u001b[0m\u001b[0;34m)\u001b[0m\u001b[0;34m)\u001b[0m\u001b[0;34m)\u001b[0m\u001b[0;34m/\u001b[0m\u001b[0;34m(\u001b[0m\u001b[0mp\u001b[0m\u001b[0;34m[\u001b[0m\u001b[0;34m'H0'\u001b[0m\u001b[0;34m]\u001b[0m\u001b[0;34m*\u001b[0m\u001b[0;36m0.01\u001b[0m\u001b[0;34m)\u001b[0m\u001b[0;34m\u001b[0m\u001b[0;34m\u001b[0m\u001b[0m\n\u001b[0m\u001b[1;32m     18\u001b[0m             \u001b[0mF00\u001b[0m \u001b[0;34m+=\u001b[0m \u001b[0mnp\u001b[0m\u001b[0;34m.\u001b[0m\u001b[0msum\u001b[0m\u001b[0;34m(\u001b[0m\u001b[0mdlnPhdp\u001b[0m \u001b[0;34m*\u001b[0m \u001b[0mdlnPhdp\u001b[0m \u001b[0;34m*\u001b[0m \u001b[0mc\u001b[0m\u001b[0;34m.\u001b[0m\u001b[0mVeff_mn\u001b[0m\u001b[0;34m(\u001b[0m\u001b[0mm\u001b[0m\u001b[0;34m,\u001b[0m\u001b[0mn\u001b[0m\u001b[0;34m)\u001b[0m \u001b[0;34m*\u001b[0m \u001b[0mKs\u001b[0m\u001b[0;34m**\u001b[0m\u001b[0;36m2\u001b[0m \u001b[0;34m*\u001b[0m \u001b[0mdK\u001b[0m\u001b[0;34m)\u001b[0m\u001b[0;34m\u001b[0m\u001b[0;34m\u001b[0m\u001b[0m\n\u001b[1;32m     19\u001b[0m \u001b[0;34m\u001b[0m\u001b[0m\n",
      "\u001b[0;32m<ipython-input-17-0799cf370fd1>\u001b[0m in \u001b[0;36mPh_mn\u001b[0;34m(self, m, n)\u001b[0m\n\u001b[1;32m    255\u001b[0m         \"\"\"\n\u001b[1;32m    256\u001b[0m \u001b[0;34m\u001b[0m\u001b[0m\n\u001b[0;32m--> 257\u001b[0;31m         \u001b[0mbm\u001b[0m \u001b[0;34m=\u001b[0m \u001b[0mself\u001b[0m\u001b[0;34m.\u001b[0m\u001b[0mb_eff\u001b[0m\u001b[0;34m(\u001b[0m\u001b[0mm\u001b[0m\u001b[0;34m)\u001b[0m\u001b[0;34m\u001b[0m\u001b[0;34m\u001b[0m\u001b[0m\n\u001b[0m\u001b[1;32m    258\u001b[0m         \u001b[0mbn\u001b[0m \u001b[0;34m=\u001b[0m \u001b[0mself\u001b[0m\u001b[0;34m.\u001b[0m\u001b[0mb_eff\u001b[0m\u001b[0;34m(\u001b[0m\u001b[0mn\u001b[0m\u001b[0;34m)\u001b[0m\u001b[0;34m\u001b[0m\u001b[0;34m\u001b[0m\u001b[0m\n\u001b[1;32m    259\u001b[0m \u001b[0;34m\u001b[0m\u001b[0m\n",
      "\u001b[0;32m<ipython-input-17-0799cf370fd1>\u001b[0m in \u001b[0;36mb_eff\u001b[0;34m(self, m)\u001b[0m\n\u001b[1;32m    240\u001b[0m         \"\"\"\n\u001b[1;32m    241\u001b[0m         \"\"\"\n\u001b[0;32m--> 242\u001b[0;31m         \u001b[0mbL\u001b[0m \u001b[0;34m=\u001b[0m \u001b[0mnp\u001b[0m\u001b[0;34m.\u001b[0m\u001b[0marray\u001b[0m\u001b[0;34m(\u001b[0m\u001b[0;34m[\u001b[0m\u001b[0mself\u001b[0m\u001b[0;34m.\u001b[0m\u001b[0mb_L\u001b[0m\u001b[0;34m(\u001b[0m\u001b[0mM_\u001b[0m\u001b[0;34m)\u001b[0m \u001b[0;32mfor\u001b[0m \u001b[0mM_\u001b[0m \u001b[0;32min\u001b[0m \u001b[0mself\u001b[0m\u001b[0;34m.\u001b[0m\u001b[0mMd\u001b[0m\u001b[0;34m(\u001b[0m\u001b[0;34m)\u001b[0m\u001b[0;34m]\u001b[0m\u001b[0;34m)\u001b[0m\u001b[0;34m\u001b[0m\u001b[0;34m\u001b[0m\u001b[0m\n\u001b[0m\u001b[1;32m    243\u001b[0m         \u001b[0mnM\u001b[0m \u001b[0;34m=\u001b[0m \u001b[0mnp\u001b[0m\u001b[0;34m.\u001b[0m\u001b[0marray\u001b[0m\u001b[0;34m(\u001b[0m\u001b[0;34m[\u001b[0m\u001b[0mself\u001b[0m\u001b[0;34m.\u001b[0m\u001b[0mdndlnM\u001b[0m\u001b[0;34m(\u001b[0m\u001b[0mM_\u001b[0m\u001b[0;34m)\u001b[0m \u001b[0;32mfor\u001b[0m \u001b[0mM_\u001b[0m \u001b[0;32min\u001b[0m \u001b[0mself\u001b[0m\u001b[0;34m.\u001b[0m\u001b[0mMd\u001b[0m\u001b[0;34m(\u001b[0m\u001b[0;34m)\u001b[0m\u001b[0;34m]\u001b[0m\u001b[0;34m)\u001b[0m\u001b[0;34m\u001b[0m\u001b[0;34m\u001b[0m\u001b[0m\n\u001b[1;32m    244\u001b[0m \u001b[0;34m\u001b[0m\u001b[0m\n",
      "\u001b[0;32m<ipython-input-17-0799cf370fd1>\u001b[0m in \u001b[0;36m<listcomp>\u001b[0;34m(.0)\u001b[0m\n\u001b[1;32m    240\u001b[0m         \"\"\"\n\u001b[1;32m    241\u001b[0m         \"\"\"\n\u001b[0;32m--> 242\u001b[0;31m         \u001b[0mbL\u001b[0m \u001b[0;34m=\u001b[0m \u001b[0mnp\u001b[0m\u001b[0;34m.\u001b[0m\u001b[0marray\u001b[0m\u001b[0;34m(\u001b[0m\u001b[0;34m[\u001b[0m\u001b[0mself\u001b[0m\u001b[0;34m.\u001b[0m\u001b[0mb_L\u001b[0m\u001b[0;34m(\u001b[0m\u001b[0mM_\u001b[0m\u001b[0;34m)\u001b[0m \u001b[0;32mfor\u001b[0m \u001b[0mM_\u001b[0m \u001b[0;32min\u001b[0m \u001b[0mself\u001b[0m\u001b[0;34m.\u001b[0m\u001b[0mMd\u001b[0m\u001b[0;34m(\u001b[0m\u001b[0;34m)\u001b[0m\u001b[0;34m]\u001b[0m\u001b[0;34m)\u001b[0m\u001b[0;34m\u001b[0m\u001b[0;34m\u001b[0m\u001b[0m\n\u001b[0m\u001b[1;32m    243\u001b[0m         \u001b[0mnM\u001b[0m \u001b[0;34m=\u001b[0m \u001b[0mnp\u001b[0m\u001b[0;34m.\u001b[0m\u001b[0marray\u001b[0m\u001b[0;34m(\u001b[0m\u001b[0;34m[\u001b[0m\u001b[0mself\u001b[0m\u001b[0;34m.\u001b[0m\u001b[0mdndlnM\u001b[0m\u001b[0;34m(\u001b[0m\u001b[0mM_\u001b[0m\u001b[0;34m)\u001b[0m \u001b[0;32mfor\u001b[0m \u001b[0mM_\u001b[0m \u001b[0;32min\u001b[0m \u001b[0mself\u001b[0m\u001b[0;34m.\u001b[0m\u001b[0mMd\u001b[0m\u001b[0;34m(\u001b[0m\u001b[0;34m)\u001b[0m\u001b[0;34m]\u001b[0m\u001b[0;34m)\u001b[0m\u001b[0;34m\u001b[0m\u001b[0;34m\u001b[0m\u001b[0m\n\u001b[1;32m    244\u001b[0m \u001b[0;34m\u001b[0m\u001b[0m\n",
      "\u001b[0;32m<ipython-input-17-0799cf370fd1>\u001b[0m in \u001b[0;36mb_L\u001b[0;34m(self, M)\u001b[0m\n\u001b[1;32m    174\u001b[0m         \u001b[0ma\u001b[0m\u001b[0;34m,\u001b[0m \u001b[0mp\u001b[0m \u001b[0;34m=\u001b[0m \u001b[0;36m0.75\u001b[0m\u001b[0;34m,\u001b[0m \u001b[0;36m0.3\u001b[0m\u001b[0;34m\u001b[0m\u001b[0;34m\u001b[0m\u001b[0m\n\u001b[1;32m    175\u001b[0m \u001b[0;34m\u001b[0m\u001b[0m\n\u001b[0;32m--> 176\u001b[0;31m         \u001b[0mnu_\u001b[0m \u001b[0;34m=\u001b[0m \u001b[0mdelta_crit\u001b[0m\u001b[0;34m/\u001b[0m\u001b[0mnp\u001b[0m\u001b[0;34m.\u001b[0m\u001b[0msqrt\u001b[0m\u001b[0;34m(\u001b[0m\u001b[0mself\u001b[0m\u001b[0;34m.\u001b[0m\u001b[0msigma_squared\u001b[0m\u001b[0;34m(\u001b[0m\u001b[0mM\u001b[0m\u001b[0;34m)\u001b[0m\u001b[0;34m)\u001b[0m\u001b[0;34m\u001b[0m\u001b[0;34m\u001b[0m\u001b[0m\n\u001b[0m\u001b[1;32m    177\u001b[0m \u001b[0;34m\u001b[0m\u001b[0m\n\u001b[1;32m    178\u001b[0m         \u001b[0;32mreturn\u001b[0m \u001b[0;36m1\u001b[0m \u001b[0;34m+\u001b[0m \u001b[0;34m(\u001b[0m\u001b[0ma\u001b[0m \u001b[0;34m*\u001b[0m \u001b[0mnu_\u001b[0m\u001b[0;34m**\u001b[0m\u001b[0;36m2\u001b[0m \u001b[0;34m-\u001b[0m \u001b[0;36m1\u001b[0m\u001b[0;34m)\u001b[0m\u001b[0;34m/\u001b[0m\u001b[0mdelta_crit\u001b[0m \u001b[0;34m+\u001b[0m \u001b[0;36m2\u001b[0m \u001b[0;34m*\u001b[0m \u001b[0mp\u001b[0m\u001b[0;34m/\u001b[0m\u001b[0;34m(\u001b[0m\u001b[0mdelta_crit\u001b[0m \u001b[0;34m*\u001b[0m \u001b[0;34m(\u001b[0m\u001b[0;36m1\u001b[0m \u001b[0;34m+\u001b[0m \u001b[0;34m(\u001b[0m\u001b[0ma\u001b[0m \u001b[0;34m*\u001b[0m \u001b[0mnu_\u001b[0m\u001b[0;34m**\u001b[0m\u001b[0;36m2\u001b[0m\u001b[0;34m)\u001b[0m\u001b[0;34m**\u001b[0m\u001b[0mp\u001b[0m\u001b[0;34m)\u001b[0m\u001b[0;34m)\u001b[0m\u001b[0;34m\u001b[0m\u001b[0;34m\u001b[0m\u001b[0m\n",
      "\u001b[0;32m<ipython-input-17-0799cf370fd1>\u001b[0m in \u001b[0;36msigma_squared\u001b[0;34m(self, M, j)\u001b[0m\n\u001b[1;32m    151\u001b[0m         \"\"\"\n\u001b[1;32m    152\u001b[0m         \u001b[0mK_\u001b[0m \u001b[0;34m=\u001b[0m \u001b[0mself\u001b[0m\u001b[0;34m.\u001b[0m\u001b[0mKs\u001b[0m\u001b[0;34m(\u001b[0m\u001b[0;34m)\u001b[0m\u001b[0;34m\u001b[0m\u001b[0;34m\u001b[0m\u001b[0m\n\u001b[0;32m--> 153\u001b[0;31m         \u001b[0mwin\u001b[0m \u001b[0;34m=\u001b[0m \u001b[0mself\u001b[0m\u001b[0;34m.\u001b[0m\u001b[0mW\u001b[0m\u001b[0;34m(\u001b[0m\u001b[0mM\u001b[0m\u001b[0;34m)\u001b[0m\u001b[0;34m\u001b[0m\u001b[0;34m\u001b[0m\u001b[0m\n\u001b[0m\u001b[1;32m    154\u001b[0m \u001b[0;34m\u001b[0m\u001b[0m\n\u001b[1;32m    155\u001b[0m         \u001b[0mI\u001b[0m \u001b[0;34m=\u001b[0m \u001b[0;34m(\u001b[0m\u001b[0mK_\u001b[0m\u001b[0;34m)\u001b[0m\u001b[0;34m**\u001b[0m\u001b[0;34m(\u001b[0m\u001b[0;36m2.\u001b[0m \u001b[0;34m+\u001b[0m \u001b[0;36m2.\u001b[0m\u001b[0;34m*\u001b[0m\u001b[0mj\u001b[0m\u001b[0;34m)\u001b[0m \u001b[0;34m*\u001b[0m \u001b[0mself\u001b[0m\u001b[0;34m.\u001b[0m\u001b[0mPs\u001b[0m \u001b[0;34m*\u001b[0m \u001b[0mwin\u001b[0m\u001b[0;34m**\u001b[0m\u001b[0;36m2\u001b[0m\u001b[0;34m\u001b[0m\u001b[0;34m\u001b[0m\u001b[0m\n",
      "\u001b[0;32m<ipython-input-17-0799cf370fd1>\u001b[0m in \u001b[0;36mW\u001b[0;34m(self, M)\u001b[0m\n\u001b[1;32m    142\u001b[0m         \"\"\"\n\u001b[1;32m    143\u001b[0m \u001b[0;34m\u001b[0m\u001b[0m\n\u001b[0;32m--> 144\u001b[0;31m         \u001b[0;32mreturn\u001b[0m \u001b[0;36m3.0\u001b[0m \u001b[0;34m*\u001b[0m \u001b[0;34m(\u001b[0m\u001b[0mnp\u001b[0m\u001b[0;34m.\u001b[0m\u001b[0msin\u001b[0m\u001b[0;34m(\u001b[0m\u001b[0mself\u001b[0m\u001b[0;34m.\u001b[0m\u001b[0mKs\u001b[0m\u001b[0;34m(\u001b[0m\u001b[0;34m)\u001b[0m \u001b[0;34m*\u001b[0m \u001b[0mself\u001b[0m\u001b[0;34m.\u001b[0m\u001b[0mR\u001b[0m\u001b[0;34m(\u001b[0m\u001b[0mM\u001b[0m\u001b[0;34m)\u001b[0m\u001b[0;34m)\u001b[0m \u001b[0;34m-\u001b[0m \u001b[0;34m(\u001b[0m\u001b[0mself\u001b[0m\u001b[0;34m.\u001b[0m\u001b[0mKs\u001b[0m\u001b[0;34m(\u001b[0m\u001b[0;34m)\u001b[0m\u001b[0;34m*\u001b[0m\u001b[0mself\u001b[0m\u001b[0;34m.\u001b[0m\u001b[0mR\u001b[0m\u001b[0;34m(\u001b[0m\u001b[0mM\u001b[0m\u001b[0;34m)\u001b[0m\u001b[0;34m)\u001b[0m \u001b[0;34m*\u001b[0m \u001b[0mnp\u001b[0m\u001b[0;34m.\u001b[0m\u001b[0mcos\u001b[0m\u001b[0;34m(\u001b[0m\u001b[0mself\u001b[0m\u001b[0;34m.\u001b[0m\u001b[0mKs\u001b[0m\u001b[0;34m(\u001b[0m\u001b[0;34m)\u001b[0m\u001b[0;34m*\u001b[0m\u001b[0mself\u001b[0m\u001b[0;34m.\u001b[0m\u001b[0mR\u001b[0m\u001b[0;34m(\u001b[0m\u001b[0mM\u001b[0m\u001b[0;34m)\u001b[0m\u001b[0;34m)\u001b[0m\u001b[0;34m)\u001b[0m\u001b[0;34m/\u001b[0m\u001b[0;34m(\u001b[0m\u001b[0mself\u001b[0m\u001b[0;34m.\u001b[0m\u001b[0mKs\u001b[0m\u001b[0;34m(\u001b[0m\u001b[0;34m)\u001b[0m\u001b[0;34m*\u001b[0m\u001b[0mself\u001b[0m\u001b[0;34m.\u001b[0m\u001b[0mR\u001b[0m\u001b[0;34m(\u001b[0m\u001b[0mM\u001b[0m\u001b[0;34m)\u001b[0m\u001b[0;34m)\u001b[0m\u001b[0;34m**\u001b[0m\u001b[0;36m3.0\u001b[0m\u001b[0;34m\u001b[0m\u001b[0;34m\u001b[0m\u001b[0m\n\u001b[0m\u001b[1;32m    145\u001b[0m \u001b[0;34m\u001b[0m\u001b[0m\n\u001b[1;32m    146\u001b[0m \u001b[0;34m\u001b[0m\u001b[0m\n",
      "\u001b[0;31mKeyboardInterrupt\u001b[0m: "
     ]
    }
   ],
   "source": [
    "F00 = 0.0\n",
    "\n",
    "for z in zs:\n",
    "\n",
    "    c = Cosmos(z, kmin, kmax, N, H0=p['H0'])\n",
    "    c.setPower()\n",
    "    c.setMlim()\n",
    "\n",
    "    c1 = Cosmos(z, kmin, kmax, N, H0=1.01*p['H0'])\n",
    "    c1.setPower()\n",
    "    c1.setMlim()\n",
    "\n",
    "    for m in range(10):\n",
    "        print(\"m=\",m)\n",
    "        for n in range(10):\n",
    "            print(\"\\t n=\",n)\n",
    "            dlnPhdp = (np.log(c1.Ph_mn(m,n))-np.log(c.Ph_mn(m,n)))/(p['H0']*0.01)\n",
    "            F00 += np.sum(dlnPhdp * dlnPhdp * c.Veff_mn(m,n) * Ks**2 * dK)  \n",
    "\n",
    "print(\"F00=\",F00)"
   ]
  },
  {
   "cell_type": "code",
   "execution_count": null,
   "metadata": {},
   "outputs": [],
   "source": [
    "F01 = 0.0\n",
    "\n",
    "for z in zs:\n",
    "\n",
    "    c = Cosmos(z, kmin, kmax, N, H0=p['H0'])\n",
    "    c.setPower()\n",
    "    c.setMlim()\n",
    "\n",
    "    c1 = Cosmos(z, kmin, kmax, N, H0=1.01*p['H0'])\n",
    "    c1.setPower()\n",
    "    c1.setMlim()\n",
    "\n",
    "    c3 = Cosmos(z, kmin, kmax, N, ombh2=p['ombh2'])\n",
    "    c3.setPower()\n",
    "    c3.setMlim()\n",
    "\n",
    "    c4 = Cosmos(z, kmin, kmax, N, ombh2=1.01*p['ombh2'])\n",
    "    c4.setPower()\n",
    "    c4.setMlim()\n",
    "    \n",
    "    for m in range(10):\n",
    "        print(\"m=\",m)\n",
    "        for n in range(10):\n",
    "            print(\"\\t n=\",n)\n",
    "            dlnPhdp1 = (np.log(c1.Ph_mn(m,n))-np.log(c.Ph_mn(m,n)))/(p['H0']*0.01)\n",
    "            dlnPhdp2 = (np.log(c4.Ph_mn(m,n))-np.log(c3.Ph_mn(m,n)))/(p['ombh2']*0.01)\n",
    "\n",
    "            F01 += np.sum(dlnPhdp1 * dlnPhdp2 * c.Veff_mn(m,n) * Ks**2 * dK)  \n",
    "\n",
    "print(\"\\t\",F01)"
   ]
  },
  {
   "cell_type": "code",
   "execution_count": null,
   "metadata": {},
   "outputs": [],
   "source": [
    "F11 = 0.0\n",
    "\n",
    "for z in zs:\n",
    "\n",
    "    c = Cosmos(z, kmin, kmax, N, ombh2=p['ombh2'])\n",
    "    c.setPower()\n",
    "    c.setMlim()\n",
    "\n",
    "    c1 = Cosmos(z, kmin, kmax, N, ombh2=1.01*p['ombh2'])\n",
    "    c1.setPower()\n",
    "    c1.setMlim()\n",
    "\n",
    "    for m in range(10):\n",
    "        print(\"m=\",m)\n",
    "        for n in range(10):\n",
    "            print(\"\\t n=\",n)\n",
    "            dlnPhdp = (np.log(c1.Ph_mn(m,n))-np.log(c.Ph_mn(m,n)))/(p['ombh2']*0.01)\n",
    "            F11 += np.sum(dlnPhdp * dlnPhdp * c.Veff_mn(m,n) * Ks**2 * dK)  \n",
    "\n",
    "print(\"\\t\",F11)"
   ]
  },
  {
   "cell_type": "code",
   "execution_count": null,
   "metadata": {},
   "outputs": [],
   "source": [
    "F22 = 0.0\n",
    "\n",
    "for z in zs:\n",
    "\n",
    "    c = Cosmos(z, kmin, kmax, N, omch2=p['omch2'])\n",
    "    c.setPower()\n",
    "    c.setMlim()\n",
    "\n",
    "    c1 = Cosmos(z, kmin, kmax, N, omch2=1.01*p['omch2'])\n",
    "    c1.setPower()\n",
    "    c1.setMlim()\n",
    "\n",
    "    for m in range(10):\n",
    "        print(\"m=\",m)\n",
    "        for n in range(10):\n",
    "            print(\"\\t n=\",n)\n",
    "            dlnPhdp = (np.log(c1.Ph_mn(m,n))-np.log(c.Ph_mn(m,n)))/(p['omch2']*0.01)\n",
    "            F22 += np.sum(dlnPhdp * dlnPhdp * c.Veff_mn(m,n) * Ks**2 * dK)  \n",
    "\n",
    "print(\"\\t\",F22)"
   ]
  },
  {
   "cell_type": "code",
   "execution_count": null,
   "metadata": {},
   "outputs": [],
   "source": [
    "F12 = 0.0\n",
    "\n",
    "for z in zs:\n",
    "\n",
    "    c = Cosmos(z, kmin, kmax, N, omch2=p['omch2'])\n",
    "    c.setPower()\n",
    "    c.setMlim()\n",
    "\n",
    "    c1 = Cosmos(z, kmin, kmax, N, omch2=1.01*p['omch2'])\n",
    "    c1.setPower()\n",
    "    c1.setMlim()\n",
    "\n",
    "    c3 = Cosmos(z, kmin, kmax, N, ombh2=p['ombh2'])\n",
    "    c3.setPower()\n",
    "    c3.setMlim()\n",
    "\n",
    "    c4 = Cosmos(z, kmin, kmax, N, ombh2=1.01*p['ombh2'])\n",
    "    c4.setPower()\n",
    "    c4.setMlim()\n",
    "    \n",
    "    for m in range(10):\n",
    "        print(\"m=\",m)\n",
    "        for n in range(10):\n",
    "            print(\"\\t n=\",n)\n",
    "            dlnPhdp1 = (np.log(c1.Ph_mn(m,n))-np.log(c.Ph_mn(m,n)))/(p['omch2']*0.01)\n",
    "            dlnPhdp2 = (np.log(c4.Ph_mn(m,n))-np.log(c3.Ph_mn(m,n)))/(p['ombh2']*0.01)\n",
    "\n",
    "            F12 += np.sum(dlnPhdp1 * dlnPhdp2 * c.Veff_mn(m,n) * Ks**2 * dK)  \n",
    "\n",
    "print(\"\\t\",F12)"
   ]
  },
  {
   "cell_type": "code",
   "execution_count": 131,
   "metadata": {},
   "outputs": [
    {
     "data": {
      "image/png": "[encoded data removed]",
      "text/plain": [
       "<Figure size 504x504 with 1 Axes>"
      ]
     },
     "metadata": {
      "needs_background": "light"
     },
     "output_type": "display_data"
    }
   ],
   "source": [
    "F = np.array([[F11,F12],\n",
    "              [F12,F22]])\n",
    "# F*=2000\n",
    "F_inv = np.linalg.inv(F)\n",
    "F_inv = np.array([[F_inv[0, 0], F_inv[1, 0]], [F_inv[0, 1], F_inv[1, 1]]])\n",
    "F = np.linalg.inv(F_inv)\n",
    "\n",
    "Phisher2.Fisher(F, p['ombh2'], p['omch2'], \n",
    "               'ombh2','omch2', (7, 7))\n",
    "plt.scatter(p['ombh2'], p['omch2'], label = 'Fiducial', color = 'k', s = 50)\n",
    "plt.legend(prop = {'size': 12})\n",
    "plt.margins(1.0);\n",
    "plt.show()"
   ]
  },
  {
   "cell_type": "code",
   "execution_count": 112,
   "metadata": {
    "scrolled": false
   },
   "outputs": [
    {
     "data": {
      "image/png": "[encoded data removed]",
      "text/plain": [
       "<Figure size 504x504 with 1 Axes>"
      ]
     },
     "metadata": {
      "needs_background": "light"
     },
     "output_type": "display_data"
    }
   ],
   "source": [
    "F = np.array([[F00,F01],\n",
    "              [F01,F11]])\n",
    "F*=5000\n",
    "F_inv = np.linalg.inv(F)\n",
    "F_inv = np.array([[F_inv[0, 0], F_inv[1, 0]], [F_inv[0, 1], F_inv[1, 1]]])\n",
    "F = np.linalg.inv(F_inv)\n",
    "\n",
    "Phisher2.Fisher(F, p['H0'], p['ombh2'], \n",
    "               'H0','ombh2', (7, 7))\n",
    "plt.scatter(p['H0'], p['ombh2'], label = 'Fiducial', color = 'k', s = 50)\n",
    "plt.legend(prop = {'size': 12})\n",
    "plt.margins(1.0);\n",
    "plt.show()"
   ]
  },
  {
   "cell_type": "code",
   "execution_count": 94,
   "metadata": {},
   "outputs": [
    {
     "data": {
      "text/plain": [
       "array([[1.0683e-06, 1.5169e-03],\n",
       "       [1.5169e-03, 3.1057e+00]])"
      ]
     },
     "execution_count": 94,
     "metadata": {},
     "output_type": "execute_result"
    }
   ],
   "source": [
    "F"
   ]
  },
  {
   "cell_type": "code",
   "execution_count": 95,
   "metadata": {},
   "outputs": [
    {
     "data": {
      "text/plain": [
       "array([[1.0683e-04, 1.5169e-01],\n",
       "       [1.5169e-01, 3.1057e+02]])"
      ]
     },
     "execution_count": 95,
     "metadata": {},
     "output_type": "execute_result"
    }
   ],
   "source": [
    "F*100"
   ]
  },
  {
   "cell_type": "markdown",
   "metadata": {},
   "source": [
    "---"
   ]
  },
  {
   "cell_type": "code",
   "execution_count": 62,
   "metadata": {},
   "outputs": [],
   "source": [
    "def fisher(ckwargs={},c1kwargs={},c2kwargs={},c3kwargs={}):\n",
    "    \n",
    "    print(list(ckwargs.keys())[0],list(c2kwargs.keys())[0])\n",
    "            \n",
    "    FXX = 0.0\n",
    "\n",
    "    for z in [0.1]:\n",
    "\n",
    "        c = Cosmos(z, kmin, kmax, N, **ckwargs)\n",
    "        c.setPower()\n",
    "        c.setMlim()\n",
    "\n",
    "        c1 = Cosmos(z, kmin, kmax, N, **c1kwargs)\n",
    "        c1.setPower()\n",
    "        c1.setMlim()\n",
    "\n",
    "        c2 = Cosmos(z, kmin, kmax, N, **c2kwargs)\n",
    "        c2.setPower()\n",
    "        c2.setMlim()\n",
    "\n",
    "        c3 = Cosmos(z, kmin, kmax, N, **c3kwargs)\n",
    "        c3.setPower()\n",
    "        c3.setMlim()\n",
    "\n",
    "        for m in range(2):\n",
    "            print(m)\n",
    "            for n in range(2):\n",
    "                print(n)\n",
    "                dlnPhdp1 = (np.log(c1.Ph_mn(m,n))-np.log(c.Ph_mn(m,n)))/(2*(list(ckwargs.values())[0]*0.1))\n",
    "                dlnPhdp2 = (np.log(c3.Ph_mn(m,n))-np.log(c2.Ph_mn(m,n)))/(2*(list(c2kwargs.values())[0]*0.1))            \n",
    "                FXX += np.sum(dlnPhdp1 * dlnPhdp2 * c.Veff_mn(m,n) * Ks**2 * dK)  \n",
    "\n",
    "    print(\"\\t\",FXX)\n",
    "    return FXX"
   ]
  },
  {
   "cell_type": "code",
   "execution_count": 34,
   "metadata": {
    "collapsed": true
   },
   "outputs": [
    {
     "name": "stdout",
     "output_type": "stream",
     "text": [
      "H0 H0\n",
      "0\n",
      "0\n"
     ]
    },
    {
     "name": "stderr",
     "output_type": "stream",
     "text": [
      "/home/maamari/.local/lib/python3.6/site-packages/ipykernel_launcher.py:104: IntegrationWarning: The integral is probably divergent, or slowly convergent.\n",
      "/home/maamari/.local/lib/python3.6/site-packages/ipykernel_launcher.py:115: IntegrationWarning: The integral is probably divergent, or slowly convergent.\n"
     ]
    },
    {
     "name": "stdout",
     "output_type": "stream",
     "text": [
      "1\n",
      "1\n",
      "0\n",
      "1\n",
      "0\n",
      "0\n",
      "1\n",
      "1\n",
      "0\n",
      "1\n",
      "0\n",
      "0\n",
      "1\n",
      "1\n",
      "0\n",
      "1\n",
      "0\n",
      "0\n",
      "1\n",
      "1\n",
      "0\n",
      "1\n",
      "0\n",
      "0\n",
      "1\n",
      "1\n",
      "0\n",
      "1\n",
      "\t 4.1453680293457454e-07\n",
      "H0 Omegab0\n"
     ]
    },
    {
     "ename": "TypeError",
     "evalue": "__init__() got an unexpected keyword argument 'Omegab0'",
     "output_type": "error",
     "traceback": [
      "\u001b[0;31m---------------------------------------------------------------------------\u001b[0m",
      "\u001b[0;31mTypeError\u001b[0m                                 Traceback (most recent call last)",
      "\u001b[0;32m<ipython-input-34-40c1ab2daaf8>\u001b[0m in \u001b[0;36m<module>\u001b[0;34m\u001b[0m\n\u001b[1;32m      1\u001b[0m \u001b[0mF00\u001b[0m \u001b[0;34m=\u001b[0m \u001b[0mfisher\u001b[0m\u001b[0;34m(\u001b[0m\u001b[0;34m{\u001b[0m\u001b[0;34m'H0'\u001b[0m\u001b[0;34m:\u001b[0m\u001b[0mp\u001b[0m\u001b[0;34m[\u001b[0m\u001b[0;34m'H0'\u001b[0m\u001b[0;34m]\u001b[0m\u001b[0;34m}\u001b[0m\u001b[0;34m,\u001b[0m\u001b[0;34m{\u001b[0m\u001b[0;34m'H0'\u001b[0m\u001b[0;34m:\u001b[0m\u001b[0;36m1.1\u001b[0m\u001b[0;34m*\u001b[0m\u001b[0mp\u001b[0m\u001b[0;34m[\u001b[0m\u001b[0;34m'H0'\u001b[0m\u001b[0;34m]\u001b[0m\u001b[0;34m}\u001b[0m\u001b[0;34m,\u001b[0m\u001b[0;34m{\u001b[0m\u001b[0;34m'H0'\u001b[0m\u001b[0;34m:\u001b[0m\u001b[0mp\u001b[0m\u001b[0;34m[\u001b[0m\u001b[0;34m'H0'\u001b[0m\u001b[0;34m]\u001b[0m\u001b[0;34m}\u001b[0m\u001b[0;34m,\u001b[0m\u001b[0;34m{\u001b[0m\u001b[0;34m'H0'\u001b[0m\u001b[0;34m:\u001b[0m\u001b[0;36m1.1\u001b[0m\u001b[0;34m*\u001b[0m\u001b[0mp\u001b[0m\u001b[0;34m[\u001b[0m\u001b[0;34m'H0'\u001b[0m\u001b[0;34m]\u001b[0m\u001b[0;34m}\u001b[0m\u001b[0;34m)\u001b[0m\u001b[0;34m\u001b[0m\u001b[0;34m\u001b[0m\u001b[0m\n\u001b[0;32m----> 2\u001b[0;31m \u001b[0mF01\u001b[0m \u001b[0;34m=\u001b[0m \u001b[0mfisher\u001b[0m\u001b[0;34m(\u001b[0m\u001b[0;34m{\u001b[0m\u001b[0;34m'H0'\u001b[0m\u001b[0;34m:\u001b[0m\u001b[0mp\u001b[0m\u001b[0;34m[\u001b[0m\u001b[0;34m'H0'\u001b[0m\u001b[0;34m]\u001b[0m\u001b[0;34m}\u001b[0m\u001b[0;34m,\u001b[0m\u001b[0;34m{\u001b[0m\u001b[0;34m'H0'\u001b[0m\u001b[0;34m:\u001b[0m\u001b[0;36m1.1\u001b[0m\u001b[0;34m*\u001b[0m\u001b[0mp\u001b[0m\u001b[0;34m[\u001b[0m\u001b[0;34m'H0'\u001b[0m\u001b[0;34m]\u001b[0m\u001b[0;34m}\u001b[0m\u001b[0;34m,\u001b[0m\u001b[0;34m{\u001b[0m\u001b[0;34m'Omegab0'\u001b[0m\u001b[0;34m:\u001b[0m\u001b[0mp\u001b[0m\u001b[0;34m[\u001b[0m\u001b[0;34m'Omegab0'\u001b[0m\u001b[0;34m]\u001b[0m\u001b[0;34m}\u001b[0m\u001b[0;34m,\u001b[0m\u001b[0;34m{\u001b[0m\u001b[0;34m'Omegab0'\u001b[0m\u001b[0;34m:\u001b[0m\u001b[0;36m1.1\u001b[0m\u001b[0;34m*\u001b[0m\u001b[0mp\u001b[0m\u001b[0;34m[\u001b[0m\u001b[0;34m'Omegab0'\u001b[0m\u001b[0;34m]\u001b[0m\u001b[0;34m}\u001b[0m\u001b[0;34m)\u001b[0m\u001b[0;34m\u001b[0m\u001b[0;34m\u001b[0m\u001b[0m\n\u001b[0m\u001b[1;32m      3\u001b[0m \u001b[0mF11\u001b[0m \u001b[0;34m=\u001b[0m \u001b[0mfisher\u001b[0m\u001b[0;34m(\u001b[0m\u001b[0;34m{\u001b[0m\u001b[0;34m'Omegab0'\u001b[0m\u001b[0;34m:\u001b[0m\u001b[0mp\u001b[0m\u001b[0;34m[\u001b[0m\u001b[0;34m'Omegab0'\u001b[0m\u001b[0;34m]\u001b[0m\u001b[0;34m}\u001b[0m\u001b[0;34m,\u001b[0m\u001b[0;34m{\u001b[0m\u001b[0;34m'Omegab0'\u001b[0m\u001b[0;34m:\u001b[0m\u001b[0;36m1.1\u001b[0m\u001b[0;34m*\u001b[0m\u001b[0mp\u001b[0m\u001b[0;34m[\u001b[0m\u001b[0;34m'Omegab0'\u001b[0m\u001b[0;34m]\u001b[0m\u001b[0;34m}\u001b[0m\u001b[0;34m,\u001b[0m\u001b[0;34m{\u001b[0m\u001b[0;34m'Omegab0'\u001b[0m\u001b[0;34m:\u001b[0m\u001b[0mp\u001b[0m\u001b[0;34m[\u001b[0m\u001b[0;34m'Omegab0'\u001b[0m\u001b[0;34m]\u001b[0m\u001b[0;34m}\u001b[0m\u001b[0;34m,\u001b[0m\u001b[0;34m{\u001b[0m\u001b[0;34m'Omegab0'\u001b[0m\u001b[0;34m:\u001b[0m\u001b[0;36m1.1\u001b[0m\u001b[0;34m*\u001b[0m\u001b[0mp\u001b[0m\u001b[0;34m[\u001b[0m\u001b[0;34m'Omegab0'\u001b[0m\u001b[0;34m]\u001b[0m\u001b[0;34m}\u001b[0m\u001b[0;34m)\u001b[0m\u001b[0;34m\u001b[0m\u001b[0;34m\u001b[0m\u001b[0m\n",
      "\u001b[0;32m<ipython-input-32-71babb56b44a>\u001b[0m in \u001b[0;36mfisher\u001b[0;34m(ckwargs, c1kwargs, c2kwargs, c3kwargs)\u001b[0m\n\u001b[1;32m     15\u001b[0m         \u001b[0mc1\u001b[0m\u001b[0;34m.\u001b[0m\u001b[0msetMlim\u001b[0m\u001b[0;34m(\u001b[0m\u001b[0;34m)\u001b[0m\u001b[0;34m\u001b[0m\u001b[0;34m\u001b[0m\u001b[0m\n\u001b[1;32m     16\u001b[0m \u001b[0;34m\u001b[0m\u001b[0m\n\u001b[0;32m---> 17\u001b[0;31m         \u001b[0mc2\u001b[0m \u001b[0;34m=\u001b[0m \u001b[0mCosmos\u001b[0m\u001b[0;34m(\u001b[0m\u001b[0mz\u001b[0m\u001b[0;34m,\u001b[0m \u001b[0mkmin\u001b[0m\u001b[0;34m,\u001b[0m \u001b[0mkmax\u001b[0m\u001b[0;34m,\u001b[0m \u001b[0mN\u001b[0m\u001b[0;34m,\u001b[0m \u001b[0;34m**\u001b[0m\u001b[0mc2kwargs\u001b[0m\u001b[0;34m)\u001b[0m\u001b[0;34m\u001b[0m\u001b[0;34m\u001b[0m\u001b[0m\n\u001b[0m\u001b[1;32m     18\u001b[0m         \u001b[0mc2\u001b[0m\u001b[0;34m.\u001b[0m\u001b[0msetPower\u001b[0m\u001b[0;34m(\u001b[0m\u001b[0;34m)\u001b[0m\u001b[0;34m\u001b[0m\u001b[0;34m\u001b[0m\u001b[0m\n\u001b[1;32m     19\u001b[0m         \u001b[0mc2\u001b[0m\u001b[0;34m.\u001b[0m\u001b[0msetMlim\u001b[0m\u001b[0;34m(\u001b[0m\u001b[0;34m)\u001b[0m\u001b[0;34m\u001b[0m\u001b[0;34m\u001b[0m\u001b[0m\n",
      "\u001b[0;31mTypeError\u001b[0m: __init__() got an unexpected keyword argument 'Omegab0'"
     ]
    }
   ],
   "source": [
    "F00 = fisher({'H0':p['H0']},{'H0':1.1*p['H0']},{'H0':p['H0']},{'H0':1.1*p['H0']})\n",
    "F01 = fisher({'H0':p['H0']},{'H0':1.1*p['H0']},{'ombh2':p['ombh2']},{'ombh2':1.1*p['ombh2']})\n",
    "F11 = fisher({'ombh2':p['ombh2']},{'ombh2':1.1*p['ombh2']},{'ombh2':p['ombh2']},{'ombh2':1.1*p['ombh2']})"
   ]
  },
  {
   "cell_type": "code",
   "execution_count": 40,
   "metadata": {
    "collapsed": true
   },
   "outputs": [
    {
     "name": "stdout",
     "output_type": "stream",
     "text": [
      "H0 ombh2\n",
      "0\n",
      "0\n"
     ]
    },
    {
     "name": "stderr",
     "output_type": "stream",
     "text": [
      "/home/maamari/.local/lib/python3.6/site-packages/ipykernel_launcher.py:104: IntegrationWarning: The integral is probably divergent, or slowly convergent.\n",
      "/home/maamari/.local/lib/python3.6/site-packages/ipykernel_launcher.py:115: IntegrationWarning: The integral is probably divergent, or slowly convergent.\n"
     ]
    },
    {
     "name": "stdout",
     "output_type": "stream",
     "text": [
      "1\n",
      "1\n",
      "0\n",
      "1\n",
      "0\n",
      "0\n",
      "1\n",
      "1\n",
      "0\n",
      "1\n",
      "0\n",
      "0\n",
      "1\n",
      "1\n",
      "0\n",
      "1\n",
      "0\n",
      "0\n",
      "1\n",
      "1\n",
      "0\n",
      "1\n",
      "0\n",
      "0\n",
      "1\n",
      "1\n",
      "0\n",
      "1\n",
      "\t 0.0005946625240658544\n",
      "ombh2 ombh2\n",
      "0\n",
      "0\n",
      "1\n",
      "1\n",
      "0\n",
      "1\n",
      "0\n",
      "0\n",
      "1\n",
      "1\n",
      "0\n",
      "1\n",
      "0\n",
      "0\n",
      "1\n",
      "1\n",
      "0\n",
      "1\n",
      "0\n",
      "0\n",
      "1\n",
      "1\n",
      "0\n",
      "1\n",
      "0\n",
      "0\n",
      "1\n",
      "1\n",
      "0\n",
      "1\n",
      "\t 0.9255341622953889\n"
     ]
    }
   ],
   "source": []
  },
  {
   "cell_type": "code",
   "execution_count": 57,
   "metadata": {},
   "outputs": [],
   "source": [
    "p00 = ({'$H_0$':p['H0']},{'$H_0$':p['H0']})\n",
    "p01 = ({'$H_0$':p['H0']},{'$\\Omega_b$':p['ombh2']})\n",
    "p02 = ({'$H_0$':p['H0']},{'$\\Omega_m$':p['Omegam0']})\n",
    "p03 = ({'$H_0$':p['H0']},{'fnl':p['fnl']})\n",
    "p11 = ({'$\\Omega_b$':p['ombh2']},{'$\\Omega_b$':p['ombh2']})\n",
    "p12 = ({'$\\Omega_b$':p['ombh2']},{'$\\Omega_m$':p['Omegam0']})\n",
    "p13 = ({'$\\Omega_b$':p['ombh2']},{'fnl':p['fnl']})\n",
    "p22 = ({'$\\Omega_m$':p['Omegam0']},{'$\\Omega_m$':p['Omegam0']})\n",
    "p23 = ({'$\\Omega_m$':p['Omegam0']},{'fnl':p['fnl']})\n",
    "p33 = ({'fnl':p['fnl']},{'fnl':p['fnl']})"
   ]
  },
  {
   "cell_type": "code",
   "execution_count": 58,
   "metadata": {},
   "outputs": [],
   "source": [
    "params = np.array([[p00,p01,p02,p03],\n",
    "                   [p01,p11,p12,p13],\n",
    "                   [p02,p12,p22,p23],\n",
    "                   [p03,p13,p23,p33]])"
   ]
  },
  {
   "cell_type": "code",
   "execution_count": 59,
   "metadata": {},
   "outputs": [],
   "source": [
    "def fisherPlotter(index1,index2):\n",
    "    \n",
    "    F = np.array([[F00,F01],\n",
    "                  [F01,F11]])\n",
    "    F_inv = np.linalg.inv(F)\n",
    "    F_inv = np.array([[F_inv[index1, index1], F_inv[index2, index1]], [F_inv[index1, index2], F_inv[index2, index2]]])\n",
    "    F = np.linalg.inv(F_inv)\n",
    "\n",
    "    Phisher2.Fisher(F, list(params[index1,index2][0].values())[0], list(params[index1,index2][1].values())[0], \n",
    "                   list(params[index1,index2][0].keys())[0],list(params[index1,index2][1].keys())[0], (7, 7))\n",
    "    plt.scatter(list(params[index1,index2][0].values())[0], list(params[index1,index2][1].values())[0], label = 'Fiducial', color = 'k', s = 50)\n",
    "    plt.legend(prop = {'size': 12})\n",
    "    plt.margins(1.0);\n",
    "    plt.show()"
   ]
  },
  {
   "cell_type": "code",
   "execution_count": 60,
   "metadata": {},
   "outputs": [
    {
     "data": {
      "image/png": "[encoded data removed]",
      "text/plain": [
       "<Figure size 504x504 with 1 Axes>"
      ]
     },
     "metadata": {
      "needs_background": "light"
     },
     "output_type": "display_data"
    }
   ],
   "source": [
    "fisherPlotter(0,1)"
   ]
  },
  {
   "cell_type": "code",
   "execution_count": null,
   "metadata": {},
   "outputs": [],
   "source": []
  },
  {
   "cell_type": "code",
   "execution_count": null,
   "metadata": {},
   "outputs": [],
   "source": []
  },
  {
   "cell_type": "code",
   "execution_count": 597,
   "metadata": {},
   "outputs": [
    {
     "name": "stdout",
     "output_type": "stream",
     "text": [
      "z:  0.1 \n",
      "\n"
     ]
    },
    {
     "name": "stderr",
     "output_type": "stream",
     "text": [
      "/home/nareg/anaconda3/lib/python3.6/site-packages/ipykernel_launcher.py:104: IntegrationWarning: The integral is probably divergent, or slowly convergent.\n",
      "/home/nareg/anaconda3/lib/python3.6/site-packages/ipykernel_launcher.py:115: IntegrationWarning: The integral is probably divergent, or slowly convergent.\n"
     ]
    },
    {
     "name": "stdout",
     "output_type": "stream",
     "text": [
      "6048019.830705655\n"
     ]
    }
   ],
   "source": [
    "dK = Ks[333] - Ks[332]\n",
    "\n",
    "# Karime: Choose one of the parameters in Powespectrum as 00 and do the derivative and calculate F00\n",
    "F00 = 0.0\n",
    "\n",
    "for z in [0.1]:    # Karime: Include more z values\n",
    "    \n",
    "    print(\"z: \", z, '\\n')\n",
    "    \n",
    "    c = Cosmos(z, *[kmin, kmax, N], y200rhoc)\n",
    "    c.setPower()\n",
    "    c.setMlim()\n",
    "    \n",
    "    # Karime: use the class that we created above to calculate F00\n",
    "    \n",
    "    for m in range(2):\n",
    "        \n",
    "        for n in range(2):\n",
    "            \n",
    "            # Karime: Change this with correct terms\n",
    "            # the sum is over all k values, sum_i in Fisher equation\n",
    "            \n",
    "            F00 += np.sum(c.Ph_mn(m, n) * c.Ph_mn(m, n) * c.Veff_mn(m, n) * Ks**2 * dK)  # This is not the actual term\n",
    "    \n",
    "print(F00)"
   ]
  },
  {
   "cell_type": "code",
   "execution_count": null,
   "metadata": {},
   "outputs": [],
   "source": []
  },
  {
   "cell_type": "code",
   "execution_count": null,
   "metadata": {},
   "outputs": [],
   "source": []
  },
  {
   "cell_type": "code",
   "execution_count": null,
   "metadata": {},
   "outputs": [],
   "source": []
  },
  {
   "cell_type": "code",
   "execution_count": null,
   "metadata": {},
   "outputs": [],
   "source": []
  },
  {
   "cell_type": "code",
   "execution_count": null,
   "metadata": {},
   "outputs": [],
   "source": []
  },
  {
   "cell_type": "code",
   "execution_count": null,
   "metadata": {},
   "outputs": [],
   "source": []
  },
  {
   "cell_type": "code",
   "execution_count": null,
   "metadata": {},
   "outputs": [],
   "source": []
  },
  {
   "cell_type": "markdown",
   "metadata": {},
   "source": [
    "---"
   ]
  },
  {
   "cell_type": "markdown",
   "metadata": {},
   "source": [
    "# Junk after here"
   ]
  },
  {
   "cell_type": "code",
   "execution_count": 288,
   "metadata": {},
   "outputs": [
    {
     "name": "stderr",
     "output_type": "stream",
     "text": [
      "/home/nareg/anaconda3/lib/python3.6/site-packages/ipykernel_launcher.py:60: IntegrationWarning: The integral is probably divergent, or slowly convergent.\n",
      "/home/nareg/anaconda3/lib/python3.6/site-packages/ipykernel_launcher.py:71: IntegrationWarning: The integral is probably divergent, or slowly convergent.\n"
     ]
    },
    {
     "name": "stdout",
     "output_type": "stream",
     "text": [
      "66350.63987131487\n",
      "30215.648732349197\n",
      "10718.375340452654\n",
      "3223.184339609158\n",
      "435.43016430605104\n",
      "38.19115490191722\n",
      "0.7587450781967214\n",
      "30215.648732349197\n",
      "13760.009399870522\n",
      "4881.078236724067\n",
      "1467.8171302360545\n",
      "198.2920574339295\n",
      "17.39200290211458\n",
      "0.3455275609196118\n",
      "10718.375340452654\n",
      "4881.078236724067\n",
      "1731.461371911965\n",
      "520.6777147952673\n",
      "70.3399989003714\n",
      "6.169452679251231\n",
      "0.12256874314409535\n",
      "3223.1843396091585\n",
      "1467.8171302360545\n",
      "520.6777147952673\n",
      "156.57599244333937\n",
      "21.15234592020062\n",
      "1.8552516242524626\n",
      "0.03685835221095564\n",
      "435.4301643060511\n",
      "198.2920574339295\n",
      "70.3399989003714\n",
      "21.15234592020062\n",
      "2.857537295123562\n",
      "0.2506318083176328\n",
      "0.004979311348110125\n",
      "38.19115490191722\n",
      "17.39200290211458\n",
      "6.169452679251231\n",
      "1.8552516242524624\n",
      "0.2506318083176328\n",
      "0.021982671389018674\n",
      "0.000436730540484297\n",
      "0.7587450781967214\n",
      "0.3455275609196118\n",
      "0.12256874314409535\n",
      "0.03685835221095564\n",
      "0.004979311348110125\n",
      "0.000436730540484297\n",
      "8.676541700340664e-06\n"
     ]
    }
   ],
   "source": [
    "for m, Mm in enumerate(Mpl):\n",
    "    \n",
    "    for n, Mn in enumerate(Mpl):\n",
    "\n",
    "        print((np.sum(c1.b_eff(1e14, m) * c1.b_eff(1e14, n) * c1.Ps)**2 * c1.dndlnM(Mm) * c1.dndlnM(Mn)))\n",
    "        "
   ]
  },
  {
   "cell_type": "code",
   "execution_count": null,
   "metadata": {},
   "outputs": [],
   "source": [
    "F00"
   ]
  },
  {
   "cell_type": "code",
   "execution_count": 280,
   "metadata": {},
   "outputs": [
    {
     "data": {
      "image/png": "[encoded data removed]",
      "text/plain": [
       "<Figure size 432x288 with 2 Axes>"
      ]
     },
     "metadata": {
      "needs_background": "light"
     },
     "output_type": "display_data"
    }
   ],
   "source": [
    "plt.imshow(BEFF, origin = 'lower', cmap = 'jet')\n",
    "plt.colorbar();"
   ]
  },
  {
   "cell_type": "code",
   "execution_count": 195,
   "metadata": {},
   "outputs": [
    {
     "data": {
      "text/plain": [
       "0.6907755278982136"
      ]
     },
     "execution_count": 195,
     "metadata": {},
     "output_type": "execute_result"
    }
   ],
   "source": [
    "np.log(10**0.3)"
   ]
  },
  {
   "cell_type": "code",
   "execution_count": 199,
   "metadata": {},
   "outputs": [],
   "source": [
    "# Define mass range\n",
    "DeltaM = 10**0.3\n",
    "\n",
    "Mpl = []\n",
    "Mpl_ = 1.5e14/DeltaM\n",
    "\n",
    "for i in range(100):\n",
    "    \n",
    "    Mpl_ *= DeltaM\n",
    "    \n",
    "    if (Mpl_ < 1e16):\n",
    "        \n",
    "        Mpl.append(Mpl_)\n",
    "\n",
    "Mpl = np.array(Mpl)"
   ]
  },
  {
   "cell_type": "code",
   "execution_count": 200,
   "metadata": {},
   "outputs": [
    {
     "data": {
      "text/plain": [
       "array([1.5000e+14, 2.9929e+14, 5.9716e+14, 1.1915e+15, 2.3773e+15,\n",
       "       4.7434e+15, 9.4644e+15])"
      ]
     },
     "execution_count": 200,
     "metadata": {},
     "output_type": "execute_result"
    }
   ],
   "source": [
    "Mpl"
   ]
  },
  {
   "cell_type": "code",
   "execution_count": 232,
   "metadata": {},
   "outputs": [
    {
     "data": {
      "text/plain": [
       "1.822118800390503"
      ]
     },
     "execution_count": 232,
     "metadata": {},
     "output_type": "execute_result"
    }
   ],
   "source": [
    "mm = 2\n",
    "np.e**(np.log(1.5e14) + mm * 0.3) / 1.5e14"
   ]
  },
  {
   "cell_type": "code",
   "execution_count": 112,
   "metadata": {},
   "outputs": [
    {
     "data": {
      "image/png": "[encoded data removed]",
      "text/plain": [
       "<Figure size 432x288 with 1 Axes>"
      ]
     },
     "metadata": {
      "needs_background": "light"
     },
     "output_type": "display_data"
    }
   ],
   "source": [
    "for Mobs in Mpl:\n",
    "    \n",
    "    c1.b_eff(Mobs)"
   ]
  },
  {
   "cell_type": "code",
   "execution_count": 261,
   "metadata": {},
   "outputs": [],
   "source": [
    "# Define mass range\n",
    "DeltaM = 10**0.3\n",
    "\n",
    "Md = []\n",
    "Md_ = 1e13/DeltaM\n",
    "\n",
    "for i in range(100):\n",
    "    \n",
    "    Md_ *= DeltaM\n",
    "    Md.append(Md_)\n",
    "\n",
    "Md = np.array(Md)"
   ]
  },
  {
   "cell_type": "code",
   "execution_count": 166,
   "metadata": {},
   "outputs": [
    {
     "name": "stderr",
     "output_type": "stream",
     "text": [
      "/home/nareg/anaconda3/lib/python3.6/site-packages/ipykernel_launcher.py:56: IntegrationWarning: The integral is probably divergent, or slowly convergent.\n",
      "/home/nareg/anaconda3/lib/python3.6/site-packages/ipykernel_launcher.py:67: IntegrationWarning: The integral is probably divergent, or slowly convergent.\n"
     ]
    }
   ],
   "source": [
    "m = 2\n",
    "\n",
    "bL = np.array([c1.b_L(m) for m in Md])\n",
    "nM = np.array([c1.dndlnM(m) for m in Md])\n",
    "\n",
    "ERF = np.array([erfc(xm(0.1, 2.0e14, m)) - erfc(xm(0.1, 1.20e14, m)) for m in Md])\n",
    "bias = trapz(nM * bL * ERF, x = Md)/ trapz(nM * ERF, x = Md)"
   ]
  },
  {
   "cell_type": "code",
   "execution_count": 167,
   "metadata": {},
   "outputs": [
    {
     "data": {
      "text/plain": [
       "array([9.1798e+03, 8.1883e+04, 1.4312e+05, ..., 6.3664e+00, 6.3635e+00,\n",
       "       6.3606e+00])"
      ]
     },
     "execution_count": 167,
     "metadata": {},
     "output_type": "execute_result"
    }
   ],
   "source": [
    "def b_eff(M, z, m):\n",
    "    \n",
    "    \"\"\"\n",
    "    \"\"\"\n",
    "    bL = np.array([c1.b_L(m) for m in Md])\n",
    "    nM = np.array([c1.dndlnM(m) for m in Md])\n",
    "\n",
    "    ERF = np.array([erfc(xm(0.1, 2.0e14, m)) - erfc(xm(0.1, 1.20e14, m)) for m in Md])\n",
    "    bias = trapz(nM * bL * ERF, x = Md)/ trapz(nM * ERF, x = Md)"
   ]
  },
  {
   "cell_type": "code",
   "execution_count": null,
   "metadata": {},
   "outputs": [],
   "source": []
  },
  {
   "cell_type": "code",
   "execution_count": 99,
   "metadata": {},
   "outputs": [
    {
     "name": "stderr",
     "output_type": "stream",
     "text": [
      "/home/nareg/anaconda3/lib/python3.6/site-packages/ipykernel_launcher.py:56: IntegrationWarning: The integral is probably divergent, or slowly convergent.\n",
      "/home/nareg/anaconda3/lib/python3.6/site-packages/ipykernel_launcher.py:67: IntegrationWarning: The integral is probably divergent, or slowly convergent.\n"
     ]
    },
    {
     "data": {
      "text/plain": [
       "1.883889407860755e-05"
      ]
     },
     "execution_count": 99,
     "metadata": {},
     "output_type": "execute_result"
    }
   ],
   "source": [
    "c1.dndlnM(1.5e14)"
   ]
  },
  {
   "cell_type": "code",
   "execution_count": 625,
   "metadata": {},
   "outputs": [
    {
     "data": {
      "text/plain": [
       "2.6040150939432416"
      ]
     },
     "execution_count": 625,
     "metadata": {},
     "output_type": "execute_result"
    }
   ],
   "source": [
    "c1.b_L(1.5e14)"
   ]
  },
  {
   "cell_type": "code",
   "execution_count": null,
   "metadata": {},
   "outputs": [],
   "source": []
  },
  {
   "cell_type": "code",
   "execution_count": 448,
   "metadata": {},
   "outputs": [
    {
     "name": "stdout",
     "output_type": "stream",
     "text": [
      "None\n",
      "0.0\n"
     ]
    }
   ],
   "source": [
    "print(c1.Mlim)\n",
    "c1.setMlim()\n",
    "print(c1.Mlim)"
   ]
  },
  {
   "cell_type": "code",
   "execution_count": 758,
   "metadata": {
    "code_folding": [
     0,
     17,
     25,
     36,
     44,
     52,
     60,
     71,
     79,
     90,
     95,
     99,
     108,
     118,
     134
    ]
   },
   "outputs": [],
   "source": [
    "def P_lin(z, k, H0 = 69.7, ombh2 = 0.02256, omch2 = 0.1142, ns = 0.97, w = -1, nonLin = False):\n",
    "    \n",
    "    \"\"\"\n",
    "    Return Matter power spectrum for a given redshift and k\n",
    "    \"\"\"\n",
    "    pars = camb.CAMBparams()\n",
    "    pars.set_cosmology(H0 = H0, ombh2 = ombh2, omch2 = omch2)\n",
    "    pars.set_dark_energy(w)\n",
    "    pars.InitPower.set_params(ns = ns)\n",
    "    PK = camb.get_matter_power_interpolator(pars, nonlinear = nonLin,\n",
    "                                            hubble_units = False, k_hunit = False, kmax = 10)\n",
    "\n",
    "    ps = PK.P(z, k)\n",
    "    \n",
    "    return ps\n",
    "\n",
    "\n",
    "def E(z, Om = 0.2815):\n",
    "    \n",
    "    \"\"\"\n",
    "    David Hogg, Fist Light...\n",
    "    \"\"\"\n",
    "    return np.sqrt(Om * (1+z)**3 + 1.0 - Om)\n",
    "\n",
    "\n",
    "def D_plus(z, Om = 0.2815):\n",
    "    \n",
    "    \"\"\"\n",
    "    HMF paper\n",
    "    \"\"\"\n",
    "    integrand = lambda z_: (1 + z_)/E(z_)**3\n",
    "    I = quad(integrand, z, np.inf, limit = 500)[0]\n",
    "    \n",
    "    return 5./2 * Om * E(z) * I\n",
    "\n",
    "\n",
    "def d(z):\n",
    "    \n",
    "    \"\"\"\n",
    "    Eq.11, HMF paper\n",
    "    \"\"\"\n",
    "    return D_plus(z)/D_plus(0.)\n",
    "\n",
    "\n",
    "def R(M):\n",
    "    \n",
    "    \"\"\"\n",
    "    Radius of virialized mass\n",
    "    \"\"\"\n",
    "    return ((3.0 * M)/(4.0 * np.pi * rho_0))**0.33\n",
    "\n",
    "\n",
    "def W(k, M):\n",
    "    \n",
    "    \"\"\"\n",
    "    Top-hat Window function, M in units of M_sun\n",
    "    \"\"\"\n",
    "    return 3.0 * (np.sin(k*R(M)) - (k*R(M)) * np.cos(k*R(M)))/(k*R(M))**3.\n",
    "\n",
    "\n",
    "def sigma_squared(M, K_, P_, z = 0.0, j = 0):\n",
    "    \n",
    "    \"\"\"\n",
    "    Mass variance. arXiv:0712.0034v4 eq.1\n",
    "    \"\"\"\n",
    "    win = W(K_, M)\n",
    "    I = (K_)**(2. + 2.*j) * P_ * win**2\n",
    "    \n",
    "    return 1.0/(2.0*np.pi**2) * trapz(I, x = K_)\n",
    "\n",
    "\n",
    "def nu(M, K_, P_):\n",
    "    \n",
    "    \"\"\"\n",
    "    Peak height\n",
    "    \"\"\"\n",
    "    return delta_crit/np.sqrt(sigma_squared(M, K_, P_))\n",
    "\n",
    "\n",
    "def b_L(z, M, K_, P_):\n",
    "    \n",
    "    \"\"\"\n",
    "    Linear bias\n",
    "    \"\"\"\n",
    "    a, p = 0.75, 0.3\n",
    "    n = delta_crit/np.sqrt(sigma_squared(M, K_, P_))\n",
    "    \n",
    "    return 1 + (a * n**2 - 1)/delta_crit + 2 * p/(delta_crit * (1 + (a * n**2)**p))\n",
    "\n",
    "\n",
    "def dW2dM(k ,M):\n",
    "    \n",
    "    \"\"\"\n",
    "    From HMF paper\n",
    "    \"\"\"\n",
    "    return (np.sin(k*R(M)) - k*R(M) * np.cos(k*R(M))) * (np.sin(k*R(M)) * (1 - 3./(k*R(M))**2) \n",
    "                                                         + 3 * np.cos(k*R(M))/(k*R(M)))\n",
    "\n",
    "\n",
    "def dlnsdlnM(M, K_, P_, z = 0.0):\n",
    "    \n",
    "    \"\"\"\n",
    "    dlnSigma/dlnM from HMF paper\n",
    "    \"\"\"\n",
    "    I = P_/(K_**2) * dW2dM(K_, M)\n",
    "    return (3./(2 * np.pi**2 * R(M)**4 * sigma_squared(M, K_, P_))) * simps(I, K_)\n",
    "\n",
    "\n",
    "def f_J(M, K_, P_, z = 0.0):\n",
    "    \n",
    "    \"\"\"\n",
    "    Jenkins fitting function (There is a typo in HMF?)\n",
    "    \"\"\"\n",
    "    s = np.sqrt(sigma_squared(M, K_, P_))\n",
    "    \n",
    "    return 0.315 * np.exp(-np.absolute(0.61 + np.log(s**(-1.)*d(z)))**(3.8))\n",
    "\n",
    "\n",
    "def f_T(M, z=0):\n",
    "    \n",
    "    \"\"\"\n",
    "    Tinker fitting function\n",
    "    \"\"\"\n",
    "    return none\n",
    "\n",
    "def dndlnM(M, K_, P_, z = 0.0):\n",
    "    \n",
    "    \"\"\"\n",
    "    n(M,z)\n",
    "    \"\"\"\n",
    "    return (rho_0/M) * f_J(M, K_, P_, z = 0.0) * np.absolute(dlnsdlnM(M, K_, P_, z = 0.0))\n",
    "\n",
    "\n",
    "def dndM(M, K_, P_, z = 0.0):\n",
    "    \n",
    "    \"\"\"\n",
    "    n(M,z)\n",
    "    \"\"\"\n",
    "    return (rho_0/M**2) * f_J(M, K_, P_, z = 0.0) * np.absolute(dlnsdlnM(M, K_, P_, z = 0.0))\n",
    "\n",
    "    \n",
    "def BM(z):\n",
    "    \n",
    "    \"\"\"\n",
    "    Calibration parameter\n",
    "    \"\"\"\n",
    "    BM0 = 0.0\n",
    "    alpha = 0.0\n",
    "    \n",
    "    return BM0 * (1 + alpha)\n",
    "\n",
    "\n",
    "def sigmaLnM(z):\n",
    "    \n",
    "    \"\"\"\n",
    "    Calibration parameter\n",
    "    \"\"\"\n",
    "    beta = 0.0\n",
    "    sLnM0 = 0.2 # random value\n",
    "    \n",
    "    return sLnM0 * (1 + z)**beta\n",
    "\n",
    "\n",
    "def xm(z, M, Mthr, m, DlnM):\n",
    "    \n",
    "    \"\"\"\n",
    "    \n",
    "    \"\"\"\n",
    "    #Mthr = 1e14 # what is this\n",
    "    \n",
    "    #return (np.log(Mthr) + (m * np.log(DlnM)) - BM(z) - np.log(M))/np.sqrt(2*sigmaLnM(z)**2)\n",
    "    return (np.log(Mthr) - BM(z) - np.log(M))/np.sqrt(2*sigmaLnM(z)**2)\n",
    "\n",
    "\n",
    "#(np.log(mm1) - BM(0.1) - np.log(Md_))/(sigmaLnM(0.1) * np.sqrt(2))"
   ]
  },
  {
   "cell_type": "code",
   "execution_count": 618,
   "metadata": {},
   "outputs": [
    {
     "data": {
      "text/plain": [
       "(13.3, 13.3)"
      ]
     },
     "execution_count": 618,
     "metadata": {},
     "output_type": "execute_result"
    }
   ],
   "source": [
    "np.log10(1e13) + np.log10(10**0.3), np.log10(1e13 * 10**0.3)"
   ]
  },
  {
   "cell_type": "code",
   "execution_count": 346,
   "metadata": {},
   "outputs": [
    {
     "data": {
      "text/plain": [
       "11.185571996188013"
      ]
     },
     "execution_count": 346,
     "metadata": {},
     "output_type": "execute_result"
    }
   ],
   "source": [
    "xm(0.2, 5e13, 1e14, 3, 9)"
   ]
  },
  {
   "cell_type": "code",
   "execution_count": 37,
   "metadata": {},
   "outputs": [
    {
     "data": {
      "text/plain": [
       "13393.519191054475"
      ]
     },
     "execution_count": 37,
     "metadata": {},
     "output_type": "execute_result"
    }
   ],
   "source": [
    "P_lin(0.25, 1e-3)"
   ]
  },
  {
   "cell_type": "code",
   "execution_count": 761,
   "metadata": {},
   "outputs": [
    {
     "data": {
      "image/png": "[encoded data removed]",
      "text/plain": [
       "<Figure size 432x288 with 1 Axes>"
      ]
     },
     "metadata": {
      "needs_background": "light"
     },
     "output_type": "display_data"
    }
   ],
   "source": [
    "Ks = np.linspace(1e-4, 5, 5600)\n",
    "Ps = P_lin(0.0, Ks)\n",
    "\n",
    "plt.loglog(Ks, Ps)\n",
    "plt.xlabel('k [Mpc]')\n",
    "plt.ylabel('P(k, z)');"
   ]
  },
  {
   "cell_type": "code",
   "execution_count": 336,
   "metadata": {},
   "outputs": [
    {
     "data": {
      "text/plain": [
       "2.1801769339714663"
      ]
     },
     "execution_count": 336,
     "metadata": {},
     "output_type": "execute_result"
    }
   ],
   "source": [
    "sigma_squared(1e13, Ks, Ps)"
   ]
  },
  {
   "cell_type": "code",
   "execution_count": 350,
   "metadata": {},
   "outputs": [
    {
     "data": {
      "text/plain": [
       "1.1654120025433088"
      ]
     },
     "execution_count": 350,
     "metadata": {},
     "output_type": "execute_result"
    }
   ],
   "source": [
    "b_L(0.3, 1e13, Ks, Ps)"
   ]
  },
  {
   "cell_type": "code",
   "execution_count": 381,
   "metadata": {},
   "outputs": [
    {
     "data": {
      "image/png": "[encoded data removed]",
      "text/plain": [
       "<Figure size 432x288 with 1 Axes>"
      ]
     },
     "metadata": {
      "needs_background": "light"
     },
     "output_type": "display_data"
    }
   ],
   "source": [
    "nM = np.array([dndlnM(m, Ks, Ps) for m in np.linspace(1e12, 1e15, 2000)])  # add redshift\n",
    "\n",
    "plt.loglog(np.linspace(1e12, 1e15, 2000), nM)\n",
    "\n",
    "plt.ylabel('$n(z, M)$')\n",
    "plt.xlabel('$M\\ [M_{\\odot}]$', size = 14);"
   ]
  },
  {
   "cell_type": "code",
   "execution_count": 221,
   "metadata": {},
   "outputs": [
    {
     "data": {
      "text/plain": [
       "5600"
      ]
     },
     "execution_count": 221,
     "metadata": {},
     "output_type": "execute_result"
    }
   ],
   "source": [
    "Ps.size"
   ]
  },
  {
   "cell_type": "code",
   "execution_count": 616,
   "metadata": {},
   "outputs": [
    {
     "data": {
      "text/plain": [
       "1.9999352647810742"
      ]
     },
     "execution_count": 616,
     "metadata": {},
     "output_type": "execute_result"
    }
   ],
   "source": [
    "erfc(xm(0.1, 5e13, 1e12, 1, 10**0.3))"
   ]
  },
  {
   "cell_type": "code",
   "execution_count": 759,
   "metadata": {},
   "outputs": [
    {
     "data": {
      "text/plain": [
       "array([1.8231e-12, 1.1303e-16, 2.3045e-17, ..., 2.1925e-26, 2.1922e-26,\n",
       "       2.1918e-26])"
      ]
     },
     "execution_count": 759,
     "metadata": {},
     "output_type": "execute_result"
    }
   ],
   "source": [
    "dndlnM(M_, Ks, Ps)"
   ]
  },
  {
   "cell_type": "code",
   "execution_count": 781,
   "metadata": {},
   "outputs": [],
   "source": [
    "DeltaM = 10**0.3\n",
    "\n",
    "Md = []\n",
    "Md_ = 1e13/DeltaM\n",
    "\n",
    "for i in range(100):\n",
    "    \n",
    "    Md_ *= DeltaM\n",
    "    Md.append(Md_)\n",
    "\n",
    "Md = np.array(Md)"
   ]
  },
  {
   "cell_type": "code",
   "execution_count": 786,
   "metadata": {},
   "outputs": [],
   "source": [
    "DeltaM = 10**0.3\n",
    "\n",
    "Md = []\n",
    "Md_ = 1e13/DeltaM\n",
    "\n",
    "for i in range(100):\n",
    "    \n",
    "    Md_ *= DeltaM\n",
    "    Md.append(Md_)\n",
    "\n",
    "Md = np.array(Md)\n",
    "\n",
    "m = 1\n",
    "\n",
    "bL = np.array([b_L(0.1, m, Ks, Ps) for m in Md])\n",
    "nM = np.array([dndlnM(m, Ks, Ps) for m in Md])\n",
    "\n",
    "ERF = np.array([erfc(xm(0.1, 2.0e14, m, 1, 3)) - erfc(xm(0.1, 1.20e14, m, 1 , 3)) for m in Md])\n",
    "trapz(nM * bL * ERF, x = Md)/ trapz(nM * ERF, x = Md)"
   ]
  },
  {
   "cell_type": "code",
   "execution_count": 787,
   "metadata": {},
   "outputs": [
    {
     "data": {
      "text/plain": [
       "2.1871411334316924"
      ]
     },
     "execution_count": 787,
     "metadata": {},
     "output_type": "execute_result"
    }
   ],
   "source": [
    "ERF = np.array([erfc(xm(0.1, 2.0e14, m, 1, 3)) - erfc(xm(0.1, 1.20e14, m, 1 , 3)) for m in Md])\n",
    "trapz(nM * bL * ERF, x = Md)/ trapz(nM * ERF, x = Md)"
   ]
  },
  {
   "cell_type": "code",
   "execution_count": 789,
   "metadata": {},
   "outputs": [
    {
     "name": "stdout",
     "output_type": "stream",
     "text": [
      "2.1776065738215205\n"
     ]
    }
   ],
   "source": [
    "mm1 = 1.2e14\n",
    "mm2 = 1.7e14\n",
    "\n",
    "Np = 0.0\n",
    "Nd = 0.0\n",
    "\n",
    "for m in Md:\n",
    "    \n",
    "    nM_ = c1.dndlnM(m)\n",
    "    xm1 = (np.log(mm1) - BM(0.1) - np.log(m))/(sigmaLnM(0.1) * np.sqrt(2))\n",
    "    xm2 = (np.log(mm2) - BM(0.1) - np.log(m))/(sigmaLnM(0.1) * np.sqrt(2))\n",
    "    \n",
    "    #print(nM_)\n",
    "    \n",
    "    Np += nM_ * m * (DeltaM - 1) * (erfc(xm2) - erfc(xm1)) * b_L(0.1, m, Ks, Ps)\n",
    "    Nd += nM_ * m * (DeltaM - 1) * (erfc(xm2) - erfc(xm1))\n",
    "    \n",
    "bias = Np/Nd\n",
    "\n",
    "print(bias)"
   ]
  },
  {
   "cell_type": "code",
   "execution_count": null,
   "metadata": {},
   "outputs": [],
   "source": []
  },
  {
   "cell_type": "code",
   "execution_count": null,
   "metadata": {},
   "outputs": [],
   "source": []
  },
  {
   "cell_type": "code",
   "execution_count": 362,
   "metadata": {},
   "outputs": [
    {
     "data": {
      "text/plain": [
       "1.5000000000000004"
      ]
     },
     "execution_count": 362,
     "metadata": {},
     "output_type": "execute_result"
    }
   ],
   "source": [
    "(10**(np.log10(1e13) + np.log10(1.5)))/1e13"
   ]
  },
  {
   "cell_type": "code",
   "execution_count": 388,
   "metadata": {},
   "outputs": [
    {
     "name": "stdout",
     "output_type": "stream",
     "text": [
      "1.0\n",
      "10000000000000.0\n",
      "10000000000000.0\n",
      "\n",
      "0.29999999999999993\n",
      "2999999999999.9995\n",
      "3000000000000.001\n",
      "\n",
      "0.08999999999999998\n",
      "899999999999.9999\n",
      "900000000000.0007\n",
      "\n",
      "0.02699999999999999\n",
      "269999999999.99988\n",
      "270000000000.0003\n",
      "\n",
      "0.008099999999999996\n",
      "80999999999.99995\n",
      "81000000000.00012\n",
      "\n",
      "0.0024299999999999994\n",
      "24299999999.999996\n",
      "24300000000.000046\n",
      "\n",
      "0.0007289999999999994\n",
      "7289999999.999994\n",
      "7289999999.999987\n",
      "\n",
      "0.00021869999999999968\n",
      "2186999999.9999967\n",
      "2186999999.9999967\n",
      "\n",
      "6.560999999999994e-05\n",
      "656099999.9999994\n",
      "656099999.9999993\n",
      "\n",
      "1.9682999999999988e-05\n",
      "196829999.99999988\n",
      "196829999.99999988\n",
      "\n"
     ]
    }
   ],
   "source": [
    "for m in range(10):\n",
    "    \n",
    "    print((1e13 * 10**(m * np.log10(0.3)))/1e13)\n",
    "    print(1e13 * 10**(m * np.log10(0.3)))\n",
    "    print(10**(np.log10(1e13) + m * np.log10(0.3)))\n",
    "    print()"
   ]
  },
  {
   "cell_type": "code",
   "execution_count": 400,
   "metadata": {},
   "outputs": [
    {
     "name": "stdout",
     "output_type": "stream",
     "text": [
      "1.9952623149688797\n",
      "3.9810717055349727\n",
      "7.943282347242816\n",
      "15.848931924611135\n",
      "31.622776601683793\n",
      "63.09573444801933\n",
      "125.89254117941672\n",
      "251.188643150958\n",
      "501.1872336272722\n",
      "999.9999999999998\n"
     ]
    }
   ],
   "source": [
    "MMDD = 1e13\n",
    "\n",
    "for i in range(10):\n",
    "    \n",
    "    MMDD = MMDD * 10**(0.3)\n",
    "    \n",
    "    print(MMDD/1e13)"
   ]
  },
  {
   "cell_type": "code",
   "execution_count": 408,
   "metadata": {},
   "outputs": [
    {
     "data": {
      "text/plain": [
       "13.798970004336018"
      ]
     },
     "execution_count": 408,
     "metadata": {},
     "output_type": "execute_result"
    }
   ],
   "source": [
    "np.log10(5e13) + 1 * np.log10(10**0.1)"
   ]
  },
  {
   "cell_type": "code",
   "execution_count": 411,
   "metadata": {},
   "outputs": [
    {
     "data": {
      "text/plain": [
       "13.7998"
      ]
     },
     "execution_count": 411,
     "metadata": {},
     "output_type": "execute_result"
    }
   ],
   "source": [
    "np.log10(10**13.7998)"
   ]
  },
  {
   "cell_type": "code",
   "execution_count": null,
   "metadata": {},
   "outputs": [],
   "source": []
  },
  {
   "cell_type": "code",
   "execution_count": null,
   "metadata": {},
   "outputs": [],
   "source": []
  },
  {
   "cell_type": "code",
   "execution_count": null,
   "metadata": {},
   "outputs": [],
   "source": []
  },
  {
   "cell_type": "code",
   "execution_count": null,
   "metadata": {},
   "outputs": [],
   "source": []
  },
  {
   "cell_type": "code",
   "execution_count": null,
   "metadata": {},
   "outputs": [],
   "source": []
  },
  {
   "cell_type": "code",
   "execution_count": null,
   "metadata": {},
   "outputs": [],
   "source": []
  },
  {
   "cell_type": "code",
   "execution_count": null,
   "metadata": {},
   "outputs": [],
   "source": []
  },
  {
   "cell_type": "code",
   "execution_count": null,
   "metadata": {},
   "outputs": [],
   "source": []
  },
  {
   "cell_type": "code",
   "execution_count": null,
   "metadata": {},
   "outputs": [],
   "source": []
  },
  {
   "cell_type": "code",
   "execution_count": null,
   "metadata": {},
   "outputs": [],
   "source": []
  },
  {
   "cell_type": "code",
   "execution_count": null,
   "metadata": {},
   "outputs": [],
   "source": []
  },
  {
   "cell_type": "code",
   "execution_count": null,
   "metadata": {},
   "outputs": [],
   "source": []
  },
  {
   "cell_type": "code",
   "execution_count": null,
   "metadata": {},
   "outputs": [],
   "source": []
  },
  {
   "cell_type": "code",
   "execution_count": null,
   "metadata": {},
   "outputs": [],
   "source": []
  },
  {
   "cell_type": "code",
   "execution_count": null,
   "metadata": {},
   "outputs": [],
   "source": []
  },
  {
   "cell_type": "code",
   "execution_count": null,
   "metadata": {},
   "outputs": [],
   "source": []
  },
  {
   "cell_type": "code",
   "execution_count": null,
   "metadata": {},
   "outputs": [],
   "source": []
  },
  {
   "cell_type": "code",
   "execution_count": null,
   "metadata": {},
   "outputs": [],
   "source": []
  },
  {
   "cell_type": "code",
   "execution_count": null,
   "metadata": {},
   "outputs": [],
   "source": []
  }
 ],
 "metadata": {
  "kernelspec": {
   "display_name": "Python 3",
   "language": "python",
   "name": "python3"
  },
  "language_info": {
   "codemirror_mode": {
    "name": "ipython",
    "version": 3
   },
   "file_extension": ".py",
   "mimetype": "text/x-python",
   "name": "python",
   "nbconvert_exporter": "python",
   "pygments_lexer": "ipython3",
   "version": "3.6.9"
  },
  "toc": {
   "base_numbering": 1,
   "nav_menu": {},
   "number_sections": true,
   "sideBar": true,
   "skip_h1_title": false,
   "title_cell": "Table of Contents",
   "title_sidebar": "Contents",
   "toc_cell": false,
   "toc_position": {},
   "toc_section_display": true,
   "toc_window_display": false
  }
 },
 "nbformat": 4,
 "nbformat_minor": 2
}
