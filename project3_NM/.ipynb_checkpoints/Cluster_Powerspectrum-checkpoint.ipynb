{
 "cells": [
  {
   "cell_type": "code",
   "execution_count": 172,
   "metadata": {},
   "outputs": [],
   "source": [
    "import numpy as np\n",
    "import pandas as pd\n",
    "import matplotlib.pyplot as plt\n",
    "\n",
    "import seaborn as sns\n",
    "from scipy.integrate import quad, trapz, simps\n",
    "from scipy.stats import chisquare\n",
    "from scipy.special import erfc\n",
    "\n",
    "import camb\n",
    "from camb import model, initialpower\n",
    "\n",
    "import cosmofunc as cf\n",
    "from scipy.optimize import curve_fit\n",
    "\n",
    "%precision 4\n",
    "%matplotlib inline"
   ]
  },
  {
   "cell_type": "code",
   "execution_count": 6,
   "metadata": {},
   "outputs": [],
   "source": [
    "# constants\n",
    "delta_crit = 1.686\n",
    "h = 0.697\n",
    "rho_0 = 42285353995.6                        # aka rho_bar_0, M_sun/Mpc^3\n",
    "rho_c0 = 1.37 * 1e11                         # M_sun/Mpc^3\n",
    "delta_vir = 200"
   ]
  },
  {
   "cell_type": "markdown",
   "metadata": {},
   "source": [
    "# Change this to a class"
   ]
  },
  {
   "cell_type": "code",
   "execution_count": null,
   "metadata": {},
   "outputs": [],
   "source": [
    "def P_lin(z, k, H0 = 69.7, ombh2 = 0.02256, omch2 = 0.1142, ns = 0.97, w = -1, nonLin = False):\n",
    "    \n",
    "    \"\"\"\n",
    "    Return Matter power spectrum for a given redshift and k\n",
    "    \"\"\"\n",
    "    pars = camb.CAMBparams()\n",
    "    pars.set_cosmology(H0 = H0, ombh2 = ombh2, omch2 = omch2)\n",
    "    pars.set_dark_energy(w)\n",
    "    pars.InitPower.set_params(ns = ns)\n",
    "    PK = camb.get_matter_power_interpolator(pars, nonlinear = nonLin,\n",
    "                                            hubble_units = False, k_hunit = False, kmax = 10)\n",
    "\n",
    "    ps = PK.P(z, k)\n",
    "    \n",
    "    return ps\n",
    "\n",
    "\n",
    "def E(z, Om = 0.2815):\n",
    "    \n",
    "    \"\"\"\n",
    "    David Hogg, Fist Light...\n",
    "    \"\"\"\n",
    "    return np.sqrt(Om * (1+z)**3 + 1.0 - Om)\n",
    "\n",
    "\n",
    "def D_plus(z, Om = 0.2815):\n",
    "    \n",
    "    \"\"\"\n",
    "    HMF paper\n",
    "    \"\"\"\n",
    "    integrand = lambda z_: (1 + z_)/E(z_)**3\n",
    "    I = quad(integrand, z, np.inf, limit = 500)[0]\n",
    "    \n",
    "    return 5./2 * Om * E(z) * I\n",
    "\n",
    "\n",
    "def d(z):\n",
    "    \n",
    "    \"\"\"\n",
    "    Eq.11, HMF paper\n",
    "    \"\"\"\n",
    "    return D_plus(z)/D_plus(0.)\n",
    "\n",
    "\n",
    "def R(M):\n",
    "    \n",
    "    \"\"\"\n",
    "    Radius of virialized mass\n",
    "    \"\"\"\n",
    "    return ((3.0 * M)/(4.0 * np.pi * rho_0))**0.33\n",
    "\n",
    "\n",
    "def W(k, M):\n",
    "    \n",
    "    \"\"\"\n",
    "    Top-hat Window function, M in units of M_sun\n",
    "    \"\"\"\n",
    "    return 3.0 * (np.sin(k*R(M)) - (k*R(M)) * np.cos(k*R(M)))/(k*R(M))**3.\n",
    "\n",
    "\n",
    "def sigma_squared(M, K_, P_, z = 0.0, j = 0):\n",
    "    \n",
    "    \"\"\"\n",
    "    Mass variance. arXiv:0712.0034v4 eq.1\n",
    "    \"\"\"\n",
    "    win = W(K_, M)\n",
    "    I = (K_)**(2. + 2.*j) * P_ * win**2\n",
    "    \n",
    "    return 1.0/(2.0*np.pi**2) * trapz(I, x = K_)\n",
    "\n",
    "\n",
    "def nu(M, K_, P_):\n",
    "    \n",
    "    \"\"\"\n",
    "    Peak height\n",
    "    \"\"\"\n",
    "    return delta_crit/np.sqrt(sigma_squared(M, K_, P_))\n",
    "\n",
    "\n",
    "def b_L(z, M, K_, P_):\n",
    "    \n",
    "    \"\"\"\n",
    "    Linear bias\n",
    "    \"\"\"\n",
    "    a, p = 0.75, 0.3\n",
    "    n = delta_crit/np.sqrt(sigma_squared(M, K_, P_))\n",
    "    \n",
    "    return 1 + (a * n**2 - 1)/delta_crit + 2 * p/(delta_crit * (1 + (a * n**2)**p))\n",
    "\n",
    "\n",
    "def dW2dM(k ,M):\n",
    "    \n",
    "    \"\"\"\n",
    "    From HMF paper\n",
    "    \"\"\"\n",
    "    return (np.sin(k*R(M)) - k*R(M) * np.cos(k*R(M))) * (np.sin(k*R(M)) * (1 - 3./(k*R(M))**2) \n",
    "                                                         + 3 * np.cos(k*R(M))/(k*R(M)))\n",
    "\n",
    "\n",
    "def dlnsdlnM(M, K_, P_, z = 0.0):\n",
    "    \n",
    "    \"\"\"\n",
    "    dlnSigma/dlnM from HMF paper\n",
    "    \"\"\"\n",
    "    I = P_/(K_**2) * dW2dM(K_, M)\n",
    "    return (3./(2 * np.pi**2 * R(M)**4 * sigma_squared(M, K_, P_))) * simps(I, K_)\n",
    "\n",
    "\n",
    "def f_J(M, K_, P_, z = 0.0):\n",
    "    \n",
    "    \"\"\"\n",
    "    Jenkins fitting function (There is a typo in HMF?)\n",
    "    \"\"\"\n",
    "    s = np.sqrt(sigma_squared(M, K_, P_))\n",
    "    \n",
    "    return 0.315 * np.exp(-np.absolute(0.61 + np.log(s**(-1.)*d(z)))**(3.8))\n",
    "\n",
    "\n",
    "def f_T(M, z=0):\n",
    "    \n",
    "    \"\"\"\n",
    "    Tinker fitting function\n",
    "    \"\"\"\n",
    "    return none\n",
    "\n",
    "\n",
    "def dndlnM(M, K_, P_, z = 0.0):\n",
    "    \n",
    "    \"\"\"\n",
    "    n(M,z)\n",
    "    \"\"\"\n",
    "    return (rho_0/M) * f_J(M, K_, P_, z = 0.0) * np.absolute(dlnsdlnM(M, K_, P_, z = 0.0))\n",
    "\n",
    "\n",
    "def dndM(M, K_, P_, z = 0.0):\n",
    "    \n",
    "    \"\"\"\n",
    "    n(M,z)\n",
    "    \"\"\"\n",
    "    return (rho_0/M**2) * f_J(M, K_, P_, z = 0.0) * np.absolute(dlnsdlnM(M, K_, P_, z = 0.0))\n",
    "\n",
    "    \n",
    "def BM(z):\n",
    "    \n",
    "    \"\"\"\n",
    "    Calibration parameter\n",
    "    \"\"\"\n",
    "    BM0 = 0.0\n",
    "    alpha = 0.0\n",
    "    \n",
    "    return BM0 * (1 + alpha)\n",
    "\n",
    "\n",
    "def sigmaLnM(z):\n",
    "    \n",
    "    \"\"\"\n",
    "    Calibration parameter\n",
    "    \"\"\"\n",
    "    beta = 0.0\n",
    "    sLnM0 = 0.2 # random value\n",
    "    \n",
    "    return sLnM0 * (1 + z)**beta\n",
    "\n",
    "\n",
    "def xm(z, M, Mthr, m, DlnM):\n",
    "    \n",
    "    \"\"\"\n",
    "    \n",
    "    \"\"\"\n",
    "    #Mthr = 1e14 # what is this\n",
    "    \n",
    "    return (np.log10(Mthr) + m * np.log10(DlnM) - BM(z) - np.log10(M))/np.sqrt(2*sigmaLnM(z)**2)\n"
   ]
  },
  {
   "cell_type": "code",
   "execution_count": 346,
   "metadata": {},
   "outputs": [
    {
     "data": {
      "text/plain": [
       "11.185571996188013"
      ]
     },
     "execution_count": 346,
     "metadata": {},
     "output_type": "execute_result"
    }
   ],
   "source": [
    "xm(0.2, 5e13, 1e14, 3, 9)"
   ]
  },
  {
   "cell_type": "code",
   "execution_count": 37,
   "metadata": {},
   "outputs": [
    {
     "data": {
      "text/plain": [
       "13393.519191054475"
      ]
     },
     "execution_count": 37,
     "metadata": {},
     "output_type": "execute_result"
    }
   ],
   "source": [
    "P_lin(0.25, 1e-3)"
   ]
  },
  {
   "cell_type": "code",
   "execution_count": 335,
   "metadata": {},
   "outputs": [
    {
     "data": {
      "image/png": "[encoded data removed]",
      "text/plain": [
       "<Figure size 432x288 with 1 Axes>"
      ]
     },
     "metadata": {
      "needs_background": "light"
     },
     "output_type": "display_data"
    }
   ],
   "source": [
    "Ks = np.linspace(1e-4, 5, 5600)\n",
    "Ps = P_lin(0.0, Ks)\n",
    "\n",
    "plt.loglog(Ks, Ps)\n",
    "plt.xlabel('k [Mpc]')\n",
    "plt.ylabel('P(k, z)');"
   ]
  },
  {
   "cell_type": "code",
   "execution_count": 336,
   "metadata": {},
   "outputs": [
    {
     "data": {
      "text/plain": [
       "2.1801769339714663"
      ]
     },
     "execution_count": 336,
     "metadata": {},
     "output_type": "execute_result"
    }
   ],
   "source": [
    "sigma_squared(1e13, Ks, Ps)"
   ]
  },
  {
   "cell_type": "code",
   "execution_count": 350,
   "metadata": {},
   "outputs": [
    {
     "data": {
      "text/plain": [
       "1.1654120025433088"
      ]
     },
     "execution_count": 350,
     "metadata": {},
     "output_type": "execute_result"
    }
   ],
   "source": [
    "b_L(0.3, 1e13, Ks, Ps)"
   ]
  },
  {
   "cell_type": "code",
   "execution_count": 381,
   "metadata": {},
   "outputs": [
    {
     "data": {
      "image/png": "[encoded data removed]",
      "text/plain": [
       "<Figure size 432x288 with 1 Axes>"
      ]
     },
     "metadata": {
      "needs_background": "light"
     },
     "output_type": "display_data"
    }
   ],
   "source": [
    "nM = np.array([dndlnM(m, Ks, Ps) for m in np.linspace(1e12, 1e15, 2000)])  # add redshift\n",
    "\n",
    "plt.loglog(np.linspace(1e12, 1e15, 2000), nM)\n",
    "\n",
    "plt.ylabel('$n(z, M)$')\n",
    "plt.xlabel('$M\\ [M_{\\odot}]$', size = 14);"
   ]
  },
  {
   "cell_type": "code",
   "execution_count": 221,
   "metadata": {},
   "outputs": [
    {
     "data": {
      "text/plain": [
       "5600"
      ]
     },
     "execution_count": 221,
     "metadata": {},
     "output_type": "execute_result"
    }
   ],
   "source": [
    "Ps.size"
   ]
  },
  {
   "cell_type": "code",
   "execution_count": 378,
   "metadata": {},
   "outputs": [
    {
     "data": {
      "text/plain": [
       "1.7278274473906072"
      ]
     },
     "execution_count": 378,
     "metadata": {},
     "output_type": "execute_result"
    }
   ],
   "source": [
    "# b_eff (with m = 0) from Daisy's paper\n",
    "M_ = np.linspace(1e13, 1e15, 5600)\n",
    "\n",
    "m = 3\n",
    "\n",
    "bL = b_L(0.3, M_, Ks, Ps)\n",
    "nM = dndlnM(M_, Ks, Ps)\n",
    "ERF = erfc(xm(0.0, 5.2e13, M_, m, 10**1.1)) - erfc(xm(0.0, 5.2e13, M_, m + 1, 10**1.1))\n",
    "trapz(nM * bL * ERF, x = M_)/ trapz(nM * ERF, x = M_)    # beff0 = "
   ]
  },
  {
   "cell_type": "code",
   "execution_count": 362,
   "metadata": {},
   "outputs": [
    {
     "data": {
      "text/plain": [
       "1.5000000000000004"
      ]
     },
     "execution_count": 362,
     "metadata": {},
     "output_type": "execute_result"
    }
   ],
   "source": [
    "(10**(np.log10(1e13) + np.log10(1.5)))/1e13"
   ]
  },
  {
   "cell_type": "code",
   "execution_count": null,
   "metadata": {},
   "outputs": [],
   "source": []
  },
  {
   "cell_type": "code",
   "execution_count": 370,
   "metadata": {},
   "outputs": [
    {
     "name": "stdout",
     "output_type": "stream",
     "text": [
      "10000000000000.0\n",
      "10000000000000.0\n",
      "\n",
      "11500000000000.0\n",
      "11500000000000.004\n",
      "\n",
      "13224999999999.998\n",
      "13225000000000.008\n",
      "\n",
      "15208749999999.998\n",
      "15208750000000.014\n",
      "\n",
      "17490062499999.994\n",
      "17490062500000.02\n",
      "\n",
      "20113571874999.992\n",
      "20113571875000.027\n",
      "\n",
      "23130607656249.992\n",
      "23130607656249.945\n",
      "\n",
      "26600198804687.49\n",
      "26600198804687.445\n",
      "\n",
      "30590228625390.61\n",
      "30590228625390.57\n",
      "\n",
      "35178762919199.195\n",
      "35178762919199.168\n",
      "\n"
     ]
    }
   ],
   "source": [
    "for m in range(10):\n",
    "    \n",
    "    print(1e13 * 10**(m * np.log10(1.15)))\n",
    "    print(10**(np.log10(1e13) + m * np.log10(1.15)))\n",
    "    print()"
   ]
  },
  {
   "cell_type": "code",
   "execution_count": null,
   "metadata": {},
   "outputs": [],
   "source": []
  },
  {
   "cell_type": "code",
   "execution_count": null,
   "metadata": {},
   "outputs": [],
   "source": []
  },
  {
   "cell_type": "code",
   "execution_count": null,
   "metadata": {},
   "outputs": [],
   "source": []
  },
  {
   "cell_type": "code",
   "execution_count": null,
   "metadata": {},
   "outputs": [],
   "source": []
  },
  {
   "cell_type": "code",
   "execution_count": null,
   "metadata": {},
   "outputs": [],
   "source": []
  },
  {
   "cell_type": "code",
   "execution_count": null,
   "metadata": {},
   "outputs": [],
   "source": []
  },
  {
   "cell_type": "code",
   "execution_count": null,
   "metadata": {},
   "outputs": [],
   "source": []
  },
  {
   "cell_type": "code",
   "execution_count": null,
   "metadata": {},
   "outputs": [],
   "source": []
  },
  {
   "cell_type": "code",
   "execution_count": null,
   "metadata": {},
   "outputs": [],
   "source": []
  },
  {
   "cell_type": "code",
   "execution_count": null,
   "metadata": {},
   "outputs": [],
   "source": []
  },
  {
   "cell_type": "code",
   "execution_count": null,
   "metadata": {},
   "outputs": [],
   "source": []
  },
  {
   "cell_type": "code",
   "execution_count": null,
   "metadata": {},
   "outputs": [],
   "source": []
  },
  {
   "cell_type": "code",
   "execution_count": null,
   "metadata": {},
   "outputs": [],
   "source": []
  },
  {
   "cell_type": "code",
   "execution_count": null,
   "metadata": {},
   "outputs": [],
   "source": []
  },
  {
   "cell_type": "code",
   "execution_count": null,
   "metadata": {},
   "outputs": [],
   "source": []
  },
  {
   "cell_type": "code",
   "execution_count": null,
   "metadata": {},
   "outputs": [],
   "source": []
  },
  {
   "cell_type": "code",
   "execution_count": null,
   "metadata": {},
   "outputs": [],
   "source": []
  },
  {
   "cell_type": "code",
   "execution_count": null,
   "metadata": {},
   "outputs": [],
   "source": []
  },
  {
   "cell_type": "code",
   "execution_count": null,
   "metadata": {},
   "outputs": [],
   "source": []
  },
  {
   "cell_type": "code",
   "execution_count": null,
   "metadata": {},
   "outputs": [],
   "source": []
  },
  {
   "cell_type": "code",
   "execution_count": null,
   "metadata": {},
   "outputs": [],
   "source": []
  },
  {
   "cell_type": "code",
   "execution_count": null,
   "metadata": {},
   "outputs": [],
   "source": []
  },
  {
   "cell_type": "code",
   "execution_count": null,
   "metadata": {},
   "outputs": [],
   "source": []
  }
 ],
 "metadata": {
  "kernelspec": {
   "display_name": "Python 3",
   "language": "python",
   "name": "python3"
  },
  "language_info": {
   "codemirror_mode": {
    "name": "ipython",
    "version": 3
   },
   "file_extension": ".py",
   "mimetype": "text/x-python",
   "name": "python",
   "nbconvert_exporter": "python",
   "pygments_lexer": "ipython3",
   "version": "3.6.9"
  },
  "toc": {
   "base_numbering": 1,
   "nav_menu": {},
   "number_sections": true,
   "sideBar": true,
   "skip_h1_title": false,
   "title_cell": "Table of Contents",
   "title_sidebar": "Contents",
   "toc_cell": false,
   "toc_position": {},
   "toc_section_display": true,
   "toc_window_display": false
  }
 },
 "nbformat": 4,
 "nbformat_minor": 2
}
