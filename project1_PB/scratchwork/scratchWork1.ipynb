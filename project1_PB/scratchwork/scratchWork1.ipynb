{
 "cells": [
  {
   "cell_type": "markdown",
   "metadata": {},
   "source": [
    "#### November 20th: \n",
    "#### Color coded histo, added noise level to dataframe\n",
    "#### Issue creating differences plot; however, I am almost certain there is no difference. Printed differences which come out to 0\n",
    "#### When I change the sn_masked to compressed from the onset, I get Index OOB errors\n",
    "#### What is meant by slicing by richness and z?\n",
    "#### How to filter noises to get only valid data?\n",
    "#### Still not confident on wtf compressing does\n",
    "#### Why isn't there any change as a result of changing the bad val?\n",
    "#### Have yet to really get around to reading khatri paper"
   ]
  },
  {
   "cell_type": "markdown",
   "metadata": {},
   "source": [
    "### Import necessary shit"
   ]
  },
  {
   "cell_type": "code",
   "execution_count": 32,
   "metadata": {},
   "outputs": [],
   "source": [
    "# Import libraries\n",
    "# Ignore warnings\n",
    "import numpy as np\n",
    "from scipy.stats import norm\n",
    "import numpy as np\n",
    "import astropy\n",
    "import astropy_healpix\n",
    "from astropy.io import fits\n",
    "from astropy import units as u\n",
    "from astropy.coordinates import SkyCoord\n",
    "import healpy as hp\n",
    "import pandas as pd\n",
    "import math\n",
    "import scipy\n",
    "import statistics as st\n",
    "from scipy import stats\n",
    "import matplotlib\n",
    "import matplotlib.mlab as mlab\n",
    "import matplotlib.pyplot as plt\n",
    "from matplotlib import cm\n",
    "import seaborn as sns\n",
    "from IPython.display import Image\n",
    "\n",
    "%matplotlib inline\n",
    "\n",
    "NSIDE=2048\n",
    "Npix=12*NSIDE**2\n",
    "\n",
    "pi=math.pi\n",
    "\n",
    "import warnings\n",
    "warnings.filterwarnings('ignore')"
   ]
  },
  {
   "cell_type": "markdown",
   "metadata": {},
   "source": [
    "### Read in data"
   ]
  },
  {
   "cell_type": "code",
   "execution_count": 33,
   "metadata": {},
   "outputs": [
    {
     "data": {
      "text/plain": [
       "(46479, 14)"
      ]
     },
     "execution_count": 33,
     "metadata": {},
     "output_type": "execute_result"
    }
   ],
   "source": [
    "# Read in AMF catalog\n",
    "dr9 = pd.read_csv('Data/dr9_main_complete.csv', header=-1)\n",
    "dr9.columns = ['amf_no','amf_ra','amf_dec','amf_z','amf_lk','amf_rh','amf_r200','amf_rc','amf_c','amf_str_rh','bax_id','mcxc_id','red_id','whl_id']\n",
    "#dr9.head()\n",
    "dr9.shape"
   ]
  },
  {
   "cell_type": "code",
   "execution_count": 34,
   "metadata": {},
   "outputs": [
    {
     "data": {
      "text/plain": [
       "(2964, 5)"
      ]
     },
     "execution_count": 34,
     "metadata": {},
     "output_type": "execute_result"
    }
   ],
   "source": [
    "# Read in Burenin catalog\n",
    "bur = pd.read_csv('Data/planck_extended_burenin.csv')\n",
    "#bur.head()\n",
    "bur.shape"
   ]
  },
  {
   "cell_type": "code",
   "execution_count": 35,
   "metadata": {},
   "outputs": [
    {
     "data": {
      "text/plain": [
       "(26111, 7)"
      ]
     },
     "execution_count": 35,
     "metadata": {},
     "output_type": "execute_result"
    }
   ],
   "source": [
    "# Read in Redmapper catalog\n",
    "red = pd.read_csv(\"Data/redmapper_v6.3_errs.csv\",header=-1)\n",
    "red.columns = ['red_no','red_ra','red_dec','red_z','red_zerr','red_rh','red_rherr']\n",
    "#red.head()\n",
    "red.shape"
   ]
  },
  {
   "cell_type": "code",
   "execution_count": 36,
   "metadata": {},
   "outputs": [
    {
     "data": {
      "text/plain": [
       "(1653, 30)"
      ]
     },
     "execution_count": 36,
     "metadata": {},
     "output_type": "execute_result"
    }
   ],
   "source": [
    "# Read in Planck catalog\n",
    "plsz2 = pd.read_csv('Data/planck_sz2.csv',header=-1)\n",
    "plsz2.columns = ['pl_no','pl_name','pl_glon','pl_glat','pl_ra','pl_dec','pl_poserr','pl_sn',\\\n",
    "                   'pl_pipe','pl_pipedet','pl_pccs2','pl_psz','pl_irflag','pl_qneural','pl_y5r500',\\\n",
    "                   'pl_y5r500err','pl_valid','pl_zid','pl_z','pl_msz','pl_mszerrup','pl_mszerrlow',\\\n",
    "                   'pl_mcxc','pl_red','pl_act','pl_spt','pl_wise','pl_ami','pl_cosmo','pl_comment']\n",
    "#plsz2.head()\n",
    "plsz2.shape"
   ]
  },
  {
   "cell_type": "code",
   "execution_count": 37,
   "metadata": {},
   "outputs": [
    {
     "name": "stdout",
     "output_type": "stream",
     "text": [
      "NSIDE = 2048\n",
      "ORDERING = RING in fits file\n",
      "INDXSCHM = IMPLICIT\n",
      "NSIDE = 2048\n",
      "ORDERING = RING in fits file\n",
      "INDXSCHM = IMPLICIT\n"
     ]
    }
   ],
   "source": [
    "# Read in ymaps, stddevs (in Galactic coordinates)\n",
    "nilc_ymap = hp.read_map('Data/COM_CompMap_Compton-SZMap-nilc-ymaps_2048_R2.00.fits')\n",
    "nilc_stddevmap = hp.read_map('Data/COM_CompMap_Compton-SZMap-nilc-stddev_2048_R2.00.fits')"
   ]
  },
  {
   "cell_type": "markdown",
   "metadata": {},
   "source": [
    "### Catalogs"
   ]
  },
  {
   "cell_type": "code",
   "execution_count": 38,
   "metadata": {},
   "outputs": [],
   "source": [
    "# Convert the RA and DEC to galactic coordinates\n",
    "c = SkyCoord(dr9['amf_ra'],dr9['amf_dec'],frame='icrs',unit='deg')\n",
    "\n",
    "dr9['glat'] = c.galactic.b.degree\n",
    "dr9['glon'] = c.galactic.l.degree\n",
    "\n",
    "c=SkyCoord(bur['bur_ra'],bur['bur_dec'],frame='icrs',unit='deg')\n",
    "\n",
    "bur['glat'] = c.galactic.b.degree # Galactic Latitude\n",
    "bur['glon'] = c.galactic.l.degree # Galactic Longitude"
   ]
  },
  {
   "cell_type": "code",
   "execution_count": 39,
   "metadata": {},
   "outputs": [
    {
     "data": {
      "text/html": [
       "<div>\n",
       "<style scoped>\n",
       "    .dataframe tbody tr th:only-of-type {\n",
       "        vertical-align: middle;\n",
       "    }\n",
       "\n",
       "    .dataframe tbody tr th {\n",
       "        vertical-align: top;\n",
       "    }\n",
       "\n",
       "    .dataframe thead th {\n",
       "        text-align: right;\n",
       "    }\n",
       "</style>\n",
       "<table border=\"1\" class=\"dataframe\">\n",
       "  <thead>\n",
       "    <tr style=\"text-align: right;\">\n",
       "      <th></th>\n",
       "      <th>bur_no</th>\n",
       "      <th>bur_dec</th>\n",
       "      <th>bur_ra</th>\n",
       "      <th>bur_z</th>\n",
       "      <th>bur_sn</th>\n",
       "      <th>glat</th>\n",
       "      <th>glon</th>\n",
       "    </tr>\n",
       "  </thead>\n",
       "  <tbody>\n",
       "    <tr>\n",
       "      <th>0</th>\n",
       "      <td>1</td>\n",
       "      <td>29.1144</td>\n",
       "      <td>0.2000</td>\n",
       "      <td>0.1928</td>\n",
       "      <td>4.58</td>\n",
       "      <td>-32.464350</td>\n",
       "      <td>109.815588</td>\n",
       "    </tr>\n",
       "    <tr>\n",
       "      <th>1</th>\n",
       "      <td>2</td>\n",
       "      <td>21.5636</td>\n",
       "      <td>0.2958</td>\n",
       "      <td>0.4110</td>\n",
       "      <td>7.77</td>\n",
       "      <td>-39.813384</td>\n",
       "      <td>107.662070</td>\n",
       "    </tr>\n",
       "    <tr>\n",
       "      <th>2</th>\n",
       "      <td>3</td>\n",
       "      <td>-0.0147</td>\n",
       "      <td>0.3500</td>\n",
       "      <td>0.2479</td>\n",
       "      <td>4.55</td>\n",
       "      <td>-60.339963</td>\n",
       "      <td>96.974176</td>\n",
       "    </tr>\n",
       "    <tr>\n",
       "      <th>3</th>\n",
       "      <td>4</td>\n",
       "      <td>12.0578</td>\n",
       "      <td>0.5042</td>\n",
       "      <td>0.1989</td>\n",
       "      <td>9.52</td>\n",
       "      <td>-49.020180</td>\n",
       "      <td>104.324479</td>\n",
       "    </tr>\n",
       "    <tr>\n",
       "      <th>4</th>\n",
       "      <td>5</td>\n",
       "      <td>-1.0683</td>\n",
       "      <td>0.7042</td>\n",
       "      <td>0.7600</td>\n",
       "      <td>4.99</td>\n",
       "      <td>-61.448190</td>\n",
       "      <td>96.797899</td>\n",
       "    </tr>\n",
       "  </tbody>\n",
       "</table>\n",
       "</div>"
      ],
      "text/plain": [
       "   bur_no  bur_dec  bur_ra   bur_z  bur_sn       glat        glon\n",
       "0       1  29.1144  0.2000  0.1928    4.58 -32.464350  109.815588\n",
       "1       2  21.5636  0.2958  0.4110    7.77 -39.813384  107.662070\n",
       "2       3  -0.0147  0.3500  0.2479    4.55 -60.339963   96.974176\n",
       "3       4  12.0578  0.5042  0.1989    9.52 -49.020180  104.324479\n",
       "4       5  -1.0683  0.7042  0.7600    4.99 -61.448190   96.797899"
      ]
     },
     "execution_count": 39,
     "metadata": {},
     "output_type": "execute_result"
    }
   ],
   "source": [
    "bur.head()"
   ]
  },
  {
   "cell_type": "code",
   "execution_count": 40,
   "metadata": {},
   "outputs": [
    {
     "data": {
      "text/html": [
       "<div>\n",
       "<style scoped>\n",
       "    .dataframe tbody tr th:only-of-type {\n",
       "        vertical-align: middle;\n",
       "    }\n",
       "\n",
       "    .dataframe tbody tr th {\n",
       "        vertical-align: top;\n",
       "    }\n",
       "\n",
       "    .dataframe thead th {\n",
       "        text-align: right;\n",
       "    }\n",
       "</style>\n",
       "<table border=\"1\" class=\"dataframe\">\n",
       "  <thead>\n",
       "    <tr style=\"text-align: right;\">\n",
       "      <th></th>\n",
       "      <th>amf_no</th>\n",
       "      <th>amf_ra</th>\n",
       "      <th>amf_dec</th>\n",
       "      <th>amf_z</th>\n",
       "      <th>amf_lk</th>\n",
       "      <th>amf_rh</th>\n",
       "      <th>amf_r200</th>\n",
       "      <th>amf_rc</th>\n",
       "      <th>amf_c</th>\n",
       "      <th>amf_str_rh</th>\n",
       "      <th>bax_id</th>\n",
       "      <th>mcxc_id</th>\n",
       "      <th>red_id</th>\n",
       "      <th>whl_id</th>\n",
       "      <th>glat</th>\n",
       "      <th>glon</th>\n",
       "    </tr>\n",
       "  </thead>\n",
       "  <tbody>\n",
       "    <tr>\n",
       "      <th>0</th>\n",
       "      <td>4</td>\n",
       "      <td>23.9128</td>\n",
       "      <td>20.7465</td>\n",
       "      <td>0.0601</td>\n",
       "      <td>176.9125</td>\n",
       "      <td>219.3663</td>\n",
       "      <td>1.946</td>\n",
       "      <td>0.925</td>\n",
       "      <td>2.104</td>\n",
       "      <td>73.0001</td>\n",
       "      <td>-9999</td>\n",
       "      <td>-9999</td>\n",
       "      <td>-9999</td>\n",
       "      <td>-9999</td>\n",
       "      <td>-40.943468</td>\n",
       "      <td>136.662636</td>\n",
       "    </tr>\n",
       "    <tr>\n",
       "      <th>1</th>\n",
       "      <td>5</td>\n",
       "      <td>260.6324</td>\n",
       "      <td>32.1398</td>\n",
       "      <td>0.2252</td>\n",
       "      <td>222.1219</td>\n",
       "      <td>200.7117</td>\n",
       "      <td>1.784</td>\n",
       "      <td>0.625</td>\n",
       "      <td>2.856</td>\n",
       "      <td>35.0001</td>\n",
       "      <td>ABELL2261</td>\n",
       "      <td>J1722.4+3208</td>\n",
       "      <td>RMJ172227.2+320757.2</td>\n",
       "      <td>J172227.2+320757</td>\n",
       "      <td>31.846666</td>\n",
       "      <td>55.602221</td>\n",
       "    </tr>\n",
       "    <tr>\n",
       "      <th>2</th>\n",
       "      <td>6</td>\n",
       "      <td>197.8796</td>\n",
       "      <td>-1.3356</td>\n",
       "      <td>0.2042</td>\n",
       "      <td>171.6872</td>\n",
       "      <td>192.0829</td>\n",
       "      <td>1.773</td>\n",
       "      <td>0.227</td>\n",
       "      <td>7.792</td>\n",
       "      <td>9.0001</td>\n",
       "      <td>ABELL1689</td>\n",
       "      <td>J1311.5-0120</td>\n",
       "      <td>RMJ131129.5-012028.0</td>\n",
       "      <td>J131129.5-012028</td>\n",
       "      <td>61.128514</td>\n",
       "      <td>313.370385</td>\n",
       "    </tr>\n",
       "    <tr>\n",
       "      <th>3</th>\n",
       "      <td>7</td>\n",
       "      <td>250.1485</td>\n",
       "      <td>46.6917</td>\n",
       "      <td>0.2248</td>\n",
       "      <td>225.9874</td>\n",
       "      <td>182.3373</td>\n",
       "      <td>1.725</td>\n",
       "      <td>0.495</td>\n",
       "      <td>3.483</td>\n",
       "      <td>36.0001</td>\n",
       "      <td>ABELL2219</td>\n",
       "      <td>J1640.3+4642</td>\n",
       "      <td>RMJ164019.8+464241.5</td>\n",
       "      <td>J164019.8+464242</td>\n",
       "      <td>41.429880</td>\n",
       "      <td>72.599428</td>\n",
       "    </tr>\n",
       "    <tr>\n",
       "      <th>4</th>\n",
       "      <td>8</td>\n",
       "      <td>346.3402</td>\n",
       "      <td>21.0378</td>\n",
       "      <td>0.1453</td>\n",
       "      <td>121.0124</td>\n",
       "      <td>182.2769</td>\n",
       "      <td>1.775</td>\n",
       "      <td>0.440</td>\n",
       "      <td>4.034</td>\n",
       "      <td>72.0001</td>\n",
       "      <td>-9999</td>\n",
       "      <td>-9999</td>\n",
       "      <td>RMJ230520.1+210313.5</td>\n",
       "      <td>J230520.1+210313</td>\n",
       "      <td>-35.420653</td>\n",
       "      <td>92.175825</td>\n",
       "    </tr>\n",
       "  </tbody>\n",
       "</table>\n",
       "</div>"
      ],
      "text/plain": [
       "   amf_no    amf_ra  amf_dec   amf_z    amf_lk    amf_rh  amf_r200  amf_rc  \\\n",
       "0       4   23.9128  20.7465  0.0601  176.9125  219.3663     1.946   0.925   \n",
       "1       5  260.6324  32.1398  0.2252  222.1219  200.7117     1.784   0.625   \n",
       "2       6  197.8796  -1.3356  0.2042  171.6872  192.0829     1.773   0.227   \n",
       "3       7  250.1485  46.6917  0.2248  225.9874  182.3373     1.725   0.495   \n",
       "4       8  346.3402  21.0378  0.1453  121.0124  182.2769     1.775   0.440   \n",
       "\n",
       "   amf_c  amf_str_rh     bax_id       mcxc_id                red_id  \\\n",
       "0  2.104     73.0001      -9999         -9999                 -9999   \n",
       "1  2.856     35.0001  ABELL2261  J1722.4+3208  RMJ172227.2+320757.2   \n",
       "2  7.792      9.0001  ABELL1689  J1311.5-0120  RMJ131129.5-012028.0   \n",
       "3  3.483     36.0001  ABELL2219  J1640.3+4642  RMJ164019.8+464241.5   \n",
       "4  4.034     72.0001      -9999         -9999  RMJ230520.1+210313.5   \n",
       "\n",
       "             whl_id       glat        glon  \n",
       "0             -9999 -40.943468  136.662636  \n",
       "1  J172227.2+320757  31.846666   55.602221  \n",
       "2  J131129.5-012028  61.128514  313.370385  \n",
       "3  J164019.8+464242  41.429880   72.599428  \n",
       "4  J230520.1+210313 -35.420653   92.175825  "
      ]
     },
     "execution_count": 40,
     "metadata": {},
     "output_type": "execute_result"
    }
   ],
   "source": [
    "dr9.head()\n",
    "    pix = hp.ang2pix(2048,dr9.iloc[j,15],dr9.iloc[j,14],lonlat=True,nest=False)\n"
   ]
  },
  {
   "cell_type": "markdown",
   "metadata": {},
   "source": [
    "### Create masked map"
   ]
  },
  {
   "cell_type": "markdown",
   "metadata": {},
   "source": [
    "Found Burenin filter (https://healpix.jpl.nasa.gov/html/subroutinesnode48.htm) but it's in fucking fortran"
   ]
  },
  {
   "cell_type": "code",
   "execution_count": 41,
   "metadata": {},
   "outputs": [
    {
     "name": "stdout",
     "output_type": "stream",
     "text": [
      "Sigma is 50.959308 arcmin (0.014823 rad) \n",
      "-> fwhm is 120.000000 arcmin\n",
      "Sigma is 0.000000 arcmin (0.000000 rad) \n",
      "-> fwhm is 0.000000 arcmin\n"
     ]
    }
   ],
   "source": [
    "# Smooth noise map by 1 degree\n",
    "# The essential difference between Burenin and this, is that he uses\n",
    "# a 1 degree radius median filter for smoothing (not available on healpy)\n",
    "stddev_smoothed = hp.smoothing(nilc_stddevmap,fwhm=np.radians(2.))"
   ]
  },
  {
   "cell_type": "code",
   "execution_count": 42,
   "metadata": {},
   "outputs": [
    {
     "name": "stdout",
     "output_type": "stream",
     "text": [
      "Sigma is 25.479654 arcmin (0.007412 rad) \n",
      "-> fwhm is 60.000000 arcmin\n",
      "Sigma is 0.000000 arcmin (0.000000 rad) \n",
      "-> fwhm is 0.000000 arcmin\n"
     ]
    }
   ],
   "source": [
    "# Calculate signal over noise (smoothed)\n",
    "sn_smoothed_n = nilc_ymap/stddev_smoothed\n",
    "\n",
    "# Smooth the sn_smoothed_n map by 1 degree\n",
    "sn_smoothed_n_smoothed = hp.smoothing(sn_smoothed_n,fwhm=np.radians(1.))\n",
    "\n",
    "# Subtract the smoothed signal to noise map from the signal to noise map\n",
    "sn_result = sn_smoothed_n - sn_smoothed_n_smoothed"
   ]
  },
  {
   "cell_type": "code",
   "execution_count": 43,
   "metadata": {},
   "outputs": [
    {
     "name": "stdout",
     "output_type": "stream",
     "text": [
      "NSIDE = 2048\n",
      "ORDERING = NESTED in fits file\n",
      "INDXSCHM = IMPLICIT\n",
      "Ordering converted to RING\n"
     ]
    }
   ],
   "source": [
    "# Mask the sn_result array\n",
    "# By convention the mask is 0 where the data is masked, while numpy defines data masked when \n",
    "# the mask is true, so it is necessary to flip the mask.\n",
    "mask = hp.read_map('Data/maskplanckfullsz61.fits')\n",
    "sn_masked = hp.ma(sn_result,badval=+1.6375e+30)\n",
    "sn_masked2 = hp.ma(sn_result)\n",
    "sn_masked2.mask = np.logical_not(mask)\n",
    "sn_masked.mask = np.logical_not(mask)"
   ]
  },
  {
   "cell_type": "code",
   "execution_count": 44,
   "metadata": {},
   "outputs": [
    {
     "data": {
      "text/plain": [
       "DescribeResult(nobs=50331648, minmax=(0.0, 1.0), mean=0.6119134624799093, variance=0.23747538163398552, skewness=-0.4593069694500196, kurtosis=-1.7890371078147336)"
      ]
     },
     "execution_count": 44,
     "metadata": {},
     "output_type": "execute_result"
    }
   ],
   "source": [
    "scipy.stats.describe(mask)"
   ]
  },
  {
   "cell_type": "code",
   "execution_count": 45,
   "metadata": {},
   "outputs": [
    {
     "data": {
      "image/png": "[encoded data removed]",
      "text/plain": [
       "<Figure size 612x388.8 with 2 Axes>"
      ]
     },
     "metadata": {},
     "output_type": "display_data"
    }
   ],
   "source": [
    "# Plot the masked array\n",
    "hp.mollview(sn_masked,norm='hist',coord=['G'],title='Masked S/N map')"
   ]
  },
  {
   "cell_type": "code",
   "execution_count": 46,
   "metadata": {},
   "outputs": [
    {
     "data": {
      "image/png": "[encoded data removed]",
      "text/plain": [
       "<IPython.core.display.Image object>"
      ]
     },
     "execution_count": 46,
     "metadata": {},
     "output_type": "execute_result"
    }
   ],
   "source": [
    "Image(filename='Papers/burfig.png') "
   ]
  },
  {
   "cell_type": "markdown",
   "metadata": {},
   "source": [
    "#### Burenin Plot"
   ]
  },
  {
   "cell_type": "code",
   "execution_count": 47,
   "metadata": {},
   "outputs": [
    {
     "data": {
      "image/png": "[encoded data removed]",
      "text/plain": [
       "<Figure size 576x576 with 1 Axes>"
      ]
     },
     "metadata": {},
     "output_type": "display_data"
    }
   ],
   "source": [
    "# Histogram of the above map\n",
    "plt.figure(figsize=(8,8))\n",
    "plt.hist(sn_masked.compressed(), bins=500,normed=True,fill=False,edgecolor='k');\n",
    "plt.xlim((-9,14))\n",
    "plt.ylim((4e-5,1))\n",
    "plt.yscale('log');\n",
    "plt.xticks(np.arange(-9, 14, 1.0))\n",
    "plt.xlabel('S/N');\n",
    "plt.title('Signal to Noise histogram of masked array')\n",
    "\n",
    "ln = np.linspace(-9, 14, len(sn_masked))\n",
    "g = stats.norm.pdf(ln, 0, 1.58)  \n",
    "plt.plot(ln, g, label=\"Norm\", color=\"red\")\n",
    "\n",
    "plt.show()"
   ]
  },
  {
   "cell_type": "markdown",
   "metadata": {},
   "source": [
    "#### Differences Plot"
   ]
  },
  {
   "cell_type": "code",
   "execution_count": 48,
   "metadata": {},
   "outputs": [
    {
     "data": {
      "image/png": "[encoded data removed]",
      "text/plain": [
       "<Figure size 576x576 with 1 Axes>"
      ]
     },
     "metadata": {},
     "output_type": "display_data"
    }
   ],
   "source": [
    "# Histogram of the above map\n",
    "sn_masked3 = sn_masked2-sn_masked\n",
    "plt.figure(figsize=(8,8))\n",
    "plt.hist(sn_masked3, bins=500,normed=True,fill=False,edgecolor='r', alpha = 0.5);\n",
    "# plt.hist(sn_masked2, bins=500,normed=True,fill=False,edgecolor='b', alpha = 0.5);\n",
    "plt.yscale('log');\n",
    "plt.xlabel('S/N');\n",
    "plt.xlim((-1,1))\n",
    "plt.title('Signal to Noise histogram of masked array')\n",
    "\n",
    "plt.show()"
   ]
  },
  {
   "cell_type": "code",
   "execution_count": 49,
   "metadata": {},
   "outputs": [
    {
     "name": "stdout",
     "output_type": "stream",
     "text": [
      "[0.0 0.0 0.0 ... 0.0 0.0 0.0]\n"
     ]
    }
   ],
   "source": [
    "print(sn_masked3)"
   ]
  },
  {
   "cell_type": "code",
   "execution_count": 50,
   "metadata": {},
   "outputs": [
    {
     "data": {
      "text/plain": [
       "DescribeResult(nobs=50331648, minmax=(-1473.5981054323968, 1650.3349078145095), mean=-6.636043488053242e-09, variance=10.11485622718682, skewness=-4.217014382600839, kurtosis=13500.95089301354)"
      ]
     },
     "execution_count": 50,
     "metadata": {},
     "output_type": "execute_result"
    }
   ],
   "source": [
    "scipy.stats.describe(sn_masked)"
   ]
  },
  {
   "cell_type": "code",
   "execution_count": 51,
   "metadata": {},
   "outputs": [
    {
     "data": {
      "text/plain": [
       "DescribeResult(nobs=50331648, minmax=(-1473.5981054323968, 1650.3349078145095), mean=-6.636043488053242e-09, variance=10.11485622718682, skewness=-4.217014382600839, kurtosis=13500.95089301354)"
      ]
     },
     "execution_count": 51,
     "metadata": {},
     "output_type": "execute_result"
    }
   ],
   "source": [
    "scipy.stats.describe(sn_masked2)"
   ]
  },
  {
   "cell_type": "markdown",
   "metadata": {},
   "source": [
    "#### Test Plot"
   ]
  },
  {
   "cell_type": "code",
   "execution_count": 52,
   "metadata": {},
   "outputs": [
    {
     "data": {
      "text/plain": [
       "(60, 80)"
      ]
     },
     "execution_count": 52,
     "metadata": {},
     "output_type": "execute_result"
    },
    {
     "data": {
      "image/png": "[encoded data removed]",
      "text/plain": [
       "<Figure size 576x576 with 1 Axes>"
      ]
     },
     "metadata": {},
     "output_type": "display_data"
    }
   ],
   "source": [
    "# Histogram of the above map\n",
    "plt.figure(figsize=(8,8))\n",
    "pl1 = plt.hist(sn_masked, bins=500,normed=True,fill=False,edgecolor='b', alpha = 0.6);\n",
    "# pl2 = plt.hist(sn_masked2, bins=500,normed=True,fill=False,edgecolor='r', alpha = 0.6);\n",
    "\n",
    "plt.yscale('log');\n",
    "# plt.xticks(np.arange(-9, 14,5))\n",
    "plt.xlabel('S/N');\n",
    "plt.title('Signal to Noise histogram of masked array')\n",
    "plt.xlim((60,80))\n",
    "\n",
    "# ln = np.linspace(-9, 14, len(sn_masked))\n",
    "# g = stats.norm.pdf(ln, 0, 1.81)  \n",
    "# plt.plot(ln, g, label=\"Norm\", color=\"red\")\n",
    "\n",
    "# plt.show()"
   ]
  },
  {
   "cell_type": "code",
   "execution_count": 53,
   "metadata": {},
   "outputs": [
    {
     "data": {
      "text/plain": [
       "KstestResult(statistic=0.49952827984735115, pvalue=0.0)"
      ]
     },
     "execution_count": 53,
     "metadata": {},
     "output_type": "execute_result"
    }
   ],
   "source": [
    "stats.kstest(ln, 'norm')\n",
    "# print(stats.ttest_ind(,))"
   ]
  },
  {
   "cell_type": "markdown",
   "metadata": {},
   "source": [
    "### Locate unclassified AMF clusters"
   ]
  },
  {
   "cell_type": "markdown",
   "metadata": {},
   "source": [
    "#### AMF rounded"
   ]
  },
  {
   "cell_type": "code",
   "execution_count": 54,
   "metadata": {},
   "outputs": [],
   "source": [
    "d_glonR = []\n",
    "d_glatR = []\n",
    "d_glon = []\n",
    "d_glat = []\n",
    "d_rh = []\n",
    "\n",
    "for i in range(dr9.shape[0]):\n",
    "#     if dr9.iloc[i,5] > 50:   #Why does the SN plot change when I apply this?\n",
    "#     if dr9.iloc[i,3] > 0.3:   #Why does the SN plot change when I apply this?\n",
    "        d_glon.append(dr9.iloc[i,15])\n",
    "        d_glat.append(dr9.iloc[i,14])\n",
    "        d_glonR.append(\"%.1f\" % dr9.iloc[i,15])\n",
    "        d_glatR.append(\"%.1f\" % dr9.iloc[i,14])\n",
    "\n",
    "tup1 = zip(d_glon, d_glat)\n",
    "  \n",
    "df1 = pd.DataFrame({'Glon': d_glon, 'Glat': d_glat})\n",
    "df2 = pd.DataFrame({'Glon': d_glonR, 'Glat': d_glatR})"
   ]
  },
  {
   "cell_type": "markdown",
   "metadata": {},
   "source": [
    "#### Burenin rounded"
   ]
  },
  {
   "cell_type": "code",
   "execution_count": 55,
   "metadata": {},
   "outputs": [
    {
     "data": {
      "text/plain": [
       "(2964, 2)"
      ]
     },
     "execution_count": 55,
     "metadata": {},
     "output_type": "execute_result"
    }
   ],
   "source": [
    "b_glon = []\n",
    "b_glat = []\n",
    "b_rh = []\n",
    "\n",
    "for i in range(bur.shape[0]):\n",
    "        b_glon.append(\"%.1f\" % bur.iloc[i,6])\n",
    "        b_glat.append(\"%.1f\" % bur.iloc[i,5])\n",
    "\n",
    "tup2 = zip(b_glon, b_glat)\n",
    "\n",
    "df3 = pd.DataFrame({'Glon': b_glon, 'Glat': b_glat})\n",
    "df3.shape"
   ]
  },
  {
   "cell_type": "markdown",
   "metadata": {},
   "source": [
    "#### Find AMF unique clusters"
   ]
  },
  {
   "cell_type": "code",
   "execution_count": 56,
   "metadata": {},
   "outputs": [
    {
     "data": {
      "text/plain": [
       "45589"
      ]
     },
     "execution_count": 56,
     "metadata": {},
     "output_type": "execute_result"
    }
   ],
   "source": [
    "a = set(list(zip(d_glonR, d_glatR)))\n",
    "b = set(list(zip(b_glon, b_glat)))\n",
    "c = a-b\n",
    "d,e, = zip(*c)\n",
    "len(c)"
   ]
  },
  {
   "cell_type": "code",
   "execution_count": 57,
   "metadata": {},
   "outputs": [
    {
     "data": {
      "text/html": [
       "<div>\n",
       "<style scoped>\n",
       "    .dataframe tbody tr th:only-of-type {\n",
       "        vertical-align: middle;\n",
       "    }\n",
       "\n",
       "    .dataframe tbody tr th {\n",
       "        vertical-align: top;\n",
       "    }\n",
       "\n",
       "    .dataframe thead th {\n",
       "        text-align: right;\n",
       "    }\n",
       "</style>\n",
       "<table border=\"1\" class=\"dataframe\">\n",
       "  <thead>\n",
       "    <tr style=\"text-align: right;\">\n",
       "      <th></th>\n",
       "      <th>Glon</th>\n",
       "      <th>Glat</th>\n",
       "    </tr>\n",
       "  </thead>\n",
       "  <tbody>\n",
       "    <tr>\n",
       "      <th>0</th>\n",
       "      <td>251.8</td>\n",
       "      <td>76.1</td>\n",
       "    </tr>\n",
       "    <tr>\n",
       "      <th>1</th>\n",
       "      <td>90.4</td>\n",
       "      <td>-29.0</td>\n",
       "    </tr>\n",
       "    <tr>\n",
       "      <th>2</th>\n",
       "      <td>54.6</td>\n",
       "      <td>30.0</td>\n",
       "    </tr>\n",
       "    <tr>\n",
       "      <th>3</th>\n",
       "      <td>127.3</td>\n",
       "      <td>-69.2</td>\n",
       "    </tr>\n",
       "    <tr>\n",
       "      <th>4</th>\n",
       "      <td>116.0</td>\n",
       "      <td>-50.8</td>\n",
       "    </tr>\n",
       "  </tbody>\n",
       "</table>\n",
       "</div>"
      ],
      "text/plain": [
       "    Glon   Glat\n",
       "0  251.8   76.1\n",
       "1   90.4  -29.0\n",
       "2   54.6   30.0\n",
       "3  127.3  -69.2\n",
       "4  116.0  -50.8"
      ]
     },
     "execution_count": 57,
     "metadata": {},
     "output_type": "execute_result"
    }
   ],
   "source": [
    "new = pd.DataFrame({'Glon': d, 'Glat': e})\n",
    "new.head()"
   ]
  },
  {
   "cell_type": "markdown",
   "metadata": {},
   "source": [
    "#### Find AMF clusters with high SNs (>7)"
   ]
  },
  {
   "cell_type": "code",
   "execution_count": 58,
   "metadata": {},
   "outputs": [],
   "source": [
    "num = []\n",
    "highglon = []\n",
    "highglat = []\n",
    "indx = []\n",
    "\n",
    "for j in range(dr9.shape[0]):\n",
    "    pix = hp.ang2pix(2048,dr9.iloc[j,15],dr9.iloc[j,14],lonlat=True,nest=False)\n",
    "    if sn_masked[pix] > 7:\n",
    "        highglon.append(\"%.1f\" % dr9.iloc[j,15])\n",
    "        highglat.append(\"%.1f\" % dr9.iloc[j,14])\n",
    "        num.append(dr9.iloc[j,0])\n",
    "        indx.append(j)\n",
    "\n",
    "tup3 = zip(highglon, highglat)\n",
    "\n",
    "df4 = pd.DataFrame({'Glon': highglon, 'Glat': highglat})"
   ]
  },
  {
   "cell_type": "markdown",
   "metadata": {},
   "source": [
    "#### Generate counts for clusters identified and unidentified by Burenin"
   ]
  },
  {
   "cell_type": "markdown",
   "metadata": {},
   "source": [
    "Re-wrote all the following code because old code was fucked up. Converted the AMF and Burenin catalogs to sets of tuples (glon,glat) and then subtracted Burenin from AMF to get the AMF-unique clusters. May have lost some precision by rounding the glon and glat to one dec but by using *both* glon and glat I'm hoping that there won't be any errors in subtraction."
   ]
  },
  {
   "cell_type": "code",
   "execution_count": 59,
   "metadata": {},
   "outputs": [
    {
     "name": "stdout",
     "output_type": "stream",
     "text": [
      "Known clusters:  2964\n",
      "Newly identified clusters:  170\n"
     ]
    }
   ],
   "source": [
    "f = set(list(zip(highglon, highglat)))\n",
    "g = f-b\n",
    "h = f-g\n",
    "len(h)\n",
    "\n",
    "i,j = zip(*h)\n",
    "k,l = zip(*g)\n",
    "m,n = zip(*f)\n",
    "\n",
    "inbur = pd.DataFrame({'Glon': i, 'Glat': j})\n",
    "notinbur = pd.DataFrame({'Glon': k, 'Glat': l})\n",
    "total = pd.DataFrame({'Glon': m, 'Glat': n})\n",
    "print(\"Known clusters: \", df3.shape[0])\n",
    "print(\"Newly identified clusters: \", notinbur.shape[0])"
   ]
  },
  {
   "cell_type": "markdown",
   "metadata": {},
   "source": [
    "#### Create list of cluster numbers"
   ]
  },
  {
   "cell_type": "code",
   "execution_count": 60,
   "metadata": {},
   "outputs": [
    {
     "name": "stdout",
     "output_type": "stream",
     "text": [
      "CPU times: user 3min 29s, sys: 43.4 ms, total: 3min 29s\n",
      "Wall time: 3min 30s\n"
     ]
    }
   ],
   "source": [
    "%%time\n",
    "\n",
    "clusts = []\n",
    "RA = []\n",
    "dec = []\n",
    "lat = []\n",
    "lon = []\n",
    "sn = []\n",
    "z = []\n",
    "rich = []\n",
    "burn = []\n",
    "noi = []\n",
    "\n",
    "for i in range(inbur.shape[0]):\n",
    "    for j in range(dr9.shape[0]):\n",
    "        if(inbur.iloc[i,0] == \"%.1f\" % dr9.iloc[j,15]) and (inbur.iloc[i,1] == \"%.1f\" % dr9.iloc[j,14]):\n",
    "            pix = hp.ang2pix(2048,dr9.iloc[j,15],dr9.iloc[j,14],lonlat=True)\n",
    "            \n",
    "            noi.append(nilc_stddevmap[pix])\n",
    "            clusts.append(dr9.iloc[j,0])\n",
    "            RA.append(dr9.iloc[j,1])\n",
    "            dec.append(dr9.iloc[j,2])\n",
    "            lat.append(dr9.iloc[j,14])\n",
    "            lon.append(dr9.iloc[j,15])\n",
    "            sn.append(sn_masked[pix])\n",
    "            z.append(dr9.iloc[j,3])\n",
    "            rich.append(dr9.iloc[j,5])\n",
    "            burn.append(1)\n",
    "\n",
    "for k in range(notinbur.shape[0]):\n",
    "    for l in range(dr9.shape[0]):\n",
    "        if(notinbur.iloc[k,0] == \"%.1f\" % dr9.iloc[l,15]) and (notinbur.iloc[k,1] == \"%.1f\" % dr9.iloc[l,14]):\n",
    "            pix = hp.ang2pix(2048,dr9.iloc[l,15],dr9.iloc[l,14],lonlat=True)\n",
    "            \n",
    "            noi.append(nilc_stddevmap[pix])\n",
    "            clusts.append(dr9.iloc[l,0])\n",
    "            RA.append(dr9.iloc[l,1])\n",
    "            dec.append(dr9.iloc[l,2])\n",
    "            lat.append(dr9.iloc[l,14])\n",
    "            lon.append(dr9.iloc[l,15])\n",
    "            sn.append(sn_masked[pix])\n",
    "            z.append(dr9.iloc[l,3])\n",
    "            rich.append(dr9.iloc[l,5])\n",
    "            burn.append(0)        \n",
    "\n",
    "final = pd.DataFrame({'no': clusts, 'ra': RA, 'dec': dec, 'glat': lat, 'glon': lon, 'sn': sn, 'z': z, 'rh': rich, 'bur': burn, 'noi': noi})"
   ]
  },
  {
   "cell_type": "code",
   "execution_count": 61,
   "metadata": {},
   "outputs": [
    {
     "data": {
      "text/html": [
       "<div>\n",
       "<style scoped>\n",
       "    .dataframe tbody tr th:only-of-type {\n",
       "        vertical-align: middle;\n",
       "    }\n",
       "\n",
       "    .dataframe tbody tr th {\n",
       "        vertical-align: top;\n",
       "    }\n",
       "\n",
       "    .dataframe thead th {\n",
       "        text-align: right;\n",
       "    }\n",
       "</style>\n",
       "<table border=\"1\" class=\"dataframe\">\n",
       "  <thead>\n",
       "    <tr style=\"text-align: right;\">\n",
       "      <th></th>\n",
       "      <th>no</th>\n",
       "      <th>ra</th>\n",
       "      <th>dec</th>\n",
       "      <th>glat</th>\n",
       "      <th>glon</th>\n",
       "      <th>sn</th>\n",
       "      <th>z</th>\n",
       "      <th>rh</th>\n",
       "      <th>bur</th>\n",
       "      <th>noi</th>\n",
       "    </tr>\n",
       "  </thead>\n",
       "  <tbody>\n",
       "    <tr>\n",
       "      <th>256</th>\n",
       "      <td>587</td>\n",
       "      <td>258.1058</td>\n",
       "      <td>64.0520</td>\n",
       "      <td>34.964831</td>\n",
       "      <td>93.928116</td>\n",
       "      <td>55.194766</td>\n",
       "      <td>0.0827</td>\n",
       "      <td>78.3255</td>\n",
       "      <td>0</td>\n",
       "      <td>3.441710e-07</td>\n",
       "    </tr>\n",
       "    <tr>\n",
       "      <th>236</th>\n",
       "      <td>7</td>\n",
       "      <td>250.1485</td>\n",
       "      <td>46.6917</td>\n",
       "      <td>41.429880</td>\n",
       "      <td>72.599428</td>\n",
       "      <td>44.674799</td>\n",
       "      <td>0.2248</td>\n",
       "      <td>182.3373</td>\n",
       "      <td>0</td>\n",
       "      <td>7.308928e-07</td>\n",
       "    </tr>\n",
       "    <tr>\n",
       "      <th>120</th>\n",
       "      <td>22</td>\n",
       "      <td>328.4102</td>\n",
       "      <td>17.6964</td>\n",
       "      <td>-27.818081</td>\n",
       "      <td>73.966452</td>\n",
       "      <td>31.827315</td>\n",
       "      <td>0.2733</td>\n",
       "      <td>159.5833</td>\n",
       "      <td>1</td>\n",
       "      <td>9.522879e-07</td>\n",
       "    </tr>\n",
       "    <tr>\n",
       "      <th>54</th>\n",
       "      <td>401</td>\n",
       "      <td>130.7422</td>\n",
       "      <td>36.3575</td>\n",
       "      <td>37.265469</td>\n",
       "      <td>186.370135</td>\n",
       "      <td>31.361665</td>\n",
       "      <td>0.2999</td>\n",
       "      <td>85.9212</td>\n",
       "      <td>1</td>\n",
       "      <td>1.085450e-06</td>\n",
       "    </tr>\n",
       "    <tr>\n",
       "      <th>158</th>\n",
       "      <td>6</td>\n",
       "      <td>197.8796</td>\n",
       "      <td>-1.3356</td>\n",
       "      <td>61.128514</td>\n",
       "      <td>313.370385</td>\n",
       "      <td>31.143056</td>\n",
       "      <td>0.2042</td>\n",
       "      <td>192.0829</td>\n",
       "      <td>0</td>\n",
       "      <td>7.479505e-07</td>\n",
       "    </tr>\n",
       "    <tr>\n",
       "      <th>71</th>\n",
       "      <td>169</td>\n",
       "      <td>216.4957</td>\n",
       "      <td>37.8322</td>\n",
       "      <td>67.462893</td>\n",
       "      <td>67.224236</td>\n",
       "      <td>29.542457</td>\n",
       "      <td>0.1669</td>\n",
       "      <td>105.2935</td>\n",
       "      <td>1</td>\n",
       "      <td>4.868885e-07</td>\n",
       "    </tr>\n",
       "    <tr>\n",
       "      <th>251</th>\n",
       "      <td>1381</td>\n",
       "      <td>10.4474</td>\n",
       "      <td>-9.3602</td>\n",
       "      <td>-72.086443</td>\n",
       "      <td>115.172861</td>\n",
       "      <td>29.512361</td>\n",
       "      <td>0.0565</td>\n",
       "      <td>62.8338</td>\n",
       "      <td>0</td>\n",
       "      <td>8.886892e-07</td>\n",
       "    </tr>\n",
       "    <tr>\n",
       "      <th>221</th>\n",
       "      <td>18</td>\n",
       "      <td>203.8354</td>\n",
       "      <td>41.0006</td>\n",
       "      <td>73.444772</td>\n",
       "      <td>92.647549</td>\n",
       "      <td>28.961685</td>\n",
       "      <td>0.2365</td>\n",
       "      <td>166.2843</td>\n",
       "      <td>0</td>\n",
       "      <td>1.350841e-06</td>\n",
       "    </tr>\n",
       "    <tr>\n",
       "      <th>46</th>\n",
       "      <td>10</td>\n",
       "      <td>203.1873</td>\n",
       "      <td>50.5346</td>\n",
       "      <td>65.305106</td>\n",
       "      <td>107.103759</td>\n",
       "      <td>25.696075</td>\n",
       "      <td>0.3110</td>\n",
       "      <td>179.1883</td>\n",
       "      <td>1</td>\n",
       "      <td>5.729936e-07</td>\n",
       "    </tr>\n",
       "    <tr>\n",
       "      <th>320</th>\n",
       "      <td>5</td>\n",
       "      <td>260.6324</td>\n",
       "      <td>32.1398</td>\n",
       "      <td>31.846666</td>\n",
       "      <td>55.602221</td>\n",
       "      <td>24.655148</td>\n",
       "      <td>0.2252</td>\n",
       "      <td>200.7117</td>\n",
       "      <td>0</td>\n",
       "      <td>6.224097e-07</td>\n",
       "    </tr>\n",
       "    <tr>\n",
       "      <th>312</th>\n",
       "      <td>1689</td>\n",
       "      <td>227.5324</td>\n",
       "      <td>33.4691</td>\n",
       "      <td>59.546357</td>\n",
       "      <td>53.491427</td>\n",
       "      <td>22.761302</td>\n",
       "      <td>0.1171</td>\n",
       "      <td>59.3955</td>\n",
       "      <td>0</td>\n",
       "      <td>6.047228e-07</td>\n",
       "    </tr>\n",
       "    <tr>\n",
       "      <th>74</th>\n",
       "      <td>1646</td>\n",
       "      <td>255.6736</td>\n",
       "      <td>34.0653</td>\n",
       "      <td>36.317169</td>\n",
       "      <td>56.792459</td>\n",
       "      <td>22.758043</td>\n",
       "      <td>0.0974</td>\n",
       "      <td>59.8471</td>\n",
       "      <td>1</td>\n",
       "      <td>7.020838e-07</td>\n",
       "    </tr>\n",
       "    <tr>\n",
       "      <th>274</th>\n",
       "      <td>227</td>\n",
       "      <td>239.6198</td>\n",
       "      <td>27.3433</td>\n",
       "      <td>48.677997</td>\n",
       "      <td>44.403436</td>\n",
       "      <td>21.894399</td>\n",
       "      <td>0.0903</td>\n",
       "      <td>98.8727</td>\n",
       "      <td>0</td>\n",
       "      <td>2.850354e-06</td>\n",
       "    </tr>\n",
       "    <tr>\n",
       "      <th>245</th>\n",
       "      <td>57</td>\n",
       "      <td>210.2728</td>\n",
       "      <td>2.9235</td>\n",
       "      <td>60.616101</td>\n",
       "      <td>340.458271</td>\n",
       "      <td>21.863032</td>\n",
       "      <td>0.2527</td>\n",
       "      <td>132.8820</td>\n",
       "      <td>0</td>\n",
       "      <td>1.330541e-06</td>\n",
       "    </tr>\n",
       "    <tr>\n",
       "      <th>67</th>\n",
       "      <td>13</td>\n",
       "      <td>139.4938</td>\n",
       "      <td>51.7236</td>\n",
       "      <td>43.387615</td>\n",
       "      <td>166.090009</td>\n",
       "      <td>20.839521</td>\n",
       "      <td>0.2574</td>\n",
       "      <td>172.6889</td>\n",
       "      <td>1</td>\n",
       "      <td>8.390097e-07</td>\n",
       "    </tr>\n",
       "    <tr>\n",
       "      <th>32</th>\n",
       "      <td>186</td>\n",
       "      <td>332.9356</td>\n",
       "      <td>-3.8274</td>\n",
       "      <td>-45.352606</td>\n",
       "      <td>57.260291</td>\n",
       "      <td>20.449467</td>\n",
       "      <td>0.3965</td>\n",
       "      <td>103.0234</td>\n",
       "      <td>1</td>\n",
       "      <td>5.158477e-07</td>\n",
       "    </tr>\n",
       "    <tr>\n",
       "      <th>293</th>\n",
       "      <td>2011</td>\n",
       "      <td>164.5159</td>\n",
       "      <td>56.7934</td>\n",
       "      <td>54.144838</td>\n",
       "      <td>149.284517</td>\n",
       "      <td>20.063093</td>\n",
       "      <td>0.1364</td>\n",
       "      <td>56.7570</td>\n",
       "      <td>0</td>\n",
       "      <td>7.586687e-07</td>\n",
       "    </tr>\n",
       "    <tr>\n",
       "      <th>22</th>\n",
       "      <td>1505</td>\n",
       "      <td>194.6729</td>\n",
       "      <td>-1.7615</td>\n",
       "      <td>61.057456</td>\n",
       "      <td>306.679465</td>\n",
       "      <td>19.915610</td>\n",
       "      <td>0.0828</td>\n",
       "      <td>61.3860</td>\n",
       "      <td>1</td>\n",
       "      <td>9.439964e-07</td>\n",
       "    </tr>\n",
       "    <tr>\n",
       "      <th>191</th>\n",
       "      <td>963</td>\n",
       "      <td>178.8439</td>\n",
       "      <td>23.3474</td>\n",
       "      <td>76.779712</td>\n",
       "      <td>226.454947</td>\n",
       "      <td>19.375082</td>\n",
       "      <td>0.1392</td>\n",
       "      <td>68.3579</td>\n",
       "      <td>0</td>\n",
       "      <td>7.711801e-07</td>\n",
       "    </tr>\n",
       "    <tr>\n",
       "      <th>34</th>\n",
       "      <td>117</td>\n",
       "      <td>330.2229</td>\n",
       "      <td>20.9783</td>\n",
       "      <td>-26.620944</td>\n",
       "      <td>77.904557</td>\n",
       "      <td>19.352708</td>\n",
       "      <td>0.1765</td>\n",
       "      <td>114.9012</td>\n",
       "      <td>1</td>\n",
       "      <td>1.160257e-06</td>\n",
       "    </tr>\n",
       "    <tr>\n",
       "      <th>58</th>\n",
       "      <td>856</td>\n",
       "      <td>260.0196</td>\n",
       "      <td>26.6485</td>\n",
       "      <td>30.882232</td>\n",
       "      <td>49.239338</td>\n",
       "      <td>19.314747</td>\n",
       "      <td>0.1601</td>\n",
       "      <td>70.3366</td>\n",
       "      <td>1</td>\n",
       "      <td>1.080588e-06</td>\n",
       "    </tr>\n",
       "    <tr>\n",
       "      <th>73</th>\n",
       "      <td>36</td>\n",
       "      <td>14.0123</td>\n",
       "      <td>26.3806</td>\n",
       "      <td>-36.479647</td>\n",
       "      <td>124.216377</td>\n",
       "      <td>19.258108</td>\n",
       "      <td>0.2266</td>\n",
       "      <td>143.9792</td>\n",
       "      <td>1</td>\n",
       "      <td>8.921146e-07</td>\n",
       "    </tr>\n",
       "    <tr>\n",
       "      <th>37</th>\n",
       "      <td>359</td>\n",
       "      <td>230.6003</td>\n",
       "      <td>27.7122</td>\n",
       "      <td>56.627220</td>\n",
       "      <td>42.839435</td>\n",
       "      <td>19.212283</td>\n",
       "      <td>0.0741</td>\n",
       "      <td>88.6506</td>\n",
       "      <td>1</td>\n",
       "      <td>8.073213e-07</td>\n",
       "    </tr>\n",
       "    <tr>\n",
       "      <th>123</th>\n",
       "      <td>1205</td>\n",
       "      <td>257.4520</td>\n",
       "      <td>34.4230</td>\n",
       "      <td>34.942320</td>\n",
       "      <td>57.569548</td>\n",
       "      <td>19.134240</td>\n",
       "      <td>0.0857</td>\n",
       "      <td>65.0376</td>\n",
       "      <td>1</td>\n",
       "      <td>1.224123e-06</td>\n",
       "    </tr>\n",
       "    <tr>\n",
       "      <th>84</th>\n",
       "      <td>382</td>\n",
       "      <td>179.8410</td>\n",
       "      <td>49.7930</td>\n",
       "      <td>65.231563</td>\n",
       "      <td>143.242258</td>\n",
       "      <td>18.588438</td>\n",
       "      <td>0.3488</td>\n",
       "      <td>87.2191</td>\n",
       "      <td>1</td>\n",
       "      <td>8.427010e-07</td>\n",
       "    </tr>\n",
       "    <tr>\n",
       "      <th>14</th>\n",
       "      <td>106</td>\n",
       "      <td>198.7957</td>\n",
       "      <td>51.8164</td>\n",
       "      <td>64.910207</td>\n",
       "      <td>114.260216</td>\n",
       "      <td>18.586359</td>\n",
       "      <td>0.2822</td>\n",
       "      <td>118.1009</td>\n",
       "      <td>1</td>\n",
       "      <td>4.118850e-07</td>\n",
       "    </tr>\n",
       "    <tr>\n",
       "      <th>53</th>\n",
       "      <td>42</td>\n",
       "      <td>180.3486</td>\n",
       "      <td>23.1085</td>\n",
       "      <td>77.987637</td>\n",
       "      <td>229.728375</td>\n",
       "      <td>18.265236</td>\n",
       "      <td>0.2615</td>\n",
       "      <td>139.8582</td>\n",
       "      <td>1</td>\n",
       "      <td>6.833073e-07</td>\n",
       "    </tr>\n",
       "    <tr>\n",
       "      <th>280</th>\n",
       "      <td>104</td>\n",
       "      <td>189.2712</td>\n",
       "      <td>63.2056</td>\n",
       "      <td>53.846196</td>\n",
       "      <td>125.673017</td>\n",
       "      <td>17.428501</td>\n",
       "      <td>0.3022</td>\n",
       "      <td>119.4359</td>\n",
       "      <td>0</td>\n",
       "      <td>8.237189e-07</td>\n",
       "    </tr>\n",
       "    <tr>\n",
       "      <th>94</th>\n",
       "      <td>495</td>\n",
       "      <td>231.0557</td>\n",
       "      <td>29.9294</td>\n",
       "      <td>56.477398</td>\n",
       "      <td>46.918269</td>\n",
       "      <td>17.265701</td>\n",
       "      <td>0.1185</td>\n",
       "      <td>81.6910</td>\n",
       "      <td>1</td>\n",
       "      <td>8.833672e-07</td>\n",
       "    </tr>\n",
       "    <tr>\n",
       "      <th>160</th>\n",
       "      <td>149</td>\n",
       "      <td>177.4175</td>\n",
       "      <td>22.3998</td>\n",
       "      <td>75.215548</td>\n",
       "      <td>228.203681</td>\n",
       "      <td>16.985604</td>\n",
       "      <td>0.5036</td>\n",
       "      <td>108.4830</td>\n",
       "      <td>0</td>\n",
       "      <td>7.402061e-07</td>\n",
       "    </tr>\n",
       "    <tr>\n",
       "      <th>...</th>\n",
       "      <td>...</td>\n",
       "      <td>...</td>\n",
       "      <td>...</td>\n",
       "      <td>...</td>\n",
       "      <td>...</td>\n",
       "      <td>...</td>\n",
       "      <td>...</td>\n",
       "      <td>...</td>\n",
       "      <td>...</td>\n",
       "      <td>...</td>\n",
       "    </tr>\n",
       "    <tr>\n",
       "      <th>57</th>\n",
       "      <td>1412</td>\n",
       "      <td>339.5864</td>\n",
       "      <td>26.6340</td>\n",
       "      <td>-27.433506</td>\n",
       "      <td>89.389764</td>\n",
       "      <td>7.412097</td>\n",
       "      <td>0.3177</td>\n",
       "      <td>62.3864</td>\n",
       "      <td>1</td>\n",
       "      <td>9.081834e-07</td>\n",
       "    </tr>\n",
       "    <tr>\n",
       "      <th>76</th>\n",
       "      <td>1301</td>\n",
       "      <td>208.4847</td>\n",
       "      <td>14.8974</td>\n",
       "      <td>70.999751</td>\n",
       "      <td>356.012992</td>\n",
       "      <td>7.402435</td>\n",
       "      <td>0.1262</td>\n",
       "      <td>63.7316</td>\n",
       "      <td>1</td>\n",
       "      <td>1.507973e-06</td>\n",
       "    </tr>\n",
       "    <tr>\n",
       "      <th>283</th>\n",
       "      <td>1738</td>\n",
       "      <td>234.9935</td>\n",
       "      <td>17.9318</td>\n",
       "      <td>50.203760</td>\n",
       "      <td>28.657341</td>\n",
       "      <td>7.395138</td>\n",
       "      <td>0.3870</td>\n",
       "      <td>58.9927</td>\n",
       "      <td>0</td>\n",
       "      <td>6.886813e-07</td>\n",
       "    </tr>\n",
       "    <tr>\n",
       "      <th>264</th>\n",
       "      <td>743</td>\n",
       "      <td>261.8921</td>\n",
       "      <td>61.4860</td>\n",
       "      <td>33.552605</td>\n",
       "      <td>90.595642</td>\n",
       "      <td>7.363401</td>\n",
       "      <td>0.3123</td>\n",
       "      <td>72.8844</td>\n",
       "      <td>0</td>\n",
       "      <td>8.010816e-07</td>\n",
       "    </tr>\n",
       "    <tr>\n",
       "      <th>297</th>\n",
       "      <td>173</td>\n",
       "      <td>144.1942</td>\n",
       "      <td>12.4975</td>\n",
       "      <td>42.263764</td>\n",
       "      <td>220.809597</td>\n",
       "      <td>7.347487</td>\n",
       "      <td>0.3341</td>\n",
       "      <td>104.6198</td>\n",
       "      <td>0</td>\n",
       "      <td>6.452030e-07</td>\n",
       "    </tr>\n",
       "    <tr>\n",
       "      <th>106</th>\n",
       "      <td>1056</td>\n",
       "      <td>337.2132</td>\n",
       "      <td>7.4593</td>\n",
       "      <td>-41.140986</td>\n",
       "      <td>72.819946</td>\n",
       "      <td>7.333455</td>\n",
       "      <td>0.3686</td>\n",
       "      <td>67.1286</td>\n",
       "      <td>1</td>\n",
       "      <td>1.138102e-06</td>\n",
       "    </tr>\n",
       "    <tr>\n",
       "      <th>210</th>\n",
       "      <td>97</td>\n",
       "      <td>4.7465</td>\n",
       "      <td>-20.3422</td>\n",
       "      <td>-79.945643</td>\n",
       "      <td>73.648526</td>\n",
       "      <td>7.316389</td>\n",
       "      <td>0.2860</td>\n",
       "      <td>120.5234</td>\n",
       "      <td>0</td>\n",
       "      <td>1.633471e-06</td>\n",
       "    </tr>\n",
       "    <tr>\n",
       "      <th>301</th>\n",
       "      <td>692</td>\n",
       "      <td>126.1936</td>\n",
       "      <td>4.4784</td>\n",
       "      <td>22.770813</td>\n",
       "      <td>219.819012</td>\n",
       "      <td>7.292077</td>\n",
       "      <td>0.2256</td>\n",
       "      <td>74.4960</td>\n",
       "      <td>0</td>\n",
       "      <td>6.540108e-07</td>\n",
       "    </tr>\n",
       "    <tr>\n",
       "      <th>230</th>\n",
       "      <td>582</td>\n",
       "      <td>7.5003</td>\n",
       "      <td>-20.0745</td>\n",
       "      <td>-81.408051</td>\n",
       "      <td>86.973769</td>\n",
       "      <td>7.239032</td>\n",
       "      <td>0.2487</td>\n",
       "      <td>78.5131</td>\n",
       "      <td>0</td>\n",
       "      <td>8.437875e-07</td>\n",
       "    </tr>\n",
       "    <tr>\n",
       "      <th>322</th>\n",
       "      <td>532</td>\n",
       "      <td>185.5936</td>\n",
       "      <td>40.4934</td>\n",
       "      <td>75.348401</td>\n",
       "      <td>145.281150</td>\n",
       "      <td>7.235299</td>\n",
       "      <td>0.3103</td>\n",
       "      <td>80.1762</td>\n",
       "      <td>0</td>\n",
       "      <td>1.264202e-06</td>\n",
       "    </tr>\n",
       "    <tr>\n",
       "      <th>95</th>\n",
       "      <td>591</td>\n",
       "      <td>221.0751</td>\n",
       "      <td>35.9140</td>\n",
       "      <td>64.504229</td>\n",
       "      <td>60.112026</td>\n",
       "      <td>7.223145</td>\n",
       "      <td>0.3513</td>\n",
       "      <td>78.1358</td>\n",
       "      <td>1</td>\n",
       "      <td>8.649938e-07</td>\n",
       "    </tr>\n",
       "    <tr>\n",
       "      <th>186</th>\n",
       "      <td>844</td>\n",
       "      <td>190.3878</td>\n",
       "      <td>32.8439</td>\n",
       "      <td>83.897211</td>\n",
       "      <td>142.857942</td>\n",
       "      <td>7.216375</td>\n",
       "      <td>0.3946</td>\n",
       "      <td>70.4037</td>\n",
       "      <td>0</td>\n",
       "      <td>7.574395e-07</td>\n",
       "    </tr>\n",
       "    <tr>\n",
       "      <th>263</th>\n",
       "      <td>1022</td>\n",
       "      <td>168.1978</td>\n",
       "      <td>2.4470</td>\n",
       "      <td>55.846942</td>\n",
       "      <td>254.981744</td>\n",
       "      <td>7.208009</td>\n",
       "      <td>0.2651</td>\n",
       "      <td>67.5280</td>\n",
       "      <td>0</td>\n",
       "      <td>9.398844e-07</td>\n",
       "    </tr>\n",
       "    <tr>\n",
       "      <th>1</th>\n",
       "      <td>270</td>\n",
       "      <td>261.8056</td>\n",
       "      <td>70.6090</td>\n",
       "      <td>32.430127</td>\n",
       "      <td>101.395086</td>\n",
       "      <td>7.198512</td>\n",
       "      <td>0.3610</td>\n",
       "      <td>95.6841</td>\n",
       "      <td>1</td>\n",
       "      <td>8.300299e-07</td>\n",
       "    </tr>\n",
       "    <tr>\n",
       "      <th>217</th>\n",
       "      <td>2306</td>\n",
       "      <td>168.1501</td>\n",
       "      <td>-3.1988</td>\n",
       "      <td>51.425374</td>\n",
       "      <td>260.914714</td>\n",
       "      <td>7.182538</td>\n",
       "      <td>0.0980</td>\n",
       "      <td>54.4773</td>\n",
       "      <td>0</td>\n",
       "      <td>1.685542e-06</td>\n",
       "    </tr>\n",
       "    <tr>\n",
       "      <th>161</th>\n",
       "      <td>569</td>\n",
       "      <td>209.7663</td>\n",
       "      <td>27.8486</td>\n",
       "      <td>74.996436</td>\n",
       "      <td>39.586041</td>\n",
       "      <td>7.171548</td>\n",
       "      <td>0.4821</td>\n",
       "      <td>78.7642</td>\n",
       "      <td>0</td>\n",
       "      <td>5.336385e-07</td>\n",
       "    </tr>\n",
       "    <tr>\n",
       "      <th>176</th>\n",
       "      <td>153</td>\n",
       "      <td>356.1347</td>\n",
       "      <td>3.0939</td>\n",
       "      <td>-55.739538</td>\n",
       "      <td>92.238774</td>\n",
       "      <td>7.171373</td>\n",
       "      <td>0.3427</td>\n",
       "      <td>107.9498</td>\n",
       "      <td>0</td>\n",
       "      <td>1.300297e-06</td>\n",
       "    </tr>\n",
       "    <tr>\n",
       "      <th>272</th>\n",
       "      <td>2164</td>\n",
       "      <td>171.7571</td>\n",
       "      <td>17.1291</td>\n",
       "      <td>68.090413</td>\n",
       "      <td>235.700670</td>\n",
       "      <td>7.155957</td>\n",
       "      <td>0.1307</td>\n",
       "      <td>55.5085</td>\n",
       "      <td>0</td>\n",
       "      <td>9.204806e-07</td>\n",
       "    </tr>\n",
       "    <tr>\n",
       "      <th>295</th>\n",
       "      <td>972</td>\n",
       "      <td>2.5854</td>\n",
       "      <td>17.7392</td>\n",
       "      <td>-44.039091</td>\n",
       "      <td>109.262938</td>\n",
       "      <td>7.121250</td>\n",
       "      <td>0.1915</td>\n",
       "      <td>68.2391</td>\n",
       "      <td>0</td>\n",
       "      <td>9.673126e-07</td>\n",
       "    </tr>\n",
       "    <tr>\n",
       "      <th>175</th>\n",
       "      <td>479</td>\n",
       "      <td>229.1847</td>\n",
       "      <td>-0.9078</td>\n",
       "      <td>45.212154</td>\n",
       "      <td>0.151163</td>\n",
       "      <td>7.112825</td>\n",
       "      <td>0.1191</td>\n",
       "      <td>82.2326</td>\n",
       "      <td>0</td>\n",
       "      <td>1.336768e-06</td>\n",
       "    </tr>\n",
       "    <tr>\n",
       "      <th>195</th>\n",
       "      <td>37</td>\n",
       "      <td>186.6912</td>\n",
       "      <td>21.8663</td>\n",
       "      <td>82.308908</td>\n",
       "      <td>254.764071</td>\n",
       "      <td>7.112371</td>\n",
       "      <td>0.4340</td>\n",
       "      <td>143.2243</td>\n",
       "      <td>0</td>\n",
       "      <td>6.396951e-07</td>\n",
       "    </tr>\n",
       "    <tr>\n",
       "      <th>7</th>\n",
       "      <td>408</td>\n",
       "      <td>194.1038</td>\n",
       "      <td>4.6735</td>\n",
       "      <td>67.513891</td>\n",
       "      <td>306.176061</td>\n",
       "      <td>7.077389</td>\n",
       "      <td>0.2321</td>\n",
       "      <td>85.7323</td>\n",
       "      <td>1</td>\n",
       "      <td>1.085840e-06</td>\n",
       "    </tr>\n",
       "    <tr>\n",
       "      <th>126</th>\n",
       "      <td>297</td>\n",
       "      <td>333.4389</td>\n",
       "      <td>6.5363</td>\n",
       "      <td>-39.134719</td>\n",
       "      <td>68.508147</td>\n",
       "      <td>7.070692</td>\n",
       "      <td>0.3705</td>\n",
       "      <td>93.3625</td>\n",
       "      <td>1</td>\n",
       "      <td>7.923532e-07</td>\n",
       "    </tr>\n",
       "    <tr>\n",
       "      <th>267</th>\n",
       "      <td>1363</td>\n",
       "      <td>253.6574</td>\n",
       "      <td>22.6724</td>\n",
       "      <td>35.199631</td>\n",
       "      <td>42.638788</td>\n",
       "      <td>7.070676</td>\n",
       "      <td>0.1808</td>\n",
       "      <td>63.0347</td>\n",
       "      <td>0</td>\n",
       "      <td>7.814361e-07</td>\n",
       "    </tr>\n",
       "    <tr>\n",
       "      <th>163</th>\n",
       "      <td>403</td>\n",
       "      <td>345.5571</td>\n",
       "      <td>6.8262</td>\n",
       "      <td>-46.973517</td>\n",
       "      <td>81.060291</td>\n",
       "      <td>7.061656</td>\n",
       "      <td>0.3287</td>\n",
       "      <td>85.8582</td>\n",
       "      <td>0</td>\n",
       "      <td>6.961493e-07</td>\n",
       "    </tr>\n",
       "    <tr>\n",
       "      <th>304</th>\n",
       "      <td>684</td>\n",
       "      <td>342.2820</td>\n",
       "      <td>-5.4534</td>\n",
       "      <td>-53.716140</td>\n",
       "      <td>64.093058</td>\n",
       "      <td>7.057851</td>\n",
       "      <td>0.2642</td>\n",
       "      <td>74.6938</td>\n",
       "      <td>0</td>\n",
       "      <td>4.258191e-07</td>\n",
       "    </tr>\n",
       "    <tr>\n",
       "      <th>150</th>\n",
       "      <td>1763</td>\n",
       "      <td>2.5704</td>\n",
       "      <td>6.6823</td>\n",
       "      <td>-54.752568</td>\n",
       "      <td>105.029513</td>\n",
       "      <td>7.025487</td>\n",
       "      <td>0.2819</td>\n",
       "      <td>58.7889</td>\n",
       "      <td>1</td>\n",
       "      <td>7.980545e-07</td>\n",
       "    </tr>\n",
       "    <tr>\n",
       "      <th>130</th>\n",
       "      <td>2477</td>\n",
       "      <td>129.8873</td>\n",
       "      <td>-1.6821</td>\n",
       "      <td>23.008764</td>\n",
       "      <td>227.610993</td>\n",
       "      <td>7.017110</td>\n",
       "      <td>0.3030</td>\n",
       "      <td>53.4243</td>\n",
       "      <td>1</td>\n",
       "      <td>5.558456e-07</td>\n",
       "    </tr>\n",
       "    <tr>\n",
       "      <th>25</th>\n",
       "      <td>146</td>\n",
       "      <td>332.7639</td>\n",
       "      <td>-6.8808</td>\n",
       "      <td>-46.931715</td>\n",
       "      <td>53.479580</td>\n",
       "      <td>7.014910</td>\n",
       "      <td>0.3885</td>\n",
       "      <td>109.0379</td>\n",
       "      <td>1</td>\n",
       "      <td>1.059625e-06</td>\n",
       "    </tr>\n",
       "    <tr>\n",
       "      <th>96</th>\n",
       "      <td>386</td>\n",
       "      <td>151.7388</td>\n",
       "      <td>32.0056</td>\n",
       "      <td>54.116705</td>\n",
       "      <td>195.006015</td>\n",
       "      <td>7.010687</td>\n",
       "      <td>0.4020</td>\n",
       "      <td>86.9330</td>\n",
       "      <td>1</td>\n",
       "      <td>1.194983e-06</td>\n",
       "    </tr>\n",
       "  </tbody>\n",
       "</table>\n",
       "<p>261 rows × 10 columns</p>\n",
       "</div>"
      ],
      "text/plain": [
       "       no        ra      dec       glat        glon         sn       z  \\\n",
       "256   587  258.1058  64.0520  34.964831   93.928116  55.194766  0.0827   \n",
       "236     7  250.1485  46.6917  41.429880   72.599428  44.674799  0.2248   \n",
       "120    22  328.4102  17.6964 -27.818081   73.966452  31.827315  0.2733   \n",
       "54    401  130.7422  36.3575  37.265469  186.370135  31.361665  0.2999   \n",
       "158     6  197.8796  -1.3356  61.128514  313.370385  31.143056  0.2042   \n",
       "71    169  216.4957  37.8322  67.462893   67.224236  29.542457  0.1669   \n",
       "251  1381   10.4474  -9.3602 -72.086443  115.172861  29.512361  0.0565   \n",
       "221    18  203.8354  41.0006  73.444772   92.647549  28.961685  0.2365   \n",
       "46     10  203.1873  50.5346  65.305106  107.103759  25.696075  0.3110   \n",
       "320     5  260.6324  32.1398  31.846666   55.602221  24.655148  0.2252   \n",
       "312  1689  227.5324  33.4691  59.546357   53.491427  22.761302  0.1171   \n",
       "74   1646  255.6736  34.0653  36.317169   56.792459  22.758043  0.0974   \n",
       "274   227  239.6198  27.3433  48.677997   44.403436  21.894399  0.0903   \n",
       "245    57  210.2728   2.9235  60.616101  340.458271  21.863032  0.2527   \n",
       "67     13  139.4938  51.7236  43.387615  166.090009  20.839521  0.2574   \n",
       "32    186  332.9356  -3.8274 -45.352606   57.260291  20.449467  0.3965   \n",
       "293  2011  164.5159  56.7934  54.144838  149.284517  20.063093  0.1364   \n",
       "22   1505  194.6729  -1.7615  61.057456  306.679465  19.915610  0.0828   \n",
       "191   963  178.8439  23.3474  76.779712  226.454947  19.375082  0.1392   \n",
       "34    117  330.2229  20.9783 -26.620944   77.904557  19.352708  0.1765   \n",
       "58    856  260.0196  26.6485  30.882232   49.239338  19.314747  0.1601   \n",
       "73     36   14.0123  26.3806 -36.479647  124.216377  19.258108  0.2266   \n",
       "37    359  230.6003  27.7122  56.627220   42.839435  19.212283  0.0741   \n",
       "123  1205  257.4520  34.4230  34.942320   57.569548  19.134240  0.0857   \n",
       "84    382  179.8410  49.7930  65.231563  143.242258  18.588438  0.3488   \n",
       "14    106  198.7957  51.8164  64.910207  114.260216  18.586359  0.2822   \n",
       "53     42  180.3486  23.1085  77.987637  229.728375  18.265236  0.2615   \n",
       "280   104  189.2712  63.2056  53.846196  125.673017  17.428501  0.3022   \n",
       "94    495  231.0557  29.9294  56.477398   46.918269  17.265701  0.1185   \n",
       "160   149  177.4175  22.3998  75.215548  228.203681  16.985604  0.5036   \n",
       "..    ...       ...      ...        ...         ...        ...     ...   \n",
       "57   1412  339.5864  26.6340 -27.433506   89.389764   7.412097  0.3177   \n",
       "76   1301  208.4847  14.8974  70.999751  356.012992   7.402435  0.1262   \n",
       "283  1738  234.9935  17.9318  50.203760   28.657341   7.395138  0.3870   \n",
       "264   743  261.8921  61.4860  33.552605   90.595642   7.363401  0.3123   \n",
       "297   173  144.1942  12.4975  42.263764  220.809597   7.347487  0.3341   \n",
       "106  1056  337.2132   7.4593 -41.140986   72.819946   7.333455  0.3686   \n",
       "210    97    4.7465 -20.3422 -79.945643   73.648526   7.316389  0.2860   \n",
       "301   692  126.1936   4.4784  22.770813  219.819012   7.292077  0.2256   \n",
       "230   582    7.5003 -20.0745 -81.408051   86.973769   7.239032  0.2487   \n",
       "322   532  185.5936  40.4934  75.348401  145.281150   7.235299  0.3103   \n",
       "95    591  221.0751  35.9140  64.504229   60.112026   7.223145  0.3513   \n",
       "186   844  190.3878  32.8439  83.897211  142.857942   7.216375  0.3946   \n",
       "263  1022  168.1978   2.4470  55.846942  254.981744   7.208009  0.2651   \n",
       "1     270  261.8056  70.6090  32.430127  101.395086   7.198512  0.3610   \n",
       "217  2306  168.1501  -3.1988  51.425374  260.914714   7.182538  0.0980   \n",
       "161   569  209.7663  27.8486  74.996436   39.586041   7.171548  0.4821   \n",
       "176   153  356.1347   3.0939 -55.739538   92.238774   7.171373  0.3427   \n",
       "272  2164  171.7571  17.1291  68.090413  235.700670   7.155957  0.1307   \n",
       "295   972    2.5854  17.7392 -44.039091  109.262938   7.121250  0.1915   \n",
       "175   479  229.1847  -0.9078  45.212154    0.151163   7.112825  0.1191   \n",
       "195    37  186.6912  21.8663  82.308908  254.764071   7.112371  0.4340   \n",
       "7     408  194.1038   4.6735  67.513891  306.176061   7.077389  0.2321   \n",
       "126   297  333.4389   6.5363 -39.134719   68.508147   7.070692  0.3705   \n",
       "267  1363  253.6574  22.6724  35.199631   42.638788   7.070676  0.1808   \n",
       "163   403  345.5571   6.8262 -46.973517   81.060291   7.061656  0.3287   \n",
       "304   684  342.2820  -5.4534 -53.716140   64.093058   7.057851  0.2642   \n",
       "150  1763    2.5704   6.6823 -54.752568  105.029513   7.025487  0.2819   \n",
       "130  2477  129.8873  -1.6821  23.008764  227.610993   7.017110  0.3030   \n",
       "25    146  332.7639  -6.8808 -46.931715   53.479580   7.014910  0.3885   \n",
       "96    386  151.7388  32.0056  54.116705  195.006015   7.010687  0.4020   \n",
       "\n",
       "           rh  bur           noi  \n",
       "256   78.3255    0  3.441710e-07  \n",
       "236  182.3373    0  7.308928e-07  \n",
       "120  159.5833    1  9.522879e-07  \n",
       "54    85.9212    1  1.085450e-06  \n",
       "158  192.0829    0  7.479505e-07  \n",
       "71   105.2935    1  4.868885e-07  \n",
       "251   62.8338    0  8.886892e-07  \n",
       "221  166.2843    0  1.350841e-06  \n",
       "46   179.1883    1  5.729936e-07  \n",
       "320  200.7117    0  6.224097e-07  \n",
       "312   59.3955    0  6.047228e-07  \n",
       "74    59.8471    1  7.020838e-07  \n",
       "274   98.8727    0  2.850354e-06  \n",
       "245  132.8820    0  1.330541e-06  \n",
       "67   172.6889    1  8.390097e-07  \n",
       "32   103.0234    1  5.158477e-07  \n",
       "293   56.7570    0  7.586687e-07  \n",
       "22    61.3860    1  9.439964e-07  \n",
       "191   68.3579    0  7.711801e-07  \n",
       "34   114.9012    1  1.160257e-06  \n",
       "58    70.3366    1  1.080588e-06  \n",
       "73   143.9792    1  8.921146e-07  \n",
       "37    88.6506    1  8.073213e-07  \n",
       "123   65.0376    1  1.224123e-06  \n",
       "84    87.2191    1  8.427010e-07  \n",
       "14   118.1009    1  4.118850e-07  \n",
       "53   139.8582    1  6.833073e-07  \n",
       "280  119.4359    0  8.237189e-07  \n",
       "94    81.6910    1  8.833672e-07  \n",
       "160  108.4830    0  7.402061e-07  \n",
       "..        ...  ...           ...  \n",
       "57    62.3864    1  9.081834e-07  \n",
       "76    63.7316    1  1.507973e-06  \n",
       "283   58.9927    0  6.886813e-07  \n",
       "264   72.8844    0  8.010816e-07  \n",
       "297  104.6198    0  6.452030e-07  \n",
       "106   67.1286    1  1.138102e-06  \n",
       "210  120.5234    0  1.633471e-06  \n",
       "301   74.4960    0  6.540108e-07  \n",
       "230   78.5131    0  8.437875e-07  \n",
       "322   80.1762    0  1.264202e-06  \n",
       "95    78.1358    1  8.649938e-07  \n",
       "186   70.4037    0  7.574395e-07  \n",
       "263   67.5280    0  9.398844e-07  \n",
       "1     95.6841    1  8.300299e-07  \n",
       "217   54.4773    0  1.685542e-06  \n",
       "161   78.7642    0  5.336385e-07  \n",
       "176  107.9498    0  1.300297e-06  \n",
       "272   55.5085    0  9.204806e-07  \n",
       "295   68.2391    0  9.673126e-07  \n",
       "175   82.2326    0  1.336768e-06  \n",
       "195  143.2243    0  6.396951e-07  \n",
       "7     85.7323    1  1.085840e-06  \n",
       "126   93.3625    1  7.923532e-07  \n",
       "267   63.0347    0  7.814361e-07  \n",
       "163   85.8582    0  6.961493e-07  \n",
       "304   74.6938    0  4.258191e-07  \n",
       "150   58.7889    1  7.980545e-07  \n",
       "130   53.4243    1  5.558456e-07  \n",
       "25   109.0379    1  1.059625e-06  \n",
       "96    86.9330    1  1.194983e-06  \n",
       "\n",
       "[261 rows x 10 columns]"
      ]
     },
     "execution_count": 61,
     "metadata": {},
     "output_type": "execute_result"
    }
   ],
   "source": [
    "final[(final.rh > 50) & (final.noi > 0)].sort_values(by=['sn'], ascending = False)"
   ]
  },
  {
   "cell_type": "code",
   "execution_count": 63,
   "metadata": {},
   "outputs": [
    {
     "data": {
      "text/plain": [
       "8.933140773374012e-07"
      ]
     },
     "execution_count": 63,
     "metadata": {},
     "output_type": "execute_result"
    }
   ],
   "source": [
    "np.mean(final.noi)"
   ]
  },
  {
   "cell_type": "code",
   "execution_count": 66,
   "metadata": {},
   "outputs": [
    {
     "data": {
      "text/plain": [
       "<matplotlib.colorbar.Colorbar at 0x7fde7f43fc50>"
      ]
     },
     "execution_count": 66,
     "metadata": {},
     "output_type": "execute_result"
    },
    {
     "data": {
      "image/png": "[encoded data removed]",
      "text/plain": [
       "<Figure size 720x720 with 2 Axes>"
      ]
     },
     "metadata": {},
     "output_type": "display_data"
    }
   ],
   "source": [
    "plt.figure(figsize=(10,10))\n",
    "plt.scatter(np.log10(final['rh']),final['sn'],c=final.z,alpha=.6);\n",
    "plt.colorbar()"
   ]
  },
  {
   "cell_type": "markdown",
   "metadata": {},
   "source": [
    "### Plot AMF and compare plots to Burenin"
   ]
  },
  {
   "cell_type": "markdown",
   "metadata": {},
   "source": [
    "--------------------------------------------------------------------------------------------------------------"
   ]
  },
  {
   "cell_type": "code",
   "execution_count": null,
   "metadata": {
    "scrolled": false
   },
   "outputs": [],
   "source": [
    "sns = []\n",
    "\n",
    "for i in range(new.shape[0]):\n",
    "    pix = hp.ang2pix(2048,float(new.iloc[i,0]),float(new.iloc[i,1]),lonlat=True)\n",
    "    if sn_masked[pix]:\n",
    "        sns.append(sn_masked[pix])\n",
    "        \n",
    "len(sns)\n",
    "# sns"
   ]
  },
  {
   "cell_type": "code",
   "execution_count": null,
   "metadata": {},
   "outputs": [],
   "source": [
    "# Histogram of the above map\n",
    "plt.figure(figsize=(8,8))\n",
    "plt.hist(sns,bins=500,normed=True,fill=False,edgecolor='blue',alpha=.6);\n",
    "plt.xlim((-9,14))\n",
    "plt.ylim(1e-4,)\n",
    "plt.yscale('log');\n",
    "plt.xlabel('S/N');\n",
    "plt.title('Signal to Noise histogram of AMF-unique clusters');\n",
    "\n",
    "# ln = np.linspace(-9, 14, len(sns))\n",
    "# g = stats.norm.pdf(ln, 0, 1.73)  \n",
    "# plt.plot(ln, g, label=\"Norm\", color=\"red\")\n",
    "\n",
    "plt.show()"
   ]
  },
  {
   "cell_type": "code",
   "execution_count": null,
   "metadata": {
    "scrolled": true
   },
   "outputs": [],
   "source": [
    "plt.hist(sns,bins=500,normed=True,fill=False,edgecolor='blue',alpha=.6);\n",
    "plt.hist(sn_masked.compressed(), bins=500,normed=True,fill=False,edgecolor='r',);\n",
    "\n",
    "plt.xlim((-9,14))\n",
    "plt.ylim(1e-5,)\n",
    "plt.yscale('log');\n",
    "plt.xlabel('S/N');\n",
    "plt.title('Signal to Noise histogram of masked array');\n",
    "\n",
    "# ln = np.linspace(-9, 14, len(sn_masked))\n",
    "# g = stats.norm.pdf(ln, 0, 1.73)  \n",
    "# plt.plot(ln, g, label=\"Norm\", color=\"red\")\n",
    "\n",
    "plt.show()"
   ]
  },
  {
   "cell_type": "markdown",
   "metadata": {},
   "source": [
    "-----------------------------------------------------------------------------------------"
   ]
  },
  {
   "cell_type": "markdown",
   "metadata": {},
   "source": [
    "### Comparison of AMF to Burenin"
   ]
  },
  {
   "cell_type": "markdown",
   "metadata": {},
   "source": [
    "Compare SNs given by the smoothing/masking utilized here to Big Burenin's SNs. The fact that 41% of the SNs are greater than 0.5 away leads me to believe I either fucked up or something is wrong with the method."
   ]
  },
  {
   "cell_type": "code",
   "execution_count": null,
   "metadata": {},
   "outputs": [],
   "source": [
    "c=SkyCoord(bur['bur_ra'],bur['bur_dec'],frame='icrs',unit='deg')\n",
    "\n",
    "bur['glat'] = c.galactic.b.degree # Galactic Latitude\n",
    "bur['glon'] = c.galactic.l.degree # Galactic Longitude\n",
    "\n",
    "bur.head()"
   ]
  },
  {
   "cell_type": "code",
   "execution_count": null,
   "metadata": {},
   "outputs": [],
   "source": [
    "pix = hp.ang2pix(2048,bur.iloc[4,6],bur.iloc[4,5],lonlat=True)"
   ]
  },
  {
   "cell_type": "code",
   "execution_count": null,
   "metadata": {},
   "outputs": [],
   "source": [
    "sn_masked[pix]"
   ]
  },
  {
   "cell_type": "code",
   "execution_count": null,
   "metadata": {},
   "outputs": [],
   "source": [
    "cnt1 = 0\n",
    "for i in range(bur.shape[0]):\n",
    "    pix = hp.ang2pix(2048,bur.iloc[i,6],bur.iloc[i,5],lonlat=True)\n",
    "    if sn_masked[pix]-bur.iloc[i,4] > 0.5 or sn_masked[pix]-bur.iloc[i,4] < -0.5:\n",
    "        cnt1 += 1\n",
    "print(cnt1/bur.shape[0])"
   ]
  },
  {
   "cell_type": "code",
   "execution_count": null,
   "metadata": {},
   "outputs": [],
   "source": [
    "arr = []\n",
    "for j in range(bur.shape[0]):\n",
    "    pix = hp.ang2pix(2048,bur.iloc[j,6],bur.iloc[j,5],lonlat=True)\n",
    "    arr.append(abs(sn_masked[pix]-bur.iloc[j,4]))\n",
    "\n",
    "print(st.median(arr))\n",
    "print(st.mean(arr))\n",
    "print(st.stdev(arr))"
   ]
  },
  {
   "cell_type": "markdown",
   "metadata": {},
   "source": [
    "------------------------------------------------------------------------------------------------------------------- "
   ]
  },
  {
   "cell_type": "markdown",
   "metadata": {},
   "source": [
    "### Test/example code for reference"
   ]
  },
  {
   "cell_type": "code",
   "execution_count": null,
   "metadata": {},
   "outputs": [],
   "source": [
    "# Print amf catalog for reference\n",
    "dr9.head()"
   ]
  },
  {
   "cell_type": "code",
   "execution_count": null,
   "metadata": {},
   "outputs": [],
   "source": [
    "# Example of conversion to galactic coordinates\n",
    "print(hp.ang2pix(2048,139.22360248447205,56.42252190720151,lonlat=True))\n",
    "sn_masked[4198545]\n",
    "print(hp.pix2ang(NSIDE,4198545,lonlat=True,nest=False))"
   ]
  },
  {
   "cell_type": "code",
   "execution_count": null,
   "metadata": {},
   "outputs": [],
   "source": [
    "# Define functions to convert dec and ra to pixel vals and vice versa\n",
    "def DeclRaToIndex(decl,RA):\n",
    "    return hp.ang2pix(NSIDE,np.deg2rad(90.0-decl),np.deg2rad(RA),lonlat=False,nest=False)\n",
    "# Define a function to convert index to dec, ra\n",
    "def IndexToDeclRa(index):\n",
    "    theta,phi=hp.pix2ang(NSIDE,index,lonlat=False,nest=False)\n",
    "    return -np.degrees(theta-pi/2.),np.degrees(pi*2.-phi)\n",
    "def DeclRaToIndex_8neighbors(decl,RA):\n",
    "    return hp.get_all_neighbours(NSIDE,np.radians(90.0-decl),np.radians(360.0-RA),lonlat=False,nest=False)"
   ]
  },
  {
   "cell_type": "code",
   "execution_count": null,
   "metadata": {},
   "outputs": [],
   "source": [
    "# Using method from Burenin-6 ***WRONG***\n",
    "testpix1 = DeclRaToIndex(32.1398,260.6324)\n",
    "print(testpix1)\n",
    "\n",
    "# Using method from sample code ***CORRECT***\n",
    "testpix2 = hp.ang2pix(2048,55.602221,31.846666,lonlat=True)\n",
    "print(testpix2)"
   ]
  }
 ],
 "metadata": {
  "kernelspec": {
   "display_name": "Python 3",
   "language": "python",
   "name": "python3"
  },
  "language_info": {
   "codemirror_mode": {
    "name": "ipython",
    "version": 3
   },
   "file_extension": ".py",
   "mimetype": "text/x-python",
   "name": "python",
   "nbconvert_exporter": "python",
   "pygments_lexer": "ipython3",
   "version": "3.7.6"
  }
 },
 "nbformat": 4,
 "nbformat_minor": 2
}
