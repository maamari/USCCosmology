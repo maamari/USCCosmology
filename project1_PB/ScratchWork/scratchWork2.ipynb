{
 "cells": [
  {
   "cell_type": "markdown",
   "metadata": {},
   "source": [
    "# Import necessary"
   ]
  },
  {
   "cell_type": "code",
   "execution_count": 1,
   "metadata": {},
   "outputs": [],
   "source": [
    "# Import libraries\n",
    "# Ignore warnings\n",
    "import numpy as np\n",
    "from scipy.stats import norm\n",
    "import numpy as np\n",
    "import astropy\n",
    "import astropy_healpix\n",
    "from astropy.io import fits\n",
    "from astropy import units as u\n",
    "from astropy.coordinates import SkyCoord\n",
    "import healpy as hp\n",
    "import pandas as pd\n",
    "import math\n",
    "import scipy\n",
    "import statistics as st\n",
    "from scipy import stats\n",
    "import matplotlib\n",
    "import matplotlib.mlab as mlab\n",
    "import matplotlib.pyplot as plt\n",
    "from matplotlib import cm\n",
    "import seaborn as sns\n",
    "from IPython.display import Image\n",
    "\n",
    "%matplotlib inline\n",
    "\n",
    "NSIDE=2048\n",
    "Npix=12*NSIDE**2\n",
    "\n",
    "pi=math.pi\n",
    "\n",
    "import warnings\n",
    "warnings.filterwarnings('ignore')"
   ]
  },
  {
   "cell_type": "markdown",
   "metadata": {},
   "source": [
    "# Read in data"
   ]
  },
  {
   "cell_type": "code",
   "execution_count": 2,
   "metadata": {},
   "outputs": [
    {
     "data": {
      "text/html": [
       "<div>\n",
       "<style scoped>\n",
       "    .dataframe tbody tr th:only-of-type {\n",
       "        vertical-align: middle;\n",
       "    }\n",
       "\n",
       "    .dataframe tbody tr th {\n",
       "        vertical-align: top;\n",
       "    }\n",
       "\n",
       "    .dataframe thead th {\n",
       "        text-align: right;\n",
       "    }\n",
       "</style>\n",
       "<table border=\"1\" class=\"dataframe\">\n",
       "  <thead>\n",
       "    <tr style=\"text-align: right;\">\n",
       "      <th></th>\n",
       "      <th>amf_no</th>\n",
       "      <th>amf_ra</th>\n",
       "      <th>amf_dec</th>\n",
       "      <th>amf_z</th>\n",
       "      <th>amf_lk</th>\n",
       "      <th>amf_rh</th>\n",
       "      <th>amf_r200</th>\n",
       "      <th>amf_rc</th>\n",
       "      <th>amf_c</th>\n",
       "      <th>amf_str_rh</th>\n",
       "      <th>bax_id</th>\n",
       "      <th>mcxc_id</th>\n",
       "      <th>red_id</th>\n",
       "      <th>whl_id</th>\n",
       "    </tr>\n",
       "  </thead>\n",
       "  <tbody>\n",
       "    <tr>\n",
       "      <th>0</th>\n",
       "      <td>4</td>\n",
       "      <td>23.9128</td>\n",
       "      <td>20.7465</td>\n",
       "      <td>0.0601</td>\n",
       "      <td>176.9125</td>\n",
       "      <td>219.3663</td>\n",
       "      <td>1.946</td>\n",
       "      <td>0.925</td>\n",
       "      <td>2.104</td>\n",
       "      <td>73.0001</td>\n",
       "      <td>-9999</td>\n",
       "      <td>-9999</td>\n",
       "      <td>-9999</td>\n",
       "      <td>-9999</td>\n",
       "    </tr>\n",
       "    <tr>\n",
       "      <th>1</th>\n",
       "      <td>5</td>\n",
       "      <td>260.6324</td>\n",
       "      <td>32.1398</td>\n",
       "      <td>0.2252</td>\n",
       "      <td>222.1219</td>\n",
       "      <td>200.7117</td>\n",
       "      <td>1.784</td>\n",
       "      <td>0.625</td>\n",
       "      <td>2.856</td>\n",
       "      <td>35.0001</td>\n",
       "      <td>ABELL2261</td>\n",
       "      <td>J1722.4+3208</td>\n",
       "      <td>RMJ172227.2+320757.2</td>\n",
       "      <td>J172227.2+320757</td>\n",
       "    </tr>\n",
       "    <tr>\n",
       "      <th>2</th>\n",
       "      <td>6</td>\n",
       "      <td>197.8796</td>\n",
       "      <td>-1.3356</td>\n",
       "      <td>0.2042</td>\n",
       "      <td>171.6872</td>\n",
       "      <td>192.0829</td>\n",
       "      <td>1.773</td>\n",
       "      <td>0.227</td>\n",
       "      <td>7.792</td>\n",
       "      <td>9.0001</td>\n",
       "      <td>ABELL1689</td>\n",
       "      <td>J1311.5-0120</td>\n",
       "      <td>RMJ131129.5-012028.0</td>\n",
       "      <td>J131129.5-012028</td>\n",
       "    </tr>\n",
       "    <tr>\n",
       "      <th>3</th>\n",
       "      <td>7</td>\n",
       "      <td>250.1485</td>\n",
       "      <td>46.6917</td>\n",
       "      <td>0.2248</td>\n",
       "      <td>225.9874</td>\n",
       "      <td>182.3373</td>\n",
       "      <td>1.725</td>\n",
       "      <td>0.495</td>\n",
       "      <td>3.483</td>\n",
       "      <td>36.0001</td>\n",
       "      <td>ABELL2219</td>\n",
       "      <td>J1640.3+4642</td>\n",
       "      <td>RMJ164019.8+464241.5</td>\n",
       "      <td>J164019.8+464242</td>\n",
       "    </tr>\n",
       "    <tr>\n",
       "      <th>4</th>\n",
       "      <td>8</td>\n",
       "      <td>346.3402</td>\n",
       "      <td>21.0378</td>\n",
       "      <td>0.1453</td>\n",
       "      <td>121.0124</td>\n",
       "      <td>182.2769</td>\n",
       "      <td>1.775</td>\n",
       "      <td>0.440</td>\n",
       "      <td>4.034</td>\n",
       "      <td>72.0001</td>\n",
       "      <td>-9999</td>\n",
       "      <td>-9999</td>\n",
       "      <td>RMJ230520.1+210313.5</td>\n",
       "      <td>J230520.1+210313</td>\n",
       "    </tr>\n",
       "  </tbody>\n",
       "</table>\n",
       "</div>"
      ],
      "text/plain": [
       "   amf_no    amf_ra  amf_dec   amf_z    amf_lk    amf_rh  amf_r200  amf_rc  \\\n",
       "0       4   23.9128  20.7465  0.0601  176.9125  219.3663     1.946   0.925   \n",
       "1       5  260.6324  32.1398  0.2252  222.1219  200.7117     1.784   0.625   \n",
       "2       6  197.8796  -1.3356  0.2042  171.6872  192.0829     1.773   0.227   \n",
       "3       7  250.1485  46.6917  0.2248  225.9874  182.3373     1.725   0.495   \n",
       "4       8  346.3402  21.0378  0.1453  121.0124  182.2769     1.775   0.440   \n",
       "\n",
       "   amf_c  amf_str_rh     bax_id       mcxc_id                red_id  \\\n",
       "0  2.104     73.0001      -9999         -9999                 -9999   \n",
       "1  2.856     35.0001  ABELL2261  J1722.4+3208  RMJ172227.2+320757.2   \n",
       "2  7.792      9.0001  ABELL1689  J1311.5-0120  RMJ131129.5-012028.0   \n",
       "3  3.483     36.0001  ABELL2219  J1640.3+4642  RMJ164019.8+464241.5   \n",
       "4  4.034     72.0001      -9999         -9999  RMJ230520.1+210313.5   \n",
       "\n",
       "             whl_id  \n",
       "0             -9999  \n",
       "1  J172227.2+320757  \n",
       "2  J131129.5-012028  \n",
       "3  J164019.8+464242  \n",
       "4  J230520.1+210313  "
      ]
     },
     "execution_count": 2,
     "metadata": {},
     "output_type": "execute_result"
    }
   ],
   "source": [
    "# Read in AMF catalog\n",
    "dr9 = pd.read_csv('Data/dr9_main_complete.csv', header=-1)\n",
    "dr9.columns = ['amf_no','amf_ra','amf_dec','amf_z','amf_lk','amf_rh','amf_r200','amf_rc','amf_c','amf_str_rh','bax_id','mcxc_id','red_id','whl_id']\n",
    "dr9.head()"
   ]
  },
  {
   "cell_type": "code",
   "execution_count": 3,
   "metadata": {},
   "outputs": [
    {
     "data": {
      "text/html": [
       "<div>\n",
       "<style scoped>\n",
       "    .dataframe tbody tr th:only-of-type {\n",
       "        vertical-align: middle;\n",
       "    }\n",
       "\n",
       "    .dataframe tbody tr th {\n",
       "        vertical-align: top;\n",
       "    }\n",
       "\n",
       "    .dataframe thead th {\n",
       "        text-align: right;\n",
       "    }\n",
       "</style>\n",
       "<table border=\"1\" class=\"dataframe\">\n",
       "  <thead>\n",
       "    <tr style=\"text-align: right;\">\n",
       "      <th></th>\n",
       "      <th>bur_no</th>\n",
       "      <th>bur_dec</th>\n",
       "      <th>bur_ra</th>\n",
       "      <th>bur_z</th>\n",
       "      <th>bur_sn</th>\n",
       "    </tr>\n",
       "  </thead>\n",
       "  <tbody>\n",
       "    <tr>\n",
       "      <th>1968</th>\n",
       "      <td>1969</td>\n",
       "      <td>8.8492</td>\n",
       "      <td>219.9250</td>\n",
       "      <td>0.2562</td>\n",
       "      <td>4.5</td>\n",
       "    </tr>\n",
       "    <tr>\n",
       "      <th>912</th>\n",
       "      <td>913</td>\n",
       "      <td>29.4583</td>\n",
       "      <td>153.3792</td>\n",
       "      <td>0.5739</td>\n",
       "      <td>4.5</td>\n",
       "    </tr>\n",
       "    <tr>\n",
       "      <th>2496</th>\n",
       "      <td>2497</td>\n",
       "      <td>36.8178</td>\n",
       "      <td>260.2167</td>\n",
       "      <td>0.4630</td>\n",
       "      <td>4.5</td>\n",
       "    </tr>\n",
       "    <tr>\n",
       "      <th>107</th>\n",
       "      <td>108</td>\n",
       "      <td>0.8461</td>\n",
       "      <td>8.6333</td>\n",
       "      <td>0.1919</td>\n",
       "      <td>4.5</td>\n",
       "    </tr>\n",
       "    <tr>\n",
       "      <th>1826</th>\n",
       "      <td>1827</td>\n",
       "      <td>3.8847</td>\n",
       "      <td>210.7625</td>\n",
       "      <td>0.4662</td>\n",
       "      <td>4.5</td>\n",
       "    </tr>\n",
       "  </tbody>\n",
       "</table>\n",
       "</div>"
      ],
      "text/plain": [
       "      bur_no  bur_dec    bur_ra   bur_z  bur_sn\n",
       "1968    1969   8.8492  219.9250  0.2562     4.5\n",
       "912      913  29.4583  153.3792  0.5739     4.5\n",
       "2496    2497  36.8178  260.2167  0.4630     4.5\n",
       "107      108   0.8461    8.6333  0.1919     4.5\n",
       "1826    1827   3.8847  210.7625  0.4662     4.5"
      ]
     },
     "execution_count": 3,
     "metadata": {},
     "output_type": "execute_result"
    }
   ],
   "source": [
    "# Read in Burenin catalog\n",
    "bur = pd.read_csv('Data/planck_extended_burenin.csv')\n",
    "#bur.head()\n",
    "bur.shape\n",
    "bur.sort_values(by=['bur_sn']).head()"
   ]
  },
  {
   "cell_type": "code",
   "execution_count": 4,
   "metadata": {},
   "outputs": [
    {
     "data": {
      "text/html": [
       "<div>\n",
       "<style scoped>\n",
       "    .dataframe tbody tr th:only-of-type {\n",
       "        vertical-align: middle;\n",
       "    }\n",
       "\n",
       "    .dataframe tbody tr th {\n",
       "        vertical-align: top;\n",
       "    }\n",
       "\n",
       "    .dataframe thead th {\n",
       "        text-align: right;\n",
       "    }\n",
       "</style>\n",
       "<table border=\"1\" class=\"dataframe\">\n",
       "  <thead>\n",
       "    <tr style=\"text-align: right;\">\n",
       "      <th></th>\n",
       "      <th>red_no</th>\n",
       "      <th>red_ra</th>\n",
       "      <th>red_dec</th>\n",
       "      <th>red_z</th>\n",
       "      <th>red_zerr</th>\n",
       "      <th>red_rh</th>\n",
       "      <th>red_rherr</th>\n",
       "    </tr>\n",
       "  </thead>\n",
       "  <tbody>\n",
       "    <tr>\n",
       "      <th>0</th>\n",
       "      <td>1</td>\n",
       "      <td>239.5833</td>\n",
       "      <td>27.2334</td>\n",
       "      <td>0.0948</td>\n",
       "      <td>0.0046</td>\n",
       "      <td>169.8378</td>\n",
       "      <td>4.1870</td>\n",
       "    </tr>\n",
       "    <tr>\n",
       "      <th>1</th>\n",
       "      <td>2</td>\n",
       "      <td>250.0825</td>\n",
       "      <td>46.7115</td>\n",
       "      <td>0.2328</td>\n",
       "      <td>0.0062</td>\n",
       "      <td>199.5393</td>\n",
       "      <td>5.2998</td>\n",
       "    </tr>\n",
       "    <tr>\n",
       "      <th>2</th>\n",
       "      <td>3</td>\n",
       "      <td>197.8730</td>\n",
       "      <td>-1.3411</td>\n",
       "      <td>0.1824</td>\n",
       "      <td>0.0039</td>\n",
       "      <td>164.7122</td>\n",
       "      <td>4.2416</td>\n",
       "    </tr>\n",
       "    <tr>\n",
       "      <th>3</th>\n",
       "      <td>5</td>\n",
       "      <td>137.3007</td>\n",
       "      <td>10.9736</td>\n",
       "      <td>0.1705</td>\n",
       "      <td>0.0036</td>\n",
       "      <td>174.7042</td>\n",
       "      <td>4.9479</td>\n",
       "    </tr>\n",
       "    <tr>\n",
       "      <th>4</th>\n",
       "      <td>6</td>\n",
       "      <td>203.8337</td>\n",
       "      <td>41.0011</td>\n",
       "      <td>0.2317</td>\n",
       "      <td>0.0061</td>\n",
       "      <td>189.1812</td>\n",
       "      <td>5.6134</td>\n",
       "    </tr>\n",
       "  </tbody>\n",
       "</table>\n",
       "</div>"
      ],
      "text/plain": [
       "   red_no    red_ra  red_dec   red_z  red_zerr    red_rh  red_rherr\n",
       "0       1  239.5833  27.2334  0.0948    0.0046  169.8378     4.1870\n",
       "1       2  250.0825  46.7115  0.2328    0.0062  199.5393     5.2998\n",
       "2       3  197.8730  -1.3411  0.1824    0.0039  164.7122     4.2416\n",
       "3       5  137.3007  10.9736  0.1705    0.0036  174.7042     4.9479\n",
       "4       6  203.8337  41.0011  0.2317    0.0061  189.1812     5.6134"
      ]
     },
     "execution_count": 4,
     "metadata": {},
     "output_type": "execute_result"
    }
   ],
   "source": [
    "# Read in Redmapper cat1alog\n",
    "red = pd.read_csv(\"Data/redmapper_v6.3_errs.csv\",header=-1)\n",
    "red.columns = ['red_no','red_ra','red_dec','red_z','red_zerr','red_rh','red_rherr']\n",
    "red.head()"
   ]
  },
  {
   "cell_type": "code",
   "execution_count": 5,
   "metadata": {},
   "outputs": [
    {
     "data": {
      "text/html": [
       "<div>\n",
       "<style scoped>\n",
       "    .dataframe tbody tr th:only-of-type {\n",
       "        vertical-align: middle;\n",
       "    }\n",
       "\n",
       "    .dataframe tbody tr th {\n",
       "        vertical-align: top;\n",
       "    }\n",
       "\n",
       "    .dataframe thead th {\n",
       "        text-align: right;\n",
       "    }\n",
       "</style>\n",
       "<table border=\"1\" class=\"dataframe\">\n",
       "  <thead>\n",
       "    <tr style=\"text-align: right;\">\n",
       "      <th></th>\n",
       "      <th>whl_no</th>\n",
       "      <th>whl_id</th>\n",
       "      <th>RA</th>\n",
       "      <th>dec</th>\n",
       "      <th>z</th>\n",
       "      <th>rich</th>\n",
       "    </tr>\n",
       "  </thead>\n",
       "  <tbody>\n",
       "    <tr>\n",
       "      <th>0</th>\n",
       "      <td>2</td>\n",
       "      <td>J000002.3+051718</td>\n",
       "      <td>0.0096</td>\n",
       "      <td>5.2883</td>\n",
       "      <td>0.1696</td>\n",
       "      <td>17.48</td>\n",
       "    </tr>\n",
       "    <tr>\n",
       "      <th>1</th>\n",
       "      <td>3</td>\n",
       "      <td>J000003.3+311354</td>\n",
       "      <td>0.0138</td>\n",
       "      <td>31.2318</td>\n",
       "      <td>0.5428</td>\n",
       "      <td>14.27</td>\n",
       "    </tr>\n",
       "    <tr>\n",
       "      <th>2</th>\n",
       "      <td>4</td>\n",
       "      <td>J000003.5+314708</td>\n",
       "      <td>0.0147</td>\n",
       "      <td>31.7856</td>\n",
       "      <td>0.0932</td>\n",
       "      <td>16.97</td>\n",
       "    </tr>\n",
       "    <tr>\n",
       "      <th>3</th>\n",
       "      <td>5</td>\n",
       "      <td>J000004.7+022826</td>\n",
       "      <td>0.0194</td>\n",
       "      <td>2.4739</td>\n",
       "      <td>0.4179</td>\n",
       "      <td>13.71</td>\n",
       "    </tr>\n",
       "    <tr>\n",
       "      <th>4</th>\n",
       "      <td>6</td>\n",
       "      <td>J000004.9-033248</td>\n",
       "      <td>0.0202</td>\n",
       "      <td>-3.5468</td>\n",
       "      <td>0.5968</td>\n",
       "      <td>19.19</td>\n",
       "    </tr>\n",
       "  </tbody>\n",
       "</table>\n",
       "</div>"
      ],
      "text/plain": [
       "   whl_no            whl_id      RA      dec       z   rich\n",
       "0       2  J000002.3+051718  0.0096   5.2883  0.1696  17.48\n",
       "1       3  J000003.3+311354  0.0138  31.2318  0.5428  14.27\n",
       "2       4  J000003.5+314708  0.0147  31.7856  0.0932  16.97\n",
       "3       5  J000004.7+022826  0.0194   2.4739  0.4179  13.71\n",
       "4       6  J000004.9-033248  0.0202  -3.5468  0.5968  19.19"
      ]
     },
     "execution_count": 5,
     "metadata": {},
     "output_type": "execute_result"
    }
   ],
   "source": [
    "# Read in WHL catalog\n",
    "whl = pd.read_fwf('Data/whl2_v2.dat')\n",
    "whl.columns = ['whl_no','whl_id','RA','dec','z','rich']\n",
    "whl.head()"
   ]
  },
  {
   "cell_type": "code",
   "execution_count": 6,
   "metadata": {},
   "outputs": [
    {
     "data": {
      "text/html": [
       "<div>\n",
       "<style scoped>\n",
       "    .dataframe tbody tr th:only-of-type {\n",
       "        vertical-align: middle;\n",
       "    }\n",
       "\n",
       "    .dataframe tbody tr th {\n",
       "        vertical-align: top;\n",
       "    }\n",
       "\n",
       "    .dataframe thead th {\n",
       "        text-align: right;\n",
       "    }\n",
       "</style>\n",
       "<table border=\"1\" class=\"dataframe\">\n",
       "  <thead>\n",
       "    <tr style=\"text-align: right;\">\n",
       "      <th></th>\n",
       "      <th>pl_no</th>\n",
       "      <th>pl_name</th>\n",
       "      <th>pl_glon</th>\n",
       "      <th>pl_glat</th>\n",
       "      <th>pl_ra</th>\n",
       "      <th>pl_dec</th>\n",
       "      <th>pl_poserr</th>\n",
       "      <th>pl_sn</th>\n",
       "      <th>pl_pipe</th>\n",
       "      <th>pl_pipedet</th>\n",
       "      <th>...</th>\n",
       "      <th>pl_mszerrup</th>\n",
       "      <th>pl_mszerrlow</th>\n",
       "      <th>pl_mcxc</th>\n",
       "      <th>pl_red</th>\n",
       "      <th>pl_act</th>\n",
       "      <th>pl_spt</th>\n",
       "      <th>pl_wise</th>\n",
       "      <th>pl_ami</th>\n",
       "      <th>pl_cosmo</th>\n",
       "      <th>pl_comment</th>\n",
       "    </tr>\n",
       "  </thead>\n",
       "  <tbody>\n",
       "    <tr>\n",
       "      <th>962</th>\n",
       "      <td>963</td>\n",
       "      <td>PSZ2 G213.30+50.99</td>\n",
       "      <td>213.305483</td>\n",
       "      <td>50.991205</td>\n",
       "      <td>150.629704</td>\n",
       "      <td>20.528271</td>\n",
       "      <td>2.695308</td>\n",
       "      <td>4.500935</td>\n",
       "      <td>2</td>\n",
       "      <td>10</td>\n",
       "      <td>...</td>\n",
       "      <td>0.611051</td>\n",
       "      <td>0.625637</td>\n",
       "      <td>NaN</td>\n",
       "      <td>NaN</td>\n",
       "      <td>NaN</td>\n",
       "      <td>NaN</td>\n",
       "      <td>3</td>\n",
       "      <td>2.100028</td>\n",
       "      <td>False</td>\n",
       "      <td>NaN</td>\n",
       "    </tr>\n",
       "    <tr>\n",
       "      <th>647</th>\n",
       "      <td>648</td>\n",
       "      <td>PSZ2 G131.27-25.82</td>\n",
       "      <td>131.275976</td>\n",
       "      <td>-25.820624</td>\n",
       "      <td>22.204940</td>\n",
       "      <td>36.444726</td>\n",
       "      <td>3.307009</td>\n",
       "      <td>4.502190</td>\n",
       "      <td>2</td>\n",
       "      <td>10</td>\n",
       "      <td>...</td>\n",
       "      <td>0.000000</td>\n",
       "      <td>0.000000</td>\n",
       "      <td>NaN</td>\n",
       "      <td>NaN</td>\n",
       "      <td>NaN</td>\n",
       "      <td>NaN</td>\n",
       "      <td>-3</td>\n",
       "      <td>-1000.000000</td>\n",
       "      <td>False</td>\n",
       "      <td>NaN</td>\n",
       "    </tr>\n",
       "    <tr>\n",
       "      <th>469</th>\n",
       "      <td>470</td>\n",
       "      <td>PSZ2 G099.24+42.54</td>\n",
       "      <td>99.249141</td>\n",
       "      <td>42.543305</td>\n",
       "      <td>238.037819</td>\n",
       "      <td>65.340540</td>\n",
       "      <td>2.428019</td>\n",
       "      <td>4.502672</td>\n",
       "      <td>1</td>\n",
       "      <td>100</td>\n",
       "      <td>...</td>\n",
       "      <td>0.382507</td>\n",
       "      <td>0.390415</td>\n",
       "      <td>NaN</td>\n",
       "      <td>NaN</td>\n",
       "      <td>NaN</td>\n",
       "      <td>NaN</td>\n",
       "      <td>-10</td>\n",
       "      <td>-1000.000000</td>\n",
       "      <td>False</td>\n",
       "      <td>NaN</td>\n",
       "    </tr>\n",
       "    <tr>\n",
       "      <th>1445</th>\n",
       "      <td>1446</td>\n",
       "      <td>PSZ2 G306.22-53.56</td>\n",
       "      <td>306.222358</td>\n",
       "      <td>-53.566815</td>\n",
       "      <td>8.485818</td>\n",
       "      <td>-63.449523</td>\n",
       "      <td>2.428903</td>\n",
       "      <td>4.503147</td>\n",
       "      <td>1</td>\n",
       "      <td>100</td>\n",
       "      <td>...</td>\n",
       "      <td>0.693647</td>\n",
       "      <td>0.773563</td>\n",
       "      <td>NaN</td>\n",
       "      <td>NaN</td>\n",
       "      <td>NaN</td>\n",
       "      <td>SPT-CLJ0033-6326</td>\n",
       "      <td>-3</td>\n",
       "      <td>-1000.000000</td>\n",
       "      <td>False</td>\n",
       "      <td>NaN</td>\n",
       "    </tr>\n",
       "    <tr>\n",
       "      <th>1502</th>\n",
       "      <td>1503</td>\n",
       "      <td>PSZ2 G318.54-07.62</td>\n",
       "      <td>318.541624</td>\n",
       "      <td>-7.629812</td>\n",
       "      <td>232.924314</td>\n",
       "      <td>-65.521357</td>\n",
       "      <td>2.428006</td>\n",
       "      <td>4.503768</td>\n",
       "      <td>1</td>\n",
       "      <td>100</td>\n",
       "      <td>...</td>\n",
       "      <td>0.000000</td>\n",
       "      <td>0.000000</td>\n",
       "      <td>NaN</td>\n",
       "      <td>NaN</td>\n",
       "      <td>NaN</td>\n",
       "      <td>NaN</td>\n",
       "      <td>-2</td>\n",
       "      <td>-1000.000000</td>\n",
       "      <td>False</td>\n",
       "      <td>NaN</td>\n",
       "    </tr>\n",
       "  </tbody>\n",
       "</table>\n",
       "<p>5 rows × 30 columns</p>\n",
       "</div>"
      ],
      "text/plain": [
       "      pl_no             pl_name     pl_glon    pl_glat       pl_ra     pl_dec  \\\n",
       "962     963  PSZ2 G213.30+50.99  213.305483  50.991205  150.629704  20.528271   \n",
       "647     648  PSZ2 G131.27-25.82  131.275976 -25.820624   22.204940  36.444726   \n",
       "469     470  PSZ2 G099.24+42.54   99.249141  42.543305  238.037819  65.340540   \n",
       "1445   1446  PSZ2 G306.22-53.56  306.222358 -53.566815    8.485818 -63.449523   \n",
       "1502   1503  PSZ2 G318.54-07.62  318.541624  -7.629812  232.924314 -65.521357   \n",
       "\n",
       "      pl_poserr     pl_sn  pl_pipe  pl_pipedet     ...      pl_mszerrup  \\\n",
       "962    2.695308  4.500935        2          10     ...         0.611051   \n",
       "647    3.307009  4.502190        2          10     ...         0.000000   \n",
       "469    2.428019  4.502672        1         100     ...         0.382507   \n",
       "1445   2.428903  4.503147        1         100     ...         0.693647   \n",
       "1502   2.428006  4.503768        1         100     ...         0.000000   \n",
       "\n",
       "      pl_mszerrlow  pl_mcxc  pl_red  pl_act            pl_spt  pl_wise  \\\n",
       "962       0.625637      NaN     NaN     NaN               NaN        3   \n",
       "647       0.000000      NaN     NaN     NaN               NaN       -3   \n",
       "469       0.390415      NaN     NaN     NaN               NaN      -10   \n",
       "1445      0.773563      NaN     NaN     NaN  SPT-CLJ0033-6326       -3   \n",
       "1502      0.000000      NaN     NaN     NaN               NaN       -2   \n",
       "\n",
       "           pl_ami  pl_cosmo  pl_comment  \n",
       "962      2.100028     False         NaN  \n",
       "647  -1000.000000     False         NaN  \n",
       "469  -1000.000000     False         NaN  \n",
       "1445 -1000.000000     False         NaN  \n",
       "1502 -1000.000000     False         NaN  \n",
       "\n",
       "[5 rows x 30 columns]"
      ]
     },
     "execution_count": 6,
     "metadata": {},
     "output_type": "execute_result"
    }
   ],
   "source": [
    "# Read in Planck catalog\n",
    "plsz2 = pd.read_csv('Data/planck_sz2.csv',header=-1)\n",
    "plsz2.columns = ['pl_no','pl_name','pl_glon','pl_glat','pl_ra','pl_dec','pl_poserr','pl_sn',\\\n",
    "                   'pl_pipe','pl_pipedet','pl_pccs2','pl_psz','pl_irflag','pl_qneural','pl_y5r500',\\\n",
    "                   'pl_y5r500err','pl_valid','pl_zid','pl_z','pl_msz','pl_mszerrup','pl_mszerrlow',\\\n",
    "                   'pl_mcxc','pl_red','pl_act','pl_spt','pl_wise','pl_ami','pl_cosmo','pl_comment']\n",
    "plsz2.sort_values(by=['pl_sn'], ascending = True).head()"
   ]
  },
  {
   "cell_type": "code",
   "execution_count": 7,
   "metadata": {},
   "outputs": [
    {
     "name": "stdout",
     "output_type": "stream",
     "text": [
      "NSIDE = 2048\n",
      "ORDERING = RING in fits file\n",
      "INDXSCHM = IMPLICIT\n",
      "NSIDE = 2048\n",
      "ORDERING = RING in fits file\n",
      "INDXSCHM = IMPLICIT\n"
     ]
    }
   ],
   "source": [
    "# Read in ymaps, stddevs (in Galactic coordinates)\n",
    "nilc_ymap = hp.read_map('Data/COM_CompMap_Compton-SZMap-nilc-ymaps_2048_R2.00.fits')\n",
    "nilc_stddevmap = hp.read_map('Data/COM_CompMap_Compton-SZMap-nilc-stddev_2048_R2.00.fits')"
   ]
  },
  {
   "cell_type": "markdown",
   "metadata": {},
   "source": [
    "# Import Catalogs"
   ]
  },
  {
   "cell_type": "code",
   "execution_count": 8,
   "metadata": {},
   "outputs": [],
   "source": [
    "# Convert the RA and DEC to galactic coordinates\n",
    "c = SkyCoord(dr9['amf_ra'],dr9['amf_dec'],frame='icrs',unit='deg')\n",
    "\n",
    "dr9['glat'] = c.galactic.b.degree\n",
    "dr9['glon'] = c.galactic.l.degree\n",
    "\n",
    "c=SkyCoord(bur['bur_ra'],bur['bur_dec'],frame='icrs',unit='deg')\n",
    "\n",
    "bur['glat'] = c.galactic.b.degree # Galactic Latitude\n",
    "bur['glon'] = c.galactic.l.degree # Galactic Longitude"
   ]
  },
  {
   "cell_type": "markdown",
   "metadata": {},
   "source": [
    "# Create masked map"
   ]
  },
  {
   "cell_type": "markdown",
   "metadata": {},
   "source": [
    "Found Burenin filter (https://healpix.jpl.nasa.gov/html/subroutinesnode48.htm) but it's in fucking fortran"
   ]
  },
  {
   "cell_type": "code",
   "execution_count": 9,
   "metadata": {},
   "outputs": [
    {
     "name": "stdout",
     "output_type": "stream",
     "text": [
      "Sigma is 50.959308 arcmin (0.014823 rad) \n",
      "-> fwhm is 120.000000 arcmin\n",
      "Sigma is 0.000000 arcmin (0.000000 rad) \n",
      "-> fwhm is 0.000000 arcmin\n"
     ]
    }
   ],
   "source": [
    "# Smooth noise map by 1 degree\n",
    "# The essential difference between Burenin and this, is that he uses\n",
    "# a 1 degree radius median filter for smoothing (not available on healpy)\n",
    "stddev_smoothed = hp.smoothing(nilc_stddevmap,fwhm=np.radians(2.))"
   ]
  },
  {
   "cell_type": "code",
   "execution_count": 10,
   "metadata": {},
   "outputs": [
    {
     "name": "stdout",
     "output_type": "stream",
     "text": [
      "Sigma is 25.479654 arcmin (0.007412 rad) \n",
      "-> fwhm is 60.000000 arcmin\n",
      "Sigma is 0.000000 arcmin (0.000000 rad) \n",
      "-> fwhm is 0.000000 arcmin\n"
     ]
    }
   ],
   "source": [
    "# Calculate signal over noise (smoothed)\n",
    "sn_smoothed_n = nilc_ymap/stddev_smoothed\n",
    "\n",
    "# Smooth the sn_smoothed_n map by 1 degree\n",
    "sn_smoothed_n_smoothed = hp.smoothing(sn_smoothed_n,fwhm=np.radians(1.))\n",
    "\n",
    "# Subtract the smoothed signal to noise map from the signal to noise map\n",
    "sn_result = sn_smoothed_n - sn_smoothed_n_smoothed"
   ]
  },
  {
   "cell_type": "code",
   "execution_count": 11,
   "metadata": {},
   "outputs": [
    {
     "name": "stdout",
     "output_type": "stream",
     "text": [
      "NSIDE = 2048\n",
      "ORDERING = NESTED in fits file\n",
      "INDXSCHM = IMPLICIT\n",
      "Ordering converted to RING\n"
     ]
    }
   ],
   "source": [
    "# Mask the sn_result array\n",
    "# By convention the mask is 0 where the data is masked, while numpy defines data masked when \n",
    "# the mask is true, so it is necessary to flip the mask.\n",
    "mask = hp.read_map('Data/maskplanckfullsz61.fits')\n",
    "sn_masked = hp.ma(sn_result,badval=+1.6375e+30)\n",
    "sn_masked2 = hp.ma(sn_result)\n",
    "sn_masked2.mask = np.logical_not(mask)\n",
    "sn_masked.mask = np.logical_not(mask)"
   ]
  },
  {
   "cell_type": "code",
   "execution_count": 12,
   "metadata": {},
   "outputs": [
    {
     "data": {
      "text/plain": [
       "DescribeResult(nobs=50331648, minmax=(0.0, 1.0), mean=0.6119134624799093, variance=0.23747538163398552, skewness=-0.4593069694500196, kurtosis=-1.7890371078147336)"
      ]
     },
     "execution_count": 12,
     "metadata": {},
     "output_type": "execute_result"
    }
   ],
   "source": [
    "scipy.stats.describe(mask)"
   ]
  },
  {
   "cell_type": "code",
   "execution_count": 13,
   "metadata": {},
   "outputs": [
    {
     "data": {
      "image/png": "[encoded data removed]",
      "text/plain": [
       "<Figure size 612x388.8 with 2 Axes>"
      ]
     },
     "metadata": {},
     "output_type": "display_data"
    }
   ],
   "source": [
    "# Plot the masked array\n",
    "hp.mollview(sn_masked,norm='hist',coord=['G'],title='Masked S/N map')"
   ]
  },
  {
   "cell_type": "code",
   "execution_count": 14,
   "metadata": {},
   "outputs": [
    {
     "data": {
      "image/png": "[encoded data removed]",
      "text/plain": [
       "<IPython.core.display.Image object>"
      ]
     },
     "execution_count": 14,
     "metadata": {},
     "output_type": "execute_result"
    }
   ],
   "source": [
    "Image(filename='Papers/burfig.png') "
   ]
  },
  {
   "cell_type": "markdown",
   "metadata": {},
   "source": [
    "---------------------------------"
   ]
  },
  {
   "cell_type": "markdown",
   "metadata": {},
   "source": [
    "----------------------"
   ]
  },
  {
   "cell_type": "markdown",
   "metadata": {},
   "source": [
    "-------------------------"
   ]
  },
  {
   "cell_type": "markdown",
   "metadata": {},
   "source": [
    "# Burenin Plot"
   ]
  },
  {
   "cell_type": "code",
   "execution_count": 15,
   "metadata": {},
   "outputs": [
    {
     "data": {
      "image/png": "[encoded data removed]",
      "text/plain": [
       "<Figure size 576x576 with 1 Axes>"
      ]
     },
     "metadata": {},
     "output_type": "display_data"
    }
   ],
   "source": [
    "# Histogram of the above map\n",
    "plt.figure(figsize=(8,8))\n",
    "plt.hist(sn_masked.compressed(), bins=500,normed=True,fill=False,edgecolor='k');\n",
    "plt.xlim((-9,14))\n",
    "plt.ylim((4e-5,1))\n",
    "plt.yscale('log');\n",
    "plt.xticks(np.arange(-9, 14, 1.0))\n",
    "plt.xlabel('S/N');\n",
    "plt.title('Signal to Noise histogram of masked array')\n",
    "\n",
    "ln = np.linspace(-9, 14, len(sn_masked))\n",
    "g = stats.norm.pdf(ln, 0, 1.58)  \n",
    "plt.plot(ln, g, label=\"Norm\", color=\"red\")\n",
    "\n",
    "plt.show()"
   ]
  },
  {
   "cell_type": "code",
   "execution_count": 16,
   "metadata": {},
   "outputs": [
    {
     "data": {
      "text/plain": [
       "DescribeResult(nobs=50331648, minmax=(-1473.5981054323968, 1650.3349078145095), mean=-6.636043488053242e-09, variance=10.11485622718682, skewness=-4.217014382600839, kurtosis=13500.95089301354)"
      ]
     },
     "execution_count": 16,
     "metadata": {},
     "output_type": "execute_result"
    }
   ],
   "source": [
    "scipy.stats.describe(sn_masked)"
   ]
  },
  {
   "cell_type": "code",
   "execution_count": 17,
   "metadata": {},
   "outputs": [
    {
     "data": {
      "text/plain": [
       "DescribeResult(nobs=50331648, minmax=(-1473.5981054323968, 1650.3349078145095), mean=-6.636043488053242e-09, variance=10.11485622718682, skewness=-4.217014382600839, kurtosis=13500.95089301354)"
      ]
     },
     "execution_count": 17,
     "metadata": {},
     "output_type": "execute_result"
    }
   ],
   "source": [
    "scipy.stats.describe(sn_masked2)"
   ]
  },
  {
   "cell_type": "markdown",
   "metadata": {},
   "source": [
    "--------------------------"
   ]
  },
  {
   "cell_type": "markdown",
   "metadata": {},
   "source": [
    "---------------------------------------------------"
   ]
  },
  {
   "cell_type": "markdown",
   "metadata": {},
   "source": [
    "-------------------------------------------"
   ]
  },
  {
   "cell_type": "markdown",
   "metadata": {},
   "source": [
    "# Locate unclassified AMF clusters"
   ]
  },
  {
   "cell_type": "markdown",
   "metadata": {},
   "source": [
    "#### Round AMF glon and glat because the AMF clusters and Burenin clusters are off just slightly from each other"
   ]
  },
  {
   "cell_type": "code",
   "execution_count": 18,
   "metadata": {},
   "outputs": [],
   "source": [
    "d_glonR = []\n",
    "d_glatR = []\n",
    "d_glon = []\n",
    "d_glat = []\n",
    "d_raR = []\n",
    "d_decR = []\n",
    "d_rh = []\n",
    "d_sn = []\n",
    "i = 0\n",
    "\n",
    "for i in range(dr9.shape[0]):\n",
    "        d_raR.append(\"%.1f\" % dr9.iloc[i,1])\n",
    "        d_decR.append(\"%.1f\" % dr9.iloc[i,2])\n",
    "        d_glon.append(dr9.iloc[i,15])\n",
    "        d_glat.append(dr9.iloc[i,14])\n",
    "        d_glonR.append(\"%.1f\" % dr9.iloc[i,15])\n",
    "        d_glatR.append(\"%.1f\" % dr9.iloc[i,14])\n",
    "        d_pix = hp.ang2pix(2048,dr9.iloc[i,15],dr9.iloc[i,14],lonlat=True)\n",
    "        d_rh.append(dr9.iloc[i,5])\n",
    "        d_sn.append(sn_masked[d_pix])\n",
    "\n",
    "tup1 = zip(d_glon, d_glat)\n",
    "\n",
    "amf_round = pd.DataFrame({'Glon': d_glonR, 'Glat': d_glatR, 'RA': d_raR, 'dec': d_decR})"
   ]
  },
  {
   "cell_type": "code",
   "execution_count": 19,
   "metadata": {},
   "outputs": [
    {
     "data": {
      "text/html": [
       "<div>\n",
       "<style scoped>\n",
       "    .dataframe tbody tr th:only-of-type {\n",
       "        vertical-align: middle;\n",
       "    }\n",
       "\n",
       "    .dataframe tbody tr th {\n",
       "        vertical-align: top;\n",
       "    }\n",
       "\n",
       "    .dataframe thead th {\n",
       "        text-align: right;\n",
       "    }\n",
       "</style>\n",
       "<table border=\"1\" class=\"dataframe\">\n",
       "  <thead>\n",
       "    <tr style=\"text-align: right;\">\n",
       "      <th></th>\n",
       "      <th>Glon</th>\n",
       "      <th>Glat</th>\n",
       "      <th>RA</th>\n",
       "      <th>dec</th>\n",
       "    </tr>\n",
       "  </thead>\n",
       "  <tbody>\n",
       "    <tr>\n",
       "      <th>0</th>\n",
       "      <td>136.7</td>\n",
       "      <td>-40.9</td>\n",
       "      <td>23.9</td>\n",
       "      <td>20.7</td>\n",
       "    </tr>\n",
       "    <tr>\n",
       "      <th>1</th>\n",
       "      <td>55.6</td>\n",
       "      <td>31.8</td>\n",
       "      <td>260.6</td>\n",
       "      <td>32.1</td>\n",
       "    </tr>\n",
       "    <tr>\n",
       "      <th>2</th>\n",
       "      <td>313.4</td>\n",
       "      <td>61.1</td>\n",
       "      <td>197.9</td>\n",
       "      <td>-1.3</td>\n",
       "    </tr>\n",
       "    <tr>\n",
       "      <th>3</th>\n",
       "      <td>72.6</td>\n",
       "      <td>41.4</td>\n",
       "      <td>250.1</td>\n",
       "      <td>46.7</td>\n",
       "    </tr>\n",
       "    <tr>\n",
       "      <th>4</th>\n",
       "      <td>92.2</td>\n",
       "      <td>-35.4</td>\n",
       "      <td>346.3</td>\n",
       "      <td>21.0</td>\n",
       "    </tr>\n",
       "  </tbody>\n",
       "</table>\n",
       "</div>"
      ],
      "text/plain": [
       "    Glon   Glat     RA   dec\n",
       "0  136.7  -40.9   23.9  20.7\n",
       "1   55.6   31.8  260.6  32.1\n",
       "2  313.4   61.1  197.9  -1.3\n",
       "3   72.6   41.4  250.1  46.7\n",
       "4   92.2  -35.4  346.3  21.0"
      ]
     },
     "execution_count": 19,
     "metadata": {},
     "output_type": "execute_result"
    }
   ],
   "source": [
    "amf_round.head()"
   ]
  },
  {
   "cell_type": "markdown",
   "metadata": {},
   "source": [
    "#### Round Burenin for similar reasons"
   ]
  },
  {
   "cell_type": "code",
   "execution_count": 20,
   "metadata": {},
   "outputs": [
    {
     "data": {
      "text/plain": [
       "(2964, 2)"
      ]
     },
     "execution_count": 20,
     "metadata": {},
     "output_type": "execute_result"
    }
   ],
   "source": [
    "b_glon = []\n",
    "b_glat = []\n",
    "b_rh = []\n",
    "i = 0\n",
    "\n",
    "for i in range(bur.shape[0]):\n",
    "        b_glon.append(\"%.1f\" % bur.iloc[i,6])\n",
    "        b_glat.append(\"%.1f\" % bur.iloc[i,5])\n",
    "\n",
    "tup2 = zip(b_glon, b_glat)\n",
    "\n",
    "bur_round = pd.DataFrame({'Glon': b_glon, 'Glat': b_glat})\n",
    "bur_round.shape"
   ]
  },
  {
   "cell_type": "code",
   "execution_count": 21,
   "metadata": {},
   "outputs": [
    {
     "data": {
      "text/html": [
       "<div>\n",
       "<style scoped>\n",
       "    .dataframe tbody tr th:only-of-type {\n",
       "        vertical-align: middle;\n",
       "    }\n",
       "\n",
       "    .dataframe tbody tr th {\n",
       "        vertical-align: top;\n",
       "    }\n",
       "\n",
       "    .dataframe thead th {\n",
       "        text-align: right;\n",
       "    }\n",
       "</style>\n",
       "<table border=\"1\" class=\"dataframe\">\n",
       "  <thead>\n",
       "    <tr style=\"text-align: right;\">\n",
       "      <th></th>\n",
       "      <th>RA</th>\n",
       "      <th>Dec</th>\n",
       "    </tr>\n",
       "  </thead>\n",
       "  <tbody>\n",
       "    <tr>\n",
       "      <th>0</th>\n",
       "      <td>239.6</td>\n",
       "      <td>27.2</td>\n",
       "    </tr>\n",
       "    <tr>\n",
       "      <th>1</th>\n",
       "      <td>250.1</td>\n",
       "      <td>46.7</td>\n",
       "    </tr>\n",
       "    <tr>\n",
       "      <th>2</th>\n",
       "      <td>197.9</td>\n",
       "      <td>-1.3</td>\n",
       "    </tr>\n",
       "    <tr>\n",
       "      <th>3</th>\n",
       "      <td>137.3</td>\n",
       "      <td>11.0</td>\n",
       "    </tr>\n",
       "    <tr>\n",
       "      <th>4</th>\n",
       "      <td>203.8</td>\n",
       "      <td>41.0</td>\n",
       "    </tr>\n",
       "  </tbody>\n",
       "</table>\n",
       "</div>"
      ],
      "text/plain": [
       "      RA   Dec\n",
       "0  239.6  27.2\n",
       "1  250.1  46.7\n",
       "2  197.9  -1.3\n",
       "3  137.3  11.0\n",
       "4  203.8  41.0"
      ]
     },
     "execution_count": 21,
     "metadata": {},
     "output_type": "execute_result"
    }
   ],
   "source": [
    "r_ra = []\n",
    "r_dec = []\n",
    "r_rh = []\n",
    "i = 0\n",
    "\n",
    "for i in range(red.shape[0]):\n",
    "        r_ra.append(\"%.1f\" % red.iloc[i,1])\n",
    "        r_dec.append(\"%.1f\" % red.iloc[i,2])\n",
    "\n",
    "tup3 = zip(r_ra, r_dec)\n",
    "\n",
    "red_round = pd.DataFrame({'RA': r_ra, 'Dec': r_dec})\n",
    "red_round.head()"
   ]
  },
  {
   "cell_type": "markdown",
   "metadata": {},
   "source": [
    "#### Pull out clusters from DR9 with high SNs"
   ]
  },
  {
   "cell_type": "code",
   "execution_count": 162,
   "metadata": {},
   "outputs": [],
   "source": [
    "num = []\n",
    "highglon = []\n",
    "highglat = []\n",
    "indx = []\n",
    "\n",
    "for j in range(dr9.shape[0]):\n",
    "    pix = hp.ang2pix(2048,dr9.iloc[j,15],dr9.iloc[j,14],lonlat=True,nest=False)\n",
    "    if (sn_masked[pix] < 5):\n",
    "        highglon.append(\"%.1f\" % dr9.iloc[j,15])\n",
    "        highglat.append(\"%.1f\" % dr9.iloc[j,14])\n",
    "        num.append(dr9.iloc[j,0])\n",
    "        indx.append(j)\n",
    "\n",
    "tup3 = zip(highglon, highglat)\n",
    "\n",
    "amf_high = pd.DataFrame({'Glon': highglon, 'Glat': highglat})"
   ]
  },
  {
   "cell_type": "markdown",
   "metadata": {},
   "source": [
    "#### Find AMF unique clusters via subtracting rounded Burenin from AMF"
   ]
  },
  {
   "cell_type": "code",
   "execution_count": 163,
   "metadata": {},
   "outputs": [
    {
     "data": {
      "text/plain": [
       "12846"
      ]
     },
     "execution_count": 163,
     "metadata": {},
     "output_type": "execute_result"
    }
   ],
   "source": [
    "amfset = set(list(zip(d_glonR, d_glatR)))\n",
    "burset = set(list(zip(b_glon, b_glat)))\n",
    "redset = set(list(zip(r_ra, r_dec)))\n",
    "amfset2 = set(list(zip(d_raR, d_decR)))\n",
    "\n",
    "amfNOTred = amfset2-redset\n",
    "amfINred = amfset2-amfNOTred\n",
    "amfNOTbur = amfset-burset\n",
    "aNOTb_lon,aNOTb_lat, = zip(*amfNOTbur)\n",
    "len(amfINred)"
   ]
  },
  {
   "cell_type": "code",
   "execution_count": 164,
   "metadata": {},
   "outputs": [
    {
     "data": {
      "text/html": [
       "<div>\n",
       "<style scoped>\n",
       "    .dataframe tbody tr th:only-of-type {\n",
       "        vertical-align: middle;\n",
       "    }\n",
       "\n",
       "    .dataframe tbody tr th {\n",
       "        vertical-align: top;\n",
       "    }\n",
       "\n",
       "    .dataframe thead th {\n",
       "        text-align: right;\n",
       "    }\n",
       "</style>\n",
       "<table border=\"1\" class=\"dataframe\">\n",
       "  <thead>\n",
       "    <tr style=\"text-align: right;\">\n",
       "      <th></th>\n",
       "      <th>Glon</th>\n",
       "      <th>Glat</th>\n",
       "    </tr>\n",
       "  </thead>\n",
       "  <tbody>\n",
       "    <tr>\n",
       "      <th>0</th>\n",
       "      <td>46.2</td>\n",
       "      <td>-35.2</td>\n",
       "    </tr>\n",
       "    <tr>\n",
       "      <th>1</th>\n",
       "      <td>84.5</td>\n",
       "      <td>-23.9</td>\n",
       "    </tr>\n",
       "    <tr>\n",
       "      <th>2</th>\n",
       "      <td>135.6</td>\n",
       "      <td>-57.3</td>\n",
       "    </tr>\n",
       "    <tr>\n",
       "      <th>3</th>\n",
       "      <td>90.7</td>\n",
       "      <td>-60.0</td>\n",
       "    </tr>\n",
       "    <tr>\n",
       "      <th>4</th>\n",
       "      <td>184.1</td>\n",
       "      <td>-43.2</td>\n",
       "    </tr>\n",
       "  </tbody>\n",
       "</table>\n",
       "</div>"
      ],
      "text/plain": [
       "    Glon   Glat\n",
       "0   46.2  -35.2\n",
       "1   84.5  -23.9\n",
       "2  135.6  -57.3\n",
       "3   90.7  -60.0\n",
       "4  184.1  -43.2"
      ]
     },
     "execution_count": 164,
     "metadata": {},
     "output_type": "execute_result"
    }
   ],
   "source": [
    "unique = pd.DataFrame({'Glon': aNOTb_lon, 'Glat': aNOTb_lat})\n",
    "unique.head()"
   ]
  },
  {
   "cell_type": "markdown",
   "metadata": {},
   "source": [
    "#### Generate counts for clusters identified and unidentified by Burenin"
   ]
  },
  {
   "cell_type": "markdown",
   "metadata": {},
   "source": [
    "Converted the AMF and Burenin catalogs to sets of tuples (glon,glat)"
   ]
  },
  {
   "cell_type": "markdown",
   "metadata": {},
   "source": [
    "Subtracted Burenin from AMF to get the AMF-unique clusters"
   ]
  },
  {
   "cell_type": "markdown",
   "metadata": {},
   "source": [
    "May have lost some precision by rounding the glon and glat to one dec but by using *both* glon and glat I'm hoping that there won't be any errors in subtraction."
   ]
  },
  {
   "cell_type": "code",
   "execution_count": 165,
   "metadata": {},
   "outputs": [
    {
     "name": "stdout",
     "output_type": "stream",
     "text": [
      "256\n",
      "42796\n",
      "43052\n"
     ]
    }
   ],
   "source": [
    "highamf = set(list(zip(highglon, highglat)))\n",
    "highamfNOTbur = highamf-burset\n",
    "highamfINbur = highamf-highamfNOTbur\n",
    "\n",
    "i,j = zip(*highamfINbur)\n",
    "k,l = zip(*highamfNOTbur)\n",
    "m,n = zip(*highamf)\n",
    "\n",
    "highinbur = pd.DataFrame({'Glon': i, 'Glat': j})\n",
    "highnotinbur = pd.DataFrame({'Glon': k, 'Glat': l})\n",
    "hightotal = pd.DataFrame({'Glon': m, 'Glat': n})\n",
    "\n",
    "print(highinbur.shape[0])\n",
    "print(highnotinbur.shape[0])\n",
    "print(len(highamf))"
   ]
  },
  {
   "cell_type": "markdown",
   "metadata": {},
   "source": [
    "#### Create list of cluster numbers"
   ]
  },
  {
   "cell_type": "code",
   "execution_count": null,
   "metadata": {},
   "outputs": [],
   "source": [
    "%%time\n",
    "\n",
    "clusts = []\n",
    "RA = []\n",
    "dec = []\n",
    "lat = []\n",
    "lon = []\n",
    "sn = []\n",
    "z = []\n",
    "rich = []\n",
    "burn = []\n",
    "noi = []\n",
    "sig = []\n",
    "red = []\n",
    "whl = []\n",
    "i = 0;\n",
    "j = 0;\n",
    "k = 0;\n",
    "l = 0;\n",
    "\n",
    "for i in range(highinbur.shape[0]):\n",
    "    for j in range(dr9.shape[0]):\n",
    "        if(highinbur.iloc[i,0] == \"%.1f\" % dr9.iloc[j,15]) and (highinbur.iloc[i,1] == \"%.1f\" % dr9.iloc[j,14]):\n",
    "            pix = hp.ang2pix(2048,dr9.iloc[j,15],dr9.iloc[j,14],lonlat=True)\n",
    "            \n",
    "            sig.append(nilc_stddevmap[pix]*sn_masked[pix])\n",
    "            noi.append(nilc_stddevmap[pix])\n",
    "            clusts.append(dr9.iloc[j,0])\n",
    "            RA.append(dr9.iloc[j,1])\n",
    "            dec.append(dr9.iloc[j,2])\n",
    "            lat.append(dr9.iloc[j,14])\n",
    "            lon.append(dr9.iloc[j,15])\n",
    "            sn.append(sn_masked[pix])\n",
    "            z.append(dr9.iloc[j,3])\n",
    "            rich.append(dr9.iloc[j,5])\n",
    "            red.append(dr9.iloc[j,12])\n",
    "            whl.append(dr9.iloc[j,13])\n",
    "            burn.append(1)\n",
    "\n",
    "for k in range(highnotinbur.shape[0]):\n",
    "    for l in range(dr9.shape[0]):\n",
    "        if(highnotinbur.iloc[k,0] == \"%.1f\" % dr9.iloc[l,15]) and (highnotinbur.iloc[k,1] == \"%.1f\" % dr9.iloc[l,14]):\n",
    "            pix = hp.ang2pix(2048,dr9.iloc[l,15],dr9.iloc[l,14],lonlat=True)\n",
    "\n",
    "            sig.append(nilc_stddevmap[pix]*sn_masked[pix])\n",
    "            noi.append(nilc_stddevmap[pix])\n",
    "            clusts.append(dr9.iloc[l,0])\n",
    "            RA.append(dr9.iloc[l,1])\n",
    "            dec.append(dr9.iloc[l,2])\n",
    "            lat.append(dr9.iloc[l,14])\n",
    "            lon.append(dr9.iloc[l,15])\n",
    "            sn.append(sn_masked[pix])\n",
    "            z.append(dr9.iloc[l,3])\n",
    "            rich.append(dr9.iloc[l,5])\n",
    "            red.append(dr9.iloc[l,12])\n",
    "            whl.append(dr9.iloc[l,13])\n",
    "            burn.append(0)        \n",
    "\n",
    "highfinal = pd.DataFrame({'no': clusts, 'ra': RA, 'dec': dec, 'glat': lat, 'glon': lon, 'sn': sn, 'z': z, 'rh': rich, 'noi': noi, 'sig': sig, 'bur': burn, 'whl': whl, 'red': red})"
   ]
  },
  {
   "cell_type": "code",
   "execution_count": null,
   "metadata": {},
   "outputs": [],
   "source": [
    "highfinal1 = highfinal[(highfinal.rh > 0) & (highfinal.noi > 8.933140773374012e-07) & (highfinal.sn >0)].sort_values(by=['sn'], ascending = True)"
   ]
  },
  {
   "cell_type": "code",
   "execution_count": null,
   "metadata": {},
   "outputs": [],
   "source": [
    "highfinal1.head()"
   ]
  },
  {
   "cell_type": "code",
   "execution_count": null,
   "metadata": {},
   "outputs": [],
   "source": [
    "highfinal1.to_csv('objects.csv')"
   ]
  },
  {
   "cell_type": "code",
   "execution_count": null,
   "metadata": {},
   "outputs": [],
   "source": [
    "highfinal1.shape"
   ]
  },
  {
   "cell_type": "code",
   "execution_count": null,
   "metadata": {},
   "outputs": [],
   "source": [
    "i = 0\n",
    "count = 0\n",
    "for i in range(highfinal1.shape[0]):\n",
    "    if (highfinal1.iloc[i, 10] == 1 and highfinal1.iloc[i, 11] != '-9999' and highfinal1.iloc[i, 12] != '-9999'):\n",
    "        count = count+1\n",
    "count"
   ]
  },
  {
   "cell_type": "markdown",
   "metadata": {},
   "source": [
    "#### Determine low noise values and cut them out of unique clusters"
   ]
  },
  {
   "cell_type": "code",
   "execution_count": null,
   "metadata": {},
   "outputs": [],
   "source": [
    "np.mean(highfinal1.noi)"
   ]
  },
  {
   "cell_type": "code",
   "execution_count": null,
   "metadata": {},
   "outputs": [],
   "source": [
    "hfnoi = highfinal1.noi\n",
    "hfsig = highfinal1.sig\n",
    "\n",
    "noise = []\n",
    "sig = []\n",
    "\n",
    "for i in range(hfnoi.shape[0]):\n",
    "    noise.append(hfnoi.iloc[i])\n",
    "    \n",
    "for j in range(hfsig.shape[0]):\n",
    "    sig.append(hfsig.iloc[j])\n",
    "    \n",
    "plt.hist(noise,bins=100,normed=True,fill=False,alpha=.6)"
   ]
  },
  {
   "cell_type": "code",
   "execution_count": null,
   "metadata": {},
   "outputs": [],
   "source": [
    "len(hfnoi)"
   ]
  },
  {
   "cell_type": "markdown",
   "metadata": {},
   "source": [
    "#### Create scatter of SN per richness"
   ]
  },
  {
   "cell_type": "code",
   "execution_count": null,
   "metadata": {},
   "outputs": [],
   "source": [
    "plt.figure(figsize=(10,10))\n",
    "plt.scatter(np.log10(highfinal['rh']),highfinal['sn'],c=highfinal.z,alpha=.6);\n",
    "plt.colorbar()"
   ]
  },
  {
   "cell_type": "markdown",
   "metadata": {},
   "source": [
    "----------------------------------"
   ]
  },
  {
   "cell_type": "markdown",
   "metadata": {},
   "source": [
    "--------------------"
   ]
  },
  {
   "cell_type": "markdown",
   "metadata": {},
   "source": [
    "--------------------------"
   ]
  },
  {
   "cell_type": "markdown",
   "metadata": {},
   "source": [
    "# Plots of full AMF"
   ]
  },
  {
   "cell_type": "code",
   "execution_count": null,
   "metadata": {},
   "outputs": [],
   "source": [
    "amf_all = pd.DataFrame({'Glon': d_glon, 'Glat': d_glat, 'Rh': d_rh, 'SN': d_sn})"
   ]
  },
  {
   "cell_type": "code",
   "execution_count": null,
   "metadata": {},
   "outputs": [],
   "source": [
    "amfall_sns = []\n",
    "\n",
    "for i in range(amf_all.shape[0]):\n",
    "    if amf_all.iloc[i,3]:\n",
    "        amfall_sns.append(amf_all.iloc[i,3])\n",
    "    else:\n",
    "        amfall_sns.append(0)\n",
    "        \n",
    "# sns"
   ]
  },
  {
   "cell_type": "code",
   "execution_count": null,
   "metadata": {},
   "outputs": [],
   "source": [
    "# Histogram of the above map\n",
    "plt.hist(amfall_sns,bins=492,normed=True,fill=False,edgecolor='blue',alpha=.6);\n",
    "plt.xlim((-9,14))\n",
    "plt.ylim(1e-4,)\n",
    "plt.yscale('log');\n",
    "plt.xlabel('S/N');\n",
    "# plt.title('Signal to Noise histogram of AMF-unique clusters');\n",
    "\n",
    "# ln = np.linspace(-9, 14, len(sns))\n",
    "# g = stats.norm.pdf(ln, 0, 1.73)  \n",
    "# plt.plot(ln, g, label=\"Norm\", color=\"red\")\n",
    "\n",
    "plt.show()"
   ]
  },
  {
   "cell_type": "markdown",
   "metadata": {},
   "source": [
    "-----------------------------------"
   ]
  },
  {
   "cell_type": "markdown",
   "metadata": {},
   "source": [
    "-----------------------------------"
   ]
  },
  {
   "cell_type": "markdown",
   "metadata": {},
   "source": [
    "-----------------------------------"
   ]
  },
  {
   "cell_type": "markdown",
   "metadata": {},
   "source": [
    "# Plot AMF and compare plots to Burenin"
   ]
  },
  {
   "cell_type": "code",
   "execution_count": null,
   "metadata": {},
   "outputs": [],
   "source": [
    "d_glonR1 = []\n",
    "d_glatR1 = []\n",
    "d_glon1 = []\n",
    "d_glat1 = []\n",
    "d_rh1 = []\n",
    "\n",
    "for i in range(dr9.shape[0]):\n",
    "        d_glon1.append(dr9.iloc[i,15])\n",
    "        d_glat1.append(dr9.iloc[i,14])\n",
    "        d_glonR1.append(\"%.1f\" % dr9.iloc[i,15])\n",
    "        d_glatR1.append(\"%.1f\" % dr9.iloc[i,14])\n",
    "\n",
    "tup1 = zip(d_glon1, d_glat1)\n",
    "  \n",
    "df11 = pd.DataFrame({'Glon': d_glon1, 'Glat': d_glat1})\n",
    "df21 = pd.DataFrame({'Glon': d_glonR1, 'Glat': d_glatR1})\n",
    "\n",
    "b_glon1 = []\n",
    "b_glat1 = []\n",
    "b_rh1 = []\n",
    "\n",
    "for i in range(bur.shape[0]):\n",
    "        b_glon1.append(\"%.1f\" % bur.iloc[i,6])\n",
    "        b_glat1.append(\"%.1f\" % bur.iloc[i,5])\n",
    "\n",
    "tup2 = zip(b_glon1, b_glat1)\n",
    "\n",
    "df31 = pd.DataFrame({'Glon': b_glon1, 'Glat': b_glat1})\n",
    "\n",
    "amfset1 = set(list(zip(d_glonR1, d_glatR1)))\n",
    "burset1 = set(list(zip(b_glon1, b_glat1)))\n",
    "amfNOTbur1 = amfset1-burset1\n",
    "aNOTb_lon1,aNOTb_lat1, = zip(*amfNOTbur1)\n",
    "len(amfNOTbur1)\n",
    "\n",
    "new1 = pd.DataFrame({'Glon': aNOTb_lon1, 'Glat': aNOTb_lat1})\n",
    "new1.head()"
   ]
  },
  {
   "cell_type": "code",
   "execution_count": null,
   "metadata": {
    "scrolled": false
   },
   "outputs": [],
   "source": [
    "amfunique_sns = []\n",
    "\n",
    "for i in range(new1.shape[0]):\n",
    "    pix = hp.ang2pix(2048,float(new1.iloc[i,0]),float(new1.iloc[i,1]),lonlat=True)\n",
    "    if sn_masked[pix]:\n",
    "        amfunique_sns.append(sn_masked[pix])\n",
    "    else:\n",
    "        amfunique_sns.append(0)\n",
    "        \n",
    "# sns"
   ]
  },
  {
   "cell_type": "code",
   "execution_count": null,
   "metadata": {
    "scrolled": true
   },
   "outputs": [],
   "source": [
    "# Histogram of the above map\n",
    "plt.hist(amfunique_sns,bins=492,normed=True,fill=False,edgecolor='blue',alpha=.6);\n",
    "plt.xlim((-9,14))\n",
    "plt.ylim(1e-4,)\n",
    "plt.yscale('log');\n",
    "plt.xlabel('S/N');\n",
    "# plt.title('Signal to Noise histogram of AMF-unique clusters');\n",
    "\n",
    "# ln = np.linspace(-9, 14, len(sns))\n",
    "# g = stats.norm.pdf(ln, 0, 1.73)  \n",
    "# plt.plot(ln, g, label=\"Norm\", color=\"red\")\n",
    "\n",
    "plt.show()"
   ]
  },
  {
   "cell_type": "code",
   "execution_count": null,
   "metadata": {
    "scrolled": true
   },
   "outputs": [],
   "source": [
    "plt.hist(amfunique_sns,bins=500,normed=True,fill=False,edgecolor='blue',alpha=0.6);\n",
    "plt.hist(sn_masked.compressed(), bins=500,normed=True,fill=False,edgecolor='r',alpha= 0.6);\n",
    "\n",
    "plt.xlim((-9,14))\n",
    "plt.ylim(1e-5,)\n",
    "plt.yscale('log');\n",
    "plt.xlabel('S/N');\n",
    "plt.title('Signal to Noise histogram of masked array');\n",
    "\n",
    "# ln = np.linspace(-9, 14, len(sn_masked))\n",
    "# g = stats.norm.pdf(ln, 0, 1.73)  \n",
    "# plt.plot(ln, g, label=\"Norm\", color=\"red\")\n",
    "\n",
    "plt.show()"
   ]
  },
  {
   "cell_type": "markdown",
   "metadata": {},
   "source": [
    "-----------------------------------------------------------------------------------------"
   ]
  },
  {
   "cell_type": "markdown",
   "metadata": {},
   "source": [
    "### Comparison of AMF to Burenin"
   ]
  },
  {
   "cell_type": "markdown",
   "metadata": {},
   "source": [
    "Compare SNs given by the smoothing/masking utilized here to Big Burenin's SNs. The fact that 41% of the SNs are greater than 0.5 away leads me to believe I either fucked up or something is wrong with the method."
   ]
  },
  {
   "cell_type": "code",
   "execution_count": null,
   "metadata": {},
   "outputs": [],
   "source": [
    "c=SkyCoord(bur['bur_ra'],bur['bur_dec'],frame='icrs',unit='deg')\n",
    "\n",
    "bur['glat'] = c.galactic.b.degree # Galactic Latitude\n",
    "bur['glon'] = c.galactic.l.degree # Galactic Longitude\n",
    "\n",
    "bur.head()"
   ]
  },
  {
   "cell_type": "code",
   "execution_count": null,
   "metadata": {},
   "outputs": [],
   "source": [
    "pix = hp.ang2pix(2048,bur.iloc[4,6],bur.iloc[4,5],lonlat=True)"
   ]
  },
  {
   "cell_type": "code",
   "execution_count": null,
   "metadata": {},
   "outputs": [],
   "source": [
    "sn_masked[pix]"
   ]
  },
  {
   "cell_type": "code",
   "execution_count": null,
   "metadata": {},
   "outputs": [],
   "source": [
    "cnt1 = 0\n",
    "for i in range(bur.shape[0]):\n",
    "    pix = hp.ang2pix(2048,bur.iloc[i,6],bur.iloc[i,5],lonlat=True)\n",
    "    if sn_masked[pix]-bur.iloc[i,4] > 0.5 or sn_masked[pix]-bur.iloc[i,4] < -0.5:\n",
    "        cnt1 += 1\n",
    "print(cnt1/bur.shape[0])"
   ]
  },
  {
   "cell_type": "code",
   "execution_count": null,
   "metadata": {},
   "outputs": [],
   "source": [
    "arr = []\n",
    "for j in range(bur.shape[0]):\n",
    "    pix = hp.ang2pix(2048,bur.iloc[j,6],bur.iloc[j,5],lonlat=True)\n",
    "    arr.append(abs(sn_masked[pix]-bur.iloc[j,4]))\n",
    "\n",
    "print(st.median(arr))\n",
    "print(st.mean(arr))\n",
    "print(st.stdev(arr))"
   ]
  },
  {
   "cell_type": "markdown",
   "metadata": {},
   "source": [
    "------------------------------------------------------------------------------------------------------------------- "
   ]
  },
  {
   "cell_type": "markdown",
   "metadata": {},
   "source": [
    "### Test/example code for reference"
   ]
  },
  {
   "cell_type": "code",
   "execution_count": null,
   "metadata": {},
   "outputs": [],
   "source": [
    "dr9.head()"
   ]
  },
  {
   "cell_type": "code",
   "execution_count": null,
   "metadata": {},
   "outputs": [],
   "source": [
    "gt1 = amf_all[amf_all.Rh>30]\n",
    "gt2 = amf_all[amf_all.Rh>50]\n",
    "gt3 = amf_all[amf_all.Rh>80]\n",
    "sns1 = []\n",
    "sns2 = []\n",
    "sns3 = []\n",
    "\n",
    "for i in range(gt1.shape[0]):\n",
    "    if(gt1.iloc[i,3]):\n",
    "        sns1.append(gt1.iloc[i,3])\n",
    "\n",
    "for j in range(gt2.shape[0]):\n",
    "    if(gt2.iloc[j,3]):\n",
    "        sns2.append(gt2.iloc[j,3])\n",
    "        \n",
    "for k in range(gt3.shape[0]):\n",
    "    if(gt3.iloc[k,3]):\n",
    "        sns3.append(gt3.iloc[k,3])"
   ]
  },
  {
   "cell_type": "code",
   "execution_count": null,
   "metadata": {},
   "outputs": [],
   "source": [
    "%%time\n",
    "plt.figure(figsize=(8,6))\n",
    "plt.hist(sns1, fill=False, linewidth=1.2, edgecolor='r', label='AMF richness > 30', alpha=.6, bins=350);\n",
    "plt.hist(sns2, fill=False, linewidth=1.2, edgecolor='b', label='AMF richness > 50', alpha=.6, bins=350);\n",
    "plt.hist(sns3, fill=False, linewidth=1.2, edgecolor='g', label='AMF richness > 80', alpha=.6, bins=350);\n",
    "plt.legend(fontsize=16);\n",
    "plt.xlabel(\"S/N\")\n",
    "plt.yscale('log')\n",
    "# plt.xlim(0,20);"
   ]
  },
  {
   "cell_type": "code",
   "execution_count": null,
   "metadata": {},
   "outputs": [],
   "source": [
    "scipy.stats.describe(sns1)"
   ]
  },
  {
   "cell_type": "code",
   "execution_count": null,
   "metadata": {},
   "outputs": [],
   "source": [
    "scipy.stats.describe(sns2)"
   ]
  },
  {
   "cell_type": "code",
   "execution_count": null,
   "metadata": {},
   "outputs": [],
   "source": [
    "scipy.stats.describe(sns3)"
   ]
  },
  {
   "cell_type": "markdown",
   "metadata": {},
   "source": [
    "FIND RELATIONSHIP BETWEEN PLANCK AND AMF"
   ]
  },
  {
   "cell_type": "code",
   "execution_count": null,
   "metadata": {},
   "outputs": [],
   "source": [
    "plnk = pd.read_csv('Data/file1.csv')\n",
    "plnk"
   ]
  },
  {
   "cell_type": "code",
   "execution_count": null,
   "metadata": {},
   "outputs": [],
   "source": [
    "df = highfinal1.copy()\n",
    "df.drop(df.index[13]);"
   ]
  },
  {
   "cell_type": "code",
   "execution_count": null,
   "metadata": {},
   "outputs": [],
   "source": [
    "i = 45\n",
    "plnk[plnk['pl_no']==963].iloc[0,1]\n",
    "# plnk[plnk['pl_no']==1446].iloc[0,1]\n",
    "# plnk[plnk['pl_no']==470].iloc[0,1]"
   ]
  },
  {
   "cell_type": "markdown",
   "metadata": {},
   "source": [
    "highfinal.iloc[88,5]"
   ]
  },
  {
   "cell_type": "code",
   "execution_count": null,
   "metadata": {},
   "outputs": [],
   "source": [
    "planck = []\n",
    "amf_ = []\n",
    "i = 0\n",
    "\n",
    "for i in range(plnk.shape[0]):\n",
    "    print(i)\n",
    "    try:\n",
    "        if (plnk[plnk['amf_no']==df.iloc[i,0]].iloc[0,10] < 5):\n",
    "            planck.append(plnk[plnk['amf_no']==df.iloc[i,0]].iloc[0,10])\n",
    "            amf_.append(df.iloc[i,5])\n",
    "    except IndexError:\n",
    "        continue\n",
    "# for i in range(14,40):\n",
    "#     print(i)\n",
    "#     planck.append(plnk[plnk['amf_no']==df.iloc[i,0]].iloc[0,10])\n",
    "#     amf_.append(df.iloc[i,5])\n",
    "    \n",
    "comp = pd.DataFrame({'pl': planck, 'amf': amf_})"
   ]
  },
  {
   "cell_type": "code",
   "execution_count": null,
   "metadata": {},
   "outputs": [],
   "source": [
    "plt.hist(amf_,bins=500,normed=True,fill=False,edgecolor='blue',alpha=0.6);\n",
    "# plt.hist(sn_masked.compressed(), bins=500,normed=True,fill=False,edgecolor='r',alpha= 0.6);\n",
    "\n",
    "# plt.xlim((-9,14))\n",
    "plt.ylim(1e-5,)\n",
    "plt.yscale('log');\n",
    "plt.xlabel('S/N');\n",
    "plt.title('Signal to Noise histogram of masked array');"
   ]
  },
  {
   "cell_type": "code",
   "execution_count": null,
   "metadata": {},
   "outputs": [],
   "source": [
    "comp"
   ]
  },
  {
   "cell_type": "code",
   "execution_count": null,
   "metadata": {},
   "outputs": [],
   "source": [
    "for i in range(40):\n",
    "    print(comp.iloc[i,1] - comp.iloc[i,0])"
   ]
  },
  {
   "cell_type": "code",
   "execution_count": null,
   "metadata": {},
   "outputs": [],
   "source": []
  }
 ],
 "metadata": {
  "kernelspec": {
   "display_name": "Python 3",
   "language": "python",
   "name": "python3"
  },
  "language_info": {
   "codemirror_mode": {
    "name": "ipython",
    "version": 3
   },
   "file_extension": ".py",
   "mimetype": "text/x-python",
   "name": "python",
   "nbconvert_exporter": "python",
   "pygments_lexer": "ipython3",
   "version": "3.6.5"
  }
 },
 "nbformat": 4,
 "nbformat_minor": 2
}
