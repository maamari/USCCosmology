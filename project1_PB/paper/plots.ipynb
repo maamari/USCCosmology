{
 "cells": [
  {
   "cell_type": "code",
   "execution_count": 2,
   "metadata": {},
   "outputs": [],
   "source": [
    "# Import libraries\n",
    "# Ignore warnings\n",
    "import numpy as np\n",
    "from scipy.stats import norm\n",
    "import numpy as np\n",
    "import astropy\n",
    "import astropy_healpix\n",
    "from astropy.io import fits\n",
    "from astropy import units as u\n",
    "from astropy.coordinates import SkyCoord\n",
    "import healpy as hp\n",
    "import pandas as pd\n",
    "import math\n",
    "import scipy\n",
    "import statistics as st\n",
    "from scipy import stats\n",
    "import matplotlib\n",
    "import matplotlib.mlab as mlab\n",
    "import matplotlib.pyplot as plt\n",
    "from matplotlib import cm\n",
    "import seaborn as sns\n",
    "from IPython.display import Image\n",
    "\n",
    "%matplotlib inline\n",
    "\n",
    "NSIDE=2048\n",
    "Npix=12*NSIDE**2\n",
    "\n",
    "pi=math.pi\n",
    "\n",
    "import warnings\n",
    "warnings.filterwarnings('ignore')"
   ]
  },
  {
   "cell_type": "code",
   "execution_count": null,
   "metadata": {},
   "outputs": [],
   "source": []
  },
  {
   "cell_type": "code",
   "execution_count": 3,
   "metadata": {},
   "outputs": [],
   "source": [
    "# Read in AMF catalog\n",
    "dr9 = pd.read_csv('Data/dr9_main_complete.csv', header=-1)\n",
    "dr9.columns = ['amf_no','amf_ra','amf_dec','amf_z','amf_lk','amf_rh','amf_r200','amf_rc','amf_c','amf_str_rh','bax_id','mcxc_id','red_id','whl_id']"
   ]
  },
  {
   "cell_type": "code",
   "execution_count": 4,
   "metadata": {},
   "outputs": [],
   "source": [
    "# Read in Burenin catalog\n",
    "bur = pd.read_csv('Data/planck_extended_burenin.csv')"
   ]
  },
  {
   "cell_type": "code",
   "execution_count": 5,
   "metadata": {},
   "outputs": [],
   "source": [
    "# Read in Redmapper cat1alog\n",
    "red = pd.read_csv(\"Data/redmapper_v6.3_errs.csv\",header=-1)\n",
    "red.columns = ['red_no','red_ra','red_dec','red_z','red_zerr','red_rh','red_rherr']"
   ]
  },
  {
   "cell_type": "code",
   "execution_count": 6,
   "metadata": {},
   "outputs": [],
   "source": [
    "# Read in WHL catalog\n",
    "whl = pd.read_fwf('Data/whl2_v2.dat')\n",
    "whl.columns = ['whl_no','whl_id','RA','dec','z','rich']"
   ]
  },
  {
   "cell_type": "code",
   "execution_count": 7,
   "metadata": {},
   "outputs": [],
   "source": [
    "# Read in Planck catalog\n",
    "plsz2 = pd.read_csv('Data/planck_sz2.csv',header=-1)\n",
    "plsz2.columns = ['pl_no','pl_name','pl_glon','pl_glat','pl_ra','pl_dec','pl_poserr','pl_sn',\\\n",
    "                   'pl_pipe','pl_pipedet','pl_pccs2','pl_psz','pl_irflag','pl_qneural','pl_y5r500',\\\n",
    "                   'pl_y5r500err','pl_valid','pl_zid','pl_z','pl_msz','pl_mszerrup','pl_mszerrlow',\\\n",
    "                   'pl_mcxc','pl_red','pl_act','pl_spt','pl_wise','pl_ami','pl_cosmo','pl_comment']"
   ]
  },
  {
   "cell_type": "code",
   "execution_count": 8,
   "metadata": {},
   "outputs": [
    {
     "name": "stdout",
     "output_type": "stream",
     "text": [
      "NSIDE = 2048\n",
      "ORDERING = RING in fits file\n",
      "INDXSCHM = IMPLICIT\n",
      "NSIDE = 2048\n",
      "ORDERING = RING in fits file\n",
      "INDXSCHM = IMPLICIT\n"
     ]
    }
   ],
   "source": [
    "# Read in ymaps, stddevs (in Galactic coordinates)\n",
    "nilc_ymap = hp.read_map('Data/COM_CompMap_Compton-SZMap-nilc-ymaps_2048_R2.00.fits')\n",
    "nilc_stddevmap = hp.read_map('Data/COM_CompMap_Compton-SZMap-nilc-stddev_2048_R2.00.fits')"
   ]
  },
  {
   "cell_type": "code",
   "execution_count": 9,
   "metadata": {},
   "outputs": [],
   "source": [
    "# Convert the RA and DEC to galactic coordinates\n",
    "c = SkyCoord(dr9['amf_ra'],dr9['amf_dec'],frame='icrs',unit='deg')\n",
    "dr9['glat'] = c.galactic.b.degree\n",
    "dr9['glon'] = c.galactic.l.degree\n",
    "\n",
    "c=SkyCoord(bur['bur_ra'],bur['bur_dec'],frame='icrs',unit='deg')\n",
    "bur['glat'] = c.galactic.b.degree # Galactic Latitude\n",
    "bur['glon'] = c.galactic.l.degree # Galactic Longitude"
   ]
  },
  {
   "cell_type": "code",
   "execution_count": null,
   "metadata": {},
   "outputs": [],
   "source": [
    "# Smooth noise map by 1 degree\n",
    "# The essential difference between Burenin and this, is that he uses\n",
    "# a 1 degree radius median filter for smoothing (not available on healpy)\n",
    "stddev_smoothed = hp.smoothing(nilc_stddevmap,fwhm=np.radians(1.))\n",
    "\n",
    "# Calculate signal over noise (smoothed)\n",
    "sn_smoothed_n = nilc_ymap/stddev_smoothed\n",
    "\n",
    "# Smooth the sn_smoothed_n map by 1 degree\n",
    "sn_smoothed_n_smoothed = hp.smoothing(sn_smoothed_n,fwhm=np.radians(1.))\n",
    "\n",
    "# Subtract the smoothed signal to noise map from the signal to noise map\n",
    "sn_result = sn_smoothed_n - sn_smoothed_n_smoothed"
   ]
  },
  {
   "cell_type": "code",
   "execution_count": null,
   "metadata": {},
   "outputs": [],
   "source": [
    "# Mask the sn_result array\n",
    "# By convention the mask is 0 where the data is masked, while numpy defines data masked when \n",
    "# the mask is true, so it is necessary to flip the mask.\n",
    "mask = hp.read_map('Data/maskplanckfullsz61.fits')\n",
    "sn_masked = hp.ma(sn_result,badval=+1.6375e+30)\n",
    "sn_masked2 = hp.ma(sn_result)\n",
    "sn_masked2.mask = np.logical_not(mask)\n",
    "sn_masked.mask = np.logical_not(mask)"
   ]
  },
  {
   "cell_type": "code",
   "execution_count": null,
   "metadata": {},
   "outputs": [],
   "source": [
    "scipy.stats.describe(mask)"
   ]
  },
  {
   "cell_type": "code",
   "execution_count": null,
   "metadata": {},
   "outputs": [],
   "source": [
    "# Plot the masked array\n",
    "hp.mollview(sn_masked,norm='hist',coord=['G'],title='Masked S/N map')\n",
    "Image(filename='Papers/burfig.png') "
   ]
  },
  {
   "cell_type": "code",
   "execution_count": null,
   "metadata": {},
   "outputs": [],
   "source": [
    "# Histogram of the above map\n",
    "plt.figure(figsize=(24,10))\n",
    "plt.hist(sn_masked.compressed(), bins=500,normed=True,fill=False,edgecolor='k');\n",
    "plt.xlim((-9,14))\n",
    "plt.ylim((4e-5,1))\n",
    "plt.yscale('log');\n",
    "plt.xticks(np.arange(-9, 14, 1.0))\n",
    "plt.xlabel('S/N');\n",
    "plt.title('Signal to Noise histogram of masked array')\n",
    "\n",
    "ln = np.linspace(-9, 14, len(sn_masked))\n",
    "g = stats.norm.pdf(ln, 0, 1.58)  \n",
    "plt.plot(ln, g, label=\"Norm\", color=\"red\")\n",
    "\n",
    "plt.show()"
   ]
  },
  {
   "cell_type": "code",
   "execution_count": null,
   "metadata": {},
   "outputs": [],
   "source": [
    "d_glonR = []\n",
    "d_glatR = []\n",
    "d_glon = []\n",
    "d_glat = []\n",
    "d_raR = []\n",
    "d_decR = []\n",
    "d_rh = []\n",
    "d_sn = []\n",
    "i = 0\n",
    "\n",
    "for i in range(dr9.shape[0]):\n",
    "        d_raR.append(\"%.1f\" % dr9.iloc[i,1])\n",
    "        d_decR.append(\"%.1f\" % dr9.iloc[i,2])\n",
    "        d_glon.append(dr9.iloc[i,15])\n",
    "        d_glat.append(dr9.iloc[i,14])\n",
    "        d_glonR.append(\"%.1f\" % dr9.iloc[i,15])\n",
    "        d_glatR.append(\"%.1f\" % dr9.iloc[i,14])\n",
    "        d_pix = hp.ang2pix(2048,dr9.iloc[i,15],dr9.iloc[i,14],lonlat=True)\n",
    "        d_rh.append(dr9.iloc[i,5])\n",
    "        d_sn.append(sn_masked[d_pix])\n",
    "\n",
    "tup1 = zip(d_glon, d_glat)\n",
    "\n",
    "amf_round = pd.DataFrame({'Glon': d_glonR, 'Glat': d_glatR, 'RA': d_raR, 'dec': d_decR})"
   ]
  },
  {
   "cell_type": "code",
   "execution_count": null,
   "metadata": {},
   "outputs": [],
   "source": [
    "d_glonR1 = []\n",
    "d_glatR1 = []\n",
    "d_glon1 = []\n",
    "d_glat1 = []\n",
    "d_rh1 = []\n",
    "\n",
    "for i in range(dr9.shape[0]):\n",
    "        d_glon1.append(dr9.iloc[i,15])\n",
    "        d_glat1.append(dr9.iloc[i,14])\n",
    "        d_glonR1.append(\"%.1f\" % dr9.iloc[i,15])\n",
    "        d_glatR1.append(\"%.1f\" % dr9.iloc[i,14])\n",
    "\n",
    "tup1 = zip(d_glon1, d_glat1)\n",
    "  \n",
    "df11 = pd.DataFrame({'Glon': d_glon1, 'Glat': d_glat1})\n",
    "df21 = pd.DataFrame({'Glon': d_glonR1, 'Glat': d_glatR1})\n",
    "\n",
    "b_glon1 = []\n",
    "b_glat1 = []\n",
    "b_rh1 = []\n",
    "\n",
    "for i in range(bur.shape[0]):\n",
    "        b_glon1.append(\"%.1f\" % bur.iloc[i,6])\n",
    "        b_glat1.append(\"%.1f\" % bur.iloc[i,5])\n",
    "\n",
    "tup2 = zip(b_glon1, b_glat1)\n",
    "\n",
    "df31 = pd.DataFrame({'Glon': b_glon1, 'Glat': b_glat1})\n",
    "\n",
    "amfset1 = set(list(zip(d_glonR1, d_glatR1)))\n",
    "burset1 = set(list(zip(b_glon1, b_glat1)))\n",
    "amfNOTbur1 = amfset1-burset1\n",
    "aNOTb_lon1,aNOTb_lat1, = zip(*amfNOTbur1)\n",
    "len(amfNOTbur1)\n",
    "\n",
    "new1 = pd.DataFrame({'Glon': aNOTb_lon1, 'Glat': aNOTb_lat1})"
   ]
  },
  {
   "cell_type": "code",
   "execution_count": null,
   "metadata": {},
   "outputs": [],
   "source": [
    "amf_all = pd.DataFrame({'Glon': d_glon, 'Glat': d_glat, 'Rh': d_rh, 'SN': d_sn})\n",
    "\n",
    "amfall_sns = []\n",
    "amfall_sns1 = []\n",
    "\n",
    "for i in range(amf_all.shape[0]):\n",
    "    if amf_all.iloc[i,3]:\n",
    "        amfall_sns.append(amf_all.iloc[i,3])\n",
    "        amfall_sns1.append((amf_all.iloc[i,3]*1.65)-1.15)\n",
    "    else:\n",
    "        amfall_sns.append(0)\n",
    "        amfall_sns1.append(0)\n",
    "\n",
    "plt.hist(amfall_sns,bins=492,normed=True,fill=False,edgecolor='blue',alpha=.6);\n",
    "plt.xlim((-9,14))\n",
    "plt.ylim(1e-4,)\n",
    "plt.yscale('log')\n",
    "plt.xlabel('S/N')\n",
    "\n",
    "plt.show()"
   ]
  },
  {
   "cell_type": "code",
   "execution_count": null,
   "metadata": {},
   "outputs": [],
   "source": [
    "amfall_sns"
   ]
  },
  {
   "cell_type": "code",
   "execution_count": null,
   "metadata": {
    "scrolled": false
   },
   "outputs": [],
   "source": [
    "amfunique_sns = []\n",
    "\n",
    "for i in range(new1.shape[0]):\n",
    "    pix = hp.ang2pix(2048,float(new1.iloc[i,0]),float(new1.iloc[i,1]),lonlat=True)\n",
    "    if sn_masked[pix]:\n",
    "        amfunique_sns.append(sn_masked[pix])\n",
    "    else:\n",
    "        amfunique_sns.append(0)\n",
    "\n",
    "plt.hist(amfunique_sns,bins=492,normed=True,fill=False,edgecolor='blue',alpha=.6);\n",
    "plt.xlim((-9,14))\n",
    "plt.ylim(1e-4,)\n",
    "plt.yscale('log')\n",
    "plt.xlabel('S/N')\n",
    "\n",
    "plt.show()"
   ]
  },
  {
   "cell_type": "code",
   "execution_count": null,
   "metadata": {
    "scrolled": true
   },
   "outputs": [],
   "source": [
    "plt.hist(amfunique_sns,bins=500,normed=True,fill=False,edgecolor='blue',alpha=0.6);\n",
    "plt.hist(sn_masked.compressed(), bins=500,normed=True,fill=False,edgecolor='r',alpha= 0.6);\n",
    "\n",
    "plt.xlim((-9,14))\n",
    "plt.ylim(1e-5,)\n",
    "plt.yscale('log');\n",
    "plt.xlabel('S/N');\n",
    "plt.title('Signal to Noise histogram of masked array');\n",
    "\n",
    "# ln = np.linspace(-9, 14, len(sn_masked))\n",
    "# g = stats.norm.pdf(ln, 0, 1.73)  \n",
    "# plt.plot(ln, g, label=\"Norm\", color=\"red\")\n",
    "\n",
    "plt.show()"
   ]
  },
  {
   "cell_type": "code",
   "execution_count": null,
   "metadata": {},
   "outputs": [],
   "source": [
    "# Histogram of the above map\n",
    "plt.figure(figsize=(12,12))\n",
    "plt.hist(plsz2['pl_sn'], bins=400,normed=True,fill=False,edgecolor='red', alpha=0.6);\n",
    "plt.hist(amfall_sns1, bins=400,normed=True,fill=False,edgecolor='blue', alpha=0.5);\n",
    "# plt.hist(sn_masked.compressed(), bins=400,normed=True,fill=False,edgecolor='yellow', alpha=0.4);\n",
    "plt.yscale('log')\n",
    "plt.xlabel('SN')\n",
    "plt.show()"
   ]
  },
  {
   "cell_type": "code",
   "execution_count": null,
   "metadata": {},
   "outputs": [],
   "source": [
    "plnk = pd.read_csv('Data/file1.csv')\n",
    "plnk.sort_values(by=['amf_no'])\n",
    "pd.set_option('display.max_columns', None)\n",
    "pd.set_option('display.max_rows', None)\n",
    "plnk"
   ]
  },
  {
   "cell_type": "code",
   "execution_count": null,
   "metadata": {},
   "outputs": [],
   "source": [
    "plt.figure(figsize=(20,10))\n",
    "plt.scatter(np.log10(plnk['pl_sn_x']),plnk['delta_rh'], c = plnk['amf_z'])\n",
    "plt.colorbar()"
   ]
  },
  {
   "cell_type": "code",
   "execution_count": null,
   "metadata": {},
   "outputs": [],
   "source": []
  }
 ],
 "metadata": {
  "kernelspec": {
   "display_name": "Python 3",
   "language": "python",
   "name": "python3"
  },
  "language_info": {
   "codemirror_mode": {
    "name": "ipython",
    "version": 3
   },
   "file_extension": ".py",
   "mimetype": "text/x-python",
   "name": "python",
   "nbconvert_exporter": "python",
   "pygments_lexer": "ipython3",
   "version": "3.7.6"
  }
 },
 "nbformat": 4,
 "nbformat_minor": 2
}
