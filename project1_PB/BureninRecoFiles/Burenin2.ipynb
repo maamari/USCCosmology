{
 "cells": [
  {
   "cell_type": "code",
   "execution_count": 1,
   "metadata": {},
   "outputs": [],
   "source": [
    "# Importing libraries\n",
    "import numpy as np\n",
    "import astropy\n",
    "from astropy.io import fits\n",
    "from astropy import units as u\n",
    "from astropy.coordinates import SkyCoord\n",
    "import healpy as hp\n",
    "import pandas as pd\n",
    "import math\n",
    "import scipy\n",
    "from scipy import stats\n",
    "\n",
    "import matplotlib\n",
    "import matplotlib.pyplot as plt\n",
    "from matplotlib import cm\n",
    "%matplotlib inline\n",
    "NSIDE=2048\n",
    "Npix=12*NSIDE**2\n",
    "\n",
    "pi=math.pi"
   ]
  },
  {
   "cell_type": "code",
   "execution_count": 2,
   "metadata": {},
   "outputs": [
    {
     "data": {
      "text/plain": [
       "'/home/maamari/Documents/USC_Cosmology'"
      ]
     },
     "execution_count": 2,
     "metadata": {},
     "output_type": "execute_result"
    }
   ],
   "source": [
    "pwd"
   ]
  },
  {
   "cell_type": "code",
   "execution_count": 3,
   "metadata": {},
   "outputs": [
    {
     "name": "stdout",
     "output_type": "stream",
     "text": [
      "NSIDE = 2048\n",
      "ORDERING = RING in fits file\n",
      "INDXSCHM = IMPLICIT\n"
     ]
    },
    {
     "name": "stderr",
     "output_type": "stream",
     "text": [
      "/home/maamari/anaconda3/lib/python3.6/site-packages/healpy/fitsfunc.py:367: UserWarning: No INDXSCHM keyword in header file : assume IMPLICIT\n",
      "  warnings.warn(\"No INDXSCHM keyword in header file : \" \"assume {}\".format(schm))\n"
     ]
    },
    {
     "name": "stdout",
     "output_type": "stream",
     "text": [
      "NSIDE = 2048\n",
      "ORDERING = RING in fits file\n",
      "INDXSCHM = IMPLICIT\n"
     ]
    }
   ],
   "source": [
    "# Reading maps\n",
    "nilc_ymap = hp.read_map('COM_CompMap_Compton-SZMap-nilc-ymaps_2048_R2.00.fits')\n",
    "nilc_stddevmap = hp.read_map('COM_CompMap_Compton-SZMap-nilc-stddev_2048_R2.00.fits')\n",
    "# Planck maps are in Galactic coordinates"
   ]
  },
  {
   "cell_type": "code",
   "execution_count": 4,
   "metadata": {},
   "outputs": [
    {
     "name": "stdout",
     "output_type": "stream",
     "text": [
      "Sigma is 25.479654 arcmin (0.007412 rad) \n",
      "-> fwhm is 60.000000 arcmin\n",
      "Sigma is 0.000000 arcmin (0.000000 rad) \n",
      "-> fwhm is 0.000000 arcmin\n"
     ]
    }
   ],
   "source": [
    "# Smooth noise map by 1 degree\n",
    "# The essential difference between Burenin and this, is that he uses\n",
    "# a 1degree radius median filter for smoothing (not available on healpy)\n",
    "stddev_smoothed = hp.smoothing(nilc_stddevmap,fwhm=np.radians(1.))"
   ]
  },
  {
   "cell_type": "code",
   "execution_count": 5,
   "metadata": {},
   "outputs": [],
   "source": [
    "# Calculate signal over noise (smoothed)\n",
    "sn_smoothed_n = nilc_ymap/stddev_smoothed"
   ]
  },
  {
   "cell_type": "code",
   "execution_count": 6,
   "metadata": {},
   "outputs": [
    {
     "name": "stdout",
     "output_type": "stream",
     "text": [
      "Sigma is 25.479654 arcmin (0.007412 rad) \n",
      "-> fwhm is 60.000000 arcmin\n",
      "Sigma is 0.000000 arcmin (0.000000 rad) \n",
      "-> fwhm is 0.000000 arcmin\n"
     ]
    }
   ],
   "source": [
    "# Smooth the sn_smoothed_n map by 1 degree\n",
    "sn_smoothed_n_smoothed = hp.smoothing(sn_smoothed_n,fwhm=np.radians(1.))"
   ]
  },
  {
   "cell_type": "code",
   "execution_count": 7,
   "metadata": {},
   "outputs": [],
   "source": [
    "# Subtract the smoothed signal to noise map from the signal to noise map\n",
    "sn_result = sn_smoothed_n - sn_smoothed_n_smoothed"
   ]
  },
  {
   "cell_type": "code",
   "execution_count": 8,
   "metadata": {},
   "outputs": [
    {
     "name": "stdout",
     "output_type": "stream",
     "text": [
      "NSIDE = 2048\n",
      "ORDERING = NESTED in fits file\n",
      "INDXSCHM = IMPLICIT\n",
      "Ordering converted to RING\n"
     ]
    }
   ],
   "source": [
    "# Mask the sn_result array\n",
    "mask=hp.read_map('maskplanckfullsz61.fits')\n",
    "sn_masked = hp.ma(sn_result)\n",
    "sn_masked.mask = np.logical_not(mask)\n",
    "# By convention the mask is 0 where the data are masked, while numpy defines data masked when \n",
    "# the mask is True, so it is necessary to flip the mask."
   ]
  },
  {
   "cell_type": "code",
   "execution_count": 9,
   "metadata": {},
   "outputs": [
    {
     "name": "stderr",
     "output_type": "stream",
     "text": [
      "/home/maamari/anaconda3/lib/python3.6/site-packages/matplotlib/axes/_axes.py:6462: UserWarning: The 'normed' kwarg is deprecated, and has been replaced by the 'density' kwarg.\n",
      "  warnings.warn(\"The 'normed' kwarg is deprecated, and has been \"\n"
     ]
    },
    {
     "data": {
      "image/png": "[encoded data removed]",
      "text/plain": [
       "<Figure size 432x288 with 1 Axes>"
      ]
     },
     "metadata": {},
     "output_type": "display_data"
    }
   ],
   "source": [
    "# Plot a histogram of the Signal to Noise masked map\n",
    "# weights = np.ones_like(sn_masked.compressed())/len(sn_masked.compressed())\n",
    "plt.hist(sn_masked.compressed(),bins=100,normed=True);\n",
    "# plt.xlim((-20,20))\n",
    "plt.yscale('log');\n",
    "plt.xlabel('S/N');\n",
    "plt.title('Signal to Noise histogram of masked array');\n",
    "plt.savefig('SN_dist_maskedarr.png')"
   ]
  },
  {
   "cell_type": "code",
   "execution_count": 10,
   "metadata": {},
   "outputs": [],
   "source": [
    "# Define functions to convert l and b (RA,Dec converted to galactic coordinates) to pixel vals and vice versa\n",
    "def blToIndex(b,l):\n",
    "    return hp.ang2pix(NSIDE,np.deg2rad(90.0-b),np.deg2rad(l),lonlat=False,nest=False)\n",
    "# Define a function to convert index to dec, ra\n",
    "def IndexTobl(index):\n",
    "    theta,phi=hp.pix2ang(NSIDE,index,lonlat=False,nest=False)\n",
    "    return -np.degrees(theta-pi/2.),np.degrees(pi*2.-phi)\n",
    "def blToIndex_8neighbors(b,l):\n",
    "    return hp.get_all_neighbours(NSIDE,np.radians(90.0-b),np.radians(l),lonlat=False,nest=False)"
   ]
  },
  {
   "cell_type": "code",
   "execution_count": 11,
   "metadata": {},
   "outputs": [
    {
     "data": {
      "text/html": [
       "<div>\n",
       "<style scoped>\n",
       "    .dataframe tbody tr th:only-of-type {\n",
       "        vertical-align: middle;\n",
       "    }\n",
       "\n",
       "    .dataframe tbody tr th {\n",
       "        vertical-align: top;\n",
       "    }\n",
       "\n",
       "    .dataframe thead th {\n",
       "        text-align: right;\n",
       "    }\n",
       "</style>\n",
       "<table border=\"1\" class=\"dataframe\">\n",
       "  <thead>\n",
       "    <tr style=\"text-align: right;\">\n",
       "      <th></th>\n",
       "      <th>Dec</th>\n",
       "      <th>RA</th>\n",
       "      <th>SN</th>\n",
       "    </tr>\n",
       "  </thead>\n",
       "  <tbody>\n",
       "    <tr>\n",
       "      <th>0</th>\n",
       "      <td>29.1144</td>\n",
       "      <td>0.2000</td>\n",
       "      <td>4.58</td>\n",
       "    </tr>\n",
       "    <tr>\n",
       "      <th>1</th>\n",
       "      <td>21.5636</td>\n",
       "      <td>0.2958</td>\n",
       "      <td>7.77</td>\n",
       "    </tr>\n",
       "    <tr>\n",
       "      <th>2</th>\n",
       "      <td>-0.0147</td>\n",
       "      <td>0.3500</td>\n",
       "      <td>4.55</td>\n",
       "    </tr>\n",
       "    <tr>\n",
       "      <th>3</th>\n",
       "      <td>12.0578</td>\n",
       "      <td>0.5042</td>\n",
       "      <td>9.52</td>\n",
       "    </tr>\n",
       "    <tr>\n",
       "      <th>4</th>\n",
       "      <td>-1.0683</td>\n",
       "      <td>0.7042</td>\n",
       "      <td>4.99</td>\n",
       "    </tr>\n",
       "  </tbody>\n",
       "</table>\n",
       "</div>"
      ],
      "text/plain": [
       "       Dec      RA    SN\n",
       "0  29.1144  0.2000  4.58\n",
       "1  21.5636  0.2958  7.77\n",
       "2  -0.0147  0.3500  4.55\n",
       "3  12.0578  0.5042  9.52\n",
       "4  -1.0683  0.7042  4.99"
      ]
     },
     "execution_count": 11,
     "metadata": {},
     "output_type": "execute_result"
    }
   ],
   "source": [
    "# Load the Burenin Planck extended catalog\n",
    "bur = np.loadtxt('planck_extended_burenin.dat')\n",
    "bur_ra = pd.Series(bur[:,1],name='RA')\n",
    "bur_dec = pd.Series(bur[:,2],name='Dec')\n",
    "bur_sn = pd.Series(bur[:,4],name='SN')\n",
    "df_bur = pd.concat([bur_dec,bur_ra,bur_sn],axis=1)\n",
    "df_bur.head()"
   ]
  },
  {
   "cell_type": "code",
   "execution_count": 12,
   "metadata": {},
   "outputs": [],
   "source": [
    "c=SkyCoord(df_bur['RA'],df_bur['Dec'],frame='icrs',unit='deg')"
   ]
  },
  {
   "cell_type": "code",
   "execution_count": 13,
   "metadata": {},
   "outputs": [],
   "source": [
    "c = c.galactic"
   ]
  },
  {
   "cell_type": "code",
   "execution_count": 14,
   "metadata": {},
   "outputs": [],
   "source": [
    "df_bur['b'] = c.b.degree\n",
    "df_bur['l'] = c.l.degree"
   ]
  },
  {
   "cell_type": "code",
   "execution_count": 15,
   "metadata": {},
   "outputs": [
    {
     "data": {
      "text/html": [
       "<div>\n",
       "<style scoped>\n",
       "    .dataframe tbody tr th:only-of-type {\n",
       "        vertical-align: middle;\n",
       "    }\n",
       "\n",
       "    .dataframe tbody tr th {\n",
       "        vertical-align: top;\n",
       "    }\n",
       "\n",
       "    .dataframe thead th {\n",
       "        text-align: right;\n",
       "    }\n",
       "</style>\n",
       "<table border=\"1\" class=\"dataframe\">\n",
       "  <thead>\n",
       "    <tr style=\"text-align: right;\">\n",
       "      <th></th>\n",
       "      <th>Dec</th>\n",
       "      <th>RA</th>\n",
       "      <th>SN</th>\n",
       "      <th>b</th>\n",
       "      <th>l</th>\n",
       "    </tr>\n",
       "  </thead>\n",
       "  <tbody>\n",
       "    <tr>\n",
       "      <th>0</th>\n",
       "      <td>29.1144</td>\n",
       "      <td>0.2000</td>\n",
       "      <td>4.58</td>\n",
       "      <td>-32.464350</td>\n",
       "      <td>109.815588</td>\n",
       "    </tr>\n",
       "    <tr>\n",
       "      <th>1</th>\n",
       "      <td>21.5636</td>\n",
       "      <td>0.2958</td>\n",
       "      <td>7.77</td>\n",
       "      <td>-39.813384</td>\n",
       "      <td>107.662070</td>\n",
       "    </tr>\n",
       "    <tr>\n",
       "      <th>2</th>\n",
       "      <td>-0.0147</td>\n",
       "      <td>0.3500</td>\n",
       "      <td>4.55</td>\n",
       "      <td>-60.339963</td>\n",
       "      <td>96.974176</td>\n",
       "    </tr>\n",
       "    <tr>\n",
       "      <th>3</th>\n",
       "      <td>12.0578</td>\n",
       "      <td>0.5042</td>\n",
       "      <td>9.52</td>\n",
       "      <td>-49.020180</td>\n",
       "      <td>104.324479</td>\n",
       "    </tr>\n",
       "    <tr>\n",
       "      <th>4</th>\n",
       "      <td>-1.0683</td>\n",
       "      <td>0.7042</td>\n",
       "      <td>4.99</td>\n",
       "      <td>-61.448190</td>\n",
       "      <td>96.797899</td>\n",
       "    </tr>\n",
       "  </tbody>\n",
       "</table>\n",
       "</div>"
      ],
      "text/plain": [
       "       Dec      RA    SN          b           l\n",
       "0  29.1144  0.2000  4.58 -32.464350  109.815588\n",
       "1  21.5636  0.2958  7.77 -39.813384  107.662070\n",
       "2  -0.0147  0.3500  4.55 -60.339963   96.974176\n",
       "3  12.0578  0.5042  9.52 -49.020180  104.324479\n",
       "4  -1.0683  0.7042  4.99 -61.448190   96.797899"
      ]
     },
     "execution_count": 15,
     "metadata": {},
     "output_type": "execute_result"
    }
   ],
   "source": [
    "df_bur.head()"
   ]
  },
  {
   "cell_type": "code",
   "execution_count": 16,
   "metadata": {},
   "outputs": [],
   "source": [
    "# Get the pixel vals corresponding to the b,l values of Burenin clusters\n",
    "bur_pixvals = blToIndex(df_bur['b'],df_bur['l'])"
   ]
  },
  {
   "cell_type": "code",
   "execution_count": 17,
   "metadata": {},
   "outputs": [],
   "source": [
    "bur_sn_arr = np.zeros(Npix)\n",
    "for i in bur_pixvals:\n",
    "    bur_sn_arr[i] = sn_masked[i]"
   ]
  },
  {
   "cell_type": "code",
   "execution_count": 18,
   "metadata": {},
   "outputs": [
    {
     "data": {
      "image/png": "[encoded data removed]",
      "text/plain": [
       "<Figure size 432x288 with 1 Axes>"
      ]
     },
     "metadata": {},
     "output_type": "display_data"
    }
   ],
   "source": [
    "plt.hist(bur_sn_arr[bur_sn_arr>0],bins=500,color='b',label='SN_masked',alpha=0.6)\n",
    "plt.hist(df_bur['SN'],bins=500,color='r',alpha=0.4,label='SN_original')\n",
    "plt.legend(loc='best')\n",
    "plt.yscale('log')\n",
    "plt.xlabel('Signal to Noise')\n",
    "plt.xlim((0,8))\n",
    "plt.savefig('burenin_SN_distribution.png')\n",
    "plt.title('SN_masked array (corresponding to Burenin pixels) and the SN values from the Burenin catalog');"
   ]
  },
  {
   "cell_type": "code",
   "execution_count": 19,
   "metadata": {},
   "outputs": [
    {
     "data": {
      "text/plain": [
       "2882"
      ]
     },
     "execution_count": 19,
     "metadata": {},
     "output_type": "execute_result"
    }
   ],
   "source": [
    "len(bur_sn_arr[bur_sn_arr>4.0])"
   ]
  },
  {
   "cell_type": "code",
   "execution_count": 20,
   "metadata": {},
   "outputs": [
    {
     "data": {
      "text/plain": [
       "DescribeResult(nobs=50331648, minmax=(0.0, 65.35806867025264), mean=0.0003542861164668128, variance=0.002860547581776152, skewness=293.5322770939905, kurtosis=182927.09462108972)"
      ]
     },
     "execution_count": 20,
     "metadata": {},
     "output_type": "execute_result"
    }
   ],
   "source": [
    "stats.describe(bur_sn_arr)"
   ]
  },
  {
   "cell_type": "code",
   "execution_count": 24,
   "metadata": {},
   "outputs": [
    {
     "data": {
      "text/html": [
       "<div>\n",
       "<style scoped>\n",
       "    .dataframe tbody tr th:only-of-type {\n",
       "        vertical-align: middle;\n",
       "    }\n",
       "\n",
       "    .dataframe tbody tr th {\n",
       "        vertical-align: top;\n",
       "    }\n",
       "\n",
       "    .dataframe thead th {\n",
       "        text-align: right;\n",
       "    }\n",
       "</style>\n",
       "<table border=\"1\" class=\"dataframe\">\n",
       "  <thead>\n",
       "    <tr style=\"text-align: right;\">\n",
       "      <th></th>\n",
       "      <th>Dec</th>\n",
       "      <th>RA</th>\n",
       "    </tr>\n",
       "  </thead>\n",
       "  <tbody>\n",
       "    <tr>\n",
       "      <th>0</th>\n",
       "      <td>20.7465</td>\n",
       "      <td>23.9128</td>\n",
       "    </tr>\n",
       "    <tr>\n",
       "      <th>1</th>\n",
       "      <td>32.1398</td>\n",
       "      <td>260.6324</td>\n",
       "    </tr>\n",
       "    <tr>\n",
       "      <th>2</th>\n",
       "      <td>-1.3356</td>\n",
       "      <td>197.8796</td>\n",
       "    </tr>\n",
       "    <tr>\n",
       "      <th>3</th>\n",
       "      <td>46.6917</td>\n",
       "      <td>250.1485</td>\n",
       "    </tr>\n",
       "    <tr>\n",
       "      <th>4</th>\n",
       "      <td>21.0378</td>\n",
       "      <td>346.3402</td>\n",
       "    </tr>\n",
       "  </tbody>\n",
       "</table>\n",
       "</div>"
      ],
      "text/plain": [
       "       Dec        RA\n",
       "0  20.7465   23.9128\n",
       "1  32.1398  260.6324\n",
       "2  -1.3356  197.8796\n",
       "3  46.6917  250.1485\n",
       "4  21.0378  346.3402"
      ]
     },
     "execution_count": 24,
     "metadata": {},
     "output_type": "execute_result"
    }
   ],
   "source": [
    "# Load the AMF DR9 main catalog\n",
    "amfdr9 = np.genfromtxt('dr9_main_catalog.dat', dtype=float)\n",
    "amfdr9_ra = pd.Series(amfdr9[:,3],name='RA')\n",
    "amfdr9_dec = pd.Series(amfdr9[:,4],name='Dec')\n",
    "df_amf = pd.concat([amfdr9_dec,amfdr9_ra],axis=1)\n",
    "df_amf.head()"
   ]
  },
  {
   "cell_type": "code",
   "execution_count": 25,
   "metadata": {},
   "outputs": [],
   "source": [
    "c2=SkyCoord(df_amf['RA'],df_amf['Dec'],frame='icrs',unit='deg')\n",
    "c2 = c2.galactic\n",
    "df_amf['b'] = c2.b.degree\n",
    "df_amf['l'] = c2.l.degree"
   ]
  },
  {
   "cell_type": "code",
   "execution_count": 26,
   "metadata": {},
   "outputs": [
    {
     "data": {
      "text/html": [
       "<div>\n",
       "<style scoped>\n",
       "    .dataframe tbody tr th:only-of-type {\n",
       "        vertical-align: middle;\n",
       "    }\n",
       "\n",
       "    .dataframe tbody tr th {\n",
       "        vertical-align: top;\n",
       "    }\n",
       "\n",
       "    .dataframe thead th {\n",
       "        text-align: right;\n",
       "    }\n",
       "</style>\n",
       "<table border=\"1\" class=\"dataframe\">\n",
       "  <thead>\n",
       "    <tr style=\"text-align: right;\">\n",
       "      <th></th>\n",
       "      <th>Dec</th>\n",
       "      <th>RA</th>\n",
       "      <th>b</th>\n",
       "      <th>l</th>\n",
       "    </tr>\n",
       "  </thead>\n",
       "  <tbody>\n",
       "    <tr>\n",
       "      <th>0</th>\n",
       "      <td>20.7465</td>\n",
       "      <td>23.9128</td>\n",
       "      <td>-40.943468</td>\n",
       "      <td>136.662636</td>\n",
       "    </tr>\n",
       "    <tr>\n",
       "      <th>1</th>\n",
       "      <td>32.1398</td>\n",
       "      <td>260.6324</td>\n",
       "      <td>31.846666</td>\n",
       "      <td>55.602221</td>\n",
       "    </tr>\n",
       "    <tr>\n",
       "      <th>2</th>\n",
       "      <td>-1.3356</td>\n",
       "      <td>197.8796</td>\n",
       "      <td>61.128514</td>\n",
       "      <td>313.370385</td>\n",
       "    </tr>\n",
       "    <tr>\n",
       "      <th>3</th>\n",
       "      <td>46.6917</td>\n",
       "      <td>250.1485</td>\n",
       "      <td>41.429880</td>\n",
       "      <td>72.599428</td>\n",
       "    </tr>\n",
       "    <tr>\n",
       "      <th>4</th>\n",
       "      <td>21.0378</td>\n",
       "      <td>346.3402</td>\n",
       "      <td>-35.420653</td>\n",
       "      <td>92.175825</td>\n",
       "    </tr>\n",
       "  </tbody>\n",
       "</table>\n",
       "</div>"
      ],
      "text/plain": [
       "       Dec        RA          b           l\n",
       "0  20.7465   23.9128 -40.943468  136.662636\n",
       "1  32.1398  260.6324  31.846666   55.602221\n",
       "2  -1.3356  197.8796  61.128514  313.370385\n",
       "3  46.6917  250.1485  41.429880   72.599428\n",
       "4  21.0378  346.3402 -35.420653   92.175825"
      ]
     },
     "execution_count": 26,
     "metadata": {},
     "output_type": "execute_result"
    }
   ],
   "source": [
    "df_amf.head()"
   ]
  },
  {
   "cell_type": "code",
   "execution_count": 27,
   "metadata": {},
   "outputs": [],
   "source": [
    "# Get the pixel vals corresponding to the b,l values of AMF clusters\n",
    "amf_pixvals = blToIndex(df_amf['b'],df_amf['l'])"
   ]
  },
  {
   "cell_type": "code",
   "execution_count": 28,
   "metadata": {},
   "outputs": [
    {
     "name": "stderr",
     "output_type": "stream",
     "text": [
      "/home/maamari/anaconda3/lib/python3.6/site-packages/ipykernel_launcher.py:3: UserWarning: Warning: converting a masked element to nan.\n",
      "  This is separate from the ipykernel package so we can avoid doing imports until\n"
     ]
    }
   ],
   "source": [
    "amf_sn_arr = np.zeros(Npix)\n",
    "for i in amf_pixvals:\n",
    "    amf_sn_arr[i] = sn_masked[i]"
   ]
  },
  {
   "cell_type": "code",
   "execution_count": 29,
   "metadata": {},
   "outputs": [],
   "source": [
    "amf_sn_arr2 = np.zeros(Npix)\n",
    "for i in amf_pixvals:\n",
    "    amf_sn_arr2[i] = sn_result[i]"
   ]
  },
  {
   "cell_type": "code",
   "execution_count": 30,
   "metadata": {},
   "outputs": [
    {
     "data": {
      "text/plain": [
       "1658"
      ]
     },
     "execution_count": 30,
     "metadata": {},
     "output_type": "execute_result"
    }
   ],
   "source": [
    "len(amf_sn_arr2[amf_sn_arr2>4.0])"
   ]
  },
  {
   "cell_type": "code",
   "execution_count": 31,
   "metadata": {},
   "outputs": [
    {
     "name": "stderr",
     "output_type": "stream",
     "text": [
      "/home/maamari/anaconda3/lib/python3.6/site-packages/ipykernel_launcher.py:1: RuntimeWarning: invalid value encountered in greater\n",
      "  \"\"\"Entry point for launching an IPython kernel.\n"
     ]
    },
    {
     "data": {
      "text/plain": [
       "1534"
      ]
     },
     "execution_count": 31,
     "metadata": {},
     "output_type": "execute_result"
    }
   ],
   "source": [
    "len(amf_sn_arr[amf_sn_arr>4.0])"
   ]
  },
  {
   "cell_type": "code",
   "execution_count": 32,
   "metadata": {},
   "outputs": [
    {
     "name": "stderr",
     "output_type": "stream",
     "text": [
      "/home/maamari/anaconda3/lib/python3.6/site-packages/matplotlib/axes/_axes.py:6462: UserWarning: The 'normed' kwarg is deprecated, and has been replaced by the 'density' kwarg.\n",
      "  warnings.warn(\"The 'normed' kwarg is deprecated, and has been \"\n",
      "/home/maamari/anaconda3/lib/python3.6/site-packages/ipykernel_launcher.py:3: RuntimeWarning: invalid value encountered in greater\n",
      "  This is separate from the ipykernel package so we can avoid doing imports until\n"
     ]
    },
    {
     "data": {
      "image/png": "[encoded data removed]",
      "text/plain": [
       "<Figure size 432x288 with 1 Axes>"
      ]
     },
     "metadata": {},
     "output_type": "display_data"
    }
   ],
   "source": [
    "# Plot of sn_masked S/N values versus values corresponding to AMF DR9 pixels\n",
    "plt.hist(sn_masked.compressed(),bins=50,color='b',label='SN',alpha=0.9,normed=True)\n",
    "plt.hist(amf_sn_arr[amf_sn_arr>0],bins=50,color='r',alpha=0.5,label='AMF',normed=True)\n",
    "plt.legend(loc='best')\n",
    "plt.yscale('log')\n",
    "plt.xlabel('S/N')\n",
    "plt.title('SN_masked S/N values versus values corresponding to AMF DR9 pixels');\n",
    "plt.savefig('snvals_maskedarr_amfdr9.png')"
   ]
  },
  {
   "cell_type": "code",
   "execution_count": 35,
   "metadata": {},
   "outputs": [
    {
     "data": {
      "text/html": [
       "<div>\n",
       "<style scoped>\n",
       "    .dataframe tbody tr th:only-of-type {\n",
       "        vertical-align: middle;\n",
       "    }\n",
       "\n",
       "    .dataframe tbody tr th {\n",
       "        vertical-align: top;\n",
       "    }\n",
       "\n",
       "    .dataframe thead th {\n",
       "        text-align: right;\n",
       "    }\n",
       "</style>\n",
       "<table border=\"1\" class=\"dataframe\">\n",
       "  <thead>\n",
       "    <tr style=\"text-align: right;\">\n",
       "      <th></th>\n",
       "      <th>Dec</th>\n",
       "      <th>RA</th>\n",
       "    </tr>\n",
       "  </thead>\n",
       "  <tbody>\n",
       "    <tr>\n",
       "      <th>0</th>\n",
       "      <td>20.7465</td>\n",
       "      <td>23.9128</td>\n",
       "    </tr>\n",
       "    <tr>\n",
       "      <th>1</th>\n",
       "      <td>32.1398</td>\n",
       "      <td>260.6324</td>\n",
       "    </tr>\n",
       "    <tr>\n",
       "      <th>2</th>\n",
       "      <td>-1.3356</td>\n",
       "      <td>197.8796</td>\n",
       "    </tr>\n",
       "    <tr>\n",
       "      <th>3</th>\n",
       "      <td>46.6917</td>\n",
       "      <td>250.1485</td>\n",
       "    </tr>\n",
       "    <tr>\n",
       "      <th>4</th>\n",
       "      <td>21.0378</td>\n",
       "      <td>346.3402</td>\n",
       "    </tr>\n",
       "  </tbody>\n",
       "</table>\n",
       "</div>"
      ],
      "text/plain": [
       "       Dec        RA\n",
       "0  20.7465   23.9128\n",
       "1  32.1398  260.6324\n",
       "2  -1.3356  197.8796\n",
       "3  46.6917  250.1485\n",
       "4  21.0378  346.3402"
      ]
     },
     "execution_count": 35,
     "metadata": {},
     "output_type": "execute_result"
    }
   ],
   "source": [
    "# Selecting AMF DR9 clusters richness > 50\n",
    "amfrichcut = amfdr9[amfdr9[:,7]>50]\n",
    "amfrichcut_ra = pd.Series(amfrichcut[:,3],name='RA')\n",
    "amfrichcut_dec = pd.Series(amfrichcut[:,4],name='Dec')\n",
    "df_amfrichcut = pd.concat([amfrichcut_dec,amfrichcut_ra],axis=1)\n",
    "df_amfrichcut.head()"
   ]
  },
  {
   "cell_type": "code",
   "execution_count": 36,
   "metadata": {},
   "outputs": [],
   "source": [
    "c3=SkyCoord(df_amfrichcut['RA'],df_amfrichcut['Dec'],frame='icrs',unit='deg')\n",
    "c3 = c3.galactic\n",
    "df_amfrichcut['b'] = c3.b.degree\n",
    "df_amfrichcut['l'] = c3.l.degree"
   ]
  },
  {
   "cell_type": "code",
   "execution_count": 37,
   "metadata": {},
   "outputs": [
    {
     "data": {
      "text/html": [
       "<div>\n",
       "<style scoped>\n",
       "    .dataframe tbody tr th:only-of-type {\n",
       "        vertical-align: middle;\n",
       "    }\n",
       "\n",
       "    .dataframe tbody tr th {\n",
       "        vertical-align: top;\n",
       "    }\n",
       "\n",
       "    .dataframe thead th {\n",
       "        text-align: right;\n",
       "    }\n",
       "</style>\n",
       "<table border=\"1\" class=\"dataframe\">\n",
       "  <thead>\n",
       "    <tr style=\"text-align: right;\">\n",
       "      <th></th>\n",
       "      <th>Dec</th>\n",
       "      <th>RA</th>\n",
       "      <th>b</th>\n",
       "      <th>l</th>\n",
       "    </tr>\n",
       "  </thead>\n",
       "  <tbody>\n",
       "    <tr>\n",
       "      <th>0</th>\n",
       "      <td>20.7465</td>\n",
       "      <td>23.9128</td>\n",
       "      <td>-40.943468</td>\n",
       "      <td>136.662636</td>\n",
       "    </tr>\n",
       "    <tr>\n",
       "      <th>1</th>\n",
       "      <td>32.1398</td>\n",
       "      <td>260.6324</td>\n",
       "      <td>31.846666</td>\n",
       "      <td>55.602221</td>\n",
       "    </tr>\n",
       "    <tr>\n",
       "      <th>2</th>\n",
       "      <td>-1.3356</td>\n",
       "      <td>197.8796</td>\n",
       "      <td>61.128514</td>\n",
       "      <td>313.370385</td>\n",
       "    </tr>\n",
       "    <tr>\n",
       "      <th>3</th>\n",
       "      <td>46.6917</td>\n",
       "      <td>250.1485</td>\n",
       "      <td>41.429880</td>\n",
       "      <td>72.599428</td>\n",
       "    </tr>\n",
       "    <tr>\n",
       "      <th>4</th>\n",
       "      <td>21.0378</td>\n",
       "      <td>346.3402</td>\n",
       "      <td>-35.420653</td>\n",
       "      <td>92.175825</td>\n",
       "    </tr>\n",
       "  </tbody>\n",
       "</table>\n",
       "</div>"
      ],
      "text/plain": [
       "       Dec        RA          b           l\n",
       "0  20.7465   23.9128 -40.943468  136.662636\n",
       "1  32.1398  260.6324  31.846666   55.602221\n",
       "2  -1.3356  197.8796  61.128514  313.370385\n",
       "3  46.6917  250.1485  41.429880   72.599428\n",
       "4  21.0378  346.3402 -35.420653   92.175825"
      ]
     },
     "execution_count": 37,
     "metadata": {},
     "output_type": "execute_result"
    }
   ],
   "source": [
    "df_amfrichcut.head()"
   ]
  },
  {
   "cell_type": "code",
   "execution_count": 38,
   "metadata": {},
   "outputs": [],
   "source": [
    "# Get the pixel vals corresponding to the b,l values of AMF clusters\n",
    "amfrichcut_pixvals = blToIndex(df_amfrichcut['b'],df_amfrichcut['l'])"
   ]
  },
  {
   "cell_type": "code",
   "execution_count": 39,
   "metadata": {},
   "outputs": [
    {
     "name": "stderr",
     "output_type": "stream",
     "text": [
      "/home/maamari/anaconda3/lib/python3.6/site-packages/ipykernel_launcher.py:3: UserWarning: Warning: converting a masked element to nan.\n",
      "  This is separate from the ipykernel package so we can avoid doing imports until\n"
     ]
    }
   ],
   "source": [
    "amfrichcut_sn_arr = np.zeros(Npix)\n",
    "for i in amfrichcut_pixvals:\n",
    "    amfrichcut_sn_arr[i] = sn_masked[i]"
   ]
  },
  {
   "cell_type": "code",
   "execution_count": 40,
   "metadata": {},
   "outputs": [
    {
     "name": "stderr",
     "output_type": "stream",
     "text": [
      "/home/maamari/anaconda3/lib/python3.6/site-packages/ipykernel_launcher.py:1: RuntimeWarning: invalid value encountered in greater\n",
      "  \"\"\"Entry point for launching an IPython kernel.\n"
     ]
    },
    {
     "data": {
      "text/plain": [
       "1534"
      ]
     },
     "execution_count": 40,
     "metadata": {},
     "output_type": "execute_result"
    }
   ],
   "source": [
    "len(amf_sn_arr[amf_sn_arr>4.0])"
   ]
  },
  {
   "cell_type": "code",
   "execution_count": 41,
   "metadata": {},
   "outputs": [
    {
     "name": "stderr",
     "output_type": "stream",
     "text": [
      "/home/maamari/anaconda3/lib/python3.6/site-packages/matplotlib/axes/_axes.py:6462: UserWarning: The 'normed' kwarg is deprecated, and has been replaced by the 'density' kwarg.\n",
      "  warnings.warn(\"The 'normed' kwarg is deprecated, and has been \"\n",
      "/home/maamari/anaconda3/lib/python3.6/site-packages/ipykernel_launcher.py:3: RuntimeWarning: invalid value encountered in greater\n",
      "  This is separate from the ipykernel package so we can avoid doing imports until\n"
     ]
    },
    {
     "data": {
      "image/png": "[encoded data removed]",
      "text/plain": [
       "<Figure size 432x288 with 1 Axes>"
      ]
     },
     "metadata": {},
     "output_type": "display_data"
    }
   ],
   "source": [
    "# Plot of sn_masked S/N values versus values corresponding to AMF DR9 pixels (cluster richness > 50)\n",
    "plt.hist(sn_masked.compressed(),bins=50,color='b',label='SN',alpha=0.9,normed=True)\n",
    "plt.hist(amfrichcut_sn_arr[amfrichcut_sn_arr>0],bins=50,color='r',alpha=0.5,label='AMF($\\Lambda_{200}>50$)',normed=True)\n",
    "plt.legend(loc='best')\n",
    "plt.yscale('log')\n",
    "plt.xlabel('S/N')\n",
    "plt.title('SN_masked S/N values versus values corresponding to AMF DR9 pixels (Rich>50)');\n",
    "plt.savefig('snvals_maskedarr_amfdr9richcut.png')"
   ]
  },
  {
   "cell_type": "code",
   "execution_count": null,
   "metadata": {},
   "outputs": [],
   "source": [
    "# Load the redMaPPer catalog\n",
    "red = np.loadtxt('redmapper2_v2.dat')\n",
    "red_ra = pd.Series(red[:,1],name='RA')\n",
    "red_dec = pd.Series(red[:,2],name='Dec')\n",
    "df_red = pd.concat([red_dec,red_ra],axis=1)\n",
    "df_red.head()"
   ]
  },
  {
   "cell_type": "code",
   "execution_count": null,
   "metadata": {},
   "outputs": [],
   "source": [
    "c4=SkyCoord(df_red['RA'],df_red['Dec'],frame='icrs',unit='deg')\n",
    "c4 = c4.galactic\n",
    "df_red['b'] = c4.b.degree\n",
    "df_red['l'] = c4.l.degree\n",
    "df_red.head()"
   ]
  },
  {
   "cell_type": "code",
   "execution_count": null,
   "metadata": {
    "collapsed": true
   },
   "outputs": [],
   "source": [
    "# Get the pixel vals corresponding to the b,l values of redMaPPer clusters\n",
    "red_pixvals = blToIndex(df_red['b'],df_red['l'])"
   ]
  },
  {
   "cell_type": "code",
   "execution_count": null,
   "metadata": {},
   "outputs": [],
   "source": [
    "red_sn_arr = np.zeros(Npix)\n",
    "for i in red_pixvals:\n",
    "    red_sn_arr[i] = sn_masked[i]"
   ]
  },
  {
   "cell_type": "code",
   "execution_count": null,
   "metadata": {},
   "outputs": [],
   "source": [
    "len(red_sn_arr[red_sn_arr>4.0])"
   ]
  },
  {
   "cell_type": "code",
   "execution_count": null,
   "metadata": {},
   "outputs": [],
   "source": [
    "# Plot of sn_masked S/N values versus values corresponding to redMaPPer pixels \n",
    "plt.hist(sn_masked.compressed(),bins=50,color='b',label='SN',alpha=0.9,normed=True)\n",
    "plt.hist(red_sn_arr[red_sn_arr>0],bins=50,color='r',alpha=0.5,label='redMaPPer',normed=True)\n",
    "plt.legend(loc='best')\n",
    "plt.yscale('log')\n",
    "plt.xlabel('S/N')\n",
    "plt.title('SN_masked S/N values versus values corresponding to redMaPPer pixels');\n",
    "plt.savefig('snvals_maskedarr_red.png')"
   ]
  },
  {
   "cell_type": "code",
   "execution_count": null,
   "metadata": {},
   "outputs": [],
   "source": [
    "redrichcut = red[red[:,4]>80]\n",
    "redrichcut_ra = pd.Series(redrichcut[:,1],name='RA')\n",
    "redrichcut_dec = pd.Series(redrichcut[:,2],name='Dec')\n",
    "df_redrichcut = pd.concat([redrichcut_dec,redrichcut_ra],axis=1)\n",
    "df_redrichcut.head()"
   ]
  },
  {
   "cell_type": "code",
   "execution_count": null,
   "metadata": {},
   "outputs": [],
   "source": [
    "c5=SkyCoord(df_redrichcut['RA'],df_redrichcut['Dec'],frame='icrs',unit='deg')\n",
    "c5 = c5.galactic\n",
    "df_redrichcut['b'] = c5.b.degree\n",
    "df_redrichcut['l'] = c5.l.degree\n",
    "df_redrichcut.head()"
   ]
  },
  {
   "cell_type": "code",
   "execution_count": null,
   "metadata": {
    "collapsed": true
   },
   "outputs": [],
   "source": [
    "# Get the pixel vals corresponding to the b,l values of redMaPPer clusters\n",
    "redrichcut_pixvals = blToIndex(df_redrichcut['b'],df_redrichcut['l'])"
   ]
  },
  {
   "cell_type": "code",
   "execution_count": null,
   "metadata": {},
   "outputs": [],
   "source": [
    "redrichcut_sn_arr = np.zeros(Npix)\n",
    "for i in redrichcut_pixvals:\n",
    "    redrichcut_sn_arr[i] = sn_masked[i]"
   ]
  },
  {
   "cell_type": "code",
   "execution_count": null,
   "metadata": {},
   "outputs": [],
   "source": [
    "# Plot of sn_masked S/N values versus values corresponding to redMaPPer pixels (Richness>80)\n",
    "plt.hist(sn_masked.compressed(),bins=50,color='b',label='SN',alpha=0.9,normed=True)\n",
    "plt.hist(redrichcut_sn_arr[redrichcut_sn_arr>0],bins=50,color='r',alpha=0.5,label='redMaPPer (Rich>80)',normed=True)\n",
    "plt.legend(loc='best')\n",
    "plt.yscale('log')\n",
    "plt.xlabel('S/N')\n",
    "plt.title('SN_masked S/N values versus values corresponding to redMaPPer pixels (Rich>80)');\n",
    "plt.savefig('snvals_maskedarr_redrichcut.png')"
   ]
  },
  {
   "cell_type": "code",
   "execution_count": null,
   "metadata": {},
   "outputs": [],
   "source": [
    "# Load the AMF DR9 ext catalog\n",
    "amfext = np.loadtxt('/Users/pancham/Documents/Research/catalogs/dr9_extended_catalog.dat')\n",
    "amfext_ra = pd.Series(amfext[:,1],name='RA')\n",
    "amfext_dec = pd.Series(amfext[:,2],name='Dec')\n",
    "df_amfext = pd.concat([amfext_dec,amfext_ra],axis=1)\n",
    "df_amfext.head()"
   ]
  },
  {
   "cell_type": "code",
   "execution_count": null,
   "metadata": {},
   "outputs": [],
   "source": [
    "c6=SkyCoord(df_amfext['RA'],df_amfext['Dec'],frame='icrs',unit='deg')\n",
    "c6 = c6.galactic\n",
    "df_amfext['b'] = c6.b.degree\n",
    "df_amfext['l'] = c6.l.degree\n",
    "df_amfext.head()"
   ]
  },
  {
   "cell_type": "code",
   "execution_count": null,
   "metadata": {
    "collapsed": true
   },
   "outputs": [],
   "source": [
    "# Get the pixel vals corresponding to the b,l values of AMF clusters\n",
    "amfext_pixvals = blToIndex(df_amfext['b'],df_amfext['l'])"
   ]
  },
  {
   "cell_type": "code",
   "execution_count": null,
   "metadata": {},
   "outputs": [],
   "source": [
    "amfext_sn_arr = np.zeros(Npix)\n",
    "for i in amfext_pixvals:\n",
    "    amfext_sn_arr[i] = sn_masked[i]"
   ]
  },
  {
   "cell_type": "code",
   "execution_count": null,
   "metadata": {
    "collapsed": true
   },
   "outputs": [],
   "source": [
    "pixlist_amfext_sngt4 = []\n",
    "for i in amfext_pixvals:\n",
    "    if (sn_masked[i]>4.0):\n",
    "        pixlist_amfext_sngt4.append(i)"
   ]
  },
  {
   "cell_type": "code",
   "execution_count": null,
   "metadata": {},
   "outputs": [],
   "source": [
    "len(pixlist_amfext_sngt4) #Why not 1886? Check!!"
   ]
  },
  {
   "cell_type": "code",
   "execution_count": null,
   "metadata": {
    "collapsed": true
   },
   "outputs": [],
   "source": [
    "amfext_sn_arr2 = np.zeros(Npix)\n",
    "for i in amfext_pixvals:\n",
    "    amfext_sn_arr2[i] = sn_result[i]"
   ]
  },
  {
   "cell_type": "code",
   "execution_count": null,
   "metadata": {},
   "outputs": [],
   "source": [
    "pixlist_amfext_sngt4[:5]"
   ]
  },
  {
   "cell_type": "code",
   "execution_count": null,
   "metadata": {},
   "outputs": [],
   "source": [
    "IndexTobl(11883761)"
   ]
  },
  {
   "cell_type": "code",
   "execution_count": null,
   "metadata": {},
   "outputs": [],
   "source": [
    "b_l_amfext_sngt4 = IndexTobl(pixlist_amfext_sngt4)\n",
    "b_amfext_sngt4 = b_l_amfext_sngt4[0] \n",
    "l_amfext_sngt4 = b_l_amfext_sngt4[1]\n",
    "c13 = SkyCoord('galactic',l=l_amfext_sngt4,b=b_amfext_sngt4,unit='deg')\n",
    "amfext_sngt4_ra = pd.Series(c13.fk5.ra.degree,name='RA')\n",
    "amfext_sngt4_dec = pd.Series(c13.fk5.dec.degree,name='Dec')\n",
    "amfext_sngt4_ra_dec = pd.concat([amfext_sngt4_ra,amfext_sngt4_dec],axis=1)\n",
    "amfext_sngt4_ra_dec.head()\n"
   ]
  },
  {
   "cell_type": "code",
   "execution_count": null,
   "metadata": {
    "collapsed": true
   },
   "outputs": [],
   "source": [
    "amfext_sngt4_ra_dec.to_csv('amfext_sngt4_ra_dec.dat')"
   ]
  },
  {
   "cell_type": "code",
   "execution_count": null,
   "metadata": {},
   "outputs": [],
   "source": [
    "len(amfext_sn_arr2[amfext_sn_arr2>4])"
   ]
  },
  {
   "cell_type": "code",
   "execution_count": null,
   "metadata": {},
   "outputs": [],
   "source": [
    "len(amfext_sn_arr[amfext_sn_arr>4])"
   ]
  },
  {
   "cell_type": "code",
   "execution_count": null,
   "metadata": {
    "collapsed": true
   },
   "outputs": [],
   "source": []
  },
  {
   "cell_type": "code",
   "execution_count": null,
   "metadata": {},
   "outputs": [],
   "source": [
    "# The Planck SZ2 catalog\n",
    "planck = np.loadtxt('/Users/pancham/Documents/Research/catalogs/planck_v5.dat')\n",
    "pl_ra = pd.Series(planck[:,1],name='RA')\n",
    "pl_dec = pd.Series(planck[:,2],name='Dec')\n",
    "pl_y = pd.Series(planck[:,3],name='Y')\n",
    "df_pl = pd.concat([pl_dec,pl_ra,pl_y],axis=1)\n",
    "df_pl.head()"
   ]
  },
  {
   "cell_type": "code",
   "execution_count": null,
   "metadata": {},
   "outputs": [],
   "source": [
    "c7=SkyCoord(df_pl['RA'],df_pl['Dec'],frame='icrs',unit='deg')\n",
    "c7 = c7.galactic\n",
    "df_pl['b'] = c7.b.degree\n",
    "df_pl['l'] = c7.l.degree\n",
    "df_pl.head()"
   ]
  },
  {
   "cell_type": "code",
   "execution_count": null,
   "metadata": {
    "collapsed": true
   },
   "outputs": [],
   "source": [
    "# Get the pixel vals corresponding to the b,l values of Planck clusters\n",
    "pl_pixvals = blToIndex(df_pl['b'],df_pl['l'])"
   ]
  },
  {
   "cell_type": "code",
   "execution_count": null,
   "metadata": {},
   "outputs": [],
   "source": [
    "len(list(set(amfext_pixvals) & set(pl_pixvals)))"
   ]
  },
  {
   "cell_type": "code",
   "execution_count": null,
   "metadata": {},
   "outputs": [],
   "source": [
    "pl_sn_arr = np.zeros(Npix)\n",
    "for i in pl_pixvals:\n",
    "    pl_sn_arr[i] = sn_masked[i]"
   ]
  },
  {
   "cell_type": "code",
   "execution_count": null,
   "metadata": {},
   "outputs": [],
   "source": [
    "len(pl_sn_arr[pl_sn_arr>0])"
   ]
  },
  {
   "cell_type": "code",
   "execution_count": null,
   "metadata": {
    "collapsed": true
   },
   "outputs": [],
   "source": [
    "pl_8pixvals = blToIndex_8neighbors(df_pl['b'],df_pl['l'])\n",
    "amf_8pixvals = blToIndex_8neighbors(df_pl['b'],df_pl['l'])"
   ]
  },
  {
   "cell_type": "code",
   "execution_count": null,
   "metadata": {},
   "outputs": [],
   "source": [
    "pl_8pixvals.shape"
   ]
  },
  {
   "cell_type": "code",
   "execution_count": null,
   "metadata": {},
   "outputs": [],
   "source": [
    "# With a 10 arc minradius, amf dr9 extended matches 511 Planck clusters\n",
    "# Import these in and see how many lie in the mask\n",
    "\n",
    "\n",
    "pl_amfextmatch_10arcmin = np.loadtxt('/Users/pancham/Documents/Research/catalogs/planck_amfext_match_10arcmin.dat')\n",
    "pl_amfextmatch_10arcmin_ra = pd.Series(pl_amfextmatch_10arcmin[:,1],name='RA')\n",
    "pl_amfextmatch_10arcmin_dec = pd.Series(pl_amfextmatch_10arcmin[:,2],name='Dec')\n",
    "df_pl_amfextmatch_10arcmin = pd.concat([pl_amfextmatch_10arcmin_dec,pl_amfextmatch_10arcmin_ra],axis=1)\n",
    "df_pl_amfextmatch_10arcmin.head()"
   ]
  },
  {
   "cell_type": "code",
   "execution_count": null,
   "metadata": {},
   "outputs": [],
   "source": [
    "c8=SkyCoord(df_pl_amfextmatch_10arcmin['RA'],df_pl_amfextmatch_10arcmin['Dec'],frame='icrs',unit='deg')\n",
    "c8 = c8.galactic\n",
    "df_pl_amfextmatch_10arcmin['b'] = c8.b.degree\n",
    "df_pl_amfextmatch_10arcmin['l'] = c8.l.degree\n",
    "df_pl_amfextmatch_10arcmin.head()"
   ]
  },
  {
   "cell_type": "code",
   "execution_count": null,
   "metadata": {
    "collapsed": true
   },
   "outputs": [],
   "source": [
    "pl_amfext_10arcmin_pixvals = blToIndex(df_pl_amfextmatch_10arcmin['b'],df_pl_amfextmatch_10arcmin['l'])"
   ]
  },
  {
   "cell_type": "code",
   "execution_count": null,
   "metadata": {},
   "outputs": [],
   "source": [
    "len(pl_amfext_10arcmin_pixvals)"
   ]
  },
  {
   "cell_type": "code",
   "execution_count": null,
   "metadata": {},
   "outputs": [],
   "source": [
    "pl_amfext_10arcmin_sn_arr = np.zeros(Npix)\n",
    "for i in pl_amfext_10arcmin_pixvals:\n",
    "    pl_amfext_10arcmin_sn_arr[i] = sn_masked[i]"
   ]
  },
  {
   "cell_type": "code",
   "execution_count": null,
   "metadata": {},
   "outputs": [],
   "source": [
    "len(pl_amfext_10arcmin_sn_arr[pl_amfext_10arcmin_sn_arr>4.0])"
   ]
  },
  {
   "cell_type": "code",
   "execution_count": null,
   "metadata": {},
   "outputs": [],
   "source": [
    "# With a 5 arc minradius, amf dr9 extended matches 413 Planck clusters\n",
    "# Import these in and see how many lie in the mask\n",
    "\n",
    "\n",
    "pl_amfextmatch_5arcmin = np.loadtxt('/Users/pancham/Documents/Research/catalogs/planck_amfext_match_5arcmin.dat')\n",
    "pl_amfextmatch_5arcmin_ra = pd.Series(pl_amfextmatch_5arcmin[:,1],name='RA')\n",
    "pl_amfextmatch_5arcmin_dec = pd.Series(pl_amfextmatch_5arcmin[:,2],name='Dec')\n",
    "df_pl_amfextmatch_5arcmin = pd.concat([pl_amfextmatch_5arcmin_dec,pl_amfextmatch_5arcmin_ra],axis=1)\n",
    "df_pl_amfextmatch_5arcmin.head()"
   ]
  },
  {
   "cell_type": "code",
   "execution_count": null,
   "metadata": {},
   "outputs": [],
   "source": [
    "c9=SkyCoord(df_pl_amfextmatch_5arcmin['RA'],df_pl_amfextmatch_5arcmin['Dec'],frame='icrs',unit='deg')\n",
    "c9 = c9.galactic\n",
    "df_pl_amfextmatch_5arcmin['b'] = c9.b.degree\n",
    "df_pl_amfextmatch_5arcmin['l'] = c9.l.degree\n",
    "df_pl_amfextmatch_5arcmin.head()"
   ]
  },
  {
   "cell_type": "code",
   "execution_count": null,
   "metadata": {
    "collapsed": true
   },
   "outputs": [],
   "source": [
    "pl_amfext_5arcmin_pixvals = blToIndex(df_pl_amfextmatch_5arcmin['b'],df_pl_amfextmatch_5arcmin['l'])"
   ]
  },
  {
   "cell_type": "code",
   "execution_count": null,
   "metadata": {},
   "outputs": [],
   "source": [
    "pl_amfext_5arcmin_sn_arr = np.zeros(Npix)\n",
    "for i in pl_amfext_5arcmin_pixvals:\n",
    "    pl_amfext_5arcmin_sn_arr[i] = sn_masked[i]"
   ]
  },
  {
   "cell_type": "code",
   "execution_count": null,
   "metadata": {},
   "outputs": [],
   "source": [
    "len(pl_amfext_5arcmin_sn_arr[pl_amfext_5arcmin_sn_arr>4.0])"
   ]
  },
  {
   "cell_type": "code",
   "execution_count": null,
   "metadata": {},
   "outputs": [],
   "source": [
    "# With a 10 arc minradius, amf dr9 main matches 485 Planck clusters\n",
    "# Import these in and see how many lie in the mask\n",
    "\n",
    "\n",
    "pl_amf_10arcmin = np.loadtxt('/Users/pancham/Documents/Research/catalogs/planck_amf_match_10arcmin.dat')\n",
    "pl_amf_10arcmin_ra = pd.Series(pl_amf_10arcmin[:,1],name='RA')\n",
    "pl_amf_10arcmin_dec = pd.Series(pl_amf_10arcmin[:,2],name='Dec')\n",
    "df_pl_amf_10arcmin = pd.concat([pl_amf_10arcmin_dec,pl_amf_10arcmin_ra],axis=1)\n",
    "df_pl_amf_10arcmin.head()"
   ]
  },
  {
   "cell_type": "code",
   "execution_count": null,
   "metadata": {},
   "outputs": [],
   "source": [
    "c10=SkyCoord(df_pl_amf_10arcmin['RA'],df_pl_amf_10arcmin['Dec'],frame='icrs',unit='deg')\n",
    "c10 = c10.galactic\n",
    "df_pl_amf_10arcmin['b'] = c10.b.degree\n",
    "df_pl_amf_10arcmin['l'] = c10.l.degree\n",
    "df_pl_amf_10arcmin.head()"
   ]
  },
  {
   "cell_type": "code",
   "execution_count": null,
   "metadata": {
    "collapsed": true
   },
   "outputs": [],
   "source": [
    "pl_amf_10arcmin_pixvals = blToIndex(df_pl_amf_10arcmin['b'],df_pl_amf_10arcmin['l'])"
   ]
  },
  {
   "cell_type": "code",
   "execution_count": null,
   "metadata": {},
   "outputs": [],
   "source": [
    "pl_amf_10arcmin_sn_arr = np.zeros(Npix)\n",
    "for i in pl_amf_10arcmin_pixvals:\n",
    "    pl_amf_10arcmin_sn_arr[i] = sn_masked[i]"
   ]
  },
  {
   "cell_type": "code",
   "execution_count": null,
   "metadata": {},
   "outputs": [],
   "source": [
    "len(pl_amf_10arcmin_sn_arr[pl_amf_10arcmin_sn_arr>4.0])"
   ]
  },
  {
   "cell_type": "code",
   "execution_count": null,
   "metadata": {},
   "outputs": [],
   "source": [
    "# With a 5 arc minradius, amf dr9 main matches 397 Planck clusters\n",
    "# Import these in and see how many lie in the mask\n",
    "\n",
    "\n",
    "pl_amf_5arcmin = np.loadtxt('/Users/pancham/Documents/Research/catalogs/planck_amf_match_5arcmin.dat')\n",
    "pl_amf_5arcmin_ra = pd.Series(pl_amf_5arcmin[:,1],name='RA')\n",
    "pl_amf_5arcmin_dec = pd.Series(pl_amf_5arcmin[:,2],name='Dec')\n",
    "df_pl_amf_5arcmin = pd.concat([pl_amf_5arcmin_dec,pl_amf_5arcmin_ra],axis=1)\n",
    "df_pl_amf_5arcmin.head()"
   ]
  },
  {
   "cell_type": "code",
   "execution_count": null,
   "metadata": {},
   "outputs": [],
   "source": [
    "c11=SkyCoord(df_pl_amf_5arcmin['RA'],df_pl_amf_5arcmin['Dec'],frame='icrs',unit='deg')\n",
    "c11 = c11.galactic\n",
    "df_pl_amf_5arcmin['b'] = c11.b.degree\n",
    "df_pl_amf_5arcmin['l'] = c11.l.degree\n",
    "df_pl_amf_5arcmin.head()"
   ]
  },
  {
   "cell_type": "code",
   "execution_count": null,
   "metadata": {
    "collapsed": true
   },
   "outputs": [],
   "source": [
    "pl_amf_5arcmin_pixvals = blToIndex(df_pl_amf_5arcmin['b'],df_pl_amf_5arcmin['l'])"
   ]
  },
  {
   "cell_type": "code",
   "execution_count": null,
   "metadata": {},
   "outputs": [],
   "source": [
    "pl_amf_5arcmin_sn_arr = np.zeros(Npix)\n",
    "for i in pl_amf_5arcmin_pixvals:\n",
    "    pl_amf_5arcmin_sn_arr[i] = sn_masked[i]"
   ]
  },
  {
   "cell_type": "code",
   "execution_count": null,
   "metadata": {},
   "outputs": [],
   "source": [
    "len(pl_amf_5arcmin_sn_arr[pl_amf_5arcmin_sn_arr>4.0])"
   ]
  },
  {
   "cell_type": "code",
   "execution_count": null,
   "metadata": {},
   "outputs": [],
   "source": [
    "len(pl_amf_5arcmin_sn_arr)"
   ]
  },
  {
   "cell_type": "code",
   "execution_count": null,
   "metadata": {},
   "outputs": [],
   "source": [
    "len(amfext_sn_arr)"
   ]
  },
  {
   "cell_type": "code",
   "execution_count": null,
   "metadata": {},
   "outputs": [],
   "source": [
    "lst1 = list(pl_amf_5arcmin_pixvals)"
   ]
  },
  {
   "cell_type": "code",
   "execution_count": null,
   "metadata": {},
   "outputs": [],
   "source": [
    "lst2 = list(pixlist_amfext_sngt4)"
   ]
  },
  {
   "cell_type": "code",
   "execution_count": null,
   "metadata": {},
   "outputs": [],
   "source": [
    "lst3 = [x for x in lst2 if x in lst1]"
   ]
  },
  {
   "cell_type": "code",
   "execution_count": null,
   "metadata": {},
   "outputs": [],
   "source": [
    "len(lst3) #Might be too strict, we want to match positions in ra,dec or b,l, not pixvals"
   ]
  },
  {
   "cell_type": "code",
   "execution_count": null,
   "metadata": {},
   "outputs": [],
   "source": [
    "lst4 = hp.get_all_neighbours(2048,pixlist_amfext_sngt4)\n",
    "#lst5 = hp.get_all_neighbours(2048,pl_amf_5arcmin_pixvals)\n",
    "lst5 = pl_amf_5arcmin_pixvals\n"
   ]
  },
  {
   "cell_type": "code",
   "execution_count": null,
   "metadata": {},
   "outputs": [],
   "source": [
    "set4 = set(list(np.reshape(lst4,(16176,))))\n",
    "set5 = set(lst5)"
   ]
  },
  {
   "cell_type": "code",
   "execution_count": null,
   "metadata": {},
   "outputs": [],
   "source": [
    "len(set4 & set5)"
   ]
  },
  {
   "cell_type": "code",
   "execution_count": null,
   "metadata": {
    "collapsed": true
   },
   "outputs": [],
   "source": [
    "from astropy import units as u\n",
    "from astropy.coordinates import SkyCoord,Galactic,FK5\n",
    "from astropy.table import Table"
   ]
  },
  {
   "cell_type": "code",
   "execution_count": null,
   "metadata": {
    "collapsed": true
   },
   "outputs": [],
   "source": []
  },
  {
   "cell_type": "code",
   "execution_count": null,
   "metadata": {},
   "outputs": [],
   "source": [
    "len(pixlist_amfext_sngt4)"
   ]
  },
  {
   "cell_type": "code",
   "execution_count": null,
   "metadata": {},
   "outputs": [],
   "source": [
    "pixlist_amfext_sngt4[:5]"
   ]
  },
  {
   "cell_type": "code",
   "execution_count": null,
   "metadata": {},
   "outputs": [],
   "source": [
    "amfext_bvals = IndexTobl(pixlist_amfext_sngt4)[0] #This gives the b,l of the index val, we want to convert this to RA,Dec\n",
    "amfext_lvals = IndexTobl(pixlist_amfext_sngt4)[1]\n",
    "\n"
   ]
  },
  {
   "cell_type": "code",
   "execution_count": null,
   "metadata": {},
   "outputs": [],
   "source": [
    "amfext_bvals #b values for amf_ext clusters with sn>4 in the masked area\n"
   ]
  },
  {
   "cell_type": "code",
   "execution_count": null,
   "metadata": {},
   "outputs": [],
   "source": [
    "amfext_sngt4_b = pd.Series(amfext_lvals,name='l')\n",
    "amfext_sngt4_l = pd.Series(amfext_bvals,name='b')\n",
    "df_amfext_sngt4 = pd.concat([amfext_sngt4_l,amfext_sngt4_b],axis=1)\n",
    "df_amfext_sngt4.head()"
   ]
  },
  {
   "cell_type": "code",
   "execution_count": null,
   "metadata": {},
   "outputs": [],
   "source": [
    "sc = SkyCoord( l=df_amfext_sngt4['l'],b=df_amfext_sngt4['b'], frame='galactic', unit='deg')\n",
    "df_amfext_sngt4['RA'] = sc.transform_to('fk5').ra.degree\n",
    "df_amfext_sngt4['Dec']=sc.transform_to('fk5').dec.degree\n",
    "df_amfext_sngt4.head()"
   ]
  },
  {
   "cell_type": "code",
   "execution_count": null,
   "metadata": {
    "collapsed": true
   },
   "outputs": [],
   "source": [
    "df_amfext_sngt4.to_csv('amfext_sngt4.dat',index=False,header=False)"
   ]
  },
  {
   "cell_type": "code",
   "execution_count": null,
   "metadata": {
    "collapsed": true
   },
   "outputs": [],
   "source": []
  }
 ],
 "metadata": {
  "anaconda-cloud": {},
  "kernelspec": {
   "display_name": "Python 3",
   "language": "python",
   "name": "python3"
  },
  "language_info": {
   "codemirror_mode": {
    "name": "ipython",
    "version": 3
   },
   "file_extension": ".py",
   "mimetype": "text/x-python",
   "name": "python",
   "nbconvert_exporter": "python",
   "pygments_lexer": "ipython3",
   "version": "3.6.5"
  }
 },
 "nbformat": 4,
 "nbformat_minor": 2
}
